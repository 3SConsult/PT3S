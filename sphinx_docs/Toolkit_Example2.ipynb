{
 "cells": [
  {
   "cell_type": "markdown",
   "id": "3255a10d-c878-414b-adf8-3a0783370118",
   "metadata": {},
   "source": [
    "# Toolkit Example2: Inserting Nodes and Pipes"
   ]
  },
  {
   "cell_type": "raw",
   "id": "f6c53a45-cc22-45fe-a057-ccccf1b875d9",
   "metadata": {},
   "source": [
    "This example demonstrates how to insert nodes and pipes into a SIR 3S model using Toolkit commands."
   ]
  },
  {
   "cell_type": "markdown",
   "id": "b8f35041-1c2c-4afb-841d-e0b3db4b2064",
   "metadata": {},
   "source": [
    "# Imports"
   ]
  },
  {
   "cell_type": "code",
   "execution_count": 153,
   "id": "327b9db5-bdf5-46af-ba34-723f5c62003f",
   "metadata": {},
   "outputs": [],
   "source": [
    "import clr as net"
   ]
  },
  {
   "cell_type": "code",
   "execution_count": 154,
   "id": "b89e349b-b955-4dfd-8a6a-77ebd0b4540c",
   "metadata": {},
   "outputs": [],
   "source": [
    "import pandas as pd\n",
    "import matplotlib.pyplot as plt"
   ]
  },
  {
   "cell_type": "code",
   "execution_count": 155,
   "id": "a99bd291-8235-46ce-9ae5-83e712dd247b",
   "metadata": {},
   "outputs": [],
   "source": [
    "import PythonWrapperToolkit"
   ]
  },
  {
   "cell_type": "code",
   "execution_count": 156,
   "id": "670648cf-ef51-4ff2-8e37-9733b981e6f0",
   "metadata": {},
   "outputs": [],
   "source": [
    "from PythonWrapperToolkit import SIR3S_Model, SIR3S_View"
   ]
  },
  {
   "cell_type": "code",
   "execution_count": 157,
   "id": "4536b902-88fb-445b-964a-4ab339e0c079",
   "metadata": {},
   "outputs": [
    {
     "data": {
      "text/plain": [
       "<System.Reflection.RuntimeAssembly object at 0x0000029E55270540>"
      ]
     },
     "execution_count": 157,
     "metadata": {},
     "output_type": "execute_result"
    }
   ],
   "source": [
    "net.AddReference(r\"C:\\3S\\SIR 3S Entwicklung\\SirGraf-90-15-00-04x64\\Sir3S_Repository.Interfaces.dll\")"
   ]
  },
  {
   "cell_type": "code",
   "execution_count": 158,
   "id": "83762da1-b7c9-4f00-a408-af082b1fb120",
   "metadata": {},
   "outputs": [],
   "source": [
    "import Sir3S_Repository.Interfaces as Interfaces"
   ]
  },
  {
   "cell_type": "markdown",
   "id": "2fbdef1c-62b9-4ba1-93ee-345d52120021",
   "metadata": {},
   "source": [
    "# Instance"
   ]
  },
  {
   "cell_type": "code",
   "execution_count": 159,
   "id": "05dad785-a2a0-4bf9-b958-0f0c9feb4566",
   "metadata": {},
   "outputs": [
    {
     "name": "stdout",
     "output_type": "stream",
     "text": [
      "Initialization complete\n"
     ]
    }
   ],
   "source": [
    "instance = PythonWrapperToolkit.SIR3S_Model()"
   ]
  },
  {
   "cell_type": "code",
   "execution_count": 160,
   "id": "2e7378a5-4a23-4ad9-bd41-b87ea82093f6",
   "metadata": {},
   "outputs": [
    {
     "name": "stdout",
     "output_type": "stream",
     "text": [
      "New model is created with the model identifier: M-10-0-1\n"
     ]
    }
   ],
   "source": [
    "# It does not seem to work to create completeley new files. So create an empty file with Sir3S and then use this function with the path to this file.\n",
    "instance.NewModel(dbName=r\"C:\\Users\\jablonski\\3S\\Toolkit_WorkPackage\\Examples\\test.db3\", \n",
    "                   providerType=Interfaces.SirDBProviderType.SQLite, \n",
    "                   namedInstance=\"\", \n",
    "                   netType=Interfaces.NetworkType.DistrictHeating,\n",
    "                   modelDescription=\"Testing Toolkit\",\n",
    "                   userID=\"\", \n",
    "                   password=\"\")"
   ]
  },
  {
   "cell_type": "code",
   "execution_count": 161,
   "id": "2c450964-57bd-49ea-9cb2-e56ff444cebb",
   "metadata": {},
   "outputs": [
    {
     "name": "stdout",
     "output_type": "stream",
     "text": [
      "DistrictHeating\n"
     ]
    }
   ],
   "source": [
    "print(instance.GetNetworkType())"
   ]
  },
  {
   "cell_type": "code",
   "execution_count": 162,
   "id": "3470d072-0ca1-46e1-9559-8d10961f82fa",
   "metadata": {},
   "outputs": [],
   "source": [
    "Tk_list = instance.GetTksofElementType(Interfaces.Sir3SObjectTypes.Node)"
   ]
  },
  {
   "cell_type": "code",
   "execution_count": 163,
   "id": "2f83d3da-6e48-41a2-9b0c-c85e9997326c",
   "metadata": {},
   "outputs": [
    {
     "data": {
      "text/plain": [
       "[]"
      ]
     },
     "execution_count": 163,
     "metadata": {},
     "output_type": "execute_result"
    }
   ],
   "source": [
    "Tk_list"
   ]
  },
  {
   "cell_type": "code",
   "execution_count": 164,
   "id": "3c4d86a1-f4f8-45f2-90ee-236738eba5d9",
   "metadata": {},
   "outputs": [],
   "source": [
    "#dir(Interfaces.Sir3SObjectTypes)"
   ]
  },
  {
   "cell_type": "markdown",
   "id": "42d781c0-0951-450c-9158-53d289760a30",
   "metadata": {},
   "source": [
    "# Insert Nodes"
   ]
  },
  {
   "cell_type": "markdown",
   "id": "89ae4c5b-cb19-460f-a65b-f2fdddf3dc90",
   "metadata": {},
   "source": [
    "## 1 "
   ]
  },
  {
   "cell_type": "code",
   "execution_count": 253,
   "id": "1b8be255-4d49-4b2a-9c34-71d6e143e3c7",
   "metadata": {},
   "outputs": [
    {
     "name": "stdout",
     "output_type": "stream",
     "text": [
      "Now you can make changes to the model\n"
     ]
    }
   ],
   "source": [
    "instance.StartEditSession(\"First Node\")"
   ]
  },
  {
   "cell_type": "code",
   "execution_count": 254,
   "id": "3b47f568-c9a8-4a8c-afc9-f111cc85b9ee",
   "metadata": {},
   "outputs": [
    {
     "name": "stdout",
     "output_type": "stream",
     "text": [
      "Element inserted successfully into the model with Tk: 4635602303058974239\n"
     ]
    }
   ],
   "source": [
    "node1 = instance.InsertElement(ElementType=Interfaces.Sir3SObjectTypes.Node)"
   ]
  },
  {
   "cell_type": "code",
   "execution_count": 255,
   "id": "d31f5f8a-ab2c-4583-b601-92f6844c6032",
   "metadata": {},
   "outputs": [
    {
     "name": "stdout",
     "output_type": "stream",
     "text": [
      "Edit Session has ended. Please open up a new session if you want to make further changes\n"
     ]
    }
   ],
   "source": [
    "instance.EndEditSession()"
   ]
  },
  {
   "cell_type": "code",
   "execution_count": 247,
   "id": "39546b30-dfef-4751-967a-14ae523efb90",
   "metadata": {},
   "outputs": [
    {
     "name": "stdout",
     "output_type": "stream",
     "text": [
      "Changes saved successfully\n"
     ]
    }
   ],
   "source": [
    "instance.SaveChanges()"
   ]
  },
  {
   "cell_type": "code",
   "execution_count": 248,
   "id": "4cd8d2b1-d8bd-4c18-8115-ffdbaf3a0523",
   "metadata": {},
   "outputs": [
    {
     "name": "stdout",
     "output_type": "stream",
     "text": [
      "Value is set\n"
     ]
    }
   ],
   "source": [
    "instance.SetValue(node1, 'Xkor', '1000')"
   ]
  },
  {
   "cell_type": "code",
   "execution_count": 233,
   "id": "07c37c8a-4fd1-4b4a-b45a-9ca738ac12ab",
   "metadata": {},
   "outputs": [
    {
     "name": "stdout",
     "output_type": "stream",
     "text": [
      "Value is set\n"
     ]
    }
   ],
   "source": [
    "instance.SetValue(node1, 'Ykor', '0')"
   ]
  },
  {
   "cell_type": "markdown",
   "id": "d6e7a1e1-30c7-41bf-8919-17c0f2fe8a2a",
   "metadata": {},
   "source": [
    "## rest 2-6"
   ]
  },
  {
   "cell_type": "code",
   "execution_count": 234,
   "id": "26b1c946-0496-4531-ae1f-e32befa1cbf0",
   "metadata": {},
   "outputs": [
    {
     "name": "stdout",
     "output_type": "stream",
     "text": [
      "Element inserted successfully into the model with Tk: 5381545773750123212\n",
      "Value is set\n",
      "Value is set\n",
      "Element inserted successfully into the model with Tk: 5571777151213780228\n",
      "Value is set\n",
      "Value is set\n",
      "Element inserted successfully into the model with Tk: 5206013256885604410\n",
      "Value is set\n",
      "Value is set\n",
      "Element inserted successfully into the model with Tk: 5311145548150434357\n",
      "Value is set\n",
      "Value is set\n",
      "Element inserted successfully into the model with Tk: 4887513913010531828\n",
      "Value is set\n",
      "Value is set\n"
     ]
    }
   ],
   "source": [
    "# Create and place the second node\n",
    "node2 = instance.InsertElement(ElementType=Interfaces.Sir3SObjectTypes.Node)\n",
    "instance.SetValue(node2, 'Xkor', '1000')\n",
    "instance.SetValue(node2, 'Ykor', '0')\n",
    "\n",
    "# Create and place the third node\n",
    "node3 = instance.InsertElement(ElementType=Interfaces.Sir3SObjectTypes.Node)\n",
    "instance.SetValue(node3, 'Xkor', '1250')\n",
    "instance.SetValue(node3, 'Ykor', '250')\n",
    "\n",
    "# Create and place the fourth node\n",
    "node4 = instance.InsertElement(ElementType=Interfaces.Sir3SObjectTypes.Node)\n",
    "instance.SetValue(node4, 'Xkor', '1250')\n",
    "instance.SetValue(node4, 'Ykor', '-250')\n",
    "\n",
    "# Create and place the fifth node\n",
    "node5 = instance.InsertElement(ElementType=Interfaces.Sir3SObjectTypes.Node)\n",
    "instance.SetValue(node5, 'Xkor', '1500')\n",
    "instance.SetValue(node5, 'Ykor', '0')\n",
    "\n",
    "# Create and place the sixth node\n",
    "node6 = instance.InsertElement(ElementType=Interfaces.Sir3SObjectTypes.Node)\n",
    "instance.SetValue(node6, 'Xkor', '2500')\n",
    "instance.SetValue(node6, 'Ykor', '0')"
   ]
  },
  {
   "cell_type": "code",
   "execution_count": 208,
   "id": "757c5ccd-5578-46a5-8a7c-cf6eddc0b36b",
   "metadata": {},
   "outputs": [
    {
     "data": {
      "text/plain": [
       "('', '')"
      ]
     },
     "execution_count": 208,
     "metadata": {},
     "output_type": "execute_result"
    }
   ],
   "source": [
    "instance.GetValue('5656525833607346276', 'Xkor')"
   ]
  },
  {
   "cell_type": "markdown",
   "id": "246322bf-6751-4231-b419-2f414597abed",
   "metadata": {},
   "source": [
    "# Insert Pipes"
   ]
  },
  {
   "cell_type": "code",
   "execution_count": 173,
   "id": "1a814c7a-b4de-4990-a0a2-e58cf9588958",
   "metadata": {},
   "outputs": [
    {
     "name": "stdout",
     "output_type": "stream",
     "text": [
      "Element inserted successfully into the model with Tk: 4703320049260449960\n",
      "Objects connected successfully\n",
      "Element inserted successfully into the model with Tk: 5654619806113863034\n",
      "Objects connected successfully\n",
      "Element inserted successfully into the model with Tk: 5159071310536975462\n",
      "Objects connected successfully\n",
      "Element inserted successfully into the model with Tk: 5260457564590336205\n",
      "Objects connected successfully\n",
      "Element inserted successfully into the model with Tk: 5528447387040731047\n",
      "Objects connected successfully\n",
      "Element inserted successfully into the model with Tk: 4642242047456029807\n",
      "Objects connected successfully\n",
      "Element inserted successfully into the model with Tk: 5360044623705540517\n",
      "Objects connected successfully\n"
     ]
    }
   ],
   "source": [
    "# Create pipes and connect them to nodes\n",
    "pipe1 = instance.InsertElement(ElementType=Interfaces.Sir3SObjectTypes.Pipe)\n",
    "instance.ConnectConnectingElementWithNodes(pipe1, node1, node2)\n",
    "\n",
    "pipe2 = instance.InsertElement(ElementType=Interfaces.Sir3SObjectTypes.Pipe)\n",
    "instance.ConnectConnectingElementWithNodes(pipe2, node2, node3)\n",
    "\n",
    "pipe3 = instance.InsertElement(ElementType=Interfaces.Sir3SObjectTypes.Pipe)\n",
    "instance.ConnectConnectingElementWithNodes(pipe3, node2, node4)\n",
    "\n",
    "pipe4 = instance.InsertElement(ElementType=Interfaces.Sir3SObjectTypes.Pipe)\n",
    "instance.ConnectConnectingElementWithNodes(pipe4, node3, node4)\n",
    "\n",
    "pipe5 = instance.InsertElement(ElementType=Interfaces.Sir3SObjectTypes.Pipe)\n",
    "instance.ConnectConnectingElementWithNodes(pipe5, node3, node5)\n",
    "\n",
    "pipe6 = instance.InsertElement(ElementType=Interfaces.Sir3SObjectTypes.Pipe)\n",
    "instance.ConnectConnectingElementWithNodes(pipe6, node4, node5)\n",
    "\n",
    "pipe7 = instance.InsertElement(ElementType=Interfaces.Sir3SObjectTypes.Pipe)\n",
    "instance.ConnectConnectingElementWithNodes(pipe7, node5, node6)"
   ]
  },
  {
   "cell_type": "markdown",
   "id": "9073b8bf-bede-4092-942a-e09602ff6989",
   "metadata": {},
   "source": [
    "### Randbedingung"
   ]
  },
  {
   "cell_type": "code",
   "execution_count": null,
   "id": "0013edb3-bf67-419c-88b1-cbacaed40e9b",
   "metadata": {},
   "outputs": [],
   "source": []
  },
  {
   "cell_type": "markdown",
   "id": "c8cf115a-9c3d-4338-8998-9f721f3bb71f",
   "metadata": {},
   "source": [
    "# Save"
   ]
  },
  {
   "cell_type": "code",
   "execution_count": 27,
   "id": "586a0766-5573-4021-9e55-d696a8ece569",
   "metadata": {},
   "outputs": [
    {
     "name": "stdout",
     "output_type": "stream",
     "text": [
      "Changes saved successfully\n"
     ]
    }
   ],
   "source": [
    "instance.SaveChanges()"
   ]
  },
  {
   "cell_type": "code",
   "execution_count": 28,
   "id": "44c90c18-0a95-4a9b-b819-13537ba02a33",
   "metadata": {},
   "outputs": [
    {
     "name": "stdout",
     "output_type": "stream",
     "text": [
      "Model Calculation is complete\n"
     ]
    }
   ],
   "source": [
    "instance.ExecCalculation(waitForSirCalcToExit=True)"
   ]
  },
  {
   "cell_type": "code",
   "execution_count": 1,
   "id": "38d98d7e-aa44-4b0f-ac34-edaf37e8be82",
   "metadata": {},
   "outputs": [],
   "source": [
    "#instance.GetPropertiesofElementType(Interfaces.Sir3SObjectTypes.Pipe)"
   ]
  },
  {
   "cell_type": "code",
   "execution_count": 2,
   "id": "0203792a-57f1-4e1d-984a-40ae29b4af87",
   "metadata": {},
   "outputs": [],
   "source": [
    "#instance.GetPropertiesofElementType(Interfaces.Sir3SObjectTypes.Node)"
   ]
  }
 ],
 "metadata": {
  "kernelspec": {
   "display_name": "Python 3 (ipykernel)",
   "language": "python",
   "name": "python3"
  },
  "language_info": {
   "codemirror_mode": {
    "name": "ipython",
    "version": 3
   },
   "file_extension": ".py",
   "mimetype": "text/x-python",
   "name": "python",
   "nbconvert_exporter": "python",
   "pygments_lexer": "ipython3",
   "version": "3.11.8"
  }
 },
 "nbformat": 4,
 "nbformat_minor": 5
}
