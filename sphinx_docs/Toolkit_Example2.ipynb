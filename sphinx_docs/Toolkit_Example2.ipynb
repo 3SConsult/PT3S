{
 "cells": [
  {
   "cell_type": "markdown",
   "id": "3255a10d-c878-414b-adf8-3a0783370118",
   "metadata": {},
   "source": [
    "# Toolkit Example2: Create new model with nodes and pipes and calculate it."
   ]
  },
  {
   "cell_type": "raw",
   "id": "f6c53a45-cc22-45fe-a057-ccccf1b875d9",
   "metadata": {},
   "source": [
    "This example demonstrates how to insert nodes and pipes into a SIR 3S model using Toolkit commands. Afterwards, the model's state is calculated."
   ]
  },
  {
   "cell_type": "markdown",
   "id": "b8f35041-1c2c-4afb-841d-e0b3db4b2064",
   "metadata": {},
   "source": [
    "# Imports"
   ]
  },
  {
   "cell_type": "code",
   "execution_count": 1,
   "id": "3ba9e806-6d7f-4d3e-acda-05a350ec99fd",
   "metadata": {},
   "outputs": [],
   "source": [
    "import re"
   ]
  },
  {
   "cell_type": "code",
   "execution_count": 2,
   "id": "cca2979d-39ce-4493-b068-45dba749a635",
   "metadata": {},
   "outputs": [],
   "source": [
    "import os"
   ]
  },
  {
   "cell_type": "code",
   "execution_count": 3,
   "id": "327b9db5-bdf5-46af-ba34-723f5c62003f",
   "metadata": {},
   "outputs": [],
   "source": [
    "import clr as net"
   ]
  },
  {
   "cell_type": "code",
   "execution_count": 4,
   "id": "b89e349b-b955-4dfd-8a6a-77ebd0b4540c",
   "metadata": {},
   "outputs": [],
   "source": [
    "import xml.etree.ElementTree as ET\n",
    "import pandas as pd\n",
    "import matplotlib.pyplot as plt"
   ]
  },
  {
   "cell_type": "code",
   "execution_count": 5,
   "id": "b09306e4-689e-4736-b7a1-0d4db58136a6",
   "metadata": {},
   "outputs": [],
   "source": [
    "import random"
   ]
  },
  {
   "cell_type": "code",
   "execution_count": 6,
   "id": "a99bd291-8235-46ce-9ae5-83e712dd247b",
   "metadata": {},
   "outputs": [],
   "source": [
    "import PythonWrapperToolkit"
   ]
  },
  {
   "cell_type": "code",
   "execution_count": 7,
   "id": "670648cf-ef51-4ff2-8e37-9733b981e6f0",
   "metadata": {},
   "outputs": [],
   "source": [
    "from PythonWrapperToolkit import SIR3S_Model, SIR3S_View"
   ]
  },
  {
   "cell_type": "code",
   "execution_count": 8,
   "id": "4536b902-88fb-445b-964a-4ab339e0c079",
   "metadata": {},
   "outputs": [
    {
     "data": {
      "text/plain": [
       "<System.Reflection.RuntimeAssembly object at 0x0000026B4A67AF40>"
      ]
     },
     "execution_count": 8,
     "metadata": {},
     "output_type": "execute_result"
    }
   ],
   "source": [
    "net.AddReference(r\"C:\\3S\\SIR 3S Entwicklung\\SirGraf-90-15-00-04x64\\Sir3S_Repository.Interfaces.dll\")"
   ]
  },
  {
   "cell_type": "code",
   "execution_count": 9,
   "id": "83762da1-b7c9-4f00-a408-af082b1fb120",
   "metadata": {},
   "outputs": [],
   "source": [
    "import Sir3S_Repository.Interfaces as Interfaces"
   ]
  },
  {
   "cell_type": "markdown",
   "id": "2fbdef1c-62b9-4ba1-93ee-345d52120021",
   "metadata": {},
   "source": [
    "# Instance"
   ]
  },
  {
   "cell_type": "code",
   "execution_count": 10,
   "id": "05dad785-a2a0-4bf9-b958-0f0c9feb4566",
   "metadata": {},
   "outputs": [
    {
     "name": "stdout",
     "output_type": "stream",
     "text": [
      "Initialization complete\n"
     ]
    }
   ],
   "source": [
    "instance = PythonWrapperToolkit.SIR3S_Model()"
   ]
  },
  {
   "cell_type": "code",
   "execution_count": 11,
   "id": "d3e49ef8-ab66-4702-bf86-f58d2ac192ed",
   "metadata": {},
   "outputs": [],
   "source": [
    "# file path\n",
    "try:\n",
    "    from PT3S import dxAndMxHelperFcts\n",
    "except:\n",
    "    import dxAndMxHelperFcts\n",
    "dbFilename=\"New_Toolkit_Example10\"\n",
    "dbFile=os.path.join(os.path.dirname(os.path.abspath(dxAndMxHelperFcts.__file__))\n",
    "                    +'/Examples'\n",
    "                    +'/Toolkit_Created_Models/'\n",
    "                    +dbFilename\n",
    "                    +'.db3'\n",
    ")"
   ]
  },
  {
   "cell_type": "code",
   "execution_count": 12,
   "id": "2e7378a5-4a23-4ad9-bd41-b87ea82093f6",
   "metadata": {},
   "outputs": [
    {
     "name": "stdout",
     "output_type": "stream",
     "text": [
      "New model is created with the model identifier: M-1-0-1\n"
     ]
    }
   ],
   "source": [
    "instance.NewModel(dbName=dbFile, \n",
    "                           providerType=Interfaces.SirDBProviderType.SQLite, \n",
    "                           namedInstance=\"\", \n",
    "                           netType=Interfaces.NetworkType.DistrictHeating,\n",
    "                           modelDescription=\"Testing Toolkit\",\n",
    "                           userID=\"\", \n",
    "                           password=\"\")"
   ]
  },
  {
   "cell_type": "code",
   "execution_count": 13,
   "id": "1ce080b1-f0de-4ad9-bd18-36650d45a19b",
   "metadata": {},
   "outputs": [],
   "source": [
    "n = \"1\" #model identifier number"
   ]
  },
  {
   "cell_type": "code",
   "execution_count": 14,
   "id": "5f5e6b36-553d-4ab1-8a41-cea9c10d14c4",
   "metadata": {},
   "outputs": [],
   "source": [
    "#Ensure there are no prior nodes/pipes\n",
    "def wipe_elements(instance):\n",
    "    # Get lists of node and pipe IDs\n",
    "    node_tks = instance.GetTksofElementType(ElementType=Interfaces.Sir3SObjectTypes.Node)\n",
    "    pipe_tks = instance.GetTksofElementType(ElementType=Interfaces.Sir3SObjectTypes.Pipe)\n",
    "    \n",
    "    # Delete all nodes\n",
    "    for node_tk in node_tks:\n",
    "        instance.DeleteElement(node_tk)\n",
    "    \n",
    "    # Delete all pipes\n",
    "    for pipe_tk in pipe_tks:\n",
    "        instance.DeleteElement(pipe_tk)\n",
    "\n",
    "wipe_elements(instance)"
   ]
  },
  {
   "cell_type": "code",
   "execution_count": 15,
   "id": "2c450964-57bd-49ea-9cb2-e56ff444cebb",
   "metadata": {},
   "outputs": [
    {
     "name": "stdout",
     "output_type": "stream",
     "text": [
      "DistrictHeating\n"
     ]
    }
   ],
   "source": [
    "print(instance.GetNetworkType())"
   ]
  },
  {
   "cell_type": "markdown",
   "id": "116a0b87-10aa-4fa7-a61e-ccf87ad0258c",
   "metadata": {},
   "source": [
    "# Nodes"
   ]
  },
  {
   "cell_type": "markdown",
   "id": "42d781c0-0951-450c-9158-53d289760a30",
   "metadata": {},
   "source": [
    "## Insert Nodes"
   ]
  },
  {
   "cell_type": "code",
   "execution_count": 16,
   "id": "22899981-9f92-41b2-a8b9-d39e697cff9b",
   "metadata": {},
   "outputs": [
    {
     "name": "stdout",
     "output_type": "stream",
     "text": [
      "Now you can make changes to the model\n",
      "Element inserted successfully into the model with Tk: 4882611532889607560\n",
      "Element inserted successfully into the model with Tk: 5071500025148911554\n",
      "Element inserted successfully into the model with Tk: 5378628292748087727\n",
      "Element inserted successfully into the model with Tk: 4952747004459717958\n",
      "Element inserted successfully into the model with Tk: 5456686187625453642\n",
      "Element inserted successfully into the model with Tk: 4935545660031470082\n",
      "Edit Session has ended. Please open up a new session if you want to make further changes\n",
      "Changes saved successfully\n"
     ]
    }
   ],
   "source": [
    "instance.StartEditSession(SessionName=\"Insert nodes\")\n",
    "\n",
    "node1 = instance.InsertElement(ElementType=Interfaces.Sir3SObjectTypes.Node)\n",
    "\n",
    "node2 = instance.InsertElement(ElementType=Interfaces.Sir3SObjectTypes.Node)\n",
    "\n",
    "node3 = instance.InsertElement(ElementType=Interfaces.Sir3SObjectTypes.Node)\n",
    "\n",
    "node4 = instance.InsertElement(ElementType=Interfaces.Sir3SObjectTypes.Node)\n",
    "\n",
    "node5 = instance.InsertElement(ElementType=Interfaces.Sir3SObjectTypes.Node)\n",
    "\n",
    "node6 = instance.InsertElement(ElementType=Interfaces.Sir3SObjectTypes.Node)\n",
    "\n",
    "instance.EndEditSession()\n",
    "instance.SaveChanges()"
   ]
  },
  {
   "cell_type": "code",
   "execution_count": 17,
   "id": "1e5fb502-4d6f-4ea3-9fa8-84dc1a3b7f7c",
   "metadata": {},
   "outputs": [],
   "source": [
    "node_tks=instance.GetTksofElementType(Interfaces.Sir3SObjectTypes.Node)"
   ]
  },
  {
   "cell_type": "markdown",
   "id": "dae86111-1594-4ac5-b6a1-c02c261c759f",
   "metadata": {},
   "source": [
    "## Set Coordinates"
   ]
  },
  {
   "cell_type": "code",
   "execution_count": 18,
   "id": "f8b2455b-5afc-4eb8-ac9f-e50249f6a868",
   "metadata": {},
   "outputs": [
    {
     "name": "stdout",
     "output_type": "stream",
     "text": [
      "Now you can make changes to the model\n",
      "Value is set\n",
      "Value is set\n",
      "Value is set\n",
      "Value is set\n",
      "Value is set\n",
      "Value is set\n",
      "Value is set\n",
      "Value is set\n",
      "Value is set\n",
      "Value is set\n",
      "Value is set\n",
      "Value is set\n",
      "Nothing done, because no Transaction is being in Use\n",
      "Changes saved successfully\n"
     ]
    }
   ],
   "source": [
    "instance.StartEditSession(SessionName=\"Set coords (x,y)\")\n",
    "\n",
    "instance.SetValue(node1, 'Xkor', '1000')\n",
    "instance.SetValue(node1, 'Ykor', '0')\n",
    "\n",
    "instance.SetValue(node2, 'Xkor', '1000')\n",
    "instance.SetValue(node2, 'Ykor', '0')\n",
    "\n",
    "instance.SetValue(node3, 'Xkor', '1250')\n",
    "instance.SetValue(node3, 'Ykor', '250')\n",
    "\n",
    "instance.SetValue(node4, 'Xkor', '1250')\n",
    "instance.SetValue(node4, 'Ykor', '-250')\n",
    "\n",
    "instance.SetValue(node5, 'Xkor', '1500')\n",
    "instance.SetValue(node5, 'Ykor', '0')\n",
    "\n",
    "instance.SetValue(node6, 'Xkor', '2500')\n",
    "instance.SetValue(node6, 'Ykor', '0')\n",
    "\n",
    "instance.EndEditSession()\n",
    "instance.SaveChanges()"
   ]
  },
  {
   "cell_type": "code",
   "execution_count": 19,
   "id": "52ee1549-e29a-4b25-8ed8-0b5ea4912950",
   "metadata": {},
   "outputs": [
    {
     "name": "stdout",
     "output_type": "stream",
     "text": [
      "Now you can make changes to the model\n",
      "Value is set\n",
      "Value is set\n",
      "Value is set\n",
      "Value is set\n",
      "Value is set\n",
      "Value is set\n",
      "Edit Session has ended. Please open up a new session if you want to make further changes\n",
      "Changes saved successfully\n"
     ]
    }
   ],
   "source": [
    "instance.StartEditSession(SessionName=\"Set coords (z)\")\n",
    "\n",
    "for node_tk in node_tks:\n",
    "    instance.SetValue(node_tk, \"Zkor\", \"0\")\n",
    "\n",
    "instance.EndEditSession()\n",
    "instance.SaveChanges()"
   ]
  },
  {
   "cell_type": "markdown",
   "id": "8d8aba3e-f91c-46d2-9f91-a1dda3828fa5",
   "metadata": {},
   "source": [
    "## Boundary Conditions"
   ]
  },
  {
   "cell_type": "code",
   "execution_count": 20,
   "id": "ecaa282b-a93b-4696-80da-294e8e767ccd",
   "metadata": {},
   "outputs": [
    {
     "name": "stdout",
     "output_type": "stream",
     "text": [
      "Now you can make changes to the model\n",
      "Value is set\n",
      "Value is set\n",
      "Value is set\n",
      "Value is set\n",
      "Value is set\n",
      "Value is set\n",
      "Value is set\n",
      "Value is set\n",
      "Value is set\n",
      "Edit Session has ended. Please open up a new session if you want to make further changes\n",
      "Changes saved successfully\n"
     ]
    }
   ],
   "source": [
    "instance.StartEditSession(SessionName=\"Set QmEin and PhEin\")\n",
    "\n",
    "counter=0\n",
    "\n",
    "for node_tk in node_tks:\n",
    "    if counter%2==0:\n",
    "        instance.SetValue(node_tk, \"QmEin\", str(random.randint(50, 150)))\n",
    "    else:\n",
    "        instance.SetValue(node_tk, \"Ktyp\", \"PKON\")\n",
    "        instance.SetValue(node_tk, \"bz.PhEin\", str(random.randint(5, 15))) \n",
    "    counter=counter+1\n",
    "    \n",
    "instance.EndEditSession()\n",
    "instance.SaveChanges()"
   ]
  },
  {
   "cell_type": "markdown",
   "id": "246322bf-6751-4231-b419-2f414597abed",
   "metadata": {},
   "source": [
    "# Pipes"
   ]
  },
  {
   "cell_type": "markdown",
   "id": "2390276a-7be4-4e86-88a0-8bb98c1f19b9",
   "metadata": {},
   "source": [
    "## Insert Pipes"
   ]
  },
  {
   "cell_type": "code",
   "execution_count": 21,
   "id": "1a814c7a-b4de-4990-a0a2-e58cf9588958",
   "metadata": {},
   "outputs": [
    {
     "name": "stdout",
     "output_type": "stream",
     "text": [
      "Now you can make changes to the model\n",
      "Element inserted successfully into the model with Tk: 4935448946506515837\n",
      "Objects connected successfully\n",
      "Element inserted successfully into the model with Tk: 4930991230723151317\n",
      "Objects connected successfully\n",
      "Element inserted successfully into the model with Tk: 5631170089167367859\n",
      "Objects connected successfully\n",
      "Element inserted successfully into the model with Tk: 5764360259110072221\n",
      "Objects connected successfully\n",
      "Element inserted successfully into the model with Tk: 5467820096047130415\n",
      "Objects connected successfully\n",
      "Element inserted successfully into the model with Tk: 5300239501475553134\n",
      "Objects connected successfully\n",
      "Element inserted successfully into the model with Tk: 5298148507380166178\n",
      "Objects connected successfully\n",
      "Edit Session has ended. Please open up a new session if you want to make further changes\n",
      "Changes saved successfully\n"
     ]
    }
   ],
   "source": [
    "instance.StartEditSession(SessionName=\"Insert Pipes\")\n",
    "\n",
    "pipe1 = instance.InsertElement(ElementType=Interfaces.Sir3SObjectTypes.Pipe)\n",
    "instance.ConnectConnectingElementWithNodes(pipe1, node1, node2)\n",
    "\n",
    "pipe2 = instance.InsertElement(ElementType=Interfaces.Sir3SObjectTypes.Pipe)\n",
    "instance.ConnectConnectingElementWithNodes(pipe2, node2, node3)\n",
    "\n",
    "pipe3 = instance.InsertElement(ElementType=Interfaces.Sir3SObjectTypes.Pipe)\n",
    "instance.ConnectConnectingElementWithNodes(pipe3, node2, node4)\n",
    "\n",
    "pipe4 = instance.InsertElement(ElementType=Interfaces.Sir3SObjectTypes.Pipe)\n",
    "instance.ConnectConnectingElementWithNodes(pipe4, node3, node4)\n",
    "\n",
    "pipe5 = instance.InsertElement(ElementType=Interfaces.Sir3SObjectTypes.Pipe)\n",
    "instance.ConnectConnectingElementWithNodes(pipe5, node3, node5)\n",
    "\n",
    "pipe6 = instance.InsertElement(ElementType=Interfaces.Sir3SObjectTypes.Pipe)\n",
    "instance.ConnectConnectingElementWithNodes(pipe6, node4, node5)\n",
    "\n",
    "pipe7 = instance.InsertElement(ElementType=Interfaces.Sir3SObjectTypes.Pipe)\n",
    "instance.ConnectConnectingElementWithNodes(pipe7, node5, node6)\n",
    "\n",
    "instance.EndEditSession()\n",
    "instance.SaveChanges()"
   ]
  },
  {
   "cell_type": "code",
   "execution_count": 22,
   "id": "32b0ff1e-99a0-4e70-9c84-769e7502dd71",
   "metadata": {},
   "outputs": [],
   "source": [
    "pipe_tks=instance.GetTksofElementType(Interfaces.Sir3SObjectTypes.Pipe)"
   ]
  },
  {
   "cell_type": "markdown",
   "id": "c1b271a1-976e-4908-8dbd-dbf3c3a2813a",
   "metadata": {},
   "source": [
    "## Set DN"
   ]
  },
  {
   "cell_type": "raw",
   "id": "b078ab6b-532d-46d6-80c1-90ffc71f0cde",
   "metadata": {},
   "source": [
    "The following way of setting the DN values is only a workaround. Hopefully a better way using the Toolkit can be applied in the future."
   ]
  },
  {
   "cell_type": "markdown",
   "id": "00d7dd30-e981-4fb0-8b65-4d4b054069d5",
   "metadata": {},
   "source": [
    "### Trigger First Calculation "
   ]
  },
  {
   "cell_type": "code",
   "execution_count": 23,
   "id": "ed5ddfc7-4718-482e-b8ba-43e5dd76ec77",
   "metadata": {},
   "outputs": [
    {
     "name": "stdout",
     "output_type": "stream",
     "text": [
      "Model Calculation is complete\n"
     ]
    }
   ],
   "source": [
    "instance.ExecCalculation(waitForSirCalcToExit=True) # this calculation will not be properly executed it serves to ensure a xml calculation file exists"
   ]
  },
  {
   "cell_type": "markdown",
   "id": "c2c6b376-bbf7-43cc-85b3-ce81a436f43e",
   "metadata": {},
   "source": [
    "### Read Calculation XML file"
   ]
  },
  {
   "cell_type": "code",
   "execution_count": null,
   "id": "9297e10b-9bb9-4552-b70d-223a2963c74f",
   "metadata": {},
   "outputs": [],
   "source": [
    "#could also try to read the db3 file directly"
   ]
  },
  {
   "cell_type": "code",
   "execution_count": 24,
   "id": "1b18d0a9-8e28-4f6a-ada6-4c8cc27f36b8",
   "metadata": {},
   "outputs": [],
   "source": [
    "xml_file_path = fr\"C:\\Users\\jablonski\\3S\\PT3S\\Examples\\Toolkit_Created_Models\\WD{dbFilename}\\B{n}\\V0\\BZ1\\M-{n}-0-1.XML\""
   ]
  },
  {
   "cell_type": "code",
   "execution_count": 25,
   "id": "55928309-6d99-486c-a75a-7eaaf0dc564e",
   "metadata": {},
   "outputs": [
    {
     "data": {
      "text/plain": [
       "'C:\\\\Users\\\\jablonski\\\\3S\\\\PT3S\\\\Examples\\\\Toolkit_Created_Models\\\\WDNew_Toolkit_Example10\\\\B1\\\\V0\\\\BZ1\\\\M-1-0-1.XML'"
      ]
     },
     "execution_count": 25,
     "metadata": {},
     "output_type": "execute_result"
    }
   ],
   "source": [
    "xml_file_path"
   ]
  },
  {
   "cell_type": "code",
   "execution_count": 26,
   "id": "11d09b5d-cdb9-4da3-81c5-3cd1fbb8ff83",
   "metadata": {},
   "outputs": [],
   "source": [
    "# Parse the XML file\n",
    "try:\n",
    "    tree = ET.parse(xml_file_path)\n",
    "    root = tree.getroot()\n",
    "\n",
    "    # Function to find and extract all DTRO_ROWD elements\n",
    "    def extract_table_elements(element, table_name):\n",
    "        return [child for child in element if child.tag == table_name]\n",
    "\n",
    "    # Extract all DTRO_ROWD elements\n",
    "    dtro_rowd_elements = extract_table_elements(root, \"DTRO_ROWD\")\n",
    "\n",
    "    # Convert the DTRO_ROWD elements to a pandas DataFrame\n",
    "    def elements_to_dataframe(elements):\n",
    "        if not elements:\n",
    "            print(\"The table is empty or not found.\")\n",
    "            return pd.DataFrame()\n",
    "        \n",
    "        rows = []\n",
    "        columns = list(elements[0].attrib.keys())\n",
    "        \n",
    "        for elem in elements:\n",
    "            row_data = list(elem.attrib.values())\n",
    "            rows.append(row_data)\n",
    "        \n",
    "        df = pd.DataFrame(rows, columns=columns)\n",
    "        return df\n",
    "\n",
    "    # Convert the extracted elements to a DataFrame\n",
    "    dtro_rowd_df = elements_to_dataframe(dtro_rowd_elements)\n",
    "    #print(dtro_rowd_df)\n",
    "except FileNotFoundError:\n",
    "    print(\"The specified file was not found.\")\n",
    "except ET.ParseError:\n",
    "    print(\"Error parsing the XML file.\")"
   ]
  },
  {
   "cell_type": "code",
   "execution_count": 33,
   "id": "3aeb1c44-b846-4a33-8dbf-462c482c4442",
   "metadata": {},
   "outputs": [
    {
     "data": {
      "text/html": [
       "<div>\n",
       "<style scoped>\n",
       "    .dataframe tbody tr th:only-of-type {\n",
       "        vertical-align: middle;\n",
       "    }\n",
       "\n",
       "    .dataframe tbody tr th {\n",
       "        vertical-align: top;\n",
       "    }\n",
       "\n",
       "    .dataframe thead th {\n",
       "        text-align: right;\n",
       "    }\n",
       "</style>\n",
       "<table border=\"1\" class=\"dataframe\">\n",
       "  <thead>\n",
       "    <tr style=\"text-align: right;\">\n",
       "      <th></th>\n",
       "      <th>pk</th>\n",
       "      <th>fk</th>\n",
       "      <th>tk</th>\n",
       "      <th>DN</th>\n",
       "      <th>DI</th>\n",
       "      <th>DA</th>\n",
       "      <th>S</th>\n",
       "      <th>WSTEIG</th>\n",
       "      <th>WTIEFE</th>\n",
       "      <th>KT</th>\n",
       "      <th>PN</th>\n",
       "      <th>AUSFALLZEIT</th>\n",
       "      <th>REPARATUR</th>\n",
       "      <th>REHABILITATION</th>\n",
       "    </tr>\n",
       "  </thead>\n",
       "  <tbody>\n",
       "    <tr>\n",
       "      <th>0</th>\n",
       "      <td>5654905851734594451</td>\n",
       "      <td>5089210919135952077</td>\n",
       "      <td>5654905851734594451</td>\n",
       "      <td>3</td>\n",
       "      <td>3</td>\n",
       "      <td>0</td>\n",
       "      <td>0</td>\n",
       "      <td>0</td>\n",
       "      <td>0</td>\n",
       "      <td>0</td>\n",
       "      <td>0</td>\n",
       "      <td>0</td>\n",
       "      <td>0</td>\n",
       "      <td>0</td>\n",
       "    </tr>\n",
       "    <tr>\n",
       "      <th>1</th>\n",
       "      <td>4780622551996727242</td>\n",
       "      <td>5089210919135952077</td>\n",
       "      <td>4780622551996727242</td>\n",
       "      <td>4</td>\n",
       "      <td>4</td>\n",
       "      <td>0</td>\n",
       "      <td>0</td>\n",
       "      <td>0</td>\n",
       "      <td>0</td>\n",
       "      <td>0</td>\n",
       "      <td>0</td>\n",
       "      <td>0</td>\n",
       "      <td>0</td>\n",
       "      <td>0</td>\n",
       "    </tr>\n",
       "    <tr>\n",
       "      <th>2</th>\n",
       "      <td>5632988422972004567</td>\n",
       "      <td>5089210919135952077</td>\n",
       "      <td>5632988422972004567</td>\n",
       "      <td>5</td>\n",
       "      <td>5</td>\n",
       "      <td>0</td>\n",
       "      <td>0</td>\n",
       "      <td>0</td>\n",
       "      <td>0</td>\n",
       "      <td>0</td>\n",
       "      <td>0</td>\n",
       "      <td>0</td>\n",
       "      <td>0</td>\n",
       "      <td>0</td>\n",
       "    </tr>\n",
       "    <tr>\n",
       "      <th>3</th>\n",
       "      <td>4952972020520586453</td>\n",
       "      <td>5089210919135952077</td>\n",
       "      <td>4952972020520586453</td>\n",
       "      <td>6</td>\n",
       "      <td>6</td>\n",
       "      <td>0</td>\n",
       "      <td>0</td>\n",
       "      <td>0</td>\n",
       "      <td>0</td>\n",
       "      <td>0</td>\n",
       "      <td>0</td>\n",
       "      <td>0</td>\n",
       "      <td>0</td>\n",
       "      <td>0</td>\n",
       "    </tr>\n",
       "    <tr>\n",
       "      <th>4</th>\n",
       "      <td>5138283822695505894</td>\n",
       "      <td>5089210919135952077</td>\n",
       "      <td>5138283822695505894</td>\n",
       "      <td>8</td>\n",
       "      <td>8</td>\n",
       "      <td>0</td>\n",
       "      <td>0</td>\n",
       "      <td>0</td>\n",
       "      <td>0</td>\n",
       "      <td>0</td>\n",
       "      <td>0</td>\n",
       "      <td>0</td>\n",
       "      <td>0</td>\n",
       "      <td>0</td>\n",
       "    </tr>\n",
       "  </tbody>\n",
       "</table>\n",
       "</div>"
      ],
      "text/plain": [
       "                    pk                   fk                   tk DN DI DA  S  \\\n",
       "0  5654905851734594451  5089210919135952077  5654905851734594451  3  3  0  0   \n",
       "1  4780622551996727242  5089210919135952077  4780622551996727242  4  4  0  0   \n",
       "2  5632988422972004567  5089210919135952077  5632988422972004567  5  5  0  0   \n",
       "3  4952972020520586453  5089210919135952077  4952972020520586453  6  6  0  0   \n",
       "4  5138283822695505894  5089210919135952077  5138283822695505894  8  8  0  0   \n",
       "\n",
       "  WSTEIG WTIEFE KT PN AUSFALLZEIT REPARATUR REHABILITATION  \n",
       "0      0      0  0  0           0         0              0  \n",
       "1      0      0  0  0           0         0              0  \n",
       "2      0      0  0  0           0         0              0  \n",
       "3      0      0  0  0           0         0              0  \n",
       "4      0      0  0  0           0         0              0  "
      ]
     },
     "execution_count": 33,
     "metadata": {},
     "output_type": "execute_result"
    }
   ],
   "source": [
    "dtro_rowd_df.head()"
   ]
  },
  {
   "cell_type": "code",
   "execution_count": 27,
   "id": "7333b775-1b35-4441-8582-e57d15da613e",
   "metadata": {},
   "outputs": [
    {
     "name": "stdout",
     "output_type": "stream",
     "text": [
      "Value is set\n",
      "('5654905851734594451', 'string')\n",
      "Value is set\n",
      "('5654905851734594451', 'string')\n",
      "Value is set\n",
      "('5654905851734594451', 'string')\n",
      "Value is set\n",
      "('5654905851734594451', 'string')\n",
      "Value is set\n",
      "('5654905851734594451', 'string')\n",
      "Value is set\n",
      "('5654905851734594451', 'string')\n",
      "Value is set\n",
      "('5654905851734594451', 'string')\n"
     ]
    }
   ],
   "source": [
    "for pipe_tk in pipe_tks:\n",
    "    instance.SetValue(pipe_tk, \"FkdtroRowd\", str(dtro_rowd_df.iloc[0]['pk']))\n",
    "    print(instance.GetValue(pipe_tk, \"FkdtroRowd\"))"
   ]
  },
  {
   "cell_type": "markdown",
   "id": "c8cf115a-9c3d-4338-8998-9f721f3bb71f",
   "metadata": {},
   "source": [
    "# Calculation"
   ]
  },
  {
   "cell_type": "code",
   "execution_count": 28,
   "id": "44c90c18-0a95-4a9b-b819-13537ba02a33",
   "metadata": {},
   "outputs": [
    {
     "name": "stdout",
     "output_type": "stream",
     "text": [
      "Model Calculation is complete\n"
     ]
    }
   ],
   "source": [
    "instance.ExecCalculation(waitForSirCalcToExit=True)"
   ]
  },
  {
   "cell_type": "markdown",
   "id": "06207989-0417-499d-b098-8c0cfc73e295",
   "metadata": {},
   "source": [
    "## View Calculation Results"
   ]
  },
  {
   "cell_type": "code",
   "execution_count": 29,
   "id": "1bac51ed-cf9c-4da5-b7ca-66845642ec90",
   "metadata": {},
   "outputs": [],
   "source": [
    "node_tks=instance.GetTksofElementType(Interfaces.Sir3SObjectTypes.Node)"
   ]
  },
  {
   "cell_type": "code",
   "execution_count": 30,
   "id": "898c07e2-e661-4694-87c6-8c0a2ddcf606",
   "metadata": {},
   "outputs": [],
   "source": [
    "counter=1"
   ]
  },
  {
   "cell_type": "code",
   "execution_count": 32,
   "id": "fbc98c07-3aa8-4011-b91e-d7f22ea5cac0",
   "metadata": {},
   "outputs": [
    {
     "name": "stdout",
     "output_type": "stream",
     "text": [
      "Node1: x: 1000, y: 0, PH: 1.11544E+08\n",
      "Node2: x: 1000, y: 0, PH: 7\n",
      "Node3: x: 1250, y: 250, PH: 5.398069E+07\n",
      "Node4: x: 1250, y: -250, PH: 14\n",
      "Node5: x: 1500, y: 0, PH: 5.398069E+07\n",
      "Node6: x: 2500, y: 0, PH: 8\n"
     ]
    }
   ],
   "source": [
    "for node_tk in node_tks:\n",
    "    print(f\"Node{counter}: x: {instance.GetValue(node_tk, 'Xkor')[0]}, y: {instance.GetValue(node_tk, 'Ykor')[0]}, PH: {instance.GetValue(node_tk, 'Result.PH.Value')[0]}\")\n",
    "    counter=counter+1"
   ]
  },
  {
   "cell_type": "code",
   "execution_count": null,
   "id": "14beb1ce-2e12-4632-9644-5977fc4d3038",
   "metadata": {},
   "outputs": [],
   "source": [
    "1/0"
   ]
  },
  {
   "cell_type": "markdown",
   "id": "4d391b89-4aa2-464b-b62d-5366db4526bf",
   "metadata": {},
   "source": [
    "# Reset"
   ]
  },
  {
   "cell_type": "code",
   "execution_count": null,
   "id": "90d93eb5-18c1-4b06-8692-3a4e627208b5",
   "metadata": {},
   "outputs": [],
   "source": [
    "wipe_elements(instance)"
   ]
  },
  {
   "cell_type": "code",
   "execution_count": null,
   "id": "b2c94579-572a-46e3-908e-471016236f37",
   "metadata": {},
   "outputs": [],
   "source": [
    "instance.SaveChanges()"
   ]
  },
  {
   "cell_type": "code",
   "execution_count": null,
   "id": "38d98d7e-aa44-4b0f-ac34-edaf37e8be82",
   "metadata": {},
   "outputs": [],
   "source": [
    "instance.GetPropertiesofElementType(Interfaces.Sir3SObjectTypes.Pipe)"
   ]
  },
  {
   "cell_type": "code",
   "execution_count": null,
   "id": "0203792a-57f1-4e1d-984a-40ae29b4af87",
   "metadata": {},
   "outputs": [],
   "source": [
    "instance.GetPropertiesofElementType(Interfaces.Sir3SObjectTypes.Node)"
   ]
  },
  {
   "cell_type": "code",
   "execution_count": null,
   "id": "2ee68e17-970e-4398-8c0e-b0606b20f06b",
   "metadata": {},
   "outputs": [],
   "source": [
    "pipe_tks=instance.GetTksofElementType(Interfaces.Sir3SObjectTypes.Pipe)"
   ]
  },
  {
   "cell_type": "code",
   "execution_count": null,
   "id": "e5250184-a786-4114-afcb-079a08e68824",
   "metadata": {},
   "outputs": [],
   "source": [
    "dir(Interfaces.Sir3SObjectTypes)"
   ]
  },
  {
   "cell_type": "code",
   "execution_count": null,
   "id": "ff1ebfd5-c6f7-4386-b346-55d0951b105a",
   "metadata": {},
   "outputs": [],
   "source": []
  }
 ],
 "metadata": {
  "kernelspec": {
   "display_name": "Python 3 (ipykernel)",
   "language": "python",
   "name": "python3"
  },
  "language_info": {
   "codemirror_mode": {
    "name": "ipython",
    "version": 3
   },
   "file_extension": ".py",
   "mimetype": "text/x-python",
   "name": "python",
   "nbconvert_exporter": "python",
   "pygments_lexer": "ipython3",
   "version": "3.11.8"
  }
 },
 "nbformat": 4,
 "nbformat_minor": 5
}
