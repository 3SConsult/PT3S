{
 "cells": [
  {
   "cell_type": "code",
   "execution_count": 8,
   "id": "04b02322-589b-45d8-b5c8-f830b6775d97",
   "metadata": {},
   "outputs": [],
   "source": [
    "1/0"
   ]
  },
  {
   "cell_type": "code",
   "execution_count": null,
   "id": "3aa0a4ec-e580-481e-8ecb-56530ffa3875",
   "metadata": {},
   "outputs": [],
   "source": [
    "try:\n",
    "    from PT3S import dxAndMxHelperFcts\n",
    "except:\n",
    "    import dxAndMxHelperFcts"
   ]
  },
  {
   "cell_type": "code",
   "execution_count": 2,
   "id": "fa4a6a7e-095f-427e-9409-9bd8564d6065",
   "metadata": {},
   "outputs": [],
   "source": [
    "rootdire=r\"C:\\3S\\SIR 3S\\Modelle\\Beispiele\\Wasser\\Manual\\Modellstände\\WDBeispiel_Wasser_STAND9\""
   ]
  },
  {
   "cell_type": "code",
   "execution_count": 3,
   "id": "ef8c340d-8e66-4335-ae11-3ee54c414182",
   "metadata": {},
   "outputs": [],
   "source": [
    "mx=dxAndMxHelperFcts.readMx(rootdir=rootdire)"
   ]
  },
  {
   "cell_type": "code",
   "execution_count": 4,
   "id": "2d4ffc0b-eb6a-41f2-88b1-9823901f1524",
   "metadata": {},
   "outputs": [],
   "source": [
    "df=mx.df"
   ]
  },
  {
   "cell_type": "code",
   "execution_count": 5,
   "id": "63cb6795-bcb4-40d5-a09a-703eb7219317",
   "metadata": {},
   "outputs": [
    {
     "data": {
      "text/html": [
       "<div>\n",
       "<style scoped>\n",
       "    .dataframe tbody tr th:only-of-type {\n",
       "        vertical-align: middle;\n",
       "    }\n",
       "\n",
       "    .dataframe tbody tr th {\n",
       "        vertical-align: top;\n",
       "    }\n",
       "\n",
       "    .dataframe thead th {\n",
       "        text-align: right;\n",
       "    }\n",
       "</style>\n",
       "<table border=\"1\" class=\"dataframe\">\n",
       "  <thead>\n",
       "    <tr style=\"text-align: right;\">\n",
       "      <th></th>\n",
       "      <th>ALLG~~~5219525527175995467~SNAPSHOTTYPE</th>\n",
       "      <th>ALLG~~~5219525527175995467~CVERSO</th>\n",
       "      <th>ALLG~~~5219525527175995467~EXSTAT</th>\n",
       "      <th>ALLG~~~5219525527175995467~NFEHL</th>\n",
       "      <th>ALLG~~~5219525527175995467~NWARN</th>\n",
       "      <th>ALLG~~~5219525527175995467~NMELD</th>\n",
       "      <th>ALLG~~~5219525527175995467~CPUTIME</th>\n",
       "      <th>ALLG~~~5219525527175995467~USRTIME</th>\n",
       "      <th>ALLG~~~5219525527175995467~NPGREST</th>\n",
       "      <th>ALLG~~~5219525527175995467~NETZABN</th>\n",
       "      <th>ALLG~~~5219525527175995467~NKNUV</th>\n",
       "      <th>ALLG~~~5219525527175995467~MKNUV</th>\n",
       "      <th>ALLG~~~5219525527175995467~ITERHY</th>\n",
       "      <th>ALLG~~~5219525527175995467~LFQSV</th>\n",
       "      <th>ALLG~~~5219525527175995467~JWARN</th>\n",
       "      <th>ALLG~~~5219525527175995467~NETZABNEXITS</th>\n",
       "      <th>ALLG~~~5219525527175995467~LINEPACKRATE</th>\n",
       "      <th>ALLG~~~5219525527175995467~LINEPACKGES</th>\n",
       "      <th>ALLG~~~5219525527175995467~LINEPACKGEOM</th>\n",
       "      <th>ALLG~~~5219525527175995467~RHOAV</th>\n",
       "      <th>ALLG~~~5219525527175995467~TAV</th>\n",
       "      <th>ALLG~~~5219525527175995467~PAV</th>\n",
       "      <th>ALLG~~~5219525527175995467~KNOT_PHMAX</th>\n",
       "      <th>ALLG~~~5219525527175995467~KNOT_PHMIN</th>\n",
       "      <th>ALLG~~~5219525527175995467~NETZBEZ</th>\n",
       "      <th>KNOT~K0009~~4751428491038568617~QMABS</th>\n",
       "      <th>VENT~K0006~K0004~5659089154378919131~QM</th>\n",
       "      <th>VENT~K0007~K0005~5532441131242077782~QM</th>\n",
       "      <th>KNOT~HB~~5077274757314618039~H</th>\n",
       "      <th>PUMP~K0012~K0013~4732513720405248674~N</th>\n",
       "      <th>PUMP~K0015~K0016~5721175613493243669~N</th>\n",
       "      <th>VENT~K0011~PST_out~5430537691154258843~QM</th>\n",
       "      <th>KNOT~PST_out~~5355079936656060238~PH</th>\n",
       "      <th>KNOT~PST_out~~5355079936656060238~H</th>\n",
       "      <th>KNOT~PST_in~~5363024162895498128~PH</th>\n",
       "      <th>KNOT~PST_in~~5363024162895498128~H</th>\n",
       "      <th>PUMP~K0012~K0013~4732513720405248674~DPH</th>\n",
       "      <th>PUMP~K0015~K0016~5721175613493243669~DPH</th>\n",
       "      <th>PUMP~K0012~K0013~4732513720405248674~RHO</th>\n",
       "      <th>PUMP~K0012~K0013~4732513720405248674~M</th>\n",
       "      <th>PUMP~K0012~K0013~4732513720405248674~ETA</th>\n",
       "      <th>PUMP~K0012~K0013~4732513720405248674~ETAW</th>\n",
       "      <th>PUMP~K0012~K0013~4732513720405248674~DP</th>\n",
       "      <th>PUMP~K0015~K0016~5721175613493243669~RHO</th>\n",
       "      <th>PUMP~K0015~K0016~5721175613493243669~M</th>\n",
       "      <th>PUMP~K0015~K0016~5721175613493243669~ETA</th>\n",
       "      <th>PUMP~K0015~K0016~5721175613493243669~ETAW</th>\n",
       "      <th>PUMP~K0015~K0016~5721175613493243669~DP</th>\n",
       "      <th>PUMP~K0000~K03S~5387511397874275488~RHO</th>\n",
       "      <th>PUMP~K0000~K03S~5387511397874275488~M</th>\n",
       "      <th>PUMP~K0000~K03S~5387511397874275488~N</th>\n",
       "      <th>PUMP~K0000~K03S~5387511397874275488~ETA</th>\n",
       "      <th>PUMP~K0000~K03S~5387511397874275488~ETAW</th>\n",
       "      <th>PUMP~K0000~K03S~5387511397874275488~DP</th>\n",
       "      <th>KNOT~K0011~~5471942051669438823~PH</th>\n",
       "      <th>KNOT~5143521_i~~5166327497394449628~PH</th>\n",
       "      <th>KNOT~791393_3_k~~5667818255300782920~PH</th>\n",
       "      <th>KNOT~1629686_0_i~~5262999985134416180~PH</th>\n",
       "      <th>KLAP~K0013~K0014~5303247238968995258~PHI</th>\n",
       "    </tr>\n",
       "  </thead>\n",
       "  <tbody>\n",
       "    <tr>\n",
       "      <th>2020-01-28 14:45:01+00:00</th>\n",
       "      <td>b'STAT'</td>\n",
       "      <td>b'SIR 3S 90-14-02-10 3S Consult, 30827 Garbsen - 13.06.2024 13:08 - M-1-0-1       '</td>\n",
       "      <td>0</td>\n",
       "      <td>0</td>\n",
       "      <td>0</td>\n",
       "      <td>39</td>\n",
       "      <td>0.078125</td>\n",
       "      <td>0.258995</td>\n",
       "      <td>0</td>\n",
       "      <td>38.835308</td>\n",
       "      <td>39</td>\n",
       "      <td>0.432341</td>\n",
       "      <td>8</td>\n",
       "      <td>1.0</td>\n",
       "      <td>10</td>\n",
       "      <td>27.324919</td>\n",
       "      <td>0.000000e+00</td>\n",
       "      <td>0.000000e+00</td>\n",
       "      <td>51.632679</td>\n",
       "      <td>1000.49469</td>\n",
       "      <td>0.266052</td>\n",
       "      <td>6.590578</td>\n",
       "      <td>11.213278</td>\n",
       "      <td>0.0</td>\n",
       "      <td>38.845768</td>\n",
       "      <td>11.508092</td>\n",
       "      <td>0.002525</td>\n",
       "      <td>0.002525</td>\n",
       "      <td>311.003052</td>\n",
       "      <td>2947.0</td>\n",
       "      <td>2947.0</td>\n",
       "      <td>36.702724</td>\n",
       "      <td>10.597959</td>\n",
       "      <td>326.015106</td>\n",
       "      <td>1.794172</td>\n",
       "      <td>236.286316</td>\n",
       "      <td>8.829262</td>\n",
       "      <td>8.829262</td>\n",
       "      <td>1000.299988</td>\n",
       "      <td>5.099640</td>\n",
       "      <td>0.568207</td>\n",
       "      <td>0.598112</td>\n",
       "      <td>8.829262</td>\n",
       "      <td>1000.299988</td>\n",
       "      <td>5.099640</td>\n",
       "      <td>0.568207</td>\n",
       "      <td>0.598112</td>\n",
       "      <td>8.829262</td>\n",
       "      <td>1000.299988</td>\n",
       "      <td>10.793729</td>\n",
       "      <td>1450.0</td>\n",
       "      <td>0.0375</td>\n",
       "      <td>0.039474</td>\n",
       "      <td>4.743947</td>\n",
       "      <td>10.599645</td>\n",
       "      <td>8.320659</td>\n",
       "      <td>6.477164</td>\n",
       "      <td>0.881641</td>\n",
       "      <td>56.417362</td>\n",
       "    </tr>\n",
       "    <tr>\n",
       "      <th>2020-01-28 14:45:01.004000+00:00</th>\n",
       "      <td>b'TIME'</td>\n",
       "      <td>b'SIR 3S 90-14-02-10 3S Consult, 30827 Garbsen - 13.06.2024 13:08 - M-1-0-1       '</td>\n",
       "      <td>0</td>\n",
       "      <td>0</td>\n",
       "      <td>0</td>\n",
       "      <td>0</td>\n",
       "      <td>0.093750</td>\n",
       "      <td>0.307995</td>\n",
       "      <td>0</td>\n",
       "      <td>38.835304</td>\n",
       "      <td>39</td>\n",
       "      <td>0.432340</td>\n",
       "      <td>1</td>\n",
       "      <td>1.0</td>\n",
       "      <td>10</td>\n",
       "      <td>27.324919</td>\n",
       "      <td>-1.081210e-05</td>\n",
       "      <td>-3.885097e-13</td>\n",
       "      <td>51.632679</td>\n",
       "      <td>1000.49469</td>\n",
       "      <td>0.266052</td>\n",
       "      <td>6.590578</td>\n",
       "      <td>11.213278</td>\n",
       "      <td>0.0</td>\n",
       "      <td>38.845768</td>\n",
       "      <td>11.508089</td>\n",
       "      <td>0.002525</td>\n",
       "      <td>0.002525</td>\n",
       "      <td>311.003052</td>\n",
       "      <td>2947.0</td>\n",
       "      <td>2947.0</td>\n",
       "      <td>36.702709</td>\n",
       "      <td>10.597974</td>\n",
       "      <td>326.015259</td>\n",
       "      <td>1.794170</td>\n",
       "      <td>236.286301</td>\n",
       "      <td>8.829284</td>\n",
       "      <td>8.829284</td>\n",
       "      <td>1000.299988</td>\n",
       "      <td>5.099638</td>\n",
       "      <td>0.568207</td>\n",
       "      <td>0.598113</td>\n",
       "      <td>8.829284</td>\n",
       "      <td>1000.299988</td>\n",
       "      <td>5.099638</td>\n",
       "      <td>0.568207</td>\n",
       "      <td>0.598113</td>\n",
       "      <td>8.829284</td>\n",
       "      <td>1000.299988</td>\n",
       "      <td>10.793728</td>\n",
       "      <td>1450.0</td>\n",
       "      <td>0.0375</td>\n",
       "      <td>0.039474</td>\n",
       "      <td>4.743947</td>\n",
       "      <td>10.599660</td>\n",
       "      <td>8.320659</td>\n",
       "      <td>6.477162</td>\n",
       "      <td>0.881642</td>\n",
       "      <td>56.409977</td>\n",
       "    </tr>\n",
       "    <tr>\n",
       "      <th>2020-01-28 14:45:01.008000+00:00</th>\n",
       "      <td>b'TIME'</td>\n",
       "      <td>b'SIR 3S 90-14-02-10 3S Consult, 30827 Garbsen - 13.06.2024 13:08 - M-1-0-1       '</td>\n",
       "      <td>0</td>\n",
       "      <td>0</td>\n",
       "      <td>0</td>\n",
       "      <td>0</td>\n",
       "      <td>0.093750</td>\n",
       "      <td>0.335994</td>\n",
       "      <td>0</td>\n",
       "      <td>38.835304</td>\n",
       "      <td>39</td>\n",
       "      <td>0.432340</td>\n",
       "      <td>1</td>\n",
       "      <td>1.0</td>\n",
       "      <td>10</td>\n",
       "      <td>27.324919</td>\n",
       "      <td>-1.512639e-06</td>\n",
       "      <td>-4.708875e-13</td>\n",
       "      <td>51.632679</td>\n",
       "      <td>1000.49469</td>\n",
       "      <td>0.266052</td>\n",
       "      <td>6.590578</td>\n",
       "      <td>11.213278</td>\n",
       "      <td>0.0</td>\n",
       "      <td>38.845764</td>\n",
       "      <td>11.508087</td>\n",
       "      <td>0.002525</td>\n",
       "      <td>0.002525</td>\n",
       "      <td>311.003052</td>\n",
       "      <td>2947.0</td>\n",
       "      <td>2947.0</td>\n",
       "      <td>36.702690</td>\n",
       "      <td>10.597981</td>\n",
       "      <td>326.015320</td>\n",
       "      <td>1.794170</td>\n",
       "      <td>236.286301</td>\n",
       "      <td>8.829290</td>\n",
       "      <td>8.829290</td>\n",
       "      <td>1000.299988</td>\n",
       "      <td>5.099636</td>\n",
       "      <td>0.568207</td>\n",
       "      <td>0.598113</td>\n",
       "      <td>8.829290</td>\n",
       "      <td>1000.299988</td>\n",
       "      <td>5.099636</td>\n",
       "      <td>0.568207</td>\n",
       "      <td>0.598113</td>\n",
       "      <td>8.829290</td>\n",
       "      <td>1000.299988</td>\n",
       "      <td>10.793727</td>\n",
       "      <td>1450.0</td>\n",
       "      <td>0.0375</td>\n",
       "      <td>0.039474</td>\n",
       "      <td>4.743947</td>\n",
       "      <td>10.599667</td>\n",
       "      <td>8.320660</td>\n",
       "      <td>6.477161</td>\n",
       "      <td>0.881642</td>\n",
       "      <td>56.409943</td>\n",
       "    </tr>\n",
       "    <tr>\n",
       "      <th>2020-01-28 14:45:01.012000+00:00</th>\n",
       "      <td>b'TIME'</td>\n",
       "      <td>b'SIR 3S 90-14-02-10 3S Consult, 30827 Garbsen - 13.06.2024 13:08 - M-1-0-1       '</td>\n",
       "      <td>0</td>\n",
       "      <td>0</td>\n",
       "      <td>0</td>\n",
       "      <td>0</td>\n",
       "      <td>0.109375</td>\n",
       "      <td>0.364995</td>\n",
       "      <td>0</td>\n",
       "      <td>38.835304</td>\n",
       "      <td>39</td>\n",
       "      <td>0.432340</td>\n",
       "      <td>1</td>\n",
       "      <td>1.0</td>\n",
       "      <td>10</td>\n",
       "      <td>27.324919</td>\n",
       "      <td>4.270421e-06</td>\n",
       "      <td>-1.447074e-14</td>\n",
       "      <td>51.632679</td>\n",
       "      <td>1000.49469</td>\n",
       "      <td>0.266052</td>\n",
       "      <td>6.590578</td>\n",
       "      <td>11.213278</td>\n",
       "      <td>0.0</td>\n",
       "      <td>38.845764</td>\n",
       "      <td>11.508085</td>\n",
       "      <td>0.002525</td>\n",
       "      <td>0.002525</td>\n",
       "      <td>311.003052</td>\n",
       "      <td>2947.0</td>\n",
       "      <td>2947.0</td>\n",
       "      <td>36.702675</td>\n",
       "      <td>10.597989</td>\n",
       "      <td>326.015411</td>\n",
       "      <td>1.794170</td>\n",
       "      <td>236.286301</td>\n",
       "      <td>8.829298</td>\n",
       "      <td>8.829298</td>\n",
       "      <td>1000.299988</td>\n",
       "      <td>5.099634</td>\n",
       "      <td>0.568207</td>\n",
       "      <td>0.598112</td>\n",
       "      <td>8.829298</td>\n",
       "      <td>1000.299988</td>\n",
       "      <td>5.099634</td>\n",
       "      <td>0.568207</td>\n",
       "      <td>0.598112</td>\n",
       "      <td>8.829298</td>\n",
       "      <td>1000.299988</td>\n",
       "      <td>10.793727</td>\n",
       "      <td>1450.0</td>\n",
       "      <td>0.0375</td>\n",
       "      <td>0.039474</td>\n",
       "      <td>4.743947</td>\n",
       "      <td>10.599674</td>\n",
       "      <td>8.320661</td>\n",
       "      <td>6.477160</td>\n",
       "      <td>0.881642</td>\n",
       "      <td>56.409920</td>\n",
       "    </tr>\n",
       "    <tr>\n",
       "      <th>2020-01-28 14:45:01.016000+00:00</th>\n",
       "      <td>b'TIME'</td>\n",
       "      <td>b'SIR 3S 90-14-02-10 3S Consult, 30827 Garbsen - 13.06.2024 13:08 - M-1-0-1       '</td>\n",
       "      <td>0</td>\n",
       "      <td>0</td>\n",
       "      <td>0</td>\n",
       "      <td>0</td>\n",
       "      <td>0.109375</td>\n",
       "      <td>0.385995</td>\n",
       "      <td>0</td>\n",
       "      <td>38.835300</td>\n",
       "      <td>39</td>\n",
       "      <td>0.432340</td>\n",
       "      <td>1</td>\n",
       "      <td>1.0</td>\n",
       "      <td>10</td>\n",
       "      <td>27.324919</td>\n",
       "      <td>5.702600e-07</td>\n",
       "      <td>1.027297e-12</td>\n",
       "      <td>51.632679</td>\n",
       "      <td>1000.49469</td>\n",
       "      <td>0.266052</td>\n",
       "      <td>6.590578</td>\n",
       "      <td>11.213278</td>\n",
       "      <td>0.0</td>\n",
       "      <td>38.845764</td>\n",
       "      <td>11.508083</td>\n",
       "      <td>0.002525</td>\n",
       "      <td>0.002525</td>\n",
       "      <td>311.003052</td>\n",
       "      <td>2947.0</td>\n",
       "      <td>2947.0</td>\n",
       "      <td>36.702641</td>\n",
       "      <td>10.597988</td>\n",
       "      <td>326.015381</td>\n",
       "      <td>1.794174</td>\n",
       "      <td>236.286346</td>\n",
       "      <td>8.829293</td>\n",
       "      <td>8.829293</td>\n",
       "      <td>1000.299988</td>\n",
       "      <td>5.099629</td>\n",
       "      <td>0.568207</td>\n",
       "      <td>0.598113</td>\n",
       "      <td>8.829293</td>\n",
       "      <td>1000.299988</td>\n",
       "      <td>5.099629</td>\n",
       "      <td>0.568207</td>\n",
       "      <td>0.598113</td>\n",
       "      <td>8.829293</td>\n",
       "      <td>1000.299988</td>\n",
       "      <td>10.793727</td>\n",
       "      <td>1450.0</td>\n",
       "      <td>0.0375</td>\n",
       "      <td>0.039474</td>\n",
       "      <td>4.743947</td>\n",
       "      <td>10.599673</td>\n",
       "      <td>8.320662</td>\n",
       "      <td>6.477159</td>\n",
       "      <td>0.881642</td>\n",
       "      <td>56.409859</td>\n",
       "    </tr>\n",
       "  </tbody>\n",
       "</table>\n",
       "</div>"
      ],
      "text/plain": [
       "                                 ALLG~~~5219525527175995467~SNAPSHOTTYPE                                                    ALLG~~~5219525527175995467~CVERSO  ALLG~~~5219525527175995467~EXSTAT  ALLG~~~5219525527175995467~NFEHL  ALLG~~~5219525527175995467~NWARN  ALLG~~~5219525527175995467~NMELD  ALLG~~~5219525527175995467~CPUTIME  ALLG~~~5219525527175995467~USRTIME  ALLG~~~5219525527175995467~NPGREST  ALLG~~~5219525527175995467~NETZABN  ALLG~~~5219525527175995467~NKNUV  ALLG~~~5219525527175995467~MKNUV  ALLG~~~5219525527175995467~ITERHY  ALLG~~~5219525527175995467~LFQSV  ALLG~~~5219525527175995467~JWARN  ALLG~~~5219525527175995467~NETZABNEXITS  ALLG~~~5219525527175995467~LINEPACKRATE  ALLG~~~5219525527175995467~LINEPACKGES  ALLG~~~5219525527175995467~LINEPACKGEOM  ALLG~~~5219525527175995467~RHOAV  ALLG~~~5219525527175995467~TAV  ALLG~~~5219525527175995467~PAV  ALLG~~~5219525527175995467~KNOT_PHMAX  ALLG~~~5219525527175995467~KNOT_PHMIN  ALLG~~~5219525527175995467~NETZBEZ  KNOT~K0009~~4751428491038568617~QMABS  VENT~K0006~K0004~5659089154378919131~QM  VENT~K0007~K0005~5532441131242077782~QM  KNOT~HB~~5077274757314618039~H  PUMP~K0012~K0013~4732513720405248674~N  PUMP~K0015~K0016~5721175613493243669~N  VENT~K0011~PST_out~5430537691154258843~QM  KNOT~PST_out~~5355079936656060238~PH  KNOT~PST_out~~5355079936656060238~H  KNOT~PST_in~~5363024162895498128~PH  KNOT~PST_in~~5363024162895498128~H  PUMP~K0012~K0013~4732513720405248674~DPH  PUMP~K0015~K0016~5721175613493243669~DPH  PUMP~K0012~K0013~4732513720405248674~RHO  PUMP~K0012~K0013~4732513720405248674~M  PUMP~K0012~K0013~4732513720405248674~ETA  PUMP~K0012~K0013~4732513720405248674~ETAW  PUMP~K0012~K0013~4732513720405248674~DP  PUMP~K0015~K0016~5721175613493243669~RHO  PUMP~K0015~K0016~5721175613493243669~M  PUMP~K0015~K0016~5721175613493243669~ETA  PUMP~K0015~K0016~5721175613493243669~ETAW  PUMP~K0015~K0016~5721175613493243669~DP  PUMP~K0000~K03S~5387511397874275488~RHO  PUMP~K0000~K03S~5387511397874275488~M  PUMP~K0000~K03S~5387511397874275488~N  PUMP~K0000~K03S~5387511397874275488~ETA  PUMP~K0000~K03S~5387511397874275488~ETAW  PUMP~K0000~K03S~5387511397874275488~DP  KNOT~K0011~~5471942051669438823~PH  KNOT~5143521_i~~5166327497394449628~PH  KNOT~791393_3_k~~5667818255300782920~PH  KNOT~1629686_0_i~~5262999985134416180~PH  KLAP~K0013~K0014~5303247238968995258~PHI\n",
       "2020-01-28 14:45:01+00:00                                        b'STAT'  b'SIR 3S 90-14-02-10 3S Consult, 30827 Garbsen - 13.06.2024 13:08 - M-1-0-1       '                                  0                                 0                                 0                                39                            0.078125                            0.258995                                   0                           38.835308                                39                          0.432341                                  8                               1.0                                10                                27.324919                             0.000000e+00                            0.000000e+00                                51.632679                        1000.49469                        0.266052                        6.590578                              11.213278                                    0.0                           38.845768                              11.508092                                 0.002525                                 0.002525                      311.003052                                  2947.0                                  2947.0                                  36.702724                             10.597959                           326.015106                             1.794172                          236.286316                                  8.829262                                  8.829262                               1000.299988                                5.099640                                  0.568207                                   0.598112                                 8.829262                               1000.299988                                5.099640                                  0.568207                                   0.598112                                 8.829262                              1000.299988                              10.793729                                 1450.0                                   0.0375                                  0.039474                                4.743947                           10.599645                                8.320659                                 6.477164                                  0.881641                                 56.417362\n",
       "2020-01-28 14:45:01.004000+00:00                                 b'TIME'  b'SIR 3S 90-14-02-10 3S Consult, 30827 Garbsen - 13.06.2024 13:08 - M-1-0-1       '                                  0                                 0                                 0                                 0                            0.093750                            0.307995                                   0                           38.835304                                39                          0.432340                                  1                               1.0                                10                                27.324919                            -1.081210e-05                           -3.885097e-13                                51.632679                        1000.49469                        0.266052                        6.590578                              11.213278                                    0.0                           38.845768                              11.508089                                 0.002525                                 0.002525                      311.003052                                  2947.0                                  2947.0                                  36.702709                             10.597974                           326.015259                             1.794170                          236.286301                                  8.829284                                  8.829284                               1000.299988                                5.099638                                  0.568207                                   0.598113                                 8.829284                               1000.299988                                5.099638                                  0.568207                                   0.598113                                 8.829284                              1000.299988                              10.793728                                 1450.0                                   0.0375                                  0.039474                                4.743947                           10.599660                                8.320659                                 6.477162                                  0.881642                                 56.409977\n",
       "2020-01-28 14:45:01.008000+00:00                                 b'TIME'  b'SIR 3S 90-14-02-10 3S Consult, 30827 Garbsen - 13.06.2024 13:08 - M-1-0-1       '                                  0                                 0                                 0                                 0                            0.093750                            0.335994                                   0                           38.835304                                39                          0.432340                                  1                               1.0                                10                                27.324919                            -1.512639e-06                           -4.708875e-13                                51.632679                        1000.49469                        0.266052                        6.590578                              11.213278                                    0.0                           38.845764                              11.508087                                 0.002525                                 0.002525                      311.003052                                  2947.0                                  2947.0                                  36.702690                             10.597981                           326.015320                             1.794170                          236.286301                                  8.829290                                  8.829290                               1000.299988                                5.099636                                  0.568207                                   0.598113                                 8.829290                               1000.299988                                5.099636                                  0.568207                                   0.598113                                 8.829290                              1000.299988                              10.793727                                 1450.0                                   0.0375                                  0.039474                                4.743947                           10.599667                                8.320660                                 6.477161                                  0.881642                                 56.409943\n",
       "2020-01-28 14:45:01.012000+00:00                                 b'TIME'  b'SIR 3S 90-14-02-10 3S Consult, 30827 Garbsen - 13.06.2024 13:08 - M-1-0-1       '                                  0                                 0                                 0                                 0                            0.109375                            0.364995                                   0                           38.835304                                39                          0.432340                                  1                               1.0                                10                                27.324919                             4.270421e-06                           -1.447074e-14                                51.632679                        1000.49469                        0.266052                        6.590578                              11.213278                                    0.0                           38.845764                              11.508085                                 0.002525                                 0.002525                      311.003052                                  2947.0                                  2947.0                                  36.702675                             10.597989                           326.015411                             1.794170                          236.286301                                  8.829298                                  8.829298                               1000.299988                                5.099634                                  0.568207                                   0.598112                                 8.829298                               1000.299988                                5.099634                                  0.568207                                   0.598112                                 8.829298                              1000.299988                              10.793727                                 1450.0                                   0.0375                                  0.039474                                4.743947                           10.599674                                8.320661                                 6.477160                                  0.881642                                 56.409920\n",
       "2020-01-28 14:45:01.016000+00:00                                 b'TIME'  b'SIR 3S 90-14-02-10 3S Consult, 30827 Garbsen - 13.06.2024 13:08 - M-1-0-1       '                                  0                                 0                                 0                                 0                            0.109375                            0.385995                                   0                           38.835300                                39                          0.432340                                  1                               1.0                                10                                27.324919                             5.702600e-07                            1.027297e-12                                51.632679                        1000.49469                        0.266052                        6.590578                              11.213278                                    0.0                           38.845764                              11.508083                                 0.002525                                 0.002525                      311.003052                                  2947.0                                  2947.0                                  36.702641                             10.597988                           326.015381                             1.794174                          236.286346                                  8.829293                                  8.829293                               1000.299988                                5.099629                                  0.568207                                   0.598113                                 8.829293                               1000.299988                                5.099629                                  0.568207                                   0.598113                                 8.829293                              1000.299988                              10.793727                                 1450.0                                   0.0375                                  0.039474                                4.743947                           10.599673                                8.320662                                 6.477159                                  0.881642                                 56.409859"
      ]
     },
     "execution_count": 5,
     "metadata": {},
     "output_type": "execute_result"
    }
   ],
   "source": [
    "df.head()"
   ]
  },
  {
   "cell_type": "code",
   "execution_count": null,
   "id": "b7019220-737c-4bdf-bc50-704f15718f22",
   "metadata": {},
   "outputs": [],
   "source": [
    "import inspect\n",
    "\n",
    "print(inspect.getsource(dxAndMxHelperFcts))\n"
   ]
  },
  {
   "cell_type": "code",
   "execution_count": 12,
   "id": "42cb3568-840d-45d5-853f-e809122b31f1",
   "metadata": {},
   "outputs": [
    {
     "data": {
      "text/plain": [
       "Mx.Mx"
      ]
     },
     "execution_count": 12,
     "metadata": {},
     "output_type": "execute_result"
    }
   ],
   "source": [
    "type(mx)"
   ]
  },
  {
   "cell_type": "code",
   "execution_count": 7,
   "id": "b823a598-8c82-44a9-92aa-98b7598e809f",
   "metadata": {},
   "outputs": [
    {
     "ename": "ZeroDivisionError",
     "evalue": "division by zero",
     "output_type": "error",
     "traceback": [
      "\u001b[1;31m---------------------------------------------------------------------------\u001b[0m",
      "\u001b[1;31mZeroDivisionError\u001b[0m                         Traceback (most recent call last)",
      "Cell \u001b[1;32mIn[7], line 1\u001b[0m\n\u001b[1;32m----> 1\u001b[0m \u001b[38;5;241m1\u001b[39m\u001b[38;5;241m/\u001b[39m\u001b[38;5;241m0\u001b[39m\n",
      "\u001b[1;31mZeroDivisionError\u001b[0m: division by zero"
     ]
    }
   ],
   "source": [
    "1/0"
   ]
  },
  {
   "cell_type": "markdown",
   "id": "5b12017a-3309-4d15-b091-f8419f246d87",
   "metadata": {},
   "source": [
    "In:\n",
    "\n",
    "OSM .PBF Datei (es wird die lexikalisch kleinste .PBF-Datei im Verzeichnis gewählt)\n",
    "\n",
    "Out (zum Import in SIR 3S):\n",
    "\n",
    "SHP-Dateien\n",
    "\n",
    "zugehörige SHP-Importdefinitionsdatei"
   ]
  },
  {
   "cell_type": "code",
   "execution_count": null,
   "id": "5be83804-baf3-438a-b8fb-32e29370ed05",
   "metadata": {},
   "outputs": [],
   "source": [
    "# KOS auf welches bei der Verarbeitung transformiert wird\n",
    "crs=\"EPSG:25832\""
   ]
  },
  {
   "cell_type": "code",
   "execution_count": null,
   "id": "51670d97-8e2d-4470-8ded-8b92405680ba",
   "metadata": {},
   "outputs": [],
   "source": [
    "# Verschiebung RL\n",
    "xoff=2.\n",
    "yoff=0.\n",
    "zoff=0."
   ]
  },
  {
   "cell_type": "code",
   "execution_count": null,
   "id": "6bfbb6df-b52e-40ee-ac67-0838e21d87bc",
   "metadata": {},
   "outputs": [],
   "source": [
    "try:\n",
    "    import Rm\n",
    "except:\n",
    "    from PT3S import Rm"
   ]
  },
  {
   "cell_type": "code",
   "execution_count": null,
   "id": "f0af9214-7819-4013-98ec-d53e7c13ca9d",
   "metadata": {},
   "outputs": [],
   "source": [
    "# Daten zur Hintergrundkarte\n",
    "hKartenFormat=Rm.DINA4q # Grundformat\n",
    "# Image entspricht dann in x dem vorgegebenen Grundformat\n",
    "# das Image wird in y so angepasst, dass es in x/y dem Kartenausschnitt entspricht; andernfalls haette das Image weiße Ränder\n",
    "hKartenAufloesung=2*Rm.dpiSize"
   ]
  },
  {
   "cell_type": "code",
   "execution_count": null,
   "id": "1dc48fed-b4e4-4e54-af55-8e0ce9b825bb",
   "metadata": {},
   "outputs": [],
   "source": [
    "import logging\n",
    "import sys\n",
    "import re\n",
    "import os\n",
    "import importlib\n",
    "import warnings\n",
    "import math\n",
    "\n",
    "import pandas as pd\n",
    "import geopandas\n",
    "import folium\n",
    "\n",
    "import pyrosm\n",
    "from pyrosm.data import sources\n",
    "\n",
    "from shapely import geometry, ops\n",
    "\n",
    "import matplotlib\n",
    "import matplotlib.pyplot as plt\n",
    "from matplotlib import cm\n",
    "from matplotlib.colors import ListedColormap\n",
    "import matplotlib.font_manager as font_manager\n",
    "\n",
    "import contextily as cx\n",
    "\n",
    "import numpy as np\n",
    "import shapely\n",
    "import osmnx as ox\n",
    "\n",
    "import sys\n",
    "import os\n",
    "import glob\n",
    "import re\n",
    "\n",
    "from xml.etree.ElementTree import ElementTree\n",
    "from xml.etree.ElementTree import Element\n",
    "from xml.etree.ElementTree import SubElement\n",
    "import xml.etree.ElementTree as ET\n",
    "\n",
    "from PIL import Image\n",
    "\n",
    "logFile='Planungsbeispiel.log' \n",
    "\n",
    "logging.basicConfig(filename=logFile\n",
    "                   ,filemode='w'                 \n",
    "                   ,level=logging.DEBUG\n",
    "                   ,format=\"%(asctime)s ; %(name)-60s ; %(levelname)-7s ; %(message)s\"                 \n",
    "                   )    \n",
    "\n",
    "logger = logging.getLogger()  \n",
    "\n",
    "consoleHandler = logging.StreamHandler(sys.stdout)\n",
    "consoleHandler.setFormatter(logging.Formatter(\"%(levelname)-7s ; %(message)s\"))\n",
    "consoleHandler.setLevel(logging.INFO)\n",
    "\n",
    "logger.addHandler(consoleHandler)"
   ]
  },
  {
   "cell_type": "markdown",
   "id": "a88d12ef-6fe3-4c7c-bfb3-c1328263c8e8",
   "metadata": {},
   "source": [
    "# .PBF-Datei ermitteln"
   ]
  },
  {
   "cell_type": "code",
   "execution_count": null,
   "id": "c9b81715-9c82-42a5-be74-15fc91ec5931",
   "metadata": {},
   "outputs": [],
   "source": [
    "pbfDateien=glob.glob('*.PBF')\n",
    "pbfDateien"
   ]
  },
  {
   "cell_type": "code",
   "execution_count": null,
   "id": "9d1d7541-465b-403e-bcd3-354bf015faf8",
   "metadata": {},
   "outputs": [],
   "source": [
    "if len(pbfDateien) == 0:\n",
    "    logger.error('keine PBF-Datei im Verzeichnis')\n",
    "    sys.exit(0)\n",
    "else:\n",
    "    pbfDatei=sorted(pbfDateien)[0]\n",
    "    logger.info('PBF-Datei: {:s}'.format(pbfDatei))"
   ]
  },
  {
   "cell_type": "code",
   "execution_count": null,
   "id": "c0f6ef14-c75d-4c99-a743-79315d7b0227",
   "metadata": {},
   "outputs": [],
   "source": [
    "pbfDateiHead,ext=os.path.splitext(pbfDatei)\n",
    "pbfDateiHead,ext"
   ]
  },
  {
   "cell_type": "markdown",
   "id": "c00723c1-4ca5-46e0-8e31-8f95b73c590e",
   "metadata": {},
   "source": [
    "# .PBF-Datei einlesen und sichten"
   ]
  },
  {
   "cell_type": "code",
   "execution_count": null,
   "id": "0f807b99-6d32-4b38-afbe-e530386f31a0",
   "metadata": {},
   "outputs": [],
   "source": [
    "osm = pyrosm.OSM(pbfDatei)"
   ]
  },
  {
   "cell_type": "code",
   "execution_count": null,
   "id": "204e4ac4-d37f-4da4-8763-9ee4496c223f",
   "metadata": {},
   "outputs": [],
   "source": [
    "buildings = osm.get_buildings()"
   ]
  },
  {
   "cell_type": "code",
   "execution_count": null,
   "id": "c1da9b8d-4fc6-4745-bea1-a3201173f721",
   "metadata": {},
   "outputs": [],
   "source": [
    "buildings.plot()"
   ]
  },
  {
   "cell_type": "code",
   "execution_count": null,
   "id": "eeb86479-3ed9-4951-9d9d-cc6706ba27ff",
   "metadata": {},
   "outputs": [],
   "source": [
    "buildings.head()"
   ]
  },
  {
   "cell_type": "code",
   "execution_count": null,
   "id": "6e720205-d4dd-4665-a461-aa3bdf5bb3e3",
   "metadata": {},
   "outputs": [],
   "source": [
    "drive_net = osm.get_network(network_type=\"driving\")\n",
    "drive_net.plot()"
   ]
  },
  {
   "cell_type": "code",
   "execution_count": null,
   "id": "43a3c0e9-4ba0-4880-95d6-0d637aeb511f",
   "metadata": {},
   "outputs": [],
   "source": [
    "drive_net.head(2)"
   ]
  },
  {
   "cell_type": "code",
   "execution_count": null,
   "id": "17444c22-0664-4668-81aa-f8e8b592c96d",
   "metadata": {},
   "outputs": [],
   "source": [
    "drive_net.columns"
   ]
  },
  {
   "cell_type": "code",
   "execution_count": null,
   "id": "ca2668c8-3247-4946-930a-66419de7ed32",
   "metadata": {},
   "outputs": [],
   "source": [
    "drive_net['id'].unique()"
   ]
  },
  {
   "cell_type": "code",
   "execution_count": null,
   "id": "2d3a99eb-b141-49e0-8d0b-d7f1c3124742",
   "metadata": {},
   "outputs": [],
   "source": [
    "landuse = osm.get_landuse()\n",
    "landuse.plot(column='landuse', legend=True) "
   ]
  },
  {
   "cell_type": "markdown",
   "id": "b4a5ef05-8e02-411e-b4f9-31d9dc4bb9c6",
   "metadata": {},
   "source": [
    "# Topologie ermitteln und sichten"
   ]
  },
  {
   "cell_type": "code",
   "execution_count": null,
   "id": "9be53707-0b2b-4fdb-bee4-62a16dc9ecf4",
   "metadata": {},
   "outputs": [],
   "source": [
    "nodes, edges = osm.get_network(nodes=True, network_type=\"driving\")"
   ]
  },
  {
   "cell_type": "code",
   "execution_count": null,
   "id": "5d5ee8be-992a-4865-94e5-b6e3a4198fb0",
   "metadata": {},
   "outputs": [],
   "source": [
    "ax = edges.plot(figsize=(6,6), color=\"gray\")\n",
    "ax = nodes.plot(ax=ax, color=\"red\", markersize=2.5)"
   ]
  },
  {
   "cell_type": "code",
   "execution_count": null,
   "id": "26f4417a-2016-44ce-a5f8-d754ce3ee8e9",
   "metadata": {},
   "outputs": [],
   "source": [
    "nodes"
   ]
  },
  {
   "cell_type": "code",
   "execution_count": null,
   "id": "a2867f11-59a8-4bed-9b30-8933150f7bc5",
   "metadata": {},
   "outputs": [],
   "source": [
    "type(nodes)"
   ]
  },
  {
   "cell_type": "code",
   "execution_count": null,
   "id": "db57dfed-b6ea-498e-9240-419b9f104fc3",
   "metadata": {},
   "outputs": [],
   "source": [
    "edges.columns"
   ]
  },
  {
   "cell_type": "code",
   "execution_count": null,
   "id": "d0403bf1-1833-45fb-affb-aaca875e177a",
   "metadata": {},
   "outputs": [],
   "source": [
    "#edges['width'].unique()"
   ]
  },
  {
   "cell_type": "code",
   "execution_count": null,
   "id": "bc7e6c15-16f4-44b1-9fac-f8bcae1ef0c7",
   "metadata": {},
   "outputs": [],
   "source": [
    "type(edges)"
   ]
  },
  {
   "cell_type": "code",
   "execution_count": null,
   "id": "4015a56d-7d20-4055-bfa5-2dde7410a053",
   "metadata": {},
   "outputs": [],
   "source": [
    "#[id for id in edges['id'] if id not in drive_net['id']]"
   ]
  },
  {
   "cell_type": "code",
   "execution_count": null,
   "id": "233fd5f2-8284-455e-9e1f-f811a9612d55",
   "metadata": {},
   "outputs": [],
   "source": [
    "G = osm.to_graph(nodes, edges, graph_type=\"networkx\")"
   ]
  },
  {
   "cell_type": "code",
   "execution_count": null,
   "id": "6413f49e-6eaa-4417-9dc6-97039473307c",
   "metadata": {},
   "outputs": [],
   "source": [
    "ox.plot_graph(G)"
   ]
  },
  {
   "cell_type": "code",
   "execution_count": null,
   "id": "f8ed14b8-5f31-441d-b401-ca42789bf5e9",
   "metadata": {},
   "outputs": [],
   "source": [
    "ox.folium.plot_graph_folium(G)"
   ]
  },
  {
   "cell_type": "code",
   "execution_count": null,
   "id": "945e8cbd-f548-4bba-af68-9f3487577f64",
   "metadata": {},
   "outputs": [],
   "source": [
    "type(G)"
   ]
  },
  {
   "cell_type": "markdown",
   "id": "fdd2e7d0-2a44-4aad-ab24-71e42ba363a2",
   "metadata": {},
   "source": [
    "# Exports"
   ]
  },
  {
   "cell_type": "markdown",
   "id": "41845f39-2ba3-4331-a4ee-8d807888c600",
   "metadata": {},
   "source": [
    "## Allg"
   ]
  },
  {
   "cell_type": "markdown",
   "id": "efb88191-9b9c-46d9-aa9a-19c4524a92d5",
   "metadata": {},
   "source": [
    "### CRS"
   ]
  },
  {
   "cell_type": "code",
   "execution_count": null,
   "id": "d88a8356-7b43-4218-a774-57a4c5c3e29d",
   "metadata": {},
   "outputs": [],
   "source": [
    "nodes = nodes.to_crs(crs)\n",
    "edges = edges.to_crs(crs)\n",
    "buildings = buildings.to_crs(crs)"
   ]
  },
  {
   "cell_type": "code",
   "execution_count": null,
   "id": "82f6e972-644c-4135-be97-a4b4081b77e4",
   "metadata": {},
   "outputs": [],
   "source": []
  },
  {
   "cell_type": "code",
   "execution_count": null,
   "id": "4ac8667e-bdb4-4d27-a5ff-bc9c485c57d7",
   "metadata": {},
   "outputs": [],
   "source": [
    "nodes.columns"
   ]
  },
  {
   "cell_type": "code",
   "execution_count": null,
   "id": "f437a86f-7316-4714-a7c1-59e656a5b225",
   "metadata": {},
   "outputs": [],
   "source": [
    "edges.columns"
   ]
  },
  {
   "cell_type": "code",
   "execution_count": null,
   "id": "4ac9a3c2-133d-4395-b7c4-d2dc72e10738",
   "metadata": {},
   "outputs": [],
   "source": [
    "buildings.columns"
   ]
  },
  {
   "cell_type": "code",
   "execution_count": null,
   "id": "512222cd-4d37-44a6-80e2-46d6d1fecbc1",
   "metadata": {},
   "outputs": [],
   "source": [
    "buildings.head()"
   ]
  },
  {
   "cell_type": "markdown",
   "id": "0cc06984-dd0a-449a-97e7-faef0bab2af5",
   "metadata": {},
   "source": [
    "### Spaltenberechnungen"
   ]
  },
  {
   "cell_type": "code",
   "execution_count": null,
   "id": "9b6bc98c-64d9-4e2c-bd27-bab57c75fb0d",
   "metadata": {},
   "outputs": [],
   "source": [
    "nodes['NAME']=nodes['id'].astype('string')\n",
    "nodes['X']=nodes.centroid.x # Excel-Import\n",
    "nodes['Y']=nodes.centroid.y # Excel-Import\n",
    "nodes['XKOR']=nodes['X']\n",
    "nodes['YKOR']=nodes['Y']\n",
    "nodes['ZKOR']=0.\n",
    "nodes['BESCHREIBU']=''\n",
    "nodes['IDREFERENZ']=nodes['id']"
   ]
  },
  {
   "cell_type": "code",
   "execution_count": null,
   "id": "e79031ec-451d-4246-820a-a251fb2afdff",
   "metadata": {},
   "outputs": [],
   "source": [
    "if not nodes[nodes.NAME.duplicated()].empty:\n",
    "    logger.error('mehrfache Knotennamen!')"
   ]
  },
  {
   "cell_type": "code",
   "execution_count": null,
   "id": "b9a168c6-8efd-49d0-a74c-d1c3ee72ca29",
   "metadata": {},
   "outputs": [],
   "source": [
    "if max(nodes.NAME.str.len()) > 10:\n",
    "    logger.error('Laenge von Roh-Knotennamen >10!')"
   ]
  },
  {
   "cell_type": "code",
   "execution_count": null,
   "id": "8e148ddd-3a0f-4f25-b047-2bc658a62556",
   "metadata": {},
   "outputs": [],
   "source": [
    "edges['ID']=edges['id'] # Excel-Import\n",
    "edges['BESCHREIBU']=edges.apply(lambda row: \"OSM: Knoten {!s:s} -> Knoten {!s:s}; Länge: {:10.2f}\".format(row['u'],row['v'],row['length']),axis=1)\n",
    "edges['STRASSE']=edges.apply(lambda row: \"{!s:s}\".format(row['name']),axis=1)\n",
    "edges['IDREFERENZ']=edges['id']\n",
    "edges['SDO-Geometry']=edges.geometry # Excel-Import"
   ]
  },
  {
   "cell_type": "code",
   "execution_count": null,
   "id": "14bdc565-b315-4f78-bc91-7744db933d13",
   "metadata": {},
   "outputs": [],
   "source": [
    "#edges"
   ]
  },
  {
   "cell_type": "code",
   "execution_count": null,
   "id": "f6271799-4984-4a53-8d43-f10466533acd",
   "metadata": {},
   "outputs": [],
   "source": [
    "buildings['IDREFERENZ']=buildings['id']\n",
    "buildings['BESCHREIBU']=buildings.apply(lambda row: \"{!s:s};{!s:s};{!s:s};{!s:s};{!s:s};{!s:s}\".format( row['addr:city']\n",
    "                                                                                                       ,row['addr:postcode']\n",
    "                                                                                                       ,row['addr:street']\n",
    "                                                                                                       ,row['addr:housenumber']\n",
    "                                                                                                       ,row['name']\n",
    "                                                                                                       ,row['building']),axis=1)"
   ]
  },
  {
   "cell_type": "code",
   "execution_count": null,
   "id": "7538f46a-764d-4b55-bcb0-3a79db5bc37b",
   "metadata": {},
   "outputs": [],
   "source": [
    "fwvb=buildings.copy(deep=True)"
   ]
  },
  {
   "cell_type": "code",
   "execution_count": null,
   "id": "4dcee5d1-448e-4ca7-9107-37401cb24a82",
   "metadata": {},
   "outputs": [],
   "source": [
    "fwvb['W0']=fwvb.area"
   ]
  },
  {
   "cell_type": "code",
   "execution_count": null,
   "id": "f005701d-2993-4184-b6cc-4bf4e7e96328",
   "metadata": {},
   "outputs": [],
   "source": [
    "fwvb.set_geometry(fwvb.centroid,inplace=True)"
   ]
  },
  {
   "cell_type": "markdown",
   "id": "411ebaea-f103-4ac3-81b3-0cf76bca31a2",
   "metadata": {},
   "source": [
    "## Excel"
   ]
  },
  {
   "cell_type": "markdown",
   "id": "ce72730a-e1bb-4b33-abf5-b5775c475703",
   "metadata": {},
   "source": [
    "writer = pd.ExcelWriter('Planungsgebiet.xlsx')\n",
    "\n",
    "crs=\"EPSG:25832\"\n",
    "\n",
    "\n",
    "#Knoten\n",
    "#nodes = nodes.to_crs(crs)\n",
    "nodes['NAME']=nodes['id'].astype('string')\n",
    "nodes['KTYP']='QKON'\n",
    "nodes['X']=nodes.centroid.x\n",
    "nodes['Y']=nodes.centroid.y\n",
    "nodes['ZKOR']=0.\n",
    "nodes['QM_EIN']=0.\n",
    "nodes['P']=1.\n",
    "nodes['LFAKT']=1.\n",
    "nodes['BESCHREIBUNG']=''\n",
    "nodes['IDREFERENZ']=''\n",
    "nodes['STATUS']=''\n",
    "nodes.to_excel(writer,'KNOT',index=False,columns=['NAME','KTYP','X','Y','ZKOR','QM_EIN','P','LFAKT','BESCHREIBUNG','IDREFERENZ','STATUS'])\n",
    "\n",
    "df=nodes[['NAME','KTYP','X','Y','ZKOR','QM_EIN','P','LFAKT','BESCHREIBUNG','IDREFERENZ','STATUS']]\n",
    "for column in df:\n",
    "    \n",
    "    column_width = max(df[column].astype(str).map(len).max(), len(column),12+2)\n",
    "    col_idx = df.columns.get_loc(column)\n",
    "    #print(column,column_width,col_idx)\n",
    "    writer.sheets['KNOT'].set_column(col_idx, col_idx, column_width)\n",
    "\n",
    "#writer.save()\n",
    "\n",
    "\n",
    "#edges = edges.to_crs(crs)\n",
    "\n",
    "edges['ID']=edges.index\n",
    "edges['KVR']='V'\n",
    "edges['BESCHREIBUNG']=''\n",
    "edges['IDREFERENZ']=''\n",
    "edges['SDO-Geometry']=edges.geometry\n",
    "\n",
    "edges.to_excel(writer,'ROHR',index=False,columns=['KVR','BESCHREIBUNG','IDREFERENZ','SDO-Geometry'])\n",
    "\n",
    "df=edges[['KVR','BESCHREIBUNG','IDREFERENZ','SDO-Geometry']]\n",
    "for column in df:\n",
    "    \n",
    "    column_width = max(df[column].astype(str).map(len).max(), len(column),12+2)\n",
    "    col_idx = df.columns.get_loc(column)\n",
    "    #print(column,column_width,col_idx)\n",
    "    writer.sheets['ROHR'].set_column(col_idx, col_idx, column_width)\n",
    "\n",
    "writer.save()\n",
    "#writer.close()"
   ]
  },
  {
   "cell_type": "markdown",
   "id": "a58f5d8a-e303-4d55-ac20-a9e471475c78",
   "metadata": {},
   "source": [
    "root = Element('MasterDataSetExcel')\n",
    "\n",
    "mT=SubElement(root, 'MasterTable')\n",
    "    \n",
    "c=SubElement(mT,'Enabled')\n",
    "c.text='true'\n",
    "        \n",
    "c=SubElement(mT,'nEntities')\n",
    "rs,cs=nodes.shape \n",
    "c.text=\"{:d}\".format(rs)\n",
    "    \n",
    "c=SubElement(mT,'WorkSheetName')\n",
    "shpName=\"KNOT\"\n",
    "c.text=shpName\n",
    "    \n",
    "c=SubElement(mT,'GeometryType')\n",
    "c.text='Sir3S_Repository.Interfaces.IPoint3D'       \n",
    "    \n",
    "c=SubElement(mT,'Sir3STable')\n",
    "c.text='1'    \n",
    "    \n",
    "c=SubElement(mT,'Sir3STableName')\n",
    "c.text='KNOT'        \n",
    "    \n",
    "c=SubElement(mT,'KVR')\n",
    "c.text='0'    \n",
    "    \n",
    "c=SubElement(mT,'HAL')\n",
    "c.text='false'      \n",
    "    \n",
    "c=SubElement(mT,'Import')\n",
    "c.text='true'      \n",
    "    \n",
    "c=SubElement(mT,'Description')\n",
    "c.text=\"Planungsgebiet.xlsx Tabelle KNOT\"\n",
    "    \n",
    "pass"
   ]
  },
  {
   "cell_type": "markdown",
   "id": "e32406ec-7004-4411-a4f4-f4201e3f66bb",
   "metadata": {},
   "source": [
    "cD=SubElement(root,'KNOT_meta')\n",
    "\n",
    "\n",
    "for col in nodes[['NAME','KTYP','X','Y','ZKOR','QM_EIN','P','LFAKT','BESCHREIBUNG','IDREFERENZ','STATUS']].columns.to_list():\n",
    "\n",
    "        c=SubElement(cD,'ExcelName')\n",
    "        c.text=col\n",
    "        \n",
    "        c2=SubElement(cD,'Sir3SName')\n",
    "        if c.text in ['NAME']:\n",
    "            c2.text='NAME'\n",
    "        else:\n",
    "            c2.text='NOT_SET'\n",
    "                \n",
    "        c2=SubElement(cD,'DataType')    \n",
    "        if c.text in ['NAME','KTYP']:\n",
    "            c2.text='System.String'\n",
    "        elif c.text in ['BESCHREIBUNG','IDREFERENZ','STATUS']:\n",
    "            c2.text='System.Object'\n",
    "        else:\n",
    "            c2.text='System.Double'\n",
    "            \n",
    "        c2=SubElement(cD,'Description')"
   ]
  },
  {
   "cell_type": "markdown",
   "id": "a8631f92-39e1-48ef-a741-77b2e90eacdd",
   "metadata": {},
   "source": [
    "tree = ElementTree(root)\n",
    "\n",
    "ET.indent(tree,' ')\n",
    "\n",
    "with open('PlanungsgebietImportDef.xml', 'wb') as f:\n",
    "    tree.write(f, encoding='utf-8', xml_declaration=True)\n"
   ]
  },
  {
   "cell_type": "markdown",
   "id": "0265f7ff-58eb-4059-950d-f5803dcc4d97",
   "metadata": {},
   "source": [
    "## Shape"
   ]
  },
  {
   "cell_type": "markdown",
   "id": "f0e91416-a28f-48c1-8241-febe73cca1b2",
   "metadata": {},
   "source": [
    "### Spalten auswählen und SHP-Dateien schreiben"
   ]
  },
  {
   "cell_type": "code",
   "execution_count": null,
   "id": "61c10365-3628-4e55-8ff0-240495289b8f",
   "metadata": {},
   "outputs": [],
   "source": [
    "nodeColsShape=['NAME','IDREFERENZ','geometry']\n",
    "#nodes['NAME']=nodes['NAME'].apply(lambda x: 'V-'+x)\n",
    "nodes[nodeColsShape].to_file(\"{:s}Knoten.shp\".format(pbfDateiHead))\n",
    "\n",
    "edgeColsShape=['BESCHREIBU','IDREFERENZ','STRASSE','geometry']\n",
    "edges[edgeColsShape].to_file(\"{:s}Kanten.shp\".format(pbfDateiHead))\n",
    "\n",
    "buildingsColsShape=['BESCHREIBU','IDREFERENZ','geometry']\n",
    "buildings[buildingsColsShape].to_file(\"{:s}Gebaeude.shp\".format(pbfDateiHead))\n",
    "\n",
    "fwvbColsShape=['BESCHREIBU','IDREFERENZ','W0','geometry']\n",
    "fwvb[fwvbColsShape].to_file(\"{:s}FWVB.shp\".format(pbfDateiHead))\n",
    "\n",
    "#nodes['NAME']=nodes['NAME'].apply(lambda x: 'R-'+x[2:])\n",
    "nodes.set_geometry(nodes.geometry.translate(xoff=xoff,yoff=yoff,zoff=zoff))[nodeColsShape].to_file(\"{:s}KnotenRL.shp\".format(pbfDateiHead))\n",
    "edges.set_geometry(edges.geometry.translate(xoff=xoff,yoff=yoff,zoff=zoff))[edgeColsShape].to_file(\"{:s}KantenRL.shp\".format(pbfDateiHead))   \n",
    "\n",
    "#nodes['NAME']=nodes['NAME'].apply(lambda x: x[2:])"
   ]
  },
  {
   "cell_type": "code",
   "execution_count": null,
   "id": "5f7974a2-c3c1-4ec7-bb57-4fa829148a1d",
   "metadata": {},
   "outputs": [],
   "source": [
    "edges"
   ]
  },
  {
   "cell_type": "markdown",
   "id": "5abdb72f-bc48-4771-aa1a-56f023d4a4d3",
   "metadata": {},
   "source": [
    "### ImportDef"
   ]
  },
  {
   "cell_type": "markdown",
   "id": "d07bb2c8-1486-49cb-9a06-b2cccb24f7a2",
   "metadata": {},
   "source": [
    "#### Objekttypen"
   ]
  },
  {
   "cell_type": "code",
   "execution_count": null,
   "id": "5cf17d83-6fa9-4921-b12c-82ff8ce9386f",
   "metadata": {},
   "outputs": [],
   "source": [
    "root = Element('NewDataSet')"
   ]
  },
  {
   "cell_type": "markdown",
   "id": "0ecb8de9-88df-4a84-8356-7ca8277112cb",
   "metadata": {},
   "source": [
    "##### Knoten"
   ]
  },
  {
   "cell_type": "code",
   "execution_count": null,
   "id": "827ab351-cc42-4def-90a9-b42711b47689",
   "metadata": {},
   "outputs": [],
   "source": [
    "mT=SubElement(root,'MasterTable')\n",
    "    \n",
    "c=SubElement(mT,'Enabled')\n",
    "c.text='true'\n",
    "        \n",
    "c=SubElement(mT,'nEntities')\n",
    "rs,cs=nodes.shape \n",
    "c.text=\"{:d}\".format(rs)\n",
    "    \n",
    "c=SubElement(mT,'ShapeName')\n",
    "shpName=\"{:s}Knoten\".format(pbfDateiHead)\n",
    "c.text=shpName\n",
    "    \n",
    "c=SubElement(mT,'GeometryType')\n",
    "c.text='Point'       \n",
    "    \n",
    "c=SubElement(mT,'Sir3STable')\n",
    "c.text='1'    \n",
    "    \n",
    "c=SubElement(mT,'Sir3STableName')\n",
    "c.text='KNOT'        \n",
    "    \n",
    "c=SubElement(mT,'KVR')\n",
    "c.text='1'    \n",
    "    \n",
    "c=SubElement(mT,'HAL')\n",
    "c.text='false'      \n",
    "    \n",
    "c=SubElement(mT,'Import')\n",
    "c.text='false'      \n",
    "    \n",
    "c=SubElement(mT,'Description')\n",
    "c.text=\"generiert\"\n",
    "    "
   ]
  },
  {
   "cell_type": "code",
   "execution_count": null,
   "id": "7aacdf7f-9fa8-4c91-88e1-fb1e32dd7b5a",
   "metadata": {},
   "outputs": [],
   "source": [
    "mT=SubElement(root,'MasterTable')\n",
    "    \n",
    "c=SubElement(mT,'Enabled')\n",
    "c.text='true'\n",
    "        \n",
    "c=SubElement(mT,'nEntities')\n",
    "rs,cs=nodes.shape \n",
    "c.text=\"{:d}\".format(rs)\n",
    "    \n",
    "c=SubElement(mT,'ShapeName')\n",
    "shpName=\"{:s}KnotenRL\".format(pbfDateiHead)\n",
    "c.text=shpName\n",
    "    \n",
    "c=SubElement(mT,'GeometryType')\n",
    "c.text='Point'       \n",
    "    \n",
    "c=SubElement(mT,'Sir3STable')\n",
    "c.text='1'    \n",
    "    \n",
    "c=SubElement(mT,'Sir3STableName')\n",
    "c.text='KNOT'        \n",
    "    \n",
    "c=SubElement(mT,'KVR')\n",
    "c.text='2'    \n",
    "    \n",
    "c=SubElement(mT,'HAL')\n",
    "c.text='false'      \n",
    "    \n",
    "c=SubElement(mT,'Import')\n",
    "c.text='false'      \n",
    "    \n",
    "c=SubElement(mT,'Description')\n",
    "c.text=\"generiert\""
   ]
  },
  {
   "cell_type": "markdown",
   "id": "06395c5e-4606-402b-adf2-d055e42c824b",
   "metadata": {},
   "source": [
    "##### Kanten"
   ]
  },
  {
   "cell_type": "code",
   "execution_count": null,
   "id": "67189f58-ada3-41f1-98fc-7b59271eaea9",
   "metadata": {},
   "outputs": [],
   "source": [
    "mT=SubElement(root,'MasterTable')\n",
    "    \n",
    "c=SubElement(mT,'Enabled')\n",
    "c.text='true'\n",
    "        \n",
    "c=SubElement(mT,'nEntities')\n",
    "rs,cs=edges.shape \n",
    "c.text=\"{:d}\".format(rs)\n",
    "    \n",
    "c=SubElement(mT,'ShapeName')\n",
    "shpName=\"{:s}Kanten\".format(pbfDateiHead)\n",
    "c.text=shpName\n",
    "    \n",
    "c=SubElement(mT,'GeometryType')\n",
    "c.text='PolyLine'       \n",
    "    \n",
    "c=SubElement(mT,'Sir3STable')\n",
    "c.text='2'    \n",
    "    \n",
    "c=SubElement(mT,'Sir3STableName')\n",
    "c.text='ROHR'        \n",
    "    \n",
    "c=SubElement(mT,'KVR')\n",
    "c.text='1'    \n",
    "    \n",
    "c=SubElement(mT,'HAL')\n",
    "c.text='false'      \n",
    "    \n",
    "c=SubElement(mT,'Import')\n",
    "c.text='true'      \n",
    "    \n",
    "c=SubElement(mT,'Description')\n",
    "c.text=\"generiert\""
   ]
  },
  {
   "cell_type": "code",
   "execution_count": null,
   "id": "7c3c01c4-d63e-4bcb-8809-a04d4e1a6909",
   "metadata": {},
   "outputs": [],
   "source": [
    "mT=SubElement(root,'MasterTable')\n",
    "    \n",
    "c=SubElement(mT,'Enabled')\n",
    "c.text='true'\n",
    "        \n",
    "c=SubElement(mT,'nEntities')\n",
    "rs,cs=edges.shape \n",
    "c.text=\"{:d}\".format(rs)\n",
    "    \n",
    "c=SubElement(mT,'ShapeName')\n",
    "shpName=\"{:s}KantenRL\".format(pbfDateiHead)\n",
    "c.text=shpName\n",
    "    \n",
    "c=SubElement(mT,'GeometryType')\n",
    "c.text='PolyLine'       \n",
    "    \n",
    "c=SubElement(mT,'Sir3STable')\n",
    "c.text='2'    \n",
    "    \n",
    "c=SubElement(mT,'Sir3STableName')\n",
    "c.text='ROHR'        \n",
    "    \n",
    "c=SubElement(mT,'KVR')\n",
    "c.text='2'    \n",
    "    \n",
    "c=SubElement(mT,'HAL')\n",
    "c.text='false'      \n",
    "    \n",
    "c=SubElement(mT,'Import')\n",
    "c.text='true'      \n",
    "    \n",
    "c=SubElement(mT,'Description')\n",
    "c.text=\"generiert\""
   ]
  },
  {
   "cell_type": "markdown",
   "id": "ea22e0a4-b52f-48f3-b7b4-cd86a87778f4",
   "metadata": {},
   "source": [
    "##### Gebäude"
   ]
  },
  {
   "cell_type": "code",
   "execution_count": null,
   "id": "d5b1ecff-89ba-4575-bd70-13dfdf72b895",
   "metadata": {},
   "outputs": [],
   "source": [
    "mT=SubElement(root,'MasterTable')\n",
    "    \n",
    "c=SubElement(mT,'Enabled')\n",
    "c.text='true'\n",
    "        \n",
    "c=SubElement(mT,'nEntities')\n",
    "rs,cs=buildings.shape \n",
    "c.text=\"{:d}\".format(rs)\n",
    "    \n",
    "c=SubElement(mT,'ShapeName')\n",
    "shpName=\"{:s}Gebaeude\".format(pbfDateiHead)\n",
    "c.text=shpName\n",
    "    \n",
    "c=SubElement(mT,'GeometryType')\n",
    "c.text='Polygon'       \n",
    "    \n",
    "c=SubElement(mT,'Sir3STable')\n",
    "c.text='7'    \n",
    "    \n",
    "c=SubElement(mT,'Sir3STableName')\n",
    "c.text='PLYG'        \n",
    "    \n",
    "c=SubElement(mT,'KVR')\n",
    "c.text='0'    \n",
    "    \n",
    "c=SubElement(mT,'HAL')\n",
    "c.text='false'      \n",
    "    \n",
    "c=SubElement(mT,'Import')\n",
    "c.text='true'      \n",
    "    \n",
    "c=SubElement(mT,'Description')\n",
    "c.text=\"generiert\""
   ]
  },
  {
   "cell_type": "markdown",
   "id": "69c51da2-30af-4a13-993f-169e97458529",
   "metadata": {},
   "source": [
    "##### FWVB"
   ]
  },
  {
   "cell_type": "code",
   "execution_count": null,
   "id": "9b1536af-72bf-42c1-9ca0-f0188ce8509e",
   "metadata": {},
   "outputs": [],
   "source": [
    "mT=SubElement(root,'MasterTable')\n",
    "    \n",
    "c=SubElement(mT,'Enabled')\n",
    "c.text='true'\n",
    "        \n",
    "c=SubElement(mT,'nEntities')\n",
    "rs,cs=fwvb.shape \n",
    "c.text=\"{:d}\".format(rs)\n",
    "    \n",
    "c=SubElement(mT,'ShapeName')\n",
    "shpName=\"{:s}FWVB\".format(pbfDateiHead)\n",
    "c.text=shpName\n",
    "    \n",
    "c=SubElement(mT,'GeometryType')\n",
    "c.text='Point'       \n",
    "    \n",
    "c=SubElement(mT,'Sir3STable')\n",
    "c.text='5'    \n",
    "    \n",
    "c=SubElement(mT,'Sir3STableName')\n",
    "c.text='FWVB'        \n",
    "    \n",
    "c=SubElement(mT,'KVR')\n",
    "c.text='0'    \n",
    "    \n",
    "c=SubElement(mT,'HAL')\n",
    "c.text='false'      \n",
    "    \n",
    "c=SubElement(mT,'Import')\n",
    "c.text='true'      \n",
    "    \n",
    "c=SubElement(mT,'Description')\n",
    "c.text=\"generiert\""
   ]
  },
  {
   "cell_type": "markdown",
   "id": "94b99fb9-b43c-4f65-94a9-4f0447ff3a75",
   "metadata": {},
   "source": [
    "#### Attribute"
   ]
  },
  {
   "cell_type": "markdown",
   "id": "f15fc27a-2081-4ed4-b89a-9bbca4f53b6b",
   "metadata": {},
   "source": [
    "##### Knoten"
   ]
  },
  {
   "cell_type": "code",
   "execution_count": null,
   "id": "280c8f32-cc88-4221-9862-9c4a480a61e8",
   "metadata": {},
   "outputs": [],
   "source": [
    "tagName=\"{:s}Knoten\".format(pbfDateiHead)\n",
    "\n",
    "for col in nodeColsShape: \n",
    "    if col == 'geometry':\n",
    "        continue\n",
    "        \n",
    "    cD=SubElement(root,tagName)\n",
    "    \n",
    "    c=SubElement(cD,'ShapeName')\n",
    "    c.text=col\n",
    "    \n",
    "    c2=SubElement(cD,'Sir3SName')\n",
    "    if c.text in ['NAME','IDREFERENZ']:\n",
    "            c2.text=c.text\n",
    "    else:\n",
    "            c2.text='NOT_SET'      \n",
    "        \n",
    "    c2=SubElement(cD,'DataType')\n",
    "    if c.text in ['NAME','IDREFERENZ']:\n",
    "            c2.text='System.String'\n",
    "    else:\n",
    "            c2.text='System.Double'    \n",
    "            \n",
    "    c3=SubElement(cD,'Description')\n",
    "    c3.text=\"generiert\""
   ]
  },
  {
   "cell_type": "code",
   "execution_count": null,
   "id": "a40efac1-05d2-4085-a26d-d3cc653a3a93",
   "metadata": {},
   "outputs": [],
   "source": [
    "tagName=\"{:s}KnotenRL\".format(pbfDateiHead)\n",
    "\n",
    "for col in nodeColsShape: \n",
    "    if col == 'geometry':\n",
    "        continue\n",
    "        \n",
    "    cD=SubElement(root,tagName)\n",
    "    \n",
    "    c=SubElement(cD,'ShapeName')\n",
    "    c.text=col\n",
    "    \n",
    "    c2=SubElement(cD,'Sir3SName')\n",
    "    if c.text in ['NAME','IDREFERENZ']:\n",
    "            c2.text=c.text\n",
    "    else:\n",
    "            c2.text='NOT_SET'      \n",
    "        \n",
    "    c2=SubElement(cD,'DataType')\n",
    "    if c.text in ['NAME','IDREFERENZ']:\n",
    "            c2.text='System.String'\n",
    "    else:\n",
    "            c2.text='System.Double'   \n",
    "            \n",
    "    c3=SubElement(cD,'Description')\n",
    "    c3.text=\"generiert\""
   ]
  },
  {
   "cell_type": "markdown",
   "id": "3502d5f2-a8eb-46db-b580-ef464c6acc0c",
   "metadata": {},
   "source": [
    "##### Kanten"
   ]
  },
  {
   "cell_type": "code",
   "execution_count": null,
   "id": "2b485d94-0c18-43e1-9f5f-8ba41b70dbc6",
   "metadata": {},
   "outputs": [],
   "source": [
    "tagName=\"{:s}Kanten\".format(pbfDateiHead)\n",
    "\n",
    "for col in edgeColsShape: \n",
    "    if col == 'geometry':\n",
    "        continue\n",
    "        \n",
    "    cD=SubElement(root,tagName)\n",
    "    \n",
    "    c=SubElement(cD,'ShapeName')\n",
    "    c.text=col\n",
    "    \n",
    "    c2=SubElement(cD,'Sir3SName')\n",
    "    if c.text in ['IDREFERENZ','STRASSE']:\n",
    "            c2.text=c.text\n",
    "    elif c.text in ['BESCHREIBU']:\n",
    "            c2.text='BESCHREIBUNG'    \n",
    "    else:\n",
    "            c2.text='NOT_SET'      \n",
    "        \n",
    "    c2=SubElement(cD,'DataType')\n",
    "    if c.text in ['BESCHREIBU','IDREFERENZ','STRASSE']:\n",
    "            c2.text='System.String'\n",
    "    else:\n",
    "            c2.text='System.Double'    \n",
    "            \n",
    "    c3=SubElement(cD,'Description')\n",
    "    c3.text=\"generiert\""
   ]
  },
  {
   "cell_type": "code",
   "execution_count": null,
   "id": "07cb8348-5d9b-4c77-a557-82857e66b92d",
   "metadata": {},
   "outputs": [],
   "source": [
    "tagName=\"{:s}KantenRL\".format(pbfDateiHead)\n",
    "\n",
    "for col in edgeColsShape: \n",
    "    if col == 'geometry':\n",
    "        continue\n",
    "        \n",
    "    cD=SubElement(root,tagName)\n",
    "    \n",
    "    c=SubElement(cD,'ShapeName')\n",
    "    c.text=col\n",
    "    \n",
    "    c2=SubElement(cD,'Sir3SName')\n",
    "    if c.text in ['IDREFERENZ','STRASSE']:\n",
    "            c2.text=c.text\n",
    "    elif c.text in ['BESCHREIBU']:\n",
    "            c2.text='BESCHREIBUNG'    \n",
    "    else:\n",
    "            c2.text='NOT_SET'       \n",
    "        \n",
    "    c2=SubElement(cD,'DataType')\n",
    "    if c.text in ['BESCHREIBU','IDREFERENZ','STRASSE']:\n",
    "            c2.text='System.String'\n",
    "    else:\n",
    "            c2.text='System.Double'  \n",
    "            \n",
    "    c3=SubElement(cD,'Description')\n",
    "    c3.text=\"generiert\""
   ]
  },
  {
   "cell_type": "markdown",
   "id": "597f5619-3137-465e-b334-e0f4dc73decf",
   "metadata": {},
   "source": [
    "##### Gebäude"
   ]
  },
  {
   "cell_type": "code",
   "execution_count": null,
   "id": "000e9597-79a9-43e1-9d97-4bb413feb134",
   "metadata": {},
   "outputs": [],
   "source": [
    "tagName=\"{:s}Gebaeude\".format(pbfDateiHead)\n",
    "\n",
    "\n",
    "for col in buildingsColsShape: \n",
    "    if col == 'geometry':\n",
    "        continue\n",
    "        \n",
    "    cD=SubElement(root,tagName)\n",
    "    \n",
    "    c=SubElement(cD,'ShapeName')\n",
    "    c.text=col\n",
    "    \n",
    "    c2=SubElement(cD,'Sir3SName')\n",
    "    if c.text in ['IDREFERENZ']:\n",
    "            c2.text=c.text\n",
    "    elif c.text in ['BESCHREIBU']:\n",
    "            c2.text='BESCHREIBUNG'            \n",
    "    else:\n",
    "            c2.text='NOT_SET'      \n",
    "        \n",
    "    c2=SubElement(cD,'DataType')\n",
    "    if c.text in ['IDREFERENZ']:\n",
    "            c2.text='System.String'\n",
    "    elif c.text in ['BESCHREIBU']:\n",
    "            c2.text='System.String'            \n",
    "    else:\n",
    "            c2.text='System.Double'  \n",
    "            \n",
    "    c3=SubElement(cD,'Description')\n",
    "    c3.text=\"generiert\"\n",
    "\n"
   ]
  },
  {
   "cell_type": "markdown",
   "id": "f3e01da4-6650-4eb7-ba1b-5b39e45b2230",
   "metadata": {},
   "source": [
    "##### FWVB"
   ]
  },
  {
   "cell_type": "code",
   "execution_count": null,
   "id": "fce9cf17-6792-41fd-b610-27c4dda5bd4b",
   "metadata": {},
   "outputs": [],
   "source": [
    "tagName=\"{:s}FWVB\".format(pbfDateiHead)\n",
    "\n",
    "for col in fwvbColsShape: \n",
    "    if col == 'geometry':\n",
    "        continue\n",
    "        \n",
    "    cD=SubElement(root,tagName)\n",
    "    \n",
    "    c=SubElement(cD,'ShapeName')\n",
    "    c.text=col\n",
    "    \n",
    "    c2=SubElement(cD,'Sir3SName')\n",
    "    if c.text in ['IDREFERENZ']:\n",
    "            c2.text=c.text\n",
    "    elif c.text in ['BESCHREIBU']:\n",
    "            c2.text='BESCHREIBUNG'        \n",
    "    elif c.text in ['W0']:\n",
    "            c2.text='POWER'                \n",
    "    else:\n",
    "            c2.text='NOT_SET'      \n",
    "        \n",
    "    c2=SubElement(cD,'DataType')\n",
    "    if c.text in ['IDREFERENZ']:\n",
    "            c2.text='System.String'\n",
    "    elif c.text in ['BESCHREIBU']:\n",
    "            c2.text='System.String'   \n",
    "    elif c.text in ['W0']:\n",
    "            c2.text='System.Double'                        \n",
    "    else:\n",
    "            c2.text='System.Double'  \n",
    "            \n",
    "    c3=SubElement(cD,'Description')\n",
    "    c3.text=\"generiert\""
   ]
  },
  {
   "cell_type": "markdown",
   "id": "5b6073b6-7c2a-4a79-9db6-f7a8482142f8",
   "metadata": {},
   "source": [
    "#### ImportDef schreiben"
   ]
  },
  {
   "cell_type": "code",
   "execution_count": null,
   "id": "2ad8f18a-f466-44c3-8f34-38e5f618849d",
   "metadata": {},
   "outputs": [],
   "source": [
    "tree = ElementTree(root)\n",
    "\n",
    "ET.indent(tree,' ')\n",
    "\n",
    "with open(\"{:s}ShpImpDef.xml\".format(pbfDateiHead),'wb') as f:\n",
    "    tree.write(f, encoding='utf-8', xml_declaration=True)\n"
   ]
  },
  {
   "cell_type": "markdown",
   "id": "0366a61b-82c2-495b-b079-4301b9ccd911",
   "metadata": {},
   "source": [
    "# Hintergrundkarte(n)"
   ]
  },
  {
   "cell_type": "markdown",
   "id": "6a5335dc-f9c7-43e3-99aa-45acbdf0e2ac",
   "metadata": {},
   "source": [
    "## Datenvorbereitungen"
   ]
  },
  {
   "cell_type": "code",
   "execution_count": null,
   "id": "4b0c13a4-bffc-40be-9678-27a2dec6d75f",
   "metadata": {},
   "outputs": [],
   "source": [
    "edges['DI']=100."
   ]
  },
  {
   "cell_type": "code",
   "execution_count": null,
   "id": "6574594f-3292-4bbe-aee7-724971846dd9",
   "metadata": {},
   "outputs": [],
   "source": [
    "fwvb['GebauedeArt']=buildings['building']"
   ]
  },
  {
   "cell_type": "code",
   "execution_count": null,
   "id": "09a54fc7-7a57-47a2-8bce-1009c72ec936",
   "metadata": {},
   "outputs": [],
   "source": [
    "fwvb['GebauedeArt']=fwvb['GebauedeArt'].apply(lambda x: 'residential 2nd' if x in ['residential'] else x)\n",
    "fwvb['GebauedeArt']=fwvb['GebauedeArt'].apply(lambda x: 'residential' if x in ['yes'] else x)"
   ]
  },
  {
   "cell_type": "markdown",
   "id": "9d0cdf7d-6608-4360-b97b-6ad61df71909",
   "metadata": {},
   "source": [
    "## Funktion"
   ]
  },
  {
   "cell_type": "code",
   "execution_count": null,
   "id": "5ab49691-2a11-4a58-af97-26664346bfeb",
   "metadata": {},
   "outputs": [],
   "source": [
    "ROHR_linewidth_fac =  0.0125"
   ]
  },
  {
   "cell_type": "code",
   "execution_count": null,
   "id": "a11a0341-8258-480f-bf2e-e6542dc395f9",
   "metadata": {},
   "outputs": [],
   "source": [
    "def plotNFD(     gdf_FWVB        \n",
    "                ,gdf_ROHR\n",
    "                ,gdf_Grid=geopandas.GeoDataFrame()\n",
    "\n",
    "                ,FWVB_markerscaling_col = 'W0'\n",
    "                ,Pot_W0 = None\n",
    "                ,FWVB_markerscaling_fac = 0.5\n",
    "\n",
    "                ,FWVB_edgecolor = 'White'\n",
    "\n",
    "                # Layout ROHR\n",
    "\n",
    "                ,colors_ROHR = ['lightgray', 'dimgray']\n",
    "\n",
    "                ,cmap_color_ROHR = 'DI'\n",
    "                ,norm_min_ROHR = None \n",
    "                ,norm_max_ROHR = None\n",
    "\n",
    "                ,ROHR_linewidth_col = 'DI'                \n",
    "                ,ROHR_linewidth_fac = ROHR_linewidth_fac #  0.005\n",
    "\n",
    "                # Legend FWVB\n",
    "\n",
    "                ,legend_FWVB_label = None \n",
    "                ,legend_FWVB_label_shrink = 1.\n",
    "\n",
    "                ,yTicks = None\n",
    "                ,yTickLabels = None\n",
    "\n",
    "                # Karte\n",
    "                ,LabelsOnTop = False                               \n",
    "                ,Map_resolution = 15\n",
    "\n",
    "                ):\n",
    "\n",
    "\n",
    "        fig = plt.gcf()\n",
    "        ax = plt.gca()\n",
    "        \n",
    "   \n",
    "        \n",
    "        tmp_ges =gdf_FWVB[[FWVB_markerscaling_col,'GebauedeArt',  'geometry']]\n",
    "    \n",
    "        # fuer u.a. Linienstaerke des Markers\n",
    "        norm_FWVB_size = plt.Normalize(vmin = tmp_ges[FWVB_markerscaling_col].min(), vmax = tmp_ges[FWVB_markerscaling_col].max()) #Festlegen wie diese Spalte normiert werden soll\n",
    "        \n",
    "        #Erstellen der Colormap fuer die Rohre\n",
    "        if norm_min_ROHR == None:            \n",
    "            norm_min_ROHR=gdf_ROHR[cmap_color_ROHR].min()\n",
    "        if norm_max_ROHR == None:\n",
    "            norm_max_ROHR=gdf_ROHR[cmap_color_ROHR].max()\n",
    "        norm_ROHR_color = plt.Normalize(vmin=norm_min_ROHR, vmax=norm_max_ROHR)\n",
    "        cmap_ROHR = matplotlib.colors.LinearSegmentedColormap.from_list('ROHR', colors_ROHR, N = 256)\n",
    "        \n",
    "        # Farben\n",
    "        #cmap = ListedColormap([color_Bestand, color_Pot_adr, color_Pot_str])\n",
    "        \n",
    "        # Plotten\n",
    "        tmp_ges.plot(ax = ax\n",
    "                    ,marker = '.'\n",
    "                    ,markersize = tmp_ges[FWVB_markerscaling_col] * FWVB_markerscaling_fac #Markersize ist abhaengig von der zum Markerscaling ausgewaehlten Spalte und einem Faktor\n",
    "                    ,linewidth = norm_FWVB_size(tmp_ges[FWVB_markerscaling_col]) / 2 #FWVB Randdicke, abhaengig von der zum Markerscaling ausgewaehlten Spalte. Die Randdicke wird im Anschluss nochmal durch 2 geteilt.\n",
    "                    #,alpha =  0.9 - (norm_FWVB_size(tmp_ges[FWVB_markerscaling_col]) / 2) #FWVB Durchsichtigkeit, abhaengig von der zum Markerscaling ausgewaehlten Spalte. Mit dem Teilen durch 2 ist die maximale Durchsichtigkeit bei 0.5 (0 bei Kleinen-0.5 bei Grossen). Um dies umzudrehen zieht man von 1 ab. Hier wird von 0.9 abgezogen. Damit sind kleinsten FWVB immer noch leicht durchsichtig und die Groessten trotzdem noch erkennbar (0.9 bei Kleinen - 0.4 bei Grossen) \n",
    "                    ,zorder = 2 #Reihenfolge zu den anderen geploteten Objekten (je hoeher die Zahl, desto hoeher die geplottete Ebene; Hoehe im Sinne von Vorder- und Hintergrund)\n",
    "                    ,legend = True\n",
    "                    ,categorical = True\n",
    "                   ,column = 'GebauedeArt' #'FUNKTION'\n",
    "                #    ,cmap = cmap\n",
    "                    )\n",
    "\n",
    "\n",
    "        gdf_ROHR.plot(ax = ax\n",
    "                                ,zorder = 1\n",
    "                                ,linewidth = gdf_ROHR[ROHR_linewidth_col] * ROHR_linewidth_fac\n",
    "                                ,color = cmap_ROHR(norm_ROHR_color(gdf_ROHR[cmap_color_ROHR])))\n",
    "\n",
    "        if not gdf_Grid.empty:\n",
    "            gdf_Grid.plot(ax = ax,edgecolor='black',alpha=1,facecolor='none')\n",
    "            \n",
    "            for index,row in gdf_Grid.iterrows():\n",
    "                pass\n",
    "                ax.text(row['minx'],row['maxy'],str(index+1),fontsize='x-large',ha='right')\n",
    "        \n",
    "        \n",
    "        if LabelsOnTop:\n",
    "            cx.add_basemap(ax, crs=gdf_FWVB.crs.to_string(), source = cx.providers.CartoDB.PositronNoLabels, zoom = Map_resolution)\n",
    "            cx.add_basemap(ax, crs=gdf_FWVB.crs.to_string(), source = cx.providers.CartoDB.PositronOnlyLabels, zoom = Map_resolution)\n",
    "        else:\n",
    "            cx.add_basemap(ax, crs=gdf_FWVB.crs.to_string(), source = cx.providers.CartoDB.Positron, zoom = Map_resolution)\n",
    "\n",
    "        if legend_FWVB_label == None:\n",
    "            legend_FWVB_label='Test'\n",
    "\n",
    "        plt.axis('off')"
   ]
  },
  {
   "cell_type": "markdown",
   "id": "831eedb5-b077-423d-8135-c60e9cef6eea",
   "metadata": {},
   "source": [
    "## Testplot fuer den Erhalt der sich ergebenden Kartenabmessungen"
   ]
  },
  {
   "cell_type": "code",
   "execution_count": null,
   "id": "c3421596-e804-4e5e-90db-dad9590b1843",
   "metadata": {},
   "outputs": [],
   "source": [
    "# Plotten\n",
    "fig=plt.figure(figsize=hKartenFormat,dpi=Rm.dpiSize)\n",
    "\n",
    "plotNFD(gdf_FWVB = fwvb.sort_values(by = 'W0', ascending = False)\n",
    "       \n",
    "       ,gdf_ROHR =edges\n",
    "     #  ,Map_resolution = 15 # 18\n",
    "      # ,LabelsOnTop = True\n",
    "     \n",
    "          \n",
    "       )\n",
    "plt.tight_layout(pad=0.)\n",
    "\n",
    "ax=plt.gca()\n",
    "\n",
    "plt.savefig(\"{:s}A.jpg\".format(pbfDateiHead),dpi=2*Rm.dpiSize)"
   ]
  },
  {
   "cell_type": "markdown",
   "id": "141162e4-1441-4e48-abc8-8542beff4bc8",
   "metadata": {},
   "source": [
    "## Berechnungen Zielplot"
   ]
  },
  {
   "cell_type": "code",
   "execution_count": null,
   "id": "4467d363-7a0c-4731-83b8-a6b274e7ee3d",
   "metadata": {},
   "outputs": [],
   "source": [
    "(xWorldMin,xWorldMax)=ax.get_xlim()\n",
    "(yWorldMin,yWorldMax)=ax.get_ylim()\n",
    "dxWorld=xWorldMax-xWorldMin\n",
    "dyWorld=yWorldMax-yWorldMin\n",
    "xWorldMin,xWorldMax,dxWorld,yWorldMin,yWorldMax,dyWorld,dxWorld/dyWorld\n",
    "# (1646.1983657019446, 1209.3259177068248, 1.3612528612828672)"
   ]
  },
  {
   "cell_type": "code",
   "execution_count": null,
   "id": "16113b3d-711b-4c37-a863-ded622953b0a",
   "metadata": {},
   "outputs": [],
   "source": [
    "#Image.MAX_IMAGE_PIXELS=None \n",
    "#img = Image.open(\"{:s}A.jpg\".format(pbfDateiHead))\n",
    "#img.width,img.height,img.width/img.height\n",
    "##(26933, 19054, 1.4135089744935447)\n",
    "os.remove(\"{:s}A.jpg\".format(pbfDateiHead))"
   ]
  },
  {
   "cell_type": "code",
   "execution_count": null,
   "id": "a80a72a1-c21c-4dde-a742-7ba13f26e0e7",
   "metadata": {},
   "outputs": [],
   "source": [
    "(xBlatt,yBlatt)=hKartenFormat\n",
    "xBlatt,yBlatt"
   ]
  },
  {
   "cell_type": "code",
   "execution_count": null,
   "id": "4b481ddd-befe-4a80-9a7f-23b7c29a0492",
   "metadata": {},
   "outputs": [],
   "source": [
    "xPlot=xBlatt\n",
    "yPlot=xBlatt*dyWorld/dxWorld\n",
    "(xPlot,yPlot,xPlot/yPlot)"
   ]
  },
  {
   "cell_type": "markdown",
   "id": "aa5d5e0a-6ecc-448d-b559-459eb0d7f01c",
   "metadata": {},
   "source": [
    "## Plot"
   ]
  },
  {
   "cell_type": "code",
   "execution_count": null,
   "id": "c508a688-0639-4fd7-a058-8c15f945b93c",
   "metadata": {},
   "outputs": [],
   "source": [
    "# Plotten\n",
    "fig=plt.figure(figsize=(xPlot,yPlot),\n",
    "               dpi=hKartenAufloesung)\n",
    "\n",
    "plotNFD(gdf_FWVB = fwvb.sort_values(by = 'W0', ascending = False)\n",
    "       \n",
    "       ,gdf_ROHR =edges\n",
    "       ,Map_resolution = 18\n",
    "       ,LabelsOnTop = True\n",
    "     \n",
    "          \n",
    "       )\n",
    "plt.tight_layout(pad=0.)\n",
    "\n",
    "ax=plt.gca()\n",
    "\n",
    "plt.savefig(\"{:s}.jpg\".format(pbfDateiHead),dpi=16*hKartenAufloesung)"
   ]
  },
  {
   "cell_type": "code",
   "execution_count": null,
   "id": "72f5618b-9794-4b43-b1be-02a0219464b9",
   "metadata": {},
   "outputs": [],
   "source": [
    "(xWorldMin,xWorldMax)=ax.get_xlim()\n",
    "(yWorldMin,yWorldMax)=ax.get_ylim()\n",
    "Image.MAX_IMAGE_PIXELS=None \n",
    "img = Image.open(\"{:s}.jpg\".format(pbfDateiHead))\n",
    "\n",
    "#1\n",
    "#2     3\n",
    "\n",
    "with open(\"{:s}.jpgw\".format(pbfDateiHead),'w') as f:\n",
    "    \n",
    "    f.write(\"{:16.10f}\\n\".format(0.001))\n",
    "    f.write(\"{:16.10f}\\n\".format(0.001))\n",
    "    f.write(\"{:16.10f}\\n\".format(0.001))\n",
    "    f.write(\"{:16.10f}\\n\".format(0.001))\n",
    "    # Ankerpunkt: 1 (Ursprung KOS Image)\n",
    "    f.write(\"{:16.2f}\\n\".format(xWorldMin))\n",
    "    f.write(\"{:16.2f}\\n\".format(yWorldMax))\n",
    "    # 1\n",
    "    f.write(\"[Pic(x,y)  Ground(X,Y)]\\t{:17.2f}\\t{:17.2f}\\t{:17.2f}\\t{:17.2f}\\n\".format(0.,0.,xWorldMin,yWorldMax))\n",
    "    # 2\n",
    "    f.write(\"[Pic(x,y)  Ground(X,Y)]\\t{:17.2f}\\t{:17.2f}\\t{:17.2f}\\t{:17.2f}\\n\".format(0.,img.height-1,xWorldMin,yWorldMin))\n",
    "    # 3\n",
    "    f.write(\"[Pic(x,y)  Ground(X,Y)]\\t{:17.2f}\\t{:17.2f}\\t{:17.2f}\\t{:17.2f}\\n\".format(img.width-1,img.height-1,xWorldMax,yWorldMin))"
   ]
  },
  {
   "cell_type": "code",
   "execution_count": null,
   "id": "4d425230-f370-490d-b463-6330f79a0d44",
   "metadata": {},
   "outputs": [],
   "source": []
  }
 ],
 "metadata": {
  "kernelspec": {
   "display_name": "Python 3 (ipykernel)",
   "language": "python",
   "name": "python3"
  },
  "language_info": {
   "codemirror_mode": {
    "name": "ipython",
    "version": 3
   },
   "file_extension": ".py",
   "mimetype": "text/x-python",
   "name": "python",
   "nbconvert_exporter": "python",
   "pygments_lexer": "ipython3",
   "version": "3.11.8"
  }
 },
 "nbformat": 4,
 "nbformat_minor": 5
}
