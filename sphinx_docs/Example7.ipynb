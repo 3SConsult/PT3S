{
 "cells": [
  {
   "cell_type": "markdown",
   "id": "f233bd54-261e-497a-9c91-f1b7a8031a70",
   "metadata": {},
   "source": [
    "# Quellspektren"
   ]
  },
  {
   "cell_type": "markdown",
   "id": "be3ffea4-9cf2-4950-8f5a-b77c4d9d1210",
   "metadata": {},
   "source": [
    "Short description of example notebook for the Examples Page\n",
    "Additional information"
   ]
  },
  {
   "cell_type": "markdown",
   "id": "f0e59897-8e57-4f82-857b-a8698a5748c4",
   "metadata": {},
   "source": [
    "# PT3S Release"
   ]
  },
  {
   "cell_type": "code",
   "execution_count": 1,
   "id": "931e173f-f062-4a80-a56f-0d96d5c27092",
   "metadata": {
    "tags": []
   },
   "outputs": [],
   "source": [
    "#pip install PT3S -U --no-deps"
   ]
  },
  {
   "cell_type": "markdown",
   "id": "fcf2b2a3-cecb-4679-a0b0-983d2a147e44",
   "metadata": {},
   "source": [
    "# Necessary packages for this Example"
   ]
  },
  {
   "cell_type": "raw",
   "id": "f37aa62b-ae29-42a1-8217-2498db422b36",
   "metadata": {},
   "source": [
    "When running this example for the first time on your machine, please execute the cell below. Afterward, you may need to restart the kernel (using the ‘fast-forward’ button)."
   ]
  },
  {
   "cell_type": "code",
   "execution_count": 2,
   "id": "0730d039-0023-4545-9295-7e18a8a12dba",
   "metadata": {},
   "outputs": [],
   "source": [
    "#pip install - q ..."
   ]
  },
  {
   "cell_type": "markdown",
   "id": "a2e6fbdc-5dd6-482b-a353-2b6f10e07aab",
   "metadata": {},
   "source": [
    "# Imports"
   ]
  },
  {
   "cell_type": "code",
   "execution_count": 29,
   "id": "59415417-7808-4e32-a2a2-abcde79ff631",
   "metadata": {},
   "outputs": [],
   "source": [
    "import os\n",
    "import logging\n",
    "import pandas as pd\n",
    "import networkx as nx\n",
    "import numpy as np\n",
    "import matplotlib.pyplot as plt\n",
    "#...\n",
    "\n",
    "try:\n",
    "    from PT3S import dxAndMxHelperFcts\n",
    "except:\n",
    "    import dxAndMxHelperFcts\n",
    "\n",
    "try:\n",
    "    from PT3S import Rm\n",
    "except:\n",
    "    import Rm\n",
    "\n",
    "try:\n",
    "    from PT3S import ncd\n",
    "except:\n",
    "    import ncd\n",
    "#..."
   ]
  },
  {
   "cell_type": "code",
   "execution_count": 4,
   "id": "0e412b0f-15a9-4d1b-9841-34a10e25b0b3",
   "metadata": {
    "tags": []
   },
   "outputs": [],
   "source": [
    "import importlib"
   ]
  },
  {
   "cell_type": "code",
   "execution_count": 5,
   "id": "8ead8811-6d1d-4376-88ba-8ac748284e77",
   "metadata": {
    "tags": []
   },
   "outputs": [],
   "source": [
    "#importlib.reload(ncd)"
   ]
  },
  {
   "cell_type": "code",
   "execution_count": 6,
   "id": "a4dfb7da-d994-4c00-90a6-cfa12dbb898d",
   "metadata": {},
   "outputs": [],
   "source": [
    "#import inspect\n",
    "#source_code = inspect.getsource(ncd)\n",
    "#print(source_code)"
   ]
  },
  {
   "cell_type": "markdown",
   "id": "bd5882d4-eab8-4da6-8bbe-6776d4195dd2",
   "metadata": {},
   "source": [
    "# Logging"
   ]
  },
  {
   "cell_type": "code",
   "execution_count": 7,
   "id": "852d5593-37d0-4ccb-be1f-29154bdc142f",
   "metadata": {},
   "outputs": [],
   "source": [
    "logger = logging.getLogger()  \n",
    "\n",
    "logFileName= r\"Example7.log\" \n",
    "\n",
    "loglevel = logging.DEBUG\n",
    "logging.basicConfig(filename=logFileName\n",
    "                        ,filemode='w'\n",
    "                        ,level=loglevel\n",
    "                        ,format=\"%(asctime)s ; %(name)-60s ; %(levelname)-7s ; %(message)s\")    \n",
    "\n",
    "fileHandler = logging.FileHandler(logFileName)     \n",
    "\n",
    "logger.addHandler(fileHandler)\n",
    "\n",
    "consoleHandler = logging.StreamHandler()\n",
    "consoleHandler.setFormatter(logging.Formatter(\"%(levelname)-7s ; %(message)s\"))\n",
    "consoleHandler.setLevel(logging.INFO)\n",
    "logger.addHandler(consoleHandler)"
   ]
  },
  {
   "cell_type": "markdown",
   "id": "1b34591a-c2d1-486b-b853-ed38cd5c8323",
   "metadata": {},
   "source": [
    "# Read Model and Results"
   ]
  },
  {
   "cell_type": "code",
   "execution_count": 8,
   "id": "29b18b2c-f2df-4b27-a96c-0e03af6f16b0",
   "metadata": {},
   "outputs": [],
   "source": [
    "dbFilename=\"Example5\"\n",
    "dbFile=os.path.join(os.path.dirname(os.path.abspath(dxAndMxHelperFcts.__file__))\n",
    "                    +'/Examples/'\n",
    "                    +dbFilename\n",
    "                    +'.db3'\n",
    ")"
   ]
  },
  {
   "cell_type": "code",
   "execution_count": 9,
   "id": "f8b5221c-0fd1-4fbc-abaf-81325ad2629d",
   "metadata": {},
   "outputs": [
    {
     "name": "stderr",
     "output_type": "stream",
     "text": [
      "INFO    ; Dx.__init__: dbFile (abspath): c:\\users\\aUserName\\3s\\pt3s\\Examples\\Example5.db3 exists readable ...\n",
      "INFO    ; dxAndMxHelperFcts.readDxAndMx: \n",
      "+..\\Examples\\Example5.db3 is newer than\n",
      "+..\\Examples\\WDExample5\\B1\\V0\\BZ1\\M-1-0-1.1.MX1:\n",
      "+SIR 3S' dbFile is newer than SIR 3S' mx1File\n",
      "+in this case the results are maybe dated or (worse) incompatible to the model\n",
      "INFO    ; dxAndMxHelperFcts.readDxAndMx: \n",
      "+..\\Examples\\WDExample5\\B1\\V0\\BZ1\\M-1-0-1.XML is newer than\n",
      "+..\\Examples\\WDExample5\\B1\\V0\\BZ1\\M-1-0-1.1.MX1:\n",
      "+SirCalc's xmlFile is newer than SIR 3S' mx1File\n",
      "+in this case the results are maybe dated or (worse) incompatible to the model\n",
      "INFO    ; Mx.setResultsToMxsFile: Mxs: ..\\Examples\\WDExample5\\B1\\V0\\BZ1\\M-1-0-1.1.MXS reading ...\n",
      "INFO    ; dxWithMx.__init__: Example5: processing dx and mx ...\n"
     ]
    }
   ],
   "source": [
    "m=dxAndMxHelperFcts.readDxAndMx(dbFile=dbFile,preventPklDump=True)#maxRecords=-1"
   ]
  },
  {
   "cell_type": "code",
   "execution_count": 57,
   "id": "f3b64c76-17da-43e3-8562-5bdeec2a53c5",
   "metadata": {},
   "outputs": [],
   "source": [
    "dfEBES=m.dx.dataFrames['EBES']\n",
    "dfEBES_BZ=m.dx.dataFrames['EBES_BZ']"
   ]
  },
  {
   "cell_type": "code",
   "execution_count": 58,
   "id": "89c96d28-b0db-405b-b9a6-0bb2bd9a25da",
   "metadata": {},
   "outputs": [
    {
     "data": {
      "text/html": [
       "<div>\n",
       "<style scoped>\n",
       "    .dataframe tbody tr th:only-of-type {\n",
       "        vertical-align: middle;\n",
       "    }\n",
       "\n",
       "    .dataframe tbody tr th {\n",
       "        vertical-align: top;\n",
       "    }\n",
       "\n",
       "    .dataframe thead th {\n",
       "        text-align: right;\n",
       "    }\n",
       "</style>\n",
       "<table border=\"1\" class=\"dataframe\">\n",
       "  <thead>\n",
       "    <tr style=\"text-align: right;\">\n",
       "      <th></th>\n",
       "      <th>index</th>\n",
       "      <th>pk</th>\n",
       "      <th>fkDE</th>\n",
       "      <th>rk</th>\n",
       "      <th>tk</th>\n",
       "      <th>NAME</th>\n",
       "      <th>LFDNR</th>\n",
       "      <th>OBJS</th>\n",
       "      <th>DELETED</th>\n",
       "      <th>SELECT1</th>\n",
       "      <th>IDREFERENZ</th>\n",
       "      <th>pk_BZ</th>\n",
       "      <th>fkDE_BZ</th>\n",
       "      <th>fk</th>\n",
       "      <th>AKTIV</th>\n",
       "      <th>AKTIVQS</th>\n",
       "      <th>VERSAGENSW</th>\n",
       "      <th>GRAF</th>\n",
       "    </tr>\n",
       "  </thead>\n",
       "  <tbody>\n",
       "    <tr>\n",
       "      <th>0</th>\n",
       "      <td>1</td>\n",
       "      <td>5408410878987506184</td>\n",
       "      <td>5613149064237404433</td>\n",
       "      <td>5408410878987506184</td>\n",
       "      <td>4947747250455344469</td>\n",
       "      <td>A</td>\n",
       "      <td>1.0</td>\n",
       "      <td>b'FWES~5237816858835684263'</td>\n",
       "      <td>0.0</td>\n",
       "      <td>None</td>\n",
       "      <td>-1</td>\n",
       "      <td>5011706316339838135</td>\n",
       "      <td>5032285329913031496</td>\n",
       "      <td>5408410878987506184</td>\n",
       "      <td>101.0</td>\n",
       "      <td>101.0</td>\n",
       "      <td>0.0</td>\n",
       "      <td>None</td>\n",
       "    </tr>\n",
       "    <tr>\n",
       "      <th>1</th>\n",
       "      <td>0</td>\n",
       "      <td>5622504138093320653</td>\n",
       "      <td>5613149064237404433</td>\n",
       "      <td>5622504138093320653</td>\n",
       "      <td>5601957102971980247</td>\n",
       "      <td>B</td>\n",
       "      <td>2.0</td>\n",
       "      <td>b'FWES~5175187672733343279'</td>\n",
       "      <td>0.0</td>\n",
       "      <td>None</td>\n",
       "      <td>-1</td>\n",
       "      <td>5184693889865717961</td>\n",
       "      <td>5032285329913031496</td>\n",
       "      <td>5622504138093320653</td>\n",
       "      <td>100.0</td>\n",
       "      <td>101.0</td>\n",
       "      <td>0.0</td>\n",
       "      <td>None</td>\n",
       "    </tr>\n",
       "  </tbody>\n",
       "</table>\n",
       "</div>"
      ],
      "text/plain": [
       "   index                   pk                 fkDE                   rk  \\\n",
       "0      1  5408410878987506184  5613149064237404433  5408410878987506184   \n",
       "1      0  5622504138093320653  5613149064237404433  5622504138093320653   \n",
       "\n",
       "                    tk NAME  LFDNR                         OBJS  DELETED  \\\n",
       "0  4947747250455344469    A    1.0  b'FWES~5237816858835684263'      0.0   \n",
       "1  5601957102971980247    B    2.0  b'FWES~5175187672733343279'      0.0   \n",
       "\n",
       "  SELECT1 IDREFERENZ                pk_BZ              fkDE_BZ  \\\n",
       "0    None         -1  5011706316339838135  5032285329913031496   \n",
       "1    None         -1  5184693889865717961  5032285329913031496   \n",
       "\n",
       "                    fk  AKTIV  AKTIVQS  VERSAGENSW  GRAF  \n",
       "0  5408410878987506184  101.0    101.0         0.0  None  \n",
       "1  5622504138093320653  100.0    101.0         0.0  None  "
      ]
     },
     "execution_count": 58,
     "metadata": {},
     "output_type": "execute_result"
    }
   ],
   "source": [
    "# Merge dfEBES and dfEBES_BZ on columns 'pk' and 'fk'\n",
    "vEBES = pd.merge(dfEBES, dfEBES_BZ, left_on='pk', right_on='fk', suffixes=('', '_BZ')).sort_values(by=['LFDNR', 'AKTIVQS']).reset_index()\n",
    "vEBES"
   ]
  },
  {
   "cell_type": "code",
   "execution_count": 59,
   "id": "1edd0e08-aba8-47c4-9898-222f268bc9d1",
   "metadata": {},
   "outputs": [],
   "source": [
    "# Create lists of NAME and LFDNR from the merged DataFrame\n",
    "Names = vEBES['NAME'].tolist()\n",
    "Lfdnrs = vEBES['LFDNR'].tolist()"
   ]
  },
  {
   "cell_type": "code",
   "execution_count": 60,
   "id": "d814a0e0-fd37-44d3-9c0e-53d51723be75",
   "metadata": {},
   "outputs": [
    {
     "data": {
      "text/plain": [
       "['A', 'B']"
      ]
     },
     "execution_count": 60,
     "metadata": {},
     "output_type": "execute_result"
    }
   ],
   "source": [
    "Names"
   ]
  },
  {
   "cell_type": "code",
   "execution_count": 61,
   "id": "b76f17b9-66eb-4a15-91cb-f54a098cb4c3",
   "metadata": {},
   "outputs": [
    {
     "data": {
      "text/plain": [
       "[1.0, 2.0]"
      ]
     },
     "execution_count": 61,
     "metadata": {},
     "output_type": "execute_result"
    }
   ],
   "source": [
    "Lfdnrs"
   ]
  },
  {
   "cell_type": "code",
   "execution_count": 62,
   "id": "8b51f09f-3eb5-476a-9102-10d73ce947d4",
   "metadata": {},
   "outputs": [
    {
     "data": {
      "text/plain": [
       "['qs_1.0_A', 'qs_2.0_B']"
      ]
     },
     "execution_count": 62,
     "metadata": {},
     "output_type": "execute_result"
    }
   ],
   "source": [
    "# Generate a list of column names based on LFDNR and NAME\n",
    "expColNames = ['qs' + '_' + str(Lfdnr) + '_' + Name for Lfdnr, Name in zip(Lfdnrs, Names)]\n",
    "expColNames"
   ]
  },
  {
   "cell_type": "code",
   "execution_count": 63,
   "id": "c7d87df1-0fc6-43fb-94de-64c0992d46cb",
   "metadata": {},
   "outputs": [],
   "source": [
    "# Check for inactive groups with AKTIVQS as float\n",
    "if not vEBES.shape == vEBES[vEBES['AKTIVQS'] == 101.0].shape:\n",
    "    print(\"Es gibt inaktive Einspeisergruppen!\")"
   ]
  },
  {
   "cell_type": "code",
   "execution_count": 64,
   "id": "c5988c5f-525b-4d84-9f1a-d0b7d92a2f61",
   "metadata": {},
   "outputs": [],
   "source": [
    "df=m.V3_KNOT"
   ]
  },
  {
   "cell_type": "code",
   "execution_count": 65,
   "id": "7b1a953a-47e7-48f4-aabc-b4ee4f547798",
   "metadata": {},
   "outputs": [],
   "source": [
    "col_tuple = ('STAT', 'KNOT~*~*~*~ESQUELLSP', pd.Timestamp('2024-01-09 23:00:00'), pd.Timestamp('2024-01-09 23:00:00'))"
   ]
  },
  {
   "cell_type": "code",
   "execution_count": 66,
   "id": "5cb8eea2-96dc-4cf0-b8d3-2aa81cd4fb33",
   "metadata": {},
   "outputs": [],
   "source": [
    "df['qsStr'] = df[col_tuple].str.decode('utf-8')"
   ]
  },
  {
   "cell_type": "code",
   "execution_count": 67,
   "id": "b50ec30b-0ecf-4815-a328-cc10a93ef8c9",
   "metadata": {},
   "outputs": [],
   "source": [
    "df['qsStr'] = df['qsStr'].str.rstrip()"
   ]
  },
  {
   "cell_type": "code",
   "execution_count": 68,
   "id": "57e30c41-09f7-4198-bae5-4d6e96aef5ad",
   "metadata": {},
   "outputs": [],
   "source": [
    "df['srcvector'] = df['qsStr'].apply(lambda x: [x.split('\\t')[0].strip()] + [elem.strip() for elem in x.split('\\t')[1:]])"
   ]
  },
  {
   "cell_type": "code",
   "execution_count": 69,
   "id": "8b9446a8-f15b-4c34-a4a8-72f5325a69fc",
   "metadata": {},
   "outputs": [],
   "source": [
    "gdf_KNOT = m.gdf_KNOT.dropna(subset=['geometry'])"
   ]
  },
  {
   "cell_type": "code",
   "execution_count": 70,
   "id": "57560d56-7f48-453d-813c-ded56f97386f",
   "metadata": {},
   "outputs": [],
   "source": [
    "df = pd.merge(gdf_KNOT, df[['pk', 'srcvector']], on='pk', how='left')"
   ]
  },
  {
   "cell_type": "code",
   "execution_count": 71,
   "id": "0f55b630-694a-4579-900b-c60fd3ebd792",
   "metadata": {},
   "outputs": [],
   "source": [
    "df['first_element'] = df['srcvector'].apply(lambda x: x[0] if isinstance(x, list) else None)"
   ]
  },
  {
   "cell_type": "code",
   "execution_count": 72,
   "id": "a296e4bf-2dbc-4319-aeca-51338629cb57",
   "metadata": {},
   "outputs": [],
   "source": [
    "df['second_element'] = df['srcvector'].apply(lambda x: x[1] if isinstance(x, list) else None)"
   ]
  },
  {
   "cell_type": "code",
   "execution_count": 73,
   "id": "920a41f0-55cc-48a0-9671-3d916fc3b4bc",
   "metadata": {},
   "outputs": [],
   "source": [
    "df['first_element'] = df['first_element'].astype(float)"
   ]
  },
  {
   "cell_type": "code",
   "execution_count": 74,
   "id": "37d758d0-2797-4190-b41b-f0d4c5a5fb67",
   "metadata": {},
   "outputs": [],
   "source": [
    "df['second_element'] = df['first_element'].astype(float)"
   ]
  },
  {
   "cell_type": "code",
   "execution_count": 75,
   "id": "b8597b88-8f35-461b-8f6c-9706c698b7a7",
   "metadata": {},
   "outputs": [],
   "source": [
    "df = df.dropna(subset=['dPH'])"
   ]
  },
  {
   "cell_type": "raw",
   "id": "ec7c1d42-27d9-4892-ad1d-e037c709d292",
   "metadata": {},
   "source": [
    "df_sorted_by_YKOR = df.sort_values(by='YKOR')\n",
    "df_sorted_by_XKOR = df.sort_values(by='XKOR')\n",
    "\n",
    "# Display the sorted columns\n",
    "print(\"Sorted YKOR column:\")\n",
    "print(df_sorted_by_YKOR['YKOR'])\n",
    "\n",
    "print(\"\\nSorted XKOR column:\")\n",
    "print(df_sorted_by_XKOR['XKOR'])"
   ]
  },
  {
   "cell_type": "code",
   "execution_count": 76,
   "id": "43abd407-4f3e-4dee-bba7-041d386c5282",
   "metadata": {},
   "outputs": [],
   "source": [
    "# Drop rows where 'YKOR' is less than 90000 or 'XKOR' is less than 40000\n",
    "df = df[(df['YKOR'] >= 90000) & (df['XKOR'] >= 40000)]"
   ]
  },
  {
   "cell_type": "code",
   "execution_count": 77,
   "id": "36c283c7-ff97-45df-ac99-61d192befa93",
   "metadata": {},
   "outputs": [
    {
     "data": {
      "text/html": [
       "<div>\n",
       "<style scoped>\n",
       "    .dataframe tbody tr th:only-of-type {\n",
       "        vertical-align: middle;\n",
       "    }\n",
       "\n",
       "    .dataframe tbody tr th {\n",
       "        vertical-align: top;\n",
       "    }\n",
       "\n",
       "    .dataframe thead th {\n",
       "        text-align: right;\n",
       "    }\n",
       "</style>\n",
       "<table border=\"1\" class=\"dataframe\">\n",
       "  <thead>\n",
       "    <tr style=\"text-align: right;\">\n",
       "      <th></th>\n",
       "      <th>pk</th>\n",
       "      <th>fkDE</th>\n",
       "      <th>rk</th>\n",
       "      <th>tk</th>\n",
       "      <th>NAME</th>\n",
       "      <th>KTYP</th>\n",
       "      <th>XKOR</th>\n",
       "      <th>YKOR</th>\n",
       "      <th>ZKOR</th>\n",
       "      <th>QM_EIN</th>\n",
       "      <th>...</th>\n",
       "      <th>(STAT, KNOT~*~*~*~QM, 2024-01-09 23:00:00, 2024-01-09 23:00:00)</th>\n",
       "      <th>(STAT, KNOT~*~*~*~RHO, 2024-01-09 23:00:00, 2024-01-09 23:00:00)</th>\n",
       "      <th>(STAT, KNOT~*~*~*~T, 2024-01-09 23:00:00, 2024-01-09 23:00:00)</th>\n",
       "      <th>(STAT, KNOT~*~*~*~VOLD, 2024-01-09 23:00:00, 2024-01-09 23:00:00)</th>\n",
       "      <th>PH</th>\n",
       "      <th>dPH</th>\n",
       "      <th>geometry</th>\n",
       "      <th>srcvector</th>\n",
       "      <th>first_element</th>\n",
       "      <th>second_element</th>\n",
       "    </tr>\n",
       "  </thead>\n",
       "  <tbody>\n",
       "    <tr>\n",
       "      <th>0</th>\n",
       "      <td>4678355169005004036</td>\n",
       "      <td>5613149064237404433</td>\n",
       "      <td>4678355169005004036</td>\n",
       "      <td>4680103632661687203</td>\n",
       "      <td>V-3354</td>\n",
       "      <td>QKON</td>\n",
       "      <td>55176.323661</td>\n",
       "      <td>98780.494875</td>\n",
       "      <td>29.299999</td>\n",
       "      <td>0.0</td>\n",
       "      <td>...</td>\n",
       "      <td>-0.0</td>\n",
       "      <td>1000.299988</td>\n",
       "      <td>10.0</td>\n",
       "      <td>0.0</td>\n",
       "      <td>9.065271</td>\n",
       "      <td>-9.536743e-07</td>\n",
       "      <td>POINT (55176.324 98780.495)</td>\n",
       "      <td>[0, 0]</td>\n",
       "      <td>0.0</td>\n",
       "      <td>0.0</td>\n",
       "    </tr>\n",
       "    <tr>\n",
       "      <th>1</th>\n",
       "      <td>5759822415014073091</td>\n",
       "      <td>5613149064237404433</td>\n",
       "      <td>5759822415014073091</td>\n",
       "      <td>5540855804579832866</td>\n",
       "      <td>V-1503</td>\n",
       "      <td>QKON</td>\n",
       "      <td>48826.419913</td>\n",
       "      <td>98285.548412</td>\n",
       "      <td>30.500000</td>\n",
       "      <td>0.0</td>\n",
       "      <td>...</td>\n",
       "      <td>0.0</td>\n",
       "      <td>935.395935</td>\n",
       "      <td>129.782288</td>\n",
       "      <td>0.0</td>\n",
       "      <td>8.247993</td>\n",
       "      <td>2.906271e+00</td>\n",
       "      <td>POINT (48826.420 98285.548)</td>\n",
       "      <td>[100, 0]</td>\n",
       "      <td>100.0</td>\n",
       "      <td>100.0</td>\n",
       "    </tr>\n",
       "    <tr>\n",
       "      <th>2</th>\n",
       "      <td>4937617602785191405</td>\n",
       "      <td>5613149064237404433</td>\n",
       "      <td>4937617602785191405</td>\n",
       "      <td>5517245021561014546</td>\n",
       "      <td>R-3120</td>\n",
       "      <td>QKON</td>\n",
       "      <td>54520.835675</td>\n",
       "      <td>98283.398808</td>\n",
       "      <td>28.100000</td>\n",
       "      <td>0.0</td>\n",
       "      <td>...</td>\n",
       "      <td>-0.0</td>\n",
       "      <td>1000.299988</td>\n",
       "      <td>10.0</td>\n",
       "      <td>0.0</td>\n",
       "      <td>9.183028</td>\n",
       "      <td>-1.907349e-06</td>\n",
       "      <td>POINT (54520.836 98283.399)</td>\n",
       "      <td>[0, 0]</td>\n",
       "      <td>0.0</td>\n",
       "      <td>0.0</td>\n",
       "    </tr>\n",
       "    <tr>\n",
       "      <th>3</th>\n",
       "      <td>5468959419408453250</td>\n",
       "      <td>5613149064237404433</td>\n",
       "      <td>5468959419408453250</td>\n",
       "      <td>5025567272877293202</td>\n",
       "      <td>V-3604</td>\n",
       "      <td>QKON</td>\n",
       "      <td>53007.627163</td>\n",
       "      <td>98806.657826</td>\n",
       "      <td>26.600000</td>\n",
       "      <td>0.0</td>\n",
       "      <td>...</td>\n",
       "      <td>0.0</td>\n",
       "      <td>936.481689</td>\n",
       "      <td>128.522919</td>\n",
       "      <td>0.0</td>\n",
       "      <td>8.77282</td>\n",
       "      <td>3.201668e+00</td>\n",
       "      <td>POINT (53007.627 98806.658)</td>\n",
       "      <td>[45, 55]</td>\n",
       "      <td>45.0</td>\n",
       "      <td>45.0</td>\n",
       "    </tr>\n",
       "    <tr>\n",
       "      <th>4</th>\n",
       "      <td>5526072131156860534</td>\n",
       "      <td>5613149064237404433</td>\n",
       "      <td>5526072131156860534</td>\n",
       "      <td>4660263951317730783</td>\n",
       "      <td>V-IHAF1</td>\n",
       "      <td>QKON</td>\n",
       "      <td>47711.710479</td>\n",
       "      <td>98384.669793</td>\n",
       "      <td>27.600000</td>\n",
       "      <td>0.0</td>\n",
       "      <td>...</td>\n",
       "      <td>0.0</td>\n",
       "      <td>938.922852</td>\n",
       "      <td>125.596466</td>\n",
       "      <td>0.0</td>\n",
       "      <td>7.848343</td>\n",
       "      <td>1.547821e+00</td>\n",
       "      <td>POINT (47711.710 98384.670)</td>\n",
       "      <td>[100, 0]</td>\n",
       "      <td>100.0</td>\n",
       "      <td>100.0</td>\n",
       "    </tr>\n",
       "  </tbody>\n",
       "</table>\n",
       "<p>5 rows × 152 columns</p>\n",
       "</div>"
      ],
      "text/plain": [
       "                    pk                 fkDE                   rk  \\\n",
       "0  4678355169005004036  5613149064237404433  4678355169005004036   \n",
       "1  5759822415014073091  5613149064237404433  5759822415014073091   \n",
       "2  4937617602785191405  5613149064237404433  4937617602785191405   \n",
       "3  5468959419408453250  5613149064237404433  5468959419408453250   \n",
       "4  5526072131156860534  5613149064237404433  5526072131156860534   \n",
       "\n",
       "                    tk     NAME  KTYP          XKOR          YKOR       ZKOR  \\\n",
       "0  4680103632661687203   V-3354  QKON  55176.323661  98780.494875  29.299999   \n",
       "1  5540855804579832866   V-1503  QKON  48826.419913  98285.548412  30.500000   \n",
       "2  5517245021561014546   R-3120  QKON  54520.835675  98283.398808  28.100000   \n",
       "3  5025567272877293202   V-3604  QKON  53007.627163  98806.657826  26.600000   \n",
       "4  4660263951317730783  V-IHAF1  QKON  47711.710479  98384.669793  27.600000   \n",
       "\n",
       "   QM_EIN  ...  \\\n",
       "0     0.0  ...   \n",
       "1     0.0  ...   \n",
       "2     0.0  ...   \n",
       "3     0.0  ...   \n",
       "4     0.0  ...   \n",
       "\n",
       "   (STAT, KNOT~*~*~*~QM, 2024-01-09 23:00:00, 2024-01-09 23:00:00)  \\\n",
       "0                                               -0.0                 \n",
       "1                                                0.0                 \n",
       "2                                               -0.0                 \n",
       "3                                                0.0                 \n",
       "4                                                0.0                 \n",
       "\n",
       "  (STAT, KNOT~*~*~*~RHO, 2024-01-09 23:00:00, 2024-01-09 23:00:00)  \\\n",
       "0                                        1000.299988                 \n",
       "1                                         935.395935                 \n",
       "2                                        1000.299988                 \n",
       "3                                         936.481689                 \n",
       "4                                         938.922852                 \n",
       "\n",
       "  (STAT, KNOT~*~*~*~T, 2024-01-09 23:00:00, 2024-01-09 23:00:00)  \\\n",
       "0                                               10.0               \n",
       "1                                         129.782288               \n",
       "2                                               10.0               \n",
       "3                                         128.522919               \n",
       "4                                         125.596466               \n",
       "\n",
       "  (STAT, KNOT~*~*~*~VOLD, 2024-01-09 23:00:00, 2024-01-09 23:00:00)        PH  \\\n",
       "0                                                0.0                 9.065271   \n",
       "1                                                0.0                 8.247993   \n",
       "2                                                0.0                 9.183028   \n",
       "3                                                0.0                  8.77282   \n",
       "4                                                0.0                 7.848343   \n",
       "\n",
       "            dPH                     geometry srcvector first_element  \\\n",
       "0 -9.536743e-07  POINT (55176.324 98780.495)    [0, 0]           0.0   \n",
       "1  2.906271e+00  POINT (48826.420 98285.548)  [100, 0]         100.0   \n",
       "2 -1.907349e-06  POINT (54520.836 98283.399)    [0, 0]           0.0   \n",
       "3  3.201668e+00  POINT (53007.627 98806.658)  [45, 55]          45.0   \n",
       "4  1.547821e+00  POINT (47711.710 98384.670)  [100, 0]         100.0   \n",
       "\n",
       "   second_element  \n",
       "0             0.0  \n",
       "1           100.0  \n",
       "2             0.0  \n",
       "3            45.0  \n",
       "4           100.0  \n",
       "\n",
       "[5 rows x 152 columns]"
      ]
     },
     "execution_count": 77,
     "metadata": {},
     "output_type": "execute_result"
    }
   ],
   "source": [
    "df.head()"
   ]
  },
  {
   "cell_type": "code",
   "execution_count": 78,
   "id": "8762889f-649d-411e-881c-ab01ddae45d6",
   "metadata": {},
   "outputs": [
    {
     "data": {
      "image/png": "[encoded data removed]",
      "text/plain": [
       "<Figure size 1654x1169 with 1 Axes>"
      ]
     },
     "metadata": {},
     "output_type": "display_data"
    }
   ],
   "source": [
    "fig, ax = plt.subplots(figsize=Rm.DINA3q)\n",
    "\n",
    "nodes_patches_1 = ncd.pNcd_nodes(ax=ax,\n",
    "                                 gdf=df,\n",
    "                                 attribute='first_element',  # kW\n",
    "                                 colors=['oldlace', 'orange'],\n",
    "                                 marker_style='p',\n",
    "                                 marker_size_factor=50,\n",
    "                                 #legend_fmt='',\n",
    "                                 #legend_values=[0, 20, 40, 60, 80],\n",
    "                                 zorder=1)\n",
    "nodes_patches_1 = ncd.pNcd_nodes(ax=ax,\n",
    "                                 gdf=df,\n",
    "                                 attribute='second_element',  # kW\n",
    "                                 colors=['darkgreen', 'magenta'],\n",
    "                                 marker_style='p',\n",
    "                                 marker_size_factor=50,\n",
    "                                 #legend_fmt='',\n",
    "                                 #legend_values=[0, 20, 40, 60, 80],\n",
    "                                 zorder=1)\n",
    "\n",
    "all_patches = nodes_patches_1\n",
    "ax.legend(handles=all_patches, loc='best')\n",
    "\n",
    "#cx.add_basemap(ax, crs=gdf_ROHR.crs.to_string(), source=cx.providers.CartoDB.PositronNoLabels)\n",
    "#cx.add_basemap(ax, crs=gdf_ROHR.crs.to_string(), source=cx.providers.CartoDB.PositronOnlyLabels)\n",
    "\n",
    "plt.title('Network Color Diagram')\n",
    "\n",
    "plt.savefig('Example7_Output_1.pdf', dpi=300, bbox_inches='tight')\n",
    "plt.show()"
   ]
  },
  {
   "cell_type": "code",
   "execution_count": null,
   "id": "b9eae40b-1f5e-433b-b7e5-d3b9a8259367",
   "metadata": {},
   "outputs": [],
   "source": []
  },
  {
   "cell_type": "code",
   "execution_count": null,
   "id": "19365241-19a6-40c2-a454-918553c5e176",
   "metadata": {},
   "outputs": [],
   "source": [
    "try:\n",
    "    from PT3S import Rm\n",
    "except:\n",
    "    import Rm\n",
    "try:\n",
    "    from PT3S import ncd\n",
    "except:\n",
    "    import ncd\n",
    "import matplotlib.pyplot as plt\n",
    "import contextily as cx\n",
    "\n"
   ]
  }
 ],
 "metadata": {
  "kernelspec": {
   "display_name": "Python 3 (ipykernel)",
   "language": "python",
   "name": "python3"
  },
  "language_info": {
   "codemirror_mode": {
    "name": "ipython",
    "version": 3
   },
   "file_extension": ".py",
   "mimetype": "text/x-python",
   "name": "python",
   "nbconvert_exporter": "python",
   "pygments_lexer": "ipython3",
   "version": "3.11.8"
  }
 },
 "nbformat": 4,
 "nbformat_minor": 5
}
