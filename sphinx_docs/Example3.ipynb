{
 "cells": [
  {
   "cell_type": "markdown",
   "id": "7a1fb7aa-5d42-4813-8cfc-138d37e190b7",
   "metadata": {},
   "source": [
    "# PT3S"
   ]
  },
  {
   "cell_type": "code",
   "execution_count": 1,
   "id": "b5ae379d-5f24-4305-a656-3072b10fda24",
   "metadata": {},
   "outputs": [],
   "source": [
    "#pip install PT3S -U --no-deps"
   ]
  },
  {
   "cell_type": "markdown",
   "id": "f1107fd7-2ef9-46e6-970c-1be64b9ebb37",
   "metadata": {},
   "source": [
    "# Imports"
   ]
  },
  {
   "cell_type": "code",
   "execution_count": 2,
   "id": "0226b804-5149-4dc7-9188-8aad75db325d",
   "metadata": {},
   "outputs": [],
   "source": [
    "import os\n",
    "import logging\n",
    "import pandas as pd\n",
    "import datetime\n",
    "import numpy as np\n",
    "import subprocess\n",
    "\n",
    "import matplotlib\n",
    "import matplotlib.pyplot as plt\n",
    "import matplotlib.dates as mdates\n",
    "import matplotlib.gridspec as gridspec\n",
    "import matplotlib.ticker as ticker\n",
    "import matplotlib.colors as mcolors\n",
    "from matplotlib.pyplot import Polygon\n",
    "from matplotlib.ticker import FuncFormatter\n",
    "from matplotlib.dates import DateFormatter, MinuteLocator\n",
    "import matplotlib.ticker as ticker\n",
    "\n",
    "import ipywidgets as widgets\n",
    "from ipywidgets import interact\n",
    "\n",
    "from bokeh.plotting import figure, show, output_file\n",
    "from bokeh.models import ColumnDataSource, LinearAxis, Range1d\n",
    "from bokeh.palettes import Spectral10\n",
    "\n",
    "from IPython.display import Image\n",
    "\n",
    "try:\n",
    "    from PT3S import dxAndMxHelperFcts\n",
    "except:\n",
    "    import dxAndMxHelperFcts\n",
    "\n",
    "try:\n",
    "    from PT3S import Rm\n",
    "except:\n",
    "    import Rm"
   ]
  },
  {
   "cell_type": "code",
   "execution_count": 3,
   "id": "c4f5edb0-53a1-4cde-a4c0-77ffbd2c805c",
   "metadata": {
    "tags": []
   },
   "outputs": [],
   "source": [
    "#import importlib"
   ]
  },
  {
   "cell_type": "code",
   "execution_count": 4,
   "id": "4d173d17-ba35-41b0-b9b1-5e617e84e10e",
   "metadata": {
    "tags": []
   },
   "outputs": [],
   "source": [
    "#importlib.reload(dxAndMxHelperFcts)"
   ]
  },
  {
   "cell_type": "markdown",
   "id": "6ea9586f-0ea5-4b25-8ec9-0d350fa77c24",
   "metadata": {},
   "source": [
    "# Logging"
   ]
  },
  {
   "cell_type": "code",
   "execution_count": 5,
   "id": "7c93b42e-919d-4edf-a342-253e67b02132",
   "metadata": {},
   "outputs": [],
   "source": [
    "logger = logging.getLogger()  \n",
    "\n",
    "logFileName= r\"Example3.log\" \n",
    "\n",
    "loglevel = logging.DEBUG\n",
    "logging.basicConfig(filename=logFileName\n",
    "                        ,filemode='w'\n",
    "                        ,level=loglevel\n",
    "                        ,format=\"%(asctime)s ; %(name)-60s ; %(levelname)-7s ; %(message)s\")    \n",
    "\n",
    "fileHandler = logging.FileHandler(logFileName)     \n",
    "\n",
    "logger.addHandler(fileHandler)\n",
    "\n",
    "consoleHandler = logging.StreamHandler()\n",
    "consoleHandler.setFormatter(logging.Formatter(\"%(levelname)-7s ; %(message)s\"))\n",
    "consoleHandler.setLevel(logging.INFO)\n",
    "logger.addHandler(consoleHandler)"
   ]
  },
  {
   "cell_type": "markdown",
   "id": "df38a119-bf7c-47ea-a309-f06dfd9c4e28",
   "metadata": {},
   "source": [
    "# Read Model and Results"
   ]
  },
  {
   "cell_type": "code",
   "execution_count": 6,
   "id": "e96fb06c-2451-42b8-9818-532b31106bb9",
   "metadata": {
    "tags": []
   },
   "outputs": [],
   "source": [
    "dbFilename=\"Example3\"\n",
    "dbFile=os.path.join(os.path.dirname(os.path.abspath(dxAndMxHelperFcts.__file__))\n",
    "                    +'/Examples/'\n",
    "                    +dbFilename\n",
    "                    +'.db3'\n",
    ")"
   ]
  },
  {
   "cell_type": "code",
   "execution_count": 7,
   "id": "f8b5221c-0fd1-4fbc-abaf-81325ad2629d",
   "metadata": {},
   "outputs": [
    {
     "name": "stderr",
     "output_type": "stream",
     "text": [
      "INFO    ; Dx.__init__: dbFile (abspath): c:\\users\\aUserName\\3s\\pt3s\\Examples\\Example3.db3 exists readable ...\n",
      "INFO    ; dxAndMxHelperFcts.readDxAndMx: \n",
      "+..\\Examples\\Example3.db3 is newer than\n",
      "+..\\Examples\\WDExample3\\B1\\V0\\BZ1\\M-1-0-1.1.MX1:\n",
      "+SIR 3S' dbFile is newer than SIR 3S' mx1File\n",
      "+in this case the results are maybe dated or (worse) incompatible to the model\n",
      "INFO    ; dxAndMxHelperFcts.readDxAndMx: \n",
      "+..\\Examples\\WDExample3\\B1\\V0\\BZ1\\M-1-0-1.XML is newer than\n",
      "+..\\Examples\\WDExample3\\B1\\V0\\BZ1\\M-1-0-1.1.MX1:\n",
      "+SirCalc's xmlFile is newer than SIR 3S' mx1File\n",
      "+in this case the results are maybe dated or (worse) incompatible to the model\n",
      "INFO    ; dxAndMxHelperFcts.readDxAndMx: running C:\\\\3S\\SIR 3S\\SirCalc-90-14-02-10_Potsdam\\SirCalc.exe ...\n",
      "INFO    ; Mx.setResultsToMxsFile: Mxs: ..\\Examples\\WDExample3\\B1\\V0\\BZ1\\M-1-0-1.1.MXS reading ...\n",
      "INFO    ; dxWithMx.__init__: Example3: processing dx and mx ...\n"
     ]
    }
   ],
   "source": [
    "m=dxAndMxHelperFcts.readDxAndMx(dbFile=dbFile                                 \n",
    "                                ,preventPklDump=True\n",
    "                                ,maxRecords=-1\n",
    ")"
   ]
  },
  {
   "cell_type": "code",
   "execution_count": 8,
   "id": "c524a2d1-1ed1-4092-a476-72373fe9cf83",
   "metadata": {
    "tags": []
   },
   "outputs": [
    {
     "data": {
      "text/plain": [
       "((537, 47), (528, 10))"
      ]
     },
     "execution_count": 8,
     "metadata": {},
     "output_type": "execute_result"
    }
   ],
   "source": [
    "m.V3_AGSN.shape,m.dfAGSN.shape"
   ]
  },
  {
   "cell_type": "markdown",
   "id": "8311b30d-90d7-4dac-918e-9ab104b44769",
   "metadata": {},
   "source": [
    "# Longitudinal Sections: V3_AGSN"
   ]
  },
  {
   "cell_type": "code",
   "execution_count": 9,
   "id": "17078a88-49f7-42a6-b7ea-04ddd77f6d89",
   "metadata": {
    "tags": []
   },
   "outputs": [],
   "source": [
    "#m.V3_AGSN"
   ]
  },
  {
   "cell_type": "code",
   "execution_count": 10,
   "id": "04420bf6-e17c-4b6d-a257-1d0ac63a91c1",
   "metadata": {
    "tags": []
   },
   "outputs": [],
   "source": [
    "#m.dfAGSN"
   ]
  },
  {
   "cell_type": "code",
   "execution_count": 11,
   "id": "48ea993d-a43b-4f2c-9289-0768943b89af",
   "metadata": {
    "tags": []
   },
   "outputs": [
    {
     "data": {
      "text/plain": [
       "['Pos', 'TYPE', 'ID', 'pk', 'tk', 'LFDNR', 'NAME', 'XL', 'compNr', 'nextNODE']"
      ]
     },
     "execution_count": 11,
     "metadata": {},
     "output_type": "execute_result"
    }
   ],
   "source": [
    "m.dfAGSN.columns.to_list()"
   ]
  },
  {
   "cell_type": "code",
   "execution_count": 12,
   "id": "0f0e8387-1c90-4be3-802f-df3b7baf0ee6",
   "metadata": {
    "tags": []
   },
   "outputs": [
    {
     "data": {
      "text/plain": [
       "['Pos',\n",
       " 'pk',\n",
       " 'tk',\n",
       " 'LFDNR',\n",
       " 'NAME',\n",
       " 'XL',\n",
       " 'compNr',\n",
       " 'nextNODE',\n",
       " 'OBJTYPE',\n",
       " 'OBJID',\n",
       " 'L',\n",
       " 'DN',\n",
       " 'Am2',\n",
       " 'Vm3',\n",
       " 'NAME_CONT',\n",
       " 'NAME_i',\n",
       " 'NAME_k',\n",
       " 'ZKOR_n',\n",
       " 'BESCHREIBUNG_n',\n",
       " 'KVR_n',\n",
       " 'LSum',\n",
       " 'direction',\n",
       " \"('STAT', 'KNOT~*~*~*~PH', Timestamp('2023-02-12 23:00:00'), Timestamp('2023-02-12 23:00:00'))_n\",\n",
       " \"('TIME', 'KNOT~*~*~*~PH', Timestamp('2023-02-12 23:00:00'), Timestamp('2023-02-12 23:00:00'))_n\",\n",
       " \"('TMIN', 'KNOT~*~*~*~PH', Timestamp('2023-02-12 23:00:00'), Timestamp('2023-02-13 23:00:00'))_n\",\n",
       " \"('TMAX', 'KNOT~*~*~*~PH', Timestamp('2023-02-12 23:00:00'), Timestamp('2023-02-13 23:00:00'))_n\",\n",
       " \"('STAT', 'KNOT~*~*~*~H', Timestamp('2023-02-12 23:00:00'), Timestamp('2023-02-12 23:00:00'))_n\",\n",
       " \"('TIME', 'KNOT~*~*~*~H', Timestamp('2023-02-12 23:00:00'), Timestamp('2023-02-12 23:00:00'))_n\",\n",
       " \"('TMIN', 'KNOT~*~*~*~H', Timestamp('2023-02-12 23:00:00'), Timestamp('2023-02-13 23:00:00'))_n\",\n",
       " \"('TMAX', 'KNOT~*~*~*~H', Timestamp('2023-02-12 23:00:00'), Timestamp('2023-02-13 23:00:00'))_n\",\n",
       " \"('STAT', 'KNOT~*~*~*~T', Timestamp('2023-02-12 23:00:00'), Timestamp('2023-02-12 23:00:00'))_n\",\n",
       " \"('TIME', 'KNOT~*~*~*~T', Timestamp('2023-02-12 23:00:00'), Timestamp('2023-02-12 23:00:00'))_n\",\n",
       " \"('TMIN', 'KNOT~*~*~*~T', Timestamp('2023-02-12 23:00:00'), Timestamp('2023-02-13 23:00:00'))_n\",\n",
       " \"('TMAX', 'KNOT~*~*~*~T', Timestamp('2023-02-12 23:00:00'), Timestamp('2023-02-13 23:00:00'))_n\",\n",
       " \"('STAT', 'KNOT~*~*~*~RHO', Timestamp('2023-02-12 23:00:00'), Timestamp('2023-02-12 23:00:00'))_n\",\n",
       " \"('TIME', 'KNOT~*~*~*~RHO', Timestamp('2023-02-12 23:00:00'), Timestamp('2023-02-12 23:00:00'))_n\",\n",
       " \"('TMIN', 'KNOT~*~*~*~RHO', Timestamp('2023-02-12 23:00:00'), Timestamp('2023-02-13 23:00:00'))_n\",\n",
       " \"('TMAX', 'KNOT~*~*~*~RHO', Timestamp('2023-02-12 23:00:00'), Timestamp('2023-02-13 23:00:00'))_n\",\n",
       " 'PH_n',\n",
       " 'T_n',\n",
       " 'H_n',\n",
       " 'RHO_n',\n",
       " 'mlc_n',\n",
       " \"('STAT', 'mlc', Timestamp('2023-02-12 23:00:00'), Timestamp('2023-02-12 23:00:00'))_n\",\n",
       " \"('TIME', 'mlc', Timestamp('2023-02-12 23:00:00'), Timestamp('2023-02-12 23:00:00'))_n\",\n",
       " \"('TMIN', 'mlc', Timestamp('2023-02-12 23:00:00'), Timestamp('2023-02-13 23:00:00'))_n\",\n",
       " \"('TMAX', 'mlc', Timestamp('2023-02-12 23:00:00'), Timestamp('2023-02-13 23:00:00'))_n\"]"
      ]
     },
     "execution_count": 12,
     "metadata": {},
     "output_type": "execute_result"
    }
   ],
   "source": [
    "m.V3_AGSN.columns.to_list()"
   ]
  },
  {
   "cell_type": "markdown",
   "id": "534b18fc-7bd6-4e68-ba3c-2b9bc8dc8956",
   "metadata": {},
   "source": [
    "# Section No. 1"
   ]
  },
  {
   "cell_type": "code",
   "execution_count": 13,
   "id": "e7d974a2-f437-4c5c-9692-b18babf4ad73",
   "metadata": {
    "tags": []
   },
   "outputs": [],
   "source": [
    "dfAGSN=m.V3_AGSN[\n",
    "    (m.V3_AGSN['LFDNR']==1)\n",
    "    &\n",
    "    (m.V3_AGSN['XL']==1)\n",
    "]\n",
    "colsAGSNBase=['LFDNR','XL','Pos']+['OBJTYPE'\n",
    "                                   ,'OBJID'\n",
    "                                   ,'DN'\n",
    "                                   #,'Am2','Vm3'\n",
    "                                   #,'NAME_CONT'\n",
    "                                   ,'NAME_i','NAME_k']+['QM','direction']+['L','LSum']\n",
    "\n",
    "#dfAGSN[colsAGSNBase+['nextNODE','PH_n']]"
   ]
  },
  {
   "cell_type": "code",
   "execution_count": 14,
   "id": "a7f94e62-5673-4771-973b-e7abbde3842a",
   "metadata": {
    "tags": []
   },
   "outputs": [],
   "source": [
    "dfAGSNRL=m.V3_AGSN[\n",
    "    (m.V3_AGSN['LFDNR']==1)\n",
    "    &\n",
    "    (m.V3_AGSN['XL']==2)\n",
    "]\n",
    "#dfAGSNRL[colsAGSNBase+['nextNODE','PH_n']]"
   ]
  },
  {
   "cell_type": "markdown",
   "id": "46adca17-6445-4f78-be83-a5199a0d5f45",
   "metadata": {},
   "source": [
    "# Plot"
   ]
  },
  {
   "cell_type": "markdown",
   "id": "53d0c871-89c2-43b7-a559-a3be1f9c77a3",
   "metadata": {},
   "source": [
    "## Define Axes"
   ]
  },
  {
   "cell_type": "code",
   "execution_count": 15,
   "id": "19a5f012-011c-4c70-bc59-a2911bcd3187",
   "metadata": {},
   "outputs": [],
   "source": [
    "def fyPH(ax,offset=0):\n",
    "    ax.spines[\"left\"].set_position((\"outward\", offset))\n",
    "    ax.set_ylabel('PH Druck in bar')\n",
    "    #ax.set_ylim(1,6)\n",
    "    #ax.set_yticks(sorted(np.append(np.linspace(1,6,11),[])))\n",
    "    ax.yaxis.set_ticks_position('left')\n",
    "    ax.yaxis.set_label_position('left')\n",
    "    \n",
    "def fymlc(ax,offset=60):\n",
    "    ax.spines[\"left\"].set_position((\"outward\", offset))\n",
    "    ax.set_ylabel('mlc Druckhöhe in mlc')\n",
    "    #ax.set_ylim(1,6)\n",
    "    #ax.set_yticks(sorted(np.append(np.linspace(1,6,11),[])))\n",
    "    ax.yaxis.set_ticks_position('left')\n",
    "    ax.yaxis.set_label_position('left')\n",
    "    \n",
    "def fybarBzg(ax,offset=120):\n",
    "    ax.spines[\"left\"].set_position((\"outward\", offset))\n",
    "    ax.set_ylabel('H Druck in barBzg')\n",
    "    #ax.set_ylim(1,6)\n",
    "    #ax.set_yticks(sorted(np.append(np.linspace(1,6,11),[])))\n",
    "    ax.yaxis.set_ticks_position('left')\n",
    "    ax.yaxis.set_label_position('left')\n",
    "\n",
    "def fyM(ax,offset=180):\n",
    "    Rm.pltLDSHelperY(ax)\n",
    "    ax.spines[\"left\"].set_position((\"outward\",offset))\n",
    "    ax.set_ylabel('QM Massenstrom in t/h')\n",
    "    #ax.set_ylim(500,550)\n",
    "    #ax.set_yticks(sorted(np.append(np.linspace(500,550,11),[])))\n",
    "    ax.yaxis.set_ticks_position('left')\n",
    "    ax.yaxis.set_label_position('left')\n",
    "    \n",
    "def fyT(ax,offset=240):\n",
    "    Rm.pltLDSHelperY(ax)\n",
    "    ax.spines[\"left\"].set_position((\"outward\",offset))\n",
    "    ax.set_ylabel('T Tempertatur in °C')\n",
    "    ax.set_ylim(55,95)\n",
    "    #ax.set_yticks(sorted(np.append(np.linspace(0,95,11),[])))\n",
    "    ax.yaxis.set_ticks_position('left')\n",
    "    ax.yaxis.set_label_position('left')\n",
    "    \n",
    " "
   ]
  },
  {
   "cell_type": "markdown",
   "id": "1923a441-1bdb-4673-837c-832b08dd6b1d",
   "metadata": {},
   "source": [
    "## Plotfunction"
   ]
  },
  {
   "cell_type": "code",
   "execution_count": 16,
   "id": "8af80a44-9bdc-44e9-84b7-d2b44ce22d0f",
   "metadata": {},
   "outputs": [],
   "source": [
    "def plot(ax0        \n",
    "        ,dfAGSN=pd.DataFrame()\n",
    "        ,dfAGSNRL=pd.DataFrame()\n",
    "        ,title='Longitudinal Section'\n",
    "        ,PHCol='PH_n'\n",
    "        ,mlcCol='mlc_n'\n",
    "        ,zKoorCol='ZKOR_n'\n",
    "        ,barBzgCol='H_n'\n",
    "        ,QMCol='QM'\n",
    "        ,TCol='T_n'\n",
    "        ,xCol='LSum'\n",
    "        \n",
    "):\n",
    "                       \n",
    "    ax0.set_yticks(np.linspace(0, 10, 21))\n",
    "    ax0.yaxis.set_ticklabels([])\n",
    "    ax0.grid()\n",
    "\n",
    "    #PH\n",
    "    ax1 = ax0.twinx()     \n",
    "    fyPH(ax1) \n",
    "    PH_SL=ax1.plot(dfAGSN[xCol], dfAGSN[PHCol], color='red', label='PH SL',ls='dotted')\n",
    "    PH_RL=ax1.plot(dfAGSNRL[xCol], dfAGSNRL[PHCol], color='blue', label='PH RL',ls='dotted')\n",
    "    \n",
    "    #mlc\n",
    "    ax11 = ax0.twinx()     \n",
    "    fymlc(ax11) \n",
    "    mlc_SL=ax11.plot(dfAGSN[xCol], dfAGSN[mlcCol], color='red', label='mlc SL')\n",
    "    mlc_RL=ax11.plot(dfAGSNRL[xCol], dfAGSNRL[mlcCol], color='blue', label='mlc RL')\n",
    "    \n",
    "    z=ax11.plot(dfAGSN[xCol], dfAGSN[zKoorCol], color='black', label='z',ls='dashed',alpha=.5)\n",
    "    \n",
    "    #barBZG\n",
    "    ax12 = ax0.twinx()     \n",
    "    fybarBzg(ax12) \n",
    "    barB_SL=ax12.plot(dfAGSN[xCol], dfAGSN[barBzgCol], color='red', label='H SL',ls='dashdot')\n",
    "    barB_RL=ax12.plot(dfAGSNRL[xCol], dfAGSNRL[barBzgCol], color='blue', label='H RL',ls='dashdot')\n",
    "    \n",
    "    #M\n",
    "    ax2 = ax0.twinx()     \n",
    "    fyM(ax2)\n",
    "    QM_SL=ax2.step(dfAGSN[xCol], dfAGSN[QMCol]*dfAGSN['direction'], color='orange', label='M SL')\n",
    "    QM_RL=ax2.step(dfAGSNRL[xCol], dfAGSNRL[QMCol]*dfAGSNRL['direction'], color='cyan', label='M RL',ls='--')\n",
    "    \n",
    "    #T\n",
    "    ax3 = ax0.twinx() \n",
    "    fyT(ax3)\n",
    "    T_SL=ax3.plot(dfAGSN[xCol], dfAGSN[TCol], color='pink', label='T SL')\n",
    "    T_RL=ax3.plot(dfAGSNRL[xCol], dfAGSNRL[TCol], color='lavender', label='T RL')\n",
    "    \n",
    "    ax0.set_title(title)\n",
    "\n",
    "    # legend\n",
    "    lns =  PH_SL+ PH_RL + mlc_SL+ mlc_RL + barB_SL+ barB_RL+ QM_SL+ QM_RL + T_SL+ T_RL + z\n",
    "    labs = [l.get_label() for l in lns]\n",
    "    ax0.legend(lns, labs)\n",
    "    \n",
    "    "
   ]
  },
  {
   "cell_type": "markdown",
   "id": "8cdf3a3a-5348-4723-ad68-f0a2f6ecd779",
   "metadata": {},
   "source": [
    "## Plot"
   ]
  },
  {
   "cell_type": "code",
   "execution_count": 17,
   "id": "5b7bdfac-6a8e-4edd-88da-843b68084a67",
   "metadata": {
    "tags": []
   },
   "outputs": [
    {
     "ename": "KeyError",
     "evalue": "'QM'",
     "output_type": "error",
     "traceback": [
      "\u001b[1;31m---------------------------------------------------------------------------\u001b[0m",
      "\u001b[1;31mKeyError\u001b[0m                                  Traceback (most recent call last)",
      "File \u001b[1;32m~\\AppData\\Local\\anaconda3\\Lib\\site-packages\\pandas\\core\\indexes\\base.py:3805\u001b[0m, in \u001b[0;36mIndex.get_loc\u001b[1;34m(self, key)\u001b[0m\n\u001b[0;32m   3804\u001b[0m \u001b[38;5;28;01mtry\u001b[39;00m:\n\u001b[1;32m-> 3805\u001b[0m     \u001b[38;5;28;01mreturn\u001b[39;00m \u001b[38;5;28mself\u001b[39m\u001b[38;5;241m.\u001b[39m_engine\u001b[38;5;241m.\u001b[39mget_loc(casted_key)\n\u001b[0;32m   3806\u001b[0m \u001b[38;5;28;01mexcept\u001b[39;00m \u001b[38;5;167;01mKeyError\u001b[39;00m \u001b[38;5;28;01mas\u001b[39;00m err:\n",
      "File \u001b[1;32mindex.pyx:167\u001b[0m, in \u001b[0;36mpandas._libs.index.IndexEngine.get_loc\u001b[1;34m()\u001b[0m\n",
      "File \u001b[1;32mindex.pyx:196\u001b[0m, in \u001b[0;36mpandas._libs.index.IndexEngine.get_loc\u001b[1;34m()\u001b[0m\n",
      "File \u001b[1;32mpandas\\\\_libs\\\\hashtable_class_helper.pxi:7081\u001b[0m, in \u001b[0;36mpandas._libs.hashtable.PyObjectHashTable.get_item\u001b[1;34m()\u001b[0m\n",
      "File \u001b[1;32mpandas\\\\_libs\\\\hashtable_class_helper.pxi:7089\u001b[0m, in \u001b[0;36mpandas._libs.hashtable.PyObjectHashTable.get_item\u001b[1;34m()\u001b[0m\n",
      "\u001b[1;31mKeyError\u001b[0m: 'QM'",
      "\nThe above exception was the direct cause of the following exception:\n",
      "\u001b[1;31mKeyError\u001b[0m                                  Traceback (most recent call last)",
      "Cell \u001b[1;32mIn[17], line 3\u001b[0m\n\u001b[0;32m      1\u001b[0m fig, ax0 \u001b[38;5;241m=\u001b[39m plt\u001b[38;5;241m.\u001b[39msubplots(figsize\u001b[38;5;241m=\u001b[39mRm\u001b[38;5;241m.\u001b[39mDINA3q)\n\u001b[1;32m----> 3\u001b[0m plot(ax0,dfAGSN,dfAGSNRL)\n",
      "Cell \u001b[1;32mIn[16], line 42\u001b[0m, in \u001b[0;36mplot\u001b[1;34m(ax0, dfAGSN, dfAGSNRL, title, PHCol, mlcCol, zKoorCol, barBzgCol, QMCol, TCol, xCol)\u001b[0m\n\u001b[0;32m     40\u001b[0m ax2 \u001b[38;5;241m=\u001b[39m ax0\u001b[38;5;241m.\u001b[39mtwinx()     \n\u001b[0;32m     41\u001b[0m fyM(ax2)\n\u001b[1;32m---> 42\u001b[0m QM_SL\u001b[38;5;241m=\u001b[39max2\u001b[38;5;241m.\u001b[39mstep(dfAGSN[xCol], dfAGSN[QMCol]\u001b[38;5;241m*\u001b[39mdfAGSN[\u001b[38;5;124m'\u001b[39m\u001b[38;5;124mdirection\u001b[39m\u001b[38;5;124m'\u001b[39m], color\u001b[38;5;241m=\u001b[39m\u001b[38;5;124m'\u001b[39m\u001b[38;5;124morange\u001b[39m\u001b[38;5;124m'\u001b[39m, label\u001b[38;5;241m=\u001b[39m\u001b[38;5;124m'\u001b[39m\u001b[38;5;124mM SL\u001b[39m\u001b[38;5;124m'\u001b[39m)\n\u001b[0;32m     43\u001b[0m QM_RL\u001b[38;5;241m=\u001b[39max2\u001b[38;5;241m.\u001b[39mstep(dfAGSNRL[xCol], dfAGSNRL[QMCol]\u001b[38;5;241m*\u001b[39mdfAGSNRL[\u001b[38;5;124m'\u001b[39m\u001b[38;5;124mdirection\u001b[39m\u001b[38;5;124m'\u001b[39m], color\u001b[38;5;241m=\u001b[39m\u001b[38;5;124m'\u001b[39m\u001b[38;5;124mcyan\u001b[39m\u001b[38;5;124m'\u001b[39m, label\u001b[38;5;241m=\u001b[39m\u001b[38;5;124m'\u001b[39m\u001b[38;5;124mM RL\u001b[39m\u001b[38;5;124m'\u001b[39m,ls\u001b[38;5;241m=\u001b[39m\u001b[38;5;124m'\u001b[39m\u001b[38;5;124m--\u001b[39m\u001b[38;5;124m'\u001b[39m)\n\u001b[0;32m     45\u001b[0m \u001b[38;5;66;03m#T\u001b[39;00m\n",
      "File \u001b[1;32m~\\AppData\\Local\\anaconda3\\Lib\\site-packages\\pandas\\core\\frame.py:4102\u001b[0m, in \u001b[0;36mDataFrame.__getitem__\u001b[1;34m(self, key)\u001b[0m\n\u001b[0;32m   4100\u001b[0m \u001b[38;5;28;01mif\u001b[39;00m \u001b[38;5;28mself\u001b[39m\u001b[38;5;241m.\u001b[39mcolumns\u001b[38;5;241m.\u001b[39mnlevels \u001b[38;5;241m>\u001b[39m \u001b[38;5;241m1\u001b[39m:\n\u001b[0;32m   4101\u001b[0m     \u001b[38;5;28;01mreturn\u001b[39;00m \u001b[38;5;28mself\u001b[39m\u001b[38;5;241m.\u001b[39m_getitem_multilevel(key)\n\u001b[1;32m-> 4102\u001b[0m indexer \u001b[38;5;241m=\u001b[39m \u001b[38;5;28mself\u001b[39m\u001b[38;5;241m.\u001b[39mcolumns\u001b[38;5;241m.\u001b[39mget_loc(key)\n\u001b[0;32m   4103\u001b[0m \u001b[38;5;28;01mif\u001b[39;00m is_integer(indexer):\n\u001b[0;32m   4104\u001b[0m     indexer \u001b[38;5;241m=\u001b[39m [indexer]\n",
      "File \u001b[1;32m~\\AppData\\Local\\anaconda3\\Lib\\site-packages\\pandas\\core\\indexes\\base.py:3812\u001b[0m, in \u001b[0;36mIndex.get_loc\u001b[1;34m(self, key)\u001b[0m\n\u001b[0;32m   3807\u001b[0m     \u001b[38;5;28;01mif\u001b[39;00m \u001b[38;5;28misinstance\u001b[39m(casted_key, \u001b[38;5;28mslice\u001b[39m) \u001b[38;5;129;01mor\u001b[39;00m (\n\u001b[0;32m   3808\u001b[0m         \u001b[38;5;28misinstance\u001b[39m(casted_key, abc\u001b[38;5;241m.\u001b[39mIterable)\n\u001b[0;32m   3809\u001b[0m         \u001b[38;5;129;01mand\u001b[39;00m \u001b[38;5;28many\u001b[39m(\u001b[38;5;28misinstance\u001b[39m(x, \u001b[38;5;28mslice\u001b[39m) \u001b[38;5;28;01mfor\u001b[39;00m x \u001b[38;5;129;01min\u001b[39;00m casted_key)\n\u001b[0;32m   3810\u001b[0m     ):\n\u001b[0;32m   3811\u001b[0m         \u001b[38;5;28;01mraise\u001b[39;00m InvalidIndexError(key)\n\u001b[1;32m-> 3812\u001b[0m     \u001b[38;5;28;01mraise\u001b[39;00m \u001b[38;5;167;01mKeyError\u001b[39;00m(key) \u001b[38;5;28;01mfrom\u001b[39;00m \u001b[38;5;21;01merr\u001b[39;00m\n\u001b[0;32m   3813\u001b[0m \u001b[38;5;28;01mexcept\u001b[39;00m \u001b[38;5;167;01mTypeError\u001b[39;00m:\n\u001b[0;32m   3814\u001b[0m     \u001b[38;5;66;03m# If we have a listlike key, _check_indexing_error will raise\u001b[39;00m\n\u001b[0;32m   3815\u001b[0m     \u001b[38;5;66;03m#  InvalidIndexError. Otherwise we fall through and re-raise\u001b[39;00m\n\u001b[0;32m   3816\u001b[0m     \u001b[38;5;66;03m#  the TypeError.\u001b[39;00m\n\u001b[0;32m   3817\u001b[0m     \u001b[38;5;28mself\u001b[39m\u001b[38;5;241m.\u001b[39m_check_indexing_error(key)\n",
      "\u001b[1;31mKeyError\u001b[0m: 'QM'"
     ]
    },
    {
     "data": {
      "image/png": "[encoded data removed]",
      "text/plain": [
       "<Figure size 1654x1169 with 5 Axes>"
      ]
     },
     "metadata": {},
     "output_type": "display_data"
    }
   ],
   "source": [
    "fig, ax0 = plt.subplots(figsize=Rm.DINA3q)\n",
    "\n",
    "plot(ax0,dfAGSN,dfAGSNRL)"
   ]
  },
  {
   "cell_type": "markdown",
   "id": "08b662a6-d7fa-4c63-ab85-68a4e53ebf83",
   "metadata": {},
   "source": [
    "# V3_AGSN: Columns"
   ]
  },
  {
   "cell_type": "code",
   "execution_count": null,
   "id": "edbd2d08-d7a3-4226-b1d7-afcacbe26c66",
   "metadata": {
    "tags": []
   },
   "outputs": [],
   "source": [
    "m.V3_AGSN.columns.to_list()"
   ]
  },
  {
   "cell_type": "markdown",
   "id": "2f3b3a66-1480-4b41-baef-89abeabde6e3",
   "metadata": {},
   "source": [
    "# V3_ROHRVEC (pipe interior points): Columns"
   ]
  },
  {
   "cell_type": "code",
   "execution_count": null,
   "id": "a8adaed8-0b3c-402c-9349-b6bae9e1d60d",
   "metadata": {
    "tags": []
   },
   "outputs": [],
   "source": [
    "m.V3_ROHRVEC.columns.to_list()"
   ]
  },
  {
   "cell_type": "code",
   "execution_count": null,
   "id": "ecff7e22-0b4b-4841-ae4f-0505c4c55333",
   "metadata": {
    "tags": []
   },
   "outputs": [],
   "source": [
    "m.V3_ROHRVEC.shape"
   ]
  },
  {
   "cell_type": "code",
   "execution_count": null,
   "id": "804a432a-b709-4e82-b8a3-756648626a0a",
   "metadata": {
    "tags": []
   },
   "outputs": [],
   "source": [
    "pd.set_option('display.max_rows', None)"
   ]
  },
  {
   "cell_type": "markdown",
   "id": "f10f855f-32e9-4451-8ec3-31acb60a723f",
   "metadata": {},
   "source": [
    "# V3_AGSNVec: Longitudinal Sections with pipe interior points: Columns"
   ]
  },
  {
   "cell_type": "code",
   "execution_count": null,
   "id": "047a7796-7126-4d6d-b910-11ad7098e719",
   "metadata": {
    "tags": []
   },
   "outputs": [],
   "source": [
    "dfAGSNVec=m.V3_AGSNVEC"
   ]
  },
  {
   "cell_type": "code",
   "execution_count": null,
   "id": "c9f2b9c8-8122-40a0-a0f7-33e7bce55eed",
   "metadata": {
    "tags": []
   },
   "outputs": [],
   "source": [
    "#dfAGSNVec.head()"
   ]
  },
  {
   "cell_type": "code",
   "execution_count": null,
   "id": "c8e86a3c-a652-44ff-9603-4a5174336a97",
   "metadata": {
    "tags": []
   },
   "outputs": [],
   "source": [
    "dfAGSNVec.columns.to_list()"
   ]
  },
  {
   "cell_type": "markdown",
   "id": "581ebf6b-9982-4141-9e79-9072b02766f3",
   "metadata": {},
   "source": [
    "# V3_AGSNVec's columns from Multiindex-perspective"
   ]
  },
  {
   "cell_type": "code",
   "execution_count": null,
   "id": "be4557ff-e689-4b4e-81ee-8f2eee820b4f",
   "metadata": {},
   "outputs": [],
   "source": [
    "dfAGSNVec=dfAGSNVec.copy(deep=True)"
   ]
  },
  {
   "cell_type": "code",
   "execution_count": null,
   "id": "9ba4ee26-f883-4521-8daf-7905d1c29d28",
   "metadata": {
    "tags": []
   },
   "outputs": [],
   "source": [
    "dfAGSNVec.columns=pd.MultiIndex.from_tuples(\n",
    "                [dxAndMxHelperFcts.fGetMultiindexTupleFromV3Col(col) for col in dfAGSNVec.columns.to_list()]\n",
    "                ,names=['1','2','3','4'])   "
   ]
  },
  {
   "cell_type": "code",
   "execution_count": null,
   "id": "6ccb71c9-07b5-4633-a7f6-7037faf5bc86",
   "metadata": {
    "tags": []
   },
   "outputs": [],
   "source": [
    "sorted([col for col in list(set(dfAGSNVec.columns.get_level_values(level=1).to_list())) if not pd.isnull(col)])"
   ]
  },
  {
   "cell_type": "code",
   "execution_count": null,
   "id": "8fa62ebf-78a9-457c-9a2a-71c5692a59b4",
   "metadata": {
    "tags": []
   },
   "outputs": [],
   "source": [
    "sorted([col for col in list(set(dfAGSNVec.columns.get_level_values(level=0).to_list())) if not pd.isnull(col)])"
   ]
  },
  {
   "cell_type": "code",
   "execution_count": null,
   "id": "0cdbdebc-68c5-4c6d-a913-36c52884ffdf",
   "metadata": {
    "tags": []
   },
   "outputs": [],
   "source": [
    "sorted([col for col in list(set(dfAGSNVec.columns.get_level_values(level=2).to_list())) if not pd.isnull(col)])"
   ]
  },
  {
   "cell_type": "code",
   "execution_count": null,
   "id": "30557d81-4303-494f-9fce-175bdea8f53f",
   "metadata": {
    "tags": []
   },
   "outputs": [],
   "source": [
    "sorted([col for col in list(set(dfAGSNVec.columns.get_level_values(level=3).to_list())) if not pd.isnull(col)])"
   ]
  },
  {
   "cell_type": "markdown",
   "id": "74454158-e183-4efc-9793-ced92a42f576",
   "metadata": {},
   "source": [
    "# Examination of V3_AGSNVec"
   ]
  },
  {
   "cell_type": "code",
   "execution_count": null,
   "id": "218a43c3-923e-49c1-8965-c4db2aeacceb",
   "metadata": {
    "tags": []
   },
   "outputs": [],
   "source": [
    "#m.V3_AGSNVEC.head()"
   ]
  },
  {
   "cell_type": "code",
   "execution_count": null,
   "id": "069ac18a-56c4-49c1-9aa1-7702cd21572b",
   "metadata": {
    "tags": []
   },
   "outputs": [],
   "source": [
    "m.V3_AGSNVEC['IptIdx'].unique()"
   ]
  },
  {
   "cell_type": "markdown",
   "id": "6c415a30-a1d1-4738-ad58-c5513bdbb229",
   "metadata": {},
   "source": [
    "## Section No. 1"
   ]
  },
  {
   "cell_type": "code",
   "execution_count": null,
   "id": "c4b923e3-9c55-4487-a254-59e7c1ad8210",
   "metadata": {
    "tags": []
   },
   "outputs": [],
   "source": [
    "dfAGSNVec=m.V3_AGSNVEC[\n",
    "    (m.V3_AGSNVEC['LFDNR']==1)\n",
    "    &\n",
    "    (m.V3_AGSNVEC['XL']==1)\n",
    "]\n"
   ]
  },
  {
   "cell_type": "code",
   "execution_count": null,
   "id": "d2757f49-9588-45bd-a2f8-736107ba8523",
   "metadata": {
    "tags": []
   },
   "outputs": [],
   "source": [
    "dfAGSNVecRL=m.V3_AGSNVEC[\n",
    " (m.V3_AGSNVEC['LFDNR']==1)\n",
    "    &\n",
    "    (m.V3_AGSNVEC['XL']==2)\n",
    "]"
   ]
  },
  {
   "cell_type": "code",
   "execution_count": null,
   "id": "4b7fa9ed-2af1-4c1e-a809-924a039f0aa9",
   "metadata": {
    "tags": []
   },
   "outputs": [],
   "source": [
    "#dfAGSN[colsAGSNBase+['nextNODE','PH_n','mlc_n','T_n']]"
   ]
  },
  {
   "cell_type": "code",
   "execution_count": null,
   "id": "62e19db0-db7e-4abf-8c04-80f1df787eda",
   "metadata": {
    "tags": []
   },
   "outputs": [],
   "source": [
    "#dfAGSNVec[colsAGSNBase+['nextNODE','PH_n','mlc_n','T_n']+['IptIdx','IptIdxAsNo','SVEC','ZKOR_n']]"
   ]
  },
  {
   "cell_type": "markdown",
   "id": "54eb291e-ce74-4139-be9a-9bb5f2f540ff",
   "metadata": {},
   "source": [
    "## Plot"
   ]
  },
  {
   "cell_type": "code",
   "execution_count": null,
   "id": "397133df-37d0-4854-be25-a034febe87a6",
   "metadata": {
    "tags": []
   },
   "outputs": [],
   "source": [
    "fig, axs = plt.subplots(nrows=3,ncols=1,figsize=Rm.DINA3)\n",
    "\n",
    "plot(axs[0],dfAGSN,dfAGSNRL,title='Longitudinal Section based on V3_AGSN')\n",
    "plot(axs[1],dfAGSNVec[dfAGSNVec['IptIdx'].isin(['S','E'])],dfAGSNVecRL[dfAGSNVecRL['IptIdx'].isin(['S','E'])],title='Longitudinal Section based on V3_AGSNVEC (interior points filtered)')\n",
    "plot(axs[2],dfAGSNVec,dfAGSNVecRL,title='Longitudinal Section based on V3_AGSNVEC')\n",
    "\n",
    "dfAGSNVecAnzIptx=dfAGSNVec.groupby(by=['LFDNR','XL','OBJID'])['Pos'].count()\n",
    "for index,row in dfAGSNVec.iterrows():\n",
    "    pass\n",
    "    if row['Pos']==0:\n",
    "        continue\n",
    "    if dfAGSNVecAnzIptx.loc[(row['LFDNR'],row['XL'],row['OBJID'])]>=2:\n",
    "        axs[2].axvline(x=row['LSum'],c='silver')"
   ]
  },
  {
   "cell_type": "code",
   "execution_count": null,
   "id": "83ed2a3b-b00f-4616-9fd8-189016d71bf3",
   "metadata": {},
   "outputs": [],
   "source": []
  }
 ],
 "metadata": {
  "kernelspec": {
   "display_name": "Python 3 (ipykernel)",
   "language": "python",
   "name": "python3"
  },
  "language_info": {
   "codemirror_mode": {
    "name": "ipython",
    "version": 3
   },
   "file_extension": ".py",
   "mimetype": "text/x-python",
   "name": "python",
   "nbconvert_exporter": "python",
   "pygments_lexer": "ipython3",
   "version": "3.11.8"
  }
 },
 "nbformat": 4,
 "nbformat_minor": 5
}
