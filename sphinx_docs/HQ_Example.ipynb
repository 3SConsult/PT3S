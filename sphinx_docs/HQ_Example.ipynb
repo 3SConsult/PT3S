{
 "cells": [
  {
   "cell_type": "markdown",
   "id": "84751c6b-9b52-4253-a48e-c9017815b468",
   "metadata": {},
   "source": [
    "# Imports"
   ]
  },
  {
   "cell_type": "code",
   "execution_count": 1,
   "id": "52ca4068-fc2f-4495-a123-57d5411ac6fa",
   "metadata": {},
   "outputs": [],
   "source": [
    "import os\n",
    "import subprocess\n",
    "import venv\n",
    "import setuptools\n"
   ]
  },
  {
   "cell_type": "markdown",
   "id": "678ec3f6-9913-4c36-8d31-23d12daeccfd",
   "metadata": {},
   "source": [
    "# Testing Examples"
   ]
  },
  {
   "cell_type": "code",
   "execution_count": 4,
   "id": "365ff152-31d8-440e-b555-2a200eba04e0",
   "metadata": {},
   "outputs": [
    {
     "name": "stdout",
     "output_type": "stream",
     "text": [
      "Das Skript Example0.ipynb wurde erfolgreich ausgeführt.\n",
      "Das Skript Example1.ipynb wurde erfolgreich ausgeführt.\n",
      "Das Skript Example2.ipynb wurde erfolgreich ausgeführt.\n",
      "Fehler beim Ausführen des Skripts Planungsbeispiel.ipynb.\n"
     ]
    }
   ],
   "source": [
    "examples = ['Example0.ipynb', 'Example1.ipynb', 'Example2.ipynb','Planungsbeispiel.ipynb']\n",
    "\n",
    "for example in examples:\n",
    "    try:\n",
    "        result = subprocess.run(['python', example], check=True)\n",
    "        print(f'Das Skript {example} wurde erfolgreich ausgeführt.')\n",
    "    except subprocess.CalledProcessError:\n",
    "        print(f'Fehler beim Ausführen des Skripts {example}.')"
   ]
  },
  {
   "cell_type": "markdown",
   "id": "f8b7960f-a9e7-416f-89ba-e6c95f67cbc4",
   "metadata": {},
   "source": [
    "# Overwriting MX with Blank Files"
   ]
  },
  {
   "cell_type": "raw",
   "id": "5e6d0114-0530-4799-b7c5-844cddd3ec42",
   "metadata": {},
   "source": [
    "Mx1 and Xml are not overwritten and not to be deleted"
   ]
  },
  {
   "cell_type": "code",
   "execution_count": 2,
   "id": "6d93a6c7-1ae6-4be9-9ad2-c4e632cf5df6",
   "metadata": {},
   "outputs": [],
   "source": [
    " files = [\"M-1-0-1.1.MX3\", \"M-1-0-1.1.MXS\", \"M-1-0-1.1.vec.h5\", \"M-1-0-1.ilog\", \"M-1-0-1.log\", \"M-1-0-1.MX2\"]"
   ]
  },
  {
   "cell_type": "code",
   "execution_count": 3,
   "id": "5b13fb84-81f6-4bea-a9e5-bc09833a2faa",
   "metadata": {},
   "outputs": [],
   "source": [
    "def delete_files(directory):\n",
    "    # Iterate over each file\n",
    "    for file in files:\n",
    "        # Construct the full file path\n",
    "        file_path = os.path.join(directory, file)\n",
    "        \n",
    "        # Check if the file exists\n",
    "        if os.path.isfile(file_path):\n",
    "            # Delete the file\n",
    "            os.remove(file_path)\n",
    "            print(f\"File {file} has been deleted.\")\n",
    "        else:\n",
    "            print(f\"File {file} does not exist.\")\n"
   ]
  },
  {
   "cell_type": "markdown",
   "id": "28a4ac0c-6786-4110-97a1-461ff3eae70c",
   "metadata": {},
   "source": [
    "## Example1"
   ]
  },
  {
   "cell_type": "code",
   "execution_count": 6,
   "id": "54c4debc-71ba-4e94-8fd7-770a86dacfc0",
   "metadata": {},
   "outputs": [
    {
     "name": "stdout",
     "output_type": "stream",
     "text": [
      "File M-1-0-1.1.MX3 has been deleted.\n",
      "File M-1-0-1.1.MXS has been deleted.\n",
      "File M-1-0-1.1.vec.h5 has been deleted.\n",
      "File M-1-0-1.ilog does not exist.\n",
      "File M-1-0-1.log has been deleted.\n",
      "File M-1-0-1.MX2 has been deleted.\n"
     ]
    }
   ],
   "source": [
    "directory = r\"C:\\Users\\jablonski\\3S\\PT3S\\Examples\\WDExample1\\B1\\V0\\BZ1\"\n",
    "delete_files(directory)"
   ]
  },
  {
   "cell_type": "markdown",
   "id": "d6cadc2e-a2b9-4d33-a4f8-7338ab983279",
   "metadata": {},
   "source": [
    "## Example2"
   ]
  },
  {
   "cell_type": "code",
   "execution_count": 7,
   "id": "1da14500-0f6b-4c9e-820a-b3ae3eea1500",
   "metadata": {},
   "outputs": [
    {
     "name": "stdout",
     "output_type": "stream",
     "text": [
      "File M-1-0-1.1.MX3 has been deleted.\n",
      "File M-1-0-1.1.MXS has been deleted.\n",
      "File M-1-0-1.1.vec.h5 has been deleted.\n",
      "File M-1-0-1.ilog does not exist.\n",
      "File M-1-0-1.log has been deleted.\n",
      "File M-1-0-1.MX2 has been deleted.\n"
     ]
    }
   ],
   "source": [
    "directory = r\"C:\\Users\\jablonski\\3S\\PT3S\\Examples\\WDExample2\\B1\\V0\\BZ1\"\n",
    "delete_files(directory)"
   ]
  },
  {
   "cell_type": "markdown",
   "id": "cd928b30-da7a-4b47-a658-dcfa39c6ce5b",
   "metadata": {},
   "source": [
    "## Example3"
   ]
  },
  {
   "cell_type": "code",
   "execution_count": 8,
   "id": "7c69cd3b-6719-4b44-bd06-6e4b3b92a77e",
   "metadata": {},
   "outputs": [
    {
     "name": "stdout",
     "output_type": "stream",
     "text": [
      "File M-1-0-1.1.MX3 has been deleted.\n",
      "File M-1-0-1.1.MXS has been deleted.\n",
      "File M-1-0-1.1.vec.h5 has been deleted.\n",
      "File M-1-0-1.ilog has been deleted.\n",
      "File M-1-0-1.log has been deleted.\n",
      "File M-1-0-1.MX2 has been deleted.\n"
     ]
    }
   ],
   "source": [
    "directory = r\"C:\\Users\\jablonski\\3S\\PT3S\\Examples\\WDExample3\\B1\\V0\\BZ1\"\n",
    "delete_files(directory)"
   ]
  },
  {
   "cell_type": "markdown",
   "id": "9822673c-b84d-4a8c-879d-1533afab0fa3",
   "metadata": {},
   "source": [
    "## Overwritting as blanks"
   ]
  },
  {
   "cell_type": "raw",
   "id": "9d3b9d80-d458-47cd-9534-988d5aade18b",
   "metadata": {},
   "source": [
    "directory = r\"C:\\Users\\jablonski\\3S\\PT3S\\Examples\\WDExample1\\B1\\V0\\BZ1\"\n",
    "\n",
    "for file in files:\n",
    "    file_path = os.path.join(directory, file)\n",
    "    \n",
    "    open(file_path, 'w').close()"
   ]
  },
  {
   "cell_type": "code",
   "execution_count": 2,
   "id": "234da8e3-e72d-45f3-ae86-c0aa09085938",
   "metadata": {},
   "outputs": [
    {
     "name": "stdout",
     "output_type": "stream",
     "text": [
      "Using tolist(): [[1, 2, 3, 4, 5], [5, 15, 25, 35, 45], [10, 20, 30, 40, 50]]\n",
      "Using to_list(): [[1, 2, 3, 4, 5], [5, 15, 25, 35, 45], [10, 20, 30, 40, 50]]\n"
     ]
    }
   ],
   "source": [
    "import pandas as pd\n",
    "\n",
    "# Create a DataFrame\n",
    "df = pd.DataFrame({\n",
    "    'A': [1, 2, 3, 4, 5],\n",
    "    'B': [5, 15, 25, 35, 45],\n",
    "    'C': [10, 20, 30, 40, 50]\n",
    "})\n",
    "\n",
    "# Get the column names\n",
    "mColNames = df.columns.tolist()\n",
    "\n",
    "# Using tolist()\n",
    "arrays_tolist = []\n",
    "for col in mColNames:\n",
    "    arrays_tolist.append(df[col].values.tolist())\n",
    "print(\"Using tolist():\", arrays_tolist)\n",
    "\n",
    "# Using to_list()\n",
    "arrays_to_list = []\n",
    "for col in mColNames:\n",
    "    arrays_to_list.append(df[col].to_list())\n",
    "print(\"Using to_list():\", arrays_to_list)\n"
   ]
  },
  {
   "cell_type": "markdown",
   "id": "4835b662-e1a5-4cf0-987f-78df5f4f94a5",
   "metadata": {},
   "source": [
    "# Testing"
   ]
  },
  {
   "cell_type": "code",
   "execution_count": 3,
   "id": "e1312026-5343-4c9a-bba7-b4a84713fc03",
   "metadata": {},
   "outputs": [],
   "source": [
    "try:\n",
    "    from PT3S import dxAndMxHelperFcts\n",
    "except:\n",
    "    import dxAndMxHelperFcts"
   ]
  },
  {
   "cell_type": "code",
   "execution_count": null,
   "id": "85f0ea42-bc9a-4c73-8e2b-6205b044553d",
   "metadata": {},
   "outputs": [],
   "source": [
    "dbFilename=\"Example1\"\n",
    "dbFile=os.path.join(os.path.dirname(os.path.abspath(dxAndMxHelperFcts.__file__))\n",
    "                    +'/Examples/'\n",
    "                    +dbFilename\n",
    "                    +'.db3'\n",
    ")"
   ]
  },
  {
   "cell_type": "code",
   "execution_count": 5,
   "id": "bafc1a45-40d5-48d7-8e04-006d1a904f24",
   "metadata": {},
   "outputs": [],
   "source": [
    "m=dxAndMxHelperFcts.readDxAndMx(dbFile=dbFile                                 \n",
    "                                ,preventPklDump=True\n",
    "                                ,maxRecords=-1\n",
    ")"
   ]
  },
  {
   "cell_type": "code",
   "execution_count": null,
   "id": "8474637b-c038-471c-ae39-7622a1867f26",
   "metadata": {},
   "outputs": [],
   "source": []
  }
 ],
 "metadata": {
  "kernelspec": {
   "display_name": "Python 3 (ipykernel)",
   "language": "python",
   "name": "python3"
  },
  "language_info": {
   "codemirror_mode": {
    "name": "ipython",
    "version": 3
   },
   "file_extension": ".py",
   "mimetype": "text/x-python",
   "name": "python",
   "nbconvert_exporter": "python",
   "pygments_lexer": "ipython3",
   "version": "3.11.8"
  }
 },
 "nbformat": 4,
 "nbformat_minor": 5
}
