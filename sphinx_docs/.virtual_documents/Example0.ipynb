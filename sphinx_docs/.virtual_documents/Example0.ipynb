


pip install PT3S





pip install PT3S -U --no-deps





try:
    from PT3S import dxAndMxHelperFcts
except:
    import dxAndMxHelperFcts
