


import os
import logging
import pandas as pd

try:
    from PT3S import Rm
except:
    import Rm


pt3s_path = os.path.dirname(os.path.abspath(Rm.__file__))





logger = logging.getLogger()  

logFileName= r"Example2.log" 

loglevel = logging.DEBUG
logging.basicConfig(filename=logFileName
                        ,filemode='w'
                        ,level=loglevel
                        ,format="%(asctime)s ; %(name)-60s ; %(levelname)-7s ; %(message)s")    

fileHandler = logging.FileHandler(logFileName)     

logger.addHandler(fileHandler)

consoleHandler = logging.StreamHandler()
consoleHandler.setFormatter(logging.Formatter("%(levelname)-7s ; %(message)s"))
consoleHandler.setLevel(logging.INFO)
logger.addHandler(consoleHandler)





dbFilename="Wärmenetz-Planungsbeispiel"


csvFilename="time_curves"





file_path=pt3s_path+'/Examples/'+csvFilename+'.csv'


def read_multiple_time_curves(file_path):
    with open(file_path, 'r', encoding='ISO-8859-1') as f:
        lines = f.readlines()

    dataframes = []
    current_lines = []
    curve_name = ''
    for line in lines:
        if line.strip() == ';' or line.strip() == '':
            if current_lines:
                df = pd.DataFrame([sub.split(";") for sub in current_lines[2:]])  # Skip the first two lines
                df = df.iloc[:, :2]  # Only take the first two columns
                df.columns = ['Zeitstempel', curve_name]  # Rename the columns
                dataframes.append(df)
                current_lines = []
        else:
            if 'Zeitkurven' in line:
                curve_name = line.split(' ')[1]  # Extract the curve name
            current_lines.append(line.strip())

    if current_lines:
        df = pd.DataFrame([sub.split(";") for sub in current_lines[2:]])  # Skip the first two lines
        df = df.iloc[:, :2]  # Only take the first two columns
        df.columns = ['Zeitstempel', curve_name]  # Rename the columns
        dataframes.append(df)

    return dataframes


time_curves_dataframes = read_multiple_time_curves(file_path)


time_curves_dataframes[1]
