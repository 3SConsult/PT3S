


import os
import subprocess
import venv
import setuptools





examples = ['Example0.ipynb', 'Example1.ipynb', 'Example2.ipynb','Planungsbeispiel.ipynb']

for example in examples:
    try:
        result = subprocess.run(['python', example], check=True)
        print(f'Das Skript {example} wurde erfolgreich ausgeführt.')
    except subprocess.CalledProcessError:
        print(f'Fehler beim Ausführen des Skripts {example}.')


import subprocess
import venv
import importlib.util

# Erstellen Sie eine virtuelle Umgebung
venv_dir = "C:/Users/jablonski/3S/venv"
venv.create(venv_dir, with_pip=True)

# Importieren Sie die setup.py-Datei als Modul
setup_file = r"C:\Users\jablonski\3S\PT3S\setup.py"
spec = importlib.util.spec_from_file_location("setup", setup_file)
setup = importlib.util.module_from_spec(spec)
spec.loader.exec_module(setup)

# Extrahieren Sie die install_requires-Liste
requirements = setup.install_requires

for package in requirements:
    subprocess.run([f"{venv_dir}/Scripts/pip", "install", package], check=True)

examples = ['Example0.ipynb', 'Example1.ipynb', 'Example2.ipynb','Planungsbeispiel.ipynb']

for example in examples:
    try:
        # Führen Sie das Skript in der virtuellen Umgebung aus
        result = subprocess.run([f"{venv_dir}/Scripts/python", example], check=True)
        print(f'Das Skript {example} wurde erfolgreich ausgeführt.')
    except subprocess.CalledProcessError:
        print(f'Fehler beim Ausführen des Skripts {example}.')






#Mx1 and Xml are not overwritten and not to be deleted





directory = r"C:\Users\jablonski\3S\PT3S\Examples\WDWärmenetz-Planungsbeispiel\B1\V0\BZ1"

files = [
    "M-1-0-1.1.MX3",
    "M-1-0-1.1.MXS",
    "M-1-0-1.1.vec.h5",
    "M-1-0-1.ilog",
    "M-1-0-1.log",
    "M-1-0-1.MX2",
]

for file in files:
    file_path = os.path.join(directory, file)
    
    # Open the file in write mode ('w') to overwrite existing content
    open(file_path, 'w').close()





directory = r"C:\Users\jablonski\3S\PT3S\Examples\WDBeispiel_Wasser_STAND9\B1\V0\BZ1"

files = [
    "M-1-0-1.1.MX3",
    "M-1-0-1.1.MXS",
    "M-1-0-1.1.vec.h5",
    "M-1-0-1.ilog",
    "M-1-0-1.log",
    "M-1-0-1.MX2",
]

for file in files:
    file_path = os.path.join(directory, file)
    
    open(file_path, 'w').close()



