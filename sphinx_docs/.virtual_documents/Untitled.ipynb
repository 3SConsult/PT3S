


import os
import logging

try:
    from PT3S import dxAndMxHelperFcts
except:
    import dxAndMxHelperFcts


pt3s_path = os.path.dirname(os.path.abspath(dxAndMxHelperFcts.__file__))





logger = logging.getLogger()  

logFileName= r"Example2.log" 

loglevel = logging.DEBUG
logging.basicConfig(filename=logFileName
                        ,filemode='w'
                        ,level=loglevel
                        ,format="%(asctime)s ; %(name)-60s ; %(levelname)-7s ; %(message)s")    

fileHandler = logging.FileHandler(logFileName)     

logger.addHandler(fileHandler)

consoleHandler = logging.StreamHandler()
consoleHandler.setFormatter(logging.Formatter("%(levelname)-7s ; %(message)s"))
consoleHandler.setLevel(logging.INFO)
logger.addHandler(consoleHandler)





dbFilename="Wärmenetz-Planungsbeispiel"





m=dxAndMxHelperFcts.readDxAndMx(dbFile=os.path.join(pt3s_path+'/Examples/'+dbFilename+'.db3')
                                ,preventPklDump=True
                               )



