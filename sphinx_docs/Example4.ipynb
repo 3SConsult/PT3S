{
 "cells": [
  {
   "cell_type": "markdown",
   "id": "368c6635-673d-4f28-9a9a-d93591d22933",
   "metadata": {},
   "source": [
    "# OSM PBF to SIR 3S SHP Import"
   ]
  },
  {
   "cell_type": "markdown",
   "id": "9fdd7d03-6065-4de4-8a27-4094c61c1f6b",
   "metadata": {},
   "source": [
    "This example demonstrates how to convert OSM data into shape files for import into SIR 3S. The OSM data does not have to be obtained separately, but is created by the script. \n",
    "\n",
    "For this to work, however, you must download 'osmconvert.exe' from the OSM Wiki (https://wiki.openstreetmap.org/wiki/Osmconvert#Download)."
   ]
  },
  {
   "cell_type": "code",
   "execution_count": 1,
   "id": "c66b85cf-7133-4362-8710-b99e3a68df2a",
   "metadata": {
    "tags": []
   },
   "outputs": [],
   "source": [
    "osmconvert_path = r\"C:\\3S\\Sir3s\\osmconvert64-0.8.8p.exe\""
   ]
  },
  {
   "cell_type": "markdown",
   "id": "1492153b-12b6-4fed-ab88-2c5960100547",
   "metadata": {},
   "source": [
    "# PT3S Release"
   ]
  },
  {
   "cell_type": "code",
   "execution_count": 2,
   "id": "62a058a2-523d-4f6c-ab1e-834fcd0522f0",
   "metadata": {},
   "outputs": [],
   "source": [
    "#pip install PT3S -U --no-deps"
   ]
  },
  {
   "cell_type": "markdown",
   "id": "aaacac9b-63cf-405e-9245-c23e04993dc5",
   "metadata": {},
   "source": [
    "# Input Data"
   ]
  },
  {
   "cell_type": "markdown",
   "id": "58b9b57e-b9a7-4156-82ce-31c8414bdb75",
   "metadata": {},
   "source": [
    "Enter your coordinates here"
   ]
  },
  {
   "cell_type": "code",
   "execution_count": 3,
   "id": "ca1e03a7-d8ce-47da-8e89-e74485709da3",
   "metadata": {},
   "outputs": [],
   "source": [
    "bbox = (50.32709, 11.99152, 50.31720, 12.01289)  # (north, west, south, east)\n",
    "crs = 'EPSG:25832' # 'EPSG:4326' is the coordinate system in which the OSM file is created, you may want to change it\n",
    "filename = 'Example_region' # Name under which the file is saved"
   ]
  },
  {
   "cell_type": "markdown",
   "id": "4c6f7962-40dd-403f-8f8d-c4e6a402b5d6",
   "metadata": {},
   "source": [
    "# Imports"
   ]
  },
  {
   "cell_type": "code",
   "execution_count": 4,
   "id": "7f43413d-ed29-4300-8878-40fd30cb9b23",
   "metadata": {},
   "outputs": [],
   "source": [
    "#!pip install osmnx\n",
    "#!pip install osmium\n",
    "#!pip install osmium overpy"
   ]
  },
  {
   "cell_type": "code",
   "execution_count": 5,
   "id": "d25c79f7-1ef2-4bca-bd6d-6137ea251ffd",
   "metadata": {},
   "outputs": [
    {
     "ename": "ModuleNotFoundError",
     "evalue": "No module named 'pyrosm'",
     "output_type": "error",
     "traceback": [
      "\u001b[1;31m---------------------------------------------------------------------------\u001b[0m",
      "\u001b[1;31mModuleNotFoundError\u001b[0m                       Traceback (most recent call last)",
      "Cell \u001b[1;32mIn[5], line 13\u001b[0m\n\u001b[0;32m     10\u001b[0m \u001b[38;5;28;01mimport\u001b[39;00m \u001b[38;5;21;01mgeopandas\u001b[39;00m\n\u001b[0;32m     11\u001b[0m \u001b[38;5;28;01mimport\u001b[39;00m \u001b[38;5;21;01mfolium\u001b[39;00m\n\u001b[1;32m---> 13\u001b[0m \u001b[38;5;28;01mimport\u001b[39;00m \u001b[38;5;21;01mpyrosm\u001b[39;00m\n\u001b[0;32m     14\u001b[0m \u001b[38;5;28;01mfrom\u001b[39;00m \u001b[38;5;21;01mpyrosm\u001b[39;00m\u001b[38;5;21;01m.\u001b[39;00m\u001b[38;5;21;01mdata\u001b[39;00m \u001b[38;5;28;01mimport\u001b[39;00m sources\n\u001b[0;32m     16\u001b[0m \u001b[38;5;28;01mfrom\u001b[39;00m \u001b[38;5;21;01mshapely\u001b[39;00m \u001b[38;5;28;01mimport\u001b[39;00m geometry, ops\n",
      "\u001b[1;31mModuleNotFoundError\u001b[0m: No module named 'pyrosm'"
     ]
    }
   ],
   "source": [
    "import logging\n",
    "import sys\n",
    "import re\n",
    "import os\n",
    "import importlib\n",
    "import warnings\n",
    "import math\n",
    "\n",
    "import pandas as pd\n",
    "import geopandas\n",
    "import folium\n",
    "\n",
    "###import pyrosm\n",
    "###from pyrosm.data import sources\n",
    "\n",
    "from shapely import geometry, ops\n",
    "\n",
    "import matplotlib\n",
    "import matplotlib.pyplot as plt\n",
    "from matplotlib import cm\n",
    "from matplotlib.colors import ListedColormap\n",
    "import matplotlib.font_manager as font_manager\n",
    "\n",
    "import contextily as cx\n",
    "\n",
    "import numpy as np\n",
    "import shapely\n",
    "import osmnx as ox\n",
    "\n",
    "import sys\n",
    "import os\n",
    "import glob\n",
    "import re\n",
    "\n",
    "from xml.etree.ElementTree import ElementTree\n",
    "from xml.etree.ElementTree import Element\n",
    "from xml.etree.ElementTree import SubElement\n",
    "import xml.etree.ElementTree as ET\n",
    "\n",
    "from PIL import Image"
   ]
  },
  {
   "cell_type": "markdown",
   "id": "afa1f275-540b-4511-b703-9f84cd2d52b2",
   "metadata": {},
   "source": [
    "# Logging"
   ]
  },
  {
   "cell_type": "code",
   "execution_count": null,
   "id": "264e085e-9fc5-4ca5-bd57-f443818e8c6c",
   "metadata": {},
   "outputs": [],
   "source": [
    "logger = logging.getLogger()\n",
    "\n",
    "logFileName= r\"Example4.log\"\n",
    "\n",
    "loglevel = logging.DEBUG\n",
    "logging.basicConfig(filename=logFileName\n",
    "                        ,filemode='w'\n",
    "                        ,level=loglevel\n",
    "                        ,format=\"%(asctime)s ; %(name)-60s ; %(levelname)-7s ; %(message)s\")\n",
    "\n",
    "fileHandler = logging.FileHandler(logFileName)\n",
    "\n",
    "logger.addHandler(fileHandler)\n",
    "\n",
    "consoleHandler = logging.StreamHandler()\n",
    "consoleHandler.setFormatter(logging.Formatter(\"%(levelname)-7s ; %(message)s\"))\n",
    "consoleHandler.setLevel(logging.INFO)\n",
    "logger.addHandler(consoleHandler)"
   ]
  },
  {
   "cell_type": "markdown",
   "id": "5180815f-a101-455a-92f4-fc8af696d374",
   "metadata": {},
   "source": [
    "# Fetching OSM Data"
   ]
  },
  {
   "cell_type": "code",
   "execution_count": null,
   "id": "8a9965f8-09a9-4dc4-b4e8-eead245cf38f",
   "metadata": {},
   "outputs": [],
   "source": [
    "import requests\n",
    "\n",
    "def fetch_osm_data(bbox, output_osm):\n",
    "    \"\"\"\n",
    "    Retrieves OSM data for the specified area and saves it in an .osm file.\n",
    "\n",
    "    :param bbox: A tuple with the coordinates (north, west, south, east)\n",
    "    :param output_osm: Path to the output file\n",
    "    \"\"\"\n",
    "    north, west, south, east = bbox\n",
    "\n",
    "    # Check the coordinates for validity\n",
    "    if not (north >= south and west <= east):\n",
    "        raise ValueError(\"The bounding box coordinates are invalid. Make sure that north >= south and west <= east.\")\n",
    "\n",
    "    # Define the Overpass API URL\n",
    "    overpass_url = \"http://overpass-api.de/api/interpreter\"\n",
    "\n",
    "    # Build the URL for the request\n",
    "    query = f\"\"\"\n",
    "    [out:xml];\n",
    "    (\n",
    "      node({south},{west},{north},{east});\n",
    "      way({south},{west},{north},{east});\n",
    "      relation({south},{west},{north},{east});\n",
    "    );\n",
    "    out body;\n",
    "    \"\"\"\n",
    "    \n",
    "    # Execute the request\n",
    "    try:\n",
    "        response = requests.post(overpass_url, data={'data': query})\n",
    "        response.raise_for_status()  # If HTTP errors occur, an exception is thrown\n",
    "        \n",
    "        # Write the data to an .osm file\n",
    "        with open(output_osm, 'wb') as f:\n",
    "            f.write(response.content)\n",
    "        print(f'Data successfully retrieved and saved in {output_osm}.')\n",
    "    except requests.RequestException as e:\n",
    "        print(f'Error in the request: {e}')\n",
    "\n",
    "osm_file = filename + '.osm'  # Output file for .osm \n",
    "fetch_osm_data(bbox, osm_file)"
   ]
  },
  {
   "cell_type": "code",
   "execution_count": null,
   "id": "94a6595a-9a99-471a-8bd0-59337beb7a66",
   "metadata": {},
   "outputs": [],
   "source": [
    "import subprocess\n",
    "\n",
    "def convert_osm_to_pbf(input_osm, output_pbf):\n",
    "    \"\"\"\n",
    "    Converts an OSM file into a PBF file with osmconvert.exe.\n",
    "    \n",
    "    :param input_osm: Path to the input OSM file\n",
    "    :param output_pbf: Path to the output PBF file\n",
    "    \"\"\"\n",
    "    \n",
    "    # Command to convert\n",
    "    command = f'\"{osmconvert_path}\" {input_osm} -o={output_pbf}'\n",
    "    \n",
    "    try:\n",
    "        # Execute the command\n",
    "        subprocess.run(command, shell=True, check=True)\n",
    "        print(f'Datei erfolgreich konvertiert: {output_pbf}')\n",
    "    except subprocess.CalledProcessError as e:\n",
    "        print(f'Fehler bei der Konvertierung: {e}')\n",
    "\n",
    "\n",
    "pbf_file = filename + '.pbf'  \n",
    "convert_osm_to_pbf(osm_file, pbf_file)"
   ]
  },
  {
   "cell_type": "code",
   "execution_count": null,
   "id": "0f600653-d269-48fd-ad78-b91158c82f48",
   "metadata": {},
   "outputs": [],
   "source": [
    "osm = pyrosm.OSM(pbf_file)"
   ]
  },
  {
   "cell_type": "markdown",
   "id": "d505b4e3-4780-4e66-b05e-3d5b28853cd4",
   "metadata": {},
   "source": [
    "# View .pbf file"
   ]
  },
  {
   "cell_type": "code",
   "execution_count": null,
   "id": "91fcdf10-a86a-4bea-b72e-833829f6ed05",
   "metadata": {},
   "outputs": [],
   "source": [
    "buildings = osm.get_buildings()\n",
    "buildings.plot()"
   ]
  },
  {
   "cell_type": "code",
   "execution_count": null,
   "id": "789813f2-635b-468a-821d-2f4b0eda4298",
   "metadata": {},
   "outputs": [],
   "source": [
    "drive_net = osm.get_network(network_type=\"driving\")\n",
    "drive_net.plot()"
   ]
  },
  {
   "cell_type": "code",
   "execution_count": null,
   "id": "30e0809d-2399-4465-92fb-9f3da0e0c9b6",
   "metadata": {},
   "outputs": [],
   "source": [
    "landuse = osm.get_landuse()\n",
    "landuse.plot(column='landuse', legend=True) "
   ]
  },
  {
   "cell_type": "markdown",
   "id": "5d14d216-20ee-42c0-bd5b-1a2b95049c3d",
   "metadata": {},
   "source": [
    "# Determine and view topology"
   ]
  },
  {
   "cell_type": "code",
   "execution_count": null,
   "id": "1e137bdc-7cd4-4aea-816c-f9bcc4d66302",
   "metadata": {},
   "outputs": [],
   "source": [
    "nodes, edges = osm.get_network(nodes=True, network_type=\"driving\")"
   ]
  },
  {
   "cell_type": "code",
   "execution_count": null,
   "id": "ad994dd4-80b5-4dcf-bb06-cde827370b14",
   "metadata": {},
   "outputs": [],
   "source": [
    "ax = edges.plot(figsize=(6,6), color=\"gray\")\n",
    "ax = nodes.plot(ax=ax, color=\"red\", markersize=2.5)"
   ]
  },
  {
   "cell_type": "code",
   "execution_count": null,
   "id": "f96a0502-6271-446c-af9e-02447a33ed7e",
   "metadata": {},
   "outputs": [],
   "source": [
    "G = osm.to_graph(nodes, edges, graph_type=\"networkx\")"
   ]
  },
  {
   "cell_type": "code",
   "execution_count": null,
   "id": "703b78cd-3987-4f55-a92c-ef85e0e03af3",
   "metadata": {},
   "outputs": [],
   "source": [
    "ox.plot_graph(G)"
   ]
  },
  {
   "cell_type": "code",
   "execution_count": null,
   "id": "b705ee7f-0d4d-4056-a395-6085ea31152d",
   "metadata": {},
   "outputs": [],
   "source": [
    "ox.folium.plot_graph_folium(G)"
   ]
  },
  {
   "cell_type": "markdown",
   "id": "ed66e14c-afa2-4700-b95f-a88c62754081",
   "metadata": {},
   "source": [
    "# Exports"
   ]
  },
  {
   "cell_type": "markdown",
   "id": "100534b8-cb39-4cb7-b8d2-7b8a9bf4c0b7",
   "metadata": {},
   "source": [
    "## Change CRS"
   ]
  },
  {
   "cell_type": "code",
   "execution_count": null,
   "id": "3ffedb40-7986-40a3-b6c9-c216a5a07c14",
   "metadata": {},
   "outputs": [],
   "source": [
    "nodes = nodes.to_crs(crs)\n",
    "edges = edges.to_crs(crs)\n",
    "buildings = buildings.to_crs(crs)"
   ]
  },
  {
   "cell_type": "markdown",
   "id": "97b5bde8-06f0-4202-8ddb-0641bfe4aa59",
   "metadata": {},
   "source": [
    "## Column calculation"
   ]
  },
  {
   "cell_type": "code",
   "execution_count": null,
   "id": "88871b7b-fa5a-494b-90d3-4cd3334133f8",
   "metadata": {},
   "outputs": [],
   "source": [
    "nodes['NAME']=nodes['id'].astype('string')\n",
    "nodes['XKOR']=nodes.centroid.x\n",
    "nodes['YKOR']=nodes.centroid.y\n",
    "nodes['ZKOR']=0.\n",
    "nodes['BESCHREIBU']=''\n",
    "nodes['IDREFERENZ']=nodes['id']"
   ]
  },
  {
   "cell_type": "code",
   "execution_count": null,
   "id": "2a7b9e62-277a-4530-aac3-c6be13824c80",
   "metadata": {},
   "outputs": [],
   "source": [
    "if not nodes[nodes.NAME.duplicated()].empty:\n",
    "    logger.error('mehrfache Knotennamen!')"
   ]
  },
  {
   "cell_type": "code",
   "execution_count": null,
   "id": "42824548-aec1-49a3-8dd9-9009a970983a",
   "metadata": {},
   "outputs": [],
   "source": [
    "if max(nodes.NAME.str.len()) > 10:\n",
    "    logger.error('Laenge von Roh-Knotennamen >10!')"
   ]
  },
  {
   "cell_type": "code",
   "execution_count": null,
   "id": "13cc1dd8-b7ad-4506-88c2-1adc8403eb3a",
   "metadata": {},
   "outputs": [],
   "source": [
    "edges['IDREFERENZ']=edges['id']\n",
    "edges['BESCHREIBU']=edges.apply(lambda row: \"OSM: Knoten {!s:s} -> Knoten {!s:s}; Länge: {:10.2f}\".format(row['u'],row['v'],row['length']),axis=1)\n",
    "edges['STRASSE']=edges.apply(lambda row: \"{!s:s}\".format(row['name']),axis=1)"
   ]
  },
  {
   "cell_type": "code",
   "execution_count": null,
   "id": "5eefdf81-7b8f-4d74-9a61-f9b28fb3b595",
   "metadata": {},
   "outputs": [],
   "source": [
    "buildings['IDREFERENZ']=buildings['id']\n",
    "buildings['BESCHREIBU']=buildings.apply(lambda row: \"{!s:s};{!s:s};{!s:s};{!s:s};{!s:s};{!s:s}\".format( row['addr:city']\n",
    "                                                                                                       ,row['addr:postcode']\n",
    "                                                                                                       ,row['addr:street']\n",
    "                                                                                                       ,row['addr:housenumber']\n",
    "                                                                                                       ,row['name']\n",
    "                                                                                                       ,row['building']),axis=1)"
   ]
  },
  {
   "cell_type": "code",
   "execution_count": null,
   "id": "172f774a-4332-49fe-8454-7044a1331f72",
   "metadata": {},
   "outputs": [],
   "source": [
    "fwvb=buildings.copy(deep=True)"
   ]
  },
  {
   "cell_type": "code",
   "execution_count": null,
   "id": "6f58e446-e36c-4dea-adbd-a6606f93893b",
   "metadata": {},
   "outputs": [],
   "source": [
    "fwvb['W0']=fwvb.area"
   ]
  },
  {
   "cell_type": "code",
   "execution_count": null,
   "id": "74cc5209-bba2-4453-8a34-fb6ad60b3ebf",
   "metadata": {},
   "outputs": [],
   "source": [
    "fwvb.set_geometry(fwvb.centroid,inplace=True)"
   ]
  },
  {
   "cell_type": "markdown",
   "id": "c3c55368-5268-478a-97b5-a542b591aee8",
   "metadata": {},
   "source": [
    "## Shape"
   ]
  },
  {
   "cell_type": "markdown",
   "id": "bfaf0d4c-6575-4a03-958f-ff2376e414a0",
   "metadata": {},
   "source": [
    "### Choose columns and write Shape"
   ]
  },
  {
   "cell_type": "code",
   "execution_count": null,
   "id": "845eb01f-2132-404a-93d5-e91fa0eeb957",
   "metadata": {},
   "outputs": [],
   "source": [
    "pbf_file_head,ext=os.path.splitext(pbf_file)\n",
    "pbf_file_head,ext"
   ]
  },
  {
   "cell_type": "code",
   "execution_count": null,
   "id": "6ddcf3b5-575f-41c8-8bde-5fa902186adb",
   "metadata": {},
   "outputs": [],
   "source": [
    "# Shift RL\n",
    "xoff=2.\n",
    "yoff=0.\n",
    "zoff=0."
   ]
  },
  {
   "cell_type": "code",
   "execution_count": null,
   "id": "cb7f0614-2404-4ad0-b780-4626fb2ea869",
   "metadata": {},
   "outputs": [],
   "source": [
    "nodeColsShape=['NAME','IDREFERENZ','geometry']\n",
    "#nodes['NAME']=nodes['NAME'].apply(lambda x: 'V-'+x)\n",
    "nodes[nodeColsShape].to_file(\"{:s}Knoten.shp\".format(pbf_file_head))\n",
    "\n",
    "edgeColsShape=['BESCHREIBU','IDREFERENZ','STRASSE','geometry']\n",
    "edges[edgeColsShape].to_file(\"{:s}Kanten.shp\".format(pbf_file_head))\n",
    "\n",
    "buildingsColsShape=['BESCHREIBU','IDREFERENZ','geometry']\n",
    "buildings[buildingsColsShape].to_file(\"{:s}Gebaeude.shp\".format(pbf_file_head))\n",
    "\n",
    "fwvbColsShape=['BESCHREIBU','IDREFERENZ','W0','geometry']\n",
    "fwvb[fwvbColsShape].to_file(\"{:s}FWVB.shp\".format(pbf_file_head))\n",
    "\n",
    "#nodes['NAME']=nodes['NAME'].apply(lambda x: 'R-'+x[2:])\n",
    "nodes.set_geometry(nodes.geometry.translate(xoff=xoff,yoff=yoff,zoff=zoff))[nodeColsShape].to_file(\"{:s}KnotenRL.shp\".format(pbf_file_head))\n",
    "edges.set_geometry(edges.geometry.translate(xoff=xoff,yoff=yoff,zoff=zoff))[edgeColsShape].to_file(\"{:s}KantenRL.shp\".format(pbf_file_head))   \n",
    "\n",
    "#nodes['NAME']=nodes['NAME'].apply(lambda x: x[2:])"
   ]
  },
  {
   "cell_type": "markdown",
   "id": "6c0e2a4c-b5c7-45ee-a9b4-ca807b85fd1a",
   "metadata": {},
   "source": [
    "### ImportDef"
   ]
  },
  {
   "cell_type": "markdown",
   "id": "8077f3d5-9d9a-45f7-961d-ec4119b44e4d",
   "metadata": {},
   "source": [
    "#### Object types"
   ]
  },
  {
   "cell_type": "code",
   "execution_count": null,
   "id": "c5a158f8-5fb5-4eb5-bd9c-87040288622d",
   "metadata": {},
   "outputs": [],
   "source": [
    "root = Element('NewDataSet')"
   ]
  },
  {
   "cell_type": "markdown",
   "id": "037f8954-b635-4d12-9bd5-b4a3481a5d51",
   "metadata": {},
   "source": [
    "##### Knots"
   ]
  },
  {
   "cell_type": "code",
   "execution_count": null,
   "id": "23dd4018-edcd-48ea-b68d-299ddfbf819d",
   "metadata": {},
   "outputs": [],
   "source": [
    "mT=SubElement(root,'MasterTable')\n",
    "    \n",
    "c=SubElement(mT,'Enabled')\n",
    "c.text='true'\n",
    "        \n",
    "c=SubElement(mT,'nEntities')\n",
    "rs,cs=nodes.shape \n",
    "c.text=\"{:d}\".format(rs)\n",
    "    \n",
    "c=SubElement(mT,'ShapeName')\n",
    "shpName=\"{:s}Knoten\".format(pbf_file_head)\n",
    "c.text=shpName\n",
    "    \n",
    "c=SubElement(mT,'GeometryType')\n",
    "c.text='Point'       \n",
    "    \n",
    "c=SubElement(mT,'Sir3STable')\n",
    "c.text='1'    \n",
    "    \n",
    "c=SubElement(mT,'Sir3STableName')\n",
    "c.text='KNOT'        \n",
    "    \n",
    "c=SubElement(mT,'KVR')\n",
    "c.text='1'    \n",
    "    \n",
    "c=SubElement(mT,'HAL')\n",
    "c.text='false'      \n",
    "    \n",
    "c=SubElement(mT,'Import')\n",
    "c.text='false'      \n",
    "    \n",
    "c=SubElement(mT,'Description')\n",
    "c.text=\"generiert\""
   ]
  },
  {
   "cell_type": "code",
   "execution_count": null,
   "id": "41c4ac32-8122-48f2-b87e-fddfb76e8313",
   "metadata": {},
   "outputs": [],
   "source": [
    "mT=SubElement(root,'MasterTable')\n",
    "    \n",
    "c=SubElement(mT,'Enabled')\n",
    "c.text='true'\n",
    "        \n",
    "c=SubElement(mT,'nEntities')\n",
    "rs,cs=nodes.shape \n",
    "c.text=\"{:d}\".format(rs)\n",
    "    \n",
    "c=SubElement(mT,'ShapeName')\n",
    "shpName=\"{:s}KnotenRL\".format(pbf_file_head)\n",
    "c.text=shpName\n",
    "    \n",
    "c=SubElement(mT,'GeometryType')\n",
    "c.text='Point'       \n",
    "    \n",
    "c=SubElement(mT,'Sir3STable')\n",
    "c.text='1'    \n",
    "    \n",
    "c=SubElement(mT,'Sir3STableName')\n",
    "c.text='KNOT'        \n",
    "    \n",
    "c=SubElement(mT,'KVR')\n",
    "c.text='2'    \n",
    "    \n",
    "c=SubElement(mT,'HAL')\n",
    "c.text='false'      \n",
    "    \n",
    "c=SubElement(mT,'Import')\n",
    "c.text='false'      \n",
    "    \n",
    "c=SubElement(mT,'Description')\n",
    "c.text=\"generiert\""
   ]
  },
  {
   "cell_type": "markdown",
   "id": "3a208ebf-39bf-4cfc-9e97-25ead4cd7549",
   "metadata": {},
   "source": [
    "##### Edges"
   ]
  },
  {
   "cell_type": "code",
   "execution_count": null,
   "id": "29220de8-f1d3-4ada-b09e-6e5914a3cca9",
   "metadata": {},
   "outputs": [],
   "source": [
    "mT=SubElement(root,'MasterTable')\n",
    "    \n",
    "c=SubElement(mT,'Enabled')\n",
    "c.text='true'\n",
    "        \n",
    "c=SubElement(mT,'nEntities')\n",
    "rs,cs=edges.shape \n",
    "c.text=\"{:d}\".format(rs)\n",
    "    \n",
    "c=SubElement(mT,'ShapeName')\n",
    "shpName=\"{:s}Kanten\".format(pbf_file_head)\n",
    "c.text=shpName\n",
    "    \n",
    "c=SubElement(mT,'GeometryType')\n",
    "c.text='PolyLine'       \n",
    "    \n",
    "c=SubElement(mT,'Sir3STable')\n",
    "c.text='2'    \n",
    "    \n",
    "c=SubElement(mT,'Sir3STableName')\n",
    "c.text='ROHR'        \n",
    "    \n",
    "c=SubElement(mT,'KVR')\n",
    "c.text='1'    \n",
    "    \n",
    "c=SubElement(mT,'HAL')\n",
    "c.text='false'      \n",
    "    \n",
    "c=SubElement(mT,'Import')\n",
    "c.text='true'      \n",
    "    \n",
    "c=SubElement(mT,'Description')\n",
    "c.text=\"generiert\""
   ]
  },
  {
   "cell_type": "code",
   "execution_count": null,
   "id": "d854d144-6ca4-4667-99c0-067442182028",
   "metadata": {},
   "outputs": [],
   "source": [
    "mT=SubElement(root,'MasterTable')\n",
    "    \n",
    "c=SubElement(mT,'Enabled')\n",
    "c.text='true'\n",
    "        \n",
    "c=SubElement(mT,'nEntities')\n",
    "rs,cs=edges.shape \n",
    "c.text=\"{:d}\".format(rs)\n",
    "    \n",
    "c=SubElement(mT,'ShapeName')\n",
    "shpName=\"{:s}KantenRL\".format(pbf_file_head)\n",
    "c.text=shpName\n",
    "    \n",
    "c=SubElement(mT,'GeometryType')\n",
    "c.text='PolyLine'       \n",
    "    \n",
    "c=SubElement(mT,'Sir3STable')\n",
    "c.text='2'    \n",
    "    \n",
    "c=SubElement(mT,'Sir3STableName')\n",
    "c.text='ROHR'        \n",
    "    \n",
    "c=SubElement(mT,'KVR')\n",
    "c.text='2'    \n",
    "    \n",
    "c=SubElement(mT,'HAL')\n",
    "c.text='false'      \n",
    "    \n",
    "c=SubElement(mT,'Import')\n",
    "c.text='true'      \n",
    "    \n",
    "c=SubElement(mT,'Description')\n",
    "c.text=\"generiert\""
   ]
  },
  {
   "cell_type": "markdown",
   "id": "e3ebc5be-e4f2-4505-bf96-e3edadac9cbc",
   "metadata": {},
   "source": [
    "##### Buildings"
   ]
  },
  {
   "cell_type": "code",
   "execution_count": null,
   "id": "d474284e-bb02-4c24-b087-b65a8ad9ff0e",
   "metadata": {},
   "outputs": [],
   "source": [
    "mT=SubElement(root,'MasterTable')\n",
    "    \n",
    "c=SubElement(mT,'Enabled')\n",
    "c.text='true'\n",
    "        \n",
    "c=SubElement(mT,'nEntities')\n",
    "rs,cs=buildings.shape \n",
    "c.text=\"{:d}\".format(rs)\n",
    "    \n",
    "c=SubElement(mT,'ShapeName')\n",
    "shpName=\"{:s}Gebaeude\".format(pbf_file_head)\n",
    "c.text=shpName\n",
    "    \n",
    "c=SubElement(mT,'GeometryType')\n",
    "c.text='Polygon'       \n",
    "    \n",
    "c=SubElement(mT,'Sir3STable')\n",
    "c.text='7'    \n",
    "    \n",
    "c=SubElement(mT,'Sir3STableName')\n",
    "c.text='PLYG'        \n",
    "    \n",
    "c=SubElement(mT,'KVR')\n",
    "c.text='0'    \n",
    "    \n",
    "c=SubElement(mT,'HAL')\n",
    "c.text='false'      \n",
    "    \n",
    "c=SubElement(mT,'Import')\n",
    "c.text='true'      \n",
    "    \n",
    "c=SubElement(mT,'Description')\n",
    "c.text=\"generiert\""
   ]
  },
  {
   "cell_type": "markdown",
   "id": "8d81ee6d-00ed-4c6d-b40f-af79db5445af",
   "metadata": {},
   "source": [
    "##### FWVB"
   ]
  },
  {
   "cell_type": "code",
   "execution_count": null,
   "id": "5e61ab12-8742-4246-b753-18c44c7027e2",
   "metadata": {},
   "outputs": [],
   "source": [
    "mT=SubElement(root,'MasterTable')\n",
    "    \n",
    "c=SubElement(mT,'Enabled')\n",
    "c.text='true'\n",
    "        \n",
    "c=SubElement(mT,'nEntities')\n",
    "rs,cs=fwvb.shape \n",
    "c.text=\"{:d}\".format(rs)\n",
    "    \n",
    "c=SubElement(mT,'ShapeName')\n",
    "shpName=\"{:s}FWVB\".format(pbf_file_head)\n",
    "c.text=shpName\n",
    "    \n",
    "c=SubElement(mT,'GeometryType')\n",
    "c.text='Point'       \n",
    "    \n",
    "c=SubElement(mT,'Sir3STable')\n",
    "c.text='5'    \n",
    "    \n",
    "c=SubElement(mT,'Sir3STableName')\n",
    "c.text='FWVB'        \n",
    "    \n",
    "c=SubElement(mT,'KVR')\n",
    "c.text='0'    \n",
    "    \n",
    "c=SubElement(mT,'HAL')\n",
    "c.text='false'      \n",
    "    \n",
    "c=SubElement(mT,'Import')\n",
    "c.text='true'      \n",
    "    \n",
    "c=SubElement(mT,'Description')\n",
    "c.text=\"generiert\""
   ]
  },
  {
   "cell_type": "markdown",
   "id": "b7ecbfaa-4a85-4530-8bcc-37689ea4b7fe",
   "metadata": {},
   "source": [
    "#### Attributes"
   ]
  },
  {
   "cell_type": "markdown",
   "id": "7498e46d-9ba8-4515-a90c-a9113338db02",
   "metadata": {},
   "source": [
    "##### Knots"
   ]
  },
  {
   "cell_type": "code",
   "execution_count": null,
   "id": "280c8f32-cc88-4221-9862-9c4a480a61e8",
   "metadata": {},
   "outputs": [],
   "source": [
    "tagName=\"{:s}Knoten\".format(pbf_file_head)\n",
    "\n",
    "for col in nodeColsShape: \n",
    "    if col == 'geometry':\n",
    "        continue\n",
    "        \n",
    "    cD=SubElement(root,tagName)\n",
    "    \n",
    "    c=SubElement(cD,'ShapeName')\n",
    "    c.text=col\n",
    "    \n",
    "    c2=SubElement(cD,'Sir3SName')\n",
    "    if c.text in ['NAME','IDREFERENZ']:\n",
    "            c2.text=c.text\n",
    "    else:\n",
    "            c2.text='NOT_SET'      \n",
    "        \n",
    "    c2=SubElement(cD,'DataType')\n",
    "    if c.text in ['NAME','IDREFERENZ']:\n",
    "            c2.text='System.String'\n",
    "    else:\n",
    "            c2.text='System.Double'    \n",
    "            \n",
    "    c3=SubElement(cD,'Description')\n",
    "    c3.text=\"generiert\""
   ]
  },
  {
   "cell_type": "code",
   "execution_count": null,
   "id": "a40efac1-05d2-4085-a26d-d3cc653a3a93",
   "metadata": {},
   "outputs": [],
   "source": [
    "tagName=\"{:s}KnotenRL\".format(pbf_file_head)\n",
    "\n",
    "for col in nodeColsShape: \n",
    "    if col == 'geometry':\n",
    "        continue\n",
    "        \n",
    "    cD=SubElement(root,tagName)\n",
    "    \n",
    "    c=SubElement(cD,'ShapeName')\n",
    "    c.text=col\n",
    "    \n",
    "    c2=SubElement(cD,'Sir3SName')\n",
    "    if c.text in ['NAME','IDREFERENZ']:\n",
    "            c2.text=c.text\n",
    "    else:\n",
    "            c2.text='NOT_SET'      \n",
    "        \n",
    "    c2=SubElement(cD,'DataType')\n",
    "    if c.text in ['NAME','IDREFERENZ']:\n",
    "            c2.text='System.String'\n",
    "    else:\n",
    "            c2.text='System.Double'   \n",
    "            \n",
    "    c3=SubElement(cD,'Description')\n",
    "    c3.text=\"generiert\""
   ]
  },
  {
   "cell_type": "markdown",
   "id": "5f687a99-b2a2-478e-8434-614cbb7e4fe9",
   "metadata": {},
   "source": [
    "##### Edges"
   ]
  },
  {
   "cell_type": "code",
   "execution_count": null,
   "id": "2b485d94-0c18-43e1-9f5f-8ba41b70dbc6",
   "metadata": {},
   "outputs": [],
   "source": [
    "tagName=\"{:s}Kanten\".format(pbf_file_head)\n",
    "\n",
    "for col in edgeColsShape: \n",
    "    if col == 'geometry':\n",
    "        continue\n",
    "        \n",
    "    cD=SubElement(root,tagName)\n",
    "    \n",
    "    c=SubElement(cD,'ShapeName')\n",
    "    c.text=col\n",
    "    \n",
    "    c2=SubElement(cD,'Sir3SName')\n",
    "    if c.text in ['IDREFERENZ','STRASSE']:\n",
    "            c2.text=c.text\n",
    "    elif c.text in ['BESCHREIBU']:\n",
    "            c2.text='BESCHREIBUNG'    \n",
    "    else:\n",
    "            c2.text='NOT_SET'      \n",
    "        \n",
    "    c2=SubElement(cD,'DataType')\n",
    "    if c.text in ['BESCHREIBU','IDREFERENZ','STRASSE']:\n",
    "            c2.text='System.String'\n",
    "    else:\n",
    "            c2.text='System.Double'    \n",
    "            \n",
    "    c3=SubElement(cD,'Description')\n",
    "    c3.text=\"generiert\""
   ]
  },
  {
   "cell_type": "code",
   "execution_count": null,
   "id": "07cb8348-5d9b-4c77-a557-82857e66b92d",
   "metadata": {},
   "outputs": [],
   "source": [
    "tagName=\"{:s}KantenRL\".format(pbf_file_head)\n",
    "\n",
    "for col in edgeColsShape: \n",
    "    if col == 'geometry':\n",
    "        continue\n",
    "        \n",
    "    cD=SubElement(root,tagName)\n",
    "    \n",
    "    c=SubElement(cD,'ShapeName')\n",
    "    c.text=col\n",
    "    \n",
    "    c2=SubElement(cD,'Sir3SName')\n",
    "    if c.text in ['IDREFERENZ','STRASSE']:\n",
    "            c2.text=c.text\n",
    "    elif c.text in ['BESCHREIBU']:\n",
    "            c2.text='BESCHREIBUNG'    \n",
    "    else:\n",
    "            c2.text='NOT_SET'       \n",
    "        \n",
    "    c2=SubElement(cD,'DataType')\n",
    "    if c.text in ['BESCHREIBU','IDREFERENZ','STRASSE']:\n",
    "            c2.text='System.String'\n",
    "    else:\n",
    "            c2.text='System.Double'  \n",
    "            \n",
    "    c3=SubElement(cD,'Description')\n",
    "    c3.text=\"generiert\""
   ]
  },
  {
   "cell_type": "markdown",
   "id": "10cca0db-cf42-4947-8003-111666570416",
   "metadata": {},
   "source": [
    "##### Buildings"
   ]
  },
  {
   "cell_type": "code",
   "execution_count": null,
   "id": "000e9597-79a9-43e1-9d97-4bb413feb134",
   "metadata": {},
   "outputs": [],
   "source": [
    "tagName=\"{:s}Gebaeude\".format(pbf_file_head)\n",
    "\n",
    "\n",
    "for col in buildingsColsShape: \n",
    "    if col == 'geometry':\n",
    "        continue\n",
    "        \n",
    "    cD=SubElement(root,tagName)\n",
    "    \n",
    "    c=SubElement(cD,'ShapeName')\n",
    "    c.text=col\n",
    "    \n",
    "    c2=SubElement(cD,'Sir3SName')\n",
    "    if c.text in ['IDREFERENZ']:\n",
    "            c2.text=c.text\n",
    "    elif c.text in ['BESCHREIBU']:\n",
    "            c2.text='BESCHREIBUNG'            \n",
    "    else:\n",
    "            c2.text='NOT_SET'      \n",
    "        \n",
    "    c2=SubElement(cD,'DataType')\n",
    "    if c.text in ['IDREFERENZ']:\n",
    "            c2.text='System.String'\n",
    "    elif c.text in ['BESCHREIBU']:\n",
    "            c2.text='System.String'            \n",
    "    else:\n",
    "            c2.text='System.Double'  \n",
    "            \n",
    "    c3=SubElement(cD,'Description')\n",
    "    c3.text=\"generiert\"\n",
    "\n"
   ]
  },
  {
   "cell_type": "markdown",
   "id": "2254deb6-90a2-4be2-bee9-78d0937fde8f",
   "metadata": {},
   "source": [
    "##### FWVB"
   ]
  },
  {
   "cell_type": "code",
   "execution_count": null,
   "id": "fce9cf17-6792-41fd-b610-27c4dda5bd4b",
   "metadata": {},
   "outputs": [],
   "source": [
    "tagName=\"{:s}FWVB\".format(pbf_file_head)\n",
    "\n",
    "for col in fwvbColsShape: \n",
    "    if col == 'geometry':\n",
    "        continue\n",
    "        \n",
    "    cD=SubElement(root,tagName)\n",
    "    \n",
    "    c=SubElement(cD,'ShapeName')\n",
    "    c.text=col\n",
    "    \n",
    "    c2=SubElement(cD,'Sir3SName')\n",
    "    if c.text in ['IDREFERENZ']:\n",
    "            c2.text=c.text\n",
    "    elif c.text in ['BESCHREIBU']:\n",
    "            c2.text='BESCHREIBUNG'        \n",
    "    elif c.text in ['W0']:\n",
    "            c2.text='POWER'                \n",
    "    else:\n",
    "            c2.text='NOT_SET'      \n",
    "        \n",
    "    c2=SubElement(cD,'DataType')\n",
    "    if c.text in ['IDREFERENZ']:\n",
    "            c2.text='System.String'\n",
    "    elif c.text in ['BESCHREIBU']:\n",
    "            c2.text='System.String'   \n",
    "    elif c.text in ['W0']:\n",
    "            c2.text='System.Double'                        \n",
    "    else:\n",
    "            c2.text='System.Double'  \n",
    "            \n",
    "    c3=SubElement(cD,'Description')\n",
    "    c3.text=\"generiert\""
   ]
  },
  {
   "cell_type": "markdown",
   "id": "d57cf15b-dbe9-4db5-b105-8ca7b074aaae",
   "metadata": {},
   "source": [
    "#### Write ImportDef"
   ]
  },
  {
   "cell_type": "code",
   "execution_count": null,
   "id": "cd6bd843-9776-4378-a460-6d8df8dc86a1",
   "metadata": {},
   "outputs": [],
   "source": [
    "tree = ElementTree(root)\n",
    "\n",
    "ET.indent(tree,' ')\n",
    "\n",
    "with open(\"{:s}ShpImpDef.xml\".format(pbf_file_head),'wb') as f:\n",
    "    tree.write(f, encoding='utf-8', xml_declaration=True)"
   ]
  },
  {
   "cell_type": "code",
   "execution_count": null,
   "id": "fec403b4-c53d-4119-a1bd-2311f1258663",
   "metadata": {},
   "outputs": [],
   "source": []
  }
 ],
 "metadata": {
  "kernelspec": {
   "display_name": "Python 3 (ipykernel)",
   "language": "python",
   "name": "python3"
  },
  "language_info": {
   "codemirror_mode": {
    "name": "ipython",
    "version": 3
   },
   "file_extension": ".py",
   "mimetype": "text/x-python",
   "name": "python",
   "nbconvert_exporter": "python",
   "pygments_lexer": "ipython3",
   "version": "3.11.5"
  }
 },
 "nbformat": 4,
 "nbformat_minor": 5
}
