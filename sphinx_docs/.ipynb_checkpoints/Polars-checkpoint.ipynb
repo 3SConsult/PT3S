{
 "cells": [
  {
   "cell_type": "code",
   "execution_count": null,
   "id": "375cd7a9-de58-4c2a-9f01-56122f4efaa3",
   "metadata": {},
   "outputs": [],
   "source": []
  }
 ],
 "metadata": {
  "kernelspec": {
   "display_name": "Python 3 (ipykernel)",
   "language": "python",
   "name": "python3"
  },
  "language_info": {
   "name": ""
  }
 },
 "nbformat": 4,
 "nbformat_minor": 5
}
