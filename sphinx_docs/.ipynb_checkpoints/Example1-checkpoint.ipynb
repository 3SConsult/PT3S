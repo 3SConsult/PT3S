{
 "cells": [
  {
   "cell_type": "markdown",
   "id": "48214599-fe9c-4671-bb81-4a782ed816b4",
   "metadata": {},
   "source": [
    "# Install PT3S"
   ]
  },
  {
   "cell_type": "code",
   "execution_count": 1,
   "id": "3f8f135e-55c1-4974-ba9e-2de670e2f9c7",
   "metadata": {},
   "outputs": [
    {
     "name": "stdout",
     "output_type": "stream",
     "text": [
      "Requirement already satisfied: PT3S in c:\\users\\jablonski\\3s\\pt3s (90.14.19.0.dev1)\n",
      "Requirement already satisfied: tables in c:\\users\\jablonski\\appdata\\local\\anaconda3\\lib\\site-packages (from PT3S) (3.9.2)\n",
      "Requirement already satisfied: pandas in c:\\users\\jablonski\\appdata\\local\\anaconda3\\lib\\site-packages (from PT3S) (2.1.4)\n",
      "Requirement already satisfied: numpy in c:\\users\\jablonski\\appdata\\local\\anaconda3\\lib\\site-packages (from PT3S) (1.26.4)\n",
      "Requirement already satisfied: h5py in c:\\users\\jablonski\\appdata\\local\\anaconda3\\lib\\site-packages (from PT3S) (3.9.0)\n",
      "Requirement already satisfied: pyodbc in c:\\users\\jablonski\\appdata\\local\\anaconda3\\lib\\site-packages (from PT3S) (5.0.1)\n",
      "Requirement already satisfied: geopandas in c:\\users\\jablonski\\appdata\\local\\anaconda3\\lib\\site-packages (from PT3S) (0.14.1)\n",
      "Requirement already satisfied: networkx in c:\\users\\jablonski\\appdata\\local\\anaconda3\\lib\\site-packages (from PT3S) (3.1)\n",
      "Requirement already satisfied: shapely in c:\\users\\jablonski\\appdata\\local\\anaconda3\\lib\\site-packages (from PT3S) (2.0.2)\n",
      "Requirement already satisfied: contextily in c:\\users\\jablonski\\appdata\\local\\anaconda3\\lib\\site-packages (from PT3S) (1.4.0)\n",
      "Requirement already satisfied: py7zr in c:\\users\\jablonski\\appdata\\local\\anaconda3\\lib\\site-packages (from PT3S) (0.20.7)\n",
      "Requirement already satisfied: folium in c:\\users\\jablonski\\appdata\\local\\anaconda3\\lib\\site-packages (from PT3S) (0.15.0)\n",
      "Requirement already satisfied: mapclassify in c:\\users\\jablonski\\appdata\\local\\anaconda3\\lib\\site-packages (from PT3S) (2.6.1)\n",
      "Requirement already satisfied: sqlalchemy in c:\\users\\jablonski\\appdata\\local\\anaconda3\\lib\\site-packages (from PT3S) (2.0.25)\n",
      "Requirement already satisfied: geopy in c:\\users\\jablonski\\appdata\\local\\anaconda3\\lib\\site-packages (from contextily->PT3S) (2.4.0)\n",
      "Requirement already satisfied: matplotlib in c:\\users\\jablonski\\appdata\\local\\anaconda3\\lib\\site-packages (from contextily->PT3S) (3.8.0)\n",
      "Requirement already satisfied: mercantile in c:\\users\\jablonski\\appdata\\local\\anaconda3\\lib\\site-packages (from contextily->PT3S) (1.2.1)\n",
      "Requirement already satisfied: pillow in c:\\users\\jablonski\\appdata\\local\\anaconda3\\lib\\site-packages (from contextily->PT3S) (10.2.0)\n",
      "Requirement already satisfied: rasterio in c:\\users\\jablonski\\appdata\\local\\anaconda3\\lib\\site-packages (from contextily->PT3S) (1.3.9)\n",
      "Requirement already satisfied: requests in c:\\users\\jablonski\\appdata\\local\\anaconda3\\lib\\site-packages (from contextily->PT3S) (2.31.0)\n",
      "Requirement already satisfied: joblib in c:\\users\\jablonski\\appdata\\local\\anaconda3\\lib\\site-packages (from contextily->PT3S) (1.2.0)\n",
      "Requirement already satisfied: xyzservices in c:\\users\\jablonski\\appdata\\local\\anaconda3\\lib\\site-packages (from contextily->PT3S) (2022.9.0)\n",
      "Requirement already satisfied: branca>=0.6.0 in c:\\users\\jablonski\\appdata\\local\\anaconda3\\lib\\site-packages (from folium->PT3S) (0.7.0)\n",
      "Requirement already satisfied: jinja2>=2.9 in c:\\users\\jablonski\\appdata\\local\\anaconda3\\lib\\site-packages (from folium->PT3S) (3.1.3)\n",
      "Requirement already satisfied: fiona>=1.8.21 in c:\\users\\jablonski\\appdata\\local\\anaconda3\\lib\\site-packages (from geopandas->PT3S) (1.9.5)\n",
      "Requirement already satisfied: packaging in c:\\users\\jablonski\\appdata\\local\\anaconda3\\lib\\site-packages (from geopandas->PT3S) (23.1)\n",
      "Requirement already satisfied: pyproj>=3.3.0 in c:\\users\\jablonski\\appdata\\local\\anaconda3\\lib\\site-packages (from geopandas->PT3S) (3.6.1)\n",
      "Requirement already satisfied: python-dateutil>=2.8.2 in c:\\users\\jablonski\\appdata\\local\\anaconda3\\lib\\site-packages (from pandas->PT3S) (2.8.2)\n",
      "Requirement already satisfied: pytz>=2020.1 in c:\\users\\jablonski\\appdata\\local\\anaconda3\\lib\\site-packages (from pandas->PT3S) (2023.3.post1)\n",
      "Requirement already satisfied: tzdata>=2022.1 in c:\\users\\jablonski\\appdata\\local\\anaconda3\\lib\\site-packages (from pandas->PT3S) (2023.3)\n",
      "Requirement already satisfied: scikit-learn>=1.0 in c:\\users\\jablonski\\appdata\\local\\anaconda3\\lib\\site-packages (from mapclassify->PT3S) (1.2.2)\n",
      "Requirement already satisfied: scipy>=1.8 in c:\\users\\jablonski\\appdata\\local\\anaconda3\\lib\\site-packages (from mapclassify->PT3S) (1.11.4)\n",
      "Requirement already satisfied: texttable in c:\\users\\jablonski\\appdata\\local\\anaconda3\\lib\\site-packages (from py7zr->PT3S) (1.7.0)\n",
      "Requirement already satisfied: pycryptodomex>=3.16.0 in c:\\users\\jablonski\\appdata\\local\\anaconda3\\lib\\site-packages (from py7zr->PT3S) (3.19.0)\n",
      "Requirement already satisfied: pyzstd>=0.15.9 in c:\\users\\jablonski\\appdata\\local\\anaconda3\\lib\\site-packages (from py7zr->PT3S) (0.15.9)\n",
      "Requirement already satisfied: pyppmd<1.2.0,>=1.1.0 in c:\\users\\jablonski\\appdata\\local\\anaconda3\\lib\\site-packages (from py7zr->PT3S) (1.1.0)\n",
      "Requirement already satisfied: pybcj<1.1.0,>=1.0.0 in c:\\users\\jablonski\\appdata\\local\\anaconda3\\lib\\site-packages (from py7zr->PT3S) (1.0.2)\n",
      "Requirement already satisfied: multivolumefile>=0.2.3 in c:\\users\\jablonski\\appdata\\local\\anaconda3\\lib\\site-packages (from py7zr->PT3S) (0.2.3)\n",
      "Requirement already satisfied: inflate64<1.1.0,>=1.0.0 in c:\\users\\jablonski\\appdata\\local\\anaconda3\\lib\\site-packages (from py7zr->PT3S) (1.0.0)\n",
      "Requirement already satisfied: brotli>=1.1.0 in c:\\users\\jablonski\\appdata\\local\\anaconda3\\lib\\site-packages (from py7zr->PT3S) (1.1.0)\n",
      "Requirement already satisfied: psutil in c:\\users\\jablonski\\appdata\\local\\anaconda3\\lib\\site-packages (from py7zr->PT3S) (5.9.0)\n",
      "Requirement already satisfied: typing-extensions>=4.6.0 in c:\\users\\jablonski\\appdata\\local\\anaconda3\\lib\\site-packages (from sqlalchemy->PT3S) (4.9.0)\n",
      "Requirement already satisfied: greenlet!=0.4.17 in c:\\users\\jablonski\\appdata\\local\\anaconda3\\lib\\site-packages (from sqlalchemy->PT3S) (3.0.1)\n",
      "Requirement already satisfied: numexpr>=2.6.2 in c:\\users\\jablonski\\appdata\\local\\anaconda3\\lib\\site-packages (from tables->PT3S) (2.8.7)\n",
      "Requirement already satisfied: py-cpuinfo in c:\\users\\jablonski\\appdata\\local\\anaconda3\\lib\\site-packages (from tables->PT3S) (9.0.0)\n",
      "Requirement already satisfied: attrs>=19.2.0 in c:\\users\\jablonski\\appdata\\local\\anaconda3\\lib\\site-packages (from fiona>=1.8.21->geopandas->PT3S) (23.1.0)\n",
      "Requirement already satisfied: certifi in c:\\users\\jablonski\\appdata\\local\\anaconda3\\lib\\site-packages (from fiona>=1.8.21->geopandas->PT3S) (2024.2.2)\n",
      "Requirement already satisfied: click~=8.0 in c:\\users\\jablonski\\appdata\\local\\anaconda3\\lib\\site-packages (from fiona>=1.8.21->geopandas->PT3S) (8.1.7)\n",
      "Requirement already satisfied: click-plugins>=1.0 in c:\\users\\jablonski\\appdata\\local\\anaconda3\\lib\\site-packages (from fiona>=1.8.21->geopandas->PT3S) (1.1.1)\n",
      "Requirement already satisfied: cligj>=0.5 in c:\\users\\jablonski\\appdata\\local\\anaconda3\\lib\\site-packages (from fiona>=1.8.21->geopandas->PT3S) (0.7.2)\n",
      "Requirement already satisfied: six in c:\\users\\jablonski\\appdata\\local\\anaconda3\\lib\\site-packages (from fiona>=1.8.21->geopandas->PT3S) (1.16.0)\n",
      "Requirement already satisfied: setuptools in c:\\users\\jablonski\\appdata\\local\\anaconda3\\lib\\site-packages (from fiona>=1.8.21->geopandas->PT3S) (68.0.0)\n",
      "Requirement already satisfied: MarkupSafe>=2.0 in c:\\users\\jablonski\\appdata\\local\\anaconda3\\lib\\site-packages (from jinja2>=2.9->folium->PT3S) (2.1.3)\n",
      "Requirement already satisfied: threadpoolctl>=2.0.0 in c:\\users\\jablonski\\appdata\\local\\anaconda3\\lib\\site-packages (from scikit-learn>=1.0->mapclassify->PT3S) (2.2.0)\n",
      "Requirement already satisfied: geographiclib<3,>=1.52 in c:\\users\\jablonski\\appdata\\local\\anaconda3\\lib\\site-packages (from geopy->contextily->PT3S) (2.0)\n",
      "Requirement already satisfied: contourpy>=1.0.1 in c:\\users\\jablonski\\appdata\\local\\anaconda3\\lib\\site-packages (from matplotlib->contextily->PT3S) (1.2.0)\n",
      "Requirement already satisfied: cycler>=0.10 in c:\\users\\jablonski\\appdata\\local\\anaconda3\\lib\\site-packages (from matplotlib->contextily->PT3S) (0.11.0)\n",
      "Requirement already satisfied: fonttools>=4.22.0 in c:\\users\\jablonski\\appdata\\local\\anaconda3\\lib\\site-packages (from matplotlib->contextily->PT3S) (4.25.0)\n",
      "Requirement already satisfied: kiwisolver>=1.0.1 in c:\\users\\jablonski\\appdata\\local\\anaconda3\\lib\\site-packages (from matplotlib->contextily->PT3S) (1.4.4)\n",
      "Requirement already satisfied: pyparsing>=2.3.1 in c:\\users\\jablonski\\appdata\\local\\anaconda3\\lib\\site-packages (from matplotlib->contextily->PT3S) (3.0.9)\n",
      "Requirement already satisfied: affine in c:\\users\\jablonski\\appdata\\local\\anaconda3\\lib\\site-packages (from rasterio->contextily->PT3S) (2.4.0)\n",
      "Requirement already satisfied: snuggs>=1.4.1 in c:\\users\\jablonski\\appdata\\local\\anaconda3\\lib\\site-packages (from rasterio->contextily->PT3S) (1.4.7)\n",
      "Requirement already satisfied: charset-normalizer<4,>=2 in c:\\users\\jablonski\\appdata\\local\\anaconda3\\lib\\site-packages (from requests->contextily->PT3S) (2.0.4)\n",
      "Requirement already satisfied: idna<4,>=2.5 in c:\\users\\jablonski\\appdata\\local\\anaconda3\\lib\\site-packages (from requests->contextily->PT3S) (3.4)\n",
      "Requirement already satisfied: urllib3<3,>=1.21.1 in c:\\users\\jablonski\\appdata\\local\\anaconda3\\lib\\site-packages (from requests->contextily->PT3S) (2.0.7)\n",
      "Requirement already satisfied: colorama in c:\\users\\jablonski\\appdata\\local\\anaconda3\\lib\\site-packages (from click~=8.0->fiona>=1.8.21->geopandas->PT3S) (0.4.6)\n",
      "Note: you may need to restart the kernel to use updated packages.\n"
     ]
    }
   ],
   "source": [
    "pip install PT3S"
   ]
  },
  {
   "cell_type": "markdown",
   "id": "f233bd54-261e-497a-9c91-f1b7a8031a70",
   "metadata": {},
   "source": [
    "# Imports"
   ]
  },
  {
   "cell_type": "code",
   "execution_count": 2,
   "id": "87b7db9e-ba57-4acc-b006-99dfcd48d2ad",
   "metadata": {},
   "outputs": [],
   "source": [
    "import os\n",
    "import geopandas\n",
    "import logging\n",
    "import folium\n",
    "import pandas as pd\n",
    "\n",
    "try:\n",
    "    from PT3S import dxAndMxHelperFcts\n",
    "except:\n",
    "    import dxAndMxHelperFcts"
   ]
  },
  {
   "cell_type": "code",
   "execution_count": 3,
   "id": "a2153c01-ff57-405f-a884-b52e517c6209",
   "metadata": {},
   "outputs": [],
   "source": [
    "pt3s_path = os.path.dirname(os.path.abspath(dxAndMxHelperFcts.__file__))"
   ]
  },
  {
   "cell_type": "markdown",
   "id": "bd5882d4-eab8-4da6-8bbe-6776d4195dd2",
   "metadata": {},
   "source": [
    "# Logging"
   ]
  },
  {
   "cell_type": "code",
   "execution_count": 4,
   "id": "852d5593-37d0-4ccb-be1f-29154bdc142f",
   "metadata": {},
   "outputs": [],
   "source": [
    "logger = logging.getLogger()  \n",
    "\n",
    "logFileName= r\"Example1.log\" \n",
    "\n",
    "loglevel = logging.DEBUG\n",
    "logging.basicConfig(filename=logFileName\n",
    "                        ,filemode='w'\n",
    "                        ,level=loglevel\n",
    "                        ,format=\"%(asctime)s ; %(name)-60s ; %(levelname)-7s ; %(message)s\")    \n",
    "\n",
    "fileHandler = logging.FileHandler(logFileName)     \n",
    "\n",
    "logger.addHandler(fileHandler)\n",
    "\n",
    "consoleHandler = logging.StreamHandler()\n",
    "consoleHandler.setFormatter(logging.Formatter(\"%(levelname)-7s ; %(message)s\"))\n",
    "consoleHandler.setLevel(logging.INFO)\n",
    "logger.addHandler(consoleHandler)"
   ]
  },
  {
   "cell_type": "markdown",
   "id": "988add98-bded-40f3-beac-bf682fcd74bd",
   "metadata": {},
   "source": [
    "# Model"
   ]
  },
  {
   "cell_type": "code",
   "execution_count": 5,
   "id": "b116c32f-df99-45a0-b977-f28609d37f9e",
   "metadata": {},
   "outputs": [],
   "source": [
    "dbFilename=\"Wärmenetz-Planungsbeispiel\""
   ]
  },
  {
   "cell_type": "markdown",
   "id": "1b34591a-c2d1-486b-b853-ed38cd5c8323",
   "metadata": {},
   "source": [
    "# Read Model and Results"
   ]
  },
  {
   "cell_type": "code",
   "execution_count": 6,
   "id": "f8b5221c-0fd1-4fbc-abaf-81325ad2629d",
   "metadata": {},
   "outputs": [
    {
     "name": "stderr",
     "output_type": "stream",
     "text": [
      "INFO    ; Dx.__init__: dbFile (abspath): c:\\users\\jablonski\\3s\\pt3s\\Examples\\Wärmenetz-Planungsbeispiel.db3 exists readable ...\n",
      "INFO    ; dxWithMx.__init__: Wärmenetz-Planungsbeispiel: processing dx and mx ...\n",
      "ERROR   ; Dx.MxAdd: Exception: Line: 1249: <class 'IndexError'>: Too many levels: Index has only 1 level, not 2\n",
      "ERROR   ; dxWithMx.__init__: Exception: Line: 93: <class 'KeyError'>: 'V3_ROHR'\n",
      "ERROR   ; dxAndMxHelperFcts.readDxAndMx: Exception: Line: 821: <class 'dxAndMxHelperFcts.dxWithMxError'>: \"dxWithMx.__init__: Exception: Line: 93: <class 'KeyError'>: 'V3_ROHR'\"\n"
     ]
    }
   ],
   "source": [
    "m=dxAndMxHelperFcts.readDxAndMx(dbFile=os.path.join(pt3s_path+'/Examples/'+dbFilename+'.db3')\n",
    "                                ,preventPklDump=True\n",
    "                               )"
   ]
  },
  {
   "cell_type": "markdown",
   "id": "3e7519ec-78a0-4fa2-bba1-c9d567039e83",
   "metadata": {},
   "source": [
    "# Interactive Map"
   ]
  },
  {
   "cell_type": "code",
   "execution_count": 7,
   "id": "1d400188-f735-44e1-8850-915d29da9cb5",
   "metadata": {},
   "outputs": [
    {
     "ename": "AttributeError",
     "evalue": "'NoneType' object has no attribute 'gdf_ROHR'",
     "output_type": "error",
     "traceback": [
      "\u001b[1;31m---------------------------------------------------------------------------\u001b[0m",
      "\u001b[1;31mAttributeError\u001b[0m                            Traceback (most recent call last)",
      "Cell \u001b[1;32mIn[7], line 1\u001b[0m\n\u001b[1;32m----> 1\u001b[0m gdf_ROHR \u001b[38;5;241m=\u001b[39m m\u001b[38;5;241m.\u001b[39mgdf_ROHR\u001b[38;5;241m.\u001b[39mdropna(subset\u001b[38;5;241m=\u001b[39m\u001b[38;5;124m'\u001b[39m\u001b[38;5;124mgeometry\u001b[39m\u001b[38;5;124m'\u001b[39m)\n\u001b[0;32m      2\u001b[0m gdf_FWVB \u001b[38;5;241m=\u001b[39m m\u001b[38;5;241m.\u001b[39mgdf_FWVB\u001b[38;5;241m.\u001b[39mdropna(subset\u001b[38;5;241m=\u001b[39m\u001b[38;5;124m'\u001b[39m\u001b[38;5;124mgeometry\u001b[39m\u001b[38;5;124m'\u001b[39m)\n",
      "\u001b[1;31mAttributeError\u001b[0m: 'NoneType' object has no attribute 'gdf_ROHR'"
     ]
    }
   ],
   "source": [
    "gdf_ROHR = m.gdf_ROHR.dropna(subset='geometry')\n",
    "gdf_FWVB = m.gdf_FWVB.dropna(subset='geometry')"
   ]
  },
  {
   "cell_type": "code",
   "execution_count": null,
   "id": "e1e074a7-54e4-452b-af98-b267d56a9a8a",
   "metadata": {},
   "outputs": [],
   "source": [
    "minRadius=2\n",
    "maxRadius=10*minRadius\n",
    "facRadius=1/10.\n",
    "\n",
    "minWidthinPixel=1\n",
    "maxWidthinPixel=3*minWidthinPixel\n",
    "\n",
    "facWidthinPixel1DN=1/200\n",
    "facWidthinPixelQMAVAbs=1/10"
   ]
  },
  {
   "cell_type": "code",
   "execution_count": null,
   "id": "091ac400-af7d-47e4-bd55-fae9160588cb",
   "metadata": {},
   "outputs": [],
   "source": [
    "dfLonLat=gdf_FWVB.to_crs('EPSG:4326').geometry.get_coordinates()\n",
    "\n",
    "x_mean=dfLonLat['x'].mean()\n",
    "y_mean=dfLonLat['y'].mean()"
   ]
  },
  {
   "cell_type": "code",
   "execution_count": null,
   "id": "06e63043-77b8-4512-9a7b-6a35c8ca936b",
   "metadata": {
    "scrolled": true
   },
   "outputs": [],
   "source": [
    "map=folium.Map(location=(y_mean,x_mean),titles='CartoDB Positron',zoom_start=16)\n",
    "\n",
    "gdf_FWVB.loc[:,['geometry','W']].explore(column='W'\n",
    "                                         ,cmap='autumn_r'\n",
    "                                         ,legend=False\n",
    "                                         ,vmin=gdf_FWVB['W'].quantile(.025),vmax=gdf_FWVB['W'].quantile(.975)\n",
    "                                         ,style_kwds={'style_function':lambda x: {'radius':min(max(x['properties']['W']*facRadius,minRadius),maxRadius) }}\n",
    "                                         ,name='W'\n",
    "                                         ,m=map\n",
    "                                        )\n",
    "\n",
    "gdf_ROHR[gdf_ROHR['KVR'].isin([1.,None])].loc[:,['geometry', 'DI']].explore(column='DI'\n",
    "                                        ,cmap='gray'\n",
    "                                        ,legend=True\n",
    "                                        ,vmin=gdf_ROHR['DI'].quantile(.2),vmax=1.5*gdf_ROHR['DI'].quantile(1)\n",
    "                                        ,style_kwds={'style_function':lambda x: {'radius':min(max(x['properties']['DI']*facWidthinPixel1DN,minWidthinPixel),maxWidthinPixel)}}\n",
    "                                        ,name='DI'\n",
    "                                        ,m=map\n",
    "                                       )\n",
    "\n",
    "gdf_ROHR[gdf_ROHR['KVR'].isin([1.,None])].loc[:,['geometry', 'QMAVAbs']].explore(column='QMAVAbs'\n",
    "                                        ,cmap='cool'\n",
    "                                        ,legend=True\n",
    "                                        ,vmin=gdf_ROHR['QMAVAbs'].quantile(.2),vmax=gdf_ROHR['QMAVAbs'].quantile(.80)\n",
    "                                        ,style_kwds={'style_function':lambda x: {'weight':min(max(x['properties']['QMAVAbs']*facWidthinPixelQMAVAbs,minWidthinPixel),maxWidthinPixel)}}\n",
    "                                        ,name='QMAVAbs'\n",
    "                                        ,m=map\n",
    "                                        )\n",
    "\n",
    "dummy=folium.LayerControl().add_to(map)"
   ]
  },
  {
   "cell_type": "code",
   "execution_count": null,
   "id": "3b787a79-2634-48d3-9d73-dae977245cff",
   "metadata": {},
   "outputs": [],
   "source": [
    "map"
   ]
  }
 ],
 "metadata": {
  "kernelspec": {
   "display_name": "Python 3 (ipykernel)",
   "language": "python",
   "name": "python3"
  },
  "language_info": {
   "codemirror_mode": {
    "name": "ipython",
    "version": 3
   },
   "file_extension": ".py",
   "mimetype": "text/x-python",
   "name": "python",
   "nbconvert_exporter": "python",
   "pygments_lexer": "ipython3",
   "version": "3.11.8"
  }
 },
 "nbformat": 4,
 "nbformat_minor": 5
}
