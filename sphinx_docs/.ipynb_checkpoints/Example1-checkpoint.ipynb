{
 "cells": [
  {
   "cell_type": "markdown",
   "id": "f233bd54-261e-497a-9c91-f1b7a8031a70",
   "metadata": {},
   "source": [
    "# Imports"
   ]
  },
  {
   "cell_type": "code",
   "execution_count": 1,
   "id": "87b7db9e-ba57-4acc-b006-99dfcd48d2ad",
   "metadata": {},
   "outputs": [],
   "source": [
    "import os\n",
    "import geopandas\n",
    "import logging\n",
    "import pandas as pd\n",
    "import io\n",
    "import subprocess\n",
    "from PIL import Image\n",
    "\n",
    "import folium\n",
    "from folium.plugins import HeatMap\n",
    "\n",
    "try:\n",
    "    from PT3S import dxAndMxHelperFcts\n",
    "except:\n",
    "    import dxAndMxHelperFcts"
   ]
  },
  {
   "cell_type": "code",
   "execution_count": 2,
   "id": "a2153c01-ff57-405f-a884-b52e517c6209",
   "metadata": {},
   "outputs": [],
   "source": [
    "pt3s_path = os.path.dirname(os.path.abspath(dxAndMxHelperFcts.__file__))"
   ]
  },
  {
   "cell_type": "markdown",
   "id": "bd5882d4-eab8-4da6-8bbe-6776d4195dd2",
   "metadata": {},
   "source": [
    "# Logging"
   ]
  },
  {
   "cell_type": "code",
   "execution_count": 3,
   "id": "852d5593-37d0-4ccb-be1f-29154bdc142f",
   "metadata": {},
   "outputs": [],
   "source": [
    "logger = logging.getLogger()  \n",
    "\n",
    "logFileName= r\"Example1.log\" \n",
    "\n",
    "loglevel = logging.DEBUG\n",
    "logging.basicConfig(filename=logFileName\n",
    "                        ,filemode='w'\n",
    "                        ,level=loglevel\n",
    "                        ,format=\"%(asctime)s ; %(name)-60s ; %(levelname)-7s ; %(message)s\")    \n",
    "\n",
    "fileHandler = logging.FileHandler(logFileName)     \n",
    "\n",
    "logger.addHandler(fileHandler)\n",
    "\n",
    "consoleHandler = logging.StreamHandler()\n",
    "consoleHandler.setFormatter(logging.Formatter(\"%(levelname)-7s ; %(message)s\"))\n",
    "consoleHandler.setLevel(logging.INFO)\n",
    "logger.addHandler(consoleHandler)"
   ]
  },
  {
   "cell_type": "markdown",
   "id": "988add98-bded-40f3-beac-bf682fcd74bd",
   "metadata": {},
   "source": [
    "# Model and SirCalc"
   ]
  },
  {
   "cell_type": "code",
   "execution_count": 4,
   "id": "b116c32f-df99-45a0-b977-f28609d37f9e",
   "metadata": {},
   "outputs": [],
   "source": [
    "dbFilename=\"Example1\""
   ]
  },
  {
   "cell_type": "raw",
   "id": "618b99b8-53b8-4bae-a43a-c914f71717ec",
   "metadata": {},
   "source": [
    "You need to enter the specific path  to SirCalc on your system."
   ]
  },
  {
   "cell_type": "code",
   "execution_count": 5,
   "id": "7fd7cf5e-3c4d-4796-9034-8e1850ec6267",
   "metadata": {},
   "outputs": [],
   "source": [
    "SirCalc = r\"C:\\3S\\SIR 3S\\SirCalc-90-14-02-10_Potsdam\\SirCalc.exe\""
   ]
  },
  {
   "cell_type": "markdown",
   "id": "168ed7ab-cf19-43fd-8c41-297e95bbf8a4",
   "metadata": {},
   "source": [
    "# Calculation of Results"
   ]
  },
  {
   "cell_type": "raw",
   "id": "e8622904-396e-46e1-b0d6-5c78efbb4382",
   "metadata": {},
   "source": [
    "The calculations take some time. If you have calculated the results once and want to rerun the script, set this to False."
   ]
  },
  {
   "cell_type": "code",
   "execution_count": 6,
   "id": "bd277199-e5b9-43ea-8f38-21d414bab271",
   "metadata": {},
   "outputs": [],
   "source": [
    "calculate=True"
   ]
  },
  {
   "cell_type": "code",
   "execution_count": 7,
   "id": "f75b586b-f2f4-4b68-a9f4-4a2236988212",
   "metadata": {},
   "outputs": [],
   "source": [
    "SirCalcXml = os.path.join(pt3s_path, \"Examples\", \"WDDistrictHeating\", \"B1\", \"V0\", \"BZ1\", \"M-1-0-1.XML\")"
   ]
  },
  {
   "cell_type": "code",
   "execution_count": 8,
   "id": "fc935215-c949-4280-bb39-5f1ee953fae9",
   "metadata": {},
   "outputs": [],
   "source": [
    "if calculate:\n",
    "    with subprocess.Popen([SirCalc, SirCalcXml]) as process:\n",
    "        process.wait()"
   ]
  },
  {
   "cell_type": "markdown",
   "id": "1b34591a-c2d1-486b-b853-ed38cd5c8323",
   "metadata": {},
   "source": [
    "# Read Model and Results"
   ]
  },
  {
   "cell_type": "code",
   "execution_count": 9,
   "id": "f8b5221c-0fd1-4fbc-abaf-81325ad2629d",
   "metadata": {},
   "outputs": [
    {
     "name": "stderr",
     "output_type": "stream",
     "text": [
      "INFO    ; Dx.__init__: dbFile (abspath): c:\\users\\jablonski\\3s\\pt3s\\Examples\\Example1.db3 exists readable ...\n",
      "INFO    ; dxAndMxHelperFcts.readDxAndMx: \n",
      "+..\\Examples\\Example1.db3 is newer than\n",
      "+..\\Examples\\WDExample1\\B1\\V0\\BZ1\\M-1-0-1.1.MX1:\n",
      "+SIR 3S' dbFile is newer than SIR 3S' mx1File\n",
      "+in this case the results are maybe dated or (worse) incompatible to the model\n",
      "INFO    ; Mx.setResultsToMxsFile: Mxs: ..\\Examples\\WDExample1\\B1\\V0\\BZ1\\M-1-0-1.1.MXS reading ...\n",
      "INFO    ; dxWithMx.__init__: Example1: processing dx and mx ...\n",
      "ERROR   ; Dx.MxAdd: Exception: Line: 1420: <class 'ValueError'>: No objects to concatenate\n",
      "ERROR   ; dxWithMx.__init__: Exception: Line: 109: <class 'Dx.DxError'>: \"Dx.MxAdd: Exception: Line: 1420: <class 'ValueError'>: No objects to concatenate\"\n",
      "ERROR   ; dxAndMxHelperFcts.readDxAndMx: Exception: Line: 1391: <class 'dxAndMxHelperFcts.dxWithMxError'>: 'dxWithMx.__init__: Exception: Line: 109: <class \\'Dx.DxError\\'>: \"Dx.MxAdd: Exception: Line: 1420: <class \\'ValueError\\'>: No objects to concatenate\"'\n"
     ]
    }
   ],
   "source": [
    "m=dxAndMxHelperFcts.readDxAndMx(dbFile=os.path.join(pt3s_path+'/Examples/'+dbFilename+'.db3')\n",
    "                                ,preventPklDump=True\n",
    "                               )"
   ]
  },
  {
   "cell_type": "markdown",
   "id": "3e7519ec-78a0-4fa2-bba1-c9d567039e83",
   "metadata": {},
   "source": [
    "# Interactive Map"
   ]
  },
  {
   "cell_type": "code",
   "execution_count": 11,
   "id": "07132ac1-fc08-4191-8487-7cb23bbae8d8",
   "metadata": {},
   "outputs": [
    {
     "ename": "AttributeError",
     "evalue": "'NoneType' object has no attribute 'gdf_ROHR'",
     "output_type": "error",
     "traceback": [
      "\u001b[1;31m---------------------------------------------------------------------------\u001b[0m",
      "\u001b[1;31mAttributeError\u001b[0m                            Traceback (most recent call last)",
      "Cell \u001b[1;32mIn[11], line 1\u001b[0m\n\u001b[1;32m----> 1\u001b[0m gdf_ROHR \u001b[38;5;241m=\u001b[39m m\u001b[38;5;241m.\u001b[39mgdf_ROHR\u001b[38;5;241m.\u001b[39mdropna(subset\u001b[38;5;241m=\u001b[39m[\u001b[38;5;124m'\u001b[39m\u001b[38;5;124mgeometry\u001b[39m\u001b[38;5;124m'\u001b[39m])\n\u001b[0;32m      2\u001b[0m gdf_FWVB \u001b[38;5;241m=\u001b[39m m\u001b[38;5;241m.\u001b[39mgdf_FWVB\u001b[38;5;241m.\u001b[39mdropna(subset\u001b[38;5;241m=\u001b[39m[\u001b[38;5;124m'\u001b[39m\u001b[38;5;124mgeometry\u001b[39m\u001b[38;5;124m'\u001b[39m])\n",
      "\u001b[1;31mAttributeError\u001b[0m: 'NoneType' object has no attribute 'gdf_ROHR'"
     ]
    }
   ],
   "source": [
    "gdf_ROHR = m.gdf_ROHR.dropna(subset=['geometry'])\n",
    "gdf_FWVB = m.gdf_FWVB.dropna(subset=['geometry'])"
   ]
  },
  {
   "cell_type": "code",
   "execution_count": null,
   "id": "8467cf02-ebaf-4cf8-9318-f2487b509151",
   "metadata": {},
   "outputs": [],
   "source": [
    "# Convert gdf_FWVB to EPSG:4326 CRS and get coordinates\n",
    "dfData = gdf_FWVB.to_crs('EPSG:4326').geometry.get_coordinates()"
   ]
  },
  {
   "cell_type": "code",
   "execution_count": null,
   "id": "4132aa78-aae5-4917-a53f-bc77e6fddf10",
   "metadata": {},
   "outputs": [],
   "source": [
    "dfData['W'] = gdf_FWVB['W']"
   ]
  },
  {
   "cell_type": "code",
   "execution_count": null,
   "id": "714341c8-6ded-43b7-9b1c-baba1972b606",
   "metadata": {},
   "outputs": [],
   "source": [
    "# Prepare data for heatmap\n",
    "heatMapDataW = [[row['y'], row['x'], row['W']] for index, row in dfData.iterrows()]"
   ]
  },
  {
   "cell_type": "code",
   "execution_count": null,
   "id": "8bb5a25c-6aa5-4c5a-8257-013f2703cde6",
   "metadata": {},
   "outputs": [],
   "source": [
    "x_mean = dfData['x'].mean()\n",
    "y_mean = dfData['y'].mean()"
   ]
  },
  {
   "cell_type": "code",
   "execution_count": null,
   "id": "fd7e012e-a9af-42ab-94dd-f96f8fdb4a21",
   "metadata": {},
   "outputs": [],
   "source": [
    "minRadius = 2\n",
    "maxRadius = 10 * minRadius\n",
    "facRadius = 1 / 10.\n",
    "minWidthinPixel = 1\n",
    "maxWidthinPixel = 3 * minWidthinPixel\n",
    "facWidthinPixel1DN = 1 / 200\n",
    "facWidthinPixelQMAVAbs = 1 / 10"
   ]
  },
  {
   "cell_type": "code",
   "execution_count": null,
   "id": "06e63043-77b8-4512-9a7b-6a35c8ca936b",
   "metadata": {},
   "outputs": [],
   "source": [
    "# Create a folium Map\n",
    "map = folium.Map(location=(y_mean, x_mean), titles='CartoDB Positron', zoom_start=16)\n",
    "\n",
    "# Add 'W' layer to the map\n",
    "gdf_FWVB.loc[:, ['geometry', 'W']].explore(\n",
    "    column='W',\n",
    "    cmap='autumn_r',\n",
    "    legend=False,\n",
    "    vmin=gdf_FWVB['W'].quantile(.025),\n",
    "    vmax=gdf_FWVB['W'].quantile(.975),\n",
    "    style_kwds={'style_function': lambda x: {'radius': min(max(x['properties']['W'] * facRadius, minRadius), maxRadius)}},\n",
    "    name='W',\n",
    "    show=False,\n",
    "    m=map\n",
    ")\n",
    "\n",
    "# Add 'W' HeatMap layer to the map\n",
    "HeatMap(heatMapDataW, name='Heat Map von W', radius=10, blur=5, base=True).add_to(map)\n",
    "\n",
    "# Add 'DI' layer to the map\n",
    "gdf_ROHR[(gdf_ROHR['KVR'].isin([1., None])) & (gdf_ROHR['DI'] != 994)].loc[:, ['geometry', 'DI']].explore(\n",
    "    column='DI',\n",
    "    cmap='gray',\n",
    "    legend=True,\n",
    "    vmin = gdf_ROHR.loc[gdf_ROHR['DI'] != 994, 'DI'].quantile(.2),\n",
    "    vmax = 1.5 * gdf_ROHR.loc[gdf_ROHR['DI'] != 994, 'DI'].quantile(1),\n",
    "    style_kwds={'style_function': lambda x: {'radius': min(max(x['properties']['DI'] * facWidthinPixel1DN, minWidthinPixel), maxWidthinPixel)}},\n",
    "    name='DI',\n",
    "    m=map\n",
    ")\n",
    "\n",
    "# Add 'QMAVAbs' layer to the map\n",
    "gdf_ROHR[gdf_ROHR['KVR'].isin([1., None])].loc[:, ['geometry', 'QMAVAbs']].explore(\n",
    "    column='QMAVAbs',\n",
    "    cmap='cool',\n",
    "    legend=True, \n",
    "    vmin=gdf_ROHR['QMAVAbs'].quantile(.2),\n",
    "    vmax=gdf_ROHR['QMAVAbs'].quantile(.80),\n",
    "    style_kwds={'style_function': lambda x: {'weight': min(max(x['properties']['QMAVAbs'] * facWidthinPixelQMAVAbs, minWidthinPixel), maxWidthinPixel)}},\n",
    "    name='QMAVAbs',\n",
    "    m=map\n",
    ")\n",
    "\n",
    "# Add LayerControl to the map\n",
    "folium.LayerControl().add_to(map)"
   ]
  },
  {
   "cell_type": "code",
   "execution_count": null,
   "id": "3b787a79-2634-48d3-9d73-dae977245cff",
   "metadata": {},
   "outputs": [],
   "source": [
    "# Display the map\n",
    "map"
   ]
  },
  {
   "cell_type": "markdown",
   "id": "d94507b8-c122-4e58-a82c-a670e030fecb",
   "metadata": {},
   "source": [
    "# Printable Output"
   ]
  },
  {
   "cell_type": "code",
   "execution_count": null,
   "id": "ba4af15e-dcc4-4be9-b213-f5a0ed53aaae",
   "metadata": {},
   "outputs": [],
   "source": [
    "img_data = map._to_png(5)\n",
    "img = Image.open(io.BytesIO(img_data))"
   ]
  },
  {
   "cell_type": "code",
   "execution_count": null,
   "id": "02ba9e25-1418-45db-8f0c-9a959392a2ca",
   "metadata": {},
   "outputs": [],
   "source": [
    "img.save('Example1_Output.png')"
   ]
  },
  {
   "cell_type": "code",
   "execution_count": null,
   "id": "5abda3a3-7d04-4b52-ab02-49a6e2856304",
   "metadata": {},
   "outputs": [],
   "source": [
    "img.save('Example1_Output.pdf')"
   ]
  }
 ],
 "metadata": {
  "kernelspec": {
   "display_name": "Python 3 (ipykernel)",
   "language": "python",
   "name": "python3"
  },
  "language_info": {
   "codemirror_mode": {
    "name": "ipython",
    "version": 3
   },
   "file_extension": ".py",
   "mimetype": "text/x-python",
   "name": "python",
   "nbconvert_exporter": "python",
   "pygments_lexer": "ipython3",
   "version": "3.11.8"
  }
 },
 "nbformat": 4,
 "nbformat_minor": 5
}
