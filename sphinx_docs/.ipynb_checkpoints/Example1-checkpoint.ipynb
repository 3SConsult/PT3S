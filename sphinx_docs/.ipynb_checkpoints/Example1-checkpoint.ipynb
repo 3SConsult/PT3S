{
 "cells": [
  {
   "cell_type": "markdown",
   "id": "48214599-fe9c-4671-bb81-4a782ed816b4",
   "metadata": {},
   "source": [
    "# Imports"
   ]
  },
  {
   "cell_type": "code",
   "execution_count": 1,
   "id": "87b7db9e-ba57-4acc-b006-99dfcd48d2ad",
   "metadata": {},
   "outputs": [],
   "source": [
    "import os\n",
    "import geopandas\n",
    "import logging\n",
    "\n",
    "try:\n",
    "    from PT3S import dxAndMxHelperFcts\n",
    "except:\n",
    "    import dxAndMxHelperFcts"
   ]
  },
  {
   "cell_type": "code",
   "execution_count": 2,
   "id": "a2153c01-ff57-405f-a884-b52e517c6209",
   "metadata": {},
   "outputs": [],
   "source": [
    "pt3s_path = os.path.dirname(os.path.abspath(dxAndMxHelperFcts.__file__))"
   ]
  },
  {
   "cell_type": "markdown",
   "id": "bd5882d4-eab8-4da6-8bbe-6776d4195dd2",
   "metadata": {},
   "source": [
    "# Logging"
   ]
  },
  {
   "cell_type": "code",
   "execution_count": 3,
   "id": "852d5593-37d0-4ccb-be1f-29154bdc142f",
   "metadata": {},
   "outputs": [],
   "source": [
    "logger = logging.getLogger()  \n",
    "\n",
    "logFileName= r\"Example1.log\" \n",
    "\n",
    "loglevel = logging.DEBUG\n",
    "logging.basicConfig(filename=logFileName\n",
    "                        ,filemode='w'\n",
    "                        ,level=loglevel\n",
    "                        ,format=\"%(asctime)s ; %(name)-60s ; %(levelname)-7s ; %(message)s\")    \n",
    "\n",
    "fileHandler = logging.FileHandler(logFileName)     \n",
    "\n",
    "logger.addHandler(fileHandler)\n",
    "\n",
    "consoleHandler = logging.StreamHandler()\n",
    "consoleHandler.setFormatter(logging.Formatter(\"%(levelname)-7s ; %(message)s\"))\n",
    "consoleHandler.setLevel(logging.INFO)\n",
    "logger.addHandler(consoleHandler)"
   ]
  },
  {
   "cell_type": "markdown",
   "id": "988add98-bded-40f3-beac-bf682fcd74bd",
   "metadata": {},
   "source": [
    "# Model"
   ]
  },
  {
   "cell_type": "code",
   "execution_count": 4,
   "id": "b116c32f-df99-45a0-b977-f28609d37f9e",
   "metadata": {},
   "outputs": [],
   "source": [
    "dbFilename=\"Wärmenetz-Planungsbeispiel\""
   ]
  },
  {
   "cell_type": "markdown",
   "id": "1b34591a-c2d1-486b-b853-ed38cd5c8323",
   "metadata": {},
   "source": [
    "# Read Model and Results"
   ]
  },
  {
   "cell_type": "code",
   "execution_count": 5,
   "id": "f8b5221c-0fd1-4fbc-abaf-81325ad2629d",
   "metadata": {},
   "outputs": [
    {
     "name": "stderr",
     "output_type": "stream",
     "text": [
      "INFO    ; Dx.__init__: dbFile (abspath): c:\\users\\jablonski\\3s\\pt3s\\Examples\\Wärmenetz-Planungsbeispiel.db3 exists readable ...\n",
      "INFO    ; Mx.setResultsToMxsFile: Mxs: ..\\Examples\\WDWärmenetz-Planungsbeispiel\\B1\\V0\\BZ1\\M-1-0-1.1.MXS reading ...\n",
      "INFO    ; dxWithMx.__init__: Wärmenetz-Planungsbeispiel: processing dx and mx ...\n"
     ]
    }
   ],
   "source": [
    "m=dxAndMxHelperFcts.readDxAndMx(dbFile=os.path.join(pt3s_path+'/Examples/'+dbFilename+'.db3')\n",
    "                                ,preventPklDump=True\n",
    "                               )"
   ]
  },
  {
   "cell_type": "markdown",
   "id": "3e7519ec-78a0-4fa2-bba1-c9d567039e83",
   "metadata": {},
   "source": [
    "# Interactive Map"
   ]
  },
  {
   "cell_type": "code",
   "execution_count": 6,
   "id": "1d400188-f735-44e1-8850-915d29da9cb5",
   "metadata": {},
   "outputs": [],
   "source": [
    "gdf_ROHR = m.gdf_ROHR.dropna(subset='geometry')\n",
    "gdf_FWVB = m.gdf_FWVB.dropna(subset='geometry')"
   ]
  },
  {
   "cell_type": "code",
   "execution_count": 13,
   "id": "06e63043-77b8-4512-9a7b-6a35c8ca936b",
   "metadata": {
    "scrolled": true
   },
   "outputs": [
    {
     "ename": "SyntaxError",
     "evalue": "closing parenthesis ')' does not match opening parenthesis '{' on line 4 (4164123996.py, line 5)",
     "output_type": "error",
     "traceback": [
      "\u001b[1;36m  Cell \u001b[1;32mIn[13], line 5\u001b[1;36m\u001b[0m\n\u001b[1;33m    )\u001b[0m\n\u001b[1;37m    ^\u001b[0m\n\u001b[1;31mSyntaxError\u001b[0m\u001b[1;31m:\u001b[0m closing parenthesis ')' does not match opening parenthesis '{' on line 4\n"
     ]
    }
   ],
   "source": [
    "ma=gdf_ROHR[gdf_ROHR['KVR'].isin([1.,None])].loc[:,['geometry', 'QMAVAbs']].explore(color = 'grey')\n",
    "gdf_FWVB.loc[:,['geometry','W']].explore(color='red'\n",
    "                                         ,m=ma\n",
    "                                         ,style_kwds={\"style_function\":lambda x: {\"radius\":min(max(x[\"properties\"][\"MIS_BEHAEL\"]*facRadius,minRadius),maxRadius)}}\n",
    "                                        )\n"
   ]
  },
  {
   "cell_type": "code",
   "execution_count": null,
   "id": "3524b125-3b41-4683-83be-00eaf52e8052",
   "metadata": {},
   "outputs": [],
   "source": [
    "gdf_ROHR[gdf_ROHR['KVR'].isin([1.,None])]"
   ]
  },
  {
   "cell_type": "code",
   "execution_count": null,
   "id": "0366759d-9711-41e6-b613-1dfdb3af914f",
   "metadata": {},
   "outputs": [],
   "source": []
  }
 ],
 "metadata": {
  "kernelspec": {
   "display_name": "Python 3 (ipykernel)",
   "language": "python",
   "name": "python3"
  },
  "language_info": {
   "codemirror_mode": {
    "name": "ipython",
    "version": 3
   },
   "file_extension": ".py",
   "mimetype": "text/x-python",
   "name": "python",
   "nbconvert_exporter": "python",
   "pygments_lexer": "ipython3",
   "version": "3.11.8"
  }
 },
 "nbformat": 4,
 "nbformat_minor": 5
}
