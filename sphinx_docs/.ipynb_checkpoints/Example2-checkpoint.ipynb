{
 "cells": [
  {
   "cell_type": "markdown",
   "id": "389a026d-aa54-4997-935a-ae16c17d5d83",
   "metadata": {},
   "source": [
    "# Imports"
   ]
  },
  {
   "cell_type": "code",
   "execution_count": 1,
   "id": "aaeb7c69-8897-4eb1-a73d-f59b6bca292c",
   "metadata": {},
   "outputs": [],
   "source": [
    "import os\n",
    "import logging\n",
    "\n",
    "try:\n",
    "    from PT3S import dxAndMxHelperFcts\n",
    "except:\n",
    "    import dxAndMxHelperFcts"
   ]
  },
  {
   "cell_type": "code",
   "execution_count": 2,
   "id": "9141a9ae-1f55-4b93-ba3a-88538c528993",
   "metadata": {},
   "outputs": [],
   "source": [
    "pt3s_path = os.path.dirname(os.path.abspath(dxAndMxHelperFcts.__file__))"
   ]
  },
  {
   "cell_type": "markdown",
   "id": "60bebf2d-2d17-4a3f-b43f-4fba703ba5f5",
   "metadata": {},
   "source": [
    "# Logging"
   ]
  },
  {
   "cell_type": "code",
   "execution_count": 3,
   "id": "e7c25b49-5bfd-4c7b-aa68-a61b81e1f771",
   "metadata": {},
   "outputs": [],
   "source": [
    "logger = logging.getLogger()  \n",
    "\n",
    "logFileName= r\"Example2.log\" \n",
    "\n",
    "loglevel = logging.DEBUG\n",
    "logging.basicConfig(filename=logFileName\n",
    "                        ,filemode='w'\n",
    "                        ,level=loglevel\n",
    "                        ,format=\"%(asctime)s ; %(name)-60s ; %(levelname)-7s ; %(message)s\")    \n",
    "\n",
    "fileHandler = logging.FileHandler(logFileName)     \n",
    "\n",
    "logger.addHandler(fileHandler)\n",
    "\n",
    "consoleHandler = logging.StreamHandler()\n",
    "consoleHandler.setFormatter(logging.Formatter(\"%(levelname)-7s ; %(message)s\"))\n",
    "consoleHandler.setLevel(logging.INFO)\n",
    "logger.addHandler(consoleHandler)"
   ]
  },
  {
   "cell_type": "markdown",
   "id": "1fc45144-c300-430e-a615-9ee7a8fa2f44",
   "metadata": {},
   "source": [
    "# Model"
   ]
  },
  {
   "cell_type": "code",
   "execution_count": 4,
   "id": "9b65d26e-dc5f-4776-b88e-a573608c58c6",
   "metadata": {},
   "outputs": [],
   "source": [
    "dbFilename=\"Wärmenetz-Planungsbeispiel\""
   ]
  },
  {
   "cell_type": "markdown",
   "id": "6ca9c35f-a446-43f1-b45a-9d36c28fc2f9",
   "metadata": {},
   "source": [
    "# Read Model and Results"
   ]
  },
  {
   "cell_type": "code",
   "execution_count": 5,
   "id": "b7cebbe5-0abe-4c65-8d13-35291d8f357f",
   "metadata": {},
   "outputs": [
    {
     "name": "stderr",
     "output_type": "stream",
     "text": [
      "INFO    ; Dx.__init__: dbFile (abspath): c:\\users\\jablonski\\3s\\pt3s\\Examples\\Wärmenetz-Planungsbeispiel.db3 exists readable ...\n",
      "INFO    ; Mx.setResultsToMxsFile: Mxs: ..\\Examples\\WDWärmenetz-Planungsbeispiel\\B1\\V0\\BZ1\\M-1-0-1.1.MXS reading ...\n",
      "INFO    ; dxWithMx.__init__: Wärmenetz-Planungsbeispiel: processing dx and mx ...\n"
     ]
    }
   ],
   "source": [
    "m=dxAndMxHelperFcts.readDxAndMx(dbFile=os.path.join(pt3s_path+'/Examples/'+dbFilename+'.db3')\n",
    "                                ,preventPklDump=True\n",
    "                               )"
   ]
  },
  {
   "cell_type": "code",
   "execution_count": 7,
   "id": "eff60743-6c65-4861-9a00-0c47d9f888cf",
   "metadata": {},
   "outputs": [],
   "source": [
    "dx=m.dx"
   ]
  },
  {
   "cell_type": "code",
   "execution_count": 8,
   "id": "7191f8e0-476f-408d-beb6-a1e61181ea8a",
   "metadata": {},
   "outputs": [],
   "source": [
    "dfSPLZ=dx.dataFrames['SPLZ'].iloc[0:3, :]"
   ]
  },
  {
   "cell_type": "code",
   "execution_count": 9,
   "id": "f45416b2-100a-4e19-8e29-ec72ebae3e0d",
   "metadata": {},
   "outputs": [],
   "source": [
    "layout = str(dfSPLZ.loc[1, 'LAYOUT_XML'], 'iso-8859-1')"
   ]
  },
  {
   "cell_type": "code",
   "execution_count": 10,
   "id": "8ff5f1f7-459e-411f-ab81-8d933ad5d12b",
   "metadata": {},
   "outputs": [
    {
     "data": {
      "text/plain": [
       "'<Layout>\\r\\n  <DIAGRAM>\\r\\n    <PK_DB>4718861549405273673</PK_DB>\\r\\n    <RK_DB>4718861549405273673</RK_DB>\\r\\n    <TITLE>MW</TITLE>\\r\\n  </DIAGRAM>\\r\\n  <Y_AXIS>\\r\\n    <FK_DIAGRAM>4718861549405273673</FK_DIAGRAM>\\r\\n    <USE_DEF_SETTINGS>0</USE_DEF_SETTINGS>\\r\\n    <YMIN>0</YMIN>\\r\\n    <YMAX>25</YMAX>\\r\\n    <INTERVALS>20</INTERVALS>\\r\\n    <PRECISION>2</PRECISION>\\r\\n    <LABEL>MW</LABEL>\\r\\n  </Y_AXIS>\\r\\n  <LINE>\\r\\n    <FK_DIAGRAM>4718861549405273673</FK_DIAGRAM>\\r\\n    <LINE_TYPE>1</LINE_TYPE>\\r\\n    <LABEL>Last MW</LABEL>\\r\\n    <DATAPOINT>5264590091044306787</DATAPOINT>\\r\\n    <LINE_COLOR>128</LINE_COLOR>\\r\\n    <CONST_NIVEAU_VALUE>0</CONST_NIVEAU_VALUE>\\r\\n    <LINE_STYLE>2</LINE_STYLE>\\r\\n    <DYNAMIC>0</DYNAMIC>\\r\\n    <LINE_WIDTH>0,4</LINE_WIDTH>\\r\\n    <FACTOR>1</FACTOR>\\r\\n    <ADDEND>0</ADDEND>\\r\\n    <STEPLINE>1</STEPLINE>\\r\\n  </LINE>\\r\\n  <LINE>\\r\\n    <FK_DIAGRAM>4718861549405273673</FK_DIAGRAM>\\r\\n    <LINE_TYPE>1</LINE_TYPE>\\r\\n    <LABEL>Erzeugung MW</LABEL>\\r\\n    <DATAPOINT>5406900845843913244</DATAPOINT>\\r\\n    <LINE_COLOR>33023</LINE_COLOR>\\r\\n    <CONST_NIVEAU_VALUE>0</CONST_NIVEAU_VALUE>\\r\\n    <LINE_STYLE>5</LINE_STYLE>\\r\\n    <DYNAMIC>0</DYNAMIC>\\r\\n    <LINE_WIDTH>1,2</LINE_WIDTH>\\r\\n    <FACTOR>1</FACTOR>\\r\\n    <ADDEND>0</ADDEND>\\r\\n    <STEPLINE>1</STEPLINE>\\r\\n  </LINE>\\r\\n  <LINE>\\r\\n    <FK_DIAGRAM>4718861549405273673</FK_DIAGRAM>\\r\\n    <LINE_TYPE>1</LINE_TYPE>\\r\\n    <LABEL>Last MW</LABEL>\\r\\n    <DATAPOINT>5285435993968256312</DATAPOINT>\\r\\n    <LINE_COLOR>8388863</LINE_COLOR>\\r\\n    <CONST_NIVEAU_VALUE>0</CONST_NIVEAU_VALUE>\\r\\n    <LINE_STYLE>1</LINE_STYLE>\\r\\n    <DYNAMIC>0</DYNAMIC>\\r\\n    <LINE_WIDTH>0,4</LINE_WIDTH>\\r\\n    <FACTOR>1</FACTOR>\\r\\n    <ADDEND>0</ADDEND>\\r\\n    <STEPLINE>1</STEPLINE>\\r\\n  </LINE>\\r\\n  <LINE>\\r\\n    <FK_DIAGRAM>4718861549405273673</FK_DIAGRAM>\\r\\n    <LINE_TYPE>1</LINE_TYPE>\\r\\n    <LABEL>Wärmeverluste MW</LABEL>\\r\\n    <DATAPOINT>4641129577739806961</DATAPOINT>\\r\\n    <LINE_COLOR>16711935</LINE_COLOR>\\r\\n    <CONST_NIVEAU_VALUE>0</CONST_NIVEAU_VALUE>\\r\\n    <LINE_STYLE>4</LINE_STYLE>\\r\\n    <DYNAMIC>0</DYNAMIC>\\r\\n    <LINE_WIDTH>0,4</LINE_WIDTH>\\r\\n    <FACTOR>1</FACTOR>\\r\\n    <ADDEND>0</ADDEND>\\r\\n    <STEPLINE>1</STEPLINE>\\r\\n  </LINE>\\r\\n  <LINE>\\r\\n    <FK_DIAGRAM>4718861549405273673</FK_DIAGRAM>\\r\\n    <LINE_TYPE>1</LINE_TYPE>\\r\\n    <LABEL>Wärmeverluste in % Erzeugung</LABEL>\\r\\n    <DATAPOINT>5239162294104102253</DATAPOINT>\\r\\n    <LINE_COLOR>16711935</LINE_COLOR>\\r\\n    <CONST_NIVEAU_VALUE>0</CONST_NIVEAU_VALUE>\\r\\n    <LINE_STYLE>3</LINE_STYLE>\\r\\n    <DYNAMIC>0</DYNAMIC>\\r\\n    <LINE_WIDTH>0,4</LINE_WIDTH>\\r\\n    <FACTOR>100</FACTOR>\\r\\n    <ADDEND>0</ADDEND>\\r\\n    <STEPLINE>1</STEPLINE>\\r\\n  </LINE>\\r\\n</Layout>'"
      ]
     },
     "execution_count": 10,
     "metadata": {},
     "output_type": "execute_result"
    }
   ],
   "source": [
    "layout "
   ]
  },
  {
   "cell_type": "code",
   "execution_count": 11,
   "id": "35fe31fd-0eb7-4c35-86fb-d10113b30fcf",
   "metadata": {},
   "outputs": [
    {
     "data": {
      "text/html": [
       "<div>\n",
       "<style scoped>\n",
       "    .dataframe tbody tr th:only-of-type {\n",
       "        vertical-align: middle;\n",
       "    }\n",
       "\n",
       "    .dataframe tbody tr th {\n",
       "        vertical-align: top;\n",
       "    }\n",
       "\n",
       "    .dataframe thead th {\n",
       "        text-align: right;\n",
       "    }\n",
       "</style>\n",
       "<table border=\"1\" class=\"dataframe\">\n",
       "  <thead>\n",
       "    <tr style=\"text-align: right;\">\n",
       "      <th></th>\n",
       "      <th>pk</th>\n",
       "      <th>fkDE</th>\n",
       "      <th>rk</th>\n",
       "      <th>NAME</th>\n",
       "      <th>LFDNR</th>\n",
       "      <th>AKTIV</th>\n",
       "      <th>CP01</th>\n",
       "      <th>CP02</th>\n",
       "      <th>CP05</th>\n",
       "      <th>CP12</th>\n",
       "      <th>CP13</th>\n",
       "      <th>CP21</th>\n",
       "      <th>CP24</th>\n",
       "      <th>CP25</th>\n",
       "      <th>CP26</th>\n",
       "      <th>LAYOUT_XML</th>\n",
       "      <th>DELETED</th>\n",
       "      <th>SELECT1</th>\n",
       "    </tr>\n",
       "  </thead>\n",
       "  <tbody>\n",
       "    <tr>\n",
       "      <th>0</th>\n",
       "      <td>-1</td>\n",
       "      <td>None</td>\n",
       "      <td>None</td>\n",
       "      <td>None</td>\n",
       "      <td>NaN</td>\n",
       "      <td>NaN</td>\n",
       "      <td>None</td>\n",
       "      <td>None</td>\n",
       "      <td>None</td>\n",
       "      <td>None</td>\n",
       "      <td>None</td>\n",
       "      <td>None</td>\n",
       "      <td>None</td>\n",
       "      <td>None</td>\n",
       "      <td>None</td>\n",
       "      <td>None</td>\n",
       "      <td>None</td>\n",
       "      <td>None</td>\n",
       "    </tr>\n",
       "    <tr>\n",
       "      <th>1</th>\n",
       "      <td>4718861549405273673</td>\n",
       "      <td>5306805303452857793</td>\n",
       "      <td>4718861549405273673</td>\n",
       "      <td>MW</td>\n",
       "      <td>2.0</td>\n",
       "      <td>101.0</td>\n",
       "      <td>None</td>\n",
       "      <td>None</td>\n",
       "      <td>None</td>\n",
       "      <td>None</td>\n",
       "      <td>None</td>\n",
       "      <td>None</td>\n",
       "      <td>None</td>\n",
       "      <td>None</td>\n",
       "      <td>None</td>\n",
       "      <td>b'&lt;Layout&gt;\\r\\n  &lt;DIAGRAM&gt;\\r\\n    &lt;PK_DB&gt;4718861549405273673&lt;/PK_DB&gt;\\r\\n    &lt;RK_DB&gt;4718861549405273673&lt;/RK_DB&gt;\\r\\n    &lt;TITLE&gt;MW&lt;/TITLE&gt;\\r\\n  &lt;/DIAGRAM&gt;\\r\\n  &lt;Y_AXIS&gt;\\r\\n    &lt;FK_DIAGRAM&gt;4718861549405273673&lt;/FK_DIAGRAM&gt;\\r\\n    &lt;USE_DEF_SETTINGS&gt;0&lt;/USE_DEF_SETTINGS&gt;\\r\\n    &lt;YMIN&gt;0&lt;/YMIN&gt;\\r\\n    &lt;YMAX&gt;25&lt;/YMAX&gt;\\r\\n    &lt;INTERVALS&gt;20&lt;/INTERVALS&gt;\\r\\n    &lt;PRECISION&gt;2&lt;/PRECISION&gt;\\r\\n    &lt;LABEL&gt;MW&lt;/LABEL&gt;\\r\\n  &lt;/Y_AXIS&gt;\\r\\n  &lt;LINE&gt;\\r\\n    &lt;FK_DIAGRAM&gt;4718861549405273673&lt;/FK_DIAGRAM&gt;\\r\\n    &lt;LINE_TYPE&gt;1&lt;/LINE_TYPE&gt;\\r\\n    &lt;LABEL&gt;Last MW&lt;/LABEL&gt;\\r\\n    &lt;DATAPOINT&gt;5264590091044306787&lt;/DATAPOINT&gt;\\r\\n    &lt;LINE_COLOR&gt;128&lt;/LINE_COLOR&gt;\\r\\n    &lt;CONST_NIVEAU_VALUE&gt;0&lt;/CONST_NIVEAU_VALUE&gt;\\r\\n    &lt;LINE_STYLE&gt;2&lt;/LINE_STYLE&gt;\\r\\n    &lt;DYNAMIC&gt;0&lt;/DYNAMIC&gt;\\r\\n    &lt;LINE_WIDTH&gt;0,4&lt;/LINE_WIDTH&gt;\\r\\n    &lt;FACTOR&gt;1&lt;/FACTOR&gt;\\r\\n    &lt;ADDEND&gt;0&lt;/ADDEND&gt;\\r\\n    &lt;STEPLINE&gt;1&lt;/STEPLINE&gt;\\r\\n  &lt;/LINE&gt;\\r\\n  &lt;LINE&gt;\\r\\n    &lt;FK_DIAGRAM&gt;4718861549405273673&lt;/FK_DIAGRAM&gt;\\r\\n    &lt;LINE_TYPE&gt;1&lt;/LINE_TYPE&gt;\\r\\n    &lt;LABEL&gt;Erzeugung MW&lt;/LABEL&gt;\\r\\n    &lt;DATAPOINT&gt;5406900845843913244&lt;/DATAPOINT&gt;\\r\\n    &lt;LINE_COLOR&gt;33023&lt;/LINE_COLOR&gt;\\r\\n    &lt;CONST_NIVEAU_VALUE&gt;0&lt;/CONST_NIVEAU_VALUE&gt;\\r\\n    &lt;LINE_STYLE&gt;5&lt;/LINE_STYLE&gt;\\r\\n    &lt;DYNAMIC&gt;0&lt;/DYNAMIC&gt;\\r\\n    &lt;LINE_WIDTH&gt;1,2&lt;/LINE_WIDTH&gt;\\r\\n    &lt;FACTOR&gt;1&lt;/FACTOR&gt;\\r\\n    &lt;ADDEND&gt;0&lt;/ADDEND&gt;\\r\\n    &lt;STEPLINE&gt;1&lt;/STEPLINE&gt;\\r\\n  &lt;/LINE&gt;\\r\\n  &lt;LINE&gt;\\r\\n    &lt;FK_DIAGRAM&gt;4718861549405273673&lt;/FK_DIAGRAM&gt;\\r\\n    &lt;LINE_TYPE&gt;1&lt;/LINE_TYPE&gt;\\r\\n    &lt;LABEL&gt;Last MW&lt;/LABEL&gt;\\r\\n    &lt;DATAPOINT&gt;5285435993968256312&lt;/DATAPOINT&gt;\\r\\n    &lt;LINE_COLOR&gt;8388863&lt;/LINE_COLOR&gt;\\r\\n    &lt;CONST_NIVEAU_VALUE&gt;0&lt;/CONST_NIVEAU_VALUE&gt;\\r\\n    &lt;LINE_STYLE&gt;1&lt;/LINE_STYLE&gt;\\r\\n    &lt;DYNAMIC&gt;0&lt;/DYNAMIC&gt;\\r\\n    &lt;LINE_WIDTH&gt;0,4&lt;/LINE_WIDTH&gt;\\r\\n    &lt;FACTOR&gt;1&lt;/FACTOR&gt;\\r\\n    &lt;ADDEND&gt;0&lt;/ADDEND&gt;\\r\\n    &lt;STEPLINE&gt;1&lt;/STEPLINE&gt;\\r\\n  &lt;/LINE&gt;\\r\\n  &lt;LINE&gt;\\r\\n    &lt;FK_DIAGRAM&gt;4718861549405273673&lt;/FK_DIAGRAM&gt;\\r\\n    &lt;LINE_TYPE&gt;1&lt;/LINE_TYPE&gt;\\r\\n    &lt;LABEL&gt;W\\xe4rmeverluste MW&lt;/LABEL&gt;\\r\\n    &lt;DATAPOINT&gt;4641129577739806961&lt;/DATAPOINT&gt;\\r\\n    &lt;LINE_COLOR&gt;16711935&lt;/LINE_COLOR&gt;\\r\\n    &lt;CONST_NIVEAU_VALUE&gt;0&lt;/CONST_NIVEAU_VALUE&gt;\\r\\n    &lt;LINE_STYLE&gt;4&lt;/LINE_STYLE&gt;\\r\\n    &lt;DYNAMIC&gt;0&lt;/DYNAMIC&gt;\\r\\n    &lt;LINE_WIDTH&gt;0,4&lt;/LINE_WIDTH&gt;\\r\\n    &lt;FACTOR&gt;1&lt;/FACTOR&gt;\\r\\n    &lt;ADDEND&gt;0&lt;/ADDEND&gt;\\r\\n    &lt;STEPLINE&gt;1&lt;/STEPLINE&gt;\\r\\n  &lt;/LINE&gt;\\r\\n  &lt;LINE&gt;\\r\\n    &lt;FK_DIAGRAM&gt;4718861549405273673&lt;/FK_DIAGRAM&gt;\\r\\n    &lt;LINE_TYPE&gt;1&lt;/LINE_TYPE&gt;\\r\\n    &lt;LABEL&gt;W\\xe4rmeverluste in % Erzeugung&lt;/LABEL&gt;\\r\\n    &lt;DATAPOINT&gt;5239162294104102253&lt;/DATAPOINT&gt;\\r\\n    &lt;LINE_COLOR&gt;16711935&lt;/LINE_COLOR&gt;\\r\\n    &lt;CONST_NIVEAU_VALUE&gt;0&lt;/CONST_NIVEAU_VALUE&gt;\\r\\n    &lt;LINE_STYLE&gt;3&lt;/LINE_STYLE&gt;\\r\\n    &lt;DYNAMIC&gt;0&lt;/DYNAMIC&gt;\\r\\n    &lt;LINE_WIDTH&gt;0,4&lt;/LINE_WIDTH&gt;\\r\\n    &lt;FACTOR&gt;100&lt;/FACTOR&gt;\\r\\n    &lt;ADDEND&gt;0&lt;/ADDEND&gt;\\r\\n    &lt;STEPLINE&gt;1&lt;/STEPLINE&gt;\\r\\n  &lt;/LINE&gt;\\r\\n&lt;/Layout&gt;'</td>\n",
       "      <td>None</td>\n",
       "      <td>None</td>\n",
       "    </tr>\n",
       "    <tr>\n",
       "      <th>2</th>\n",
       "      <td>4660424275847929620</td>\n",
       "      <td>5306805303452857793</td>\n",
       "      <td>4660424275847929620</td>\n",
       "      <td>Umwälzmenge</td>\n",
       "      <td>3.0</td>\n",
       "      <td>101.0</td>\n",
       "      <td>None</td>\n",
       "      <td>None</td>\n",
       "      <td>None</td>\n",
       "      <td>None</td>\n",
       "      <td>None</td>\n",
       "      <td>None</td>\n",
       "      <td>None</td>\n",
       "      <td>None</td>\n",
       "      <td>None</td>\n",
       "      <td>b'&lt;Layout&gt;\\r\\n  &lt;DIAGRAM&gt;\\r\\n    &lt;PK_DB&gt;4660424275847929620&lt;/PK_DB&gt;\\r\\n    &lt;RK_DB&gt;4660424275847929620&lt;/RK_DB&gt;\\r\\n    &lt;TITLE&gt;Umw\\xe4lzmenge&lt;/TITLE&gt;\\r\\n  &lt;/DIAGRAM&gt;\\r\\n  &lt;Y_AXIS&gt;\\r\\n    &lt;FK_DIAGRAM&gt;4660424275847929620&lt;/FK_DIAGRAM&gt;\\r\\n    &lt;USE_DEF_SETTINGS&gt;0&lt;/USE_DEF_SETTINGS&gt;\\r\\n    &lt;YMIN&gt;0&lt;/YMIN&gt;\\r\\n    &lt;YMAX&gt;600&lt;/YMAX&gt;\\r\\n    &lt;INTERVALS&gt;20&lt;/INTERVALS&gt;\\r\\n    &lt;PRECISION&gt;2&lt;/PRECISION&gt;\\r\\n    &lt;LABEL&gt;Umw\\xe4lzmenge&lt;/LABEL&gt;\\r\\n  &lt;/Y_AXIS&gt;\\r\\n  &lt;LINE&gt;\\r\\n    &lt;FK_DIAGRAM&gt;4660424275847929620&lt;/FK_DIAGRAM&gt;\\r\\n    &lt;LINE_TYPE&gt;1&lt;/LINE_TYPE&gt;\\r\\n    &lt;LABEL&gt;Umw\\xe4lzmenge t/h&lt;/LABEL&gt;\\r\\n    &lt;DATAPOINT&gt;5473065616998409436&lt;/DATAPOINT&gt;\\r\\n    &lt;LINE_COLOR&gt;65280&lt;/LINE_COLOR&gt;\\r\\n    &lt;CONST_NIVEAU_VALUE&gt;0&lt;/CONST_NIVEAU_VALUE&gt;\\r\\n    &lt;LINE_STYLE&gt;5&lt;/LINE_STYLE&gt;\\r\\n    &lt;DYNAMIC&gt;0&lt;/DYNAMIC&gt;\\r\\n    &lt;LINE_WIDTH&gt;1,2&lt;/LINE_WIDTH&gt;\\r\\n    &lt;FACTOR&gt;1&lt;/FACTOR&gt;\\r\\n    &lt;ADDEND&gt;0&lt;/ADDEND&gt;\\r\\n    &lt;STEPLINE&gt;1&lt;/STEPLINE&gt;\\r\\n  &lt;/LINE&gt;\\r\\n  &lt;LINE&gt;\\r\\n    &lt;FK_DIAGRAM&gt;4660424275847929620&lt;/FK_DIAGRAM&gt;\\r\\n    &lt;LINE_TYPE&gt;1&lt;/LINE_TYPE&gt;\\r\\n    &lt;LABEL&gt;Erzeugung (Verlauf, qualitativ)&lt;/LABEL&gt;\\r\\n    &lt;DATAPOINT&gt;5406900845843913244&lt;/DATAPOINT&gt;\\r\\n    &lt;LINE_COLOR&gt;33023&lt;/LINE_COLOR&gt;\\r\\n    &lt;CONST_NIVEAU_VALUE&gt;0&lt;/CONST_NIVEAU_VALUE&gt;\\r\\n    &lt;LINE_STYLE&gt;1&lt;/LINE_STYLE&gt;\\r\\n    &lt;DYNAMIC&gt;0&lt;/DYNAMIC&gt;\\r\\n    &lt;LINE_WIDTH&gt;0,4&lt;/LINE_WIDTH&gt;\\r\\n    &lt;FACTOR&gt;20&lt;/FACTOR&gt;\\r\\n    &lt;ADDEND&gt;0&lt;/ADDEND&gt;\\r\\n    &lt;STEPLINE&gt;1&lt;/STEPLINE&gt;\\r\\n  &lt;/LINE&gt;\\r\\n  &lt;LINE&gt;\\r\\n    &lt;FK_DIAGRAM&gt;4660424275847929620&lt;/FK_DIAGRAM&gt;\\r\\n    &lt;LINE_TYPE&gt;1&lt;/LINE_TYPE&gt;\\r\\n    &lt;LABEL&gt;T-VL (Verlauf, qualitativ)&lt;/LABEL&gt;\\r\\n    &lt;DATAPOINT&gt;5063697676773096103&lt;/DATAPOINT&gt;\\r\\n    &lt;LINE_COLOR&gt;255&lt;/LINE_COLOR&gt;\\r\\n    &lt;CONST_NIVEAU_VALUE&gt;0&lt;/CONST_NIVEAU_VALUE&gt;\\r\\n    &lt;LINE_STYLE&gt;1&lt;/LINE_STYLE&gt;\\r\\n    &lt;DYNAMIC&gt;0&lt;/DYNAMIC&gt;\\r\\n    &lt;LINE_WIDTH&gt;0,4&lt;/LINE_WIDTH&gt;\\r\\n    &lt;FACTOR&gt;5&lt;/FACTOR&gt;\\r\\n    &lt;ADDEND&gt;0&lt;/ADDEND&gt;\\r\\n    &lt;STEPLINE&gt;0&lt;/STEPLINE&gt;\\r\\n  &lt;/LINE&gt;\\r\\n  &lt;LINE&gt;\\r\\n    &lt;FK_DIAGRAM&gt;4660424275847929620&lt;/FK_DIAGRAM&gt;\\r\\n    &lt;LINE_TYPE&gt;1&lt;/LINE_TYPE&gt;\\r\\n    &lt;LABEL&gt;T-RL (Verlauf, qualitativ)&lt;/LABEL&gt;\\r\\n    &lt;DATAPOINT&gt;4911896072497221876&lt;/DATAPOINT&gt;\\r\\n    &lt;LINE_COLOR&gt;16711680&lt;/LINE_COLOR&gt;\\r\\n    &lt;CONST_NIVEAU_VALUE&gt;0&lt;/CONST_NIVEAU_VALUE&gt;\\r\\n    &lt;LINE_STYLE&gt;1&lt;/LINE_STYLE&gt;\\r\\n    &lt;DYNAMIC&gt;0&lt;/DYNAMIC&gt;\\r\\n    &lt;LINE_WIDTH&gt;0,4&lt;/LINE_WIDTH&gt;\\r\\n    &lt;FACTOR&gt;5&lt;/FACTOR&gt;\\r\\n    &lt;ADDEND&gt;0&lt;/ADDEND&gt;\\r\\n    &lt;STEPLINE&gt;0&lt;/STEPLINE&gt;\\r\\n  &lt;/LINE&gt;\\r\\n&lt;/Layout&gt;'</td>\n",
       "      <td>None</td>\n",
       "      <td>None</td>\n",
       "    </tr>\n",
       "  </tbody>\n",
       "</table>\n",
       "</div>"
      ],
      "text/plain": [
       "                    pk                 fkDE                   rk         NAME  LFDNR  AKTIV  CP01  CP02  CP05  CP12  CP13  CP21  CP24  CP25  CP26                                                                                                                                                                                                                                                                                                                                                                                                                                                                                                                                                                                                                                                                                                                                                                                                                                                                                                                                                                                                                                                                                                                                                                                                                                                                                                                                                                                                                                                                                                                                                                                                                                                                                                                                                                                                                                                                                                                                                                                                                                                                                                                                                                                                                                                                                                                                                                                                                                                                                                                                                                                                                                                                                                                                                                                                                                                                LAYOUT_XML DELETED SELECT1\n",
       "0                   -1                 None                 None         None    NaN    NaN  None  None  None  None  None  None  None  None  None                                                                                                                                                                                                                                                                                                                                                                                                                                                                                                                                                                                                                                                                                                                                                                                                                                                                                                                                                                                                                                                                                                                                                                                                                                                                                                                                                                                                                                                                                                                                                                                                                                                                                                                                                                                                                                                                                                                                                                                                                                                                                                                                                                                                                                                                                                                                                                                                                                                                                                                                                                                                                                                                                                                                                                                                                                                                      None    None    None\n",
       "1  4718861549405273673  5306805303452857793  4718861549405273673           MW    2.0  101.0  None  None  None  None  None  None  None  None  None  b'<Layout>\\r\\n  <DIAGRAM>\\r\\n    <PK_DB>4718861549405273673</PK_DB>\\r\\n    <RK_DB>4718861549405273673</RK_DB>\\r\\n    <TITLE>MW</TITLE>\\r\\n  </DIAGRAM>\\r\\n  <Y_AXIS>\\r\\n    <FK_DIAGRAM>4718861549405273673</FK_DIAGRAM>\\r\\n    <USE_DEF_SETTINGS>0</USE_DEF_SETTINGS>\\r\\n    <YMIN>0</YMIN>\\r\\n    <YMAX>25</YMAX>\\r\\n    <INTERVALS>20</INTERVALS>\\r\\n    <PRECISION>2</PRECISION>\\r\\n    <LABEL>MW</LABEL>\\r\\n  </Y_AXIS>\\r\\n  <LINE>\\r\\n    <FK_DIAGRAM>4718861549405273673</FK_DIAGRAM>\\r\\n    <LINE_TYPE>1</LINE_TYPE>\\r\\n    <LABEL>Last MW</LABEL>\\r\\n    <DATAPOINT>5264590091044306787</DATAPOINT>\\r\\n    <LINE_COLOR>128</LINE_COLOR>\\r\\n    <CONST_NIVEAU_VALUE>0</CONST_NIVEAU_VALUE>\\r\\n    <LINE_STYLE>2</LINE_STYLE>\\r\\n    <DYNAMIC>0</DYNAMIC>\\r\\n    <LINE_WIDTH>0,4</LINE_WIDTH>\\r\\n    <FACTOR>1</FACTOR>\\r\\n    <ADDEND>0</ADDEND>\\r\\n    <STEPLINE>1</STEPLINE>\\r\\n  </LINE>\\r\\n  <LINE>\\r\\n    <FK_DIAGRAM>4718861549405273673</FK_DIAGRAM>\\r\\n    <LINE_TYPE>1</LINE_TYPE>\\r\\n    <LABEL>Erzeugung MW</LABEL>\\r\\n    <DATAPOINT>5406900845843913244</DATAPOINT>\\r\\n    <LINE_COLOR>33023</LINE_COLOR>\\r\\n    <CONST_NIVEAU_VALUE>0</CONST_NIVEAU_VALUE>\\r\\n    <LINE_STYLE>5</LINE_STYLE>\\r\\n    <DYNAMIC>0</DYNAMIC>\\r\\n    <LINE_WIDTH>1,2</LINE_WIDTH>\\r\\n    <FACTOR>1</FACTOR>\\r\\n    <ADDEND>0</ADDEND>\\r\\n    <STEPLINE>1</STEPLINE>\\r\\n  </LINE>\\r\\n  <LINE>\\r\\n    <FK_DIAGRAM>4718861549405273673</FK_DIAGRAM>\\r\\n    <LINE_TYPE>1</LINE_TYPE>\\r\\n    <LABEL>Last MW</LABEL>\\r\\n    <DATAPOINT>5285435993968256312</DATAPOINT>\\r\\n    <LINE_COLOR>8388863</LINE_COLOR>\\r\\n    <CONST_NIVEAU_VALUE>0</CONST_NIVEAU_VALUE>\\r\\n    <LINE_STYLE>1</LINE_STYLE>\\r\\n    <DYNAMIC>0</DYNAMIC>\\r\\n    <LINE_WIDTH>0,4</LINE_WIDTH>\\r\\n    <FACTOR>1</FACTOR>\\r\\n    <ADDEND>0</ADDEND>\\r\\n    <STEPLINE>1</STEPLINE>\\r\\n  </LINE>\\r\\n  <LINE>\\r\\n    <FK_DIAGRAM>4718861549405273673</FK_DIAGRAM>\\r\\n    <LINE_TYPE>1</LINE_TYPE>\\r\\n    <LABEL>W\\xe4rmeverluste MW</LABEL>\\r\\n    <DATAPOINT>4641129577739806961</DATAPOINT>\\r\\n    <LINE_COLOR>16711935</LINE_COLOR>\\r\\n    <CONST_NIVEAU_VALUE>0</CONST_NIVEAU_VALUE>\\r\\n    <LINE_STYLE>4</LINE_STYLE>\\r\\n    <DYNAMIC>0</DYNAMIC>\\r\\n    <LINE_WIDTH>0,4</LINE_WIDTH>\\r\\n    <FACTOR>1</FACTOR>\\r\\n    <ADDEND>0</ADDEND>\\r\\n    <STEPLINE>1</STEPLINE>\\r\\n  </LINE>\\r\\n  <LINE>\\r\\n    <FK_DIAGRAM>4718861549405273673</FK_DIAGRAM>\\r\\n    <LINE_TYPE>1</LINE_TYPE>\\r\\n    <LABEL>W\\xe4rmeverluste in % Erzeugung</LABEL>\\r\\n    <DATAPOINT>5239162294104102253</DATAPOINT>\\r\\n    <LINE_COLOR>16711935</LINE_COLOR>\\r\\n    <CONST_NIVEAU_VALUE>0</CONST_NIVEAU_VALUE>\\r\\n    <LINE_STYLE>3</LINE_STYLE>\\r\\n    <DYNAMIC>0</DYNAMIC>\\r\\n    <LINE_WIDTH>0,4</LINE_WIDTH>\\r\\n    <FACTOR>100</FACTOR>\\r\\n    <ADDEND>0</ADDEND>\\r\\n    <STEPLINE>1</STEPLINE>\\r\\n  </LINE>\\r\\n</Layout>'    None    None\n",
       "2  4660424275847929620  5306805303452857793  4660424275847929620  Umwälzmenge    3.0  101.0  None  None  None  None  None  None  None  None  None                                                                                                                                                                                                                                                                                                                                                                                                                        b'<Layout>\\r\\n  <DIAGRAM>\\r\\n    <PK_DB>4660424275847929620</PK_DB>\\r\\n    <RK_DB>4660424275847929620</RK_DB>\\r\\n    <TITLE>Umw\\xe4lzmenge</TITLE>\\r\\n  </DIAGRAM>\\r\\n  <Y_AXIS>\\r\\n    <FK_DIAGRAM>4660424275847929620</FK_DIAGRAM>\\r\\n    <USE_DEF_SETTINGS>0</USE_DEF_SETTINGS>\\r\\n    <YMIN>0</YMIN>\\r\\n    <YMAX>600</YMAX>\\r\\n    <INTERVALS>20</INTERVALS>\\r\\n    <PRECISION>2</PRECISION>\\r\\n    <LABEL>Umw\\xe4lzmenge</LABEL>\\r\\n  </Y_AXIS>\\r\\n  <LINE>\\r\\n    <FK_DIAGRAM>4660424275847929620</FK_DIAGRAM>\\r\\n    <LINE_TYPE>1</LINE_TYPE>\\r\\n    <LABEL>Umw\\xe4lzmenge t/h</LABEL>\\r\\n    <DATAPOINT>5473065616998409436</DATAPOINT>\\r\\n    <LINE_COLOR>65280</LINE_COLOR>\\r\\n    <CONST_NIVEAU_VALUE>0</CONST_NIVEAU_VALUE>\\r\\n    <LINE_STYLE>5</LINE_STYLE>\\r\\n    <DYNAMIC>0</DYNAMIC>\\r\\n    <LINE_WIDTH>1,2</LINE_WIDTH>\\r\\n    <FACTOR>1</FACTOR>\\r\\n    <ADDEND>0</ADDEND>\\r\\n    <STEPLINE>1</STEPLINE>\\r\\n  </LINE>\\r\\n  <LINE>\\r\\n    <FK_DIAGRAM>4660424275847929620</FK_DIAGRAM>\\r\\n    <LINE_TYPE>1</LINE_TYPE>\\r\\n    <LABEL>Erzeugung (Verlauf, qualitativ)</LABEL>\\r\\n    <DATAPOINT>5406900845843913244</DATAPOINT>\\r\\n    <LINE_COLOR>33023</LINE_COLOR>\\r\\n    <CONST_NIVEAU_VALUE>0</CONST_NIVEAU_VALUE>\\r\\n    <LINE_STYLE>1</LINE_STYLE>\\r\\n    <DYNAMIC>0</DYNAMIC>\\r\\n    <LINE_WIDTH>0,4</LINE_WIDTH>\\r\\n    <FACTOR>20</FACTOR>\\r\\n    <ADDEND>0</ADDEND>\\r\\n    <STEPLINE>1</STEPLINE>\\r\\n  </LINE>\\r\\n  <LINE>\\r\\n    <FK_DIAGRAM>4660424275847929620</FK_DIAGRAM>\\r\\n    <LINE_TYPE>1</LINE_TYPE>\\r\\n    <LABEL>T-VL (Verlauf, qualitativ)</LABEL>\\r\\n    <DATAPOINT>5063697676773096103</DATAPOINT>\\r\\n    <LINE_COLOR>255</LINE_COLOR>\\r\\n    <CONST_NIVEAU_VALUE>0</CONST_NIVEAU_VALUE>\\r\\n    <LINE_STYLE>1</LINE_STYLE>\\r\\n    <DYNAMIC>0</DYNAMIC>\\r\\n    <LINE_WIDTH>0,4</LINE_WIDTH>\\r\\n    <FACTOR>5</FACTOR>\\r\\n    <ADDEND>0</ADDEND>\\r\\n    <STEPLINE>0</STEPLINE>\\r\\n  </LINE>\\r\\n  <LINE>\\r\\n    <FK_DIAGRAM>4660424275847929620</FK_DIAGRAM>\\r\\n    <LINE_TYPE>1</LINE_TYPE>\\r\\n    <LABEL>T-RL (Verlauf, qualitativ)</LABEL>\\r\\n    <DATAPOINT>4911896072497221876</DATAPOINT>\\r\\n    <LINE_COLOR>16711680</LINE_COLOR>\\r\\n    <CONST_NIVEAU_VALUE>0</CONST_NIVEAU_VALUE>\\r\\n    <LINE_STYLE>1</LINE_STYLE>\\r\\n    <DYNAMIC>0</DYNAMIC>\\r\\n    <LINE_WIDTH>0,4</LINE_WIDTH>\\r\\n    <FACTOR>5</FACTOR>\\r\\n    <ADDEND>0</ADDEND>\\r\\n    <STEPLINE>0</STEPLINE>\\r\\n  </LINE>\\r\\n</Layout>'    None    None"
      ]
     },
     "execution_count": 11,
     "metadata": {},
     "output_type": "execute_result"
    }
   ],
   "source": [
    "dfSPLZ"
   ]
  },
  {
   "cell_type": "code",
   "execution_count": 12,
   "id": "18e09a90-32b1-4ee5-a11d-a1fac013d37c",
   "metadata": {},
   "outputs": [],
   "source": [
    "dx=m.dx"
   ]
  },
  {
   "cell_type": "code",
   "execution_count": 13,
   "id": "5b0dc2e9-49e9-4f93-8e70-19d26ac77926",
   "metadata": {},
   "outputs": [],
   "source": [
    "dfMX_ALL=m.mx.df"
   ]
  }
 ],
 "metadata": {
  "kernelspec": {
   "display_name": "Python 3 (ipykernel)",
   "language": "python",
   "name": "python3"
  },
  "language_info": {
   "codemirror_mode": {
    "name": "ipython",
    "version": 3
   },
   "file_extension": ".py",
   "mimetype": "text/x-python",
   "name": "python",
   "nbconvert_exporter": "python",
   "pygments_lexer": "ipython3",
   "version": "3.11.8"
  }
 },
 "nbformat": 4,
 "nbformat_minor": 5
}
