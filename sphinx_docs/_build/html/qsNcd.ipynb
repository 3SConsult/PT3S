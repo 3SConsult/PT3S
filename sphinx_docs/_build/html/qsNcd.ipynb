{
 "cells": [
  {
   "cell_type": "code",
   "execution_count": 1,
   "id": "11b993d7-3e65-4338-844f-1c1d05cee0b4",
   "metadata": {},
   "outputs": [],
   "source": [
    "import os\n",
    "import geopandas\n",
    "import logging\n",
    "import pandas as pd\n",
    "import io\n",
    "import subprocess\n",
    "import matplotlib.pyplot as plt\n",
    "from PIL import Image\n",
    "\n",
    "import numpy as np\n",
    "import matplotlib.pyplot as plt\n",
    "import matplotlib.colors\n",
    "import matplotlib.patheffects as path_effects\n",
    "import folium\n",
    "from folium.plugins import HeatMap\n",
    "\n",
    "try:\n",
    "    from PT3S import dxAndMxHelperFcts\n",
    "except:\n",
    "    import dxAndMxHelperFcts\n",
    "try:\n",
    "    from PT3S import Rm\n",
    "except:\n",
    "    import Rm\n",
    "try:\n",
    "    from PT3S import ncd\n",
    "except:\n",
    "    import ncd"
   ]
  },
  {
   "cell_type": "code",
   "execution_count": 2,
   "id": "0d752755-f6ef-4380-90e7-e6d8cc773c8a",
   "metadata": {},
   "outputs": [],
   "source": [
    "import logging\n",
    "\n",
    "logger = logging.getLogger()\n",
    "\n",
    "logFileName = r\"pNcd_DH.log\"\n",
    "\n",
    "loglevel = logging.DEBUG\n",
    "logging.basicConfig(\n",
    "    filename=logFileName,\n",
    "    filemode='w',\n",
    "    level=loglevel,\n",
    "    format=\"%(asctime)s ; %(name)-60s ; %(levelname)-7s ; %(message)s ; [%(filename)s:%(lineno)d - %(funcName)s]\"\n",
    ")\n",
    "\n",
    "fileHandler = logging.FileHandler(logFileName)\n",
    "logger.addHandler(fileHandler)\n",
    "\n",
    "consoleHandler = logging.StreamHandler()\n",
    "consoleHandler.setFormatter(logging.Formatter(\"%(levelname)-7s ; %(message)s ; [%(filename)s:%(lineno)d - %(funcName)s]\"))\n",
    "consoleHandler.setLevel(logging.INFO)\n",
    "logger.addHandler(consoleHandler)\n"
   ]
  },
  {
   "cell_type": "code",
   "execution_count": 23,
   "id": "9155380b-9663-499d-9747-9e3f29ec68d0",
   "metadata": {},
   "outputs": [],
   "source": [
    "dbFilename=\"Example5\"\n",
    "dbFile=os.path.join(os.path.dirname(os.path.abspath(dxAndMxHelperFcts.__file__))\n",
    "                    +'/Examples/'\n",
    "                    +dbFilename\n",
    "                    +'.db3'\n",
    ")"
   ]
  },
  {
   "cell_type": "code",
   "execution_count": 24,
   "id": "7ad26e74-2363-4a65-87a2-e7f7d56aa46a",
   "metadata": {},
   "outputs": [
    {
     "name": "stderr",
     "output_type": "stream",
     "text": [
      "INFO    ; Dx.__init__: dbFile (abspath): c:\\users\\aUserName\\3s\\pt3s\\Examples\\Example5.db3 exists readable ... ; [Dx.py:322 - __init__]\n",
      "INFO    ; dxAndMxHelperFcts.readDxAndMx: \n",
      "+..\\Examples\\Example5.db3 is newer than\n",
      "+..\\Examples\\WDExample5\\B1\\V0\\BZ1\\M-1-0-1.1.MX1:\n",
      "+SIR 3S' dbFile is newer than SIR 3S' mx1File\n",
      "+in this case the results are maybe dated or (worse) incompatible to the model ; [dxAndMxHelperFcts.py:1948 - readDxAndMx]\n",
      "INFO    ; dxAndMxHelperFcts.readDxAndMx: \n",
      "+..\\Examples\\WDExample5\\B1\\V0\\BZ1\\M-1-0-1.XML is newer than\n",
      "+..\\Examples\\WDExample5\\B1\\V0\\BZ1\\M-1-0-1.1.MX1:\n",
      "+SirCalc's xmlFile is newer than SIR 3S' mx1File\n",
      "+in this case the results are maybe dated or (worse) incompatible to the model ; [dxAndMxHelperFcts.py:1960 - readDxAndMx]\n",
      "INFO    ; Mx.setResultsToMxsFile: Mxs: ..\\Examples\\WDExample5\\B1\\V0\\BZ1\\M-1-0-1.1.MXS reading ... ; [Mx.py:2156 - setResultsToMxsFile]\n",
      "INFO    ; dxWithMx.__init__: Example5: processing dx and mx ... ; [dxAndMxHelperFcts.py:115 - __init__]\n",
      "ERROR   ; dxWithMx._V3_AGSNVEC: Exception: Line: 1571: <class 'KeyError'>: 'QM' ; [dxAndMxHelperFcts.py:1590 - _V3_AGSNVEC]\n"
     ]
    }
   ],
   "source": [
    "m=dxAndMxHelperFcts.readDxAndMx(dbFile=dbFile                                 \n",
    "                                ,preventPklDump=True\n",
    "\n",
    ")\n",
    "#NBVAL_IGNORE_OUTPUT"
   ]
  },
  {
   "cell_type": "code",
   "execution_count": 6,
   "id": "6e0f479e-44b1-4f51-aa8a-ece66d27bf8b",
   "metadata": {},
   "outputs": [],
   "source": [
    "df=m.V3_KNOT"
   ]
  },
  {
   "cell_type": "code",
   "execution_count": 12,
   "id": "72e8018d-61f7-46c9-ab8c-79dd03aa00c4",
   "metadata": {},
   "outputs": [
    {
     "data": {
      "text/plain": [
       "pk                                                                    object\n",
       "fkDE                                                                  object\n",
       "rk                                                                    object\n",
       "tk                                                                    object\n",
       "NAME                                                                  object\n",
       "                                                                      ...   \n",
       "(TIME, KNOT~*~*~*~VOLD, 2020-01-28 14:45:01, 2020-01-28 14:45:01)    float64\n",
       "(TMIN, KNOT~*~*~*~VOLD, 2020-01-28 14:45:01, 2020-01-28 14:46:01)    float64\n",
       "(TMAX, KNOT~*~*~*~VOLD, 2020-01-28 14:45:01, 2020-01-28 14:46:01)    float64\n",
       "PH                                                                   float64\n",
       "dPH                                                                   object\n",
       "Length: 201, dtype: object"
      ]
     },
     "execution_count": 12,
     "metadata": {},
     "output_type": "execute_result"
    }
   ],
   "source": [
    "df.dtypes"
   ]
  },
  {
   "cell_type": "code",
   "execution_count": 38,
   "id": "11e89744-5208-43f0-bfa9-d3d68d57512c",
   "metadata": {},
   "outputs": [
    {
     "name": "stdout",
     "output_type": "stream",
     "text": [
      "['pk', 'fkDE', 'rk', 'tk', 'NAME', 'KTYP', 'XKOR', 'YKOR', 'ZKOR', 'QM_EIN', 'LFAKT', 'fkPZON', 'fkFSTF', 'fkUTMP', 'fkFQPS', 'fkCONT', 'fk2LKNOT', 'BESCHREIBUNG', 'GEOMWKB', 'DELETED', 'SELECT1', 'IDREFERENZ', 'KENNUNG', 'IPLANUNG', 'KVR', 'DRAKONZ', 'pk_BZ', 'fkDE_BZ', 'fk', 'fkPVAR', 'fkQVAR', 'fkLFKT', 'PH_EIN', 'TM', 'TE', 'PH_MIN', 'GRAF', 'MId', 'MText', 'Basis', 'Variante', 'BZ', 'Geaendert', 'Erstellt', 'pk_VMBZ', 'fkBASIS', 'fkVARIANTE', 'fkBZ', 'MZ', 'MT', 'pk_CONT', 'fkDE_CONT', 'rk_CONT', 'tk_CONT', 'ID_CONT', 'NAME_CONT', 'IDPARENT_CONT', 'rkPARENT_CONT', 'LFDNR_CONT', 'GRAF_CONT', 'FONT_CONT', 'GEOM_CONT', 'DELETED_CONT', 'SELECT1_CONT', 'IDREFERENZ_CONT', 'pk_VKNO', 'fkDE_VKNO', 'rk_VKNO', 'fkKNOT_VKNO', 'fkCONT_VKNO', 'SHOWNAME_VKNO', 'POSNAME_VKNO', 'POINTINSERTX_VKNO', 'POINTINSERTY_VKNO', 'SYMBOLFACT_VKNO', 'DISPLAYMODE_VKNO', 'DELETED_VKNO', 'SELECT1_VKNO', 'MId_VKNO', 'MText_VKNO', 'Basis_VKNO', 'Variante_VKNO', 'BZ_VKNO', 'Geaendert_VKNO', 'Erstellt_VKNO', 'pk_VMBASIS_VKNO', 'fkBASIS_VKNO', 'fkVARIANTE_VKNO', 'fkBZ_VKNO', 'MZ_VKNO', 'MT_VKNO', 'MId_VMVARIANTE_VKNO', 'MText_VMVARIANTE_VKNO', 'Basis_VMVARIANTE_VKNO', 'Variante_VMVARIANTE_VKNO', 'BZ_VMVARIANTE_VKNO', 'Geaendert_VMVARIANTE_VKNO', 'Erstellt_VMVARIANTE_VKNO', 'pk_VMVARIANTE_VKNO', 'fkBASIS_VMVARIANTE_VKNO', 'fkVARIANTE_VMVARIANTE_VKNO', 'fkBZ_VMVARIANTE_VKNO', 'MZ_VMVARIANTE_VKNO', 'MT_VMVARIANTE_VKNO', 'pk_CONT_VKNO', 'fkDE_CONT_VKNO', 'rk_CONT_VKNO', 'tk_CONT_VKNO', 'ID_CONT_VKNO', 'NAME_CONT_VKNO', 'IDPARENT_CONT_VKNO', 'rkPARENT_CONT_VKNO', 'LFDNR_CONT_VKNO', 'GRAF_CONT_VKNO', 'FONT_CONT_VKNO', 'GEOM_CONT_VKNO', 'DELETED_CONT_VKNO', 'SELECT1_CONT_VKNO', 'IDREFERENZ_CONT_VKNO', 'NAME_LFKT', 'NAME_PVAR', 'NAME_PZON', 'NAME_QVAR', 'NAME_UTMP', 'NAME_FSTF', 'NAME_FQPS', 'mx2Idx', 'PH', 'dPH']\n"
     ]
    }
   ],
   "source": [
    "# Assuming df is your DataFrame\n",
    "\n",
    "# Find columns that do not start with '('\n",
    "filtered_cols = [col for col in df.columns if not col.startswith('(')]\n",
    "\n",
    "# Filter the DataFrame to include only these columns\n",
    "filtered_df = df[filtered_cols]\n",
    "\n",
    "# Display the filtered DataFrame\n",
    "print(filtered_cols)\n"
   ]
  },
  {
   "cell_type": "code",
   "execution_count": 14,
   "id": "4fc90a45-f141-4a92-84ff-be0fb5395c61",
   "metadata": {},
   "outputs": [
    {
     "name": "stdout",
     "output_type": "stream",
     "text": [
      "Columns starting with 'qs': []\n"
     ]
    }
   ],
   "source": [
    "# Assuming df is your DataFrame\n",
    "import re\n",
    "\n",
    "# Ensure all column names are strings\n",
    "df.columns = df.columns.map(str)\n",
    "\n",
    "# Find columns starting with 'qs_' and 'qs'\n",
    "qsColsEgr = [col for col in df.columns if re.search('^qs_', col)]\n",
    "qsColsInf = [col for col in df.columns if re.search('^qs', col) and not re.search('^qs_', col)]\n",
    "qsCols = qsColsEgr + qsColsInf\n",
    "\n",
    "# Print the columns\n",
    "print(\"Columns starting with 'qs':\", qsCols)\n"
   ]
  },
  {
   "cell_type": "code",
   "execution_count": 26,
   "id": "632bd1f2-e3f3-4c00-a221-96b111cdcebf",
   "metadata": {},
   "outputs": [
    {
     "data": {
      "text/html": [
       "<div>\n",
       "<style scoped>\n",
       "    .dataframe tbody tr th:only-of-type {\n",
       "        vertical-align: middle;\n",
       "    }\n",
       "\n",
       "    .dataframe tbody tr th {\n",
       "        vertical-align: top;\n",
       "    }\n",
       "\n",
       "    .dataframe thead th {\n",
       "        text-align: right;\n",
       "    }\n",
       "</style>\n",
       "<table border=\"1\" class=\"dataframe\">\n",
       "  <thead>\n",
       "    <tr style=\"text-align: right;\">\n",
       "      <th></th>\n",
       "      <th>pk</th>\n",
       "      <th>fkDE</th>\n",
       "      <th>fk</th>\n",
       "      <th>AKTIV</th>\n",
       "      <th>AKTIVQS</th>\n",
       "      <th>VERSAGENSW</th>\n",
       "      <th>GRAF</th>\n",
       "    </tr>\n",
       "  </thead>\n",
       "  <tbody>\n",
       "    <tr>\n",
       "      <th>0</th>\n",
       "      <td>-1</td>\n",
       "      <td>None</td>\n",
       "      <td>None</td>\n",
       "      <td>NaN</td>\n",
       "      <td>NaN</td>\n",
       "      <td>NaN</td>\n",
       "      <td>None</td>\n",
       "    </tr>\n",
       "    <tr>\n",
       "      <th>1</th>\n",
       "      <td>5184693889865717961</td>\n",
       "      <td>5032285329913031496</td>\n",
       "      <td>5622504138093320653</td>\n",
       "      <td>100.0</td>\n",
       "      <td>101.0</td>\n",
       "      <td>0.0</td>\n",
       "      <td>None</td>\n",
       "    </tr>\n",
       "    <tr>\n",
       "      <th>2</th>\n",
       "      <td>5011706316339838135</td>\n",
       "      <td>5032285329913031496</td>\n",
       "      <td>5408410878987506184</td>\n",
       "      <td>101.0</td>\n",
       "      <td>101.0</td>\n",
       "      <td>0.0</td>\n",
       "      <td>None</td>\n",
       "    </tr>\n",
       "  </tbody>\n",
       "</table>\n",
       "</div>"
      ],
      "text/plain": [
       "                    pk                 fkDE                   fk  AKTIV  \\\n",
       "0                   -1                 None                 None    NaN   \n",
       "1  5184693889865717961  5032285329913031496  5622504138093320653  100.0   \n",
       "2  5011706316339838135  5032285329913031496  5408410878987506184  101.0   \n",
       "\n",
       "   AKTIVQS  VERSAGENSW  GRAF  \n",
       "0      NaN         NaN  None  \n",
       "1    101.0         0.0  None  \n",
       "2    101.0         0.0  None  "
      ]
     },
     "execution_count": 26,
     "metadata": {},
     "output_type": "execute_result"
    }
   ],
   "source": [
    "m.dx.dataFrames['EBES_BZ']"
   ]
  },
  {
   "cell_type": "code",
   "execution_count": 27,
   "id": "f681ba7b-2ead-45a8-a61b-51a4d31999f6",
   "metadata": {},
   "outputs": [
    {
     "data": {
      "text/html": [
       "<div>\n",
       "<style scoped>\n",
       "    .dataframe tbody tr th:only-of-type {\n",
       "        vertical-align: middle;\n",
       "    }\n",
       "\n",
       "    .dataframe tbody tr th {\n",
       "        vertical-align: top;\n",
       "    }\n",
       "\n",
       "    .dataframe thead th {\n",
       "        text-align: right;\n",
       "    }\n",
       "</style>\n",
       "<table border=\"1\" class=\"dataframe\">\n",
       "  <thead>\n",
       "    <tr style=\"text-align: right;\">\n",
       "      <th></th>\n",
       "      <th>pk</th>\n",
       "      <th>fkDE</th>\n",
       "      <th>rk</th>\n",
       "      <th>tk</th>\n",
       "      <th>NAME</th>\n",
       "      <th>LFDNR</th>\n",
       "      <th>OBJS</th>\n",
       "      <th>DELETED</th>\n",
       "      <th>SELECT1</th>\n",
       "      <th>IDREFERENZ</th>\n",
       "    </tr>\n",
       "  </thead>\n",
       "  <tbody>\n",
       "    <tr>\n",
       "      <th>0</th>\n",
       "      <td>-1</td>\n",
       "      <td>None</td>\n",
       "      <td>None</td>\n",
       "      <td>None</td>\n",
       "      <td>None</td>\n",
       "      <td>NaN</td>\n",
       "      <td>None</td>\n",
       "      <td>NaN</td>\n",
       "      <td>None</td>\n",
       "      <td>None</td>\n",
       "    </tr>\n",
       "    <tr>\n",
       "      <th>1</th>\n",
       "      <td>5622504138093320653</td>\n",
       "      <td>5613149064237404433</td>\n",
       "      <td>5622504138093320653</td>\n",
       "      <td>5601957102971980247</td>\n",
       "      <td>B</td>\n",
       "      <td>2.0</td>\n",
       "      <td>b'FWES~5175187672733343279'</td>\n",
       "      <td>0.0</td>\n",
       "      <td>None</td>\n",
       "      <td>-1</td>\n",
       "    </tr>\n",
       "    <tr>\n",
       "      <th>2</th>\n",
       "      <td>5408410878987506184</td>\n",
       "      <td>5613149064237404433</td>\n",
       "      <td>5408410878987506184</td>\n",
       "      <td>4947747250455344469</td>\n",
       "      <td>A</td>\n",
       "      <td>1.0</td>\n",
       "      <td>b'FWES~5237816858835684263'</td>\n",
       "      <td>0.0</td>\n",
       "      <td>None</td>\n",
       "      <td>-1</td>\n",
       "    </tr>\n",
       "  </tbody>\n",
       "</table>\n",
       "</div>"
      ],
      "text/plain": [
       "                    pk                 fkDE                   rk  \\\n",
       "0                   -1                 None                 None   \n",
       "1  5622504138093320653  5613149064237404433  5622504138093320653   \n",
       "2  5408410878987506184  5613149064237404433  5408410878987506184   \n",
       "\n",
       "                    tk  NAME  LFDNR                         OBJS  DELETED  \\\n",
       "0                 None  None    NaN                         None      NaN   \n",
       "1  5601957102971980247     B    2.0  b'FWES~5175187672733343279'      0.0   \n",
       "2  4947747250455344469     A    1.0  b'FWES~5237816858835684263'      0.0   \n",
       "\n",
       "  SELECT1 IDREFERENZ  \n",
       "0    None       None  \n",
       "1    None         -1  \n",
       "2    None         -1  "
      ]
     },
     "execution_count": 27,
     "metadata": {},
     "output_type": "execute_result"
    }
   ],
   "source": [
    "m.dx.dataFrames['EBES']"
   ]
  },
  {
   "cell_type": "code",
   "execution_count": 28,
   "id": "c3dfdecd-6728-4414-bd58-76110cc2dd90",
   "metadata": {},
   "outputs": [],
   "source": [
    "EBES = m.dx.dataFrames['EBES']\n",
    "EBES_BZ = m.dx.dataFrames['EBES_BZ']\n",
    "vEBES=pd.merge(EBES,EBES_BZ,left_on='pk',right_on='fk',suffixes=('','_BZ')).sort_values(by=['LFDNR','AKTIVQS']).reset_index()"
   ]
  },
  {
   "cell_type": "code",
   "execution_count": 29,
   "id": "1e533450-6735-4ffc-bfc7-6ec226cd376f",
   "metadata": {},
   "outputs": [
    {
     "data": {
      "text/html": [
       "<div>\n",
       "<style scoped>\n",
       "    .dataframe tbody tr th:only-of-type {\n",
       "        vertical-align: middle;\n",
       "    }\n",
       "\n",
       "    .dataframe tbody tr th {\n",
       "        vertical-align: top;\n",
       "    }\n",
       "\n",
       "    .dataframe thead th {\n",
       "        text-align: right;\n",
       "    }\n",
       "</style>\n",
       "<table border=\"1\" class=\"dataframe\">\n",
       "  <thead>\n",
       "    <tr style=\"text-align: right;\">\n",
       "      <th></th>\n",
       "      <th>index</th>\n",
       "      <th>pk</th>\n",
       "      <th>fkDE</th>\n",
       "      <th>rk</th>\n",
       "      <th>tk</th>\n",
       "      <th>NAME</th>\n",
       "      <th>LFDNR</th>\n",
       "      <th>OBJS</th>\n",
       "      <th>DELETED</th>\n",
       "      <th>SELECT1</th>\n",
       "      <th>IDREFERENZ</th>\n",
       "      <th>pk_BZ</th>\n",
       "      <th>fkDE_BZ</th>\n",
       "      <th>fk</th>\n",
       "      <th>AKTIV</th>\n",
       "      <th>AKTIVQS</th>\n",
       "      <th>VERSAGENSW</th>\n",
       "      <th>GRAF</th>\n",
       "    </tr>\n",
       "  </thead>\n",
       "  <tbody>\n",
       "    <tr>\n",
       "      <th>0</th>\n",
       "      <td>1</td>\n",
       "      <td>5408410878987506184</td>\n",
       "      <td>5613149064237404433</td>\n",
       "      <td>5408410878987506184</td>\n",
       "      <td>4947747250455344469</td>\n",
       "      <td>A</td>\n",
       "      <td>1.0</td>\n",
       "      <td>b'FWES~5237816858835684263'</td>\n",
       "      <td>0.0</td>\n",
       "      <td>None</td>\n",
       "      <td>-1</td>\n",
       "      <td>5011706316339838135</td>\n",
       "      <td>5032285329913031496</td>\n",
       "      <td>5408410878987506184</td>\n",
       "      <td>101.0</td>\n",
       "      <td>101.0</td>\n",
       "      <td>0.0</td>\n",
       "      <td>None</td>\n",
       "    </tr>\n",
       "    <tr>\n",
       "      <th>1</th>\n",
       "      <td>0</td>\n",
       "      <td>5622504138093320653</td>\n",
       "      <td>5613149064237404433</td>\n",
       "      <td>5622504138093320653</td>\n",
       "      <td>5601957102971980247</td>\n",
       "      <td>B</td>\n",
       "      <td>2.0</td>\n",
       "      <td>b'FWES~5175187672733343279'</td>\n",
       "      <td>0.0</td>\n",
       "      <td>None</td>\n",
       "      <td>-1</td>\n",
       "      <td>5184693889865717961</td>\n",
       "      <td>5032285329913031496</td>\n",
       "      <td>5622504138093320653</td>\n",
       "      <td>100.0</td>\n",
       "      <td>101.0</td>\n",
       "      <td>0.0</td>\n",
       "      <td>None</td>\n",
       "    </tr>\n",
       "  </tbody>\n",
       "</table>\n",
       "</div>"
      ],
      "text/plain": [
       "   index                   pk                 fkDE                   rk  \\\n",
       "0      1  5408410878987506184  5613149064237404433  5408410878987506184   \n",
       "1      0  5622504138093320653  5613149064237404433  5622504138093320653   \n",
       "\n",
       "                    tk NAME  LFDNR                         OBJS  DELETED  \\\n",
       "0  4947747250455344469    A    1.0  b'FWES~5237816858835684263'      0.0   \n",
       "1  5601957102971980247    B    2.0  b'FWES~5175187672733343279'      0.0   \n",
       "\n",
       "  SELECT1 IDREFERENZ                pk_BZ              fkDE_BZ  \\\n",
       "0    None         -1  5011706316339838135  5032285329913031496   \n",
       "1    None         -1  5184693889865717961  5032285329913031496   \n",
       "\n",
       "                    fk  AKTIV  AKTIVQS  VERSAGENSW  GRAF  \n",
       "0  5408410878987506184  101.0    101.0         0.0  None  \n",
       "1  5622504138093320653  100.0    101.0         0.0  None  "
      ]
     },
     "execution_count": 29,
     "metadata": {},
     "output_type": "execute_result"
    }
   ],
   "source": [
    "vEBES"
   ]
  },
  {
   "cell_type": "code",
   "execution_count": 30,
   "id": "c415c91e-1dac-4f6e-aee2-2b8277b1698f",
   "metadata": {},
   "outputs": [],
   "source": [
    "Names=vEBES['NAME'].tolist()\n",
    "Lfdnrs=vEBES['LFDNR'].tolist()\n",
    "expColNames=['qs' + '_' + str(Lfdnr) + '_' + Name for Lfdnr,Name in zip(Lfdnrs,Names)]"
   ]
  },
  {
   "cell_type": "code",
   "execution_count": 31,
   "id": "43bd92ea-8d72-4a04-a2e3-702c38d91f25",
   "metadata": {},
   "outputs": [
    {
     "data": {
      "text/plain": [
       "['qs_1.0_A', 'qs_2.0_B']"
      ]
     },
     "execution_count": 31,
     "metadata": {},
     "output_type": "execute_result"
    }
   ],
   "source": [
    "expColNames\n"
   ]
  },
  {
   "cell_type": "code",
   "execution_count": 32,
   "id": "bd212db2-f9ce-42a8-96fe-d540456a5d9a",
   "metadata": {},
   "outputs": [],
   "source": [
    "vKNOTexp=m.V3_KNOT    \n",
    "vKNOTexp['KVR'].fillna('0',inplace=True) # vermeiden, dass spaetere Aggregierungen mit KVR Null-Ergebnisse produzieren für KVR-Nulls\n",
    "\n",
    "if 'KNOT~*~*~*~ESQUELLSP' in vKNOTexp.columns.tolist():\n",
    "    vKNOTexp['qsStr']=vKNOTexp['KNOT~*~*~*~ESQUELLSP'].str.decode('utf-8')\n",
    "    vKNOTexp['qsStr']=vKNOTexp['qsStr'].str.rstrip()\n",
    "\n",
    "    # die Anzahl der Spalten ist die Anzahl der definierten ### berechneten Ebes\n",
    "    expDf=vKNOTexp['qsStr'].str.split('\\t', expand = True)\n",
    "\n",
    "    # die Spalten dranhängen (heißen 1,2,...)\n",
    "    vKNOTexp=pd.merge(vKNOTexp,expDf,left_index=True,right_index=True,suffixes=('','_expDf'))"
   ]
  },
  {
   "cell_type": "code",
   "execution_count": 34,
   "id": "d7af33e3-6145-4229-b105-babd34f8193a",
   "metadata": {},
   "outputs": [
    {
     "name": "stdout",
     "output_type": "stream",
     "text": [
      "<bound method IndexOpsMixin.tolist of Index([                                                                      'pk',\n",
      "                                                                           'fkDE',\n",
      "                                                                             'rk',\n",
      "                                                                             'tk',\n",
      "                                                                           'NAME',\n",
      "                                                                           'KTYP',\n",
      "                                                                           'XKOR',\n",
      "                                                                           'YKOR',\n",
      "                                                                           'ZKOR',\n",
      "                                                                         'QM_EIN',\n",
      "       ...\n",
      "          ('STAT', 'KNOT~*~*~*~PH_EIN', 2024-01-09 23:00:00, 2024-01-09 23:00:00),\n",
      "          ('STAT', 'KNOT~*~*~*~PH_MIN', 2024-01-09 23:00:00, 2024-01-09 23:00:00),\n",
      "       ('STAT', 'KNOT~*~*~*~PMAX_INST', 2024-01-09 23:00:00, 2024-01-09 23:00:00),\n",
      "       ('STAT', 'KNOT~*~*~*~PMIN_INST', 2024-01-09 23:00:00, 2024-01-09 23:00:00),\n",
      "              ('STAT', 'KNOT~*~*~*~QM', 2024-01-09 23:00:00, 2024-01-09 23:00:00),\n",
      "             ('STAT', 'KNOT~*~*~*~RHO', 2024-01-09 23:00:00, 2024-01-09 23:00:00),\n",
      "               ('STAT', 'KNOT~*~*~*~T', 2024-01-09 23:00:00, 2024-01-09 23:00:00),\n",
      "            ('STAT', 'KNOT~*~*~*~VOLD', 2024-01-09 23:00:00, 2024-01-09 23:00:00),\n",
      "                                                                             'PH',\n",
      "                                                                            'dPH'],\n",
      "      dtype='object', length=148)>\n"
     ]
    }
   ],
   "source": [
    "print(vKNOTexp.columns.tolist)"
   ]
  },
  {
   "cell_type": "code",
   "execution_count": null,
   "id": "ada3b5d8-6675-482f-a592-49a1a69f5a19",
   "metadata": {},
   "outputs": [],
   "source": []
  }
 ],
 "metadata": {
  "kernelspec": {
   "display_name": "Python 3 (ipykernel)",
   "language": "python",
   "name": "python3"
  },
  "language_info": {
   "codemirror_mode": {
    "name": "ipython",
    "version": 3
   },
   "file_extension": ".py",
   "mimetype": "text/x-python",
   "name": "python",
   "nbconvert_exporter": "python",
   "pygments_lexer": "ipython3",
   "version": "3.11.8"
  }
 },
 "nbformat": 4,
 "nbformat_minor": 5
}
