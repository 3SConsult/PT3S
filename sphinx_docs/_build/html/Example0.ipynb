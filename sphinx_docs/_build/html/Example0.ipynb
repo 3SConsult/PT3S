{
 "cells": [
  {
   "cell_type": "markdown",
   "id": "3b210f53-11d7-44cb-8c12-78c9986fc18f",
   "metadata": {},
   "source": [
    "# Install PT3S"
   ]
  },
  {
   "cell_type": "code",
   "execution_count": 1,
   "id": "15ad9601-edd8-4f51-8391-ad2c94e6596d",
   "metadata": {},
   "outputs": [
    {
     "name": "stdout",
     "output_type": "stream",
     "text": [
      "Requirement already satisfied: PT3S in c:\\users\\jablonski\\3s\\pt3s (90.14.19.0.dev1)\n",
      "Requirement already satisfied: tables in c:\\users\\jablonski\\appdata\\local\\anaconda3\\lib\\site-packages (from PT3S) (3.9.2)\n",
      "Requirement already satisfied: pandas in c:\\users\\jablonski\\appdata\\local\\anaconda3\\lib\\site-packages (from PT3S) (2.1.4)\n",
      "Requirement already satisfied: numpy in c:\\users\\jablonski\\appdata\\local\\anaconda3\\lib\\site-packages (from PT3S) (1.26.4)\n",
      "Requirement already satisfied: h5py in c:\\users\\jablonski\\appdata\\local\\anaconda3\\lib\\site-packages (from PT3S) (3.9.0)\n",
      "Requirement already satisfied: pyodbc in c:\\users\\jablonski\\appdata\\local\\anaconda3\\lib\\site-packages (from PT3S) (5.0.1)\n",
      "Requirement already satisfied: geopandas in c:\\users\\jablonski\\appdata\\local\\anaconda3\\lib\\site-packages (from PT3S) (0.14.1)\n",
      "Requirement already satisfied: networkx in c:\\users\\jablonski\\appdata\\local\\anaconda3\\lib\\site-packages (from PT3S) (3.1)\n",
      "Requirement already satisfied: shapely in c:\\users\\jablonski\\appdata\\local\\anaconda3\\lib\\site-packages (from PT3S) (2.0.2)\n",
      "Requirement already satisfied: contextily in c:\\users\\jablonski\\appdata\\local\\anaconda3\\lib\\site-packages (from PT3S) (1.4.0)\n",
      "Requirement already satisfied: py7zr in c:\\users\\jablonski\\appdata\\local\\anaconda3\\lib\\site-packages (from PT3S) (0.20.7)\n",
      "Requirement already satisfied: folium in c:\\users\\jablonski\\appdata\\local\\anaconda3\\lib\\site-packages (from PT3S) (0.15.0)\n",
      "Requirement already satisfied: mapclassify in c:\\users\\jablonski\\appdata\\local\\anaconda3\\lib\\site-packages (from PT3S) (2.6.1)\n",
      "Requirement already satisfied: sqlalchemy in c:\\users\\jablonski\\appdata\\local\\anaconda3\\lib\\site-packages (from PT3S) (2.0.25)\n",
      "Requirement already satisfied: geopy in c:\\users\\jablonski\\appdata\\local\\anaconda3\\lib\\site-packages (from contextily->PT3S) (2.4.0)\n",
      "Requirement already satisfied: matplotlib in c:\\users\\jablonski\\appdata\\local\\anaconda3\\lib\\site-packages (from contextily->PT3S) (3.8.0)\n",
      "Requirement already satisfied: mercantile in c:\\users\\jablonski\\appdata\\local\\anaconda3\\lib\\site-packages (from contextily->PT3S) (1.2.1)\n",
      "Requirement already satisfied: pillow in c:\\users\\jablonski\\appdata\\local\\anaconda3\\lib\\site-packages (from contextily->PT3S) (10.2.0)\n",
      "Requirement already satisfied: rasterio in c:\\users\\jablonski\\appdata\\local\\anaconda3\\lib\\site-packages (from contextily->PT3S) (1.3.9)\n",
      "Requirement already satisfied: requests in c:\\users\\jablonski\\appdata\\local\\anaconda3\\lib\\site-packages (from contextily->PT3S) (2.31.0)\n",
      "Requirement already satisfied: joblib in c:\\users\\jablonski\\appdata\\local\\anaconda3\\lib\\site-packages (from contextily->PT3S) (1.2.0)\n",
      "Requirement already satisfied: xyzservices in c:\\users\\jablonski\\appdata\\local\\anaconda3\\lib\\site-packages (from contextily->PT3S) (2022.9.0)\n",
      "Requirement already satisfied: branca>=0.6.0 in c:\\users\\jablonski\\appdata\\local\\anaconda3\\lib\\site-packages (from folium->PT3S) (0.7.0)\n",
      "Requirement already satisfied: jinja2>=2.9 in c:\\users\\jablonski\\appdata\\local\\anaconda3\\lib\\site-packages (from folium->PT3S) (3.1.3)\n",
      "Requirement already satisfied: fiona>=1.8.21 in c:\\users\\jablonski\\appdata\\local\\anaconda3\\lib\\site-packages (from geopandas->PT3S) (1.9.5)\n",
      "Requirement already satisfied: packaging in c:\\users\\jablonski\\appdata\\local\\anaconda3\\lib\\site-packages (from geopandas->PT3S) (23.1)\n",
      "Requirement already satisfied: pyproj>=3.3.0 in c:\\users\\jablonski\\appdata\\local\\anaconda3\\lib\\site-packages (from geopandas->PT3S) (3.6.1)\n",
      "Requirement already satisfied: python-dateutil>=2.8.2 in c:\\users\\jablonski\\appdata\\local\\anaconda3\\lib\\site-packages (from pandas->PT3S) (2.8.2)\n",
      "Requirement already satisfied: pytz>=2020.1 in c:\\users\\jablonski\\appdata\\local\\anaconda3\\lib\\site-packages (from pandas->PT3S) (2023.3.post1)\n",
      "Requirement already satisfied: tzdata>=2022.1 in c:\\users\\jablonski\\appdata\\local\\anaconda3\\lib\\site-packages (from pandas->PT3S) (2023.3)\n",
      "Requirement already satisfied: scikit-learn>=1.0 in c:\\users\\jablonski\\appdata\\local\\anaconda3\\lib\\site-packages (from mapclassify->PT3S) (1.2.2)\n",
      "Requirement already satisfied: scipy>=1.8 in c:\\users\\jablonski\\appdata\\local\\anaconda3\\lib\\site-packages (from mapclassify->PT3S) (1.11.4)\n",
      "Requirement already satisfied: texttable in c:\\users\\jablonski\\appdata\\local\\anaconda3\\lib\\site-packages (from py7zr->PT3S) (1.7.0)\n",
      "Requirement already satisfied: pycryptodomex>=3.16.0 in c:\\users\\jablonski\\appdata\\local\\anaconda3\\lib\\site-packages (from py7zr->PT3S) (3.19.0)\n",
      "Requirement already satisfied: pyzstd>=0.15.9 in c:\\users\\jablonski\\appdata\\local\\anaconda3\\lib\\site-packages (from py7zr->PT3S) (0.15.9)\n",
      "Requirement already satisfied: pyppmd<1.2.0,>=1.1.0 in c:\\users\\jablonski\\appdata\\local\\anaconda3\\lib\\site-packages (from py7zr->PT3S) (1.1.0)\n",
      "Requirement already satisfied: pybcj<1.1.0,>=1.0.0 in c:\\users\\jablonski\\appdata\\local\\anaconda3\\lib\\site-packages (from py7zr->PT3S) (1.0.2)\n",
      "Requirement already satisfied: multivolumefile>=0.2.3 in c:\\users\\jablonski\\appdata\\local\\anaconda3\\lib\\site-packages (from py7zr->PT3S) (0.2.3)\n",
      "Requirement already satisfied: inflate64<1.1.0,>=1.0.0 in c:\\users\\jablonski\\appdata\\local\\anaconda3\\lib\\site-packages (from py7zr->PT3S) (1.0.0)\n",
      "Requirement already satisfied: brotli>=1.1.0 in c:\\users\\jablonski\\appdata\\local\\anaconda3\\lib\\site-packages (from py7zr->PT3S) (1.1.0)\n",
      "Requirement already satisfied: psutil in c:\\users\\jablonski\\appdata\\local\\anaconda3\\lib\\site-packages (from py7zr->PT3S) (5.9.0)\n",
      "Requirement already satisfied: typing-extensions>=4.6.0 in c:\\users\\jablonski\\appdata\\local\\anaconda3\\lib\\site-packages (from sqlalchemy->PT3S) (4.9.0)\n",
      "Requirement already satisfied: greenlet!=0.4.17 in c:\\users\\jablonski\\appdata\\local\\anaconda3\\lib\\site-packages (from sqlalchemy->PT3S) (3.0.1)\n",
      "Requirement already satisfied: numexpr>=2.6.2 in c:\\users\\jablonski\\appdata\\local\\anaconda3\\lib\\site-packages (from tables->PT3S) (2.8.7)\n",
      "Requirement already satisfied: py-cpuinfo in c:\\users\\jablonski\\appdata\\local\\anaconda3\\lib\\site-packages (from tables->PT3S) (9.0.0)\n",
      "Requirement already satisfied: attrs>=19.2.0 in c:\\users\\jablonski\\appdata\\local\\anaconda3\\lib\\site-packages (from fiona>=1.8.21->geopandas->PT3S) (23.1.0)\n",
      "Requirement already satisfied: certifi in c:\\users\\jablonski\\appdata\\local\\anaconda3\\lib\\site-packages (from fiona>=1.8.21->geopandas->PT3S) (2024.2.2)\n",
      "Requirement already satisfied: click~=8.0 in c:\\users\\jablonski\\appdata\\local\\anaconda3\\lib\\site-packages (from fiona>=1.8.21->geopandas->PT3S) (8.1.7)\n",
      "Requirement already satisfied: click-plugins>=1.0 in c:\\users\\jablonski\\appdata\\local\\anaconda3\\lib\\site-packages (from fiona>=1.8.21->geopandas->PT3S) (1.1.1)\n",
      "Requirement already satisfied: cligj>=0.5 in c:\\users\\jablonski\\appdata\\local\\anaconda3\\lib\\site-packages (from fiona>=1.8.21->geopandas->PT3S) (0.7.2)\n",
      "Requirement already satisfied: six in c:\\users\\jablonski\\appdata\\local\\anaconda3\\lib\\site-packages (from fiona>=1.8.21->geopandas->PT3S) (1.16.0)\n",
      "Requirement already satisfied: setuptools in c:\\users\\jablonski\\appdata\\local\\anaconda3\\lib\\site-packages (from fiona>=1.8.21->geopandas->PT3S) (68.0.0)\n",
      "Requirement already satisfied: MarkupSafe>=2.0 in c:\\users\\jablonski\\appdata\\local\\anaconda3\\lib\\site-packages (from jinja2>=2.9->folium->PT3S) (2.1.3)\n",
      "Requirement already satisfied: threadpoolctl>=2.0.0 in c:\\users\\jablonski\\appdata\\local\\anaconda3\\lib\\site-packages (from scikit-learn>=1.0->mapclassify->PT3S) (2.2.0)\n",
      "Requirement already satisfied: geographiclib<3,>=1.52 in c:\\users\\jablonski\\appdata\\local\\anaconda3\\lib\\site-packages (from geopy->contextily->PT3S) (2.0)\n",
      "Requirement already satisfied: contourpy>=1.0.1 in c:\\users\\jablonski\\appdata\\local\\anaconda3\\lib\\site-packages (from matplotlib->contextily->PT3S) (1.2.0)\n",
      "Requirement already satisfied: cycler>=0.10 in c:\\users\\jablonski\\appdata\\local\\anaconda3\\lib\\site-packages (from matplotlib->contextily->PT3S) (0.11.0)\n",
      "Requirement already satisfied: fonttools>=4.22.0 in c:\\users\\jablonski\\appdata\\local\\anaconda3\\lib\\site-packages (from matplotlib->contextily->PT3S) (4.25.0)\n",
      "Requirement already satisfied: kiwisolver>=1.0.1 in c:\\users\\jablonski\\appdata\\local\\anaconda3\\lib\\site-packages (from matplotlib->contextily->PT3S) (1.4.4)\n",
      "Requirement already satisfied: pyparsing>=2.3.1 in c:\\users\\jablonski\\appdata\\local\\anaconda3\\lib\\site-packages (from matplotlib->contextily->PT3S) (3.0.9)\n",
      "Requirement already satisfied: affine in c:\\users\\jablonski\\appdata\\local\\anaconda3\\lib\\site-packages (from rasterio->contextily->PT3S) (2.4.0)\n",
      "Requirement already satisfied: snuggs>=1.4.1 in c:\\users\\jablonski\\appdata\\local\\anaconda3\\lib\\site-packages (from rasterio->contextily->PT3S) (1.4.7)\n",
      "Requirement already satisfied: charset-normalizer<4,>=2 in c:\\users\\jablonski\\appdata\\local\\anaconda3\\lib\\site-packages (from requests->contextily->PT3S) (2.0.4)\n",
      "Requirement already satisfied: idna<4,>=2.5 in c:\\users\\jablonski\\appdata\\local\\anaconda3\\lib\\site-packages (from requests->contextily->PT3S) (3.4)\n",
      "Requirement already satisfied: urllib3<3,>=1.21.1 in c:\\users\\jablonski\\appdata\\local\\anaconda3\\lib\\site-packages (from requests->contextily->PT3S) (2.0.7)\n",
      "Requirement already satisfied: colorama in c:\\users\\jablonski\\appdata\\local\\anaconda3\\lib\\site-packages (from click~=8.0->fiona>=1.8.21->geopandas->PT3S) (0.4.6)\n",
      "Note: you may need to restart the kernel to use updated packages.\n"
     ]
    }
   ],
   "source": [
    "pip install PT3S"
   ]
  },
  {
   "cell_type": "markdown",
   "id": "c93987b5-9054-4674-89b3-6e3aa9ba5a3f",
   "metadata": {},
   "source": [
    "# Update PT3S to latest Version"
   ]
  },
  {
   "cell_type": "code",
   "execution_count": 2,
   "id": "4ff323cd-3a0a-4b6a-9730-7142637ffa48",
   "metadata": {},
   "outputs": [
    {
     "name": "stdout",
     "output_type": "stream",
     "text": [
      "Requirement already satisfied: PT3S in c:\\users\\jablonski\\3s\\pt3s (90.14.19.0.dev1)\n",
      "Note: you may need to restart the kernel to use updated packages.\n"
     ]
    }
   ],
   "source": [
    "pip install PT3S -U --no-deps"
   ]
  },
  {
   "cell_type": "markdown",
   "id": "13b3af08-08a6-459a-bed2-6c54a443d693",
   "metadata": {},
   "source": [
    "# Import PT3S"
   ]
  },
  {
   "cell_type": "code",
   "execution_count": 3,
   "id": "1f590556-72fb-4e04-92ae-451b9da99ed3",
   "metadata": {},
   "outputs": [],
   "source": [
    "try:\n",
    "    from PT3S import dxAndMxHelperFcts\n",
    "except:\n",
    "    import dxAndMxHelperFcts"
   ]
  }
 ],
 "metadata": {
  "kernelspec": {
   "display_name": "Python 3 (ipykernel)",
   "language": "python",
   "name": "python3"
  },
  "language_info": {
   "codemirror_mode": {
    "name": "ipython",
    "version": 3
   },
   "file_extension": ".py",
   "mimetype": "text/x-python",
   "name": "python",
   "nbconvert_exporter": "python",
   "pygments_lexer": "ipython3",
   "version": "3.11.8"
  }
 },
 "nbformat": 4,
 "nbformat_minor": 5
}
