{
 "cells": [
  {
   "cell_type": "markdown",
   "id": "da346618-28c2-42ed-b479-4921281db7d9",
   "metadata": {},
   "source": [
    "# UML Diagram Creation"
   ]
  },
  {
   "cell_type": "code",
   "execution_count": 1,
   "id": "e27eb108-ae8b-446e-94dd-6cbdf17d57d7",
   "metadata": {},
   "outputs": [],
   "source": [
    "#pip install pylint nbqa graphviz"
   ]
  },
  {
   "cell_type": "code",
   "execution_count": 2,
   "id": "77bad712-28f0-4d0d-9eba-d7681f5e46a0",
   "metadata": {},
   "outputs": [],
   "source": [
    "#conda install -c conda-forge graphviz"
   ]
  },
  {
   "cell_type": "code",
   "execution_count": 3,
   "id": "aac0fb82-426f-4c61-b4d8-ecb208c99716",
   "metadata": {},
   "outputs": [],
   "source": [
    "#pip show pylint"
   ]
  },
  {
   "cell_type": "code",
   "execution_count": 25,
   "id": "42698dea-b5f7-48e7-a47d-03b0e41fbc98",
   "metadata": {},
   "outputs": [],
   "source": [
    "from PIL import Image\n",
    "import os\n",
    "import os\n",
    "import subprocess\n",
    "from IPython.display import Image\n",
    "from graphviz import Digraph\n",
    "from IPython.display import Image, display\n",
    "try:\n",
    "    from PT3S import dxAndMxHelperFcts\n",
    "except:\n",
    "    import dxAndMxHelperFcts"
   ]
  },
  {
   "cell_type": "markdown",
   "id": "c242be5a-6735-47a1-b7dd-2645e238e42e",
   "metadata": {},
   "source": [
    "## Class Diagram"
   ]
  },
  {
   "cell_type": "code",
   "execution_count": 5,
   "id": "a85ffc36-cc0c-4bc8-a95a-4557027434fa",
   "metadata": {},
   "outputs": [],
   "source": [
    "project_root = r'C:\\Users\\jablonski\\3S\\PT3S'\n",
    "output_dir = r'C:\\Users\\jablonski\\3S\\PT3S\\sphinx_docs\\uml'"
   ]
  },
  {
   "cell_type": "code",
   "execution_count": 6,
   "id": "74aac340-bb07-4f96-adca-709fb0a3ba18",
   "metadata": {},
   "outputs": [],
   "source": [
    "modules = [\n",
    "    'Am.py', 'conf.py', 'Dx.py', 'dxAndMxHelperFcts.py', 'dxAecodeObjsAata.py',\n",
    "    'Lx.py', 'Mx.py', 'ncd.py', 'NFA.py', 'pNFA.py', 'Rm.py', 'sdfCsv.py', 'setup.py',\n",
    "    'Xm.py', 'lds/rpts.py', 'lds/__init__.py', 'UTILS/Ab.py', 'UTILS/Xml.py', 'UTILS/__init__.py'\n",
    "]\n",
    "modules = [\n",
    "    'Dx.py', 'dxAndMxHelperFcts.py', 'Mx.py'\n",
    "]"
   ]
  },
  {
   "cell_type": "code",
   "execution_count": 7,
   "id": "e45f76d1-bb14-412b-a6ea-d636d0134c85",
   "metadata": {},
   "outputs": [],
   "source": [
    "# Change to the directory containing your project\n",
    "os.chdir(r'C:\\Users\\jablonski\\3S\\PT3S\\sphinx_docs\\uml')"
   ]
  },
  {
   "cell_type": "code",
   "execution_count": 8,
   "id": "712eb969-3533-4cd0-856e-bcffb1e0c1fa",
   "metadata": {},
   "outputs": [],
   "source": [
    "#!python \"C:\\Users\\jablonski\\AppAata\\Local\\anaconda3\\Scripts\\pyreverse-script.py\" -o html -p PT3S ."
   ]
  },
  {
   "cell_type": "code",
   "execution_count": 9,
   "id": "2ef3c7aa-3901-4234-9eb7-23d099b36527",
   "metadata": {},
   "outputs": [],
   "source": [
    "for module in modules:\n",
    "    module_path = os.path.join(project_root, module)\n",
    "    output_prefix = os.path.splitext(os.path.basename(module))[0]\n",
    "    \n",
    "    # Run pyreverse command\n",
    "    command = [\n",
    "        'pyreverse', '-o', 'png', '-p', output_prefix, '-d', output_dir, module_path\n",
    "    ]\n",
    "    subprocess.run(command, check=True)"
   ]
  },
  {
   "cell_type": "code",
   "execution_count": 10,
   "id": "a3d890e3-499f-4baa-bb99-81b77a7c9604",
   "metadata": {},
   "outputs": [],
   "source": [
    "from PIL import Image\n",
    "def crop_image(image_path, x_percent):\n",
    "    # Open an image file\n",
    "    with Image.open(image_path) as img:\n",
    "        # Calculate the cropping box\n",
    "        width, height = img.size\n",
    "        new_width = width - int(width * (x_percent / 100))\n",
    "        box = (0, 0, new_width, height)\n",
    "        \n",
    "        # Crop the image\n",
    "        cropped_img = img.crop(box)\n",
    "        \n",
    "        # Save the cropped image with '_cropped' suffix\n",
    "        base, ext = os.path.splitext(image_path)\n",
    "        cropped_image_path = f\"{base}_cropped{ext}\"\n",
    "        cropped_img.save(cropped_image_path)\n",
    "        \n",
    "        return cropped_image_path"
   ]
  },
  {
   "cell_type": "code",
   "execution_count": 11,
   "id": "4c4fedf7-acc1-45bc-8b83-316161c2d3d3",
   "metadata": {},
   "outputs": [],
   "source": [
    "image_path = r'C:\\\\Users\\\\jablonski\\\\3S\\\\PT3S\\\\sphinx_docs\\\\uml\\\\classes_dxAndMxHelperFcts.png'"
   ]
  },
  {
   "cell_type": "code",
   "execution_count": 12,
   "id": "9c7f15d5-616d-4413-8d08-4aef4918242b",
   "metadata": {},
   "outputs": [],
   "source": [
    "x_percent = 72 # Percentage to crop from the right"
   ]
  },
  {
   "cell_type": "code",
   "execution_count": 13,
   "id": "af14d6ec-1fb2-4db1-b681-1db2be14d2fb",
   "metadata": {},
   "outputs": [
    {
     "name": "stdout",
     "output_type": "stream",
     "text": [
      "Cropped image saved at: C:\\\\Users\\\\jablonski\\\\3S\\\\PT3S\\\\sphinx_docs\\\\uml\\\\classes_dxAndMxHelperFcts_cropped.png\n"
     ]
    }
   ],
   "source": [
    "cropped_image_path = crop_image(image_path, x_percent)\n",
    "print(f\"Cropped image saved at: {cropped_image_path}\")"
   ]
  },
  {
   "cell_type": "markdown",
   "id": "82814b65-7cf8-4aaf-aeb6-3e6ac2b95f88",
   "metadata": {},
   "source": [
    "## Diagram 2"
   ]
  },
  {
   "cell_type": "code",
   "execution_count": 14,
   "id": "977d5f68-3273-4661-b42e-098e9eac2efb",
   "metadata": {},
   "outputs": [
    {
     "data": {
      "text/plain": [
       "'dxWithMx_diagram.png'"
      ]
     },
     "execution_count": 14,
     "metadata": {},
     "output_type": "execute_result"
    }
   ],
   "source": [
    "dot = Digraph()\n",
    "\n",
    "# Main node in its own cluster\n",
    "with dot.subgraph(name='cluster_root') as c:\n",
    "    c.attr(label='', color='white', fontsize='14', fontname='Arial Bold')\n",
    "    c.node('A', 'dxWithMx', color='white', style='filled', fontsize='14', fontname='Arial Bold')\n",
    "\n",
    "# Dx object and its attributes\n",
    "dot.node('B', 'Dx object', color='blue', style='filled', fontsize='14', fontname='Arial Bold')\n",
    "dot.edge('A', 'B')\n",
    "\n",
    "with dot.subgraph(name='cluster_0') as c:\n",
    "    c.attr(label='Dx object Group', color='blue', fontsize='14', fontname='Arial Bold')\n",
    "    c.node('B1', 'dx.dataFrames', color='blue', style='filled', fontsize='14', fontname='Arial Bold')\n",
    "    c.edge('B', 'B1')\n",
    "\n",
    "# Mx object and its attributes\n",
    "dot.node('C', 'Mx object', color='red', style='filled', fontsize='14', fontname='Arial Bold')\n",
    "dot.edge('A', 'C')\n",
    "\n",
    "with dot.subgraph(name='cluster_1') as c:\n",
    "    c.attr(label='Mx object Group', color='red', fontsize='14', fontname='Arial Bold')\n",
    "    c.node('C1', 'mx.df', color='red', style='filled', fontsize='14', fontname='Arial Bold')\n",
    "    c.node('C2', 'mx.dfVecAggs', color='red', style='filled', fontsize='14', fontname='Arial Bold')\n",
    "    c.edge('C', 'C1')\n",
    "    c.edge('C', 'C2')\n",
    "\n",
    "# Miscellaneous attributes\n",
    "with dot.subgraph(name='cluster_2') as c:\n",
    "    c.attr(label='Miscellaneous Group', color='pink', fontsize='14', fontname='Arial Bold')\n",
    "    c.node('A13', 'wDirMx', color='pink', style='filled', fontsize='14', fontname='Arial Bold')\n",
    "    c.node('A14', 'SirCalcXmlFile', color='pink', style='filled', fontsize='14', fontname='Arial Bold')\n",
    "    c.node('A15', 'SirCalcExeFile', color='pink', style='filled', fontsize='14', fontname='Arial Bold')\n",
    "    c.edge('A', 'A13')\n",
    "    c.edge('A', 'A14')\n",
    "    c.edge('A', 'A15')\n",
    "\n",
    "# pandas-Dfs with Model AND Result Data\n",
    "with dot.subgraph(name='cluster_3') as c:\n",
    "    c.attr(label='pandas-Dfs Group', color='purple', fontsize='14', fontname='Arial Bold')\n",
    "    c.node('A1', 'V3_ROHR', color='purple', style='filled', fontsize='14', fontname='Arial Bold')\n",
    "    c.node('A2', 'V3_FWVB', color='purple', style='filled', fontsize='14', fontname='Arial Bold')\n",
    "    c.node('A3', 'V3_KNOT', color='purple', style='filled', fontsize='14', fontname='Arial Bold')\n",
    "    c.node('A4', 'V3_VBEL', color='purple', style='filled', fontsize='14', fontname='Arial Bold')\n",
    "    c.node('A5', 'V3_ROHRVEC', color='purple', style='filled', fontsize='14', fontname='Arial Bold')\n",
    "    c.node('A6', 'V3_AGSN', color='purple', style='filled', fontsize='14', fontname='Arial Bold')\n",
    "    c.node('A7', 'V3_AGSNVEC', color='purple', style='filled', fontsize='14', fontname='Arial Bold')\n",
    "    c.edge('A', 'A1')\n",
    "    c.edge('A', 'A2')\n",
    "    c.edge('A', 'A3')\n",
    "    c.edge('A', 'A4')\n",
    "    c.edge('A', 'A5')\n",
    "    c.edge('A', 'A6')\n",
    "    c.edge('A', 'A7')\n",
    "\n",
    "# geopandas-Dfs\n",
    "with dot.subgraph(name='cluster_4') as c:\n",
    "    c.attr(label='geopandas-Dfs Group', color='orange', fontsize='14', fontname='Arial Bold')\n",
    "    c.node('A8', 'gdf_ROHR', color='orange', style='filled', fontsize='14', fontname='Arial Bold')\n",
    "    c.node('A9', 'gdf_FWVB', color='orange', style='filled', fontsize='14', fontname='Arial Bold')\n",
    "    c.node('A10', 'gdf_KNOT', color='orange', style='filled', fontsize='14', fontname='Arial Bold')\n",
    "    c.edge('A', 'A8')\n",
    "    c.edge('A', 'A9')\n",
    "    c.edge('A', 'A10')\n",
    "\n",
    "# NetworkX-Graphs\n",
    "with dot.subgraph(name='cluster_5') as c:\n",
    "    c.attr(label='NetworkX-Graphs Group', color='lime', fontsize='14', fontname='Arial Bold')\n",
    "    c.node('A11', 'G', color='lime', style='filled', fontsize='14', fontname='Arial Bold')\n",
    "    c.node('A12', 'GSig', color='lime', style='filled', fontsize='14', fontname='Arial Bold')\n",
    "    c.edge('A', 'A11')\n",
    "    c.edge('A', 'A12')\n",
    "\n",
    "# Set the direction of the graph layout to left-to-right\n",
    "dot.attr(rankdir='LR')\n",
    "\n",
    "# Save the diagram to the specified path\n",
    "dot.render('dxWithMx_diagram', format='png')"
   ]
  },
  {
   "cell_type": "code",
   "execution_count": 15,
   "id": "de91404f-5b60-48b1-b0d9-07f83011e13a",
   "metadata": {},
   "outputs": [
    {
     "data": {
      "image/png": "[encoded data removed]",
      "text/plain": [
       "<Figure size 640x480 with 1 Axes>"
      ]
     },
     "metadata": {},
     "output_type": "display_data"
    }
   ],
   "source": [
    "import matplotlib.pyplot as plt\n",
    "import matplotlib.image as mpimg\n",
    "\n",
    "img = mpimg.imread('dxWithMx_diagram.png')\n",
    "imgplot = plt.imshow(img)\n",
    "plt.axis('off')  # Hide axes\n",
    "plt.show()"
   ]
  },
  {
   "cell_type": "code",
   "execution_count": null,
   "id": "0d37d765-f029-46bb-9c65-3a2a968be4a5",
   "metadata": {},
   "outputs": [],
   "source": []
  },
  {
   "cell_type": "code",
   "execution_count": 16,
   "id": "df6e83fb-122c-4998-8bcb-414b028afb96",
   "metadata": {},
   "outputs": [],
   "source": [
    "from PIL import Image\n",
    "\n",
    "# Open the images\n",
    "image1 = Image.open('classes_dxAndMxHelperFcts_cropped.png')\n",
    "image2 = Image.open('dxWithMx_diagram.png')\n",
    "\n",
    "# Resize images to have the same height\n",
    "height = max(image1.height, image2.height)\n",
    "image1 = image1.resize((int(image1.width * height / image1.height), height))\n",
    "image2 = image2.resize((int(image2.width * height / image2.height), height))\n",
    "\n",
    "# Create a new image with the combined width of both images\n",
    "combined_width = image1.width + image2.width\n",
    "new_image = Image.new('RGB', (combined_width, height))\n",
    "\n",
    "# Paste the images side by side\n",
    "new_image.paste(image1, (0, 0))\n",
    "new_image.paste(image2, (image1.width, 0))\n",
    "\n",
    "# Save the new image\n",
    "new_image.save('combined_image.png')\n",
    "\n",
    "# Display the new image\n",
    "new_image.show()"
   ]
  },
  {
   "cell_type": "markdown",
   "id": "f6a4f003-d911-4e4f-91a7-1d851820eec4",
   "metadata": {},
   "source": [
    "# Diagram 3"
   ]
  },
  {
   "cell_type": "code",
   "execution_count": 18,
   "id": "361ba51f-1362-4bfd-84c6-e72b08af6a19",
   "metadata": {},
   "outputs": [
    {
     "data": {
      "text/plain": [
       "'dxWithMx_diagram2.png'"
      ]
     },
     "execution_count": 18,
     "metadata": {},
     "output_type": "execute_result"
    }
   ],
   "source": [
    "from graphviz import Digraph\n",
    "\n",
    "dot = Digraph()\n",
    "\n",
    "# Main node in its own cluster\n",
    "with dot.subgraph(name='cluster_root') as c:\n",
    "    c.attr(label='', color='white', fontsize='14', fontname='Arial Bold')\n",
    "    c.node('A', 'dxWithMx', color='white', style='filled', fontsize='14', fontname='Arial Bold')\n",
    "\n",
    "# Dx object and its attributes\n",
    "dot.node('B', 'Dx object', color='blue', style='filled', fontsize='14', fontname='Arial Bold')\n",
    "dot.edge('A', 'B')\n",
    "\n",
    "with dot.subgraph(name='cluster_0') as c:\n",
    "    c.attr(label='Dx object Group', color='blue', fontsize='14', fontname='Arial Bold')\n",
    "    c.node('B1', 'dx.dataFrames', color='blue', style='filled', fontsize='14', fontname='Arial Bold')\n",
    "    c.edge('B', 'B1')\n",
    "\n",
    "# Mx object and its attributes\n",
    "dot.node('C', 'Mx object', color='red', style='filled', fontsize='14', fontname='Arial Bold')\n",
    "dot.edge('A', 'C')\n",
    "\n",
    "with dot.subgraph(name='cluster_1') as c:\n",
    "    c.attr(label='Mx object Group', color='red', fontsize='14', fontname='Arial Bold')\n",
    "    c.node('C1', 'mx.df', color='red', style='filled', fontsize='14', fontname='Arial Bold')\n",
    "    c.node('C2', 'mx.dfVecAggs', color='red', style='filled', fontsize='14', fontname='Arial Bold')\n",
    "    c.edge('C', 'C1')\n",
    "    c.edge('C', 'C2')\n",
    "\n",
    "# Miscellaneous attributes\n",
    "with dot.subgraph(name='cluster_2') as c:\n",
    "    c.attr(label='Miscellaneous Group', color='pink', fontsize='14', fontname='Arial Bold')\n",
    "    c.node('A13', 'wDirMx', color='pink', style='filled', fontsize='14', fontname='Arial Bold')\n",
    "    c.node('A14', 'SirCalcXmlFile', color='pink', style='filled', fontsize='14', fontname='Arial Bold')\n",
    "    c.node('A15', 'SirCalcExeFile', color='pink', style='filled', fontsize='14', fontname='Arial Bold')\n",
    "    c.edge('A', 'A13')\n",
    "    c.edge('A', 'A14')\n",
    "    c.edge('A', 'A15')\n",
    "\n",
    "# pandas-Dfs with Model AND Result Data\n",
    "with dot.subgraph(name='cluster_3') as c:\n",
    "    c.attr(label='pandas-Dfs Group', color='purple', fontsize='14', fontname='Arial Bold')\n",
    "    c.node('A1', 'V3_ROHR', color='purple', style='filled', fontsize='14', fontname='Arial Bold')\n",
    "    c.node('A2', 'V3_FWVB', color='purple', style='filled', fontsize='14', fontname='Arial Bold')\n",
    "    c.node('A3', 'V3_KNOT', color='purple', style='filled', fontsize='14', fontname='Arial Bold')\n",
    "    c.node('A4', 'V3_VBEL', color='purple', style='filled', fontsize='14', fontname='Arial Bold')\n",
    "    c.node('A5', 'V3_ROHRVEC', color='purple', style='filled', fontsize='14', fontname='Arial Bold')\n",
    "    c.node('A6', 'V3_AGSN', color='purple', style='filled', fontsize='14', fontname='Arial Bold')\n",
    "    c.node('A7', 'V3_AGSNVEC', color='purple', style='filled', fontsize='14', fontname='Arial Bold')\n",
    "    c.edge('A', 'A1')\n",
    "    c.edge('A', 'A2')\n",
    "    c.edge('A', 'A3')\n",
    "    c.edge('A', 'A4')\n",
    "    c.edge('A', 'A5')\n",
    "    c.edge('A', 'A6')\n",
    "    c.edge('A', 'A7')\n",
    "\n",
    "    # Adding child nodes for V3_ROHR\n",
    "    c.node('A1_1', 'PH_i,_k', color='purple', style='filled', fontsize='14', fontname='Arial Bold')\n",
    "    c.node('A1_2', 'H_i,_k', color='purple', style='filled', fontsize='14', fontname='Arial Bold')\n",
    "    c.node('A1_3', 'mlc_i,_k', color='purple', style='filled', fontsize='14', fontname='Arial Bold')\n",
    "    c.node('A1_4', 'RHO_i,_k', color='purple', style='filled', fontsize='14', fontname='Arial Bold')\n",
    "    c.node('A1_5', 'T_i,_k', color='purple', style='filled', fontsize='14', fontname='Arial Bold')\n",
    "    c.node('A1_6', 'QM', color='purple', style='filled', fontsize='14', fontname='Arial Bold')\n",
    "    c.edge('A1', 'A1_1')\n",
    "    c.edge('A1', 'A1_2')\n",
    "    c.edge('A1', 'A1_3')\n",
    "    c.edge('A1', 'A1_4')\n",
    "    c.edge('A1', 'A1_5')\n",
    "    c.edge('A1', 'A1_6')\n",
    "\n",
    "    # Adding child nodes for V3_KNOT\n",
    "    c.node('A3_1', 'PH', color='purple', style='filled', fontsize='14', fontname='Arial Bold')\n",
    "    c.node('A3_2', 'dPH', color='purple', style='filled', fontsize='14', fontname='Arial Bold')\n",
    "    c.node('A3_3', 'QM', color='purple', style='filled', fontsize='14', fontname='Arial Bold')\n",
    "    c.node('A3_4', 'srcvector', color='purple', style='filled', fontsize='14', fontname='Arial Bold')\n",
    "    c.edge('A3', 'A3_1')\n",
    "    c.edge('A3', 'A3_2')\n",
    "    c.edge('A3', 'A3_3')\n",
    "    c.edge('A3', 'A3_4')\n",
    "\n",
    "    # Adding child nodes for V3_VBEL\n",
    "    c.node('A4_1', 'PH_i,_k', color='purple', style='filled', fontsize='14', fontname='Arial Bold')\n",
    "    c.node('A4_2', 'H_i,_k', color='purple', style='filled', fontsize='14', fontname='Arial Bold')\n",
    "    c.node('A4_3', 'mlc_i,_k', color='purple', style='filled', fontsize='14', fontname='Arial Bold')\n",
    "    c.node('A4_4', 'RHO_i,_k', color='purple', style='filled', fontsize='14', fontname='Arial Bold')\n",
    "    c.node('A4_5', 'T_i,_k', color='purple', style='filled', fontsize='14', fontname='Arial Bold')\n",
    "    c.node('A4_6', 'QM', color='purple', style='filled', fontsize='14', fontname='Arial Bold')\n",
    "    c.edge('A4', 'A4_1')\n",
    "    c.edge('A4', 'A4_2')\n",
    "    c.edge('A4', 'A4_3')\n",
    "    c.edge('A4', 'A4_4')\n",
    "    c.edge('A4', 'A4_5')\n",
    "    c.edge('A4', 'A4_6')\n",
    "\n",
    "# geopandas-Dfs\n",
    "with dot.subgraph(name='cluster_4') as c:\n",
    "    c.attr(label='geopandas-Dfs Group', color='orange', fontsize='14', fontname='Arial Bold')\n",
    "    c.node('A8', 'gdf_ROHR', color='orange', style='filled', fontsize='14', fontname='Arial Bold')\n",
    "    c.node('A9', 'gdf_FWVB', color='orange', style='filled', fontsize='14', fontname='Arial Bold')\n",
    "    c.node('A10', 'gdf_KNOT', color='orange', style='filled', fontsize='14', fontname='Arial Bold')\n",
    "    c.edge('A', 'A8')\n",
    "    c.edge('A', 'A9')\n",
    "    c.edge('A', 'A10')\n",
    "\n",
    "# NetworkX-Graphs\n",
    "with dot.subgraph(name='cluster_5') as c:\n",
    "    c.attr(label='NetworkX-Graphs Group', color='lime', fontsize='14', fontname='Arial Bold')\n",
    "    c.node('A11', 'G', color='lime', style='filled', fontsize='14', fontname='Arial Bold')\n",
    "    c.node('A12', 'GSig', color='lime', style='filled', fontsize='14', fontname='Arial Bold')\n",
    "    c.edge('A', 'A11')\n",
    "    c.edge('A', 'A12')\n",
    "\n",
    "# Set the direction of the graph layout to left-to-right\n",
    "dot.attr(rankdir='LR')\n",
    "\n",
    "# Save the diagram to the specified path\n",
    "dot.render('dxWithMx_diagram2', format='png')"
   ]
  },
  {
   "cell_type": "code",
   "execution_count": 20,
   "id": "742bb5de-6ebe-4124-8746-b54904db5ddc",
   "metadata": {},
   "outputs": [
    {
     "data": {
      "image/png": "[encoded data removed]",
      "text/plain": [
       "<Figure size 640x480 with 1 Axes>"
      ]
     },
     "metadata": {},
     "output_type": "display_data"
    }
   ],
   "source": [
    "import matplotlib.pyplot as plt\n",
    "import matplotlib.image as mpimg\n",
    "\n",
    "img = mpimg.imread('dxWithMx_diagram2.png')\n",
    "imgplot = plt.imshow(img)\n",
    "plt.axis('off')  # Hide axes\n",
    "plt.show()"
   ]
  },
  {
   "cell_type": "markdown",
   "id": "e5e84882-f2d0-4ad3-8586-f03ec8c0a7ef",
   "metadata": {},
   "source": [
    "# Diagram 4"
   ]
  },
  {
   "cell_type": "code",
   "execution_count": 21,
   "id": "f5005ee3-7a89-4c77-b62d-a6fa5511193e",
   "metadata": {},
   "outputs": [
    {
     "name": "stdout",
     "output_type": "stream",
     "text": [
      "Requirement already satisfied: plotly in c:\\users\\jablonski\\appdata\\local\\anaconda3\\lib\\site-packages (5.24.1)\n",
      "Requirement already satisfied: tenacity>=6.2.0 in c:\\users\\jablonski\\appdata\\local\\anaconda3\\lib\\site-packages (from plotly) (9.0.0)\n",
      "Requirement already satisfied: packaging in c:\\users\\jablonski\\appdata\\local\\anaconda3\\lib\\site-packages (from plotly) (23.1)\n",
      "Note: you may need to restart the kernel to use updated packages.\n"
     ]
    }
   ],
   "source": [
    "pip install plotly"
   ]
  },
  {
   "cell_type": "code",
   "execution_count": 89,
   "id": "20f91089-6049-4d56-a4e1-b2344421f209",
   "metadata": {},
   "outputs": [
    {
     "data": {
      "application/vnd.plotly.v1+json": {
       "config": {
        "plotlyServerURL": "https://plot.ly"
       },
       "data": [
        {
         "marker": {
          "color": "white",
          "size": 20
         },
         "mode": "markers+text",
         "name": "Main Node",
         "text": [
          "dxWithMx"
         ],
         "textposition": "bottom center",
         "type": "scatter",
         "x": [
          0
         ],
         "y": [
          0
         ]
        },
        {
         "marker": {
          "color": "blue",
          "size": 20
         },
         "mode": "markers+text",
         "name": "Dx object",
         "text": [
          "Dx object"
         ],
         "textposition": "bottom center",
         "type": "scatter",
         "x": [
          1
         ],
         "y": [
          1
         ]
        },
        {
         "marker": {
          "color": "blue",
          "size": 20
         },
         "mode": "markers+text",
         "name": "dx.dataFrames",
         "text": [
          "dx.dataFrames"
         ],
         "textposition": "bottom center",
         "type": "scatter",
         "x": [
          2
         ],
         "y": [
          2
         ]
        },
        {
         "marker": {
          "color": "red",
          "size": 20
         },
         "mode": "markers+text",
         "name": "Mx object",
         "text": [
          "Mx object"
         ],
         "textposition": "bottom center",
         "type": "scatter",
         "x": [
          1
         ],
         "y": [
          -1
         ]
        },
        {
         "marker": {
          "color": "red",
          "size": 20
         },
         "mode": "markers+text",
         "name": "mx.df",
         "text": [
          "mx.df"
         ],
         "textposition": "bottom center",
         "type": "scatter",
         "x": [
          2
         ],
         "y": [
          -2
         ]
        },
        {
         "marker": {
          "color": "red",
          "size": 20
         },
         "mode": "markers+text",
         "name": "mx.dfVecAggs",
         "text": [
          "mx.dfVecAggs"
         ],
         "textposition": "bottom center",
         "type": "scatter",
         "x": [
          2
         ],
         "y": [
          -3
         ]
        },
        {
         "marker": {
          "color": "pink",
          "size": 20
         },
         "mode": "markers+text",
         "name": "wDirMx",
         "text": [
          "wDirMx"
         ],
         "textposition": "bottom center",
         "type": "scatter",
         "x": [
          1
         ],
         "y": [
          3
         ]
        },
        {
         "marker": {
          "color": "pink",
          "size": 20
         },
         "mode": "markers+text",
         "name": "SirCalcXmlFile",
         "text": [
          "SirCalcXmlFile"
         ],
         "textposition": "bottom center",
         "type": "scatter",
         "x": [
          1
         ],
         "y": [
          4
         ]
        },
        {
         "marker": {
          "color": "pink",
          "size": 20
         },
         "mode": "markers+text",
         "name": "SirCalcExeFile",
         "text": [
          "SirCalcExeFile"
         ],
         "textposition": "bottom center",
         "type": "scatter",
         "x": [
          1
         ],
         "y": [
          5
         ]
        },
        {
         "marker": {
          "color": "purple",
          "size": 20
         },
         "mode": "markers+text",
         "name": "V3_ROHR",
         "text": [
          "V3_ROHR"
         ],
         "textposition": "bottom center",
         "type": "scatter",
         "x": [
          1
         ],
         "y": [
          6
         ]
        },
        {
         "marker": {
          "color": "purple",
          "size": 20
         },
         "mode": "markers+text",
         "name": "V3_FWVB",
         "text": [
          "V3_FWVB"
         ],
         "textposition": "bottom center",
         "type": "scatter",
         "x": [
          1
         ],
         "y": [
          7
         ]
        },
        {
         "marker": {
          "color": "purple",
          "size": 20
         },
         "mode": "markers+text",
         "name": "V3_KNOT",
         "text": [
          "V3_KNOT"
         ],
         "textposition": "bottom center",
         "type": "scatter",
         "x": [
          1
         ],
         "y": [
          8
         ]
        },
        {
         "marker": {
          "color": "purple",
          "size": 20
         },
         "mode": "markers+text",
         "name": "V3_VBEL",
         "text": [
          "V3_VBEL"
         ],
         "textposition": "bottom center",
         "type": "scatter",
         "x": [
          1
         ],
         "y": [
          9
         ]
        },
        {
         "marker": {
          "color": "purple",
          "size": 20
         },
         "mode": "markers+text",
         "name": "V3_ROHRVEC",
         "text": [
          "V3_ROHRVEC"
         ],
         "textposition": "bottom center",
         "type": "scatter",
         "x": [
          1
         ],
         "y": [
          10
         ]
        },
        {
         "marker": {
          "color": "purple",
          "size": 20
         },
         "mode": "markers+text",
         "name": "V3_AGSN",
         "text": [
          "V3_AGSN"
         ],
         "textposition": "bottom center",
         "type": "scatter",
         "x": [
          1
         ],
         "y": [
          11
         ]
        },
        {
         "marker": {
          "color": "purple",
          "size": 20
         },
         "mode": "markers+text",
         "name": "V3_AGSNVEC",
         "text": [
          "V3_AGSNVEC"
         ],
         "textposition": "bottom center",
         "type": "scatter",
         "x": [
          1
         ],
         "y": [
          12
         ]
        },
        {
         "marker": {
          "color": "orange",
          "size": 20
         },
         "mode": "markers+text",
         "name": "gdf_ROHR",
         "text": [
          "gdf_ROHR"
         ],
         "textposition": "bottom center",
         "type": "scatter",
         "x": [
          1
         ],
         "y": [
          13
         ]
        },
        {
         "marker": {
          "color": "orange",
          "size": 20
         },
         "mode": "markers+text",
         "name": "gdf_FWVB",
         "text": [
          "gdf_FWVB"
         ],
         "textposition": "bottom center",
         "type": "scatter",
         "x": [
          1
         ],
         "y": [
          14
         ]
        },
        {
         "marker": {
          "color": "orange",
          "size": 20
         },
         "mode": "markers+text",
         "name": "gdf_KNOT",
         "text": [
          "gdf_KNOT"
         ],
         "textposition": "bottom center",
         "type": "scatter",
         "x": [
          1
         ],
         "y": [
          15
         ]
        },
        {
         "marker": {
          "color": "lime",
          "size": 20
         },
         "mode": "markers+text",
         "name": "G",
         "text": [
          "G"
         ],
         "textposition": "bottom center",
         "type": "scatter",
         "x": [
          1
         ],
         "y": [
          16
         ]
        },
        {
         "marker": {
          "color": "lime",
          "size": 20
         },
         "mode": "markers+text",
         "name": "GSig",
         "text": [
          "GSig"
         ],
         "textposition": "bottom center",
         "type": "scatter",
         "x": [
          1
         ],
         "y": [
          17
         ]
        }
       ],
       "layout": {
        "autosize": false,
        "height": 1200,
        "shapes": [
         {
          "line": {
           "color": "black",
           "width": 2
          },
          "type": "line",
          "x0": 0,
          "x1": 1,
          "y0": 0,
          "y1": 1
         },
         {
          "line": {
           "color": "black",
           "width": 2
          },
          "type": "line",
          "x0": 0,
          "x1": 1,
          "y0": 0,
          "y1": 2
         },
         {
          "line": {
           "color": "black",
           "width": 2
          },
          "type": "line",
          "x0": 0,
          "x1": 1,
          "y0": 0,
          "y1": 3
         },
         {
          "line": {
           "color": "black",
           "width": 2
          },
          "type": "line",
          "x0": 0,
          "x1": 1,
          "y0": 0,
          "y1": 4
         },
         {
          "line": {
           "color": "black",
           "width": 2
          },
          "type": "line",
          "x0": 0,
          "x1": 1,
          "y0": 0,
          "y1": 5
         },
         {
          "line": {
           "color": "black",
           "width": 2
          },
          "type": "line",
          "x0": 0,
          "x1": 1,
          "y0": 0,
          "y1": 6
         },
         {
          "line": {
           "color": "black",
           "width": 2
          },
          "type": "line",
          "x0": 0,
          "x1": 1,
          "y0": 0,
          "y1": 7
         },
         {
          "line": {
           "color": "black",
           "width": 2
          },
          "type": "line",
          "x0": 0,
          "x1": 1,
          "y0": 0,
          "y1": 8
         },
         {
          "line": {
           "color": "black",
           "width": 2
          },
          "type": "line",
          "x0": 0,
          "x1": 1,
          "y0": 0,
          "y1": 9
         },
         {
          "line": {
           "color": "black",
           "width": 2
          },
          "type": "line",
          "x0": 0,
          "x1": 1,
          "y0": 0,
          "y1": 10
         },
         {
          "line": {
           "color": "black",
           "width": 2
          },
          "type": "line",
          "x0": 0,
          "x1": 1,
          "y0": 0,
          "y1": 11
         },
         {
          "line": {
           "color": "black",
           "width": 2
          },
          "type": "line",
          "x0": 0,
          "x1": 1,
          "y0": 0,
          "y1": 12
         },
         {
          "line": {
           "color": "black",
           "width": 2
          },
          "type": "line",
          "x0": 0,
          "x1": 1,
          "y0": 0,
          "y1": 13
         },
         {
          "line": {
           "color": "black",
           "width": 2
          },
          "type": "line",
          "x0": 0,
          "x1": 1,
          "y0": 0,
          "y1": 14
         },
         {
          "line": {
           "color": "black",
           "width": 2
          },
          "type": "line",
          "x0": 0,
          "x1": 1,
          "y0": 0,
          "y1": 15
         },
         {
          "line": {
           "color": "black",
           "width": 2
          },
          "type": "line",
          "x0": 0,
          "x1": 1,
          "y0": 0,
          "y1": 16
         },
         {
          "line": {
           "color": "black",
           "width": 2
          },
          "type": "line",
          "x0": 0,
          "x1": 1,
          "y0": 0,
          "y1": 17
         },
         {
          "line": {
           "color": "black",
           "width": 2
          },
          "type": "line",
          "x0": 0,
          "x1": 1,
          "y0": 0,
          "y1": -1
         },
         {
          "line": {
           "color": "blue",
           "width": 2
          },
          "type": "line",
          "x0": 1,
          "x1": 2,
          "y0": 1,
          "y1": 2
         },
         {
          "line": {
           "color": "red",
           "width": 2
          },
          "type": "line",
          "x0": 1,
          "x1": 2,
          "y0": -1,
          "y1": -2
         },
         {
          "line": {
           "color": "red",
           "width": 2
          },
          "type": "line",
          "x0": 1,
          "x1": 2,
          "y0": -1,
          "y1": -3
         },
         {
          "line": {
           "color": "blue",
           "width": 2
          },
          "type": "line",
          "x0": 1,
          "x1": 2,
          "y0": 1,
          "y1": 2
         },
         {
          "line": {
           "color": "red",
           "width": 2
          },
          "type": "line",
          "x0": 1,
          "x1": 2,
          "y0": -1,
          "y1": -2
         },
         {
          "line": {
           "color": "red",
           "width": 2
          },
          "type": "line",
          "x0": 1,
          "x1": 2,
          "y0": -1,
          "y1": -3
         }
        ],
        "showlegend": false,
        "template": {
         "data": {
          "bar": [
           {
            "error_x": {
             "color": "#2a3f5f"
            },
            "error_y": {
             "color": "#2a3f5f"
            },
            "marker": {
             "line": {
              "color": "#E5ECF6",
              "width": 0.5
             },
             "pattern": {
              "fillmode": "overlay",
              "size": 10,
              "solidity": 0.2
             }
            },
            "type": "bar"
           }
          ],
          "barpolar": [
           {
            "marker": {
             "line": {
              "color": "#E5ECF6",
              "width": 0.5
             },
             "pattern": {
              "fillmode": "overlay",
              "size": 10,
              "solidity": 0.2
             }
            },
            "type": "barpolar"
           }
          ],
          "carpet": [
           {
            "aaxis": {
             "endlinecolor": "#2a3f5f",
             "gridcolor": "white",
             "linecolor": "white",
             "minorgridcolor": "white",
             "startlinecolor": "#2a3f5f"
            },
            "baxis": {
             "endlinecolor": "#2a3f5f",
             "gridcolor": "white",
             "linecolor": "white",
             "minorgridcolor": "white",
             "startlinecolor": "#2a3f5f"
            },
            "type": "carpet"
           }
          ],
          "choropleth": [
           {
            "colorbar": {
             "outlinewidth": 0,
             "ticks": ""
            },
            "type": "choropleth"
           }
          ],
          "contour": [
           {
            "colorbar": {
             "outlinewidth": 0,
             "ticks": ""
            },
            "colorscale": [
             [
              0,
              "#0d0887"
             ],
             [
              0.1111111111111111,
              "#46039f"
             ],
             [
              0.2222222222222222,
              "#7201a8"
             ],
             [
              0.3333333333333333,
              "#9c179e"
             ],
             [
              0.4444444444444444,
              "#bd3786"
             ],
             [
              0.5555555555555556,
              "#d8576b"
             ],
             [
              0.6666666666666666,
              "#ed7953"
             ],
             [
              0.7777777777777778,
              "#fb9f3a"
             ],
             [
              0.8888888888888888,
              "#fdca26"
             ],
             [
              1,
              "#f0f921"
             ]
            ],
            "type": "contour"
           }
          ],
          "contourcarpet": [
           {
            "colorbar": {
             "outlinewidth": 0,
             "ticks": ""
            },
            "type": "contourcarpet"
           }
          ],
          "heatmap": [
           {
            "colorbar": {
             "outlinewidth": 0,
             "ticks": ""
            },
            "colorscale": [
             [
              0,
              "#0d0887"
             ],
             [
              0.1111111111111111,
              "#46039f"
             ],
             [
              0.2222222222222222,
              "#7201a8"
             ],
             [
              0.3333333333333333,
              "#9c179e"
             ],
             [
              0.4444444444444444,
              "#bd3786"
             ],
             [
              0.5555555555555556,
              "#d8576b"
             ],
             [
              0.6666666666666666,
              "#ed7953"
             ],
             [
              0.7777777777777778,
              "#fb9f3a"
             ],
             [
              0.8888888888888888,
              "#fdca26"
             ],
             [
              1,
              "#f0f921"
             ]
            ],
            "type": "heatmap"
           }
          ],
          "heatmapgl": [
           {
            "colorbar": {
             "outlinewidth": 0,
             "ticks": ""
            },
            "colorscale": [
             [
              0,
              "#0d0887"
             ],
             [
              0.1111111111111111,
              "#46039f"
             ],
             [
              0.2222222222222222,
              "#7201a8"
             ],
             [
              0.3333333333333333,
              "#9c179e"
             ],
             [
              0.4444444444444444,
              "#bd3786"
             ],
             [
              0.5555555555555556,
              "#d8576b"
             ],
             [
              0.6666666666666666,
              "#ed7953"
             ],
             [
              0.7777777777777778,
              "#fb9f3a"
             ],
             [
              0.8888888888888888,
              "#fdca26"
             ],
             [
              1,
              "#f0f921"
             ]
            ],
            "type": "heatmapgl"
           }
          ],
          "histogram": [
           {
            "marker": {
             "pattern": {
              "fillmode": "overlay",
              "size": 10,
              "solidity": 0.2
             }
            },
            "type": "histogram"
           }
          ],
          "histogram2d": [
           {
            "colorbar": {
             "outlinewidth": 0,
             "ticks": ""
            },
            "colorscale": [
             [
              0,
              "#0d0887"
             ],
             [
              0.1111111111111111,
              "#46039f"
             ],
             [
              0.2222222222222222,
              "#7201a8"
             ],
             [
              0.3333333333333333,
              "#9c179e"
             ],
             [
              0.4444444444444444,
              "#bd3786"
             ],
             [
              0.5555555555555556,
              "#d8576b"
             ],
             [
              0.6666666666666666,
              "#ed7953"
             ],
             [
              0.7777777777777778,
              "#fb9f3a"
             ],
             [
              0.8888888888888888,
              "#fdca26"
             ],
             [
              1,
              "#f0f921"
             ]
            ],
            "type": "histogram2d"
           }
          ],
          "histogram2dcontour": [
           {
            "colorbar": {
             "outlinewidth": 0,
             "ticks": ""
            },
            "colorscale": [
             [
              0,
              "#0d0887"
             ],
             [
              0.1111111111111111,
              "#46039f"
             ],
             [
              0.2222222222222222,
              "#7201a8"
             ],
             [
              0.3333333333333333,
              "#9c179e"
             ],
             [
              0.4444444444444444,
              "#bd3786"
             ],
             [
              0.5555555555555556,
              "#d8576b"
             ],
             [
              0.6666666666666666,
              "#ed7953"
             ],
             [
              0.7777777777777778,
              "#fb9f3a"
             ],
             [
              0.8888888888888888,
              "#fdca26"
             ],
             [
              1,
              "#f0f921"
             ]
            ],
            "type": "histogram2dcontour"
           }
          ],
          "mesh3d": [
           {
            "colorbar": {
             "outlinewidth": 0,
             "ticks": ""
            },
            "type": "mesh3d"
           }
          ],
          "parcoords": [
           {
            "line": {
             "colorbar": {
              "outlinewidth": 0,
              "ticks": ""
             }
            },
            "type": "parcoords"
           }
          ],
          "pie": [
           {
            "automargin": true,
            "type": "pie"
           }
          ],
          "scatter": [
           {
            "fillpattern": {
             "fillmode": "overlay",
             "size": 10,
             "solidity": 0.2
            },
            "type": "scatter"
           }
          ],
          "scatter3d": [
           {
            "line": {
             "colorbar": {
              "outlinewidth": 0,
              "ticks": ""
             }
            },
            "marker": {
             "colorbar": {
              "outlinewidth": 0,
              "ticks": ""
             }
            },
            "type": "scatter3d"
           }
          ],
          "scattercarpet": [
           {
            "marker": {
             "colorbar": {
              "outlinewidth": 0,
              "ticks": ""
             }
            },
            "type": "scattercarpet"
           }
          ],
          "scattergeo": [
           {
            "marker": {
             "colorbar": {
              "outlinewidth": 0,
              "ticks": ""
             }
            },
            "type": "scattergeo"
           }
          ],
          "scattergl": [
           {
            "marker": {
             "colorbar": {
              "outlinewidth": 0,
              "ticks": ""
             }
            },
            "type": "scattergl"
           }
          ],
          "scattermapbox": [
           {
            "marker": {
             "colorbar": {
              "outlinewidth": 0,
              "ticks": ""
             }
            },
            "type": "scattermapbox"
           }
          ],
          "scatterpolar": [
           {
            "marker": {
             "colorbar": {
              "outlinewidth": 0,
              "ticks": ""
             }
            },
            "type": "scatterpolar"
           }
          ],
          "scatterpolargl": [
           {
            "marker": {
             "colorbar": {
              "outlinewidth": 0,
              "ticks": ""
             }
            },
            "type": "scatterpolargl"
           }
          ],
          "scatterternary": [
           {
            "marker": {
             "colorbar": {
              "outlinewidth": 0,
              "ticks": ""
             }
            },
            "type": "scatterternary"
           }
          ],
          "surface": [
           {
            "colorbar": {
             "outlinewidth": 0,
             "ticks": ""
            },
            "colorscale": [
             [
              0,
              "#0d0887"
             ],
             [
              0.1111111111111111,
              "#46039f"
             ],
             [
              0.2222222222222222,
              "#7201a8"
             ],
             [
              0.3333333333333333,
              "#9c179e"
             ],
             [
              0.4444444444444444,
              "#bd3786"
             ],
             [
              0.5555555555555556,
              "#d8576b"
             ],
             [
              0.6666666666666666,
              "#ed7953"
             ],
             [
              0.7777777777777778,
              "#fb9f3a"
             ],
             [
              0.8888888888888888,
              "#fdca26"
             ],
             [
              1,
              "#f0f921"
             ]
            ],
            "type": "surface"
           }
          ],
          "table": [
           {
            "cells": {
             "fill": {
              "color": "#EBF0F8"
             },
             "line": {
              "color": "white"
             }
            },
            "header": {
             "fill": {
              "color": "#C8D4E3"
             },
             "line": {
              "color": "white"
             }
            },
            "type": "table"
           }
          ]
         },
         "layout": {
          "annotationdefaults": {
           "arrowcolor": "#2a3f5f",
           "arrowhead": 0,
           "arrowwidth": 1
          },
          "autotypenumbers": "strict",
          "coloraxis": {
           "colorbar": {
            "outlinewidth": 0,
            "ticks": ""
           }
          },
          "colorscale": {
           "diverging": [
            [
             0,
             "#8e0152"
            ],
            [
             0.1,
             "#c51b7d"
            ],
            [
             0.2,
             "#de77ae"
            ],
            [
             0.3,
             "#f1b6da"
            ],
            [
             0.4,
             "#fde0ef"
            ],
            [
             0.5,
             "#f7f7f7"
            ],
            [
             0.6,
             "#e6f5d0"
            ],
            [
             0.7,
             "#b8e186"
            ],
            [
             0.8,
             "#7fbc41"
            ],
            [
             0.9,
             "#4d9221"
            ],
            [
             1,
             "#276419"
            ]
           ],
           "sequential": [
            [
             0,
             "#0d0887"
            ],
            [
             0.1111111111111111,
             "#46039f"
            ],
            [
             0.2222222222222222,
             "#7201a8"
            ],
            [
             0.3333333333333333,
             "#9c179e"
            ],
            [
             0.4444444444444444,
             "#bd3786"
            ],
            [
             0.5555555555555556,
             "#d8576b"
            ],
            [
             0.6666666666666666,
             "#ed7953"
            ],
            [
             0.7777777777777778,
             "#fb9f3a"
            ],
            [
             0.8888888888888888,
             "#fdca26"
            ],
            [
             1,
             "#f0f921"
            ]
           ],
           "sequentialminus": [
            [
             0,
             "#0d0887"
            ],
            [
             0.1111111111111111,
             "#46039f"
            ],
            [
             0.2222222222222222,
             "#7201a8"
            ],
            [
             0.3333333333333333,
             "#9c179e"
            ],
            [
             0.4444444444444444,
             "#bd3786"
            ],
            [
             0.5555555555555556,
             "#d8576b"
            ],
            [
             0.6666666666666666,
             "#ed7953"
            ],
            [
             0.7777777777777778,
             "#fb9f3a"
            ],
            [
             0.8888888888888888,
             "#fdca26"
            ],
            [
             1,
             "#f0f921"
            ]
           ]
          },
          "colorway": [
           "#636efa",
           "#EF553B",
           "#00cc96",
           "#ab63fa",
           "#FFA15A",
           "#19d3f3",
           "#FF6692",
           "#B6E880",
           "#FF97FF",
           "#FECB52"
          ],
          "font": {
           "color": "#2a3f5f"
          },
          "geo": {
           "bgcolor": "white",
           "lakecolor": "white",
           "landcolor": "#E5ECF6",
           "showlakes": true,
           "showland": true,
           "subunitcolor": "white"
          },
          "hoverlabel": {
           "align": "left"
          },
          "hovermode": "closest",
          "mapbox": {
           "style": "light"
          },
          "paper_bgcolor": "white",
          "plot_bgcolor": "#E5ECF6",
          "polar": {
           "angularaxis": {
            "gridcolor": "white",
            "linecolor": "white",
            "ticks": ""
           },
           "bgcolor": "#E5ECF6",
           "radialaxis": {
            "gridcolor": "white",
            "linecolor": "white",
            "ticks": ""
           }
          },
          "scene": {
           "xaxis": {
            "backgroundcolor": "#E5ECF6",
            "gridcolor": "white",
            "gridwidth": 2,
            "linecolor": "white",
            "showbackground": true,
            "ticks": "",
            "zerolinecolor": "white"
           },
           "yaxis": {
            "backgroundcolor": "#E5ECF6",
            "gridcolor": "white",
            "gridwidth": 2,
            "linecolor": "white",
            "showbackground": true,
            "ticks": "",
            "zerolinecolor": "white"
           },
           "zaxis": {
            "backgroundcolor": "#E5ECF6",
            "gridcolor": "white",
            "gridwidth": 2,
            "linecolor": "white",
            "showbackground": true,
            "ticks": "",
            "zerolinecolor": "white"
           }
          },
          "shapedefaults": {
           "line": {
            "color": "#2a3f5f"
           }
          },
          "ternary": {
           "aaxis": {
            "gridcolor": "white",
            "linecolor": "white",
            "ticks": ""
           },
           "baxis": {
            "gridcolor": "white",
            "linecolor": "white",
            "ticks": ""
           },
           "bgcolor": "#E5ECF6",
           "caxis": {
            "gridcolor": "white",
            "linecolor": "white",
            "ticks": ""
           }
          },
          "title": {
           "x": 0.05
          },
          "xaxis": {
           "automargin": true,
           "gridcolor": "white",
           "linecolor": "white",
           "ticks": "",
           "title": {
            "standoff": 15
           },
           "zerolinecolor": "white",
           "zerolinewidth": 2
          },
          "yaxis": {
           "automargin": true,
           "gridcolor": "white",
           "linecolor": "white",
           "ticks": "",
           "title": {
            "standoff": 15
           },
           "zerolinecolor": "white",
           "zerolinewidth": 2
          }
         }
        },
        "title": {},
        "width": 800,
        "xaxis": {
         "autorange": true,
         "range": [
          -0.161524500907441,
          2.161524500907441
         ],
         "showgrid": false,
         "type": "linear",
         "visible": false,
         "zeroline": false
        },
        "yaxis": {
         "autorange": true,
         "range": [
          -4.422172452407615,
          18.422172452407615
         ],
         "showgrid": false,
         "type": "linear",
         "visible": false,
         "zeroline": false
        }
       }
      },
      "image/png": "[encoded data removed]",
      "text/html": [
       "<div>                            <div id=\"87bb259e-2c09-4975-aa68-26f909902a77\" class=\"plotly-graph-div\" style=\"height:1200px; width:800px;\"></div>            <script type=\"text/javascript\">                require([\"plotly\"], function(Plotly) {                    window.PLOTLYENV=window.PLOTLYENV || {};                                    if (document.getElementById(\"87bb259e-2c09-4975-aa68-26f909902a77\")) {                    Plotly.newPlot(                        \"87bb259e-2c09-4975-aa68-26f909902a77\",                        [{\"marker\":{\"color\":\"white\",\"size\":20},\"mode\":\"markers+text\",\"name\":\"Main Node\",\"text\":[\"dxWithMx\"],\"textposition\":\"bottom center\",\"x\":[0],\"y\":[0],\"type\":\"scatter\"},{\"marker\":{\"color\":\"blue\",\"size\":20},\"mode\":\"markers+text\",\"name\":\"Dx object\",\"text\":[\"Dx object\"],\"textposition\":\"bottom center\",\"x\":[1],\"y\":[1],\"type\":\"scatter\"},{\"marker\":{\"color\":\"blue\",\"size\":20},\"mode\":\"markers+text\",\"name\":\"dx.dataFrames\",\"text\":[\"dx.dataFrames\"],\"textposition\":\"bottom center\",\"x\":[2],\"y\":[2],\"type\":\"scatter\"},{\"marker\":{\"color\":\"red\",\"size\":20},\"mode\":\"markers+text\",\"name\":\"Mx object\",\"text\":[\"Mx object\"],\"textposition\":\"bottom center\",\"x\":[1],\"y\":[-1],\"type\":\"scatter\"},{\"marker\":{\"color\":\"red\",\"size\":20},\"mode\":\"markers+text\",\"name\":\"mx.df\",\"text\":[\"mx.df\"],\"textposition\":\"bottom center\",\"x\":[2],\"y\":[-2],\"type\":\"scatter\"},{\"marker\":{\"color\":\"red\",\"size\":20},\"mode\":\"markers+text\",\"name\":\"mx.dfVecAggs\",\"text\":[\"mx.dfVecAggs\"],\"textposition\":\"bottom center\",\"x\":[2],\"y\":[-3],\"type\":\"scatter\"},{\"marker\":{\"color\":\"pink\",\"size\":20},\"mode\":\"markers+text\",\"name\":\"wDirMx\",\"text\":[\"wDirMx\"],\"textposition\":\"bottom center\",\"x\":[1],\"y\":[3],\"type\":\"scatter\"},{\"marker\":{\"color\":\"pink\",\"size\":20},\"mode\":\"markers+text\",\"name\":\"SirCalcXmlFile\",\"text\":[\"SirCalcXmlFile\"],\"textposition\":\"bottom center\",\"x\":[1],\"y\":[4],\"type\":\"scatter\"},{\"marker\":{\"color\":\"pink\",\"size\":20},\"mode\":\"markers+text\",\"name\":\"SirCalcExeFile\",\"text\":[\"SirCalcExeFile\"],\"textposition\":\"bottom center\",\"x\":[1],\"y\":[5],\"type\":\"scatter\"},{\"marker\":{\"color\":\"purple\",\"size\":20},\"mode\":\"markers+text\",\"name\":\"V3_ROHR\",\"text\":[\"V3_ROHR\"],\"textposition\":\"bottom center\",\"x\":[1],\"y\":[6],\"type\":\"scatter\"},{\"marker\":{\"color\":\"purple\",\"size\":20},\"mode\":\"markers+text\",\"name\":\"V3_FWVB\",\"text\":[\"V3_FWVB\"],\"textposition\":\"bottom center\",\"x\":[1],\"y\":[7],\"type\":\"scatter\"},{\"marker\":{\"color\":\"purple\",\"size\":20},\"mode\":\"markers+text\",\"name\":\"V3_KNOT\",\"text\":[\"V3_KNOT\"],\"textposition\":\"bottom center\",\"x\":[1],\"y\":[8],\"type\":\"scatter\"},{\"marker\":{\"color\":\"purple\",\"size\":20},\"mode\":\"markers+text\",\"name\":\"V3_VBEL\",\"text\":[\"V3_VBEL\"],\"textposition\":\"bottom center\",\"x\":[1],\"y\":[9],\"type\":\"scatter\"},{\"marker\":{\"color\":\"purple\",\"size\":20},\"mode\":\"markers+text\",\"name\":\"V3_ROHRVEC\",\"text\":[\"V3_ROHRVEC\"],\"textposition\":\"bottom center\",\"x\":[1],\"y\":[10],\"type\":\"scatter\"},{\"marker\":{\"color\":\"purple\",\"size\":20},\"mode\":\"markers+text\",\"name\":\"V3_AGSN\",\"text\":[\"V3_AGSN\"],\"textposition\":\"bottom center\",\"x\":[1],\"y\":[11],\"type\":\"scatter\"},{\"marker\":{\"color\":\"purple\",\"size\":20},\"mode\":\"markers+text\",\"name\":\"V3_AGSNVEC\",\"text\":[\"V3_AGSNVEC\"],\"textposition\":\"bottom center\",\"x\":[1],\"y\":[12],\"type\":\"scatter\"},{\"marker\":{\"color\":\"orange\",\"size\":20},\"mode\":\"markers+text\",\"name\":\"gdf_ROHR\",\"text\":[\"gdf_ROHR\"],\"textposition\":\"bottom center\",\"x\":[1],\"y\":[13],\"type\":\"scatter\"},{\"marker\":{\"color\":\"orange\",\"size\":20},\"mode\":\"markers+text\",\"name\":\"gdf_FWVB\",\"text\":[\"gdf_FWVB\"],\"textposition\":\"bottom center\",\"x\":[1],\"y\":[14],\"type\":\"scatter\"},{\"marker\":{\"color\":\"orange\",\"size\":20},\"mode\":\"markers+text\",\"name\":\"gdf_KNOT\",\"text\":[\"gdf_KNOT\"],\"textposition\":\"bottom center\",\"x\":[1],\"y\":[15],\"type\":\"scatter\"},{\"marker\":{\"color\":\"lime\",\"size\":20},\"mode\":\"markers+text\",\"name\":\"G\",\"text\":[\"G\"],\"textposition\":\"bottom center\",\"x\":[1],\"y\":[16],\"type\":\"scatter\"},{\"marker\":{\"color\":\"lime\",\"size\":20},\"mode\":\"markers+text\",\"name\":\"GSig\",\"text\":[\"GSig\"],\"textposition\":\"bottom center\",\"x\":[1],\"y\":[17],\"type\":\"scatter\"}],                        {\"template\":{\"data\":{\"histogram2dcontour\":[{\"type\":\"histogram2dcontour\",\"colorbar\":{\"outlinewidth\":0,\"ticks\":\"\"},\"colorscale\":[[0.0,\"#0d0887\"],[0.1111111111111111,\"#46039f\"],[0.2222222222222222,\"#7201a8\"],[0.3333333333333333,\"#9c179e\"],[0.4444444444444444,\"#bd3786\"],[0.5555555555555556,\"#d8576b\"],[0.6666666666666666,\"#ed7953\"],[0.7777777777777778,\"#fb9f3a\"],[0.8888888888888888,\"#fdca26\"],[1.0,\"#f0f921\"]]}],\"choropleth\":[{\"type\":\"choropleth\",\"colorbar\":{\"outlinewidth\":0,\"ticks\":\"\"}}],\"histogram2d\":[{\"type\":\"histogram2d\",\"colorbar\":{\"outlinewidth\":0,\"ticks\":\"\"},\"colorscale\":[[0.0,\"#0d0887\"],[0.1111111111111111,\"#46039f\"],[0.2222222222222222,\"#7201a8\"],[0.3333333333333333,\"#9c179e\"],[0.4444444444444444,\"#bd3786\"],[0.5555555555555556,\"#d8576b\"],[0.6666666666666666,\"#ed7953\"],[0.7777777777777778,\"#fb9f3a\"],[0.8888888888888888,\"#fdca26\"],[1.0,\"#f0f921\"]]}],\"heatmap\":[{\"type\":\"heatmap\",\"colorbar\":{\"outlinewidth\":0,\"ticks\":\"\"},\"colorscale\":[[0.0,\"#0d0887\"],[0.1111111111111111,\"#46039f\"],[0.2222222222222222,\"#7201a8\"],[0.3333333333333333,\"#9c179e\"],[0.4444444444444444,\"#bd3786\"],[0.5555555555555556,\"#d8576b\"],[0.6666666666666666,\"#ed7953\"],[0.7777777777777778,\"#fb9f3a\"],[0.8888888888888888,\"#fdca26\"],[1.0,\"#f0f921\"]]}],\"heatmapgl\":[{\"type\":\"heatmapgl\",\"colorbar\":{\"outlinewidth\":0,\"ticks\":\"\"},\"colorscale\":[[0.0,\"#0d0887\"],[0.1111111111111111,\"#46039f\"],[0.2222222222222222,\"#7201a8\"],[0.3333333333333333,\"#9c179e\"],[0.4444444444444444,\"#bd3786\"],[0.5555555555555556,\"#d8576b\"],[0.6666666666666666,\"#ed7953\"],[0.7777777777777778,\"#fb9f3a\"],[0.8888888888888888,\"#fdca26\"],[1.0,\"#f0f921\"]]}],\"contourcarpet\":[{\"type\":\"contourcarpet\",\"colorbar\":{\"outlinewidth\":0,\"ticks\":\"\"}}],\"contour\":[{\"type\":\"contour\",\"colorbar\":{\"outlinewidth\":0,\"ticks\":\"\"},\"colorscale\":[[0.0,\"#0d0887\"],[0.1111111111111111,\"#46039f\"],[0.2222222222222222,\"#7201a8\"],[0.3333333333333333,\"#9c179e\"],[0.4444444444444444,\"#bd3786\"],[0.5555555555555556,\"#d8576b\"],[0.6666666666666666,\"#ed7953\"],[0.7777777777777778,\"#fb9f3a\"],[0.8888888888888888,\"#fdca26\"],[1.0,\"#f0f921\"]]}],\"surface\":[{\"type\":\"surface\",\"colorbar\":{\"outlinewidth\":0,\"ticks\":\"\"},\"colorscale\":[[0.0,\"#0d0887\"],[0.1111111111111111,\"#46039f\"],[0.2222222222222222,\"#7201a8\"],[0.3333333333333333,\"#9c179e\"],[0.4444444444444444,\"#bd3786\"],[0.5555555555555556,\"#d8576b\"],[0.6666666666666666,\"#ed7953\"],[0.7777777777777778,\"#fb9f3a\"],[0.8888888888888888,\"#fdca26\"],[1.0,\"#f0f921\"]]}],\"mesh3d\":[{\"type\":\"mesh3d\",\"colorbar\":{\"outlinewidth\":0,\"ticks\":\"\"}}],\"scatter\":[{\"fillpattern\":{\"fillmode\":\"overlay\",\"size\":10,\"solidity\":0.2},\"type\":\"scatter\"}],\"parcoords\":[{\"type\":\"parcoords\",\"line\":{\"colorbar\":{\"outlinewidth\":0,\"ticks\":\"\"}}}],\"scatterpolargl\":[{\"type\":\"scatterpolargl\",\"marker\":{\"colorbar\":{\"outlinewidth\":0,\"ticks\":\"\"}}}],\"bar\":[{\"error_x\":{\"color\":\"#2a3f5f\"},\"error_y\":{\"color\":\"#2a3f5f\"},\"marker\":{\"line\":{\"color\":\"#E5ECF6\",\"width\":0.5},\"pattern\":{\"fillmode\":\"overlay\",\"size\":10,\"solidity\":0.2}},\"type\":\"bar\"}],\"scattergeo\":[{\"type\":\"scattergeo\",\"marker\":{\"colorbar\":{\"outlinewidth\":0,\"ticks\":\"\"}}}],\"scatterpolar\":[{\"type\":\"scatterpolar\",\"marker\":{\"colorbar\":{\"outlinewidth\":0,\"ticks\":\"\"}}}],\"histogram\":[{\"marker\":{\"pattern\":{\"fillmode\":\"overlay\",\"size\":10,\"solidity\":0.2}},\"type\":\"histogram\"}],\"scattergl\":[{\"type\":\"scattergl\",\"marker\":{\"colorbar\":{\"outlinewidth\":0,\"ticks\":\"\"}}}],\"scatter3d\":[{\"type\":\"scatter3d\",\"line\":{\"colorbar\":{\"outlinewidth\":0,\"ticks\":\"\"}},\"marker\":{\"colorbar\":{\"outlinewidth\":0,\"ticks\":\"\"}}}],\"scattermapbox\":[{\"type\":\"scattermapbox\",\"marker\":{\"colorbar\":{\"outlinewidth\":0,\"ticks\":\"\"}}}],\"scatterternary\":[{\"type\":\"scatterternary\",\"marker\":{\"colorbar\":{\"outlinewidth\":0,\"ticks\":\"\"}}}],\"scattercarpet\":[{\"type\":\"scattercarpet\",\"marker\":{\"colorbar\":{\"outlinewidth\":0,\"ticks\":\"\"}}}],\"carpet\":[{\"aaxis\":{\"endlinecolor\":\"#2a3f5f\",\"gridcolor\":\"white\",\"linecolor\":\"white\",\"minorgridcolor\":\"white\",\"startlinecolor\":\"#2a3f5f\"},\"baxis\":{\"endlinecolor\":\"#2a3f5f\",\"gridcolor\":\"white\",\"linecolor\":\"white\",\"minorgridcolor\":\"white\",\"startlinecolor\":\"#2a3f5f\"},\"type\":\"carpet\"}],\"table\":[{\"cells\":{\"fill\":{\"color\":\"#EBF0F8\"},\"line\":{\"color\":\"white\"}},\"header\":{\"fill\":{\"color\":\"#C8D4E3\"},\"line\":{\"color\":\"white\"}},\"type\":\"table\"}],\"barpolar\":[{\"marker\":{\"line\":{\"color\":\"#E5ECF6\",\"width\":0.5},\"pattern\":{\"fillmode\":\"overlay\",\"size\":10,\"solidity\":0.2}},\"type\":\"barpolar\"}],\"pie\":[{\"automargin\":true,\"type\":\"pie\"}]},\"layout\":{\"autotypenumbers\":\"strict\",\"colorway\":[\"#636efa\",\"#EF553B\",\"#00cc96\",\"#ab63fa\",\"#FFA15A\",\"#19d3f3\",\"#FF6692\",\"#B6E880\",\"#FF97FF\",\"#FECB52\"],\"font\":{\"color\":\"#2a3f5f\"},\"hovermode\":\"closest\",\"hoverlabel\":{\"align\":\"left\"},\"paper_bgcolor\":\"white\",\"plot_bgcolor\":\"#E5ECF6\",\"polar\":{\"bgcolor\":\"#E5ECF6\",\"angularaxis\":{\"gridcolor\":\"white\",\"linecolor\":\"white\",\"ticks\":\"\"},\"radialaxis\":{\"gridcolor\":\"white\",\"linecolor\":\"white\",\"ticks\":\"\"}},\"ternary\":{\"bgcolor\":\"#E5ECF6\",\"aaxis\":{\"gridcolor\":\"white\",\"linecolor\":\"white\",\"ticks\":\"\"},\"baxis\":{\"gridcolor\":\"white\",\"linecolor\":\"white\",\"ticks\":\"\"},\"caxis\":{\"gridcolor\":\"white\",\"linecolor\":\"white\",\"ticks\":\"\"}},\"coloraxis\":{\"colorbar\":{\"outlinewidth\":0,\"ticks\":\"\"}},\"colorscale\":{\"sequential\":[[0.0,\"#0d0887\"],[0.1111111111111111,\"#46039f\"],[0.2222222222222222,\"#7201a8\"],[0.3333333333333333,\"#9c179e\"],[0.4444444444444444,\"#bd3786\"],[0.5555555555555556,\"#d8576b\"],[0.6666666666666666,\"#ed7953\"],[0.7777777777777778,\"#fb9f3a\"],[0.8888888888888888,\"#fdca26\"],[1.0,\"#f0f921\"]],\"sequentialminus\":[[0.0,\"#0d0887\"],[0.1111111111111111,\"#46039f\"],[0.2222222222222222,\"#7201a8\"],[0.3333333333333333,\"#9c179e\"],[0.4444444444444444,\"#bd3786\"],[0.5555555555555556,\"#d8576b\"],[0.6666666666666666,\"#ed7953\"],[0.7777777777777778,\"#fb9f3a\"],[0.8888888888888888,\"#fdca26\"],[1.0,\"#f0f921\"]],\"diverging\":[[0,\"#8e0152\"],[0.1,\"#c51b7d\"],[0.2,\"#de77ae\"],[0.3,\"#f1b6da\"],[0.4,\"#fde0ef\"],[0.5,\"#f7f7f7\"],[0.6,\"#e6f5d0\"],[0.7,\"#b8e186\"],[0.8,\"#7fbc41\"],[0.9,\"#4d9221\"],[1,\"#276419\"]]},\"xaxis\":{\"gridcolor\":\"white\",\"linecolor\":\"white\",\"ticks\":\"\",\"title\":{\"standoff\":15},\"zerolinecolor\":\"white\",\"automargin\":true,\"zerolinewidth\":2},\"yaxis\":{\"gridcolor\":\"white\",\"linecolor\":\"white\",\"ticks\":\"\",\"title\":{\"standoff\":15},\"zerolinecolor\":\"white\",\"automargin\":true,\"zerolinewidth\":2},\"scene\":{\"xaxis\":{\"backgroundcolor\":\"#E5ECF6\",\"gridcolor\":\"white\",\"linecolor\":\"white\",\"showbackground\":true,\"ticks\":\"\",\"zerolinecolor\":\"white\",\"gridwidth\":2},\"yaxis\":{\"backgroundcolor\":\"#E5ECF6\",\"gridcolor\":\"white\",\"linecolor\":\"white\",\"showbackground\":true,\"ticks\":\"\",\"zerolinecolor\":\"white\",\"gridwidth\":2},\"zaxis\":{\"backgroundcolor\":\"#E5ECF6\",\"gridcolor\":\"white\",\"linecolor\":\"white\",\"showbackground\":true,\"ticks\":\"\",\"zerolinecolor\":\"white\",\"gridwidth\":2}},\"shapedefaults\":{\"line\":{\"color\":\"#2a3f5f\"}},\"annotationdefaults\":{\"arrowcolor\":\"#2a3f5f\",\"arrowhead\":0,\"arrowwidth\":1},\"geo\":{\"bgcolor\":\"white\",\"landcolor\":\"#E5ECF6\",\"subunitcolor\":\"white\",\"showland\":true,\"showlakes\":true,\"lakecolor\":\"white\"},\"title\":{\"x\":0.05},\"mapbox\":{\"style\":\"light\"}}},\"shapes\":[{\"line\":{\"color\":\"black\",\"width\":2},\"type\":\"line\",\"x0\":0,\"x1\":1,\"y0\":0,\"y1\":1},{\"line\":{\"color\":\"black\",\"width\":2},\"type\":\"line\",\"x0\":0,\"x1\":1,\"y0\":0,\"y1\":2},{\"line\":{\"color\":\"black\",\"width\":2},\"type\":\"line\",\"x0\":0,\"x1\":1,\"y0\":0,\"y1\":3},{\"line\":{\"color\":\"black\",\"width\":2},\"type\":\"line\",\"x0\":0,\"x1\":1,\"y0\":0,\"y1\":4},{\"line\":{\"color\":\"black\",\"width\":2},\"type\":\"line\",\"x0\":0,\"x1\":1,\"y0\":0,\"y1\":5},{\"line\":{\"color\":\"black\",\"width\":2},\"type\":\"line\",\"x0\":0,\"x1\":1,\"y0\":0,\"y1\":6},{\"line\":{\"color\":\"black\",\"width\":2},\"type\":\"line\",\"x0\":0,\"x1\":1,\"y0\":0,\"y1\":7},{\"line\":{\"color\":\"black\",\"width\":2},\"type\":\"line\",\"x0\":0,\"x1\":1,\"y0\":0,\"y1\":8},{\"line\":{\"color\":\"black\",\"width\":2},\"type\":\"line\",\"x0\":0,\"x1\":1,\"y0\":0,\"y1\":9},{\"line\":{\"color\":\"black\",\"width\":2},\"type\":\"line\",\"x0\":0,\"x1\":1,\"y0\":0,\"y1\":10},{\"line\":{\"color\":\"black\",\"width\":2},\"type\":\"line\",\"x0\":0,\"x1\":1,\"y0\":0,\"y1\":11},{\"line\":{\"color\":\"black\",\"width\":2},\"type\":\"line\",\"x0\":0,\"x1\":1,\"y0\":0,\"y1\":12},{\"line\":{\"color\":\"black\",\"width\":2},\"type\":\"line\",\"x0\":0,\"x1\":1,\"y0\":0,\"y1\":13},{\"line\":{\"color\":\"black\",\"width\":2},\"type\":\"line\",\"x0\":0,\"x1\":1,\"y0\":0,\"y1\":14},{\"line\":{\"color\":\"black\",\"width\":2},\"type\":\"line\",\"x0\":0,\"x1\":1,\"y0\":0,\"y1\":15},{\"line\":{\"color\":\"black\",\"width\":2},\"type\":\"line\",\"x0\":0,\"x1\":1,\"y0\":0,\"y1\":16},{\"line\":{\"color\":\"black\",\"width\":2},\"type\":\"line\",\"x0\":0,\"x1\":1,\"y0\":0,\"y1\":17},{\"line\":{\"color\":\"black\",\"width\":2},\"type\":\"line\",\"x0\":0,\"x1\":1,\"y0\":0,\"y1\":-1},{\"line\":{\"color\":\"blue\",\"width\":2},\"type\":\"line\",\"x0\":1,\"x1\":2,\"y0\":1,\"y1\":2},{\"line\":{\"color\":\"red\",\"width\":2},\"type\":\"line\",\"x0\":1,\"x1\":2,\"y0\":-1,\"y1\":-2},{\"line\":{\"color\":\"red\",\"width\":2},\"type\":\"line\",\"x0\":1,\"x1\":2,\"y0\":-1,\"y1\":-3},{\"line\":{\"color\":\"blue\",\"width\":2},\"type\":\"line\",\"x0\":1,\"x1\":2,\"y0\":1,\"y1\":2},{\"line\":{\"color\":\"red\",\"width\":2},\"type\":\"line\",\"x0\":1,\"x1\":2,\"y0\":-1,\"y1\":-2},{\"line\":{\"color\":\"red\",\"width\":2},\"type\":\"line\",\"x0\":1,\"x1\":2,\"y0\":-1,\"y1\":-3}],\"xaxis\":{\"showgrid\":false,\"zeroline\":false,\"visible\":false},\"yaxis\":{\"showgrid\":false,\"zeroline\":false,\"visible\":false},\"title\":{},\"showlegend\":false,\"autosize\":false,\"width\":800,\"height\":1200},                        {\"responsive\": true}                    ).then(function(){\n",
       "                            \n",
       "var gd = document.getElementById('87bb259e-2c09-4975-aa68-26f909902a77');\n",
       "var x = new MutationObserver(function (mutations, observer) {{\n",
       "        var display = window.getComputedStyle(gd).display;\n",
       "        if (!display || display === 'none') {{\n",
       "            console.log([gd, 'removed!']);\n",
       "            Plotly.purge(gd);\n",
       "            observer.disconnect();\n",
       "        }}\n",
       "}});\n",
       "\n",
       "// Listen for the removal of the full notebook cells\n",
       "var notebookContainer = gd.closest('#notebook-container');\n",
       "if (notebookContainer) {{\n",
       "    x.observe(notebookContainer, {childList: true});\n",
       "}}\n",
       "\n",
       "// Listen for the clearing of the current output cell\n",
       "var outputEl = gd.closest('.output');\n",
       "if (outputEl) {{\n",
       "    x.observe(outputEl, {childList: true});\n",
       "}}\n",
       "\n",
       "                        })                };                });            </script>        </div>"
      ]
     },
     "metadata": {},
     "output_type": "display_data"
    }
   ],
   "source": [
    "import plotly.graph_objects as go\n",
    "\n",
    "fig = go.Figure()\n",
    "\n",
    "# Main node\n",
    "fig.add_trace(go.Scatter(x=[0], y=[0], mode='markers+text', text=['dxWithMx'], textposition='bottom center', marker=dict(size=20, color='white'), name='Main Node'))\n",
    "\n",
    "# Dx object and its attributes\n",
    "fig.add_trace(go.Scatter(x=[1], y=[1], mode='markers+text', text=['Dx object'], textposition='bottom center', marker=dict(size=20, color='blue'), name='Dx object'))\n",
    "fig.add_trace(go.Scatter(x=[2], y=[2], mode='markers+text', text=['dx.dataFrames'], textposition='bottom center', marker=dict(size=20, color='blue'), name='dx.dataFrames'))\n",
    "\n",
    "# Mx object and its attributes\n",
    "fig.add_trace(go.Scatter(x=[1], y=[-1], mode='markers+text', text=['Mx object'], textposition='bottom center', marker=dict(size=20, color='red'), name='Mx object'))\n",
    "fig.add_trace(go.Scatter(x=[2], y=[-2], mode='markers+text', text=['mx.df'], textposition='bottom center', marker=dict(size=20, color='red'), name='mx.df'))\n",
    "fig.add_trace(go.Scatter(x=[2], y=[-3], mode='markers+text', text=['mx.dfVecAggs'], textposition='bottom center', marker=dict(size=20, color='red'), name='mx.dfVecAggs'))\n",
    "\n",
    "# Miscellaneous attributes\n",
    "fig.add_trace(go.Scatter(x=[1], y=[3], mode='markers+text', text=['wDirMx'], textposition='bottom center', marker=dict(size=20, color='pink'), name='wDirMx'))\n",
    "fig.add_trace(go.Scatter(x=[1], y=[4], mode='markers+text', text=['SirCalcXmlFile'], textposition='bottom center', marker=dict(size=20, color='pink'), name='SirCalcXmlFile'))\n",
    "fig.add_trace(go.Scatter(x=[1], y=[5], mode='markers+text', text=['SirCalcExeFile'], textposition='bottom center', marker=dict(size=20, color='pink'), name='SirCalcExeFile'))\n",
    "\n",
    "# pandas-Dfs with Model AND Result Data\n",
    "fig.add_trace(go.Scatter(x=[1], y=[6], mode='markers+text', text=['V3_ROHR'], textposition='bottom center', marker=dict(size=20, color='purple'), name='V3_ROHR'))\n",
    "fig.add_trace(go.Scatter(x=[1], y=[7], mode='markers+text', text=['V3_FWVB'], textposition='bottom center', marker=dict(size=20, color='purple'), name='V3_FWVB'))\n",
    "fig.add_trace(go.Scatter(x=[1], y=[8], mode='markers+text', text=['V3_KNOT'], textposition='bottom center', marker=dict(size=20, color='purple'), name='V3_KNOT'))\n",
    "fig.add_trace(go.Scatter(x=[1], y=[9], mode='markers+text', text=['V3_VBEL'], textposition='bottom center', marker=dict(size=20, color='purple'), name='V3_VBEL'))\n",
    "fig.add_trace(go.Scatter(x=[1], y=[10], mode='markers+text', text=['V3_ROHRVEC'], textposition='bottom center', marker=dict(size=20, color='purple'), name='V3_ROHRVEC'))\n",
    "fig.add_trace(go.Scatter(x=[1], y=[11], mode='markers+text', text=['V3_AGSN'], textposition='bottom center', marker=dict(size=20, color='purple'), name='V3_AGSN'))\n",
    "fig.add_trace(go.Scatter(x=[1], y=[12], mode='markers+text', text=['V3_AGSNVEC'], textposition='bottom center', marker=dict(size=20, color='purple'), name='V3_AGSNVEC'))\n",
    "\n",
    "# geopandas-Dfs\n",
    "fig.add_trace(go.Scatter(x=[1], y=[13], mode='markers+text', text=['gdf_ROHR'], textposition='bottom center', marker=dict(size=20, color='orange'), name='gdf_ROHR'))\n",
    "fig.add_trace(go.Scatter(x=[1], y=[14], mode='markers+text', text=['gdf_FWVB'], textposition='bottom center', marker=dict(size=20, color='orange'), name='gdf_FWVB'))\n",
    "fig.add_trace(go.Scatter(x=[1], y=[15], mode='markers+text', text=['gdf_KNOT'], textposition='bottom center', marker=dict(size=20, color='orange'), name='gdf_KNOT'))\n",
    "\n",
    "# NetworkX-Graphs\n",
    "fig.add_trace(go.Scatter(x=[1], y=[16], mode='markers+text', text=['G'], textposition='bottom center', marker=dict(size=20, color='lime'), name='G'))\n",
    "fig.add_trace(go.Scatter(x=[1], y=[17], mode='markers+text', text=['GSig'], textposition='bottom center', marker=dict(size=20, color='lime'), name='GSig'))\n",
    "\n",
    "# Branches\n",
    "for i in range(1, 18):\n",
    "    fig.add_shape(type='line', x0=0, y0=0, x1=1, y1=i, line=dict(color='black', width=2))\n",
    "\n",
    "# Add edges between dxWithMx and mx\n",
    "fig.add_shape(type='line', x0=0, y0=0, x1=1, y1=-1, line=dict(color='black', width=2))\n",
    "\n",
    "# Add edges between Dx object and its children\n",
    "fig.add_shape(type='line', x0=1, y0=1, x1=2, y1=2, line=dict(color='blue', width=2))\n",
    "\n",
    "# Add edges between Mx object and its children\n",
    "fig.add_shape(type='line', x0=1, y0=-1, x1=2, y1=-2, line=dict(color='red', width=2))\n",
    "fig.add_shape(type='line', x0=1, y0=-1, x1=2, y1=-3, line=dict(color='red', width=2))\n",
    "\n",
    "# Connect Dx object with its child attributes\n",
    "fig.add_shape(type='line', x0=1, y0=1, x1=2, y1=2, line=dict(color='blue', width=2))\n",
    "\n",
    "# Connect Mx object with its child attributes\n",
    "fig.add_shape(type='line', x0=1, y0=-1, x1=2, y1=-2, line=dict(color='red', width=2))\n",
    "fig.add_shape(type='line', x0=1, y0=-1, x1=2, y1=-3, line=dict(color='red', width=2))\n",
    "\n",
    "# Set layout\n",
    "fig.update_layout(\n",
    "    title=None,\n",
    "    xaxis=dict(showgrid=False, zeroline=False, visible=False),\n",
    "    yaxis=dict(showgrid=False, zeroline=False, visible=False),\n",
    "    showlegend=False,\n",
    "    autosize=False,\n",
    "    width=800,\n",
    "    height=1200,\n",
    ")\n",
    "fig.write_html('interactive_diagram.html')\n",
    "# Display the figure\n",
    "fig.show()"
   ]
  },
  {
   "cell_type": "markdown",
   "id": "896d5dcc-8fb3-41aa-869c-91ea479bf757",
   "metadata": {},
   "source": [
    "# Diagram 5"
   ]
  },
  {
   "cell_type": "code",
   "execution_count": 26,
   "id": "c10e11b1-1eb8-4a27-b3b7-a7520aa29c57",
   "metadata": {},
   "outputs": [],
   "source": [
    "dbFilename=\"Example1\"\n",
    "dbFile=os.path.join(os.path.dirname(os.path.abspath(dxAndMxHelperFcts.__file__))\n",
    "                    +'/Examples/'\n",
    "                    +dbFilename\n",
    "                    +'.db3'\n",
    ")"
   ]
  },
  {
   "cell_type": "code",
   "execution_count": 72,
   "id": "4f2bfc08-ef9f-447b-b51c-9e912569c61a",
   "metadata": {},
   "outputs": [],
   "source": [
    "m=dxAndMxHelperFcts.readDxAndMx(dbFile=dbFile                                 \n",
    "                                ,preventPklDump=True\n",
    ")"
   ]
  },
  {
   "cell_type": "code",
   "execution_count": 61,
   "id": "0be11d85-d8ca-4aaa-a281-795117f2b8f4",
   "metadata": {},
   "outputs": [
    {
     "data": {
      "application/vnd.plotly.v1+json": {
       "config": {
        "plotlyServerURL": "https://plot.ly"
       },
       "data": [
        {
         "hoverinfo": "none",
         "line": {
          "color": "#888",
          "width": 2
         },
         "mode": "lines",
         "type": "scatter",
         "x": [
          -0.17226747709919324,
          -0.6657667928516304,
          null,
          -0.17226747709919324,
          0.41827877532128843,
          null,
          -0.17226747709919324,
          0.511951719683721,
          null,
          -0.17226747709919324,
          -0.8812889276305461,
          null,
          -0.17226747709919324,
          -0.31560405697098054,
          null,
          0.511951719683721,
          0.9660021721050408,
          null,
          0.511951719683721,
          0.05914954008260298,
          null,
          -0.006313752276631875,
          -0.4440926963448381,
          null,
          -0.006313752276631875,
          0.8525077558761418,
          null,
          -0.006313752276631875,
          0.47586253936146305,
          null,
          -0.006313752276631875,
          -0.596199710555048,
          null,
          -0.006313752276631875,
          -0.09462314216131207,
          null,
          -0.006313752276631875,
          -0.20551048821642848,
          null,
          -0.006313752276631875,
          -0.17048597591479617,
          null,
          -0.006313752276631875,
          -0.5576196036918238,
          null,
          -0.006313752276631875,
          0.5426091273475192,
          null,
          -0.09462314216131207,
          -0.8031836282064131,
          null,
          -0.09462314216131207,
          0.6152026978194337,
          null,
          -0.5576196036918238,
          -0.45442400643759834,
          null,
          -0.5576196036918238,
          -0.9192046907785536,
          null,
          0.5426091273475192,
          0.5699601541724247,
          null,
          0.5426091273475192,
          0.7402419476613062,
          null,
          -0.14974008700464486,
          0.35569131026003986,
          null,
          -0.14974008700464486,
          -0.9916605686172,
          null,
          -0.14974008700464486,
          -0.8685443278321291,
          null,
          -0.14974008700464486,
          -0.5681641696611816,
          null,
          -0.14974008700464486,
          0.9096040213475861,
          null,
          0.05657728793871866,
          -0.17226747709919324,
          null,
          0.05657728793871866,
          -0.9356448906844406,
          null,
          0.05657728793871866,
          0.8529766796331344,
          null,
          0.05657728793871866,
          0.8664467400135744,
          null,
          0.05657728793871866,
          0.9422056979118495,
          null,
          0.05657728793871866,
          -0.7479736011187699,
          null,
          0.05657728793871866,
          -0.03774513025582362,
          null,
          0.05657728793871866,
          0.8389554357901058,
          null,
          0.05657728793871866,
          -0.04867788036411996,
          null,
          0.05657728793871866,
          -0.3301436073783541,
          null,
          0.05657728793871866,
          -0.739485910921857,
          null,
          0.05657728793871866,
          0.800572411891889,
          null,
          0.05657728793871866,
          -0.9221328937080749,
          null,
          0.05657728793871866,
          0.8004337361838832,
          null,
          0.05657728793871866,
          -0.006313752276631875,
          null,
          0.05657728793871866,
          0.21592847975496635,
          null,
          0.05657728793871866,
          0.7506534457955302,
          null,
          0.05657728793871866,
          0.2694662300276074,
          null,
          0.05657728793871866,
          0.11399417271110693,
          null,
          0.05657728793871866,
          -0.14974008700464486,
          null,
          0.05657728793871866,
          -0.8987740620085429,
          null
         ],
         "y": [
          -0.27173212790701307,
          -0.6836779962025241,
          null,
          -0.27173212790701307,
          -0.8874450820108,
          null,
          -0.27173212790701307,
          0.2902817868005671,
          null,
          -0.27173212790701307,
          0.420906211962581,
          null,
          -0.27173212790701307,
          -0.8919962841041377,
          null,
          0.2902817868005671,
          -0.3757702425924782,
          null,
          0.2902817868005671,
          0.956594560491399,
          null,
          0.019973787845550643,
          -0.7638229886067792,
          null,
          0.019973787845550643,
          -0.33505657708240144,
          null,
          0.019973787845550643,
          0.8264670289574194,
          null,
          0.019973787845550643,
          0.7662907623291988,
          null,
          0.019973787845550643,
          0.07606704025926014,
          null,
          0.019973787845550643,
          -0.9999999999999999,
          null,
          0.019973787845550643,
          0.928564968570329,
          null,
          0.019973787845550643,
          0.4401333201273142,
          null,
          0.019973787845550643,
          -0.6005738213541058,
          null,
          0.07606704025926014,
          -0.6089805292063838,
          null,
          0.07606704025926014,
          0.7602476687310934,
          null,
          0.4401333201273142,
          0.8345076132331216,
          null,
          0.4401333201273142,
          0.25192408095013924,
          null,
          -0.6005738213541058,
          -0.8012746742642629,
          null,
          -0.6005738213541058,
          -0.6876141083598161,
          null,
          -0.020049775889045898,
          0.9324959638357442,
          null,
          -0.020049775889045898,
          -0.18182740555163393,
          null,
          -0.020049775889045898,
          -0.32972144457826885,
          null,
          -0.020049775889045898,
          -0.8497054404176533,
          null,
          -0.020049775889045898,
          0.09731488539073645,
          null,
          0.053108318435920475,
          -0.27173212790701307,
          null,
          0.053108318435920475,
          -0.04854686697959678,
          null,
          0.053108318435920475,
          0.38884218881686006,
          null,
          0.053108318435920475,
          0.5246881471732532,
          null,
          0.053108318435920475,
          -0.08044188642244306,
          null,
          0.053108318435920475,
          0.5145673203296791,
          null,
          0.053108318435920475,
          -0.9853640371387167,
          null,
          0.053108318435920475,
          0.24145633840043587,
          null,
          0.053108318435920475,
          0.8545839872629731,
          null,
          0.053108318435920475,
          0.9296726521067109,
          null,
          0.053108318435920475,
          0.6735814761076272,
          null,
          0.053108318435920475,
          -0.531820147938158,
          null,
          0.053108318435920475,
          -0.46761721095934944,
          null,
          0.053108318435920475,
          -0.15077840950500865,
          null,
          0.053108318435920475,
          0.019973787845550643,
          null,
          0.053108318435920475,
          0.9028622259223903,
          null,
          0.053108318435920475,
          0.673195283022616,
          null,
          0.053108318435920475,
          -0.9572278264062541,
          null,
          0.053108318435920475,
          -0.947480205922529,
          null,
          0.053108318435920475,
          -0.020049775889045898,
          null,
          0.053108318435920475,
          0.10019747233644065,
          null
         ]
        },
        {
         "hoverinfo": "text",
         "marker": {
          "colorbar": {
           "thickness": 15,
           "title": {
            "side": "right",
            "text": "Node Connections"
           },
           "xanchor": "left"
          },
          "colorscale": [
           [
            0,
            "rgb(255,255,217)"
           ],
           [
            0.125,
            "rgb(237,248,177)"
           ],
           [
            0.25,
            "rgb(199,233,180)"
           ],
           [
            0.375,
            "rgb(127,205,187)"
           ],
           [
            0.5,
            "rgb(65,182,196)"
           ],
           [
            0.625,
            "rgb(29,145,192)"
           ],
           [
            0.75,
            "rgb(34,94,168)"
           ],
           [
            0.875,
            "rgb(37,52,148)"
           ],
           [
            1,
            "rgb(8,29,88)"
           ]
          ],
          "line": {
           "width": 2
          },
          "showscale": true,
          "size": 10
         },
         "mode": "markers+text",
         "text": [
          "G",
          "G._adj",
          "G._node",
          "G.adj",
          "G.adj._abc_impl",
          "G.adj._atlas",
          "G.graph",
          "G.name",
          "GSig",
          "GSig._adj",
          "GSig._node",
          "GSig._pred",
          "GSig._succ",
          "GSig.adj",
          "GSig.adj._abc_impl",
          "GSig.adj._atlas",
          "GSig.graph",
          "GSig.name",
          "GSig.pred",
          "GSig.pred._abc_impl",
          "GSig.pred._atlas",
          "GSig.succ",
          "GSig.succ._abc_impl",
          "GSig.succ._atlas",
          "dx",
          "dx.QGISmodelXk",
          "dx.dataFrames",
          "dx.dbFile",
          "dx.dfLAYR",
          "dx.viewSets",
          "dxWithMx",
          "flowMVEC",
          "SirCalcXmlFile",
          "dfAGSN",
          "mx",
          "dfWBLZ",
          "gdf_ROHR",
          "V3_KNOT",
          "V3_ROHRVEC",
          "gdf_FWVB",
          "V3_AGSNVEC",
          "gdf_KNOT",
          "V3_ROHR",
          "wDirMx",
          "V3_VBEL",
          "nodeposDctNx",
          "V3_FWVB",
          "V3_AGSN",
          "V3_WBLZ"
         ],
         "textposition": "bottom center",
         "type": "scatter",
         "x": [
          -0.17226747709919324,
          -0.6657667928516304,
          0.41827877532128843,
          0.511951719683721,
          0.9660021721050408,
          0.05914954008260298,
          -0.8812889276305461,
          -0.31560405697098054,
          -0.006313752276631875,
          -0.4440926963448381,
          0.8525077558761418,
          0.47586253936146305,
          -0.596199710555048,
          -0.09462314216131207,
          -0.8031836282064131,
          0.6152026978194337,
          -0.20551048821642848,
          -0.17048597591479617,
          -0.5576196036918238,
          -0.45442400643759834,
          -0.9192046907785536,
          0.5426091273475192,
          0.5699601541724247,
          0.7402419476613062,
          -0.14974008700464486,
          0.35569131026003986,
          -0.9916605686172,
          -0.8685443278321291,
          -0.5681641696611816,
          0.9096040213475861,
          0.05657728793871866,
          -0.9356448906844406,
          0.8529766796331344,
          0.8664467400135744,
          0.9422056979118495,
          -0.7479736011187699,
          -0.03774513025582362,
          0.8389554357901058,
          -0.04867788036411996,
          -0.3301436073783541,
          -0.739485910921857,
          0.800572411891889,
          -0.9221328937080749,
          0.8004337361838832,
          0.21592847975496635,
          0.7506534457955302,
          0.2694662300276074,
          0.11399417271110693,
          -0.8987740620085429
         ],
         "y": [
          -0.27173212790701307,
          -0.6836779962025241,
          -0.8874450820108,
          0.2902817868005671,
          -0.3757702425924782,
          0.956594560491399,
          0.420906211962581,
          -0.8919962841041377,
          0.019973787845550643,
          -0.7638229886067792,
          -0.33505657708240144,
          0.8264670289574194,
          0.7662907623291988,
          0.07606704025926014,
          -0.6089805292063838,
          0.7602476687310934,
          -0.9999999999999999,
          0.928564968570329,
          0.4401333201273142,
          0.8345076132331216,
          0.25192408095013924,
          -0.6005738213541058,
          -0.8012746742642629,
          -0.6876141083598161,
          -0.020049775889045898,
          0.9324959638357442,
          -0.18182740555163393,
          -0.32972144457826885,
          -0.8497054404176533,
          0.09731488539073645,
          0.053108318435920475,
          -0.04854686697959678,
          0.38884218881686006,
          0.5246881471732532,
          -0.08044188642244306,
          0.5145673203296791,
          -0.9853640371387167,
          0.24145633840043587,
          0.8545839872629731,
          0.9296726521067109,
          0.6735814761076272,
          -0.531820147938158,
          -0.46761721095934944,
          -0.15077840950500865,
          0.9028622259223903,
          0.673195283022616,
          -0.9572278264062541,
          -0.947480205922529,
          0.10019747233644065
         ]
        }
       ],
       "layout": {
        "annotations": [
         {
          "showarrow": false,
          "text": "",
          "xref": "paper",
          "yref": "paper"
         }
        ],
        "autosize": true,
        "hovermode": "closest",
        "margin": {
         "b": 20,
         "l": 5,
         "r": 5,
         "t": 40
        },
        "showlegend": false,
        "template": {
         "data": {
          "bar": [
           {
            "error_x": {
             "color": "#2a3f5f"
            },
            "error_y": {
             "color": "#2a3f5f"
            },
            "marker": {
             "line": {
              "color": "#E5ECF6",
              "width": 0.5
             },
             "pattern": {
              "fillmode": "overlay",
              "size": 10,
              "solidity": 0.2
             }
            },
            "type": "bar"
           }
          ],
          "barpolar": [
           {
            "marker": {
             "line": {
              "color": "#E5ECF6",
              "width": 0.5
             },
             "pattern": {
              "fillmode": "overlay",
              "size": 10,
              "solidity": 0.2
             }
            },
            "type": "barpolar"
           }
          ],
          "carpet": [
           {
            "aaxis": {
             "endlinecolor": "#2a3f5f",
             "gridcolor": "white",
             "linecolor": "white",
             "minorgridcolor": "white",
             "startlinecolor": "#2a3f5f"
            },
            "baxis": {
             "endlinecolor": "#2a3f5f",
             "gridcolor": "white",
             "linecolor": "white",
             "minorgridcolor": "white",
             "startlinecolor": "#2a3f5f"
            },
            "type": "carpet"
           }
          ],
          "choropleth": [
           {
            "colorbar": {
             "outlinewidth": 0,
             "ticks": ""
            },
            "type": "choropleth"
           }
          ],
          "contour": [
           {
            "colorbar": {
             "outlinewidth": 0,
             "ticks": ""
            },
            "colorscale": [
             [
              0,
              "#0d0887"
             ],
             [
              0.1111111111111111,
              "#46039f"
             ],
             [
              0.2222222222222222,
              "#7201a8"
             ],
             [
              0.3333333333333333,
              "#9c179e"
             ],
             [
              0.4444444444444444,
              "#bd3786"
             ],
             [
              0.5555555555555556,
              "#d8576b"
             ],
             [
              0.6666666666666666,
              "#ed7953"
             ],
             [
              0.7777777777777778,
              "#fb9f3a"
             ],
             [
              0.8888888888888888,
              "#fdca26"
             ],
             [
              1,
              "#f0f921"
             ]
            ],
            "type": "contour"
           }
          ],
          "contourcarpet": [
           {
            "colorbar": {
             "outlinewidth": 0,
             "ticks": ""
            },
            "type": "contourcarpet"
           }
          ],
          "heatmap": [
           {
            "colorbar": {
             "outlinewidth": 0,
             "ticks": ""
            },
            "colorscale": [
             [
              0,
              "#0d0887"
             ],
             [
              0.1111111111111111,
              "#46039f"
             ],
             [
              0.2222222222222222,
              "#7201a8"
             ],
             [
              0.3333333333333333,
              "#9c179e"
             ],
             [
              0.4444444444444444,
              "#bd3786"
             ],
             [
              0.5555555555555556,
              "#d8576b"
             ],
             [
              0.6666666666666666,
              "#ed7953"
             ],
             [
              0.7777777777777778,
              "#fb9f3a"
             ],
             [
              0.8888888888888888,
              "#fdca26"
             ],
             [
              1,
              "#f0f921"
             ]
            ],
            "type": "heatmap"
           }
          ],
          "heatmapgl": [
           {
            "colorbar": {
             "outlinewidth": 0,
             "ticks": ""
            },
            "colorscale": [
             [
              0,
              "#0d0887"
             ],
             [
              0.1111111111111111,
              "#46039f"
             ],
             [
              0.2222222222222222,
              "#7201a8"
             ],
             [
              0.3333333333333333,
              "#9c179e"
             ],
             [
              0.4444444444444444,
              "#bd3786"
             ],
             [
              0.5555555555555556,
              "#d8576b"
             ],
             [
              0.6666666666666666,
              "#ed7953"
             ],
             [
              0.7777777777777778,
              "#fb9f3a"
             ],
             [
              0.8888888888888888,
              "#fdca26"
             ],
             [
              1,
              "#f0f921"
             ]
            ],
            "type": "heatmapgl"
           }
          ],
          "histogram": [
           {
            "marker": {
             "pattern": {
              "fillmode": "overlay",
              "size": 10,
              "solidity": 0.2
             }
            },
            "type": "histogram"
           }
          ],
          "histogram2d": [
           {
            "colorbar": {
             "outlinewidth": 0,
             "ticks": ""
            },
            "colorscale": [
             [
              0,
              "#0d0887"
             ],
             [
              0.1111111111111111,
              "#46039f"
             ],
             [
              0.2222222222222222,
              "#7201a8"
             ],
             [
              0.3333333333333333,
              "#9c179e"
             ],
             [
              0.4444444444444444,
              "#bd3786"
             ],
             [
              0.5555555555555556,
              "#d8576b"
             ],
             [
              0.6666666666666666,
              "#ed7953"
             ],
             [
              0.7777777777777778,
              "#fb9f3a"
             ],
             [
              0.8888888888888888,
              "#fdca26"
             ],
             [
              1,
              "#f0f921"
             ]
            ],
            "type": "histogram2d"
           }
          ],
          "histogram2dcontour": [
           {
            "colorbar": {
             "outlinewidth": 0,
             "ticks": ""
            },
            "colorscale": [
             [
              0,
              "#0d0887"
             ],
             [
              0.1111111111111111,
              "#46039f"
             ],
             [
              0.2222222222222222,
              "#7201a8"
             ],
             [
              0.3333333333333333,
              "#9c179e"
             ],
             [
              0.4444444444444444,
              "#bd3786"
             ],
             [
              0.5555555555555556,
              "#d8576b"
             ],
             [
              0.6666666666666666,
              "#ed7953"
             ],
             [
              0.7777777777777778,
              "#fb9f3a"
             ],
             [
              0.8888888888888888,
              "#fdca26"
             ],
             [
              1,
              "#f0f921"
             ]
            ],
            "type": "histogram2dcontour"
           }
          ],
          "mesh3d": [
           {
            "colorbar": {
             "outlinewidth": 0,
             "ticks": ""
            },
            "type": "mesh3d"
           }
          ],
          "parcoords": [
           {
            "line": {
             "colorbar": {
              "outlinewidth": 0,
              "ticks": ""
             }
            },
            "type": "parcoords"
           }
          ],
          "pie": [
           {
            "automargin": true,
            "type": "pie"
           }
          ],
          "scatter": [
           {
            "fillpattern": {
             "fillmode": "overlay",
             "size": 10,
             "solidity": 0.2
            },
            "type": "scatter"
           }
          ],
          "scatter3d": [
           {
            "line": {
             "colorbar": {
              "outlinewidth": 0,
              "ticks": ""
             }
            },
            "marker": {
             "colorbar": {
              "outlinewidth": 0,
              "ticks": ""
             }
            },
            "type": "scatter3d"
           }
          ],
          "scattercarpet": [
           {
            "marker": {
             "colorbar": {
              "outlinewidth": 0,
              "ticks": ""
             }
            },
            "type": "scattercarpet"
           }
          ],
          "scattergeo": [
           {
            "marker": {
             "colorbar": {
              "outlinewidth": 0,
              "ticks": ""
             }
            },
            "type": "scattergeo"
           }
          ],
          "scattergl": [
           {
            "marker": {
             "colorbar": {
              "outlinewidth": 0,
              "ticks": ""
             }
            },
            "type": "scattergl"
           }
          ],
          "scattermapbox": [
           {
            "marker": {
             "colorbar": {
              "outlinewidth": 0,
              "ticks": ""
             }
            },
            "type": "scattermapbox"
           }
          ],
          "scatterpolar": [
           {
            "marker": {
             "colorbar": {
              "outlinewidth": 0,
              "ticks": ""
             }
            },
            "type": "scatterpolar"
           }
          ],
          "scatterpolargl": [
           {
            "marker": {
             "colorbar": {
              "outlinewidth": 0,
              "ticks": ""
             }
            },
            "type": "scatterpolargl"
           }
          ],
          "scatterternary": [
           {
            "marker": {
             "colorbar": {
              "outlinewidth": 0,
              "ticks": ""
             }
            },
            "type": "scatterternary"
           }
          ],
          "surface": [
           {
            "colorbar": {
             "outlinewidth": 0,
             "ticks": ""
            },
            "colorscale": [
             [
              0,
              "#0d0887"
             ],
             [
              0.1111111111111111,
              "#46039f"
             ],
             [
              0.2222222222222222,
              "#7201a8"
             ],
             [
              0.3333333333333333,
              "#9c179e"
             ],
             [
              0.4444444444444444,
              "#bd3786"
             ],
             [
              0.5555555555555556,
              "#d8576b"
             ],
             [
              0.6666666666666666,
              "#ed7953"
             ],
             [
              0.7777777777777778,
              "#fb9f3a"
             ],
             [
              0.8888888888888888,
              "#fdca26"
             ],
             [
              1,
              "#f0f921"
             ]
            ],
            "type": "surface"
           }
          ],
          "table": [
           {
            "cells": {
             "fill": {
              "color": "#EBF0F8"
             },
             "line": {
              "color": "white"
             }
            },
            "header": {
             "fill": {
              "color": "#C8D4E3"
             },
             "line": {
              "color": "white"
             }
            },
            "type": "table"
           }
          ]
         },
         "layout": {
          "annotationdefaults": {
           "arrowcolor": "#2a3f5f",
           "arrowhead": 0,
           "arrowwidth": 1
          },
          "autotypenumbers": "strict",
          "coloraxis": {
           "colorbar": {
            "outlinewidth": 0,
            "ticks": ""
           }
          },
          "colorscale": {
           "diverging": [
            [
             0,
             "#8e0152"
            ],
            [
             0.1,
             "#c51b7d"
            ],
            [
             0.2,
             "#de77ae"
            ],
            [
             0.3,
             "#f1b6da"
            ],
            [
             0.4,
             "#fde0ef"
            ],
            [
             0.5,
             "#f7f7f7"
            ],
            [
             0.6,
             "#e6f5d0"
            ],
            [
             0.7,
             "#b8e186"
            ],
            [
             0.8,
             "#7fbc41"
            ],
            [
             0.9,
             "#4d9221"
            ],
            [
             1,
             "#276419"
            ]
           ],
           "sequential": [
            [
             0,
             "#0d0887"
            ],
            [
             0.1111111111111111,
             "#46039f"
            ],
            [
             0.2222222222222222,
             "#7201a8"
            ],
            [
             0.3333333333333333,
             "#9c179e"
            ],
            [
             0.4444444444444444,
             "#bd3786"
            ],
            [
             0.5555555555555556,
             "#d8576b"
            ],
            [
             0.6666666666666666,
             "#ed7953"
            ],
            [
             0.7777777777777778,
             "#fb9f3a"
            ],
            [
             0.8888888888888888,
             "#fdca26"
            ],
            [
             1,
             "#f0f921"
            ]
           ],
           "sequentialminus": [
            [
             0,
             "#0d0887"
            ],
            [
             0.1111111111111111,
             "#46039f"
            ],
            [
             0.2222222222222222,
             "#7201a8"
            ],
            [
             0.3333333333333333,
             "#9c179e"
            ],
            [
             0.4444444444444444,
             "#bd3786"
            ],
            [
             0.5555555555555556,
             "#d8576b"
            ],
            [
             0.6666666666666666,
             "#ed7953"
            ],
            [
             0.7777777777777778,
             "#fb9f3a"
            ],
            [
             0.8888888888888888,
             "#fdca26"
            ],
            [
             1,
             "#f0f921"
            ]
           ]
          },
          "colorway": [
           "#636efa",
           "#EF553B",
           "#00cc96",
           "#ab63fa",
           "#FFA15A",
           "#19d3f3",
           "#FF6692",
           "#B6E880",
           "#FF97FF",
           "#FECB52"
          ],
          "font": {
           "color": "#2a3f5f"
          },
          "geo": {
           "bgcolor": "white",
           "lakecolor": "white",
           "landcolor": "#E5ECF6",
           "showlakes": true,
           "showland": true,
           "subunitcolor": "white"
          },
          "hoverlabel": {
           "align": "left"
          },
          "hovermode": "closest",
          "mapbox": {
           "style": "light"
          },
          "paper_bgcolor": "white",
          "plot_bgcolor": "#E5ECF6",
          "polar": {
           "angularaxis": {
            "gridcolor": "white",
            "linecolor": "white",
            "ticks": ""
           },
           "bgcolor": "#E5ECF6",
           "radialaxis": {
            "gridcolor": "white",
            "linecolor": "white",
            "ticks": ""
           }
          },
          "scene": {
           "xaxis": {
            "backgroundcolor": "#E5ECF6",
            "gridcolor": "white",
            "gridwidth": 2,
            "linecolor": "white",
            "showbackground": true,
            "ticks": "",
            "zerolinecolor": "white"
           },
           "yaxis": {
            "backgroundcolor": "#E5ECF6",
            "gridcolor": "white",
            "gridwidth": 2,
            "linecolor": "white",
            "showbackground": true,
            "ticks": "",
            "zerolinecolor": "white"
           },
           "zaxis": {
            "backgroundcolor": "#E5ECF6",
            "gridcolor": "white",
            "gridwidth": 2,
            "linecolor": "white",
            "showbackground": true,
            "ticks": "",
            "zerolinecolor": "white"
           }
          },
          "shapedefaults": {
           "line": {
            "color": "#2a3f5f"
           }
          },
          "ternary": {
           "aaxis": {
            "gridcolor": "white",
            "linecolor": "white",
            "ticks": ""
           },
           "baxis": {
            "gridcolor": "white",
            "linecolor": "white",
            "ticks": ""
           },
           "bgcolor": "#E5ECF6",
           "caxis": {
            "gridcolor": "white",
            "linecolor": "white",
            "ticks": ""
           }
          },
          "title": {
           "x": 0.05
          },
          "xaxis": {
           "automargin": true,
           "gridcolor": "white",
           "linecolor": "white",
           "ticks": "",
           "title": {
            "standoff": 15
           },
           "zerolinecolor": "white",
           "zerolinewidth": 2
          },
          "yaxis": {
           "automargin": true,
           "gridcolor": "white",
           "linecolor": "white",
           "ticks": "",
           "title": {
            "standoff": 15
           },
           "zerolinecolor": "white",
           "zerolinewidth": 2
          }
         }
        },
        "title": {
         "font": {
          "size": 16
         },
         "text": "Interactive Attribute Graph"
        },
        "xaxis": {
         "autorange": true,
         "range": [
          -1.1104092343873675,
          1.0847508378752082
         ],
         "showgrid": false,
         "type": "linear",
         "zeroline": false
        },
        "yaxis": {
         "autorange": true,
         "range": [
          -1.1614665413997756,
          1.1180611018911746
         ],
         "showgrid": false,
         "type": "linear",
         "zeroline": false
        }
       }
      },
      "image/png": "[encoded data removed]",
      "text/html": [
       "<div>                            <div id=\"44023403-5d38-4ccc-94a4-817b4adb4552\" class=\"plotly-graph-div\" style=\"height:525px; width:100%;\"></div>            <script type=\"text/javascript\">                require([\"plotly\"], function(Plotly) {                    window.PLOTLYENV=window.PLOTLYENV || {};                                    if (document.getElementById(\"44023403-5d38-4ccc-94a4-817b4adb4552\")) {                    Plotly.newPlot(                        \"44023403-5d38-4ccc-94a4-817b4adb4552\",                        [{\"hoverinfo\":\"none\",\"line\":{\"color\":\"#888\",\"width\":2},\"mode\":\"lines\",\"x\":[-0.17226747709919324,-0.6657667928516304,null,-0.17226747709919324,0.41827877532128843,null,-0.17226747709919324,0.511951719683721,null,-0.17226747709919324,-0.8812889276305461,null,-0.17226747709919324,-0.31560405697098054,null,0.511951719683721,0.9660021721050408,null,0.511951719683721,0.05914954008260298,null,-0.006313752276631875,-0.4440926963448381,null,-0.006313752276631875,0.8525077558761418,null,-0.006313752276631875,0.47586253936146305,null,-0.006313752276631875,-0.596199710555048,null,-0.006313752276631875,-0.09462314216131207,null,-0.006313752276631875,-0.20551048821642848,null,-0.006313752276631875,-0.17048597591479617,null,-0.006313752276631875,-0.5576196036918238,null,-0.006313752276631875,0.5426091273475192,null,-0.09462314216131207,-0.8031836282064131,null,-0.09462314216131207,0.6152026978194337,null,-0.5576196036918238,-0.45442400643759834,null,-0.5576196036918238,-0.9192046907785536,null,0.5426091273475192,0.5699601541724247,null,0.5426091273475192,0.7402419476613062,null,-0.14974008700464486,0.35569131026003986,null,-0.14974008700464486,-0.9916605686172,null,-0.14974008700464486,-0.8685443278321291,null,-0.14974008700464486,-0.5681641696611816,null,-0.14974008700464486,0.9096040213475861,null,0.05657728793871866,-0.17226747709919324,null,0.05657728793871866,-0.9356448906844406,null,0.05657728793871866,0.8529766796331344,null,0.05657728793871866,0.8664467400135744,null,0.05657728793871866,0.9422056979118495,null,0.05657728793871866,-0.7479736011187699,null,0.05657728793871866,-0.03774513025582362,null,0.05657728793871866,0.8389554357901058,null,0.05657728793871866,-0.04867788036411996,null,0.05657728793871866,-0.3301436073783541,null,0.05657728793871866,-0.739485910921857,null,0.05657728793871866,0.800572411891889,null,0.05657728793871866,-0.9221328937080749,null,0.05657728793871866,0.8004337361838832,null,0.05657728793871866,-0.006313752276631875,null,0.05657728793871866,0.21592847975496635,null,0.05657728793871866,0.7506534457955302,null,0.05657728793871866,0.2694662300276074,null,0.05657728793871866,0.11399417271110693,null,0.05657728793871866,-0.14974008700464486,null,0.05657728793871866,-0.8987740620085429,null],\"y\":[-0.27173212790701307,-0.6836779962025241,null,-0.27173212790701307,-0.8874450820108,null,-0.27173212790701307,0.2902817868005671,null,-0.27173212790701307,0.420906211962581,null,-0.27173212790701307,-0.8919962841041377,null,0.2902817868005671,-0.3757702425924782,null,0.2902817868005671,0.956594560491399,null,0.019973787845550643,-0.7638229886067792,null,0.019973787845550643,-0.33505657708240144,null,0.019973787845550643,0.8264670289574194,null,0.019973787845550643,0.7662907623291988,null,0.019973787845550643,0.07606704025926014,null,0.019973787845550643,-0.9999999999999999,null,0.019973787845550643,0.928564968570329,null,0.019973787845550643,0.4401333201273142,null,0.019973787845550643,-0.6005738213541058,null,0.07606704025926014,-0.6089805292063838,null,0.07606704025926014,0.7602476687310934,null,0.4401333201273142,0.8345076132331216,null,0.4401333201273142,0.25192408095013924,null,-0.6005738213541058,-0.8012746742642629,null,-0.6005738213541058,-0.6876141083598161,null,-0.020049775889045898,0.9324959638357442,null,-0.020049775889045898,-0.18182740555163393,null,-0.020049775889045898,-0.32972144457826885,null,-0.020049775889045898,-0.8497054404176533,null,-0.020049775889045898,0.09731488539073645,null,0.053108318435920475,-0.27173212790701307,null,0.053108318435920475,-0.04854686697959678,null,0.053108318435920475,0.38884218881686006,null,0.053108318435920475,0.5246881471732532,null,0.053108318435920475,-0.08044188642244306,null,0.053108318435920475,0.5145673203296791,null,0.053108318435920475,-0.9853640371387167,null,0.053108318435920475,0.24145633840043587,null,0.053108318435920475,0.8545839872629731,null,0.053108318435920475,0.9296726521067109,null,0.053108318435920475,0.6735814761076272,null,0.053108318435920475,-0.531820147938158,null,0.053108318435920475,-0.46761721095934944,null,0.053108318435920475,-0.15077840950500865,null,0.053108318435920475,0.019973787845550643,null,0.053108318435920475,0.9028622259223903,null,0.053108318435920475,0.673195283022616,null,0.053108318435920475,-0.9572278264062541,null,0.053108318435920475,-0.947480205922529,null,0.053108318435920475,-0.020049775889045898,null,0.053108318435920475,0.10019747233644065,null],\"type\":\"scatter\"},{\"hoverinfo\":\"text\",\"marker\":{\"colorbar\":{\"thickness\":15,\"title\":{\"side\":\"right\",\"text\":\"Node Connections\"},\"xanchor\":\"left\"},\"colorscale\":[[0.0,\"rgb(255,255,217)\"],[0.125,\"rgb(237,248,177)\"],[0.25,\"rgb(199,233,180)\"],[0.375,\"rgb(127,205,187)\"],[0.5,\"rgb(65,182,196)\"],[0.625,\"rgb(29,145,192)\"],[0.75,\"rgb(34,94,168)\"],[0.875,\"rgb(37,52,148)\"],[1.0,\"rgb(8,29,88)\"]],\"line\":{\"width\":2},\"showscale\":true,\"size\":10},\"mode\":\"markers+text\",\"text\":[\"G\",\"G._adj\",\"G._node\",\"G.adj\",\"G.adj._abc_impl\",\"G.adj._atlas\",\"G.graph\",\"G.name\",\"GSig\",\"GSig._adj\",\"GSig._node\",\"GSig._pred\",\"GSig._succ\",\"GSig.adj\",\"GSig.adj._abc_impl\",\"GSig.adj._atlas\",\"GSig.graph\",\"GSig.name\",\"GSig.pred\",\"GSig.pred._abc_impl\",\"GSig.pred._atlas\",\"GSig.succ\",\"GSig.succ._abc_impl\",\"GSig.succ._atlas\",\"dx\",\"dx.QGISmodelXk\",\"dx.dataFrames\",\"dx.dbFile\",\"dx.dfLAYR\",\"dx.viewSets\",\"dxWithMx\",\"flowMVEC\",\"SirCalcXmlFile\",\"dfAGSN\",\"mx\",\"dfWBLZ\",\"gdf_ROHR\",\"V3_KNOT\",\"V3_ROHRVEC\",\"gdf_FWVB\",\"V3_AGSNVEC\",\"gdf_KNOT\",\"V3_ROHR\",\"wDirMx\",\"V3_VBEL\",\"nodeposDctNx\",\"V3_FWVB\",\"V3_AGSN\",\"V3_WBLZ\"],\"textposition\":\"bottom center\",\"x\":[-0.17226747709919324,-0.6657667928516304,0.41827877532128843,0.511951719683721,0.9660021721050408,0.05914954008260298,-0.8812889276305461,-0.31560405697098054,-0.006313752276631875,-0.4440926963448381,0.8525077558761418,0.47586253936146305,-0.596199710555048,-0.09462314216131207,-0.8031836282064131,0.6152026978194337,-0.20551048821642848,-0.17048597591479617,-0.5576196036918238,-0.45442400643759834,-0.9192046907785536,0.5426091273475192,0.5699601541724247,0.7402419476613062,-0.14974008700464486,0.35569131026003986,-0.9916605686172,-0.8685443278321291,-0.5681641696611816,0.9096040213475861,0.05657728793871866,-0.9356448906844406,0.8529766796331344,0.8664467400135744,0.9422056979118495,-0.7479736011187699,-0.03774513025582362,0.8389554357901058,-0.04867788036411996,-0.3301436073783541,-0.739485910921857,0.800572411891889,-0.9221328937080749,0.8004337361838832,0.21592847975496635,0.7506534457955302,0.2694662300276074,0.11399417271110693,-0.8987740620085429],\"y\":[-0.27173212790701307,-0.6836779962025241,-0.8874450820108,0.2902817868005671,-0.3757702425924782,0.956594560491399,0.420906211962581,-0.8919962841041377,0.019973787845550643,-0.7638229886067792,-0.33505657708240144,0.8264670289574194,0.7662907623291988,0.07606704025926014,-0.6089805292063838,0.7602476687310934,-0.9999999999999999,0.928564968570329,0.4401333201273142,0.8345076132331216,0.25192408095013924,-0.6005738213541058,-0.8012746742642629,-0.6876141083598161,-0.020049775889045898,0.9324959638357442,-0.18182740555163393,-0.32972144457826885,-0.8497054404176533,0.09731488539073645,0.053108318435920475,-0.04854686697959678,0.38884218881686006,0.5246881471732532,-0.08044188642244306,0.5145673203296791,-0.9853640371387167,0.24145633840043587,0.8545839872629731,0.9296726521067109,0.6735814761076272,-0.531820147938158,-0.46761721095934944,-0.15077840950500865,0.9028622259223903,0.673195283022616,-0.9572278264062541,-0.947480205922529,0.10019747233644065],\"type\":\"scatter\"}],                        {\"annotations\":[{\"showarrow\":false,\"text\":\"\",\"xref\":\"paper\",\"yref\":\"paper\"}],\"hovermode\":\"closest\",\"margin\":{\"b\":20,\"l\":5,\"r\":5,\"t\":40},\"showlegend\":false,\"title\":{\"font\":{\"size\":16},\"text\":\"Interactive Attribute Graph\"},\"xaxis\":{\"showgrid\":false,\"zeroline\":false},\"yaxis\":{\"showgrid\":false,\"zeroline\":false},\"template\":{\"data\":{\"histogram2dcontour\":[{\"type\":\"histogram2dcontour\",\"colorbar\":{\"outlinewidth\":0,\"ticks\":\"\"},\"colorscale\":[[0.0,\"#0d0887\"],[0.1111111111111111,\"#46039f\"],[0.2222222222222222,\"#7201a8\"],[0.3333333333333333,\"#9c179e\"],[0.4444444444444444,\"#bd3786\"],[0.5555555555555556,\"#d8576b\"],[0.6666666666666666,\"#ed7953\"],[0.7777777777777778,\"#fb9f3a\"],[0.8888888888888888,\"#fdca26\"],[1.0,\"#f0f921\"]]}],\"choropleth\":[{\"type\":\"choropleth\",\"colorbar\":{\"outlinewidth\":0,\"ticks\":\"\"}}],\"histogram2d\":[{\"type\":\"histogram2d\",\"colorbar\":{\"outlinewidth\":0,\"ticks\":\"\"},\"colorscale\":[[0.0,\"#0d0887\"],[0.1111111111111111,\"#46039f\"],[0.2222222222222222,\"#7201a8\"],[0.3333333333333333,\"#9c179e\"],[0.4444444444444444,\"#bd3786\"],[0.5555555555555556,\"#d8576b\"],[0.6666666666666666,\"#ed7953\"],[0.7777777777777778,\"#fb9f3a\"],[0.8888888888888888,\"#fdca26\"],[1.0,\"#f0f921\"]]}],\"heatmap\":[{\"type\":\"heatmap\",\"colorbar\":{\"outlinewidth\":0,\"ticks\":\"\"},\"colorscale\":[[0.0,\"#0d0887\"],[0.1111111111111111,\"#46039f\"],[0.2222222222222222,\"#7201a8\"],[0.3333333333333333,\"#9c179e\"],[0.4444444444444444,\"#bd3786\"],[0.5555555555555556,\"#d8576b\"],[0.6666666666666666,\"#ed7953\"],[0.7777777777777778,\"#fb9f3a\"],[0.8888888888888888,\"#fdca26\"],[1.0,\"#f0f921\"]]}],\"heatmapgl\":[{\"type\":\"heatmapgl\",\"colorbar\":{\"outlinewidth\":0,\"ticks\":\"\"},\"colorscale\":[[0.0,\"#0d0887\"],[0.1111111111111111,\"#46039f\"],[0.2222222222222222,\"#7201a8\"],[0.3333333333333333,\"#9c179e\"],[0.4444444444444444,\"#bd3786\"],[0.5555555555555556,\"#d8576b\"],[0.6666666666666666,\"#ed7953\"],[0.7777777777777778,\"#fb9f3a\"],[0.8888888888888888,\"#fdca26\"],[1.0,\"#f0f921\"]]}],\"contourcarpet\":[{\"type\":\"contourcarpet\",\"colorbar\":{\"outlinewidth\":0,\"ticks\":\"\"}}],\"contour\":[{\"type\":\"contour\",\"colorbar\":{\"outlinewidth\":0,\"ticks\":\"\"},\"colorscale\":[[0.0,\"#0d0887\"],[0.1111111111111111,\"#46039f\"],[0.2222222222222222,\"#7201a8\"],[0.3333333333333333,\"#9c179e\"],[0.4444444444444444,\"#bd3786\"],[0.5555555555555556,\"#d8576b\"],[0.6666666666666666,\"#ed7953\"],[0.7777777777777778,\"#fb9f3a\"],[0.8888888888888888,\"#fdca26\"],[1.0,\"#f0f921\"]]}],\"surface\":[{\"type\":\"surface\",\"colorbar\":{\"outlinewidth\":0,\"ticks\":\"\"},\"colorscale\":[[0.0,\"#0d0887\"],[0.1111111111111111,\"#46039f\"],[0.2222222222222222,\"#7201a8\"],[0.3333333333333333,\"#9c179e\"],[0.4444444444444444,\"#bd3786\"],[0.5555555555555556,\"#d8576b\"],[0.6666666666666666,\"#ed7953\"],[0.7777777777777778,\"#fb9f3a\"],[0.8888888888888888,\"#fdca26\"],[1.0,\"#f0f921\"]]}],\"mesh3d\":[{\"type\":\"mesh3d\",\"colorbar\":{\"outlinewidth\":0,\"ticks\":\"\"}}],\"scatter\":[{\"fillpattern\":{\"fillmode\":\"overlay\",\"size\":10,\"solidity\":0.2},\"type\":\"scatter\"}],\"parcoords\":[{\"type\":\"parcoords\",\"line\":{\"colorbar\":{\"outlinewidth\":0,\"ticks\":\"\"}}}],\"scatterpolargl\":[{\"type\":\"scatterpolargl\",\"marker\":{\"colorbar\":{\"outlinewidth\":0,\"ticks\":\"\"}}}],\"bar\":[{\"error_x\":{\"color\":\"#2a3f5f\"},\"error_y\":{\"color\":\"#2a3f5f\"},\"marker\":{\"line\":{\"color\":\"#E5ECF6\",\"width\":0.5},\"pattern\":{\"fillmode\":\"overlay\",\"size\":10,\"solidity\":0.2}},\"type\":\"bar\"}],\"scattergeo\":[{\"type\":\"scattergeo\",\"marker\":{\"colorbar\":{\"outlinewidth\":0,\"ticks\":\"\"}}}],\"scatterpolar\":[{\"type\":\"scatterpolar\",\"marker\":{\"colorbar\":{\"outlinewidth\":0,\"ticks\":\"\"}}}],\"histogram\":[{\"marker\":{\"pattern\":{\"fillmode\":\"overlay\",\"size\":10,\"solidity\":0.2}},\"type\":\"histogram\"}],\"scattergl\":[{\"type\":\"scattergl\",\"marker\":{\"colorbar\":{\"outlinewidth\":0,\"ticks\":\"\"}}}],\"scatter3d\":[{\"type\":\"scatter3d\",\"line\":{\"colorbar\":{\"outlinewidth\":0,\"ticks\":\"\"}},\"marker\":{\"colorbar\":{\"outlinewidth\":0,\"ticks\":\"\"}}}],\"scattermapbox\":[{\"type\":\"scattermapbox\",\"marker\":{\"colorbar\":{\"outlinewidth\":0,\"ticks\":\"\"}}}],\"scatterternary\":[{\"type\":\"scatterternary\",\"marker\":{\"colorbar\":{\"outlinewidth\":0,\"ticks\":\"\"}}}],\"scattercarpet\":[{\"type\":\"scattercarpet\",\"marker\":{\"colorbar\":{\"outlinewidth\":0,\"ticks\":\"\"}}}],\"carpet\":[{\"aaxis\":{\"endlinecolor\":\"#2a3f5f\",\"gridcolor\":\"white\",\"linecolor\":\"white\",\"minorgridcolor\":\"white\",\"startlinecolor\":\"#2a3f5f\"},\"baxis\":{\"endlinecolor\":\"#2a3f5f\",\"gridcolor\":\"white\",\"linecolor\":\"white\",\"minorgridcolor\":\"white\",\"startlinecolor\":\"#2a3f5f\"},\"type\":\"carpet\"}],\"table\":[{\"cells\":{\"fill\":{\"color\":\"#EBF0F8\"},\"line\":{\"color\":\"white\"}},\"header\":{\"fill\":{\"color\":\"#C8D4E3\"},\"line\":{\"color\":\"white\"}},\"type\":\"table\"}],\"barpolar\":[{\"marker\":{\"line\":{\"color\":\"#E5ECF6\",\"width\":0.5},\"pattern\":{\"fillmode\":\"overlay\",\"size\":10,\"solidity\":0.2}},\"type\":\"barpolar\"}],\"pie\":[{\"automargin\":true,\"type\":\"pie\"}]},\"layout\":{\"autotypenumbers\":\"strict\",\"colorway\":[\"#636efa\",\"#EF553B\",\"#00cc96\",\"#ab63fa\",\"#FFA15A\",\"#19d3f3\",\"#FF6692\",\"#B6E880\",\"#FF97FF\",\"#FECB52\"],\"font\":{\"color\":\"#2a3f5f\"},\"hovermode\":\"closest\",\"hoverlabel\":{\"align\":\"left\"},\"paper_bgcolor\":\"white\",\"plot_bgcolor\":\"#E5ECF6\",\"polar\":{\"bgcolor\":\"#E5ECF6\",\"angularaxis\":{\"gridcolor\":\"white\",\"linecolor\":\"white\",\"ticks\":\"\"},\"radialaxis\":{\"gridcolor\":\"white\",\"linecolor\":\"white\",\"ticks\":\"\"}},\"ternary\":{\"bgcolor\":\"#E5ECF6\",\"aaxis\":{\"gridcolor\":\"white\",\"linecolor\":\"white\",\"ticks\":\"\"},\"baxis\":{\"gridcolor\":\"white\",\"linecolor\":\"white\",\"ticks\":\"\"},\"caxis\":{\"gridcolor\":\"white\",\"linecolor\":\"white\",\"ticks\":\"\"}},\"coloraxis\":{\"colorbar\":{\"outlinewidth\":0,\"ticks\":\"\"}},\"colorscale\":{\"sequential\":[[0.0,\"#0d0887\"],[0.1111111111111111,\"#46039f\"],[0.2222222222222222,\"#7201a8\"],[0.3333333333333333,\"#9c179e\"],[0.4444444444444444,\"#bd3786\"],[0.5555555555555556,\"#d8576b\"],[0.6666666666666666,\"#ed7953\"],[0.7777777777777778,\"#fb9f3a\"],[0.8888888888888888,\"#fdca26\"],[1.0,\"#f0f921\"]],\"sequentialminus\":[[0.0,\"#0d0887\"],[0.1111111111111111,\"#46039f\"],[0.2222222222222222,\"#7201a8\"],[0.3333333333333333,\"#9c179e\"],[0.4444444444444444,\"#bd3786\"],[0.5555555555555556,\"#d8576b\"],[0.6666666666666666,\"#ed7953\"],[0.7777777777777778,\"#fb9f3a\"],[0.8888888888888888,\"#fdca26\"],[1.0,\"#f0f921\"]],\"diverging\":[[0,\"#8e0152\"],[0.1,\"#c51b7d\"],[0.2,\"#de77ae\"],[0.3,\"#f1b6da\"],[0.4,\"#fde0ef\"],[0.5,\"#f7f7f7\"],[0.6,\"#e6f5d0\"],[0.7,\"#b8e186\"],[0.8,\"#7fbc41\"],[0.9,\"#4d9221\"],[1,\"#276419\"]]},\"xaxis\":{\"gridcolor\":\"white\",\"linecolor\":\"white\",\"ticks\":\"\",\"title\":{\"standoff\":15},\"zerolinecolor\":\"white\",\"automargin\":true,\"zerolinewidth\":2},\"yaxis\":{\"gridcolor\":\"white\",\"linecolor\":\"white\",\"ticks\":\"\",\"title\":{\"standoff\":15},\"zerolinecolor\":\"white\",\"automargin\":true,\"zerolinewidth\":2},\"scene\":{\"xaxis\":{\"backgroundcolor\":\"#E5ECF6\",\"gridcolor\":\"white\",\"linecolor\":\"white\",\"showbackground\":true,\"ticks\":\"\",\"zerolinecolor\":\"white\",\"gridwidth\":2},\"yaxis\":{\"backgroundcolor\":\"#E5ECF6\",\"gridcolor\":\"white\",\"linecolor\":\"white\",\"showbackground\":true,\"ticks\":\"\",\"zerolinecolor\":\"white\",\"gridwidth\":2},\"zaxis\":{\"backgroundcolor\":\"#E5ECF6\",\"gridcolor\":\"white\",\"linecolor\":\"white\",\"showbackground\":true,\"ticks\":\"\",\"zerolinecolor\":\"white\",\"gridwidth\":2}},\"shapedefaults\":{\"line\":{\"color\":\"#2a3f5f\"}},\"annotationdefaults\":{\"arrowcolor\":\"#2a3f5f\",\"arrowhead\":0,\"arrowwidth\":1},\"geo\":{\"bgcolor\":\"white\",\"landcolor\":\"#E5ECF6\",\"subunitcolor\":\"white\",\"showland\":true,\"showlakes\":true,\"lakecolor\":\"white\"},\"title\":{\"x\":0.05},\"mapbox\":{\"style\":\"light\"}}}},                        {\"responsive\": true}                    ).then(function(){\n",
       "                            \n",
       "var gd = document.getElementById('44023403-5d38-4ccc-94a4-817b4adb4552');\n",
       "var x = new MutationObserver(function (mutations, observer) {{\n",
       "        var display = window.getComputedStyle(gd).display;\n",
       "        if (!display || display === 'none') {{\n",
       "            console.log([gd, 'removed!']);\n",
       "            Plotly.purge(gd);\n",
       "            observer.disconnect();\n",
       "        }}\n",
       "}});\n",
       "\n",
       "// Listen for the removal of the full notebook cells\n",
       "var notebookContainer = gd.closest('#notebook-container');\n",
       "if (notebookContainer) {{\n",
       "    x.observe(notebookContainer, {childList: true});\n",
       "}}\n",
       "\n",
       "// Listen for the clearing of the current output cell\n",
       "var outputEl = gd.closest('.output');\n",
       "if (outputEl) {{\n",
       "    x.observe(outputEl, {childList: true});\n",
       "}}\n",
       "\n",
       "                        })                };                });            </script>        </div>"
      ]
     },
     "metadata": {},
     "output_type": "display_data"
    }
   ],
   "source": [
    "import pandas as pd\n",
    "import networkx as nx\n",
    "import plotly.graph_objects as go\n",
    "\n",
    "def get_attributes(obj, depth=1, current_depth=0, parent_name='', filter_list=None):\n",
    "    \"\"\"\n",
    "    Recursively get attributes of an object and its children up to a specified depth.\n",
    "    If an attribute is a DataFrame, get its columns instead of its child attributes.\n",
    "    Apply a filter to include only specified attributes without their child attributes.\n",
    "\n",
    "    Parameters:\n",
    "    obj (object): The object to inspect.\n",
    "    depth (int): The maximum depth to inspect.\n",
    "    current_depth (int): The current depth of inspection.\n",
    "    parent_name (str): The name of the parent attribute.\n",
    "    filter_list (list): A list of attribute names to include without their child attributes.\n",
    "\n",
    "    Returns:\n",
    "    dict: A dictionary containing the attributes and their values.\n",
    "    \"\"\"\n",
    "    if current_depth > depth:\n",
    "        return {}\n",
    "\n",
    "    if filter_list is None:\n",
    "        filter_list = []\n",
    "\n",
    "    attributes = {}\n",
    "    for attr_name in dir(obj):\n",
    "        if not attr_name.startswith('__'):\n",
    "            try:\n",
    "                attr_value = getattr(obj, attr_name)\n",
    "                full_attr_name = f\"{parent_name}.{attr_name}\" if parent_name else attr_name\n",
    "\n",
    "                if isinstance(attr_value, pd.DataFrame):\n",
    "                    # If the attribute is a DataFrame, get its columns\n",
    "                    attributes[full_attr_name] = list(attr_value.columns)\n",
    "                elif not callable(attr_value):\n",
    "                    attributes[full_attr_name] = None  # Only store the attribute name\n",
    "\n",
    "                    # Recursively get child attributes unless the attribute is in the filter list\n",
    "                    if attr_name not in filter_list:\n",
    "                        child_attributes = get_attributes(attr_value, depth, current_depth + 1, full_attr_name, filter_list)\n",
    "                        attributes.update(child_attributes)\n",
    "            except Exception as e:\n",
    "                print(f\"Could not access attribute {attr_name}: {e}\")\n",
    "\n",
    "    return attributes\n",
    "\n",
    "def create_graph(attributes, root):\n",
    "    \"\"\"\n",
    "    Create a graph with direct child attributes connected to their parent.\n",
    "\n",
    "    Parameters:\n",
    "    attributes (dict): A dictionary containing the attributes and their values.\n",
    "    root (str): The name of the root node.\n",
    "\n",
    "    Returns:\n",
    "    networkx.DiGraph: A directed graph with attributes as nodes and connections as edges.\n",
    "    \"\"\"\n",
    "    G = nx.DiGraph()\n",
    "    \n",
    "    for attr in attributes.keys():\n",
    "        parts = attr.split('.')\n",
    "        for i in range(1, len(parts)):\n",
    "            parent = '.'.join(parts[:i])\n",
    "            child = '.'.join(parts[:i+1])\n",
    "            G.add_edge(parent, child)\n",
    "    \n",
    "    # Add root node and connect it to top-level attributes\n",
    "    for attr in set(attr.split('.')[0] for attr in attributes.keys()):\n",
    "        G.add_edge(root, attr)\n",
    "    \n",
    "    return G\n",
    "\n",
    "def plot_interactive_graph(G):\n",
    "    \"\"\"\n",
    "    Plot an interactive Plotly graph from a NetworkX graph.\n",
    "\n",
    "    Parameters:\n",
    "    G (networkx.DiGraph): A directed graph with attributes as nodes and connections as edges.\n",
    "    \"\"\"\n",
    "    pos = nx.spring_layout(G)\n",
    "    \n",
    "    edge_x = []\n",
    "    edge_y = []\n",
    "    \n",
    "    for edge in G.edges():\n",
    "        x0, y0 = pos[edge[0]]\n",
    "        x1, y1 = pos[edge[1]]\n",
    "        edge_x.append(x0)\n",
    "        edge_x.append(x1)\n",
    "        edge_x.append(None)\n",
    "        edge_y.append(y0)\n",
    "        edge_y.append(y1)\n",
    "        edge_y.append(None)\n",
    "\n",
    "    edge_trace = go.Scatter(\n",
    "        x=edge_x, y=edge_y,\n",
    "        line=dict(width=2, color='#888'),\n",
    "        hoverinfo='none',\n",
    "        mode='lines')\n",
    "\n",
    "    node_x = []\n",
    "    node_y = []\n",
    "    node_text = []\n",
    "\n",
    "    for node in G.nodes():\n",
    "        x, y = pos[node]\n",
    "        node_x.append(x)\n",
    "        node_y.append(y)\n",
    "        node_text.append(node)\n",
    "\n",
    "    node_trace = go.Scatter(\n",
    "        x=node_x, y=node_y,\n",
    "        mode='markers+text',\n",
    "        text=node_text,\n",
    "        textposition='bottom center',\n",
    "        hoverinfo='text',\n",
    "        marker=dict(\n",
    "            showscale=True,\n",
    "            colorscale='YlGnBu',\n",
    "            size=10,\n",
    "            colorbar=dict(\n",
    "                thickness=15,\n",
    "                title='Node Connections',\n",
    "                xanchor='left',\n",
    "                titleside='right'\n",
    "            ),\n",
    "            line_width=2))\n",
    "\n",
    "    fig = go.Figure(data=[edge_trace, node_trace],\n",
    "                    layout=go.Layout(\n",
    "                        title='Interactive Attribute Graph',\n",
    "                        titlefont_size=16,\n",
    "                        showlegend=False,\n",
    "                        hovermode='closest',\n",
    "                        margin=dict(b=20,l=5,r=5,t=40),\n",
    "                        annotations=[dict(\n",
    "                            text=\"\",\n",
    "                            showarrow=False,\n",
    "                            xref=\"paper\", yref=\"paper\"\n",
    "                        )],\n",
    "                        xaxis=dict(showgrid=False, zeroline=False),\n",
    "                        yaxis=dict(showgrid=False, zeroline=False))\n",
    "                   )\n",
    "\n",
    "    fig.show()\n",
    "\n",
    "filter_list = ['mx']\n",
    "attributes = get_attributes(m, depth=2, filter_list=filter_list)\n",
    "G = create_graph(attributes, root='dxWithMx')\n",
    "\n",
    "# Plot the interactive graph\n",
    "plot_interactive_graph(G)"
   ]
  },
  {
   "cell_type": "markdown",
   "id": "e3a3f6d3-daa7-4105-a490-2c874c565906",
   "metadata": {},
   "source": [
    "# Diagram 6"
   ]
  },
  {
   "cell_type": "code",
   "execution_count": null,
   "id": "6c7c732d-ae17-4be2-9be3-503e9c129520",
   "metadata": {},
   "outputs": [],
   "source": []
  }
 ],
 "metadata": {
  "kernelspec": {
   "display_name": "Python 3 (ipykernel)",
   "language": "python",
   "name": "python3"
  },
  "language_info": {
   "codemirror_mode": {
    "name": "ipython",
    "version": 3
   },
   "file_extension": ".py",
   "mimetype": "text/x-python",
   "name": "python",
   "nbconvert_exporter": "python",
   "pygments_lexer": "ipython3",
   "version": "3.11.8"
  }
 },
 "nbformat": 4,
 "nbformat_minor": 5
}
