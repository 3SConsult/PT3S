{
 "cells": [
  {
   "cell_type": "markdown",
   "id": "84751c6b-9b52-4253-a48e-c9017815b468",
   "metadata": {},
   "source": [
    "# Imports"
   ]
  },
  {
   "cell_type": "code",
   "execution_count": 3,
   "id": "52ca4068-fc2f-4495-a123-57d5411ac6fa",
   "metadata": {},
   "outputs": [],
   "source": [
    "import os\n",
    "import subprocess\n",
    "import venv\n",
    "import setuptools\n"
   ]
  },
  {
   "cell_type": "markdown",
   "id": "e032842f-1969-4dba-a79a-95a21eb42353",
   "metadata": {},
   "source": [
    "# Ex7 Testing"
   ]
  },
  {
   "cell_type": "markdown",
   "id": "060a5ba8-369c-4ca3-b8dc-9c53b16ed97d",
   "metadata": {},
   "source": [
    "## 4D vectors"
   ]
  },
  {
   "cell_type": "code",
   "execution_count": null,
   "id": "8ed36511-3cf1-4e28-898b-474b02242587",
   "metadata": {},
   "outputs": [],
   "source": [
    "num_rows = len(dfROHR)\n",
    "\n",
    "# Generate 4D vectors\n",
    "def generate_similar_vectors(num_rows, dimensions=4, variation=5):\n",
    "    base_vector = np.random.randint(0, 100, size=dimensions)\n",
    "    base_vector = (base_vector / base_vector.sum() * 100).astype(int)\n",
    "    vectors = [base_vector]\n",
    "    for _ in range(1, num_rows):\n",
    "        new_vector = vectors[-1] + np.random.randint(-variation, variation+1, size=dimensions)\n",
    "        new_vector = np.clip(new_vector, 0, 100)  \n",
    "        new_vector = (new_vector / new_vector.sum() * 100).astype(int) \n",
    "        vectors.append(new_vector)\n",
    "    return vectors\n",
    "\n",
    "vector4 = generate_similar_vectors(num_rows)\n",
    "dfROHR['vector4'] = vector4\n",
    "\n",
    "#dfROHR[['geometry', 'vector4']]"
   ]
  },
  {
   "cell_type": "code",
   "execution_count": null,
   "id": "2ad60b99-631a-4c98-880b-05732376b622",
   "metadata": {},
   "outputs": [],
   "source": [
    "colors_4 = [\n",
    "    np.array([255, 0, 0]),    # Red\n",
    "    np.array([0, 0, 255]),    # Blue\n",
    "    np.array([0, 255, 0]),    # Green\n",
    "    np.array([255, 255, 0])   # Yellow\n",
    "]"
   ]
  },
  {
   "cell_type": "code",
   "execution_count": null,
   "id": "17174d15-dad8-4037-bac3-e14574d85aa4",
   "metadata": {},
   "outputs": [],
   "source": [
    "fig, ax = plt.subplots(figsize=Rm.DINA3q)\n",
    "ncd.plot_src_spectrum(ax, dfROHR,'vector4', colors_4)\n",
    "plt.show()"
   ]
  },
  {
   "cell_type": "markdown",
   "id": "678ec3f6-9913-4c36-8d31-23d12daeccfd",
   "metadata": {},
   "source": [
    "# Testing Examples"
   ]
  },
  {
   "cell_type": "code",
   "execution_count": 4,
   "id": "365ff152-31d8-440e-b555-2a200eba04e0",
   "metadata": {},
   "outputs": [
    {
     "name": "stdout",
     "output_type": "stream",
     "text": [
      "Das Skript Example0.ipynb wurde erfolgreich ausgeführt.\n",
      "Das Skript Example1.ipynb wurde erfolgreich ausgeführt.\n",
      "Das Skript Example2.ipynb wurde erfolgreich ausgeführt.\n",
      "Fehler beim Ausführen des Skripts Planungsbeispiel.ipynb.\n"
     ]
    }
   ],
   "source": [
    "examples = ['Example0.ipynb', 'Example1.ipynb', 'Example2.ipynb','Planungsbeispiel.ipynb']\n",
    "\n",
    "for example in examples:\n",
    "    try:\n",
    "        result = subprocess.run(['python', example], check=True)\n",
    "        print(f'Das Skript {example} wurde erfolgreich ausgeführt.')\n",
    "    except subprocess.CalledProcessError:\n",
    "        print(f'Fehler beim Ausführen des Skripts {example}.')"
   ]
  },
  {
   "cell_type": "markdown",
   "id": "f8b7960f-a9e7-416f-89ba-e6c95f67cbc4",
   "metadata": {},
   "source": [
    "# Overwriting MX with Blank Files"
   ]
  },
  {
   "cell_type": "raw",
   "id": "5e6d0114-0530-4799-b7c5-844cddd3ec42",
   "metadata": {},
   "source": [
    "Mx1 and Xml are not overwritten and not to be deleted"
   ]
  },
  {
   "cell_type": "code",
   "execution_count": 2,
   "id": "6d93a6c7-1ae6-4be9-9ad2-c4e632cf5df6",
   "metadata": {},
   "outputs": [],
   "source": [
    " files = [\"M-1-0-1.1.MX3\", \"M-1-0-1.1.MXS\", \"M-1-0-1.1.vec.h5\", \"M-1-0-1.ilog\", \"M-1-0-1.log\", \"M-1-0-1.MX2\"]"
   ]
  },
  {
   "cell_type": "code",
   "execution_count": 3,
   "id": "5b13fb84-81f6-4bea-a9e5-bc09833a2faa",
   "metadata": {},
   "outputs": [],
   "source": [
    "def delete_files(directory):\n",
    "    # Iterate over each file\n",
    "    for file in files:\n",
    "        # Construct the full file path\n",
    "        file_path = os.path.join(directory, file)\n",
    "        \n",
    "        # Check if the file exists\n",
    "        if os.path.isfile(file_path):\n",
    "            # Delete the file\n",
    "            os.remove(file_path)\n",
    "            print(f\"File {file} has been deleted.\")\n",
    "        else:\n",
    "            print(f\"File {file} does not exist.\")\n"
   ]
  },
  {
   "cell_type": "markdown",
   "id": "28a4ac0c-6786-4110-97a1-461ff3eae70c",
   "metadata": {},
   "source": [
    "## Example1"
   ]
  },
  {
   "cell_type": "code",
   "execution_count": 6,
   "id": "54c4debc-71ba-4e94-8fd7-770a86dacfc0",
   "metadata": {},
   "outputs": [
    {
     "name": "stdout",
     "output_type": "stream",
     "text": [
      "File M-1-0-1.1.MX3 has been deleted.\n",
      "File M-1-0-1.1.MXS has been deleted.\n",
      "File M-1-0-1.1.vec.h5 has been deleted.\n",
      "File M-1-0-1.ilog does not exist.\n",
      "File M-1-0-1.log has been deleted.\n",
      "File M-1-0-1.MX2 has been deleted.\n"
     ]
    }
   ],
   "source": [
    "directory = r\"C:\\Users\\jablonski\\3S\\PT3S\\Examples\\WDExample1\\B1\\V0\\BZ1\"\n",
    "delete_files(directory)"
   ]
  },
  {
   "cell_type": "markdown",
   "id": "d6cadc2e-a2b9-4d33-a4f8-7338ab983279",
   "metadata": {},
   "source": [
    "## Example2"
   ]
  },
  {
   "cell_type": "code",
   "execution_count": 7,
   "id": "1da14500-0f6b-4c9e-820a-b3ae3eea1500",
   "metadata": {},
   "outputs": [
    {
     "name": "stdout",
     "output_type": "stream",
     "text": [
      "File M-1-0-1.1.MX3 has been deleted.\n",
      "File M-1-0-1.1.MXS has been deleted.\n",
      "File M-1-0-1.1.vec.h5 has been deleted.\n",
      "File M-1-0-1.ilog does not exist.\n",
      "File M-1-0-1.log has been deleted.\n",
      "File M-1-0-1.MX2 has been deleted.\n"
     ]
    }
   ],
   "source": [
    "directory = r\"C:\\Users\\jablonski\\3S\\PT3S\\Examples\\WDExample2\\B1\\V0\\BZ1\"\n",
    "delete_files(directory)"
   ]
  },
  {
   "cell_type": "markdown",
   "id": "cd928b30-da7a-4b47-a658-dcfa39c6ce5b",
   "metadata": {},
   "source": [
    "## Example3"
   ]
  },
  {
   "cell_type": "code",
   "execution_count": 8,
   "id": "7c69cd3b-6719-4b44-bd06-6e4b3b92a77e",
   "metadata": {},
   "outputs": [
    {
     "name": "stdout",
     "output_type": "stream",
     "text": [
      "File M-1-0-1.1.MX3 has been deleted.\n",
      "File M-1-0-1.1.MXS has been deleted.\n",
      "File M-1-0-1.1.vec.h5 has been deleted.\n",
      "File M-1-0-1.ilog has been deleted.\n",
      "File M-1-0-1.log has been deleted.\n",
      "File M-1-0-1.MX2 has been deleted.\n"
     ]
    }
   ],
   "source": [
    "directory = r\"C:\\Users\\jablonski\\3S\\PT3S\\Examples\\WDExample3\\B1\\V0\\BZ1\"\n",
    "delete_files(directory)"
   ]
  },
  {
   "cell_type": "markdown",
   "id": "9822673c-b84d-4a8c-879d-1533afab0fa3",
   "metadata": {},
   "source": [
    "## Overwritting as blanks"
   ]
  },
  {
   "cell_type": "raw",
   "id": "9d3b9d80-d458-47cd-9534-988d5aade18b",
   "metadata": {},
   "source": [
    "directory = r\"C:\\Users\\jablonski\\3S\\PT3S\\Examples\\WDExample1\\B1\\V0\\BZ1\"\n",
    "\n",
    "for file in files:\n",
    "    file_path = os.path.join(directory, file)\n",
    "    \n",
    "    open(file_path, 'w').close()"
   ]
  },
  {
   "cell_type": "code",
   "execution_count": 2,
   "id": "234da8e3-e72d-45f3-ae86-c0aa09085938",
   "metadata": {},
   "outputs": [
    {
     "name": "stdout",
     "output_type": "stream",
     "text": [
      "Using tolist(): [[1, 2, 3, 4, 5], [5, 15, 25, 35, 45], [10, 20, 30, 40, 50]]\n",
      "Using to_list(): [[1, 2, 3, 4, 5], [5, 15, 25, 35, 45], [10, 20, 30, 40, 50]]\n"
     ]
    }
   ],
   "source": [
    "import pandas as pd\n",
    "\n",
    "# Create a DataFrame\n",
    "df = pd.DataFrame({\n",
    "    'A': [1, 2, 3, 4, 5],\n",
    "    'B': [5, 15, 25, 35, 45],\n",
    "    'C': [10, 20, 30, 40, 50]\n",
    "})\n",
    "\n",
    "# Get the column names\n",
    "mColNames = df.columns.tolist()\n",
    "\n",
    "# Using tolist()\n",
    "arrays_tolist = []\n",
    "for col in mColNames:\n",
    "    arrays_tolist.append(df[col].values.tolist())\n",
    "print(\"Using tolist():\", arrays_tolist)\n",
    "\n",
    "# Using to_list()\n",
    "arrays_to_list = []\n",
    "for col in mColNames:\n",
    "    arrays_to_list.append(df[col].to_list())\n",
    "print(\"Using to_list():\", arrays_to_list)\n"
   ]
  },
  {
   "cell_type": "markdown",
   "id": "4835b662-e1a5-4cf0-987f-78df5f4f94a5",
   "metadata": {},
   "source": [
    "# Testing"
   ]
  },
  {
   "cell_type": "code",
   "execution_count": 56,
   "id": "e1312026-5343-4c9a-bba7-b4a84713fc03",
   "metadata": {},
   "outputs": [],
   "source": [
    "try:\n",
    "    from PT3S import dxAndMxHelperFcts\n",
    "except:\n",
    "    import dxAndMxHelperFcts"
   ]
  },
  {
   "cell_type": "code",
   "execution_count": 57,
   "id": "85f0ea42-bc9a-4c73-8e2b-6205b044553d",
   "metadata": {},
   "outputs": [],
   "source": [
    "dbFilename=\"Example1\"\n",
    "dbFile=os.path.join(os.path.dirname(os.path.abspath(dxAndMxHelperFcts.__file__))\n",
    "                    +'/Examples/'\n",
    "                    +dbFilename\n",
    "                    +'.db3'\n",
    ")"
   ]
  },
  {
   "cell_type": "code",
   "execution_count": 58,
   "id": "bafc1a45-40d5-48d7-8e04-006d1a904f24",
   "metadata": {},
   "outputs": [],
   "source": [
    "m=dxAndMxHelperFcts.readDxAndMx(dbFile=dbFile                                 \n",
    "                                ,preventPklDump=True\n",
    ")"
   ]
  },
  {
   "cell_type": "code",
   "execution_count": 63,
   "id": "aa9de4d4-302b-4222-bb13-ab576237d938",
   "metadata": {},
   "outputs": [
    {
     "name": "stdout",
     "output_type": "stream",
     "text": [
      "[('STAT', 'ROHR~*~*~*~A', Timestamp('2023-02-12 23:00:00'), Timestamp('2023-02-12 23:00:00')), ('TIME', 'ROHR~*~*~*~A', Timestamp('2023-02-12 23:00:00'), Timestamp('2023-02-12 23:00:00')), ('TMIN', 'ROHR~*~*~*~A', Timestamp('2023-02-12 23:00:00'), Timestamp('2023-02-13 23:00:00')), ('TMAX', 'ROHR~*~*~*~A', Timestamp('2023-02-12 23:00:00'), Timestamp('2023-02-13 23:00:00')), ('STAT', 'ROHR~*~*~*~DTTR', Timestamp('2023-02-12 23:00:00'), Timestamp('2023-02-12 23:00:00')), ('TIME', 'ROHR~*~*~*~DTTR', Timestamp('2023-02-12 23:00:00'), Timestamp('2023-02-12 23:00:00')), ('TMIN', 'ROHR~*~*~*~DTTR', Timestamp('2023-02-12 23:00:00'), Timestamp('2023-02-13 23:00:00')), ('TMAX', 'ROHR~*~*~*~DTTR', Timestamp('2023-02-12 23:00:00'), Timestamp('2023-02-13 23:00:00')), ('STAT', 'ROHR~*~*~*~DWVERL', Timestamp('2023-02-12 23:00:00'), Timestamp('2023-02-12 23:00:00')), ('TIME', 'ROHR~*~*~*~DWVERL', Timestamp('2023-02-12 23:00:00'), Timestamp('2023-02-12 23:00:00'))]\n"
     ]
    }
   ],
   "source": [
    "print([col for col in m.V3_ROHR.columns if isinstance(col, tuple)][:10])"
   ]
  },
  {
   "cell_type": "code",
   "execution_count": 67,
   "id": "770afa4f-a150-4dbb-a123-55b8cacc2b6c",
   "metadata": {},
   "outputs": [
    {
     "ename": "KeyError",
     "evalue": "\"('TIME', 'ROHR~*~*~*~DTTR', Timestamp('2023-02-12 23:00:00'), Timestamp('2023-02-12 23:00:00'))\"",
     "output_type": "error",
     "traceback": [
      "\u001b[1;31m---------------------------------------------------------------------------\u001b[0m",
      "\u001b[1;31mKeyError\u001b[0m                                  Traceback (most recent call last)",
      "File \u001b[1;32m~\\AppData\\Local\\anaconda3\\Lib\\site-packages\\pandas\\core\\indexes\\base.py:3805\u001b[0m, in \u001b[0;36mIndex.get_loc\u001b[1;34m(self, key)\u001b[0m\n\u001b[0;32m   3804\u001b[0m \u001b[38;5;28;01mtry\u001b[39;00m:\n\u001b[1;32m-> 3805\u001b[0m     \u001b[38;5;28;01mreturn\u001b[39;00m \u001b[38;5;28mself\u001b[39m\u001b[38;5;241m.\u001b[39m_engine\u001b[38;5;241m.\u001b[39mget_loc(casted_key)\n\u001b[0;32m   3806\u001b[0m \u001b[38;5;28;01mexcept\u001b[39;00m \u001b[38;5;167;01mKeyError\u001b[39;00m \u001b[38;5;28;01mas\u001b[39;00m err:\n",
      "File \u001b[1;32mindex.pyx:167\u001b[0m, in \u001b[0;36mpandas._libs.index.IndexEngine.get_loc\u001b[1;34m()\u001b[0m\n",
      "File \u001b[1;32mindex.pyx:196\u001b[0m, in \u001b[0;36mpandas._libs.index.IndexEngine.get_loc\u001b[1;34m()\u001b[0m\n",
      "File \u001b[1;32mpandas\\\\_libs\\\\hashtable_class_helper.pxi:7081\u001b[0m, in \u001b[0;36mpandas._libs.hashtable.PyObjectHashTable.get_item\u001b[1;34m()\u001b[0m\n",
      "File \u001b[1;32mpandas\\\\_libs\\\\hashtable_class_helper.pxi:7089\u001b[0m, in \u001b[0;36mpandas._libs.hashtable.PyObjectHashTable.get_item\u001b[1;34m()\u001b[0m\n",
      "\u001b[1;31mKeyError\u001b[0m: \"('TIME', 'ROHR~*~*~*~DTTR', Timestamp('2023-02-12 23:00:00'), Timestamp('2023-02-12 23:00:00'))\"",
      "\nThe above exception was the direct cause of the following exception:\n",
      "\u001b[1;31mKeyError\u001b[0m                                  Traceback (most recent call last)",
      "Cell \u001b[1;32mIn[67], line 1\u001b[0m\n\u001b[1;32m----> 1\u001b[0m m\u001b[38;5;241m.\u001b[39mV3_ROHR[\u001b[38;5;124m\"\u001b[39m\u001b[38;5;124m(\u001b[39m\u001b[38;5;124m'\u001b[39m\u001b[38;5;124mTIME\u001b[39m\u001b[38;5;124m'\u001b[39m\u001b[38;5;124m, \u001b[39m\u001b[38;5;124m'\u001b[39m\u001b[38;5;124mROHR~*~*~*~DTTR\u001b[39m\u001b[38;5;124m'\u001b[39m\u001b[38;5;124m, Timestamp(\u001b[39m\u001b[38;5;124m'\u001b[39m\u001b[38;5;124m2023-02-12 23:00:00\u001b[39m\u001b[38;5;124m'\u001b[39m\u001b[38;5;124m), Timestamp(\u001b[39m\u001b[38;5;124m'\u001b[39m\u001b[38;5;124m2023-02-12 23:00:00\u001b[39m\u001b[38;5;124m'\u001b[39m\u001b[38;5;124m))\u001b[39m\u001b[38;5;124m\"\u001b[39m]\n",
      "File \u001b[1;32m~\\AppData\\Local\\anaconda3\\Lib\\site-packages\\pandas\\core\\frame.py:4102\u001b[0m, in \u001b[0;36mDataFrame.__getitem__\u001b[1;34m(self, key)\u001b[0m\n\u001b[0;32m   4100\u001b[0m \u001b[38;5;28;01mif\u001b[39;00m \u001b[38;5;28mself\u001b[39m\u001b[38;5;241m.\u001b[39mcolumns\u001b[38;5;241m.\u001b[39mnlevels \u001b[38;5;241m>\u001b[39m \u001b[38;5;241m1\u001b[39m:\n\u001b[0;32m   4101\u001b[0m     \u001b[38;5;28;01mreturn\u001b[39;00m \u001b[38;5;28mself\u001b[39m\u001b[38;5;241m.\u001b[39m_getitem_multilevel(key)\n\u001b[1;32m-> 4102\u001b[0m indexer \u001b[38;5;241m=\u001b[39m \u001b[38;5;28mself\u001b[39m\u001b[38;5;241m.\u001b[39mcolumns\u001b[38;5;241m.\u001b[39mget_loc(key)\n\u001b[0;32m   4103\u001b[0m \u001b[38;5;28;01mif\u001b[39;00m is_integer(indexer):\n\u001b[0;32m   4104\u001b[0m     indexer \u001b[38;5;241m=\u001b[39m [indexer]\n",
      "File \u001b[1;32m~\\AppData\\Local\\anaconda3\\Lib\\site-packages\\pandas\\core\\indexes\\base.py:3812\u001b[0m, in \u001b[0;36mIndex.get_loc\u001b[1;34m(self, key)\u001b[0m\n\u001b[0;32m   3807\u001b[0m     \u001b[38;5;28;01mif\u001b[39;00m \u001b[38;5;28misinstance\u001b[39m(casted_key, \u001b[38;5;28mslice\u001b[39m) \u001b[38;5;129;01mor\u001b[39;00m (\n\u001b[0;32m   3808\u001b[0m         \u001b[38;5;28misinstance\u001b[39m(casted_key, abc\u001b[38;5;241m.\u001b[39mIterable)\n\u001b[0;32m   3809\u001b[0m         \u001b[38;5;129;01mand\u001b[39;00m \u001b[38;5;28many\u001b[39m(\u001b[38;5;28misinstance\u001b[39m(x, \u001b[38;5;28mslice\u001b[39m) \u001b[38;5;28;01mfor\u001b[39;00m x \u001b[38;5;129;01min\u001b[39;00m casted_key)\n\u001b[0;32m   3810\u001b[0m     ):\n\u001b[0;32m   3811\u001b[0m         \u001b[38;5;28;01mraise\u001b[39;00m InvalidIndexError(key)\n\u001b[1;32m-> 3812\u001b[0m     \u001b[38;5;28;01mraise\u001b[39;00m \u001b[38;5;167;01mKeyError\u001b[39;00m(key) \u001b[38;5;28;01mfrom\u001b[39;00m \u001b[38;5;21;01merr\u001b[39;00m\n\u001b[0;32m   3813\u001b[0m \u001b[38;5;28;01mexcept\u001b[39;00m \u001b[38;5;167;01mTypeError\u001b[39;00m:\n\u001b[0;32m   3814\u001b[0m     \u001b[38;5;66;03m# If we have a listlike key, _check_indexing_error will raise\u001b[39;00m\n\u001b[0;32m   3815\u001b[0m     \u001b[38;5;66;03m#  InvalidIndexError. Otherwise we fall through and re-raise\u001b[39;00m\n\u001b[0;32m   3816\u001b[0m     \u001b[38;5;66;03m#  the TypeError.\u001b[39;00m\n\u001b[0;32m   3817\u001b[0m     \u001b[38;5;28mself\u001b[39m\u001b[38;5;241m.\u001b[39m_check_indexing_error(key)\n",
      "\u001b[1;31mKeyError\u001b[0m: \"('TIME', 'ROHR~*~*~*~DTTR', Timestamp('2023-02-12 23:00:00'), Timestamp('2023-02-12 23:00:00'))\""
     ]
    }
   ],
   "source": [
    "m.V3_ROHR[\"('TIME', 'ROHR~*~*~*~DTTR', Timestamp('2023-02-12 23:00:00'), Timestamp('2023-02-12 23:00:00'))\"]"
   ]
  },
  {
   "cell_type": "code",
   "execution_count": 66,
   "id": "1eccedfb-b64f-4b6e-9a13-a8da7aa28f63",
   "metadata": {},
   "outputs": [
    {
     "name": "stdout",
     "output_type": "stream",
     "text": [
      "0       0.013439\n",
      "1       0.025363\n",
      "2       0.017844\n",
      "3       0.002976\n",
      "4       0.003263\n",
      "         ...    \n",
      "519    26.078106\n",
      "520    17.345263\n",
      "521    20.641092\n",
      "522     0.002895\n",
      "523      0.00293\n",
      "Name: (TIME, ROHR~*~*~*~DTTR, 2023-02-12 23:00:00, 2023-02-12 23:00:00), Length: 524, dtype: object\n"
     ]
    }
   ],
   "source": [
    "column_name = ('TIME', 'ROHR~*~*~*~DTTR', Timestamp('2023-02-12 23:00:00'), Timestamp('2023-02-12 23:00:00'))\n",
    "column_data = m.V3_ROHR[column_name]\n",
    "print(column_data)"
   ]
  },
  {
   "cell_type": "code",
   "execution_count": 68,
   "id": "8f92fb8f-6b8f-4e21-9eb2-bf2114c408d5",
   "metadata": {},
   "outputs": [],
   "source": [
    "m.V3_ROHR.columns = [str(col) for col in m.V3_ROHR.columns]"
   ]
  },
  {
   "cell_type": "code",
   "execution_count": 69,
   "id": "241a6415-5992-49eb-8f3f-6140befc2d8c",
   "metadata": {},
   "outputs": [
    {
     "name": "stdout",
     "output_type": "stream",
     "text": [
      "Index(['pk', 'fkDE', 'rk', 'tk', 'fkKI', 'fkKK', 'fkDTRO_ROWD', 'fkLTGR',\n",
      "       'fkSTRASSE', 'L',\n",
      "       ...\n",
      "       '('TMIN', 'KNOT~*~*~*~T', Timestamp('2023-02-12 23:00:00'), Timestamp('2023-02-13 23:00:00'))_k',\n",
      "       '('TMAX', 'KNOT~*~*~*~T', Timestamp('2023-02-12 23:00:00'), Timestamp('2023-02-13 23:00:00'))_k',\n",
      "       '('STAT', 'KNOT~*~*~*~RHO', Timestamp('2023-02-12 23:00:00'), Timestamp('2023-02-12 23:00:00'))_k',\n",
      "       '('TIME', 'KNOT~*~*~*~RHO', Timestamp('2023-02-12 23:00:00'), Timestamp('2023-02-12 23:00:00'))_k',\n",
      "       '('TMIN', 'KNOT~*~*~*~RHO', Timestamp('2023-02-12 23:00:00'), Timestamp('2023-02-13 23:00:00'))_k',\n",
      "       '('TMAX', 'KNOT~*~*~*~RHO', Timestamp('2023-02-12 23:00:00'), Timestamp('2023-02-13 23:00:00'))_k',\n",
      "       'QMAVAbs', 'VAVAbs', 'PHRAbs', 'JVAbs'],\n",
      "      dtype='object', length=216)\n"
     ]
    }
   ],
   "source": [
    "print(m.V3_ROHR.columns)"
   ]
  },
  {
   "cell_type": "code",
   "execution_count": 70,
   "id": "153bf2b6-9d17-42e6-a642-afff49a765b8",
   "metadata": {},
   "outputs": [
    {
     "data": {
      "text/plain": [
       "0      89.710541\n",
       "1      89.515259\n",
       "2      89.480652\n",
       "3      89.474884\n",
       "4      89.468567\n",
       "         ...    \n",
       "519         10.0\n",
       "520         10.0\n",
       "521         10.0\n",
       "522    79.993561\n",
       "523    59.885498\n",
       "Name: ('TMIN', 'KNOT~*~*~*~T', Timestamp('2023-02-12 23:00:00'), Timestamp('2023-02-13 23:00:00'))_k, Length: 524, dtype: object"
      ]
     },
     "execution_count": 70,
     "metadata": {},
     "output_type": "execute_result"
    }
   ],
   "source": [
    "m.V3_ROHR[\"('TMIN', 'KNOT~*~*~*~T', Timestamp('2023-02-12 23:00:00'), Timestamp('2023-02-13 23:00:00'))_k\"]"
   ]
  },
  {
   "cell_type": "code",
   "execution_count": 71,
   "id": "f5b98f65-2ff6-4821-8d15-37c54a3bb9c4",
   "metadata": {},
   "outputs": [
    {
     "data": {
      "text/plain": [
       "0       0.013439\n",
       "1       0.025363\n",
       "2       0.017844\n",
       "3       0.002976\n",
       "4       0.003263\n",
       "         ...    \n",
       "519    26.078106\n",
       "520    17.345263\n",
       "521    20.641092\n",
       "522     0.002895\n",
       "523      0.00293\n",
       "Name: ('TIME', 'ROHR~*~*~*~DTTR', Timestamp('2023-02-12 23:00:00'), Timestamp('2023-02-12 23:00:00')), Length: 524, dtype: object"
      ]
     },
     "execution_count": 71,
     "metadata": {},
     "output_type": "execute_result"
    }
   ],
   "source": [
    "m.V3_ROHR[\"('TIME', 'ROHR~*~*~*~DTTR', Timestamp('2023-02-12 23:00:00'), Timestamp('2023-02-12 23:00:00'))\"]"
   ]
  },
  {
   "cell_type": "code",
   "execution_count": 73,
   "id": "a5ff1d16-83e7-4126-bf98-be9065b711d1",
   "metadata": {},
   "outputs": [
    {
     "ename": "KeyError",
     "evalue": "'L_ROHRVEC'",
     "output_type": "error",
     "traceback": [
      "\u001b[1;31m---------------------------------------------------------------------------\u001b[0m",
      "\u001b[1;31mKeyError\u001b[0m                                  Traceback (most recent call last)",
      "File \u001b[1;32m~\\AppData\\Local\\anaconda3\\Lib\\site-packages\\pandas\\core\\indexes\\base.py:3805\u001b[0m, in \u001b[0;36mIndex.get_loc\u001b[1;34m(self, key)\u001b[0m\n\u001b[0;32m   3804\u001b[0m \u001b[38;5;28;01mtry\u001b[39;00m:\n\u001b[1;32m-> 3805\u001b[0m     \u001b[38;5;28;01mreturn\u001b[39;00m \u001b[38;5;28mself\u001b[39m\u001b[38;5;241m.\u001b[39m_engine\u001b[38;5;241m.\u001b[39mget_loc(casted_key)\n\u001b[0;32m   3806\u001b[0m \u001b[38;5;28;01mexcept\u001b[39;00m \u001b[38;5;167;01mKeyError\u001b[39;00m \u001b[38;5;28;01mas\u001b[39;00m err:\n",
      "File \u001b[1;32mindex.pyx:167\u001b[0m, in \u001b[0;36mpandas._libs.index.IndexEngine.get_loc\u001b[1;34m()\u001b[0m\n",
      "File \u001b[1;32mindex.pyx:196\u001b[0m, in \u001b[0;36mpandas._libs.index.IndexEngine.get_loc\u001b[1;34m()\u001b[0m\n",
      "File \u001b[1;32mpandas\\\\_libs\\\\hashtable_class_helper.pxi:7081\u001b[0m, in \u001b[0;36mpandas._libs.hashtable.PyObjectHashTable.get_item\u001b[1;34m()\u001b[0m\n",
      "File \u001b[1;32mpandas\\\\_libs\\\\hashtable_class_helper.pxi:7089\u001b[0m, in \u001b[0;36mpandas._libs.hashtable.PyObjectHashTable.get_item\u001b[1;34m()\u001b[0m\n",
      "\u001b[1;31mKeyError\u001b[0m: 'L_ROHRVEC'",
      "\nThe above exception was the direct cause of the following exception:\n",
      "\u001b[1;31mKeyError\u001b[0m                                  Traceback (most recent call last)",
      "Cell \u001b[1;32mIn[73], line 1\u001b[0m\n\u001b[1;32m----> 1\u001b[0m m\u001b[38;5;241m.\u001b[39mV3_ROHRVEC[\u001b[38;5;124m'\u001b[39m\u001b[38;5;124mL_ROHRVEC\u001b[39m\u001b[38;5;124m'\u001b[39m]\n",
      "File \u001b[1;32m~\\AppData\\Local\\anaconda3\\Lib\\site-packages\\pandas\\core\\frame.py:4102\u001b[0m, in \u001b[0;36mDataFrame.__getitem__\u001b[1;34m(self, key)\u001b[0m\n\u001b[0;32m   4100\u001b[0m \u001b[38;5;28;01mif\u001b[39;00m \u001b[38;5;28mself\u001b[39m\u001b[38;5;241m.\u001b[39mcolumns\u001b[38;5;241m.\u001b[39mnlevels \u001b[38;5;241m>\u001b[39m \u001b[38;5;241m1\u001b[39m:\n\u001b[0;32m   4101\u001b[0m     \u001b[38;5;28;01mreturn\u001b[39;00m \u001b[38;5;28mself\u001b[39m\u001b[38;5;241m.\u001b[39m_getitem_multilevel(key)\n\u001b[1;32m-> 4102\u001b[0m indexer \u001b[38;5;241m=\u001b[39m \u001b[38;5;28mself\u001b[39m\u001b[38;5;241m.\u001b[39mcolumns\u001b[38;5;241m.\u001b[39mget_loc(key)\n\u001b[0;32m   4103\u001b[0m \u001b[38;5;28;01mif\u001b[39;00m is_integer(indexer):\n\u001b[0;32m   4104\u001b[0m     indexer \u001b[38;5;241m=\u001b[39m [indexer]\n",
      "File \u001b[1;32m~\\AppData\\Local\\anaconda3\\Lib\\site-packages\\pandas\\core\\indexes\\base.py:3812\u001b[0m, in \u001b[0;36mIndex.get_loc\u001b[1;34m(self, key)\u001b[0m\n\u001b[0;32m   3807\u001b[0m     \u001b[38;5;28;01mif\u001b[39;00m \u001b[38;5;28misinstance\u001b[39m(casted_key, \u001b[38;5;28mslice\u001b[39m) \u001b[38;5;129;01mor\u001b[39;00m (\n\u001b[0;32m   3808\u001b[0m         \u001b[38;5;28misinstance\u001b[39m(casted_key, abc\u001b[38;5;241m.\u001b[39mIterable)\n\u001b[0;32m   3809\u001b[0m         \u001b[38;5;129;01mand\u001b[39;00m \u001b[38;5;28many\u001b[39m(\u001b[38;5;28misinstance\u001b[39m(x, \u001b[38;5;28mslice\u001b[39m) \u001b[38;5;28;01mfor\u001b[39;00m x \u001b[38;5;129;01min\u001b[39;00m casted_key)\n\u001b[0;32m   3810\u001b[0m     ):\n\u001b[0;32m   3811\u001b[0m         \u001b[38;5;28;01mraise\u001b[39;00m InvalidIndexError(key)\n\u001b[1;32m-> 3812\u001b[0m     \u001b[38;5;28;01mraise\u001b[39;00m \u001b[38;5;167;01mKeyError\u001b[39;00m(key) \u001b[38;5;28;01mfrom\u001b[39;00m \u001b[38;5;21;01merr\u001b[39;00m\n\u001b[0;32m   3813\u001b[0m \u001b[38;5;28;01mexcept\u001b[39;00m \u001b[38;5;167;01mTypeError\u001b[39;00m:\n\u001b[0;32m   3814\u001b[0m     \u001b[38;5;66;03m# If we have a listlike key, _check_indexing_error will raise\u001b[39;00m\n\u001b[0;32m   3815\u001b[0m     \u001b[38;5;66;03m#  InvalidIndexError. Otherwise we fall through and re-raise\u001b[39;00m\n\u001b[0;32m   3816\u001b[0m     \u001b[38;5;66;03m#  the TypeError.\u001b[39;00m\n\u001b[0;32m   3817\u001b[0m     \u001b[38;5;28mself\u001b[39m\u001b[38;5;241m.\u001b[39m_check_indexing_error(key)\n",
      "\u001b[1;31mKeyError\u001b[0m: 'L_ROHRVEC'"
     ]
    }
   ],
   "source": [
    "m.V3_ROHRVEC['L_ROHRVEC']"
   ]
  },
  {
   "cell_type": "code",
   "execution_count": 75,
   "id": "a6565d37-1992-4f5c-880f-fc768712c3c6",
   "metadata": {},
   "outputs": [
    {
     "data": {
      "text/plain": [
       "0      5691533564979419761\n",
       "1      5691533564979419761\n",
       "2      5048873293262650113\n",
       "3      5715081934973525403\n",
       "4      5413647981880727734\n",
       "              ...         \n",
       "532    4621030304810285220\n",
       "533    5046251450517706156\n",
       "534    5478012163155701568\n",
       "535    4968402990875758821\n",
       "536    4814824415166736381\n",
       "Name: pk_ROHRVEC, Length: 537, dtype: object"
      ]
     },
     "execution_count": 75,
     "metadata": {},
     "output_type": "execute_result"
    }
   ],
   "source": [
    "m.V3_AGSNVEC['pk_ROHRVEC']"
   ]
  },
  {
   "cell_type": "code",
   "execution_count": 78,
   "id": "05d296be-3735-4d97-90e6-a6a688d4848d",
   "metadata": {},
   "outputs": [
    {
     "data": {
      "text/html": [
       "<div>\n",
       "<style scoped>\n",
       "    .dataframe tbody tr th:only-of-type {\n",
       "        vertical-align: middle;\n",
       "    }\n",
       "\n",
       "    .dataframe tbody tr th {\n",
       "        vertical-align: top;\n",
       "    }\n",
       "\n",
       "    .dataframe thead th {\n",
       "        text-align: right;\n",
       "    }\n",
       "</style>\n",
       "<table border=\"1\" class=\"dataframe\">\n",
       "  <thead>\n",
       "    <tr style=\"text-align: right;\">\n",
       "      <th></th>\n",
       "      <th>pk</th>\n",
       "      <th>fkDE</th>\n",
       "      <th>rk</th>\n",
       "      <th>tk</th>\n",
       "      <th>fkKI</th>\n",
       "      <th>fkKK</th>\n",
       "      <th>fkDTRO_ROWD</th>\n",
       "      <th>fkLTGR</th>\n",
       "      <th>fkSTRASSE</th>\n",
       "      <th>L</th>\n",
       "      <th>...</th>\n",
       "      <th>('TMAX', 'KNOT~*~*~*~T', Timestamp('2023-02-12 23:00:00'), Timestamp('2023-02-13 23:00:00'))_k</th>\n",
       "      <th>('STAT', 'KNOT~*~*~*~RHO', Timestamp('2023-02-12 23:00:00'), Timestamp('2023-02-12 23:00:00'))_k</th>\n",
       "      <th>('TIME', 'KNOT~*~*~*~RHO', Timestamp('2023-02-12 23:00:00'), Timestamp('2023-02-12 23:00:00'))_k</th>\n",
       "      <th>('TMIN', 'KNOT~*~*~*~RHO', Timestamp('2023-02-12 23:00:00'), Timestamp('2023-02-13 23:00:00'))_k</th>\n",
       "      <th>('TMAX', 'KNOT~*~*~*~RHO', Timestamp('2023-02-12 23:00:00'), Timestamp('2023-02-13 23:00:00'))_k</th>\n",
       "      <th>QMAVAbs</th>\n",
       "      <th>VAVAbs</th>\n",
       "      <th>PHRAbs</th>\n",
       "      <th>JVAbs</th>\n",
       "      <th>geometry</th>\n",
       "    </tr>\n",
       "  </thead>\n",
       "  <tbody>\n",
       "    <tr>\n",
       "      <th>0</th>\n",
       "      <td>5442010239090746007</td>\n",
       "      <td>5306805303452857793</td>\n",
       "      <td>5442010239090746007</td>\n",
       "      <td>5442010239090746007</td>\n",
       "      <td>5669301360686511351</td>\n",
       "      <td>5397948523091900401</td>\n",
       "      <td>4684070986837856878</td>\n",
       "      <td>4779752876656844188</td>\n",
       "      <td>5644881417512616095</td>\n",
       "      <td>36.429348</td>\n",
       "      <td>...</td>\n",
       "      <td>89.844849</td>\n",
       "      <td>965.873657</td>\n",
       "      <td>965.873657</td>\n",
       "      <td>965.793091</td>\n",
       "      <td>965.873657</td>\n",
       "      <td>52.848595</td>\n",
       "      <td>0.752813</td>\n",
       "      <td>0.010414</td>\n",
       "      <td>0.285856</td>\n",
       "      <td>LINESTRING (713620.268 5578828.419, 713602.295...</td>\n",
       "    </tr>\n",
       "    <tr>\n",
       "      <th>1</th>\n",
       "      <td>4917786378639043296</td>\n",
       "      <td>5306805303452857793</td>\n",
       "      <td>4917786378639043296</td>\n",
       "      <td>4917786378639043296</td>\n",
       "      <td>5397948523091900401</td>\n",
       "      <td>5239335112004772156</td>\n",
       "      <td>5103141232976878720</td>\n",
       "      <td>4779752876656844188</td>\n",
       "      <td>5644881417512616095</td>\n",
       "      <td>57.217808</td>\n",
       "      <td>...</td>\n",
       "      <td>89.739197</td>\n",
       "      <td>965.990784</td>\n",
       "      <td>965.990845</td>\n",
       "      <td>965.856506</td>\n",
       "      <td>965.990845</td>\n",
       "      <td>29.705210</td>\n",
       "      <td>0.626863</td>\n",
       "      <td>0.014643</td>\n",
       "      <td>0.255914</td>\n",
       "      <td>LINESTRING (713602.295 5578860.106, 713574.062...</td>\n",
       "    </tr>\n",
       "    <tr>\n",
       "      <th>2</th>\n",
       "      <td>4762482310382009633</td>\n",
       "      <td>5306805303452857793</td>\n",
       "      <td>4762482310382009633</td>\n",
       "      <td>4762482310382009633</td>\n",
       "      <td>5239335112004772156</td>\n",
       "      <td>5298886695042021307</td>\n",
       "      <td>5103141232976878720</td>\n",
       "      <td>4779752876656844188</td>\n",
       "      <td>5644881417512616095</td>\n",
       "      <td>40.994816</td>\n",
       "      <td>...</td>\n",
       "      <td>89.720581</td>\n",
       "      <td>966.011597</td>\n",
       "      <td>966.011597</td>\n",
       "      <td>965.867676</td>\n",
       "      <td>966.011597</td>\n",
       "      <td>30.252146</td>\n",
       "      <td>0.637748</td>\n",
       "      <td>0.010845</td>\n",
       "      <td>0.264538</td>\n",
       "      <td>LINESTRING (713574.062 5578909.873, 713553.840...</td>\n",
       "    </tr>\n",
       "    <tr>\n",
       "      <th>3</th>\n",
       "      <td>4987229536643024523</td>\n",
       "      <td>5306805303452857793</td>\n",
       "      <td>4987229536643024523</td>\n",
       "      <td>4987229536643024523</td>\n",
       "      <td>5298886695042021307</td>\n",
       "      <td>4993257270457791438</td>\n",
       "      <td>5103141232976878720</td>\n",
       "      <td>4779752876656844188</td>\n",
       "      <td>5644881417512616095</td>\n",
       "      <td>6.833079</td>\n",
       "      <td>...</td>\n",
       "      <td>89.717468</td>\n",
       "      <td>966.015015</td>\n",
       "      <td>966.015076</td>\n",
       "      <td>965.869507</td>\n",
       "      <td>966.015076</td>\n",
       "      <td>30.252146</td>\n",
       "      <td>0.637153</td>\n",
       "      <td>0.001804</td>\n",
       "      <td>0.264079</td>\n",
       "      <td>LINESTRING (713553.840 5578945.533, 713553.394...</td>\n",
       "    </tr>\n",
       "    <tr>\n",
       "      <th>4</th>\n",
       "      <td>5722206630503885118</td>\n",
       "      <td>5306805303452857793</td>\n",
       "      <td>5722206630503885118</td>\n",
       "      <td>5722206630503885118</td>\n",
       "      <td>4993257270457791438</td>\n",
       "      <td>5317865645994989592</td>\n",
       "      <td>5103141232976878720</td>\n",
       "      <td>4779752876656844188</td>\n",
       "      <td>5644881417512616095</td>\n",
       "      <td>7.493101</td>\n",
       "      <td>...</td>\n",
       "      <td>89.71405</td>\n",
       "      <td>966.018799</td>\n",
       "      <td>966.01886</td>\n",
       "      <td>965.871582</td>\n",
       "      <td>966.01886</td>\n",
       "      <td>30.252146</td>\n",
       "      <td>0.637151</td>\n",
       "      <td>0.001979</td>\n",
       "      <td>0.264080</td>\n",
       "      <td>LINESTRING (713553.394 5578952.352, 713556.294...</td>\n",
       "    </tr>\n",
       "  </tbody>\n",
       "</table>\n",
       "<p>5 rows × 217 columns</p>\n",
       "</div>"
      ],
      "text/plain": [
       "                    pk                 fkDE                   rk  \\\n",
       "0  5442010239090746007  5306805303452857793  5442010239090746007   \n",
       "1  4917786378639043296  5306805303452857793  4917786378639043296   \n",
       "2  4762482310382009633  5306805303452857793  4762482310382009633   \n",
       "3  4987229536643024523  5306805303452857793  4987229536643024523   \n",
       "4  5722206630503885118  5306805303452857793  5722206630503885118   \n",
       "\n",
       "                    tk                 fkKI                 fkKK  \\\n",
       "0  5442010239090746007  5669301360686511351  5397948523091900401   \n",
       "1  4917786378639043296  5397948523091900401  5239335112004772156   \n",
       "2  4762482310382009633  5239335112004772156  5298886695042021307   \n",
       "3  4987229536643024523  5298886695042021307  4993257270457791438   \n",
       "4  5722206630503885118  4993257270457791438  5317865645994989592   \n",
       "\n",
       "           fkDTRO_ROWD               fkLTGR            fkSTRASSE          L  \\\n",
       "0  4684070986837856878  4779752876656844188  5644881417512616095  36.429348   \n",
       "1  5103141232976878720  4779752876656844188  5644881417512616095  57.217808   \n",
       "2  5103141232976878720  4779752876656844188  5644881417512616095  40.994816   \n",
       "3  5103141232976878720  4779752876656844188  5644881417512616095   6.833079   \n",
       "4  5103141232976878720  4779752876656844188  5644881417512616095   7.493101   \n",
       "\n",
       "   ...  \\\n",
       "0  ...   \n",
       "1  ...   \n",
       "2  ...   \n",
       "3  ...   \n",
       "4  ...   \n",
       "\n",
       "   ('TMAX', 'KNOT~*~*~*~T', Timestamp('2023-02-12 23:00:00'), Timestamp('2023-02-13 23:00:00'))_k  \\\n",
       "0                                          89.844849                                                \n",
       "1                                          89.739197                                                \n",
       "2                                          89.720581                                                \n",
       "3                                          89.717468                                                \n",
       "4                                           89.71405                                                \n",
       "\n",
       "   ('STAT', 'KNOT~*~*~*~RHO', Timestamp('2023-02-12 23:00:00'), Timestamp('2023-02-12 23:00:00'))_k  \\\n",
       "0                                         965.873657                                                  \n",
       "1                                         965.990784                                                  \n",
       "2                                         966.011597                                                  \n",
       "3                                         966.015015                                                  \n",
       "4                                         966.018799                                                  \n",
       "\n",
       "   ('TIME', 'KNOT~*~*~*~RHO', Timestamp('2023-02-12 23:00:00'), Timestamp('2023-02-12 23:00:00'))_k  \\\n",
       "0                                         965.873657                                                  \n",
       "1                                         965.990845                                                  \n",
       "2                                         966.011597                                                  \n",
       "3                                         966.015076                                                  \n",
       "4                                          966.01886                                                  \n",
       "\n",
       "   ('TMIN', 'KNOT~*~*~*~RHO', Timestamp('2023-02-12 23:00:00'), Timestamp('2023-02-13 23:00:00'))_k  \\\n",
       "0                                         965.793091                                                  \n",
       "1                                         965.856506                                                  \n",
       "2                                         965.867676                                                  \n",
       "3                                         965.869507                                                  \n",
       "4                                         965.871582                                                  \n",
       "\n",
       "   ('TMAX', 'KNOT~*~*~*~RHO', Timestamp('2023-02-12 23:00:00'), Timestamp('2023-02-13 23:00:00'))_k  \\\n",
       "0                                         965.873657                                                  \n",
       "1                                         965.990845                                                  \n",
       "2                                         966.011597                                                  \n",
       "3                                         966.015076                                                  \n",
       "4                                          966.01886                                                  \n",
       "\n",
       "     QMAVAbs    VAVAbs    PHRAbs     JVAbs  \\\n",
       "0  52.848595  0.752813  0.010414  0.285856   \n",
       "1  29.705210  0.626863  0.014643  0.255914   \n",
       "2  30.252146  0.637748  0.010845  0.264538   \n",
       "3  30.252146  0.637153  0.001804  0.264079   \n",
       "4  30.252146  0.637151  0.001979  0.264080   \n",
       "\n",
       "                                            geometry  \n",
       "0  LINESTRING (713620.268 5578828.419, 713602.295...  \n",
       "1  LINESTRING (713602.295 5578860.106, 713574.062...  \n",
       "2  LINESTRING (713574.062 5578909.873, 713553.840...  \n",
       "3  LINESTRING (713553.840 5578945.533, 713553.394...  \n",
       "4  LINESTRING (713553.394 5578952.352, 713556.294...  \n",
       "\n",
       "[5 rows x 217 columns]"
      ]
     },
     "execution_count": 78,
     "metadata": {},
     "output_type": "execute_result"
    }
   ],
   "source": [
    "m.gdf_ROHR.head()"
   ]
  },
  {
   "cell_type": "code",
   "execution_count": 79,
   "id": "8508b8df-5c81-482a-a54a-9d83d0809927",
   "metadata": {},
   "outputs": [
    {
     "data": {
      "text/plain": [
       "<networkx.classes.graph.Graph at 0x21e52fd4d90>"
      ]
     },
     "execution_count": 79,
     "metadata": {},
     "output_type": "execute_result"
    }
   ],
   "source": [
    "m.G"
   ]
  },
  {
   "cell_type": "code",
   "execution_count": 80,
   "id": "1f997cfc-3554-4603-addc-5a263925a18a",
   "metadata": {},
   "outputs": [
    {
     "data": {
      "text/plain": [
       "<networkx.classes.digraph.DiGraph at 0x21e52f915d0>"
      ]
     },
     "execution_count": 80,
     "metadata": {},
     "output_type": "execute_result"
    }
   ],
   "source": [
    "m.GSig\n"
   ]
  },
  {
   "cell_type": "code",
   "execution_count": 84,
   "id": "ff4d1e46-ffb4-48f2-ab71-f80fdd5bf4e7",
   "metadata": {},
   "outputs": [
    {
     "data": {
      "text/plain": [
       "dict"
      ]
     },
     "execution_count": 84,
     "metadata": {},
     "output_type": "execute_result"
    }
   ],
   "source": [
    "type(m.nodeposDctNx)"
   ]
  },
  {
   "cell_type": "code",
   "execution_count": 87,
   "id": "bfb2fe4c-5c0f-4e80-aa45-18ff6d5efaeb",
   "metadata": {},
   "outputs": [
    {
     "name": "stdout",
     "output_type": "stream",
     "text": [
      "['G', 'GSig', 'nodeposDctNx']\n"
     ]
    }
   ],
   "source": [
    "print([attr for attr in dir(m) if not attr.startswith('_') and isinstance(getattr(m, attr), (nx.Graph, nx.DiGraph, dict))])"
   ]
  },
  {
   "cell_type": "code",
   "execution_count": 86,
   "id": "472f015f-14a2-40d0-b754-720b884a34d8",
   "metadata": {},
   "outputs": [],
   "source": [
    "import networkx as nx"
   ]
  },
  {
   "cell_type": "code",
   "execution_count": 88,
   "id": "d29695db-59bc-4ab4-8253-bd22b0fd0c95",
   "metadata": {},
   "outputs": [
    {
     "ename": "AttributeError",
     "evalue": "'dxWithMx' object has no attribute 'SirCalcExeFile'",
     "output_type": "error",
     "traceback": [
      "\u001b[1;31m---------------------------------------------------------------------------\u001b[0m",
      "\u001b[1;31mAttributeError\u001b[0m                            Traceback (most recent call last)",
      "Cell \u001b[1;32mIn[88], line 1\u001b[0m\n\u001b[1;32m----> 1\u001b[0m m\u001b[38;5;241m.\u001b[39mSirCalcExeFile\n",
      "\u001b[1;31mAttributeError\u001b[0m: 'dxWithMx' object has no attribute 'SirCalcExeFile'"
     ]
    }
   ],
   "source": [
    "m.SirCalcExeFile"
   ]
  },
  {
   "cell_type": "code",
   "execution_count": 89,
   "id": "11cbb66d-f488-4555-bbab-99b055c3cfa6",
   "metadata": {},
   "outputs": [
    {
     "data": {
      "text/plain": [
       "'c:\\\\users\\\\jablonski\\\\3s\\\\pt3s\\\\Examples\\\\WDExample1\\\\B1\\\\V0\\\\BZ1\\\\M-1-0-1.XML'"
      ]
     },
     "execution_count": 89,
     "metadata": {},
     "output_type": "execute_result"
    }
   ],
   "source": [
    "m.SirCalcXmlFile"
   ]
  },
  {
   "cell_type": "code",
   "execution_count": 90,
   "id": "a6773231-60e5-432f-9ddd-752b983a4a46",
   "metadata": {},
   "outputs": [
    {
     "name": "stdout",
     "output_type": "stream",
     "text": [
      "['SirCalcXmlFile', 'flowMVEC', 'wDirMx']\n"
     ]
    }
   ],
   "source": [
    "print([attr for attr in dir(m) if not attr.startswith('_') and isinstance(getattr(m, attr), str)])"
   ]
  },
  {
   "cell_type": "markdown",
   "id": "28e12007-08d3-4c1b-a97a-78612ae3fb22",
   "metadata": {},
   "source": [
    "m.nodeposDctNx"
   ]
  },
  {
   "cell_type": "code",
   "execution_count": null,
   "id": "39a0b9e8-a0d3-474d-a304-0e0af47b08e4",
   "metadata": {},
   "outputs": [],
   "source": []
  },
  {
   "cell_type": "markdown",
   "id": "8ecd3db6-fdca-4e0b-85f1-706cd98655e9",
   "metadata": {},
   "source": [
    "# Toolkit "
   ]
  },
  {
   "cell_type": "markdown",
   "id": "dbece7d5-a748-46a9-8c5f-50bcd8fff825",
   "metadata": {},
   "source": [
    "## Useful Scripts to copy"
   ]
  },
  {
   "cell_type": "code",
   "execution_count": null,
   "id": "09b486c1-97ce-4523-97e0-c9fac2037794",
   "metadata": {},
   "outputs": [],
   "source": [
    "def wipe_elements(s3s):\n",
    "    # Get lists of node and pipe IDs\n",
    "    node_tks = s3s.GetTksofElementType(ElementType=Interfaces.Sir3SObjectTypes.Node)\n",
    "    pipe_tks = s3s.GetTksofElementType(ElementType=Interfaces.Sir3SObjectTypes.Pipe)\n",
    "    \n",
    "    # Delete all nodes\n",
    "    for node_tk in node_tks:\n",
    "        s3s.DeleteElement(node_tk)\n",
    "    \n",
    "    # Delete all pipes\n",
    "    for pipe_tk in pipe_tks:\n",
    "        s3s.DeleteElement(pipe_tk)\n",
    "\n",
    "wipe_elements(s3s)"
   ]
  },
  {
   "cell_type": "code",
   "execution_count": null,
   "id": "927c9939-a010-4b0e-981c-1d367fb4fd9f",
   "metadata": {},
   "outputs": [],
   "source": [
    "def print_graph_info(G):\n",
    "    # Print basic information about the graph\n",
    "    print(\"Graph Information:\")\n",
    "    print(f\"Number of nodes: {G.number_of_nodes()}\")\n",
    "    print(f\"Number of edges: {G.number_of_edges()}\")\n",
    "    \n",
    "    # Print nodes with their attributes\n",
    "    print(\"\\nNodes and their attributes:\")\n",
    "    for node, attrs in G.nodes(data=True):\n",
    "        print(f\"Node {node}: {attrs}\")\n",
    "    \n",
    "    # Print edges with their attributes\n",
    "    print(\"\\nEdges and their attributes:\")\n",
    "    for edge in G.edges(data=True):\n",
    "        print(f\"Edge {edge[0]} -> {edge[1]}: {edge[2]}\")"
   ]
  }
 ],
 "metadata": {
  "kernelspec": {
   "display_name": "Python 3 (ipykernel)",
   "language": "python",
   "name": "python3"
  },
  "language_info": {
   "codemirror_mode": {
    "name": "ipython",
    "version": 3
   },
   "file_extension": ".py",
   "mimetype": "text/x-python",
   "name": "python",
   "nbconvert_exporter": "python",
   "pygments_lexer": "ipython3",
   "version": "3.11.8"
  }
 },
 "nbformat": 4,
 "nbformat_minor": 5
}
