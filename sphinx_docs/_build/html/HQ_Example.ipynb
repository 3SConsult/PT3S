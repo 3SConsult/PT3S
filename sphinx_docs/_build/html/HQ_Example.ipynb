{
 "cells": [
  {
   "cell_type": "markdown",
   "id": "84751c6b-9b52-4253-a48e-c9017815b468",
   "metadata": {},
   "source": [
    "# Imports"
   ]
  },
  {
   "cell_type": "code",
   "execution_count": 5,
   "id": "52ca4068-fc2f-4495-a123-57d5411ac6fa",
   "metadata": {},
   "outputs": [],
   "source": [
    "import os\n",
    "import subprocess\n",
    "import venv\n",
    "import setuptools"
   ]
  },
  {
   "cell_type": "markdown",
   "id": "678ec3f6-9913-4c36-8d31-23d12daeccfd",
   "metadata": {},
   "source": [
    "# Testing Examples"
   ]
  },
  {
   "cell_type": "code",
   "execution_count": 4,
   "id": "365ff152-31d8-440e-b555-2a200eba04e0",
   "metadata": {},
   "outputs": [
    {
     "name": "stdout",
     "output_type": "stream",
     "text": [
      "Das Skript Example0.ipynb wurde erfolgreich ausgeführt.\n",
      "Das Skript Example1.ipynb wurde erfolgreich ausgeführt.\n",
      "Das Skript Example2.ipynb wurde erfolgreich ausgeführt.\n",
      "Fehler beim Ausführen des Skripts Planungsbeispiel.ipynb.\n"
     ]
    }
   ],
   "source": [
    "examples = ['Example0.ipynb', 'Example1.ipynb', 'Example2.ipynb','Planungsbeispiel.ipynb']\n",
    "\n",
    "for example in examples:\n",
    "    try:\n",
    "        result = subprocess.run(['python', example], check=True)\n",
    "        print(f'Das Skript {example} wurde erfolgreich ausgeführt.')\n",
    "    except subprocess.CalledProcessError:\n",
    "        print(f'Fehler beim Ausführen des Skripts {example}.')"
   ]
  },
  {
   "cell_type": "code",
   "execution_count": null,
   "id": "a6c809e9-f0ee-436d-ba71-b653aab4b2cf",
   "metadata": {},
   "outputs": [],
   "source": [
    "import subprocess\n",
    "import venv\n",
    "import importlib.util\n",
    "\n",
    "# Erstellen Sie eine virtuelle Umgebung\n",
    "venv_dir = \"C:/Users/jablonski/3S/venv\"\n",
    "venv.create(venv_dir, with_pip=True)\n",
    "\n",
    "# Importieren Sie die setup.py-Datei als Modul\n",
    "setup_file = r\"C:\\Users\\jablonski\\3S\\PT3S\\setup.py\"\n",
    "spec = importlib.util.spec_from_file_location(\"setup\", setup_file)\n",
    "setup = importlib.util.module_from_spec(spec)\n",
    "spec.loader.exec_module(setup)\n",
    "\n",
    "# Extrahieren Sie die install_requires-Liste\n",
    "requirements = setup.install_requires\n",
    "\n",
    "for package in requirements:\n",
    "    subprocess.run([f\"{venv_dir}/Scripts/pip\", \"install\", package], check=True)\n",
    "\n",
    "examples = ['Example0.ipynb', 'Example1.ipynb', 'Example2.ipynb','Planungsbeispiel.ipynb']\n",
    "\n",
    "for example in examples:\n",
    "    try:\n",
    "        # Führen Sie das Skript in der virtuellen Umgebung aus\n",
    "        result = subprocess.run([f\"{venv_dir}/Scripts/python\", example], check=True)\n",
    "        print(f'Das Skript {example} wurde erfolgreich ausgeführt.')\n",
    "    except subprocess.CalledProcessError:\n",
    "        print(f'Fehler beim Ausführen des Skripts {example}.')\n"
   ]
  },
  {
   "cell_type": "markdown",
   "id": "f8b7960f-a9e7-416f-89ba-e6c95f67cbc4",
   "metadata": {},
   "source": [
    "# Overwriting MX with Blank Files"
   ]
  },
  {
   "cell_type": "code",
   "execution_count": null,
   "id": "366ce877-84f5-40e5-8948-086dc9d3a5a4",
   "metadata": {},
   "outputs": [],
   "source": [
    "#Mx1 and Xml are not overwritten and not to be deleted"
   ]
  },
  {
   "cell_type": "markdown",
   "id": "d93afc8e-0a24-478d-ba44-164e799d7e91",
   "metadata": {},
   "source": [
    "## Example1"
   ]
  },
  {
   "cell_type": "code",
   "execution_count": 13,
   "id": "5b13fb84-81f6-4bea-a9e5-bc09833a2faa",
   "metadata": {},
   "outputs": [],
   "source": [
    "directory = r\"C:\\Users\\jablonski\\3S\\PT3S\\Examples\\WDWärmenetz-Planungsbeispiel\\B1\\V0\\BZ1\"\n",
    "\n",
    "files = [\n",
    "    \"M-1-0-1.1.MX3\",\n",
    "    \"M-1-0-1.1.MXS\",\n",
    "    \"M-1-0-1.1.vec.h5\",\n",
    "    \"M-1-0-1.ilog\",\n",
    "    \"M-1-0-1.log\",\n",
    "    \"M-1-0-1.MX2\",\n",
    "]\n",
    "\n",
    "for file in files:\n",
    "    file_path = os.path.join(directory, file)\n",
    "    \n",
    "    # Open the file in write mode ('w') to overwrite existing content\n",
    "    open(file_path, 'w').close()"
   ]
  },
  {
   "cell_type": "markdown",
   "id": "748995f9-691b-49ba-a779-3f47132c9d63",
   "metadata": {},
   "source": [
    "## Example2"
   ]
  },
  {
   "cell_type": "code",
   "execution_count": 15,
   "id": "78bc22fa-671a-4b9a-ba71-075e853ae49e",
   "metadata": {},
   "outputs": [],
   "source": [
    "directory = r\"C:\\Users\\jablonski\\3S\\PT3S\\Examples\\WDBeispiel_Wasser_STAND9\\B1\\V0\\BZ1\"\n",
    "\n",
    "files = [\n",
    "    \"M-1-0-1.1.MX3\",\n",
    "    \"M-1-0-1.1.MXS\",\n",
    "    \"M-1-0-1.1.vec.h5\",\n",
    "    \"M-1-0-1.ilog\",\n",
    "    \"M-1-0-1.log\",\n",
    "    \"M-1-0-1.MX2\",\n",
    "]\n",
    "\n",
    "for file in files:\n",
    "    file_path = os.path.join(directory, file)\n",
    "    \n",
    "    open(file_path, 'w').close()"
   ]
  },
  {
   "cell_type": "code",
   "execution_count": null,
   "id": "418a1946-4632-47e0-b1c6-afdcf4edf10e",
   "metadata": {},
   "outputs": [],
   "source": []
  }
 ],
 "metadata": {
  "kernelspec": {
   "display_name": "Python 3 (ipykernel)",
   "language": "python",
   "name": "python3"
  },
  "language_info": {
   "codemirror_mode": {
    "name": "ipython",
    "version": 3
   },
   "file_extension": ".py",
   "mimetype": "text/x-python",
   "name": "python",
   "nbconvert_exporter": "python",
   "pygments_lexer": "ipython3",
   "version": "3.11.8"
  }
 },
 "nbformat": 4,
 "nbformat_minor": 5
}
