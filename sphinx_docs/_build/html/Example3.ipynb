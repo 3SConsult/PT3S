{
 "cells": [
  {
   "cell_type": "markdown",
   "id": "7a1fb7aa-5d42-4813-8cfc-138d37e190b7",
   "metadata": {},
   "source": [
    "# Imports"
   ]
  },
  {
   "cell_type": "code",
   "execution_count": 1,
   "id": "0226b804-5149-4dc7-9188-8aad75db325d",
   "metadata": {},
   "outputs": [],
   "source": [
    "import os\n",
    "import logging\n",
    "import pandas as pd\n",
    "import datetime\n",
    "import numpy as np\n",
    "import subprocess\n",
    "\n",
    "import matplotlib\n",
    "import matplotlib.pyplot as plt\n",
    "import matplotlib.dates as mdates\n",
    "import matplotlib.gridspec as gridspec\n",
    "import matplotlib.ticker as ticker\n",
    "import matplotlib.colors as mcolors\n",
    "from matplotlib.pyplot import Polygon\n",
    "from matplotlib.ticker import FuncFormatter\n",
    "from matplotlib.dates import DateFormatter, MinuteLocator\n",
    "import matplotlib.ticker as ticker\n",
    "\n",
    "import ipywidgets as widgets\n",
    "from ipywidgets import interact\n",
    "\n",
    "from bokeh.plotting import figure, show, output_file\n",
    "from bokeh.models import ColumnDataSource, LinearAxis, Range1d\n",
    "from bokeh.palettes import Spectral10\n",
    "\n",
    "from IPython.display import Image\n",
    "\n",
    "try:\n",
    "    from PT3S import dxAndMxHelperFcts\n",
    "except:\n",
    "    import dxAndMxHelperFcts\n",
    "\n",
    "try:\n",
    "    from PT3S import Rm\n",
    "except:\n",
    "    import Rm"
   ]
  },
  {
   "cell_type": "code",
   "execution_count": 2,
   "id": "436ab766-53d1-48d8-8cee-23afdaa087f6",
   "metadata": {},
   "outputs": [],
   "source": [
    "pt3s_path = os.path.dirname(os.path.abspath(dxAndMxHelperFcts.__file__))"
   ]
  },
  {
   "cell_type": "markdown",
   "id": "6ea9586f-0ea5-4b25-8ec9-0d350fa77c24",
   "metadata": {},
   "source": [
    "# Logging"
   ]
  },
  {
   "cell_type": "code",
   "execution_count": 3,
   "id": "7c93b42e-919d-4edf-a342-253e67b02132",
   "metadata": {},
   "outputs": [],
   "source": [
    "logger = logging.getLogger()  \n",
    "\n",
    "logFileName= r\"Example3.log\" \n",
    "\n",
    "loglevel = logging.DEBUG\n",
    "logging.basicConfig(filename=logFileName\n",
    "                        ,filemode='w'\n",
    "                        ,level=loglevel\n",
    "                        ,format=\"%(asctime)s ; %(name)-60s ; %(levelname)-7s ; %(message)s\")    \n",
    "\n",
    "fileHandler = logging.FileHandler(logFileName)     \n",
    "\n",
    "logger.addHandler(fileHandler)\n",
    "\n",
    "consoleHandler = logging.StreamHandler()\n",
    "consoleHandler.setFormatter(logging.Formatter(\"%(levelname)-7s ; %(message)s\"))\n",
    "consoleHandler.setLevel(logging.INFO)\n",
    "logger.addHandler(consoleHandler)"
   ]
  },
  {
   "cell_type": "markdown",
   "id": "ad32f218-42fd-439e-8ce3-3d135cdbe414",
   "metadata": {},
   "source": [
    "# Model and SirCalc"
   ]
  },
  {
   "cell_type": "code",
   "execution_count": 93,
   "id": "26f78703-9a0c-4a1a-af2a-d5b6a05b2ca0",
   "metadata": {},
   "outputs": [],
   "source": [
    "dbFilename=\"DistrictHeating\""
   ]
  },
  {
   "cell_type": "code",
   "execution_count": 94,
   "id": "16f62619-a3dc-4e40-9655-4643865ffba6",
   "metadata": {},
   "outputs": [],
   "source": [
    "rootdir=\"WDDistrictHeating\""
   ]
  },
  {
   "cell_type": "raw",
   "id": "9039f8e7-e17b-4e80-b749-a06e6c03c5de",
   "metadata": {},
   "source": [
    "You need to enter the specific path  to SirCalc on your system."
   ]
  },
  {
   "cell_type": "code",
   "execution_count": 95,
   "id": "5984d0b5-0380-4519-a054-c1f9c4109804",
   "metadata": {},
   "outputs": [],
   "source": [
    "SirCalc = r\"C:\\3S\\SIR 3S\\SirCalc-90-14-02-10_Potsdam\\SirCalc.exe\""
   ]
  },
  {
   "cell_type": "markdown",
   "id": "7a70fc57-b745-4c96-957f-c22211cbf931",
   "metadata": {},
   "source": [
    "# Calculation of Results"
   ]
  },
  {
   "cell_type": "raw",
   "id": "732d608c-1182-4a91-8217-ee3f3fb923d6",
   "metadata": {},
   "source": [
    "The calculations take some time. If you have calculated the results once and want to rerun the script, set this to False."
   ]
  },
  {
   "cell_type": "code",
   "execution_count": 6,
   "id": "69678818-dfb5-4a0b-97d5-1a5d20b18581",
   "metadata": {},
   "outputs": [],
   "source": [
    "calculate=False"
   ]
  },
  {
   "cell_type": "code",
   "execution_count": 7,
   "id": "c745814f-a308-483f-96bb-f8ca60972767",
   "metadata": {},
   "outputs": [],
   "source": [
    "SirCalcXml = os.path.join(pt3s_path, \"Examples\", \"WDDistrictHeating\", \"B1\", \"V0\", \"BZ1\", \"M-1-0-1.XML\")"
   ]
  },
  {
   "cell_type": "code",
   "execution_count": 8,
   "id": "2dc7243e-298a-4486-a5e7-544bae23333c",
   "metadata": {},
   "outputs": [],
   "source": [
    "if calculate:\n",
    "    with subprocess.Popen([SirCalc, SirCalcXml]) as process:\n",
    "        process.wait()"
   ]
  },
  {
   "cell_type": "markdown",
   "id": "df38a119-bf7c-47ea-a309-f06dfd9c4e28",
   "metadata": {},
   "source": [
    "# Read Model and Results"
   ]
  },
  {
   "cell_type": "code",
   "execution_count": 9,
   "id": "f8b5221c-0fd1-4fbc-abaf-81325ad2629d",
   "metadata": {},
   "outputs": [
    {
     "name": "stderr",
     "output_type": "stream",
     "text": [
      "INFO    ; Dx.__init__: dbFile (abspath): c:\\users\\jablonski\\3s\\pt3s\\Examples\\DistrictHeating.db3 exists readable ...\n",
      "INFO    ; dxAndMxHelperFcts.readDxAndMx: ..\\Examples\\DistrictHeating.db3 is newer than ..\\Examples\\WDDistrictHeating\\B1\\V0\\BZ1\\M-1-0-1.1.MX1: SIR 3S' dbFile is newer than SIR 3S' mxFile; in this case the results are maybe dated or (worse) incompatible to the model\n",
      "INFO    ; dxAndMxHelperFcts.readDxAndMx: ..\\Examples\\WDDistrictHeating\\B1\\V0\\BZ1\\M-1-0-1.XML is newer than ..\\Examples\\WDDistrictHeating\\B1\\V0\\BZ1\\M-1-0-1.1.MX1: SirCalc's xmlFile is newer than SIR 3S' mxFile; in this case the results are dated or (worse) incompatible to the model\n",
      "INFO    ; Mx.setResultsToMxsFile: Mxs: ..\\Examples\\WDDistrictHeating\\B1\\V0\\BZ1\\M-1-0-1.1.MXS reading ...\n",
      "INFO    ; dxWithMx.__init__: DistrictHeating: processing dx and mx ...\n"
     ]
    }
   ],
   "source": [
    "m=dxAndMxHelperFcts.readDxAndMx(dbFile=os.path.join(pt3s_path+'/Examples/'+dbFilename+'.db3')\n",
    "                                ,preventPklDump=True\n",
    "                               )"
   ]
  },
  {
   "cell_type": "markdown",
   "id": "8311b30d-90d7-4dac-918e-9ab104b44769",
   "metadata": {},
   "source": [
    "# Editing"
   ]
  },
  {
   "cell_type": "markdown",
   "id": "bb4391ff-574b-48cd-9c7c-b432b482db51",
   "metadata": {},
   "source": [
    "## Get Nodes"
   ]
  },
  {
   "cell_type": "code",
   "execution_count": 104,
   "id": "c5469140-07d9-484a-b50d-53e0ece8fa21",
   "metadata": {},
   "outputs": [],
   "source": [
    "dfAGSN=m.dfAGSN"
   ]
  },
  {
   "cell_type": "code",
   "execution_count": 105,
   "id": "8bf5c3b4-6e0b-4b34-84b4-78fd32040187",
   "metadata": {},
   "outputs": [],
   "source": [
    "dfAGSN=dfAGSN[['ID','Pos', 'LFDNR']]"
   ]
  },
  {
   "cell_type": "code",
   "execution_count": 106,
   "id": "57767ba0-662c-4826-bd94-9b270fed178b",
   "metadata": {},
   "outputs": [],
   "source": [
    "dfVBEL=m.V3_VBEL.reset_index()"
   ]
  },
  {
   "cell_type": "code",
   "execution_count": 107,
   "id": "534360aa-1bad-4f40-8a71-1c6d51a257ad",
   "metadata": {},
   "outputs": [],
   "source": [
    "dfVBEL=dfVBEL[['OBJID','pk_i', 'pk_k']]"
   ]
  },
  {
   "cell_type": "code",
   "execution_count": 108,
   "id": "bcdbbc70-2141-4b9e-9346-390884ff8dde",
   "metadata": {},
   "outputs": [],
   "source": [
    "df=pd.merge(dfAGSN, dfVBEL, left_on='ID', right_on='OBJID', how='inner')"
   ]
  },
  {
   "cell_type": "code",
   "execution_count": 109,
   "id": "f6a5e501-4994-493d-a8c5-d4a9a046ffce",
   "metadata": {},
   "outputs": [],
   "source": [
    "df=df.drop_duplicates()"
   ]
  },
  {
   "cell_type": "code",
   "execution_count": 110,
   "id": "2a015c9b-0aee-41df-87b3-1b2abb907656",
   "metadata": {},
   "outputs": [],
   "source": [
    "df_i=df[df['pk_i'].notna()]\n",
    "df_k=df[df['pk_k'].notna()]\n",
    "df_i=df_i.rename(columns={'pk_i': 'pk'})\n",
    "df_k=df_k.rename(columns={'pk_k': 'pk'})\n",
    "df=pd.concat([df_i, df_k])"
   ]
  },
  {
   "cell_type": "code",
   "execution_count": 111,
   "id": "00bfdd10-f3e6-44ed-9848-d2937e9c24e9",
   "metadata": {},
   "outputs": [],
   "source": [
    "df=df.drop(columns=['pk_i', 'pk_k', 'OBJID'])"
   ]
  },
  {
   "cell_type": "code",
   "execution_count": 112,
   "id": "c491f8d9-895b-4014-a5c1-08ca8faae65f",
   "metadata": {},
   "outputs": [],
   "source": [
    "df=df.sort_values('ID')\n",
    "df=df.drop_duplicates(subset=['Pos', 'LFDNR', 'pk'], keep='first')"
   ]
  },
  {
   "cell_type": "code",
   "execution_count": 113,
   "id": "7a33e148-575f-45bd-8c0b-65a638ee9ffa",
   "metadata": {},
   "outputs": [],
   "source": [
    "df=df.sort_values(['Pos', 'LFDNR'])"
   ]
  },
  {
   "cell_type": "markdown",
   "id": "d47b1bba-d8d6-4384-9f31-4df6b62e7086",
   "metadata": {},
   "source": [
    "## Get Node Results"
   ]
  },
  {
   "cell_type": "code",
   "execution_count": 114,
   "id": "d53da7a9-ff11-42b1-9934-98e0bb65c36a",
   "metadata": {},
   "outputs": [],
   "source": [
    "dfKNOT=m.V3_KNOT"
   ]
  },
  {
   "cell_type": "code",
   "execution_count": 115,
   "id": "54f9fc1e-1ba4-44ac-bc8e-f9691c0c6cc1",
   "metadata": {},
   "outputs": [],
   "source": [
    "df=pd.merge(df, dfKNOT, on='pk', how='left')"
   ]
  },
  {
   "cell_type": "code",
   "execution_count": 116,
   "id": "396e6603-aa4a-4651-88bb-b4b32fe08718",
   "metadata": {},
   "outputs": [],
   "source": [
    "df=df[~df['NAME'].str.startswith('R')]"
   ]
  },
  {
   "cell_type": "code",
   "execution_count": 117,
   "id": "50ab700a-a275-4547-acdd-694238d8c3a2",
   "metadata": {},
   "outputs": [],
   "source": [
    "new_names = {df.columns[162]: 'P', df.columns[194]: 'QM', df.columns[202]: 'T'}#!!!!!!!Massenstrom nicht Volumenstrom\n",
    "df.rename(columns=new_names, inplace=True)"
   ]
  },
  {
   "cell_type": "code",
   "execution_count": 118,
   "id": "20a48df9-8663-4e0a-a863-5357fbbcc01a",
   "metadata": {},
   "outputs": [],
   "source": [
    "cols_to_keep=['ID', 'Pos', 'LFDNR', 'pk', 'NAME','P','QM','T']"
   ]
  },
  {
   "cell_type": "code",
   "execution_count": 119,
   "id": "f821f598-f9e5-4989-968c-9df12fb0a61f",
   "metadata": {},
   "outputs": [],
   "source": [
    "df=df[cols_to_keep]"
   ]
  },
  {
   "cell_type": "code",
   "execution_count": 120,
   "id": "6f9b34f5-e04d-45ec-82d7-bf9b34050c88",
   "metadata": {},
   "outputs": [],
   "source": [
    "dfs = [df[df['LFDNR'] == i] for i in [1.0, 2.0, 3.0]]"
   ]
  },
  {
   "cell_type": "code",
   "execution_count": 121,
   "id": "41191460-e0be-4385-a21c-d2452634a204",
   "metadata": {},
   "outputs": [],
   "source": [
    "for df in dfs:\n",
    "    df.reset_index(inplace=True, drop=True)"
   ]
  },
  {
   "cell_type": "code",
   "execution_count": 122,
   "id": "3bcd4ffd-2de6-47df-92ec-d013a39ad9cf",
   "metadata": {},
   "outputs": [
    {
     "data": {
      "text/html": [
       "<div>\n",
       "<style scoped>\n",
       "    .dataframe tbody tr th:only-of-type {\n",
       "        vertical-align: middle;\n",
       "    }\n",
       "\n",
       "    .dataframe tbody tr th {\n",
       "        vertical-align: top;\n",
       "    }\n",
       "\n",
       "    .dataframe thead th {\n",
       "        text-align: right;\n",
       "    }\n",
       "</style>\n",
       "<table border=\"1\" class=\"dataframe\">\n",
       "  <thead>\n",
       "    <tr style=\"text-align: right;\">\n",
       "      <th></th>\n",
       "      <th>ID</th>\n",
       "      <th>Pos</th>\n",
       "      <th>LFDNR</th>\n",
       "      <th>pk</th>\n",
       "      <th>NAME</th>\n",
       "      <th>P</th>\n",
       "      <th>QM</th>\n",
       "      <th>T</th>\n",
       "    </tr>\n",
       "  </thead>\n",
       "  <tbody>\n",
       "    <tr>\n",
       "      <th>0</th>\n",
       "      <td>5691533564979419761</td>\n",
       "      <td>0</td>\n",
       "      <td>1.0</td>\n",
       "      <td>5398100694284104779</td>\n",
       "      <td>V-E0</td>\n",
       "      <td>5.878388</td>\n",
       "      <td>0.0</td>\n",
       "      <td>90.0</td>\n",
       "    </tr>\n",
       "    <tr>\n",
       "      <th>1</th>\n",
       "      <td>5691533564979419761</td>\n",
       "      <td>0</td>\n",
       "      <td>1.0</td>\n",
       "      <td>4825391580467484032</td>\n",
       "      <td>V-K1683S</td>\n",
       "      <td>5.800117</td>\n",
       "      <td>0.0</td>\n",
       "      <td>89.998016</td>\n",
       "    </tr>\n",
       "    <tr>\n",
       "      <th>2</th>\n",
       "      <td>5048873293262650113</td>\n",
       "      <td>1</td>\n",
       "      <td>1.0</td>\n",
       "      <td>4825391580467484032</td>\n",
       "      <td>V-K1683S</td>\n",
       "      <td>5.800117</td>\n",
       "      <td>0.0</td>\n",
       "      <td>89.998016</td>\n",
       "    </tr>\n",
       "    <tr>\n",
       "      <th>3</th>\n",
       "      <td>5048873293262650113</td>\n",
       "      <td>1</td>\n",
       "      <td>1.0</td>\n",
       "      <td>5180617780362861593</td>\n",
       "      <td>V-K1693S</td>\n",
       "      <td>5.731768</td>\n",
       "      <td>0.0</td>\n",
       "      <td>89.996399</td>\n",
       "    </tr>\n",
       "    <tr>\n",
       "      <th>4</th>\n",
       "      <td>5715081934973525403</td>\n",
       "      <td>2</td>\n",
       "      <td>1.0</td>\n",
       "      <td>4964920487041183545</td>\n",
       "      <td>V-K2163S</td>\n",
       "      <td>5.698539</td>\n",
       "      <td>0.0</td>\n",
       "      <td>89.995605</td>\n",
       "    </tr>\n",
       "  </tbody>\n",
       "</table>\n",
       "</div>"
      ],
      "text/plain": [
       "                    ID  Pos  LFDNR                   pk      NAME         P   QM          T\n",
       "0  5691533564979419761    0    1.0  5398100694284104779      V-E0  5.878388  0.0       90.0\n",
       "1  5691533564979419761    0    1.0  4825391580467484032  V-K1683S  5.800117  0.0  89.998016\n",
       "2  5048873293262650113    1    1.0  4825391580467484032  V-K1683S  5.800117  0.0  89.998016\n",
       "3  5048873293262650113    1    1.0  5180617780362861593  V-K1693S  5.731768  0.0  89.996399\n",
       "4  5715081934973525403    2    1.0  4964920487041183545  V-K2163S  5.698539  0.0  89.995605"
      ]
     },
     "execution_count": 122,
     "metadata": {},
     "output_type": "execute_result"
    }
   ],
   "source": [
    "dfs[0].head()"
   ]
  },
  {
   "cell_type": "markdown",
   "id": "46adca17-6445-4f78-be83-a5199a0d5f45",
   "metadata": {},
   "source": [
    "# Plot"
   ]
  },
  {
   "cell_type": "markdown",
   "id": "53d0c871-89c2-43b7-a559-a3be1f9c77a3",
   "metadata": {},
   "source": [
    "## Define Axes"
   ]
  },
  {
   "cell_type": "code",
   "execution_count": 123,
   "id": "19a5f012-011c-4c70-bc59-a2911bcd3187",
   "metadata": {},
   "outputs": [],
   "source": [
    "def fyP(ax,offset=0):\n",
    "    ax.spines[\"left\"].set_position((\"outward\", offset))\n",
    "    ax.set_ylabel('Druck in bar')\n",
    "    ax.set_ylim(1,6)\n",
    "    ax.set_yticks(sorted(np.append(np.linspace(1,6,11),[])))\n",
    "    ax.yaxis.set_ticks_position('left')\n",
    "    ax.yaxis.set_label_position('left')\n",
    "\n",
    "def fyM(ax,offset=60):\n",
    "    Rm.pltLDSHelperY(ax)\n",
    "    ax.spines[\"left\"].set_position((\"outward\",offset))\n",
    "    ax.set_ylabel('Massenstrom in t/h')\n",
    "    ax.set_ylim(500,550)\n",
    "    ax.set_yticks(sorted(np.append(np.linspace(500,550,11),[])))\n",
    "    ax.yaxis.set_ticks_position('left')\n",
    "    ax.yaxis.set_label_position('left')\n",
    "    \n",
    "def fyT(ax,offset=120):\n",
    "    Rm.pltLDSHelperY(ax)\n",
    "    ax.spines[\"left\"].set_position((\"outward\",offset))\n",
    "    ax.set_ylabel('Tempertatur in °C')\n",
    "    ax.set_ylim(85,95)\n",
    "    ax.set_yticks(sorted(np.append(np.linspace(0,95,11),[])))\n",
    "    ax.yaxis.set_ticks_position('left')\n",
    "    ax.yaxis.set_label_position('left')"
   ]
  },
  {
   "cell_type": "markdown",
   "id": "1923a441-1bdb-4673-837c-832b08dd6b1d",
   "metadata": {},
   "source": [
    "## Non-interactive Plot"
   ]
  },
  {
   "cell_type": "code",
   "execution_count": 124,
   "id": "8af80a44-9bdc-44e9-84b7-d2b44ce22d0f",
   "metadata": {},
   "outputs": [],
   "source": [
    "def plot():\n",
    "                       \n",
    "    fig, ax0 = plt.subplots(figsize=Rm.DINA3q)\n",
    "    \n",
    "    ax0.set_yticks(np.linspace(0, 10, 21))\n",
    "    ax0.yaxis.set_ticklabels([])\n",
    "    ax0.grid()\n",
    "\n",
    "    #P\n",
    "    ax1 = ax0.twinx()     \n",
    "    fyP(ax1) \n",
    "    ax1.plot(df.index, df['P'], color='red', label='P')\n",
    "    \n",
    "    #M\n",
    "    ax2 = ax0.twinx()     \n",
    "    fyM(ax2)\n",
    "    ax2.plot(df.index, df['QM'], color='orange', label='T')\n",
    "    \n",
    "    #T\n",
    "    ax3 = ax0.twinx() \n",
    "    fyT(ax3)\n",
    "    ax3.plot(df.index, df['T'], color='pink', label='M')\n",
    "     \n",
    "    # Set the x-axis limits\n",
    "    ax0.set_xlim(0, 87)\n",
    "\n",
    "    #Rm.pltHelperX(ax0, dateFormat='%Hh:%Mm:%Ss', bysecond=list(range(0, 61, 2)), yPos=0)\n",
    "    \n",
    "    ax0.set_title('Longitudinal Section for '+dbFilename)\n",
    "\n",
    "    #Create printable Output\n",
    "    plt.savefig('Example3_Output.pdf', format='pdf', dpi=300)\n",
    "    plt.savefig('Example2_Output.png', format='png', dpi=300)\n",
    "    \n",
    "    plt.show()"
   ]
  },
  {
   "cell_type": "code",
   "execution_count": 125,
   "id": "5b7bdfac-6a8e-4edd-88da-843b68084a67",
   "metadata": {},
   "outputs": [
    {
     "data": {
      "image/png": "[encoded data removed]",
      "text/plain": [
       "<Figure size 1654x1169 with 4 Axes>"
      ]
     },
     "metadata": {},
     "output_type": "display_data"
    }
   ],
   "source": [
    "plot()"
   ]
  }
 ],
 "metadata": {
  "kernelspec": {
   "display_name": "Python 3 (ipykernel)",
   "language": "python",
   "name": "python3"
  },
  "language_info": {
   "codemirror_mode": {
    "name": "ipython",
    "version": 3
   },
   "file_extension": ".py",
   "mimetype": "text/x-python",
   "name": "python",
   "nbconvert_exporter": "python",
   "pygments_lexer": "ipython3",
   "version": "3.11.8"
  }
 },
 "nbformat": 4,
 "nbformat_minor": 5
}
