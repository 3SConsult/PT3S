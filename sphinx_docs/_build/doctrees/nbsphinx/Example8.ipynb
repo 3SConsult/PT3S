{
 "cells": [
  {
   "cell_type": "markdown",
   "metadata": {},
   "source": [
    "# Example 8: pandapipes"
   ]
  },
  {
   "cell_type": "markdown",
   "metadata": {},
   "source": [
    "This Example demonstrates a pandapipes calculation of a 1-pipe, 2-nodes SIR 3S model."
   ]
  },
  {
   "cell_type": "markdown",
   "metadata": {},
   "source": [
    "# Read SIR 3S Model"
   ]
  },
  {
   "cell_type": "code",
   "execution_count": 1,
   "metadata": {},
   "outputs": [],
   "source": [
    "try:\n",
    "    from PT3S import dxAndMxHelperFcts\n",
    "except:\n",
    "    import dxAndMxHelperFcts"
   ]
  },
  {
   "cell_type": "code",
   "execution_count": null,
   "metadata": {},
   "outputs": [],
   "source": [
    "import logging\n",
    "\n",
    "logger = logging.getLogger()  \n",
    "\n",
    "logFileName= r\"Example8.log\" \n",
    "\n",
    "loglevel = logging.DEBUG\n",
    "logging.basicConfig(filename=logFileName\n",
    "                        ,filemode='w'\n",
    "                        ,level=loglevel\n",
    "                        ,format=\"%(asctime)s ; %(name)-60s ; %(levelname)-7s ; %(message)s\")    \n",
    "\n",
    "fileHandler = logging.FileHandler(logFileName)     \n",
    "\n",
    "logger.addHandler(fileHandler)\n",
    "\n",
    "consoleHandler = logging.StreamHandler()\n",
    "consoleHandler.setFormatter(logging.Formatter(\"%(levelname)-7s ; %(message)s\"))\n",
    "consoleHandler.setLevel(logging.INFO)\n",
    "logger.addHandler(consoleHandler)\n",
    "\n",
    "logging.getLogger('numba').setLevel(logging.ERROR)\n",
    "logging.getLogger('pandapipes').setLevel(logging.ERROR)\n",
    "logging.getLogger('matplotlib').setLevel(logging.ERROR)"
   ]
  },
  {
   "cell_type": "code",
   "execution_count": null,
   "metadata": {},
   "outputs": [],
   "source": [
    "import os"
   ]
  },
  {
   "cell_type": "code",
   "execution_count": null,
   "metadata": {},
   "outputs": [],
   "source": [
    "from importlib import resources"
   ]
  },
  {
   "cell_type": "code",
   "execution_count": null,
   "metadata": {},
   "outputs": [],
   "source": [
    "dbFilename=\"Example8\"\n",
    "dbFile = resources.files(\"PT3S\").joinpath(\"Examples\", f\"{dbFilename}.db3\")"
   ]
  },
  {
   "cell_type": "code",
   "execution_count": 4,
   "metadata": {},
   "outputs": [
    {
     "name": "stderr",
     "output_type": "stream",
     "text": [
      "INFO    ; Dx.__init__: dbFile (abspath): c:\\users\\aUserName\\3s\\pt3s\\Examples\\Example8.db3 exists readable ...\n",
      "INFO    ; Dx.__init__:  SYSTEMKONFIG ID 3 not defined. Value(ID=3) is supposed to define the Model which is used in QGIS. Now QGISmodelXk is undefined ...\n",
      "INFO    ; dxAndMxHelperFcts.readDxAndMx: ..\\Examples\\Example8-dx.pkl exists and is overwritten...\n",
      "INFO    ; dxAndMxHelperFcts.readDxAndMx:  QGISmodelXk not defined. Now the MX of 1st Model in VIEW_MODELLE is used ...\n",
      "INFO    ; Mx.setResultsToMxsFile: Mxs: ..\\Examples\\WDExample8\\B1\\V0\\BZ1\\M-1-0-1.1.MXS reading ...\n",
      "INFO    ; dxAndMxHelperFcts.readDxAndMx: ..\\Examples\\Example8-mx-_Examples_WDExample8_B1_V0_BZ1_M_1_0_1_1_MX1.pkl exists and is overwritten...\n",
      "INFO    ; dxWithMx.__init__: Example8: processing dx and mx ...\n",
      "INFO    ; dxAndMxHelperFcts.readDxAndMx: ..\\Examples\\Example8-m.pkl exists and is overwritten...\n"
     ]
    }
   ],
   "source": [
    "m=dxAndMxHelperFcts.readDxAndMx(dbFile=dbFile)"
   ]
  },
  {
   "cell_type": "markdown",
   "metadata": {},
   "source": [
    "# Generate corresponding  pp model"
   ]
  },
  {
   "cell_type": "code",
   "execution_count": 5,
   "metadata": {},
   "outputs": [],
   "source": [
    "#!pip install pandapipes"
   ]
  },
  {
   "cell_type": "code",
   "execution_count": 6,
   "metadata": {},
   "outputs": [],
   "source": [
    "import pandapipes \n",
    "net = pandapipes.create_empty_network(fluid=\"water\") "
   ]
  },
  {
   "cell_type": "markdown",
   "metadata": {},
   "source": [
    "## junctions"
   ]
  },
  {
   "cell_type": "code",
   "execution_count": 7,
   "metadata": {},
   "outputs": [],
   "source": [
    "# create junctions\n",
    "js={}\n",
    "for idx,row in m.V3_KNOT.iterrows():\n",
    "    j=pandapipes.create_junction(net\n",
    "                       ,pn_bar=row['PH']\n",
    "                       ,tfluid_k=273.15+row['T']\n",
    "                       ,height_m=row['ZKOR']\n",
    "                       ,name=f\"{row['NAME']}~{row['tk']}\"\n",
    "    )    \n",
    "    js[row['tk']]=j"
   ]
  },
  {
   "cell_type": "code",
   "execution_count": 8,
   "metadata": {},
   "outputs": [
    {
     "data": {
      "application/vnd.microsoft.datawrangler.viewer.v0+json": {
       "columns": [
        {
         "name": "index",
         "rawType": "int64",
         "type": "integer"
        },
        {
         "name": "name",
         "rawType": "object",
         "type": "string"
        },
        {
         "name": "pn_bar",
         "rawType": "float64",
         "type": "float"
        },
        {
         "name": "tfluid_k",
         "rawType": "float64",
         "type": "float"
        },
        {
         "name": "height_m",
         "rawType": "float64",
         "type": "float"
        },
        {
         "name": "in_service",
         "rawType": "bool",
         "type": "boolean"
        },
        {
         "name": "type",
         "rawType": "object",
         "type": "string"
        }
       ],
       "conversionMethod": "pd.DataFrame",
       "ref": "16f382ba-d7a9-4b99-826e-07d87429fe19",
       "rows": [
        [
         "0",
         "j1~5545156887373324999",
         "10.0",
         "363.15",
         "0.0",
         "True",
         "junction"
        ],
        [
         "1",
         "j2~4658286599152640406",
         "9.5785551071167",
         "362.8121398925781",
         "0.0",
         "True",
         "junction"
        ]
       ],
       "shape": {
        "columns": 6,
        "rows": 2
       }
      },
      "text/html": [
       "<div>\n",
       "<style scoped>\n",
       "    .dataframe tbody tr th:only-of-type {\n",
       "        vertical-align: middle;\n",
       "    }\n",
       "\n",
       "    .dataframe tbody tr th {\n",
       "        vertical-align: top;\n",
       "    }\n",
       "\n",
       "    .dataframe thead th {\n",
       "        text-align: right;\n",
       "    }\n",
       "</style>\n",
       "<table border=\"1\" class=\"dataframe\">\n",
       "  <thead>\n",
       "    <tr style=\"text-align: right;\">\n",
       "      <th></th>\n",
       "      <th>name</th>\n",
       "      <th>pn_bar</th>\n",
       "      <th>tfluid_k</th>\n",
       "      <th>height_m</th>\n",
       "      <th>in_service</th>\n",
       "      <th>type</th>\n",
       "    </tr>\n",
       "  </thead>\n",
       "  <tbody>\n",
       "    <tr>\n",
       "      <th>0</th>\n",
       "      <td>j1~5545156887373324999</td>\n",
       "      <td>10.000000</td>\n",
       "      <td>363.15000</td>\n",
       "      <td>0.0</td>\n",
       "      <td>True</td>\n",
       "      <td>junction</td>\n",
       "    </tr>\n",
       "    <tr>\n",
       "      <th>1</th>\n",
       "      <td>j2~4658286599152640406</td>\n",
       "      <td>9.578555</td>\n",
       "      <td>362.81214</td>\n",
       "      <td>0.0</td>\n",
       "      <td>True</td>\n",
       "      <td>junction</td>\n",
       "    </tr>\n",
       "  </tbody>\n",
       "</table>\n",
       "</div>"
      ],
      "text/plain": [
       "                     name     pn_bar   tfluid_k  height_m  in_service  \\\n",
       "0  j1~5545156887373324999  10.000000  363.15000       0.0        True   \n",
       "1  j2~4658286599152640406   9.578555  362.81214       0.0        True   \n",
       "\n",
       "       type  \n",
       "0  junction  \n",
       "1  junction  "
      ]
     },
     "execution_count": 8,
     "metadata": {},
     "output_type": "execute_result"
    }
   ],
   "source": [
    "net.junction"
   ]
  },
  {
   "cell_type": "markdown",
   "metadata": {},
   "source": [
    "## pipes"
   ]
  },
  {
   "cell_type": "code",
   "execution_count": 9,
   "metadata": {},
   "outputs": [],
   "source": [
    "# create pipes\n",
    "ps={}\n",
    "for idx,row in m.V3_ROHR.iterrows():\n",
    "     p=pandapipes.create_pipe_from_parameters(net\n",
    "                                  ,from_junction=js[row['fkKI']]\n",
    "                                  ,to_junction=js[row['fkKK']]\n",
    "                                  ,length_km=row['L']/1000.\n",
    "                                  ,diameter_m=row['DI']/1000.\n",
    "                                  ,k_mm=row['RAU']\n",
    "                                  ,name=f\"{row['NAME_i']}~{row['NAME_k']}~{row['tk']}\"\n",
    "     )\n",
    "     ps[row['tk']]=p\n"
   ]
  },
  {
   "cell_type": "code",
   "execution_count": 10,
   "metadata": {},
   "outputs": [
    {
     "data": {
      "application/vnd.microsoft.datawrangler.viewer.v0+json": {
       "columns": [
        {
         "name": "index",
         "rawType": "int64",
         "type": "integer"
        },
        {
         "name": "name",
         "rawType": "object",
         "type": "string"
        },
        {
         "name": "from_junction",
         "rawType": "uint32",
         "type": "integer"
        },
        {
         "name": "to_junction",
         "rawType": "uint32",
         "type": "integer"
        },
        {
         "name": "std_type",
         "rawType": "object",
         "type": "unknown"
        },
        {
         "name": "length_km",
         "rawType": "float64",
         "type": "float"
        },
        {
         "name": "diameter_m",
         "rawType": "float64",
         "type": "float"
        },
        {
         "name": "k_mm",
         "rawType": "float64",
         "type": "float"
        },
        {
         "name": "loss_coefficient",
         "rawType": "float64",
         "type": "float"
        },
        {
         "name": "u_w_per_m2k",
         "rawType": "float64",
         "type": "float"
        },
        {
         "name": "text_k",
         "rawType": "float64",
         "type": "float"
        },
        {
         "name": "qext_w",
         "rawType": "float64",
         "type": "float"
        },
        {
         "name": "sections",
         "rawType": "uint32",
         "type": "integer"
        },
        {
         "name": "in_service",
         "rawType": "bool",
         "type": "boolean"
        },
        {
         "name": "type",
         "rawType": "object",
         "type": "string"
        }
       ],
       "conversionMethod": "pd.DataFrame",
       "ref": "d18aafc9-791c-4bdb-ac3f-f4e7ae67dfae",
       "rows": [
        [
         "0",
         "j1~j2~5436899515124385631",
         "0",
         "1",
         null,
         "1.0",
         "0.2",
         "0.25",
         "0.0",
         "0.0",
         null,
         "0.0",
         "1",
         "True",
         "pipe"
        ]
       ],
       "shape": {
        "columns": 14,
        "rows": 1
       }
      },
      "text/html": [
       "<div>\n",
       "<style scoped>\n",
       "    .dataframe tbody tr th:only-of-type {\n",
       "        vertical-align: middle;\n",
       "    }\n",
       "\n",
       "    .dataframe tbody tr th {\n",
       "        vertical-align: top;\n",
       "    }\n",
       "\n",
       "    .dataframe thead th {\n",
       "        text-align: right;\n",
       "    }\n",
       "</style>\n",
       "<table border=\"1\" class=\"dataframe\">\n",
       "  <thead>\n",
       "    <tr style=\"text-align: right;\">\n",
       "      <th></th>\n",
       "      <th>name</th>\n",
       "      <th>from_junction</th>\n",
       "      <th>to_junction</th>\n",
       "      <th>std_type</th>\n",
       "      <th>length_km</th>\n",
       "      <th>diameter_m</th>\n",
       "      <th>k_mm</th>\n",
       "      <th>loss_coefficient</th>\n",
       "      <th>u_w_per_m2k</th>\n",
       "      <th>text_k</th>\n",
       "      <th>qext_w</th>\n",
       "      <th>sections</th>\n",
       "      <th>in_service</th>\n",
       "      <th>type</th>\n",
       "    </tr>\n",
       "  </thead>\n",
       "  <tbody>\n",
       "    <tr>\n",
       "      <th>0</th>\n",
       "      <td>j1~j2~5436899515124385631</td>\n",
       "      <td>0</td>\n",
       "      <td>1</td>\n",
       "      <td>None</td>\n",
       "      <td>1.0</td>\n",
       "      <td>0.2</td>\n",
       "      <td>0.25</td>\n",
       "      <td>0.0</td>\n",
       "      <td>0.0</td>\n",
       "      <td>NaN</td>\n",
       "      <td>0.0</td>\n",
       "      <td>1</td>\n",
       "      <td>True</td>\n",
       "      <td>pipe</td>\n",
       "    </tr>\n",
       "  </tbody>\n",
       "</table>\n",
       "</div>"
      ],
      "text/plain": [
       "                        name  from_junction  to_junction std_type  length_km  \\\n",
       "0  j1~j2~5436899515124385631              0            1     None        1.0   \n",
       "\n",
       "   diameter_m  k_mm  loss_coefficient  u_w_per_m2k  text_k  qext_w  sections  \\\n",
       "0         0.2  0.25               0.0          0.0     NaN     0.0         1   \n",
       "\n",
       "   in_service  type  \n",
       "0        True  pipe  "
      ]
     },
     "execution_count": 10,
     "metadata": {},
     "output_type": "execute_result"
    }
   ],
   "source": [
    "net.pipe"
   ]
  },
  {
   "cell_type": "markdown",
   "metadata": {},
   "source": [
    "## sources (ext. grids)"
   ]
  },
  {
   "cell_type": "code",
   "execution_count": 11,
   "metadata": {},
   "outputs": [],
   "source": [
    "# sources (ext. grids)\n",
    "for idx,row in m.V3_KNOT.iterrows():\n",
    "    match row['KTYP']:\n",
    "        case 'PKON':\n",
    "            pandapipes.create_ext_grid(net\n",
    "                              ,junction=js[row['tk']]\n",
    "                              ,p_bar=row['PH']\n",
    "                              ,t_k=273.15+row['T']\n",
    "                              ,name=f\"Src: {row['NAME']}~{row['tk']}\"\n",
    "            )\n",
    "        case _:\n",
    "            continue"
   ]
  },
  {
   "cell_type": "code",
   "execution_count": 12,
   "metadata": {},
   "outputs": [
    {
     "data": {
      "application/vnd.microsoft.datawrangler.viewer.v0+json": {
       "columns": [
        {
         "name": "index",
         "rawType": "int64",
         "type": "integer"
        },
        {
         "name": "name",
         "rawType": "object",
         "type": "string"
        },
        {
         "name": "junction",
         "rawType": "uint32",
         "type": "integer"
        },
        {
         "name": "p_bar",
         "rawType": "float64",
         "type": "float"
        },
        {
         "name": "t_k",
         "rawType": "float64",
         "type": "float"
        },
        {
         "name": "in_service",
         "rawType": "bool",
         "type": "boolean"
        },
        {
         "name": "type",
         "rawType": "object",
         "type": "string"
        }
       ],
       "conversionMethod": "pd.DataFrame",
       "ref": "a4c6aa2f-9b8e-4c1f-ae56-e87399fdc562",
       "rows": [
        [
         "0",
         "Src: j1~5545156887373324999",
         "0",
         "10.0",
         "363.15",
         "True",
         "pt"
        ]
       ],
       "shape": {
        "columns": 6,
        "rows": 1
       }
      },
      "text/html": [
       "<div>\n",
       "<style scoped>\n",
       "    .dataframe tbody tr th:only-of-type {\n",
       "        vertical-align: middle;\n",
       "    }\n",
       "\n",
       "    .dataframe tbody tr th {\n",
       "        vertical-align: top;\n",
       "    }\n",
       "\n",
       "    .dataframe thead th {\n",
       "        text-align: right;\n",
       "    }\n",
       "</style>\n",
       "<table border=\"1\" class=\"dataframe\">\n",
       "  <thead>\n",
       "    <tr style=\"text-align: right;\">\n",
       "      <th></th>\n",
       "      <th>name</th>\n",
       "      <th>junction</th>\n",
       "      <th>p_bar</th>\n",
       "      <th>t_k</th>\n",
       "      <th>in_service</th>\n",
       "      <th>type</th>\n",
       "    </tr>\n",
       "  </thead>\n",
       "  <tbody>\n",
       "    <tr>\n",
       "      <th>0</th>\n",
       "      <td>Src: j1~5545156887373324999</td>\n",
       "      <td>0</td>\n",
       "      <td>10.0</td>\n",
       "      <td>363.15</td>\n",
       "      <td>True</td>\n",
       "      <td>pt</td>\n",
       "    </tr>\n",
       "  </tbody>\n",
       "</table>\n",
       "</div>"
      ],
      "text/plain": [
       "                          name  junction  p_bar     t_k  in_service type\n",
       "0  Src: j1~5545156887373324999         0   10.0  363.15        True   pt"
      ]
     },
     "execution_count": 12,
     "metadata": {},
     "output_type": "execute_result"
    }
   ],
   "source": [
    "net.ext_grid"
   ]
  },
  {
   "cell_type": "markdown",
   "metadata": {},
   "source": [
    "## sinks"
   ]
  },
  {
   "cell_type": "code",
   "execution_count": 13,
   "metadata": {},
   "outputs": [],
   "source": [
    "# sinks\n",
    "for idx,row in m.V3_KNOT.iterrows():\n",
    "    match row['KTYP']:\n",
    "        case 'QKON':\n",
    "            pandapipes.create_sink(net\n",
    "                         ,junction=js[row['tk']]\n",
    "                         ,mdot_kg_per_s=-row['M']\n",
    "                         ,name=f\"Snk: {row['NAME']}~{row['tk']}\"\n",
    "            )\n",
    "\n",
    "        case _:\n",
    "            continue"
   ]
  },
  {
   "cell_type": "code",
   "execution_count": 14,
   "metadata": {},
   "outputs": [
    {
     "data": {
      "application/vnd.microsoft.datawrangler.viewer.v0+json": {
       "columns": [
        {
         "name": "index",
         "rawType": "int64",
         "type": "integer"
        },
        {
         "name": "name",
         "rawType": "object",
         "type": "string"
        },
        {
         "name": "junction",
         "rawType": "uint32",
         "type": "integer"
        },
        {
         "name": "mdot_kg_per_s",
         "rawType": "float64",
         "type": "float"
        },
        {
         "name": "scaling",
         "rawType": "float64",
         "type": "float"
        },
        {
         "name": "in_service",
         "rawType": "bool",
         "type": "boolean"
        },
        {
         "name": "type",
         "rawType": "object",
         "type": "string"
        }
       ],
       "conversionMethod": "pd.DataFrame",
       "ref": "cbcf728b-895f-43a9-b5d7-843a97abddea",
       "rows": [
        [
         "0",
         "Snk: j2~4658286599152640406",
         "1",
         "27.77777862548828",
         "1.0",
         "True",
         "sink"
        ]
       ],
       "shape": {
        "columns": 6,
        "rows": 1
       }
      },
      "text/html": [
       "<div>\n",
       "<style scoped>\n",
       "    .dataframe tbody tr th:only-of-type {\n",
       "        vertical-align: middle;\n",
       "    }\n",
       "\n",
       "    .dataframe tbody tr th {\n",
       "        vertical-align: top;\n",
       "    }\n",
       "\n",
       "    .dataframe thead th {\n",
       "        text-align: right;\n",
       "    }\n",
       "</style>\n",
       "<table border=\"1\" class=\"dataframe\">\n",
       "  <thead>\n",
       "    <tr style=\"text-align: right;\">\n",
       "      <th></th>\n",
       "      <th>name</th>\n",
       "      <th>junction</th>\n",
       "      <th>mdot_kg_per_s</th>\n",
       "      <th>scaling</th>\n",
       "      <th>in_service</th>\n",
       "      <th>type</th>\n",
       "    </tr>\n",
       "  </thead>\n",
       "  <tbody>\n",
       "    <tr>\n",
       "      <th>0</th>\n",
       "      <td>Snk: j2~4658286599152640406</td>\n",
       "      <td>1</td>\n",
       "      <td>27.777779</td>\n",
       "      <td>1.0</td>\n",
       "      <td>True</td>\n",
       "      <td>sink</td>\n",
       "    </tr>\n",
       "  </tbody>\n",
       "</table>\n",
       "</div>"
      ],
      "text/plain": [
       "                          name  junction  mdot_kg_per_s  scaling  in_service  \\\n",
       "0  Snk: j2~4658286599152640406         1      27.777779      1.0        True   \n",
       "\n",
       "   type  \n",
       "0  sink  "
      ]
     },
     "execution_count": 14,
     "metadata": {},
     "output_type": "execute_result"
    }
   ],
   "source": [
    "net.sink"
   ]
  },
  {
   "cell_type": "markdown",
   "metadata": {},
   "source": [
    "# calculate pp model"
   ]
  },
  {
   "cell_type": "code",
   "execution_count": 15,
   "metadata": {},
   "outputs": [],
   "source": [
    "pandapipes.pipeflow(net\n",
    "            ,friction_model='colebrook'        \n",
    "            #,mode='sequential'\n",
    "            )"
   ]
  },
  {
   "cell_type": "markdown",
   "metadata": {},
   "source": [
    "# examine pp result"
   ]
  },
  {
   "cell_type": "markdown",
   "metadata": {},
   "source": [
    "## junctions"
   ]
  },
  {
   "cell_type": "code",
   "execution_count": 16,
   "metadata": {},
   "outputs": [
    {
     "data": {
      "application/vnd.microsoft.datawrangler.viewer.v0+json": {
       "columns": [
        {
         "name": "index",
         "rawType": "int64",
         "type": "integer"
        },
        {
         "name": "p_bar",
         "rawType": "float64",
         "type": "float"
        },
        {
         "name": "t_k",
         "rawType": "float64",
         "type": "float"
        }
       ],
       "conversionMethod": "pd.DataFrame",
       "ref": "52719798-3685-4960-aea2-402bb859308f",
       "rows": [
        [
         "0",
         "10.0",
         "363.15"
        ],
        [
         "1",
         "9.570899681838608",
         "362.8121398925781"
        ]
       ],
       "shape": {
        "columns": 2,
        "rows": 2
       }
      },
      "text/html": [
       "<div>\n",
       "<style scoped>\n",
       "    .dataframe tbody tr th:only-of-type {\n",
       "        vertical-align: middle;\n",
       "    }\n",
       "\n",
       "    .dataframe tbody tr th {\n",
       "        vertical-align: top;\n",
       "    }\n",
       "\n",
       "    .dataframe thead th {\n",
       "        text-align: right;\n",
       "    }\n",
       "</style>\n",
       "<table border=\"1\" class=\"dataframe\">\n",
       "  <thead>\n",
       "    <tr style=\"text-align: right;\">\n",
       "      <th></th>\n",
       "      <th>p_bar</th>\n",
       "      <th>t_k</th>\n",
       "    </tr>\n",
       "  </thead>\n",
       "  <tbody>\n",
       "    <tr>\n",
       "      <th>0</th>\n",
       "      <td>10.0000</td>\n",
       "      <td>363.15000</td>\n",
       "    </tr>\n",
       "    <tr>\n",
       "      <th>1</th>\n",
       "      <td>9.5709</td>\n",
       "      <td>362.81214</td>\n",
       "    </tr>\n",
       "  </tbody>\n",
       "</table>\n",
       "</div>"
      ],
      "text/plain": [
       "     p_bar        t_k\n",
       "0  10.0000  363.15000\n",
       "1   9.5709  362.81214"
      ]
     },
     "execution_count": 16,
     "metadata": {},
     "output_type": "execute_result"
    }
   ],
   "source": [
    "net.res_junction"
   ]
  },
  {
   "cell_type": "markdown",
   "metadata": {},
   "source": [
    "## pipes"
   ]
  },
  {
   "cell_type": "code",
   "execution_count": 17,
   "metadata": {},
   "outputs": [
    {
     "data": {
      "application/vnd.microsoft.datawrangler.viewer.v0+json": {
       "columns": [
        {
         "name": "index",
         "rawType": "int64",
         "type": "integer"
        },
        {
         "name": "v_mean_m_per_s",
         "rawType": "float64",
         "type": "float"
        },
        {
         "name": "p_from_bar",
         "rawType": "float64",
         "type": "float"
        },
        {
         "name": "p_to_bar",
         "rawType": "float64",
         "type": "float"
        },
        {
         "name": "t_from_k",
         "rawType": "float64",
         "type": "float"
        },
        {
         "name": "t_to_k",
         "rawType": "float64",
         "type": "float"
        },
        {
         "name": "t_outlet_k",
         "rawType": "float64",
         "type": "float"
        },
        {
         "name": "mdot_from_kg_per_s",
         "rawType": "float64",
         "type": "float"
        },
        {
         "name": "mdot_to_kg_per_s",
         "rawType": "float64",
         "type": "float"
        },
        {
         "name": "vdot_m3_per_s",
         "rawType": "float64",
         "type": "float"
        },
        {
         "name": "reynolds",
         "rawType": "float64",
         "type": "float"
        },
        {
         "name": "lambda",
         "rawType": "float64",
         "type": "float"
        }
       ],
       "conversionMethod": "pd.DataFrame",
       "ref": "3a4093d3-c6f0-48f1-99ac-dd1bd0687163",
       "rows": [
        [
         "0",
         "0.915958977071813",
         "10.0",
         "9.570899681838608",
         "363.15",
         "362.8121398925781",
         "362.8121398925781",
         "27.77777862548828",
         "-27.77777862548828",
         "0.028775699933584295",
         "561271.6869933389",
         "0.021193133051841215"
        ]
       ],
       "shape": {
        "columns": 11,
        "rows": 1
       }
      },
      "text/html": [
       "<div>\n",
       "<style scoped>\n",
       "    .dataframe tbody tr th:only-of-type {\n",
       "        vertical-align: middle;\n",
       "    }\n",
       "\n",
       "    .dataframe tbody tr th {\n",
       "        vertical-align: top;\n",
       "    }\n",
       "\n",
       "    .dataframe thead th {\n",
       "        text-align: right;\n",
       "    }\n",
       "</style>\n",
       "<table border=\"1\" class=\"dataframe\">\n",
       "  <thead>\n",
       "    <tr style=\"text-align: right;\">\n",
       "      <th></th>\n",
       "      <th>v_mean_m_per_s</th>\n",
       "      <th>p_from_bar</th>\n",
       "      <th>p_to_bar</th>\n",
       "      <th>t_from_k</th>\n",
       "      <th>t_to_k</th>\n",
       "      <th>t_outlet_k</th>\n",
       "      <th>mdot_from_kg_per_s</th>\n",
       "      <th>mdot_to_kg_per_s</th>\n",
       "      <th>vdot_m3_per_s</th>\n",
       "      <th>reynolds</th>\n",
       "      <th>lambda</th>\n",
       "    </tr>\n",
       "  </thead>\n",
       "  <tbody>\n",
       "    <tr>\n",
       "      <th>0</th>\n",
       "      <td>0.915959</td>\n",
       "      <td>10.0</td>\n",
       "      <td>9.5709</td>\n",
       "      <td>363.15</td>\n",
       "      <td>362.81214</td>\n",
       "      <td>362.81214</td>\n",
       "      <td>27.777779</td>\n",
       "      <td>-27.777779</td>\n",
       "      <td>0.028776</td>\n",
       "      <td>561271.686993</td>\n",
       "      <td>0.021193</td>\n",
       "    </tr>\n",
       "  </tbody>\n",
       "</table>\n",
       "</div>"
      ],
      "text/plain": [
       "   v_mean_m_per_s  p_from_bar  p_to_bar  t_from_k     t_to_k  t_outlet_k  \\\n",
       "0        0.915959        10.0    9.5709    363.15  362.81214   362.81214   \n",
       "\n",
       "   mdot_from_kg_per_s  mdot_to_kg_per_s  vdot_m3_per_s       reynolds  \\\n",
       "0           27.777779        -27.777779       0.028776  561271.686993   \n",
       "\n",
       "     lambda  \n",
       "0  0.021193  "
      ]
     },
     "execution_count": 17,
     "metadata": {},
     "output_type": "execute_result"
    }
   ],
   "source": [
    "net.res_pipe"
   ]
  },
  {
   "cell_type": "markdown",
   "metadata": {},
   "source": [
    "## sources (ext. grids)"
   ]
  },
  {
   "cell_type": "code",
   "execution_count": 18,
   "metadata": {},
   "outputs": [
    {
     "data": {
      "application/vnd.microsoft.datawrangler.viewer.v0+json": {
       "columns": [
        {
         "name": "index",
         "rawType": "int64",
         "type": "integer"
        },
        {
         "name": "mdot_kg_per_s",
         "rawType": "float64",
         "type": "float"
        }
       ],
       "conversionMethod": "pd.DataFrame",
       "ref": "f7def60c-b944-4bd0-a4c9-24e08158156d",
       "rows": [
        [
         "0",
         "-27.77777862548828"
        ]
       ],
       "shape": {
        "columns": 1,
        "rows": 1
       }
      },
      "text/html": [
       "<div>\n",
       "<style scoped>\n",
       "    .dataframe tbody tr th:only-of-type {\n",
       "        vertical-align: middle;\n",
       "    }\n",
       "\n",
       "    .dataframe tbody tr th {\n",
       "        vertical-align: top;\n",
       "    }\n",
       "\n",
       "    .dataframe thead th {\n",
       "        text-align: right;\n",
       "    }\n",
       "</style>\n",
       "<table border=\"1\" class=\"dataframe\">\n",
       "  <thead>\n",
       "    <tr style=\"text-align: right;\">\n",
       "      <th></th>\n",
       "      <th>mdot_kg_per_s</th>\n",
       "    </tr>\n",
       "  </thead>\n",
       "  <tbody>\n",
       "    <tr>\n",
       "      <th>0</th>\n",
       "      <td>-27.777779</td>\n",
       "    </tr>\n",
       "  </tbody>\n",
       "</table>\n",
       "</div>"
      ],
      "text/plain": [
       "   mdot_kg_per_s\n",
       "0     -27.777779"
      ]
     },
     "execution_count": 18,
     "metadata": {},
     "output_type": "execute_result"
    }
   ],
   "source": [
    "net.res_ext_grid"
   ]
  },
  {
   "cell_type": "markdown",
   "metadata": {},
   "source": [
    "## sinks"
   ]
  },
  {
   "cell_type": "code",
   "execution_count": 19,
   "metadata": {},
   "outputs": [
    {
     "data": {
      "application/vnd.microsoft.datawrangler.viewer.v0+json": {
       "columns": [
        {
         "name": "index",
         "rawType": "int64",
         "type": "integer"
        },
        {
         "name": "mdot_kg_per_s",
         "rawType": "float64",
         "type": "float"
        }
       ],
       "conversionMethod": "pd.DataFrame",
       "ref": "a6ff7ad5-f651-451f-bd80-65e17db7d367",
       "rows": [
        [
         "0",
         "27.77777862548828"
        ]
       ],
       "shape": {
        "columns": 1,
        "rows": 1
       }
      },
      "text/html": [
       "<div>\n",
       "<style scoped>\n",
       "    .dataframe tbody tr th:only-of-type {\n",
       "        vertical-align: middle;\n",
       "    }\n",
       "\n",
       "    .dataframe tbody tr th {\n",
       "        vertical-align: top;\n",
       "    }\n",
       "\n",
       "    .dataframe thead th {\n",
       "        text-align: right;\n",
       "    }\n",
       "</style>\n",
       "<table border=\"1\" class=\"dataframe\">\n",
       "  <thead>\n",
       "    <tr style=\"text-align: right;\">\n",
       "      <th></th>\n",
       "      <th>mdot_kg_per_s</th>\n",
       "    </tr>\n",
       "  </thead>\n",
       "  <tbody>\n",
       "    <tr>\n",
       "      <th>0</th>\n",
       "      <td>27.777779</td>\n",
       "    </tr>\n",
       "  </tbody>\n",
       "</table>\n",
       "</div>"
      ],
      "text/plain": [
       "   mdot_kg_per_s\n",
       "0      27.777779"
      ]
     },
     "execution_count": 19,
     "metadata": {},
     "output_type": "execute_result"
    }
   ],
   "source": [
    "net.res_sink"
   ]
  },
  {
   "cell_type": "markdown",
   "metadata": {},
   "source": [
    "# compare results"
   ]
  },
  {
   "cell_type": "markdown",
   "metadata": {},
   "source": [
    "## mapping"
   ]
  },
  {
   "cell_type": "code",
   "execution_count": 20,
   "metadata": {},
   "outputs": [],
   "source": [
    "m.V3_KNOT['ppID']=m.V3_KNOT.apply(lambda row: js[row['tk']],axis=1)"
   ]
  },
  {
   "cell_type": "code",
   "execution_count": 21,
   "metadata": {},
   "outputs": [],
   "source": [
    "m.V3_ROHR['ppID']=m.V3_ROHR.apply(lambda row: ps[row['tk']],axis=1)"
   ]
  },
  {
   "cell_type": "code",
   "execution_count": 22,
   "metadata": {},
   "outputs": [],
   "source": [
    "import pandas as pd\n",
    "dfCmpJunctions=pd.merge(m.V3_KNOT,net.res_junction,left_on='ppID',right_index=True)\n",
    "dfCmpPipes=pd.merge(m.V3_ROHR,net.res_pipe,left_on='ppID',right_index=True)\n",
    "\n",
    "dfCmpJunctions['t_C']=dfCmpJunctions['t_k']-273.15\n",
    "dfCmpPipes['t_from_C']=dfCmpPipes['t_from_k']-273.15\n",
    "dfCmpPipes['t_to_C']=dfCmpPipes['t_to_k']-273.15"
   ]
  },
  {
   "cell_type": "code",
   "execution_count": 23,
   "metadata": {},
   "outputs": [
    {
     "data": {
      "application/vnd.microsoft.datawrangler.viewer.v0+json": {
       "columns": [
        {
         "name": "index",
         "rawType": "int64",
         "type": "integer"
        },
        {
         "name": "pk",
         "rawType": "object",
         "type": "string"
        },
        {
         "name": "fkDE",
         "rawType": "object",
         "type": "string"
        },
        {
         "name": "rk",
         "rawType": "object",
         "type": "string"
        },
        {
         "name": "tk",
         "rawType": "object",
         "type": "string"
        },
        {
         "name": "fkKI",
         "rawType": "object",
         "type": "string"
        },
        {
         "name": "fkKK",
         "rawType": "object",
         "type": "string"
        },
        {
         "name": "fkDTRO_ROWD",
         "rawType": "object",
         "type": "string"
        },
        {
         "name": "fkLTGR",
         "rawType": "object",
         "type": "string"
        },
        {
         "name": "fkSTRASSE",
         "rawType": "object",
         "type": "string"
        },
        {
         "name": "L",
         "rawType": "float64",
         "type": "float"
        },
        {
         "name": "LZU",
         "rawType": "object",
         "type": "unknown"
        },
        {
         "name": "RAU",
         "rawType": "float64",
         "type": "float"
        },
        {
         "name": "JLAMBS",
         "rawType": "float64",
         "type": "float"
        },
        {
         "name": "LAMBDA0",
         "rawType": "float64",
         "type": "float"
        },
        {
         "name": "ZEIN",
         "rawType": "object",
         "type": "unknown"
        },
        {
         "name": "ZAUS",
         "rawType": "object",
         "type": "unknown"
        },
        {
         "name": "ZUML",
         "rawType": "object",
         "type": "unknown"
        },
        {
         "name": "ASOLL",
         "rawType": "float64",
         "type": "float"
        },
        {
         "name": "INDSCHALL",
         "rawType": "object",
         "type": "unknown"
        },
        {
         "name": "BAUJAHR",
         "rawType": "object",
         "type": "unknown"
        },
        {
         "name": "HAL",
         "rawType": "object",
         "type": "unknown"
        },
        {
         "name": "fkCONT",
         "rawType": "object",
         "type": "string"
        },
        {
         "name": "fk2LROHR",
         "rawType": "object",
         "type": "string"
        },
        {
         "name": "BESCHREIBUNG",
         "rawType": "object",
         "type": "string"
        },
        {
         "name": "GEOMWKB",
         "rawType": "object",
         "type": "unknown"
        },
        {
         "name": "DELETED",
         "rawType": "object",
         "type": "unknown"
        },
        {
         "name": "SELECT1",
         "rawType": "object",
         "type": "unknown"
        },
        {
         "name": "IDREFERENZ",
         "rawType": "object",
         "type": "string"
        },
        {
         "name": "KENNUNG",
         "rawType": "float64",
         "type": "float"
        },
        {
         "name": "IPLANUNG",
         "rawType": "float64",
         "type": "float"
        },
        {
         "name": "KVR",
         "rawType": "float64",
         "type": "float"
        },
        {
         "name": "pk_BZ",
         "rawType": "object",
         "type": "string"
        },
        {
         "name": "fkDE_BZ",
         "rawType": "object",
         "type": "string"
        },
        {
         "name": "fk",
         "rawType": "object",
         "type": "string"
        },
        {
         "name": "QSVB",
         "rawType": "object",
         "type": "unknown"
        },
        {
         "name": "IRTRENN",
         "rawType": "object",
         "type": "unknown"
        },
        {
         "name": "LECKSTATUS",
         "rawType": "object",
         "type": "unknown"
        },
        {
         "name": "LECKSTART",
         "rawType": "object",
         "type": "unknown"
        },
        {
         "name": "LECKEND",
         "rawType": "object",
         "type": "unknown"
        },
        {
         "name": "LECKORT",
         "rawType": "object",
         "type": "unknown"
        },
        {
         "name": "LECKMENGE",
         "rawType": "object",
         "type": "unknown"
        },
        {
         "name": "IMPTNZ",
         "rawType": "object",
         "type": "unknown"
        },
        {
         "name": "ZVLIMPTNZ",
         "rawType": "object",
         "type": "unknown"
        },
        {
         "name": "KANTENZV",
         "rawType": "object",
         "type": "unknown"
        },
        {
         "name": "GEOM",
         "rawType": "object",
         "type": "unknown"
        },
        {
         "name": "GRAF",
         "rawType": "object",
         "type": "unknown"
        },
        {
         "name": "MId",
         "rawType": "object",
         "type": "string"
        },
        {
         "name": "MText",
         "rawType": "object",
         "type": "string"
        },
        {
         "name": "Basis",
         "rawType": "object",
         "type": "string"
        },
        {
         "name": "Variante",
         "rawType": "object",
         "type": "string"
        },
        {
         "name": "BZ",
         "rawType": "object",
         "type": "string"
        },
        {
         "name": "Geaendert",
         "rawType": "object",
         "type": "string"
        },
        {
         "name": "Erstellt",
         "rawType": "object",
         "type": "string"
        },
        {
         "name": "pk_VMBZ",
         "rawType": "object",
         "type": "string"
        },
        {
         "name": "fkBASIS",
         "rawType": "object",
         "type": "string"
        },
        {
         "name": "fkVARIANTE",
         "rawType": "object",
         "type": "string"
        },
        {
         "name": "fkBZ",
         "rawType": "object",
         "type": "string"
        },
        {
         "name": "MZ",
         "rawType": "int64",
         "type": "integer"
        },
        {
         "name": "MT",
         "rawType": "int64",
         "type": "integer"
        },
        {
         "name": "pk_CONT",
         "rawType": "object",
         "type": "string"
        },
        {
         "name": "fkDE_CONT",
         "rawType": "object",
         "type": "string"
        },
        {
         "name": "rk_CONT",
         "rawType": "object",
         "type": "string"
        },
        {
         "name": "tk_CONT",
         "rawType": "object",
         "type": "string"
        },
        {
         "name": "ID_CONT",
         "rawType": "float64",
         "type": "float"
        },
        {
         "name": "NAME_CONT",
         "rawType": "object",
         "type": "string"
        },
        {
         "name": "IDPARENT_CONT",
         "rawType": "float64",
         "type": "float"
        },
        {
         "name": "rkPARENT_CONT",
         "rawType": "object",
         "type": "string"
        },
        {
         "name": "LFDNR_CONT",
         "rawType": "object",
         "type": "unknown"
        },
        {
         "name": "GRAF_CONT",
         "rawType": "object",
         "type": "unknown"
        },
        {
         "name": "FONT_CONT",
         "rawType": "object",
         "type": "unknown"
        },
        {
         "name": "GEOM_CONT",
         "rawType": "object",
         "type": "unknown"
        },
        {
         "name": "DELETED_CONT",
         "rawType": "float64",
         "type": "float"
        },
        {
         "name": "SELECT1_CONT",
         "rawType": "float64",
         "type": "float"
        },
        {
         "name": "IDREFERENZ_CONT",
         "rawType": "object",
         "type": "unknown"
        },
        {
         "name": "NAME_DTRO",
         "rawType": "object",
         "type": "string"
        },
        {
         "name": "DN",
         "rawType": "object",
         "type": "string"
        },
        {
         "name": "DI",
         "rawType": "float64",
         "type": "float"
        },
        {
         "name": "DA",
         "rawType": "float64",
         "type": "float"
        },
        {
         "name": "S",
         "rawType": "float64",
         "type": "float"
        },
        {
         "name": "KT",
         "rawType": "float64",
         "type": "float"
        },
        {
         "name": "PN",
         "rawType": "float64",
         "type": "float"
        },
        {
         "name": "Am2",
         "rawType": "float64",
         "type": "float"
        },
        {
         "name": "Vm3",
         "rawType": "float64",
         "type": "float"
        },
        {
         "name": "NAME_LTGR",
         "rawType": "object",
         "type": "string"
        },
        {
         "name": "NAME_STRASSE",
         "rawType": "object",
         "type": "unknown"
        },
        {
         "name": "tk_i",
         "rawType": "object",
         "type": "string"
        },
        {
         "name": "NAME_i",
         "rawType": "object",
         "type": "string"
        },
        {
         "name": "tk_k",
         "rawType": "object",
         "type": "string"
        },
        {
         "name": "NAME_k",
         "rawType": "object",
         "type": "string"
        },
        {
         "name": "mx2NofPts",
         "rawType": "int64",
         "type": "integer"
        },
        {
         "name": "dL",
         "rawType": "float64",
         "type": "float"
        },
        {
         "name": "mx2Idx",
         "rawType": "int64",
         "type": "integer"
        },
        {
         "name": "('STAT', 'ROHR~*~*~*~A', Timestamp('2025-04-08 09:45:59'), Timestamp('2025-04-08 09:45:59'))",
         "rawType": "float64",
         "type": "float"
        },
        {
         "name": "('STAT', 'ROHR~*~*~*~DTTR', Timestamp('2025-04-08 09:45:59'), Timestamp('2025-04-08 09:45:59'))",
         "rawType": "float64",
         "type": "float"
        },
        {
         "name": "('STAT', 'ROHR~*~*~*~DWVERL', Timestamp('2025-04-08 09:45:59'), Timestamp('2025-04-08 09:45:59'))",
         "rawType": "float64",
         "type": "float"
        },
        {
         "name": "('STAT', 'ROHR~*~*~*~DWVERLABS', Timestamp('2025-04-08 09:45:59'), Timestamp('2025-04-08 09:45:59'))",
         "rawType": "float64",
         "type": "float"
        },
        {
         "name": "('STAT', 'ROHR~*~*~*~IAKTIV', Timestamp('2025-04-08 09:45:59'), Timestamp('2025-04-08 09:45:59'))",
         "rawType": "float64",
         "type": "float"
        },
        {
         "name": "('STAT', 'ROHR~*~*~*~IRTRENN', Timestamp('2025-04-08 09:45:59'), Timestamp('2025-04-08 09:45:59'))",
         "rawType": "float64",
         "type": "float"
        },
        {
         "name": "('STAT', 'ROHR~*~*~*~JV', Timestamp('2025-04-08 09:45:59'), Timestamp('2025-04-08 09:45:59'))",
         "rawType": "float64",
         "type": "float"
        },
        {
         "name": "('STAT', 'ROHR~*~*~*~LAMBDA', Timestamp('2025-04-08 09:45:59'), Timestamp('2025-04-08 09:45:59'))",
         "rawType": "float64",
         "type": "float"
        },
        {
         "name": "('STAT', 'ROHR~*~*~*~MAV', Timestamp('2025-04-08 09:45:59'), Timestamp('2025-04-08 09:45:59'))",
         "rawType": "float64",
         "type": "float"
        },
        {
         "name": "('STAT', 'ROHR~*~*~*~PDAMPF', Timestamp('2025-04-08 09:45:59'), Timestamp('2025-04-08 09:45:59'))",
         "rawType": "float64",
         "type": "float"
        },
        {
         "name": "('STAT', 'ROHR~*~*~*~PHR', Timestamp('2025-04-08 09:45:59'), Timestamp('2025-04-08 09:45:59'))",
         "rawType": "float64",
         "type": "float"
        },
        {
         "name": "('STAT', 'ROHR~*~*~*~PMIN', Timestamp('2025-04-08 09:45:59'), Timestamp('2025-04-08 09:45:59'))",
         "rawType": "float64",
         "type": "float"
        },
        {
         "name": "('STAT', 'ROHR~*~*~*~QMAV', Timestamp('2025-04-08 09:45:59'), Timestamp('2025-04-08 09:45:59'))",
         "rawType": "float64",
         "type": "float"
        },
        {
         "name": "('STAT', 'ROHR~*~*~*~VAV', Timestamp('2025-04-08 09:45:59'), Timestamp('2025-04-08 09:45:59'))",
         "rawType": "float64",
         "type": "float"
        },
        {
         "name": "('STAT', 'ROHR~*~*~*~VOLDA', Timestamp('2025-04-08 09:45:59'), Timestamp('2025-04-08 09:45:59'))",
         "rawType": "float64",
         "type": "float"
        },
        {
         "name": "('STAT', 'ROHR~*~*~*~WVL', Timestamp('2025-04-08 09:45:59'), Timestamp('2025-04-08 09:45:59'))",
         "rawType": "float64",
         "type": "float"
        },
        {
         "name": "('STAT', 'ROHR~*~*~*~ZAUS', Timestamp('2025-04-08 09:45:59'), Timestamp('2025-04-08 09:45:59'))",
         "rawType": "float64",
         "type": "float"
        },
        {
         "name": "('STAT', 'ROHR~*~*~*~ZEIN', Timestamp('2025-04-08 09:45:59'), Timestamp('2025-04-08 09:45:59'))",
         "rawType": "float64",
         "type": "float"
        },
        {
         "name": "('STAT', 'KNOT~*~*~*~PH', Timestamp('2025-04-08 09:45:59'), Timestamp('2025-04-08 09:45:59'))_i",
         "rawType": "float64",
         "type": "float"
        },
        {
         "name": "('STAT', 'KNOT~*~*~*~H', Timestamp('2025-04-08 09:45:59'), Timestamp('2025-04-08 09:45:59'))_i",
         "rawType": "float64",
         "type": "float"
        },
        {
         "name": "('STAT', 'KNOT~*~*~*~T', Timestamp('2025-04-08 09:45:59'), Timestamp('2025-04-08 09:45:59'))_i",
         "rawType": "float64",
         "type": "float"
        },
        {
         "name": "('STAT', 'KNOT~*~*~*~RHO', Timestamp('2025-04-08 09:45:59'), Timestamp('2025-04-08 09:45:59'))_i",
         "rawType": "float64",
         "type": "float"
        },
        {
         "name": "('STAT', 'KNOT~*~*~*~PH', Timestamp('2025-04-08 09:45:59'), Timestamp('2025-04-08 09:45:59'))_k",
         "rawType": "float64",
         "type": "float"
        },
        {
         "name": "('STAT', 'KNOT~*~*~*~H', Timestamp('2025-04-08 09:45:59'), Timestamp('2025-04-08 09:45:59'))_k",
         "rawType": "float64",
         "type": "float"
        },
        {
         "name": "('STAT', 'KNOT~*~*~*~T', Timestamp('2025-04-08 09:45:59'), Timestamp('2025-04-08 09:45:59'))_k",
         "rawType": "float64",
         "type": "float"
        },
        {
         "name": "('STAT', 'KNOT~*~*~*~RHO', Timestamp('2025-04-08 09:45:59'), Timestamp('2025-04-08 09:45:59'))_k",
         "rawType": "float64",
         "type": "float"
        },
        {
         "name": "QMAVAbs",
         "rawType": "float64",
         "type": "float"
        },
        {
         "name": "VAVAbs",
         "rawType": "float64",
         "type": "float"
        },
        {
         "name": "PHRAbs",
         "rawType": "float64",
         "type": "float"
        },
        {
         "name": "JVAbs",
         "rawType": "float64",
         "type": "float"
        },
        {
         "name": "MAV",
         "rawType": "float64",
         "type": "float"
        },
        {
         "name": "LAMBDA",
         "rawType": "float64",
         "type": "float"
        },
        {
         "name": "ppID",
         "rawType": "int64",
         "type": "integer"
        },
        {
         "name": "v_mean_m_per_s",
         "rawType": "float64",
         "type": "float"
        },
        {
         "name": "p_from_bar",
         "rawType": "float64",
         "type": "float"
        },
        {
         "name": "p_to_bar",
         "rawType": "float64",
         "type": "float"
        },
        {
         "name": "t_from_k",
         "rawType": "float64",
         "type": "float"
        },
        {
         "name": "t_to_k",
         "rawType": "float64",
         "type": "float"
        },
        {
         "name": "t_outlet_k",
         "rawType": "float64",
         "type": "float"
        },
        {
         "name": "mdot_from_kg_per_s",
         "rawType": "float64",
         "type": "float"
        },
        {
         "name": "mdot_to_kg_per_s",
         "rawType": "float64",
         "type": "float"
        },
        {
         "name": "vdot_m3_per_s",
         "rawType": "float64",
         "type": "float"
        },
        {
         "name": "reynolds",
         "rawType": "float64",
         "type": "float"
        },
        {
         "name": "lambda",
         "rawType": "float64",
         "type": "float"
        },
        {
         "name": "t_from_C",
         "rawType": "float64",
         "type": "float"
        },
        {
         "name": "t_to_C",
         "rawType": "float64",
         "type": "float"
        }
       ],
       "conversionMethod": "pd.DataFrame",
       "ref": "1af90a2c-618e-4834-8e30-01048570aedc",
       "rows": [
        [
         "0",
         "5436899515124385631",
         "4982567935033599504",
         "5436899515124385631",
         "5436899515124385631",
         "5545156887373324999",
         "4658286599152640406",
         "5456839515335324031",
         "5515842498618683031",
         "-1",
         "1000.0",
         null,
         "0.25",
         "1.0",
         "0.02500000037252903",
         null,
         null,
         null,
         "1000.0",
         null,
         null,
         null,
         "5060822126933396627",
         "-1",
         "Template Element for single Pipe Creation",
         null,
         null,
         null,
         "3S5201225267441779810",
         null,
         "1.0",
         null,
         "4741144811589278980",
         "4804028781596645401",
         "5436899515124385631",
         null,
         null,
         null,
         null,
         null,
         null,
         null,
         null,
         null,
         null,
         "b'\\x01\\x02\\x00\\x00\\x00\\x02\\x00\\x00\\x00\\x00\\x00\\x80\\xa8\\xff\\xffx@\\x00\\x00\\x80v\\xff\\x1f|@\\x00\\x00\\xc0]\\x00\\x00\\x89@\\x00\\x00\\x80\\xa8\\xff\\x1f|@'",
         "b'\\x00\\x00\\x80?\\x00\\x00\\x00\\x00\\x01\\x00\\x00\\x00\\xfc\\xa9\\xf1\\xd2MbP?\\x04\\x00\\x00\\x00\\x00\\x00\\x00\\x00\\x00\\x00\\x00\\x00\\x00\\x00\\x00\\x00\\x00\\x00\\x00\\x00\\x00\\x00\\x00\\x00\\x00\\x00\\x00\\x00'",
         "M-1-0-1",
         "",
         "B1",
         "V0",
         "BZ1",
         "2025-05-09 13:17:45",
         "2025-04-08 11:45:59",
         "5703508123076770847",
         "4982567935033599504",
         "5151772185690695097",
         "4804028781596645401",
         "1",
         "1",
         "5060822126933396627",
         "4982567935033599504",
         "5060822126933396627",
         "5060822126933396627",
         "1001.0",
         "M-1-0-1",
         "1001.0",
         "5060822126933396627",
         null,
         null,
         null,
         "b'\\x00\\x00\\x80?\\x01\\x00\\x00\\x00\\x01\\x00\\x00\\x00\\x00\\x00\\x00\\x00\\x00\\x00I@\\x00\\x00\\x00\\x00\\x00\\x00I@\\x01\\x00\\x00\\x00\\x00\\x00\\x00\\x00\\x00\\x00\\x00\\x00\\x00\\x00\\x00\\x00\\x00\\x00\\x00\\x00\\x00\\x00\\x00\\x00\\x00\\x88\\x93@\\x00\\x00\\x00\\x00\\x00 \\x8c@\\x00\\x00\\x00\\x00\\x00\\x88\\xb3@\\x00\\x00\\x00\\x00\\x00\\x00\\x00\\x00\\x00\\x00\\x00\\x00\\x00\\x00\\x00\\x00\\x00\\x00\\x00\\x00\\x00\\x88\\x93@\\x00\\x00\\x00\\x00\\x00 \\x8c@\\x00\\x00\\x00\\x00\\x00\\x88\\x93@\\x00\\x00\\x00\\x00\\x00 \\x8c@\\x00\\x00\\x00\\x00\\x00\\x00\\x00\\x00\\x00\\x00\\x00\\x00\\x00\\x00\\x00\\x00\\x00\\x00\\x00\\x00\\x00\\x00\\xf0?\\xfc\\xa9\\xf1\\xd2MbP?\\x00\\x00\\x00\\x00\\x00\\x00\\xf0?'",
         "0.0",
         "0.0",
         null,
         "STDROHR",
         "xxx",
         "200.0",
         "0.0",
         "0.0",
         "0.49399998784065247",
         "0.0",
         "0.031415926535897934",
         "31.415926535897935",
         "STDROHR",
         null,
         "5545156887373324999",
         "j1",
         "4658286599152640406",
         "j2",
         "11",
         "100.0",
         "0",
         "0.0",
         "0.308800607919693",
         "39.43655014038086",
         "39.43655014038086",
         "0.0",
         "0.0",
         "0.41404131054878235",
         "0.021201375871896744",
         "27.77777862548828",
         "0.6966740489006042",
         "0.41404131054878235",
         "10.5785551071167",
         "100.0",
         "0.8995376825332642",
         "-3.333333443937845e+32",
         "0.0",
         "0.0",
         "0.0",
         "10.0",
         "10.0",
         "90.0",
         "965.2000122070312",
         "9.5785551071167",
         "9.5785551071167",
         "89.66213989257812",
         "965.5716552734375",
         "100.0",
         "0.8995376825332642",
         "0.41404131054878235",
         "0.41404131054878235",
         "27.77777862548828",
         "0.021201375871896744",
         "0",
         "0.915958977071813",
         "10.0",
         "9.570899681838608",
         "363.15",
         "362.8121398925781",
         "362.8121398925781",
         "27.77777862548828",
         "-27.77777862548828",
         "0.028775699933584295",
         "561271.6869933389",
         "0.021193133051841215",
         "90.0",
         "89.66213989257812"
        ]
       ],
       "shape": {
        "columns": 138,
        "rows": 1
       }
      },
      "text/html": [
       "<div>\n",
       "<style scoped>\n",
       "    .dataframe tbody tr th:only-of-type {\n",
       "        vertical-align: middle;\n",
       "    }\n",
       "\n",
       "    .dataframe tbody tr th {\n",
       "        vertical-align: top;\n",
       "    }\n",
       "\n",
       "    .dataframe thead th {\n",
       "        text-align: right;\n",
       "    }\n",
       "</style>\n",
       "<table border=\"1\" class=\"dataframe\">\n",
       "  <thead>\n",
       "    <tr style=\"text-align: right;\">\n",
       "      <th></th>\n",
       "      <th>pk</th>\n",
       "      <th>fkDE</th>\n",
       "      <th>rk</th>\n",
       "      <th>tk</th>\n",
       "      <th>fkKI</th>\n",
       "      <th>fkKK</th>\n",
       "      <th>fkDTRO_ROWD</th>\n",
       "      <th>fkLTGR</th>\n",
       "      <th>fkSTRASSE</th>\n",
       "      <th>L</th>\n",
       "      <th>LZU</th>\n",
       "      <th>RAU</th>\n",
       "      <th>JLAMBS</th>\n",
       "      <th>LAMBDA0</th>\n",
       "      <th>ZEIN</th>\n",
       "      <th>ZAUS</th>\n",
       "      <th>ZUML</th>\n",
       "      <th>ASOLL</th>\n",
       "      <th>INDSCHALL</th>\n",
       "      <th>BAUJAHR</th>\n",
       "      <th>HAL</th>\n",
       "      <th>fkCONT</th>\n",
       "      <th>fk2LROHR</th>\n",
       "      <th>BESCHREIBUNG</th>\n",
       "      <th>GEOMWKB</th>\n",
       "      <th>DELETED</th>\n",
       "      <th>SELECT1</th>\n",
       "      <th>IDREFERENZ</th>\n",
       "      <th>KENNUNG</th>\n",
       "      <th>IPLANUNG</th>\n",
       "      <th>KVR</th>\n",
       "      <th>pk_BZ</th>\n",
       "      <th>fkDE_BZ</th>\n",
       "      <th>fk</th>\n",
       "      <th>QSVB</th>\n",
       "      <th>IRTRENN</th>\n",
       "      <th>LECKSTATUS</th>\n",
       "      <th>LECKSTART</th>\n",
       "      <th>LECKEND</th>\n",
       "      <th>LECKORT</th>\n",
       "      <th>LECKMENGE</th>\n",
       "      <th>IMPTNZ</th>\n",
       "      <th>ZVLIMPTNZ</th>\n",
       "      <th>KANTENZV</th>\n",
       "      <th>GEOM</th>\n",
       "      <th>GRAF</th>\n",
       "      <th>MId</th>\n",
       "      <th>MText</th>\n",
       "      <th>Basis</th>\n",
       "      <th>Variante</th>\n",
       "      <th>BZ</th>\n",
       "      <th>Geaendert</th>\n",
       "      <th>Erstellt</th>\n",
       "      <th>pk_VMBZ</th>\n",
       "      <th>fkBASIS</th>\n",
       "      <th>fkVARIANTE</th>\n",
       "      <th>fkBZ</th>\n",
       "      <th>MZ</th>\n",
       "      <th>MT</th>\n",
       "      <th>pk_CONT</th>\n",
       "      <th>fkDE_CONT</th>\n",
       "      <th>rk_CONT</th>\n",
       "      <th>tk_CONT</th>\n",
       "      <th>ID_CONT</th>\n",
       "      <th>NAME_CONT</th>\n",
       "      <th>IDPARENT_CONT</th>\n",
       "      <th>rkPARENT_CONT</th>\n",
       "      <th>LFDNR_CONT</th>\n",
       "      <th>GRAF_CONT</th>\n",
       "      <th>FONT_CONT</th>\n",
       "      <th>GEOM_CONT</th>\n",
       "      <th>DELETED_CONT</th>\n",
       "      <th>SELECT1_CONT</th>\n",
       "      <th>IDREFERENZ_CONT</th>\n",
       "      <th>NAME_DTRO</th>\n",
       "      <th>DN</th>\n",
       "      <th>DI</th>\n",
       "      <th>DA</th>\n",
       "      <th>S</th>\n",
       "      <th>KT</th>\n",
       "      <th>PN</th>\n",
       "      <th>Am2</th>\n",
       "      <th>Vm3</th>\n",
       "      <th>NAME_LTGR</th>\n",
       "      <th>NAME_STRASSE</th>\n",
       "      <th>tk_i</th>\n",
       "      <th>NAME_i</th>\n",
       "      <th>tk_k</th>\n",
       "      <th>NAME_k</th>\n",
       "      <th>mx2NofPts</th>\n",
       "      <th>dL</th>\n",
       "      <th>mx2Idx</th>\n",
       "      <th>(STAT, ROHR~*~*~*~A, 2025-04-08 09:45:59, 2025-04-08 09:45:59)</th>\n",
       "      <th>(STAT, ROHR~*~*~*~DTTR, 2025-04-08 09:45:59, 2025-04-08 09:45:59)</th>\n",
       "      <th>(STAT, ROHR~*~*~*~DWVERL, 2025-04-08 09:45:59, 2025-04-08 09:45:59)</th>\n",
       "      <th>(STAT, ROHR~*~*~*~DWVERLABS, 2025-04-08 09:45:59, 2025-04-08 09:45:59)</th>\n",
       "      <th>(STAT, ROHR~*~*~*~IAKTIV, 2025-04-08 09:45:59, 2025-04-08 09:45:59)</th>\n",
       "      <th>(STAT, ROHR~*~*~*~IRTRENN, 2025-04-08 09:45:59, 2025-04-08 09:45:59)</th>\n",
       "      <th>(STAT, ROHR~*~*~*~JV, 2025-04-08 09:45:59, 2025-04-08 09:45:59)</th>\n",
       "      <th>(STAT, ROHR~*~*~*~LAMBDA, 2025-04-08 09:45:59, 2025-04-08 09:45:59)</th>\n",
       "      <th>(STAT, ROHR~*~*~*~MAV, 2025-04-08 09:45:59, 2025-04-08 09:45:59)</th>\n",
       "      <th>(STAT, ROHR~*~*~*~PDAMPF, 2025-04-08 09:45:59, 2025-04-08 09:45:59)</th>\n",
       "      <th>(STAT, ROHR~*~*~*~PHR, 2025-04-08 09:45:59, 2025-04-08 09:45:59)</th>\n",
       "      <th>(STAT, ROHR~*~*~*~PMIN, 2025-04-08 09:45:59, 2025-04-08 09:45:59)</th>\n",
       "      <th>(STAT, ROHR~*~*~*~QMAV, 2025-04-08 09:45:59, 2025-04-08 09:45:59)</th>\n",
       "      <th>(STAT, ROHR~*~*~*~VAV, 2025-04-08 09:45:59, 2025-04-08 09:45:59)</th>\n",
       "      <th>(STAT, ROHR~*~*~*~VOLDA, 2025-04-08 09:45:59, 2025-04-08 09:45:59)</th>\n",
       "      <th>(STAT, ROHR~*~*~*~WVL, 2025-04-08 09:45:59, 2025-04-08 09:45:59)</th>\n",
       "      <th>(STAT, ROHR~*~*~*~ZAUS, 2025-04-08 09:45:59, 2025-04-08 09:45:59)</th>\n",
       "      <th>(STAT, ROHR~*~*~*~ZEIN, 2025-04-08 09:45:59, 2025-04-08 09:45:59)</th>\n",
       "      <th>('STAT', 'KNOT~*~*~*~PH', Timestamp('2025-04-08 09:45:59'), Timestamp('2025-04-08 09:45:59'))_i</th>\n",
       "      <th>('STAT', 'KNOT~*~*~*~H', Timestamp('2025-04-08 09:45:59'), Timestamp('2025-04-08 09:45:59'))_i</th>\n",
       "      <th>('STAT', 'KNOT~*~*~*~T', Timestamp('2025-04-08 09:45:59'), Timestamp('2025-04-08 09:45:59'))_i</th>\n",
       "      <th>('STAT', 'KNOT~*~*~*~RHO', Timestamp('2025-04-08 09:45:59'), Timestamp('2025-04-08 09:45:59'))_i</th>\n",
       "      <th>('STAT', 'KNOT~*~*~*~PH', Timestamp('2025-04-08 09:45:59'), Timestamp('2025-04-08 09:45:59'))_k</th>\n",
       "      <th>('STAT', 'KNOT~*~*~*~H', Timestamp('2025-04-08 09:45:59'), Timestamp('2025-04-08 09:45:59'))_k</th>\n",
       "      <th>('STAT', 'KNOT~*~*~*~T', Timestamp('2025-04-08 09:45:59'), Timestamp('2025-04-08 09:45:59'))_k</th>\n",
       "      <th>('STAT', 'KNOT~*~*~*~RHO', Timestamp('2025-04-08 09:45:59'), Timestamp('2025-04-08 09:45:59'))_k</th>\n",
       "      <th>QMAVAbs</th>\n",
       "      <th>VAVAbs</th>\n",
       "      <th>PHRAbs</th>\n",
       "      <th>JVAbs</th>\n",
       "      <th>MAV</th>\n",
       "      <th>LAMBDA</th>\n",
       "      <th>ppID</th>\n",
       "      <th>v_mean_m_per_s</th>\n",
       "      <th>p_from_bar</th>\n",
       "      <th>p_to_bar</th>\n",
       "      <th>t_from_k</th>\n",
       "      <th>t_to_k</th>\n",
       "      <th>t_outlet_k</th>\n",
       "      <th>mdot_from_kg_per_s</th>\n",
       "      <th>mdot_to_kg_per_s</th>\n",
       "      <th>vdot_m3_per_s</th>\n",
       "      <th>reynolds</th>\n",
       "      <th>lambda</th>\n",
       "      <th>t_from_C</th>\n",
       "      <th>t_to_C</th>\n",
       "    </tr>\n",
       "  </thead>\n",
       "  <tbody>\n",
       "    <tr>\n",
       "      <th>0</th>\n",
       "      <td>5436899515124385631</td>\n",
       "      <td>4982567935033599504</td>\n",
       "      <td>5436899515124385631</td>\n",
       "      <td>5436899515124385631</td>\n",
       "      <td>5545156887373324999</td>\n",
       "      <td>4658286599152640406</td>\n",
       "      <td>5456839515335324031</td>\n",
       "      <td>5515842498618683031</td>\n",
       "      <td>-1</td>\n",
       "      <td>1000.0</td>\n",
       "      <td>None</td>\n",
       "      <td>0.25</td>\n",
       "      <td>1.0</td>\n",
       "      <td>0.025</td>\n",
       "      <td>None</td>\n",
       "      <td>None</td>\n",
       "      <td>None</td>\n",
       "      <td>1000.0</td>\n",
       "      <td>None</td>\n",
       "      <td>None</td>\n",
       "      <td>None</td>\n",
       "      <td>5060822126933396627</td>\n",
       "      <td>-1</td>\n",
       "      <td>Template Element for single Pipe Creation</td>\n",
       "      <td>None</td>\n",
       "      <td>None</td>\n",
       "      <td>None</td>\n",
       "      <td>3S5201225267441779810</td>\n",
       "      <td>NaN</td>\n",
       "      <td>1.0</td>\n",
       "      <td>NaN</td>\n",
       "      <td>4741144811589278980</td>\n",
       "      <td>4804028781596645401</td>\n",
       "      <td>5436899515124385631</td>\n",
       "      <td>None</td>\n",
       "      <td>None</td>\n",
       "      <td>None</td>\n",
       "      <td>None</td>\n",
       "      <td>None</td>\n",
       "      <td>None</td>\n",
       "      <td>None</td>\n",
       "      <td>None</td>\n",
       "      <td>None</td>\n",
       "      <td>None</td>\n",
       "      <td>b'\\x01\\x02\\x00\\x00\\x00\\x02\\x00\\x00\\x00\\x00\\x00...</td>\n",
       "      <td>b'\\x00\\x00\\x80?\\x00\\x00\\x00\\x00\\x01\\x00\\x00\\x0...</td>\n",
       "      <td>M-1-0-1</td>\n",
       "      <td></td>\n",
       "      <td>B1</td>\n",
       "      <td>V0</td>\n",
       "      <td>BZ1</td>\n",
       "      <td>2025-05-09 13:17:45</td>\n",
       "      <td>2025-04-08 11:45:59</td>\n",
       "      <td>5703508123076770847</td>\n",
       "      <td>4982567935033599504</td>\n",
       "      <td>5151772185690695097</td>\n",
       "      <td>4804028781596645401</td>\n",
       "      <td>1</td>\n",
       "      <td>1</td>\n",
       "      <td>5060822126933396627</td>\n",
       "      <td>4982567935033599504</td>\n",
       "      <td>5060822126933396627</td>\n",
       "      <td>5060822126933396627</td>\n",
       "      <td>1001.0</td>\n",
       "      <td>M-1-0-1</td>\n",
       "      <td>1001.0</td>\n",
       "      <td>5060822126933396627</td>\n",
       "      <td>None</td>\n",
       "      <td>None</td>\n",
       "      <td>None</td>\n",
       "      <td>b'\\x00\\x00\\x80?\\x01\\x00\\x00\\x00\\x01\\x00\\x00\\x0...</td>\n",
       "      <td>0.0</td>\n",
       "      <td>0.0</td>\n",
       "      <td>None</td>\n",
       "      <td>STDROHR</td>\n",
       "      <td>xxx</td>\n",
       "      <td>200.0</td>\n",
       "      <td>0.0</td>\n",
       "      <td>0.0</td>\n",
       "      <td>0.494</td>\n",
       "      <td>0.0</td>\n",
       "      <td>0.031416</td>\n",
       "      <td>31.415927</td>\n",
       "      <td>STDROHR</td>\n",
       "      <td>None</td>\n",
       "      <td>5545156887373324999</td>\n",
       "      <td>j1</td>\n",
       "      <td>4658286599152640406</td>\n",
       "      <td>j2</td>\n",
       "      <td>11</td>\n",
       "      <td>100.0</td>\n",
       "      <td>0</td>\n",
       "      <td>0.0</td>\n",
       "      <td>0.308801</td>\n",
       "      <td>39.43655</td>\n",
       "      <td>39.43655</td>\n",
       "      <td>0.0</td>\n",
       "      <td>0.0</td>\n",
       "      <td>0.414041</td>\n",
       "      <td>0.021201</td>\n",
       "      <td>27.777779</td>\n",
       "      <td>0.696674</td>\n",
       "      <td>0.414041</td>\n",
       "      <td>10.578555</td>\n",
       "      <td>100.0</td>\n",
       "      <td>0.899538</td>\n",
       "      <td>-3.333333e+32</td>\n",
       "      <td>0.0</td>\n",
       "      <td>0.0</td>\n",
       "      <td>0.0</td>\n",
       "      <td>10.0</td>\n",
       "      <td>10.0</td>\n",
       "      <td>90.0</td>\n",
       "      <td>965.200012</td>\n",
       "      <td>9.578555</td>\n",
       "      <td>9.578555</td>\n",
       "      <td>89.66214</td>\n",
       "      <td>965.571655</td>\n",
       "      <td>100.0</td>\n",
       "      <td>0.899538</td>\n",
       "      <td>0.414041</td>\n",
       "      <td>0.414041</td>\n",
       "      <td>27.777779</td>\n",
       "      <td>0.021201</td>\n",
       "      <td>0</td>\n",
       "      <td>0.915959</td>\n",
       "      <td>10.0</td>\n",
       "      <td>9.5709</td>\n",
       "      <td>363.15</td>\n",
       "      <td>362.81214</td>\n",
       "      <td>362.81214</td>\n",
       "      <td>27.777779</td>\n",
       "      <td>-27.777779</td>\n",
       "      <td>0.028776</td>\n",
       "      <td>561271.686993</td>\n",
       "      <td>0.021193</td>\n",
       "      <td>90.0</td>\n",
       "      <td>89.66214</td>\n",
       "    </tr>\n",
       "  </tbody>\n",
       "</table>\n",
       "</div>"
      ],
      "text/plain": [
       "                    pk                 fkDE                   rk  \\\n",
       "0  5436899515124385631  4982567935033599504  5436899515124385631   \n",
       "\n",
       "                    tk                 fkKI                 fkKK  \\\n",
       "0  5436899515124385631  5545156887373324999  4658286599152640406   \n",
       "\n",
       "           fkDTRO_ROWD               fkLTGR fkSTRASSE       L   LZU   RAU  \\\n",
       "0  5456839515335324031  5515842498618683031        -1  1000.0  None  0.25   \n",
       "\n",
       "   JLAMBS  LAMBDA0  ZEIN  ZAUS  ZUML   ASOLL INDSCHALL BAUJAHR   HAL  \\\n",
       "0     1.0    0.025  None  None  None  1000.0      None    None  None   \n",
       "\n",
       "                fkCONT fk2LROHR                               BESCHREIBUNG  \\\n",
       "0  5060822126933396627       -1  Template Element for single Pipe Creation   \n",
       "\n",
       "  GEOMWKB DELETED SELECT1             IDREFERENZ  KENNUNG  IPLANUNG  KVR  \\\n",
       "0    None    None    None  3S5201225267441779810      NaN       1.0  NaN   \n",
       "\n",
       "                 pk_BZ              fkDE_BZ                   fk  QSVB  \\\n",
       "0  4741144811589278980  4804028781596645401  5436899515124385631  None   \n",
       "\n",
       "  IRTRENN LECKSTATUS LECKSTART LECKEND LECKORT LECKMENGE IMPTNZ ZVLIMPTNZ  \\\n",
       "0    None       None      None    None    None      None   None      None   \n",
       "\n",
       "  KANTENZV                                               GEOM  \\\n",
       "0     None  b'\\x01\\x02\\x00\\x00\\x00\\x02\\x00\\x00\\x00\\x00\\x00...   \n",
       "\n",
       "                                                GRAF      MId MText Basis  \\\n",
       "0  b'\\x00\\x00\\x80?\\x00\\x00\\x00\\x00\\x01\\x00\\x00\\x0...  M-1-0-1          B1   \n",
       "\n",
       "  Variante   BZ            Geaendert             Erstellt  \\\n",
       "0       V0  BZ1  2025-05-09 13:17:45  2025-04-08 11:45:59   \n",
       "\n",
       "               pk_VMBZ              fkBASIS           fkVARIANTE  \\\n",
       "0  5703508123076770847  4982567935033599504  5151772185690695097   \n",
       "\n",
       "                  fkBZ  MZ  MT              pk_CONT            fkDE_CONT  \\\n",
       "0  4804028781596645401   1   1  5060822126933396627  4982567935033599504   \n",
       "\n",
       "               rk_CONT              tk_CONT  ID_CONT NAME_CONT  IDPARENT_CONT  \\\n",
       "0  5060822126933396627  5060822126933396627   1001.0   M-1-0-1         1001.0   \n",
       "\n",
       "         rkPARENT_CONT LFDNR_CONT GRAF_CONT FONT_CONT  \\\n",
       "0  5060822126933396627       None      None      None   \n",
       "\n",
       "                                           GEOM_CONT  DELETED_CONT  \\\n",
       "0  b'\\x00\\x00\\x80?\\x01\\x00\\x00\\x00\\x01\\x00\\x00\\x0...           0.0   \n",
       "\n",
       "   SELECT1_CONT IDREFERENZ_CONT NAME_DTRO   DN     DI   DA    S     KT   PN  \\\n",
       "0           0.0            None   STDROHR  xxx  200.0  0.0  0.0  0.494  0.0   \n",
       "\n",
       "        Am2        Vm3 NAME_LTGR NAME_STRASSE                 tk_i NAME_i  \\\n",
       "0  0.031416  31.415927   STDROHR         None  5545156887373324999     j1   \n",
       "\n",
       "                  tk_k NAME_k  mx2NofPts     dL  mx2Idx  \\\n",
       "0  4658286599152640406     j2         11  100.0       0   \n",
       "\n",
       "   (STAT, ROHR~*~*~*~A, 2025-04-08 09:45:59, 2025-04-08 09:45:59)  \\\n",
       "0                                                0.0                \n",
       "\n",
       "   (STAT, ROHR~*~*~*~DTTR, 2025-04-08 09:45:59, 2025-04-08 09:45:59)  \\\n",
       "0                                           0.308801                   \n",
       "\n",
       "   (STAT, ROHR~*~*~*~DWVERL, 2025-04-08 09:45:59, 2025-04-08 09:45:59)  \\\n",
       "0                                           39.43655                     \n",
       "\n",
       "   (STAT, ROHR~*~*~*~DWVERLABS, 2025-04-08 09:45:59, 2025-04-08 09:45:59)  \\\n",
       "0                                           39.43655                        \n",
       "\n",
       "   (STAT, ROHR~*~*~*~IAKTIV, 2025-04-08 09:45:59, 2025-04-08 09:45:59)  \\\n",
       "0                                                0.0                     \n",
       "\n",
       "   (STAT, ROHR~*~*~*~IRTRENN, 2025-04-08 09:45:59, 2025-04-08 09:45:59)  \\\n",
       "0                                                0.0                      \n",
       "\n",
       "   (STAT, ROHR~*~*~*~JV, 2025-04-08 09:45:59, 2025-04-08 09:45:59)  \\\n",
       "0                                           0.414041                 \n",
       "\n",
       "   (STAT, ROHR~*~*~*~LAMBDA, 2025-04-08 09:45:59, 2025-04-08 09:45:59)  \\\n",
       "0                                           0.021201                     \n",
       "\n",
       "   (STAT, ROHR~*~*~*~MAV, 2025-04-08 09:45:59, 2025-04-08 09:45:59)  \\\n",
       "0                                          27.777779                  \n",
       "\n",
       "   (STAT, ROHR~*~*~*~PDAMPF, 2025-04-08 09:45:59, 2025-04-08 09:45:59)  \\\n",
       "0                                           0.696674                     \n",
       "\n",
       "   (STAT, ROHR~*~*~*~PHR, 2025-04-08 09:45:59, 2025-04-08 09:45:59)  \\\n",
       "0                                           0.414041                  \n",
       "\n",
       "   (STAT, ROHR~*~*~*~PMIN, 2025-04-08 09:45:59, 2025-04-08 09:45:59)  \\\n",
       "0                                          10.578555                   \n",
       "\n",
       "   (STAT, ROHR~*~*~*~QMAV, 2025-04-08 09:45:59, 2025-04-08 09:45:59)  \\\n",
       "0                                              100.0                   \n",
       "\n",
       "   (STAT, ROHR~*~*~*~VAV, 2025-04-08 09:45:59, 2025-04-08 09:45:59)  \\\n",
       "0                                           0.899538                  \n",
       "\n",
       "   (STAT, ROHR~*~*~*~VOLDA, 2025-04-08 09:45:59, 2025-04-08 09:45:59)  \\\n",
       "0                                      -3.333333e+32                    \n",
       "\n",
       "   (STAT, ROHR~*~*~*~WVL, 2025-04-08 09:45:59, 2025-04-08 09:45:59)  \\\n",
       "0                                                0.0                  \n",
       "\n",
       "   (STAT, ROHR~*~*~*~ZAUS, 2025-04-08 09:45:59, 2025-04-08 09:45:59)  \\\n",
       "0                                                0.0                   \n",
       "\n",
       "   (STAT, ROHR~*~*~*~ZEIN, 2025-04-08 09:45:59, 2025-04-08 09:45:59)  \\\n",
       "0                                                0.0                   \n",
       "\n",
       "   ('STAT', 'KNOT~*~*~*~PH', Timestamp('2025-04-08 09:45:59'), Timestamp('2025-04-08 09:45:59'))_i  \\\n",
       "0                                               10.0                                                 \n",
       "\n",
       "   ('STAT', 'KNOT~*~*~*~H', Timestamp('2025-04-08 09:45:59'), Timestamp('2025-04-08 09:45:59'))_i  \\\n",
       "0                                               10.0                                                \n",
       "\n",
       "   ('STAT', 'KNOT~*~*~*~T', Timestamp('2025-04-08 09:45:59'), Timestamp('2025-04-08 09:45:59'))_i  \\\n",
       "0                                               90.0                                                \n",
       "\n",
       "   ('STAT', 'KNOT~*~*~*~RHO', Timestamp('2025-04-08 09:45:59'), Timestamp('2025-04-08 09:45:59'))_i  \\\n",
       "0                                         965.200012                                                  \n",
       "\n",
       "   ('STAT', 'KNOT~*~*~*~PH', Timestamp('2025-04-08 09:45:59'), Timestamp('2025-04-08 09:45:59'))_k  \\\n",
       "0                                           9.578555                                                 \n",
       "\n",
       "   ('STAT', 'KNOT~*~*~*~H', Timestamp('2025-04-08 09:45:59'), Timestamp('2025-04-08 09:45:59'))_k  \\\n",
       "0                                           9.578555                                                \n",
       "\n",
       "   ('STAT', 'KNOT~*~*~*~T', Timestamp('2025-04-08 09:45:59'), Timestamp('2025-04-08 09:45:59'))_k  \\\n",
       "0                                           89.66214                                                \n",
       "\n",
       "   ('STAT', 'KNOT~*~*~*~RHO', Timestamp('2025-04-08 09:45:59'), Timestamp('2025-04-08 09:45:59'))_k  \\\n",
       "0                                         965.571655                                                  \n",
       "\n",
       "   QMAVAbs    VAVAbs    PHRAbs     JVAbs        MAV    LAMBDA  ppID  \\\n",
       "0    100.0  0.899538  0.414041  0.414041  27.777779  0.021201     0   \n",
       "\n",
       "   v_mean_m_per_s  p_from_bar  p_to_bar  t_from_k     t_to_k  t_outlet_k  \\\n",
       "0        0.915959        10.0    9.5709    363.15  362.81214   362.81214   \n",
       "\n",
       "   mdot_from_kg_per_s  mdot_to_kg_per_s  vdot_m3_per_s       reynolds  \\\n",
       "0           27.777779        -27.777779       0.028776  561271.686993   \n",
       "\n",
       "     lambda  t_from_C    t_to_C  \n",
       "0  0.021193      90.0  89.66214  "
      ]
     },
     "execution_count": 23,
     "metadata": {},
     "output_type": "execute_result"
    }
   ],
   "source": [
    "dfCmpPipes"
   ]
  },
  {
   "cell_type": "code",
   "execution_count": null,
   "metadata": {},
   "outputs": [],
   "source": []
  },
  {
   "cell_type": "markdown",
   "metadata": {},
   "source": [
    "## comparison"
   ]
  },
  {
   "cell_type": "code",
   "execution_count": 24,
   "metadata": {},
   "outputs": [
    {
     "data": {
      "application/vnd.microsoft.datawrangler.viewer.v0+json": {
       "columns": [
        {
         "name": "index",
         "rawType": "int64",
         "type": "integer"
        },
        {
         "name": "pk",
         "rawType": "object",
         "type": "string"
        },
        {
         "name": "fkDE",
         "rawType": "object",
         "type": "string"
        },
        {
         "name": "rk",
         "rawType": "object",
         "type": "string"
        },
        {
         "name": "tk",
         "rawType": "object",
         "type": "string"
        },
        {
         "name": "NAME",
         "rawType": "object",
         "type": "string"
        },
        {
         "name": "KTYP",
         "rawType": "object",
         "type": "string"
        },
        {
         "name": "XKOR",
         "rawType": "float64",
         "type": "float"
        },
        {
         "name": "YKOR",
         "rawType": "float64",
         "type": "float"
        },
        {
         "name": "ZKOR",
         "rawType": "float64",
         "type": "float"
        },
        {
         "name": "QM_EIN",
         "rawType": "float64",
         "type": "float"
        },
        {
         "name": "LFAKT",
         "rawType": "float64",
         "type": "float"
        },
        {
         "name": "fkPZON",
         "rawType": "object",
         "type": "string"
        },
        {
         "name": "fkFSTF",
         "rawType": "object",
         "type": "string"
        },
        {
         "name": "fkUTMP",
         "rawType": "object",
         "type": "string"
        },
        {
         "name": "fkFQPS",
         "rawType": "object",
         "type": "string"
        },
        {
         "name": "fkCONT",
         "rawType": "object",
         "type": "string"
        },
        {
         "name": "fk2LKNOT",
         "rawType": "object",
         "type": "string"
        },
        {
         "name": "BESCHREIBUNG",
         "rawType": "object",
         "type": "string"
        },
        {
         "name": "GEOMWKB",
         "rawType": "object",
         "type": "unknown"
        },
        {
         "name": "DELETED",
         "rawType": "object",
         "type": "unknown"
        },
        {
         "name": "SELECT1",
         "rawType": "object",
         "type": "unknown"
        },
        {
         "name": "IDREFERENZ",
         "rawType": "object",
         "type": "string"
        },
        {
         "name": "KENNUNG",
         "rawType": "float64",
         "type": "float"
        },
        {
         "name": "IPLANUNG",
         "rawType": "float64",
         "type": "float"
        },
        {
         "name": "KVR",
         "rawType": "float64",
         "type": "float"
        },
        {
         "name": "DRAKONZ",
         "rawType": "object",
         "type": "unknown"
        },
        {
         "name": "pk_BZ",
         "rawType": "object",
         "type": "string"
        },
        {
         "name": "fkDE_BZ",
         "rawType": "object",
         "type": "string"
        },
        {
         "name": "fk",
         "rawType": "object",
         "type": "string"
        },
        {
         "name": "fkPVAR",
         "rawType": "object",
         "type": "string"
        },
        {
         "name": "fkQVAR",
         "rawType": "object",
         "type": "string"
        },
        {
         "name": "fkLFKT",
         "rawType": "object",
         "type": "string"
        },
        {
         "name": "PH_EIN",
         "rawType": "float64",
         "type": "float"
        },
        {
         "name": "TM",
         "rawType": "object",
         "type": "unknown"
        },
        {
         "name": "TE",
         "rawType": "float64",
         "type": "float"
        },
        {
         "name": "PH_MIN",
         "rawType": "object",
         "type": "unknown"
        },
        {
         "name": "GRAF",
         "rawType": "object",
         "type": "unknown"
        },
        {
         "name": "MId",
         "rawType": "object",
         "type": "string"
        },
        {
         "name": "MText",
         "rawType": "object",
         "type": "string"
        },
        {
         "name": "Basis",
         "rawType": "object",
         "type": "string"
        },
        {
         "name": "Variante",
         "rawType": "object",
         "type": "string"
        },
        {
         "name": "BZ",
         "rawType": "object",
         "type": "string"
        },
        {
         "name": "Geaendert",
         "rawType": "object",
         "type": "string"
        },
        {
         "name": "Erstellt",
         "rawType": "object",
         "type": "string"
        },
        {
         "name": "pk_VMBZ",
         "rawType": "object",
         "type": "string"
        },
        {
         "name": "fkBASIS",
         "rawType": "object",
         "type": "string"
        },
        {
         "name": "fkVARIANTE",
         "rawType": "object",
         "type": "string"
        },
        {
         "name": "fkBZ",
         "rawType": "object",
         "type": "string"
        },
        {
         "name": "MZ",
         "rawType": "int64",
         "type": "integer"
        },
        {
         "name": "MT",
         "rawType": "int64",
         "type": "integer"
        },
        {
         "name": "pk_CONT",
         "rawType": "object",
         "type": "string"
        },
        {
         "name": "fkDE_CONT",
         "rawType": "object",
         "type": "string"
        },
        {
         "name": "rk_CONT",
         "rawType": "object",
         "type": "string"
        },
        {
         "name": "tk_CONT",
         "rawType": "object",
         "type": "string"
        },
        {
         "name": "ID_CONT",
         "rawType": "float64",
         "type": "float"
        },
        {
         "name": "NAME_CONT",
         "rawType": "object",
         "type": "string"
        },
        {
         "name": "IDPARENT_CONT",
         "rawType": "float64",
         "type": "float"
        },
        {
         "name": "rkPARENT_CONT",
         "rawType": "object",
         "type": "string"
        },
        {
         "name": "LFDNR_CONT",
         "rawType": "object",
         "type": "unknown"
        },
        {
         "name": "GRAF_CONT",
         "rawType": "object",
         "type": "unknown"
        },
        {
         "name": "FONT_CONT",
         "rawType": "object",
         "type": "unknown"
        },
        {
         "name": "GEOM_CONT",
         "rawType": "object",
         "type": "unknown"
        },
        {
         "name": "DELETED_CONT",
         "rawType": "float64",
         "type": "float"
        },
        {
         "name": "SELECT1_CONT",
         "rawType": "float64",
         "type": "float"
        },
        {
         "name": "IDREFERENZ_CONT",
         "rawType": "object",
         "type": "unknown"
        },
        {
         "name": "pk_VKNO",
         "rawType": "object",
         "type": "unknown"
        },
        {
         "name": "fkDE_VKNO",
         "rawType": "object",
         "type": "unknown"
        },
        {
         "name": "rk_VKNO",
         "rawType": "object",
         "type": "unknown"
        },
        {
         "name": "fkKNOT_VKNO",
         "rawType": "object",
         "type": "unknown"
        },
        {
         "name": "fkCONT_VKNO",
         "rawType": "object",
         "type": "unknown"
        },
        {
         "name": "SHOWNAME_VKNO",
         "rawType": "object",
         "type": "unknown"
        },
        {
         "name": "POSNAME_VKNO",
         "rawType": "object",
         "type": "unknown"
        },
        {
         "name": "POINTINSERTX_VKNO",
         "rawType": "object",
         "type": "unknown"
        },
        {
         "name": "POINTINSERTY_VKNO",
         "rawType": "object",
         "type": "unknown"
        },
        {
         "name": "SYMBOLFACT_VKNO",
         "rawType": "object",
         "type": "unknown"
        },
        {
         "name": "DISPLAYMODE_VKNO",
         "rawType": "object",
         "type": "unknown"
        },
        {
         "name": "DELETED_VKNO",
         "rawType": "object",
         "type": "unknown"
        },
        {
         "name": "SELECT1_VKNO",
         "rawType": "object",
         "type": "unknown"
        },
        {
         "name": "MId_VKNO",
         "rawType": "object",
         "type": "unknown"
        },
        {
         "name": "MText_VKNO",
         "rawType": "object",
         "type": "unknown"
        },
        {
         "name": "Basis_VKNO",
         "rawType": "object",
         "type": "unknown"
        },
        {
         "name": "Variante_VKNO",
         "rawType": "object",
         "type": "unknown"
        },
        {
         "name": "BZ_VKNO",
         "rawType": "object",
         "type": "unknown"
        },
        {
         "name": "Geaendert_VKNO",
         "rawType": "object",
         "type": "unknown"
        },
        {
         "name": "Erstellt_VKNO",
         "rawType": "object",
         "type": "unknown"
        },
        {
         "name": "pk_VMBASIS_VKNO",
         "rawType": "object",
         "type": "unknown"
        },
        {
         "name": "fkBASIS_VKNO",
         "rawType": "object",
         "type": "unknown"
        },
        {
         "name": "fkVARIANTE_VKNO",
         "rawType": "object",
         "type": "unknown"
        },
        {
         "name": "fkBZ_VKNO",
         "rawType": "object",
         "type": "unknown"
        },
        {
         "name": "MZ_VKNO",
         "rawType": "float64",
         "type": "float"
        },
        {
         "name": "MT_VKNO",
         "rawType": "float64",
         "type": "float"
        },
        {
         "name": "MId_VMVARIANTE_VKNO",
         "rawType": "object",
         "type": "unknown"
        },
        {
         "name": "MText_VMVARIANTE_VKNO",
         "rawType": "object",
         "type": "unknown"
        },
        {
         "name": "Basis_VMVARIANTE_VKNO",
         "rawType": "object",
         "type": "unknown"
        },
        {
         "name": "Variante_VMVARIANTE_VKNO",
         "rawType": "object",
         "type": "unknown"
        },
        {
         "name": "BZ_VMVARIANTE_VKNO",
         "rawType": "object",
         "type": "unknown"
        },
        {
         "name": "Geaendert_VMVARIANTE_VKNO",
         "rawType": "object",
         "type": "unknown"
        },
        {
         "name": "Erstellt_VMVARIANTE_VKNO",
         "rawType": "object",
         "type": "unknown"
        },
        {
         "name": "pk_VMVARIANTE_VKNO",
         "rawType": "object",
         "type": "unknown"
        },
        {
         "name": "fkBASIS_VMVARIANTE_VKNO",
         "rawType": "object",
         "type": "unknown"
        },
        {
         "name": "fkVARIANTE_VMVARIANTE_VKNO",
         "rawType": "object",
         "type": "unknown"
        },
        {
         "name": "fkBZ_VMVARIANTE_VKNO",
         "rawType": "object",
         "type": "unknown"
        },
        {
         "name": "MZ_VMVARIANTE_VKNO",
         "rawType": "float64",
         "type": "float"
        },
        {
         "name": "MT_VMVARIANTE_VKNO",
         "rawType": "float64",
         "type": "float"
        },
        {
         "name": "pk_CONT_VKNO",
         "rawType": "object",
         "type": "unknown"
        },
        {
         "name": "fkDE_CONT_VKNO",
         "rawType": "object",
         "type": "unknown"
        },
        {
         "name": "rk_CONT_VKNO",
         "rawType": "object",
         "type": "unknown"
        },
        {
         "name": "tk_CONT_VKNO",
         "rawType": "object",
         "type": "unknown"
        },
        {
         "name": "ID_CONT_VKNO",
         "rawType": "float64",
         "type": "float"
        },
        {
         "name": "NAME_CONT_VKNO",
         "rawType": "object",
         "type": "unknown"
        },
        {
         "name": "IDPARENT_CONT_VKNO",
         "rawType": "float64",
         "type": "float"
        },
        {
         "name": "rkPARENT_CONT_VKNO",
         "rawType": "object",
         "type": "unknown"
        },
        {
         "name": "LFDNR_CONT_VKNO",
         "rawType": "object",
         "type": "unknown"
        },
        {
         "name": "GRAF_CONT_VKNO",
         "rawType": "object",
         "type": "unknown"
        },
        {
         "name": "FONT_CONT_VKNO",
         "rawType": "object",
         "type": "unknown"
        },
        {
         "name": "GEOM_CONT_VKNO",
         "rawType": "object",
         "type": "unknown"
        },
        {
         "name": "DELETED_CONT_VKNO",
         "rawType": "float64",
         "type": "float"
        },
        {
         "name": "SELECT1_CONT_VKNO",
         "rawType": "float64",
         "type": "float"
        },
        {
         "name": "IDREFERENZ_CONT_VKNO",
         "rawType": "object",
         "type": "unknown"
        },
        {
         "name": "NAME_LFKT",
         "rawType": "object",
         "type": "unknown"
        },
        {
         "name": "NAME_PVAR",
         "rawType": "object",
         "type": "unknown"
        },
        {
         "name": "NAME_PZON",
         "rawType": "object",
         "type": "unknown"
        },
        {
         "name": "NAME_QVAR",
         "rawType": "object",
         "type": "unknown"
        },
        {
         "name": "NAME_UTMP",
         "rawType": "object",
         "type": "string"
        },
        {
         "name": "NAME_FSTF",
         "rawType": "object",
         "type": "string"
        },
        {
         "name": "NAME_FQPS",
         "rawType": "object",
         "type": "unknown"
        },
        {
         "name": "mx2Idx",
         "rawType": "float64",
         "type": "float"
        },
        {
         "name": "('STAT', 'KNOT~*~*~*~BCIND', Timestamp('2025-04-08 09:45:59'), Timestamp('2025-04-08 09:45:59'))",
         "rawType": "float64",
         "type": "float"
        },
        {
         "name": "('STAT', 'KNOT~*~*~*~DP', Timestamp('2025-04-08 09:45:59'), Timestamp('2025-04-08 09:45:59'))",
         "rawType": "float64",
         "type": "float"
        },
        {
         "name": "('STAT', 'KNOT~*~*~*~DPH', Timestamp('2025-04-08 09:45:59'), Timestamp('2025-04-08 09:45:59'))",
         "rawType": "float64",
         "type": "float"
        },
        {
         "name": "('STAT', 'KNOT~*~*~*~FITT_BASTYPE', Timestamp('2025-04-08 09:45:59'), Timestamp('2025-04-08 09:45:59'))",
         "rawType": "float64",
         "type": "float"
        },
        {
         "name": "('STAT', 'KNOT~*~*~*~FITT_DP1', Timestamp('2025-04-08 09:45:59'), Timestamp('2025-04-08 09:45:59'))",
         "rawType": "float64",
         "type": "float"
        },
        {
         "name": "('STAT', 'KNOT~*~*~*~FITT_DP2', Timestamp('2025-04-08 09:45:59'), Timestamp('2025-04-08 09:45:59'))",
         "rawType": "float64",
         "type": "float"
        },
        {
         "name": "('STAT', 'KNOT~*~*~*~FITT_DP3', Timestamp('2025-04-08 09:45:59'), Timestamp('2025-04-08 09:45:59'))",
         "rawType": "float64",
         "type": "float"
        },
        {
         "name": "('STAT', 'KNOT~*~*~*~FITT_STATE', Timestamp('2025-04-08 09:45:59'), Timestamp('2025-04-08 09:45:59'))",
         "rawType": "float64",
         "type": "float"
        },
        {
         "name": "('STAT', 'KNOT~*~*~*~H', Timestamp('2025-04-08 09:45:59'), Timestamp('2025-04-08 09:45:59'))",
         "rawType": "float64",
         "type": "float"
        },
        {
         "name": "('STAT', 'KNOT~*~*~*~IAKTIV', Timestamp('2025-04-08 09:45:59'), Timestamp('2025-04-08 09:45:59'))",
         "rawType": "float64",
         "type": "float"
        },
        {
         "name": "('STAT', 'KNOT~*~*~*~LFAKTAKT', Timestamp('2025-04-08 09:45:59'), Timestamp('2025-04-08 09:45:59'))",
         "rawType": "float64",
         "type": "float"
        },
        {
         "name": "('STAT', 'KNOT~*~*~*~M', Timestamp('2025-04-08 09:45:59'), Timestamp('2025-04-08 09:45:59'))",
         "rawType": "float64",
         "type": "float"
        },
        {
         "name": "('STAT', 'KNOT~*~*~*~P', Timestamp('2025-04-08 09:45:59'), Timestamp('2025-04-08 09:45:59'))",
         "rawType": "float64",
         "type": "float"
        },
        {
         "name": "('STAT', 'KNOT~*~*~*~PDAMPF', Timestamp('2025-04-08 09:45:59'), Timestamp('2025-04-08 09:45:59'))",
         "rawType": "float64",
         "type": "float"
        },
        {
         "name": "('STAT', 'KNOT~*~*~*~PH', Timestamp('2025-04-08 09:45:59'), Timestamp('2025-04-08 09:45:59'))",
         "rawType": "float64",
         "type": "float"
        },
        {
         "name": "('STAT', 'KNOT~*~*~*~PHMINMAXDIF', Timestamp('2025-04-08 09:45:59'), Timestamp('2025-04-08 09:45:59'))",
         "rawType": "float64",
         "type": "float"
        },
        {
         "name": "('STAT', 'KNOT~*~*~*~PH_EIN', Timestamp('2025-04-08 09:45:59'), Timestamp('2025-04-08 09:45:59'))",
         "rawType": "float64",
         "type": "float"
        },
        {
         "name": "('STAT', 'KNOT~*~*~*~PH_MIN', Timestamp('2025-04-08 09:45:59'), Timestamp('2025-04-08 09:45:59'))",
         "rawType": "float64",
         "type": "float"
        },
        {
         "name": "('STAT', 'KNOT~*~*~*~QM', Timestamp('2025-04-08 09:45:59'), Timestamp('2025-04-08 09:45:59'))",
         "rawType": "float64",
         "type": "float"
        },
        {
         "name": "('STAT', 'KNOT~*~*~*~RHO', Timestamp('2025-04-08 09:45:59'), Timestamp('2025-04-08 09:45:59'))",
         "rawType": "float64",
         "type": "float"
        },
        {
         "name": "('STAT', 'KNOT~*~*~*~T', Timestamp('2025-04-08 09:45:59'), Timestamp('2025-04-08 09:45:59'))",
         "rawType": "float64",
         "type": "float"
        },
        {
         "name": "('STAT', 'KNOT~*~*~*~TTR', Timestamp('2025-04-08 09:45:59'), Timestamp('2025-04-08 09:45:59'))",
         "rawType": "float64",
         "type": "float"
        },
        {
         "name": "('STAT', 'KNOT~*~*~*~VOLD', Timestamp('2025-04-08 09:45:59'), Timestamp('2025-04-08 09:45:59'))",
         "rawType": "float64",
         "type": "float"
        },
        {
         "name": "PH",
         "rawType": "float64",
         "type": "float"
        },
        {
         "name": "QM",
         "rawType": "float64",
         "type": "float"
        },
        {
         "name": "dPH",
         "rawType": "object",
         "type": "unknown"
        },
        {
         "name": "T",
         "rawType": "float64",
         "type": "float"
        },
        {
         "name": "M",
         "rawType": "float64",
         "type": "float"
        },
        {
         "name": "ppID",
         "rawType": "int64",
         "type": "integer"
        },
        {
         "name": "p_bar",
         "rawType": "float64",
         "type": "float"
        },
        {
         "name": "t_k",
         "rawType": "float64",
         "type": "float"
        },
        {
         "name": "t_C",
         "rawType": "float64",
         "type": "float"
        }
       ],
       "conversionMethod": "pd.DataFrame",
       "ref": "8f8dd94c-9bad-481c-9d40-0acaba7c6101",
       "rows": [
        [
         "3",
         "5545156887373324999",
         "4982567935033599504",
         "5545156887373324999",
         "5545156887373324999",
         "j1",
         "PKON",
         "300.00001192092896",
         "649.9999761581421",
         "0.0",
         null,
         "1.0",
         "-1",
         "5297658028320820931",
         "5154968777807259962",
         "-1",
         "5060822126933396627",
         "-1",
         "Template Element for single Node Creation",
         null,
         null,
         null,
         "3S5671171592228004325",
         null,
         "1.0",
         null,
         null,
         "5473573628395650757",
         "4804028781596645401",
         "5545156887373324999",
         "-1",
         "-1",
         "-1",
         "10.0",
         null,
         "90.0",
         null,
         "b'\\x00\\x00\\x00\\x00\\x01\\x00\\x00\\x00\\x02\\x00\\x00\\x00\\x00\\x00\\x80\\xa8\\xff\\xffx@\\x00\\x00\\x80v\\xff\\x1f|@\\x00\\x00\\x00\\x00\\x00\\x00\\x14@\\x00\\x00\\x00\\x00\\x00\\x00\\xf0?\\x00\\x00\\x00\\x00\\x00\\x00\\x00\\x00\\x00\\x00\\x00\\x00\\x00\\x00\\x00\\x00\\x00\\x00\\x00\\x00\\x00\\x00\\x00\\x00\\x00\\x00\\x00\\x00\\x00\\x00\\x00\\x00\\x00\\x00\\x00\\x00\\x00\\x00\\x00\\x00'",
         "M-1-0-1",
         "",
         "B1",
         "V0",
         "BZ1",
         "2025-05-09 13:17:45",
         "2025-04-08 11:45:59",
         "5703508123076770847",
         "4982567935033599504",
         "5151772185690695097",
         "4804028781596645401",
         "1",
         "1",
         "5060822126933396627",
         "4982567935033599504",
         "5060822126933396627",
         "5060822126933396627",
         "1001.0",
         "M-1-0-1",
         "1001.0",
         "5060822126933396627",
         null,
         null,
         null,
         "b'\\x00\\x00\\x80?\\x01\\x00\\x00\\x00\\x01\\x00\\x00\\x00\\x00\\x00\\x00\\x00\\x00\\x00I@\\x00\\x00\\x00\\x00\\x00\\x00I@\\x01\\x00\\x00\\x00\\x00\\x00\\x00\\x00\\x00\\x00\\x00\\x00\\x00\\x00\\x00\\x00\\x00\\x00\\x00\\x00\\x00\\x00\\x00\\x00\\x00\\x88\\x93@\\x00\\x00\\x00\\x00\\x00 \\x8c@\\x00\\x00\\x00\\x00\\x00\\x88\\xb3@\\x00\\x00\\x00\\x00\\x00\\x00\\x00\\x00\\x00\\x00\\x00\\x00\\x00\\x00\\x00\\x00\\x00\\x00\\x00\\x00\\x00\\x88\\x93@\\x00\\x00\\x00\\x00\\x00 \\x8c@\\x00\\x00\\x00\\x00\\x00\\x88\\x93@\\x00\\x00\\x00\\x00\\x00 \\x8c@\\x00\\x00\\x00\\x00\\x00\\x00\\x00\\x00\\x00\\x00\\x00\\x00\\x00\\x00\\x00\\x00\\x00\\x00\\x00\\x00\\x00\\x00\\xf0?\\xfc\\xa9\\xf1\\xd2MbP?\\x00\\x00\\x00\\x00\\x00\\x00\\xf0?'",
         "0.0",
         "0.0",
         null,
         null,
         null,
         null,
         null,
         null,
         null,
         null,
         null,
         null,
         null,
         null,
         null,
         null,
         null,
         null,
         null,
         null,
         null,
         null,
         null,
         null,
         null,
         null,
         null,
         null,
         null,
         null,
         null,
         null,
         null,
         null,
         null,
         null,
         null,
         null,
         null,
         null,
         null,
         null,
         null,
         null,
         null,
         null,
         null,
         null,
         null,
         null,
         null,
         null,
         null,
         null,
         null,
         null,
         null,
         null,
         null,
         null,
         null,
         "Standard",
         "Standard",
         null,
         null,
         "24.0",
         "-3.333333443937845e+32",
         "-3.333333443937845e+32",
         "-333333333.0",
         "-3.333333443937845e+32",
         "-3.333333443937845e+32",
         "-3.333333443937845e+32",
         "-333333333.0",
         "10.0",
         "0.0",
         "1.0",
         "27.77777862548828",
         "11.0",
         "0.7010999917984009",
         "10.0",
         "0.0",
         "10.0",
         "0.0",
         "100.0",
         "965.2000122070312",
         "90.0",
         "0.0",
         "0.0",
         "10.0",
         "100.0",
         null,
         "90.0",
         "27.77777862548828",
         "0",
         "10.0",
         "363.15",
         "90.0"
        ],
        [
         "4",
         "4658286599152640406",
         "4982567935033599504",
         "4658286599152640406",
         "4658286599152640406",
         "j2",
         "QKON",
         "449.9999165534973",
         "499.9998688697815",
         "0.0",
         "-100.0",
         "1.0",
         "-1",
         "5297658028320820931",
         "5154968777807259962",
         "-1",
         "5060822126933396627",
         "-1",
         "Template Element for single Node Creation",
         null,
         null,
         null,
         "3S5671171592228004325",
         null,
         "1.0",
         null,
         null,
         "4927625957676832607",
         "4804028781596645401",
         "4658286599152640406",
         "-1",
         "-1",
         "-1",
         null,
         null,
         null,
         null,
         "b'\\x00\\x00\\x00\\x00\\x01\\x00\\x00\\x00\\x00\\x00\\x00\\x00\\x00\\x00\\xc0]\\x00\\x00\\x89@\\x00\\x00\\x80\\xa8\\xff\\x1f|@\\x00\\x00\\x00\\x00\\x00\\x00\\x14@\\x00\\x00\\x00\\x00\\x00\\x00\\xf0?\\x00\\x00\\x00\\x00\\x00\\x00\\x00\\x00\\x00\\x00\\x00\\x00\\x00\\x00\\x00\\x00\\x00\\x00\\x00\\x00\\x00\\x00\\x00\\x00\\x00\\x00\\x00\\x00\\x00\\x00\\x00\\x00\\x00\\x00\\x00\\x00\\x00\\x00\\x00\\x00'",
         "M-1-0-1",
         "",
         "B1",
         "V0",
         "BZ1",
         "2025-05-09 13:17:45",
         "2025-04-08 11:45:59",
         "5703508123076770847",
         "4982567935033599504",
         "5151772185690695097",
         "4804028781596645401",
         "1",
         "1",
         "5060822126933396627",
         "4982567935033599504",
         "5060822126933396627",
         "5060822126933396627",
         "1001.0",
         "M-1-0-1",
         "1001.0",
         "5060822126933396627",
         null,
         null,
         null,
         "b'\\x00\\x00\\x80?\\x01\\x00\\x00\\x00\\x01\\x00\\x00\\x00\\x00\\x00\\x00\\x00\\x00\\x00I@\\x00\\x00\\x00\\x00\\x00\\x00I@\\x01\\x00\\x00\\x00\\x00\\x00\\x00\\x00\\x00\\x00\\x00\\x00\\x00\\x00\\x00\\x00\\x00\\x00\\x00\\x00\\x00\\x00\\x00\\x00\\x00\\x88\\x93@\\x00\\x00\\x00\\x00\\x00 \\x8c@\\x00\\x00\\x00\\x00\\x00\\x88\\xb3@\\x00\\x00\\x00\\x00\\x00\\x00\\x00\\x00\\x00\\x00\\x00\\x00\\x00\\x00\\x00\\x00\\x00\\x00\\x00\\x00\\x00\\x88\\x93@\\x00\\x00\\x00\\x00\\x00 \\x8c@\\x00\\x00\\x00\\x00\\x00\\x88\\x93@\\x00\\x00\\x00\\x00\\x00 \\x8c@\\x00\\x00\\x00\\x00\\x00\\x00\\x00\\x00\\x00\\x00\\x00\\x00\\x00\\x00\\x00\\x00\\x00\\x00\\x00\\x00\\x00\\x00\\xf0?\\xfc\\xa9\\xf1\\xd2MbP?\\x00\\x00\\x00\\x00\\x00\\x00\\xf0?'",
         "0.0",
         "0.0",
         null,
         null,
         null,
         null,
         null,
         null,
         null,
         null,
         null,
         null,
         null,
         null,
         null,
         null,
         null,
         null,
         null,
         null,
         null,
         null,
         null,
         null,
         null,
         null,
         null,
         null,
         null,
         null,
         null,
         null,
         null,
         null,
         null,
         null,
         null,
         null,
         null,
         null,
         null,
         null,
         null,
         null,
         null,
         null,
         null,
         null,
         null,
         null,
         null,
         null,
         null,
         null,
         null,
         null,
         null,
         null,
         null,
         null,
         null,
         "Standard",
         "Standard",
         null,
         null,
         "21.0",
         "-3.333333443937845e+32",
         "-3.333333443937845e+32",
         "-333333333.0",
         "-3.333333443937845e+32",
         "-3.333333443937845e+32",
         "-3.333333443937845e+32",
         "-333333333.0",
         "9.5785551071167",
         "0.0",
         "1.0",
         "-27.77777862548828",
         "10.5785551071167",
         "0.6922480463981628",
         "9.5785551071167",
         "0.0",
         "9.5785551071167",
         "0.0",
         "-100.0",
         "965.5716552734375",
         "89.66213989257812",
         "0.3088006377220154",
         "0.0",
         "9.5785551071167",
         "-100.0",
         null,
         "89.66213989257812",
         "-27.77777862548828",
         "1",
         "9.570899681838608",
         "362.8121398925781",
         "89.66213989257812"
        ]
       ],
       "shape": {
        "columns": 159,
        "rows": 2
       }
      },
      "text/html": [
       "<div>\n",
       "<style scoped>\n",
       "    .dataframe tbody tr th:only-of-type {\n",
       "        vertical-align: middle;\n",
       "    }\n",
       "\n",
       "    .dataframe tbody tr th {\n",
       "        vertical-align: top;\n",
       "    }\n",
       "\n",
       "    .dataframe thead th {\n",
       "        text-align: right;\n",
       "    }\n",
       "</style>\n",
       "<table border=\"1\" class=\"dataframe\">\n",
       "  <thead>\n",
       "    <tr style=\"text-align: right;\">\n",
       "      <th></th>\n",
       "      <th>pk</th>\n",
       "      <th>fkDE</th>\n",
       "      <th>rk</th>\n",
       "      <th>tk</th>\n",
       "      <th>NAME</th>\n",
       "      <th>KTYP</th>\n",
       "      <th>XKOR</th>\n",
       "      <th>YKOR</th>\n",
       "      <th>ZKOR</th>\n",
       "      <th>QM_EIN</th>\n",
       "      <th>LFAKT</th>\n",
       "      <th>fkPZON</th>\n",
       "      <th>fkFSTF</th>\n",
       "      <th>fkUTMP</th>\n",
       "      <th>fkFQPS</th>\n",
       "      <th>fkCONT</th>\n",
       "      <th>fk2LKNOT</th>\n",
       "      <th>BESCHREIBUNG</th>\n",
       "      <th>GEOMWKB</th>\n",
       "      <th>DELETED</th>\n",
       "      <th>SELECT1</th>\n",
       "      <th>IDREFERENZ</th>\n",
       "      <th>KENNUNG</th>\n",
       "      <th>IPLANUNG</th>\n",
       "      <th>KVR</th>\n",
       "      <th>DRAKONZ</th>\n",
       "      <th>pk_BZ</th>\n",
       "      <th>fkDE_BZ</th>\n",
       "      <th>fk</th>\n",
       "      <th>fkPVAR</th>\n",
       "      <th>fkQVAR</th>\n",
       "      <th>fkLFKT</th>\n",
       "      <th>PH_EIN</th>\n",
       "      <th>TM</th>\n",
       "      <th>TE</th>\n",
       "      <th>PH_MIN</th>\n",
       "      <th>GRAF</th>\n",
       "      <th>MId</th>\n",
       "      <th>MText</th>\n",
       "      <th>Basis</th>\n",
       "      <th>Variante</th>\n",
       "      <th>BZ</th>\n",
       "      <th>Geaendert</th>\n",
       "      <th>Erstellt</th>\n",
       "      <th>pk_VMBZ</th>\n",
       "      <th>fkBASIS</th>\n",
       "      <th>fkVARIANTE</th>\n",
       "      <th>fkBZ</th>\n",
       "      <th>MZ</th>\n",
       "      <th>MT</th>\n",
       "      <th>pk_CONT</th>\n",
       "      <th>fkDE_CONT</th>\n",
       "      <th>rk_CONT</th>\n",
       "      <th>tk_CONT</th>\n",
       "      <th>ID_CONT</th>\n",
       "      <th>NAME_CONT</th>\n",
       "      <th>IDPARENT_CONT</th>\n",
       "      <th>rkPARENT_CONT</th>\n",
       "      <th>LFDNR_CONT</th>\n",
       "      <th>GRAF_CONT</th>\n",
       "      <th>FONT_CONT</th>\n",
       "      <th>GEOM_CONT</th>\n",
       "      <th>DELETED_CONT</th>\n",
       "      <th>SELECT1_CONT</th>\n",
       "      <th>IDREFERENZ_CONT</th>\n",
       "      <th>pk_VKNO</th>\n",
       "      <th>fkDE_VKNO</th>\n",
       "      <th>rk_VKNO</th>\n",
       "      <th>fkKNOT_VKNO</th>\n",
       "      <th>fkCONT_VKNO</th>\n",
       "      <th>SHOWNAME_VKNO</th>\n",
       "      <th>POSNAME_VKNO</th>\n",
       "      <th>POINTINSERTX_VKNO</th>\n",
       "      <th>POINTINSERTY_VKNO</th>\n",
       "      <th>SYMBOLFACT_VKNO</th>\n",
       "      <th>DISPLAYMODE_VKNO</th>\n",
       "      <th>DELETED_VKNO</th>\n",
       "      <th>SELECT1_VKNO</th>\n",
       "      <th>MId_VKNO</th>\n",
       "      <th>MText_VKNO</th>\n",
       "      <th>Basis_VKNO</th>\n",
       "      <th>Variante_VKNO</th>\n",
       "      <th>BZ_VKNO</th>\n",
       "      <th>Geaendert_VKNO</th>\n",
       "      <th>Erstellt_VKNO</th>\n",
       "      <th>pk_VMBASIS_VKNO</th>\n",
       "      <th>fkBASIS_VKNO</th>\n",
       "      <th>fkVARIANTE_VKNO</th>\n",
       "      <th>fkBZ_VKNO</th>\n",
       "      <th>MZ_VKNO</th>\n",
       "      <th>MT_VKNO</th>\n",
       "      <th>MId_VMVARIANTE_VKNO</th>\n",
       "      <th>MText_VMVARIANTE_VKNO</th>\n",
       "      <th>Basis_VMVARIANTE_VKNO</th>\n",
       "      <th>Variante_VMVARIANTE_VKNO</th>\n",
       "      <th>BZ_VMVARIANTE_VKNO</th>\n",
       "      <th>Geaendert_VMVARIANTE_VKNO</th>\n",
       "      <th>Erstellt_VMVARIANTE_VKNO</th>\n",
       "      <th>pk_VMVARIANTE_VKNO</th>\n",
       "      <th>fkBASIS_VMVARIANTE_VKNO</th>\n",
       "      <th>fkVARIANTE_VMVARIANTE_VKNO</th>\n",
       "      <th>fkBZ_VMVARIANTE_VKNO</th>\n",
       "      <th>MZ_VMVARIANTE_VKNO</th>\n",
       "      <th>MT_VMVARIANTE_VKNO</th>\n",
       "      <th>pk_CONT_VKNO</th>\n",
       "      <th>fkDE_CONT_VKNO</th>\n",
       "      <th>rk_CONT_VKNO</th>\n",
       "      <th>tk_CONT_VKNO</th>\n",
       "      <th>ID_CONT_VKNO</th>\n",
       "      <th>NAME_CONT_VKNO</th>\n",
       "      <th>IDPARENT_CONT_VKNO</th>\n",
       "      <th>rkPARENT_CONT_VKNO</th>\n",
       "      <th>LFDNR_CONT_VKNO</th>\n",
       "      <th>GRAF_CONT_VKNO</th>\n",
       "      <th>FONT_CONT_VKNO</th>\n",
       "      <th>GEOM_CONT_VKNO</th>\n",
       "      <th>DELETED_CONT_VKNO</th>\n",
       "      <th>SELECT1_CONT_VKNO</th>\n",
       "      <th>IDREFERENZ_CONT_VKNO</th>\n",
       "      <th>NAME_LFKT</th>\n",
       "      <th>NAME_PVAR</th>\n",
       "      <th>NAME_PZON</th>\n",
       "      <th>NAME_QVAR</th>\n",
       "      <th>NAME_UTMP</th>\n",
       "      <th>NAME_FSTF</th>\n",
       "      <th>NAME_FQPS</th>\n",
       "      <th>mx2Idx</th>\n",
       "      <th>(STAT, KNOT~*~*~*~BCIND, 2025-04-08 09:45:59, 2025-04-08 09:45:59)</th>\n",
       "      <th>(STAT, KNOT~*~*~*~DP, 2025-04-08 09:45:59, 2025-04-08 09:45:59)</th>\n",
       "      <th>(STAT, KNOT~*~*~*~DPH, 2025-04-08 09:45:59, 2025-04-08 09:45:59)</th>\n",
       "      <th>(STAT, KNOT~*~*~*~FITT_BASTYPE, 2025-04-08 09:45:59, 2025-04-08 09:45:59)</th>\n",
       "      <th>(STAT, KNOT~*~*~*~FITT_DP1, 2025-04-08 09:45:59, 2025-04-08 09:45:59)</th>\n",
       "      <th>(STAT, KNOT~*~*~*~FITT_DP2, 2025-04-08 09:45:59, 2025-04-08 09:45:59)</th>\n",
       "      <th>(STAT, KNOT~*~*~*~FITT_DP3, 2025-04-08 09:45:59, 2025-04-08 09:45:59)</th>\n",
       "      <th>(STAT, KNOT~*~*~*~FITT_STATE, 2025-04-08 09:45:59, 2025-04-08 09:45:59)</th>\n",
       "      <th>(STAT, KNOT~*~*~*~H, 2025-04-08 09:45:59, 2025-04-08 09:45:59)</th>\n",
       "      <th>(STAT, KNOT~*~*~*~IAKTIV, 2025-04-08 09:45:59, 2025-04-08 09:45:59)</th>\n",
       "      <th>(STAT, KNOT~*~*~*~LFAKTAKT, 2025-04-08 09:45:59, 2025-04-08 09:45:59)</th>\n",
       "      <th>(STAT, KNOT~*~*~*~M, 2025-04-08 09:45:59, 2025-04-08 09:45:59)</th>\n",
       "      <th>(STAT, KNOT~*~*~*~P, 2025-04-08 09:45:59, 2025-04-08 09:45:59)</th>\n",
       "      <th>(STAT, KNOT~*~*~*~PDAMPF, 2025-04-08 09:45:59, 2025-04-08 09:45:59)</th>\n",
       "      <th>(STAT, KNOT~*~*~*~PH, 2025-04-08 09:45:59, 2025-04-08 09:45:59)</th>\n",
       "      <th>(STAT, KNOT~*~*~*~PHMINMAXDIF, 2025-04-08 09:45:59, 2025-04-08 09:45:59)</th>\n",
       "      <th>(STAT, KNOT~*~*~*~PH_EIN, 2025-04-08 09:45:59, 2025-04-08 09:45:59)</th>\n",
       "      <th>(STAT, KNOT~*~*~*~PH_MIN, 2025-04-08 09:45:59, 2025-04-08 09:45:59)</th>\n",
       "      <th>(STAT, KNOT~*~*~*~QM, 2025-04-08 09:45:59, 2025-04-08 09:45:59)</th>\n",
       "      <th>(STAT, KNOT~*~*~*~RHO, 2025-04-08 09:45:59, 2025-04-08 09:45:59)</th>\n",
       "      <th>(STAT, KNOT~*~*~*~T, 2025-04-08 09:45:59, 2025-04-08 09:45:59)</th>\n",
       "      <th>(STAT, KNOT~*~*~*~TTR, 2025-04-08 09:45:59, 2025-04-08 09:45:59)</th>\n",
       "      <th>(STAT, KNOT~*~*~*~VOLD, 2025-04-08 09:45:59, 2025-04-08 09:45:59)</th>\n",
       "      <th>PH</th>\n",
       "      <th>QM</th>\n",
       "      <th>dPH</th>\n",
       "      <th>T</th>\n",
       "      <th>M</th>\n",
       "      <th>ppID</th>\n",
       "      <th>p_bar</th>\n",
       "      <th>t_k</th>\n",
       "      <th>t_C</th>\n",
       "    </tr>\n",
       "  </thead>\n",
       "  <tbody>\n",
       "    <tr>\n",
       "      <th>3</th>\n",
       "      <td>5545156887373324999</td>\n",
       "      <td>4982567935033599504</td>\n",
       "      <td>5545156887373324999</td>\n",
       "      <td>5545156887373324999</td>\n",
       "      <td>j1</td>\n",
       "      <td>PKON</td>\n",
       "      <td>300.000012</td>\n",
       "      <td>649.999976</td>\n",
       "      <td>0.0</td>\n",
       "      <td>NaN</td>\n",
       "      <td>1.0</td>\n",
       "      <td>-1</td>\n",
       "      <td>5297658028320820931</td>\n",
       "      <td>5154968777807259962</td>\n",
       "      <td>-1</td>\n",
       "      <td>5060822126933396627</td>\n",
       "      <td>-1</td>\n",
       "      <td>Template Element for single Node Creation</td>\n",
       "      <td>None</td>\n",
       "      <td>None</td>\n",
       "      <td>None</td>\n",
       "      <td>3S5671171592228004325</td>\n",
       "      <td>NaN</td>\n",
       "      <td>1.0</td>\n",
       "      <td>NaN</td>\n",
       "      <td>None</td>\n",
       "      <td>5473573628395650757</td>\n",
       "      <td>4804028781596645401</td>\n",
       "      <td>5545156887373324999</td>\n",
       "      <td>-1</td>\n",
       "      <td>-1</td>\n",
       "      <td>-1</td>\n",
       "      <td>10.0</td>\n",
       "      <td>None</td>\n",
       "      <td>90.0</td>\n",
       "      <td>None</td>\n",
       "      <td>b'\\x00\\x00\\x00\\x00\\x01\\x00\\x00\\x00\\x02\\x00\\x00...</td>\n",
       "      <td>M-1-0-1</td>\n",
       "      <td></td>\n",
       "      <td>B1</td>\n",
       "      <td>V0</td>\n",
       "      <td>BZ1</td>\n",
       "      <td>2025-05-09 13:17:45</td>\n",
       "      <td>2025-04-08 11:45:59</td>\n",
       "      <td>5703508123076770847</td>\n",
       "      <td>4982567935033599504</td>\n",
       "      <td>5151772185690695097</td>\n",
       "      <td>4804028781596645401</td>\n",
       "      <td>1</td>\n",
       "      <td>1</td>\n",
       "      <td>5060822126933396627</td>\n",
       "      <td>4982567935033599504</td>\n",
       "      <td>5060822126933396627</td>\n",
       "      <td>5060822126933396627</td>\n",
       "      <td>1001.0</td>\n",
       "      <td>M-1-0-1</td>\n",
       "      <td>1001.0</td>\n",
       "      <td>5060822126933396627</td>\n",
       "      <td>None</td>\n",
       "      <td>None</td>\n",
       "      <td>None</td>\n",
       "      <td>b'\\x00\\x00\\x80?\\x01\\x00\\x00\\x00\\x01\\x00\\x00\\x0...</td>\n",
       "      <td>0.0</td>\n",
       "      <td>0.0</td>\n",
       "      <td>None</td>\n",
       "      <td>NaN</td>\n",
       "      <td>NaN</td>\n",
       "      <td>NaN</td>\n",
       "      <td>NaN</td>\n",
       "      <td>NaN</td>\n",
       "      <td>NaN</td>\n",
       "      <td>NaN</td>\n",
       "      <td>NaN</td>\n",
       "      <td>NaN</td>\n",
       "      <td>NaN</td>\n",
       "      <td>NaN</td>\n",
       "      <td>NaN</td>\n",
       "      <td>NaN</td>\n",
       "      <td>NaN</td>\n",
       "      <td>NaN</td>\n",
       "      <td>NaN</td>\n",
       "      <td>NaN</td>\n",
       "      <td>NaN</td>\n",
       "      <td>NaN</td>\n",
       "      <td>NaN</td>\n",
       "      <td>NaN</td>\n",
       "      <td>NaN</td>\n",
       "      <td>NaN</td>\n",
       "      <td>NaN</td>\n",
       "      <td>NaN</td>\n",
       "      <td>NaN</td>\n",
       "      <td>NaN</td>\n",
       "      <td>NaN</td>\n",
       "      <td>NaN</td>\n",
       "      <td>NaN</td>\n",
       "      <td>NaN</td>\n",
       "      <td>NaN</td>\n",
       "      <td>NaN</td>\n",
       "      <td>NaN</td>\n",
       "      <td>NaN</td>\n",
       "      <td>NaN</td>\n",
       "      <td>NaN</td>\n",
       "      <td>NaN</td>\n",
       "      <td>NaN</td>\n",
       "      <td>NaN</td>\n",
       "      <td>NaN</td>\n",
       "      <td>NaN</td>\n",
       "      <td>NaN</td>\n",
       "      <td>NaN</td>\n",
       "      <td>NaN</td>\n",
       "      <td>NaN</td>\n",
       "      <td>NaN</td>\n",
       "      <td>NaN</td>\n",
       "      <td>NaN</td>\n",
       "      <td>NaN</td>\n",
       "      <td>NaN</td>\n",
       "      <td>NaN</td>\n",
       "      <td>NaN</td>\n",
       "      <td>NaN</td>\n",
       "      <td>None</td>\n",
       "      <td>None</td>\n",
       "      <td>None</td>\n",
       "      <td>None</td>\n",
       "      <td>Standard</td>\n",
       "      <td>Standard</td>\n",
       "      <td>None</td>\n",
       "      <td>NaN</td>\n",
       "      <td>24.0</td>\n",
       "      <td>-3.333333e+32</td>\n",
       "      <td>-3.333333e+32</td>\n",
       "      <td>-333333333.0</td>\n",
       "      <td>-3.333333e+32</td>\n",
       "      <td>-3.333333e+32</td>\n",
       "      <td>-3.333333e+32</td>\n",
       "      <td>-333333333.0</td>\n",
       "      <td>10.000000</td>\n",
       "      <td>0.0</td>\n",
       "      <td>1.0</td>\n",
       "      <td>27.777779</td>\n",
       "      <td>11.000000</td>\n",
       "      <td>0.701100</td>\n",
       "      <td>10.000000</td>\n",
       "      <td>0.0</td>\n",
       "      <td>10.000000</td>\n",
       "      <td>0.0</td>\n",
       "      <td>100.0</td>\n",
       "      <td>965.200012</td>\n",
       "      <td>90.00000</td>\n",
       "      <td>0.000000</td>\n",
       "      <td>0.0</td>\n",
       "      <td>10.000000</td>\n",
       "      <td>100.0</td>\n",
       "      <td>None</td>\n",
       "      <td>90.00000</td>\n",
       "      <td>27.777779</td>\n",
       "      <td>0</td>\n",
       "      <td>10.0000</td>\n",
       "      <td>363.15000</td>\n",
       "      <td>90.00000</td>\n",
       "    </tr>\n",
       "    <tr>\n",
       "      <th>4</th>\n",
       "      <td>4658286599152640406</td>\n",
       "      <td>4982567935033599504</td>\n",
       "      <td>4658286599152640406</td>\n",
       "      <td>4658286599152640406</td>\n",
       "      <td>j2</td>\n",
       "      <td>QKON</td>\n",
       "      <td>449.999917</td>\n",
       "      <td>499.999869</td>\n",
       "      <td>0.0</td>\n",
       "      <td>-100.0</td>\n",
       "      <td>1.0</td>\n",
       "      <td>-1</td>\n",
       "      <td>5297658028320820931</td>\n",
       "      <td>5154968777807259962</td>\n",
       "      <td>-1</td>\n",
       "      <td>5060822126933396627</td>\n",
       "      <td>-1</td>\n",
       "      <td>Template Element for single Node Creation</td>\n",
       "      <td>None</td>\n",
       "      <td>None</td>\n",
       "      <td>None</td>\n",
       "      <td>3S5671171592228004325</td>\n",
       "      <td>NaN</td>\n",
       "      <td>1.0</td>\n",
       "      <td>NaN</td>\n",
       "      <td>None</td>\n",
       "      <td>4927625957676832607</td>\n",
       "      <td>4804028781596645401</td>\n",
       "      <td>4658286599152640406</td>\n",
       "      <td>-1</td>\n",
       "      <td>-1</td>\n",
       "      <td>-1</td>\n",
       "      <td>NaN</td>\n",
       "      <td>None</td>\n",
       "      <td>NaN</td>\n",
       "      <td>None</td>\n",
       "      <td>b'\\x00\\x00\\x00\\x00\\x01\\x00\\x00\\x00\\x00\\x00\\x00...</td>\n",
       "      <td>M-1-0-1</td>\n",
       "      <td></td>\n",
       "      <td>B1</td>\n",
       "      <td>V0</td>\n",
       "      <td>BZ1</td>\n",
       "      <td>2025-05-09 13:17:45</td>\n",
       "      <td>2025-04-08 11:45:59</td>\n",
       "      <td>5703508123076770847</td>\n",
       "      <td>4982567935033599504</td>\n",
       "      <td>5151772185690695097</td>\n",
       "      <td>4804028781596645401</td>\n",
       "      <td>1</td>\n",
       "      <td>1</td>\n",
       "      <td>5060822126933396627</td>\n",
       "      <td>4982567935033599504</td>\n",
       "      <td>5060822126933396627</td>\n",
       "      <td>5060822126933396627</td>\n",
       "      <td>1001.0</td>\n",
       "      <td>M-1-0-1</td>\n",
       "      <td>1001.0</td>\n",
       "      <td>5060822126933396627</td>\n",
       "      <td>None</td>\n",
       "      <td>None</td>\n",
       "      <td>None</td>\n",
       "      <td>b'\\x00\\x00\\x80?\\x01\\x00\\x00\\x00\\x01\\x00\\x00\\x0...</td>\n",
       "      <td>0.0</td>\n",
       "      <td>0.0</td>\n",
       "      <td>None</td>\n",
       "      <td>NaN</td>\n",
       "      <td>NaN</td>\n",
       "      <td>NaN</td>\n",
       "      <td>NaN</td>\n",
       "      <td>NaN</td>\n",
       "      <td>NaN</td>\n",
       "      <td>NaN</td>\n",
       "      <td>NaN</td>\n",
       "      <td>NaN</td>\n",
       "      <td>NaN</td>\n",
       "      <td>NaN</td>\n",
       "      <td>NaN</td>\n",
       "      <td>NaN</td>\n",
       "      <td>NaN</td>\n",
       "      <td>NaN</td>\n",
       "      <td>NaN</td>\n",
       "      <td>NaN</td>\n",
       "      <td>NaN</td>\n",
       "      <td>NaN</td>\n",
       "      <td>NaN</td>\n",
       "      <td>NaN</td>\n",
       "      <td>NaN</td>\n",
       "      <td>NaN</td>\n",
       "      <td>NaN</td>\n",
       "      <td>NaN</td>\n",
       "      <td>NaN</td>\n",
       "      <td>NaN</td>\n",
       "      <td>NaN</td>\n",
       "      <td>NaN</td>\n",
       "      <td>NaN</td>\n",
       "      <td>NaN</td>\n",
       "      <td>NaN</td>\n",
       "      <td>NaN</td>\n",
       "      <td>NaN</td>\n",
       "      <td>NaN</td>\n",
       "      <td>NaN</td>\n",
       "      <td>NaN</td>\n",
       "      <td>NaN</td>\n",
       "      <td>NaN</td>\n",
       "      <td>NaN</td>\n",
       "      <td>NaN</td>\n",
       "      <td>NaN</td>\n",
       "      <td>NaN</td>\n",
       "      <td>NaN</td>\n",
       "      <td>NaN</td>\n",
       "      <td>NaN</td>\n",
       "      <td>NaN</td>\n",
       "      <td>NaN</td>\n",
       "      <td>NaN</td>\n",
       "      <td>NaN</td>\n",
       "      <td>NaN</td>\n",
       "      <td>NaN</td>\n",
       "      <td>NaN</td>\n",
       "      <td>NaN</td>\n",
       "      <td>None</td>\n",
       "      <td>None</td>\n",
       "      <td>None</td>\n",
       "      <td>None</td>\n",
       "      <td>Standard</td>\n",
       "      <td>Standard</td>\n",
       "      <td>None</td>\n",
       "      <td>NaN</td>\n",
       "      <td>21.0</td>\n",
       "      <td>-3.333333e+32</td>\n",
       "      <td>-3.333333e+32</td>\n",
       "      <td>-333333333.0</td>\n",
       "      <td>-3.333333e+32</td>\n",
       "      <td>-3.333333e+32</td>\n",
       "      <td>-3.333333e+32</td>\n",
       "      <td>-333333333.0</td>\n",
       "      <td>9.578555</td>\n",
       "      <td>0.0</td>\n",
       "      <td>1.0</td>\n",
       "      <td>-27.777779</td>\n",
       "      <td>10.578555</td>\n",
       "      <td>0.692248</td>\n",
       "      <td>9.578555</td>\n",
       "      <td>0.0</td>\n",
       "      <td>9.578555</td>\n",
       "      <td>0.0</td>\n",
       "      <td>-100.0</td>\n",
       "      <td>965.571655</td>\n",
       "      <td>89.66214</td>\n",
       "      <td>0.308801</td>\n",
       "      <td>0.0</td>\n",
       "      <td>9.578555</td>\n",
       "      <td>-100.0</td>\n",
       "      <td>None</td>\n",
       "      <td>89.66214</td>\n",
       "      <td>-27.777779</td>\n",
       "      <td>1</td>\n",
       "      <td>9.5709</td>\n",
       "      <td>362.81214</td>\n",
       "      <td>89.66214</td>\n",
       "    </tr>\n",
       "  </tbody>\n",
       "</table>\n",
       "</div>"
      ],
      "text/plain": [
       "                    pk                 fkDE                   rk  \\\n",
       "3  5545156887373324999  4982567935033599504  5545156887373324999   \n",
       "4  4658286599152640406  4982567935033599504  4658286599152640406   \n",
       "\n",
       "                    tk NAME  KTYP        XKOR        YKOR  ZKOR  QM_EIN  \\\n",
       "3  5545156887373324999   j1  PKON  300.000012  649.999976   0.0     NaN   \n",
       "4  4658286599152640406   j2  QKON  449.999917  499.999869   0.0  -100.0   \n",
       "\n",
       "   LFAKT fkPZON               fkFSTF               fkUTMP fkFQPS  \\\n",
       "3    1.0     -1  5297658028320820931  5154968777807259962     -1   \n",
       "4    1.0     -1  5297658028320820931  5154968777807259962     -1   \n",
       "\n",
       "                fkCONT fk2LKNOT                               BESCHREIBUNG  \\\n",
       "3  5060822126933396627       -1  Template Element for single Node Creation   \n",
       "4  5060822126933396627       -1  Template Element for single Node Creation   \n",
       "\n",
       "  GEOMWKB DELETED SELECT1             IDREFERENZ  KENNUNG  IPLANUNG  KVR  \\\n",
       "3    None    None    None  3S5671171592228004325      NaN       1.0  NaN   \n",
       "4    None    None    None  3S5671171592228004325      NaN       1.0  NaN   \n",
       "\n",
       "  DRAKONZ                pk_BZ              fkDE_BZ                   fk  \\\n",
       "3    None  5473573628395650757  4804028781596645401  5545156887373324999   \n",
       "4    None  4927625957676832607  4804028781596645401  4658286599152640406   \n",
       "\n",
       "  fkPVAR fkQVAR fkLFKT  PH_EIN    TM    TE PH_MIN  \\\n",
       "3     -1     -1     -1    10.0  None  90.0   None   \n",
       "4     -1     -1     -1     NaN  None   NaN   None   \n",
       "\n",
       "                                                GRAF      MId MText Basis  \\\n",
       "3  b'\\x00\\x00\\x00\\x00\\x01\\x00\\x00\\x00\\x02\\x00\\x00...  M-1-0-1          B1   \n",
       "4  b'\\x00\\x00\\x00\\x00\\x01\\x00\\x00\\x00\\x00\\x00\\x00...  M-1-0-1          B1   \n",
       "\n",
       "  Variante   BZ            Geaendert             Erstellt  \\\n",
       "3       V0  BZ1  2025-05-09 13:17:45  2025-04-08 11:45:59   \n",
       "4       V0  BZ1  2025-05-09 13:17:45  2025-04-08 11:45:59   \n",
       "\n",
       "               pk_VMBZ              fkBASIS           fkVARIANTE  \\\n",
       "3  5703508123076770847  4982567935033599504  5151772185690695097   \n",
       "4  5703508123076770847  4982567935033599504  5151772185690695097   \n",
       "\n",
       "                  fkBZ  MZ  MT              pk_CONT            fkDE_CONT  \\\n",
       "3  4804028781596645401   1   1  5060822126933396627  4982567935033599504   \n",
       "4  4804028781596645401   1   1  5060822126933396627  4982567935033599504   \n",
       "\n",
       "               rk_CONT              tk_CONT  ID_CONT NAME_CONT  IDPARENT_CONT  \\\n",
       "3  5060822126933396627  5060822126933396627   1001.0   M-1-0-1         1001.0   \n",
       "4  5060822126933396627  5060822126933396627   1001.0   M-1-0-1         1001.0   \n",
       "\n",
       "         rkPARENT_CONT LFDNR_CONT GRAF_CONT FONT_CONT  \\\n",
       "3  5060822126933396627       None      None      None   \n",
       "4  5060822126933396627       None      None      None   \n",
       "\n",
       "                                           GEOM_CONT  DELETED_CONT  \\\n",
       "3  b'\\x00\\x00\\x80?\\x01\\x00\\x00\\x00\\x01\\x00\\x00\\x0...           0.0   \n",
       "4  b'\\x00\\x00\\x80?\\x01\\x00\\x00\\x00\\x01\\x00\\x00\\x0...           0.0   \n",
       "\n",
       "   SELECT1_CONT IDREFERENZ_CONT pk_VKNO fkDE_VKNO rk_VKNO fkKNOT_VKNO  \\\n",
       "3           0.0            None     NaN       NaN     NaN         NaN   \n",
       "4           0.0            None     NaN       NaN     NaN         NaN   \n",
       "\n",
       "  fkCONT_VKNO SHOWNAME_VKNO POSNAME_VKNO POINTINSERTX_VKNO POINTINSERTY_VKNO  \\\n",
       "3         NaN           NaN          NaN               NaN               NaN   \n",
       "4         NaN           NaN          NaN               NaN               NaN   \n",
       "\n",
       "  SYMBOLFACT_VKNO DISPLAYMODE_VKNO DELETED_VKNO SELECT1_VKNO MId_VKNO  \\\n",
       "3             NaN              NaN          NaN          NaN      NaN   \n",
       "4             NaN              NaN          NaN          NaN      NaN   \n",
       "\n",
       "  MText_VKNO Basis_VKNO Variante_VKNO BZ_VKNO Geaendert_VKNO Erstellt_VKNO  \\\n",
       "3        NaN        NaN           NaN     NaN            NaN           NaN   \n",
       "4        NaN        NaN           NaN     NaN            NaN           NaN   \n",
       "\n",
       "  pk_VMBASIS_VKNO fkBASIS_VKNO fkVARIANTE_VKNO fkBZ_VKNO  MZ_VKNO  MT_VKNO  \\\n",
       "3             NaN          NaN             NaN       NaN      NaN      NaN   \n",
       "4             NaN          NaN             NaN       NaN      NaN      NaN   \n",
       "\n",
       "  MId_VMVARIANTE_VKNO MText_VMVARIANTE_VKNO Basis_VMVARIANTE_VKNO  \\\n",
       "3                 NaN                   NaN                   NaN   \n",
       "4                 NaN                   NaN                   NaN   \n",
       "\n",
       "  Variante_VMVARIANTE_VKNO BZ_VMVARIANTE_VKNO Geaendert_VMVARIANTE_VKNO  \\\n",
       "3                      NaN                NaN                       NaN   \n",
       "4                      NaN                NaN                       NaN   \n",
       "\n",
       "  Erstellt_VMVARIANTE_VKNO pk_VMVARIANTE_VKNO fkBASIS_VMVARIANTE_VKNO  \\\n",
       "3                      NaN                NaN                     NaN   \n",
       "4                      NaN                NaN                     NaN   \n",
       "\n",
       "  fkVARIANTE_VMVARIANTE_VKNO fkBZ_VMVARIANTE_VKNO  MZ_VMVARIANTE_VKNO  \\\n",
       "3                        NaN                  NaN                 NaN   \n",
       "4                        NaN                  NaN                 NaN   \n",
       "\n",
       "   MT_VMVARIANTE_VKNO pk_CONT_VKNO fkDE_CONT_VKNO rk_CONT_VKNO tk_CONT_VKNO  \\\n",
       "3                 NaN          NaN            NaN          NaN          NaN   \n",
       "4                 NaN          NaN            NaN          NaN          NaN   \n",
       "\n",
       "   ID_CONT_VKNO NAME_CONT_VKNO  IDPARENT_CONT_VKNO rkPARENT_CONT_VKNO  \\\n",
       "3           NaN            NaN                 NaN                NaN   \n",
       "4           NaN            NaN                 NaN                NaN   \n",
       "\n",
       "  LFDNR_CONT_VKNO GRAF_CONT_VKNO FONT_CONT_VKNO GEOM_CONT_VKNO  \\\n",
       "3             NaN            NaN            NaN            NaN   \n",
       "4             NaN            NaN            NaN            NaN   \n",
       "\n",
       "   DELETED_CONT_VKNO  SELECT1_CONT_VKNO IDREFERENZ_CONT_VKNO NAME_LFKT  \\\n",
       "3                NaN                NaN                  NaN      None   \n",
       "4                NaN                NaN                  NaN      None   \n",
       "\n",
       "  NAME_PVAR NAME_PZON NAME_QVAR NAME_UTMP NAME_FSTF NAME_FQPS  mx2Idx  \\\n",
       "3      None      None      None  Standard  Standard      None     NaN   \n",
       "4      None      None      None  Standard  Standard      None     NaN   \n",
       "\n",
       "   (STAT, KNOT~*~*~*~BCIND, 2025-04-08 09:45:59, 2025-04-08 09:45:59)  \\\n",
       "3                                               24.0                    \n",
       "4                                               21.0                    \n",
       "\n",
       "   (STAT, KNOT~*~*~*~DP, 2025-04-08 09:45:59, 2025-04-08 09:45:59)  \\\n",
       "3                                      -3.333333e+32                 \n",
       "4                                      -3.333333e+32                 \n",
       "\n",
       "   (STAT, KNOT~*~*~*~DPH, 2025-04-08 09:45:59, 2025-04-08 09:45:59)  \\\n",
       "3                                      -3.333333e+32                  \n",
       "4                                      -3.333333e+32                  \n",
       "\n",
       "   (STAT, KNOT~*~*~*~FITT_BASTYPE, 2025-04-08 09:45:59, 2025-04-08 09:45:59)  \\\n",
       "3                                       -333333333.0                           \n",
       "4                                       -333333333.0                           \n",
       "\n",
       "   (STAT, KNOT~*~*~*~FITT_DP1, 2025-04-08 09:45:59, 2025-04-08 09:45:59)  \\\n",
       "3                                      -3.333333e+32                       \n",
       "4                                      -3.333333e+32                       \n",
       "\n",
       "   (STAT, KNOT~*~*~*~FITT_DP2, 2025-04-08 09:45:59, 2025-04-08 09:45:59)  \\\n",
       "3                                      -3.333333e+32                       \n",
       "4                                      -3.333333e+32                       \n",
       "\n",
       "   (STAT, KNOT~*~*~*~FITT_DP3, 2025-04-08 09:45:59, 2025-04-08 09:45:59)  \\\n",
       "3                                      -3.333333e+32                       \n",
       "4                                      -3.333333e+32                       \n",
       "\n",
       "   (STAT, KNOT~*~*~*~FITT_STATE, 2025-04-08 09:45:59, 2025-04-08 09:45:59)  \\\n",
       "3                                       -333333333.0                         \n",
       "4                                       -333333333.0                         \n",
       "\n",
       "   (STAT, KNOT~*~*~*~H, 2025-04-08 09:45:59, 2025-04-08 09:45:59)  \\\n",
       "3                                          10.000000                \n",
       "4                                           9.578555                \n",
       "\n",
       "   (STAT, KNOT~*~*~*~IAKTIV, 2025-04-08 09:45:59, 2025-04-08 09:45:59)  \\\n",
       "3                                                0.0                     \n",
       "4                                                0.0                     \n",
       "\n",
       "   (STAT, KNOT~*~*~*~LFAKTAKT, 2025-04-08 09:45:59, 2025-04-08 09:45:59)  \\\n",
       "3                                                1.0                       \n",
       "4                                                1.0                       \n",
       "\n",
       "   (STAT, KNOT~*~*~*~M, 2025-04-08 09:45:59, 2025-04-08 09:45:59)  \\\n",
       "3                                          27.777779                \n",
       "4                                         -27.777779                \n",
       "\n",
       "   (STAT, KNOT~*~*~*~P, 2025-04-08 09:45:59, 2025-04-08 09:45:59)  \\\n",
       "3                                          11.000000                \n",
       "4                                          10.578555                \n",
       "\n",
       "   (STAT, KNOT~*~*~*~PDAMPF, 2025-04-08 09:45:59, 2025-04-08 09:45:59)  \\\n",
       "3                                           0.701100                     \n",
       "4                                           0.692248                     \n",
       "\n",
       "   (STAT, KNOT~*~*~*~PH, 2025-04-08 09:45:59, 2025-04-08 09:45:59)  \\\n",
       "3                                          10.000000                 \n",
       "4                                           9.578555                 \n",
       "\n",
       "   (STAT, KNOT~*~*~*~PHMINMAXDIF, 2025-04-08 09:45:59, 2025-04-08 09:45:59)  \\\n",
       "3                                                0.0                          \n",
       "4                                                0.0                          \n",
       "\n",
       "   (STAT, KNOT~*~*~*~PH_EIN, 2025-04-08 09:45:59, 2025-04-08 09:45:59)  \\\n",
       "3                                          10.000000                     \n",
       "4                                           9.578555                     \n",
       "\n",
       "   (STAT, KNOT~*~*~*~PH_MIN, 2025-04-08 09:45:59, 2025-04-08 09:45:59)  \\\n",
       "3                                                0.0                     \n",
       "4                                                0.0                     \n",
       "\n",
       "   (STAT, KNOT~*~*~*~QM, 2025-04-08 09:45:59, 2025-04-08 09:45:59)  \\\n",
       "3                                              100.0                 \n",
       "4                                             -100.0                 \n",
       "\n",
       "   (STAT, KNOT~*~*~*~RHO, 2025-04-08 09:45:59, 2025-04-08 09:45:59)  \\\n",
       "3                                         965.200012                  \n",
       "4                                         965.571655                  \n",
       "\n",
       "   (STAT, KNOT~*~*~*~T, 2025-04-08 09:45:59, 2025-04-08 09:45:59)  \\\n",
       "3                                           90.00000                \n",
       "4                                           89.66214                \n",
       "\n",
       "   (STAT, KNOT~*~*~*~TTR, 2025-04-08 09:45:59, 2025-04-08 09:45:59)  \\\n",
       "3                                           0.000000                  \n",
       "4                                           0.308801                  \n",
       "\n",
       "   (STAT, KNOT~*~*~*~VOLD, 2025-04-08 09:45:59, 2025-04-08 09:45:59)  \\\n",
       "3                                                0.0                   \n",
       "4                                                0.0                   \n",
       "\n",
       "          PH     QM   dPH         T          M  ppID    p_bar        t_k  \\\n",
       "3  10.000000  100.0  None  90.00000  27.777779     0  10.0000  363.15000   \n",
       "4   9.578555 -100.0  None  89.66214 -27.777779     1   9.5709  362.81214   \n",
       "\n",
       "        t_C  \n",
       "3  90.00000  \n",
       "4  89.66214  "
      ]
     },
     "execution_count": 24,
     "metadata": {},
     "output_type": "execute_result"
    }
   ],
   "source": [
    "dfCmpJunctions"
   ]
  },
  {
   "cell_type": "code",
   "execution_count": 25,
   "metadata": {},
   "outputs": [
    {
     "data": {
      "application/vnd.microsoft.datawrangler.viewer.v0+json": {
       "columns": [
        {
         "name": "index",
         "rawType": "int64",
         "type": "integer"
        },
        {
         "name": "pk",
         "rawType": "object",
         "type": "string"
        },
        {
         "name": "fkDE",
         "rawType": "object",
         "type": "string"
        },
        {
         "name": "rk",
         "rawType": "object",
         "type": "string"
        },
        {
         "name": "tk",
         "rawType": "object",
         "type": "string"
        },
        {
         "name": "fkKI",
         "rawType": "object",
         "type": "string"
        },
        {
         "name": "fkKK",
         "rawType": "object",
         "type": "string"
        },
        {
         "name": "fkDTRO_ROWD",
         "rawType": "object",
         "type": "string"
        },
        {
         "name": "fkLTGR",
         "rawType": "object",
         "type": "string"
        },
        {
         "name": "fkSTRASSE",
         "rawType": "object",
         "type": "string"
        },
        {
         "name": "L",
         "rawType": "float64",
         "type": "float"
        },
        {
         "name": "LZU",
         "rawType": "object",
         "type": "unknown"
        },
        {
         "name": "RAU",
         "rawType": "float64",
         "type": "float"
        },
        {
         "name": "JLAMBS",
         "rawType": "float64",
         "type": "float"
        },
        {
         "name": "LAMBDA0",
         "rawType": "float64",
         "type": "float"
        },
        {
         "name": "ZEIN",
         "rawType": "object",
         "type": "unknown"
        },
        {
         "name": "ZAUS",
         "rawType": "object",
         "type": "unknown"
        },
        {
         "name": "ZUML",
         "rawType": "object",
         "type": "unknown"
        },
        {
         "name": "ASOLL",
         "rawType": "float64",
         "type": "float"
        },
        {
         "name": "INDSCHALL",
         "rawType": "object",
         "type": "unknown"
        },
        {
         "name": "BAUJAHR",
         "rawType": "object",
         "type": "unknown"
        },
        {
         "name": "HAL",
         "rawType": "object",
         "type": "unknown"
        },
        {
         "name": "fkCONT",
         "rawType": "object",
         "type": "string"
        },
        {
         "name": "fk2LROHR",
         "rawType": "object",
         "type": "string"
        },
        {
         "name": "BESCHREIBUNG",
         "rawType": "object",
         "type": "string"
        },
        {
         "name": "GEOMWKB",
         "rawType": "object",
         "type": "unknown"
        },
        {
         "name": "DELETED",
         "rawType": "object",
         "type": "unknown"
        },
        {
         "name": "SELECT1",
         "rawType": "object",
         "type": "unknown"
        },
        {
         "name": "IDREFERENZ",
         "rawType": "object",
         "type": "string"
        },
        {
         "name": "KENNUNG",
         "rawType": "float64",
         "type": "float"
        },
        {
         "name": "IPLANUNG",
         "rawType": "float64",
         "type": "float"
        },
        {
         "name": "KVR",
         "rawType": "float64",
         "type": "float"
        },
        {
         "name": "pk_BZ",
         "rawType": "object",
         "type": "string"
        },
        {
         "name": "fkDE_BZ",
         "rawType": "object",
         "type": "string"
        },
        {
         "name": "fk",
         "rawType": "object",
         "type": "string"
        },
        {
         "name": "QSVB",
         "rawType": "object",
         "type": "unknown"
        },
        {
         "name": "IRTRENN",
         "rawType": "object",
         "type": "unknown"
        },
        {
         "name": "LECKSTATUS",
         "rawType": "object",
         "type": "unknown"
        },
        {
         "name": "LECKSTART",
         "rawType": "object",
         "type": "unknown"
        },
        {
         "name": "LECKEND",
         "rawType": "object",
         "type": "unknown"
        },
        {
         "name": "LECKORT",
         "rawType": "object",
         "type": "unknown"
        },
        {
         "name": "LECKMENGE",
         "rawType": "object",
         "type": "unknown"
        },
        {
         "name": "IMPTNZ",
         "rawType": "object",
         "type": "unknown"
        },
        {
         "name": "ZVLIMPTNZ",
         "rawType": "object",
         "type": "unknown"
        },
        {
         "name": "KANTENZV",
         "rawType": "object",
         "type": "unknown"
        },
        {
         "name": "GEOM",
         "rawType": "object",
         "type": "unknown"
        },
        {
         "name": "GRAF",
         "rawType": "object",
         "type": "unknown"
        },
        {
         "name": "MId",
         "rawType": "object",
         "type": "string"
        },
        {
         "name": "MText",
         "rawType": "object",
         "type": "string"
        },
        {
         "name": "Basis",
         "rawType": "object",
         "type": "string"
        },
        {
         "name": "Variante",
         "rawType": "object",
         "type": "string"
        },
        {
         "name": "BZ",
         "rawType": "object",
         "type": "string"
        },
        {
         "name": "Geaendert",
         "rawType": "object",
         "type": "string"
        },
        {
         "name": "Erstellt",
         "rawType": "object",
         "type": "string"
        },
        {
         "name": "pk_VMBZ",
         "rawType": "object",
         "type": "string"
        },
        {
         "name": "fkBASIS",
         "rawType": "object",
         "type": "string"
        },
        {
         "name": "fkVARIANTE",
         "rawType": "object",
         "type": "string"
        },
        {
         "name": "fkBZ",
         "rawType": "object",
         "type": "string"
        },
        {
         "name": "MZ",
         "rawType": "int64",
         "type": "integer"
        },
        {
         "name": "MT",
         "rawType": "int64",
         "type": "integer"
        },
        {
         "name": "pk_CONT",
         "rawType": "object",
         "type": "string"
        },
        {
         "name": "fkDE_CONT",
         "rawType": "object",
         "type": "string"
        },
        {
         "name": "rk_CONT",
         "rawType": "object",
         "type": "string"
        },
        {
         "name": "tk_CONT",
         "rawType": "object",
         "type": "string"
        },
        {
         "name": "ID_CONT",
         "rawType": "float64",
         "type": "float"
        },
        {
         "name": "NAME_CONT",
         "rawType": "object",
         "type": "string"
        },
        {
         "name": "IDPARENT_CONT",
         "rawType": "float64",
         "type": "float"
        },
        {
         "name": "rkPARENT_CONT",
         "rawType": "object",
         "type": "string"
        },
        {
         "name": "LFDNR_CONT",
         "rawType": "object",
         "type": "unknown"
        },
        {
         "name": "GRAF_CONT",
         "rawType": "object",
         "type": "unknown"
        },
        {
         "name": "FONT_CONT",
         "rawType": "object",
         "type": "unknown"
        },
        {
         "name": "GEOM_CONT",
         "rawType": "object",
         "type": "unknown"
        },
        {
         "name": "DELETED_CONT",
         "rawType": "float64",
         "type": "float"
        },
        {
         "name": "SELECT1_CONT",
         "rawType": "float64",
         "type": "float"
        },
        {
         "name": "IDREFERENZ_CONT",
         "rawType": "object",
         "type": "unknown"
        },
        {
         "name": "NAME_DTRO",
         "rawType": "object",
         "type": "string"
        },
        {
         "name": "DN",
         "rawType": "object",
         "type": "string"
        },
        {
         "name": "DI",
         "rawType": "float64",
         "type": "float"
        },
        {
         "name": "DA",
         "rawType": "float64",
         "type": "float"
        },
        {
         "name": "S",
         "rawType": "float64",
         "type": "float"
        },
        {
         "name": "KT",
         "rawType": "float64",
         "type": "float"
        },
        {
         "name": "PN",
         "rawType": "float64",
         "type": "float"
        },
        {
         "name": "Am2",
         "rawType": "float64",
         "type": "float"
        },
        {
         "name": "Vm3",
         "rawType": "float64",
         "type": "float"
        },
        {
         "name": "NAME_LTGR",
         "rawType": "object",
         "type": "string"
        },
        {
         "name": "NAME_STRASSE",
         "rawType": "object",
         "type": "unknown"
        },
        {
         "name": "tk_i",
         "rawType": "object",
         "type": "string"
        },
        {
         "name": "NAME_i",
         "rawType": "object",
         "type": "string"
        },
        {
         "name": "tk_k",
         "rawType": "object",
         "type": "string"
        },
        {
         "name": "NAME_k",
         "rawType": "object",
         "type": "string"
        },
        {
         "name": "mx2NofPts",
         "rawType": "int64",
         "type": "integer"
        },
        {
         "name": "dL",
         "rawType": "float64",
         "type": "float"
        },
        {
         "name": "mx2Idx",
         "rawType": "int64",
         "type": "integer"
        },
        {
         "name": "('STAT', 'ROHR~*~*~*~A', Timestamp('2025-04-08 09:45:59'), Timestamp('2025-04-08 09:45:59'))",
         "rawType": "float64",
         "type": "float"
        },
        {
         "name": "('STAT', 'ROHR~*~*~*~DTTR', Timestamp('2025-04-08 09:45:59'), Timestamp('2025-04-08 09:45:59'))",
         "rawType": "float64",
         "type": "float"
        },
        {
         "name": "('STAT', 'ROHR~*~*~*~DWVERL', Timestamp('2025-04-08 09:45:59'), Timestamp('2025-04-08 09:45:59'))",
         "rawType": "float64",
         "type": "float"
        },
        {
         "name": "('STAT', 'ROHR~*~*~*~DWVERLABS', Timestamp('2025-04-08 09:45:59'), Timestamp('2025-04-08 09:45:59'))",
         "rawType": "float64",
         "type": "float"
        },
        {
         "name": "('STAT', 'ROHR~*~*~*~IAKTIV', Timestamp('2025-04-08 09:45:59'), Timestamp('2025-04-08 09:45:59'))",
         "rawType": "float64",
         "type": "float"
        },
        {
         "name": "('STAT', 'ROHR~*~*~*~IRTRENN', Timestamp('2025-04-08 09:45:59'), Timestamp('2025-04-08 09:45:59'))",
         "rawType": "float64",
         "type": "float"
        },
        {
         "name": "('STAT', 'ROHR~*~*~*~JV', Timestamp('2025-04-08 09:45:59'), Timestamp('2025-04-08 09:45:59'))",
         "rawType": "float64",
         "type": "float"
        },
        {
         "name": "('STAT', 'ROHR~*~*~*~LAMBDA', Timestamp('2025-04-08 09:45:59'), Timestamp('2025-04-08 09:45:59'))",
         "rawType": "float64",
         "type": "float"
        },
        {
         "name": "('STAT', 'ROHR~*~*~*~MAV', Timestamp('2025-04-08 09:45:59'), Timestamp('2025-04-08 09:45:59'))",
         "rawType": "float64",
         "type": "float"
        },
        {
         "name": "('STAT', 'ROHR~*~*~*~PDAMPF', Timestamp('2025-04-08 09:45:59'), Timestamp('2025-04-08 09:45:59'))",
         "rawType": "float64",
         "type": "float"
        },
        {
         "name": "('STAT', 'ROHR~*~*~*~PHR', Timestamp('2025-04-08 09:45:59'), Timestamp('2025-04-08 09:45:59'))",
         "rawType": "float64",
         "type": "float"
        },
        {
         "name": "('STAT', 'ROHR~*~*~*~PMIN', Timestamp('2025-04-08 09:45:59'), Timestamp('2025-04-08 09:45:59'))",
         "rawType": "float64",
         "type": "float"
        },
        {
         "name": "('STAT', 'ROHR~*~*~*~QMAV', Timestamp('2025-04-08 09:45:59'), Timestamp('2025-04-08 09:45:59'))",
         "rawType": "float64",
         "type": "float"
        },
        {
         "name": "('STAT', 'ROHR~*~*~*~VAV', Timestamp('2025-04-08 09:45:59'), Timestamp('2025-04-08 09:45:59'))",
         "rawType": "float64",
         "type": "float"
        },
        {
         "name": "('STAT', 'ROHR~*~*~*~VOLDA', Timestamp('2025-04-08 09:45:59'), Timestamp('2025-04-08 09:45:59'))",
         "rawType": "float64",
         "type": "float"
        },
        {
         "name": "('STAT', 'ROHR~*~*~*~WVL', Timestamp('2025-04-08 09:45:59'), Timestamp('2025-04-08 09:45:59'))",
         "rawType": "float64",
         "type": "float"
        },
        {
         "name": "('STAT', 'ROHR~*~*~*~ZAUS', Timestamp('2025-04-08 09:45:59'), Timestamp('2025-04-08 09:45:59'))",
         "rawType": "float64",
         "type": "float"
        },
        {
         "name": "('STAT', 'ROHR~*~*~*~ZEIN', Timestamp('2025-04-08 09:45:59'), Timestamp('2025-04-08 09:45:59'))",
         "rawType": "float64",
         "type": "float"
        },
        {
         "name": "('STAT', 'KNOT~*~*~*~PH', Timestamp('2025-04-08 09:45:59'), Timestamp('2025-04-08 09:45:59'))_i",
         "rawType": "float64",
         "type": "float"
        },
        {
         "name": "('STAT', 'KNOT~*~*~*~H', Timestamp('2025-04-08 09:45:59'), Timestamp('2025-04-08 09:45:59'))_i",
         "rawType": "float64",
         "type": "float"
        },
        {
         "name": "('STAT', 'KNOT~*~*~*~T', Timestamp('2025-04-08 09:45:59'), Timestamp('2025-04-08 09:45:59'))_i",
         "rawType": "float64",
         "type": "float"
        },
        {
         "name": "('STAT', 'KNOT~*~*~*~RHO', Timestamp('2025-04-08 09:45:59'), Timestamp('2025-04-08 09:45:59'))_i",
         "rawType": "float64",
         "type": "float"
        },
        {
         "name": "('STAT', 'KNOT~*~*~*~PH', Timestamp('2025-04-08 09:45:59'), Timestamp('2025-04-08 09:45:59'))_k",
         "rawType": "float64",
         "type": "float"
        },
        {
         "name": "('STAT', 'KNOT~*~*~*~H', Timestamp('2025-04-08 09:45:59'), Timestamp('2025-04-08 09:45:59'))_k",
         "rawType": "float64",
         "type": "float"
        },
        {
         "name": "('STAT', 'KNOT~*~*~*~T', Timestamp('2025-04-08 09:45:59'), Timestamp('2025-04-08 09:45:59'))_k",
         "rawType": "float64",
         "type": "float"
        },
        {
         "name": "('STAT', 'KNOT~*~*~*~RHO', Timestamp('2025-04-08 09:45:59'), Timestamp('2025-04-08 09:45:59'))_k",
         "rawType": "float64",
         "type": "float"
        },
        {
         "name": "QMAVAbs",
         "rawType": "float64",
         "type": "float"
        },
        {
         "name": "VAVAbs",
         "rawType": "float64",
         "type": "float"
        },
        {
         "name": "PHRAbs",
         "rawType": "float64",
         "type": "float"
        },
        {
         "name": "JVAbs",
         "rawType": "float64",
         "type": "float"
        },
        {
         "name": "MAV",
         "rawType": "float64",
         "type": "float"
        },
        {
         "name": "LAMBDA",
         "rawType": "float64",
         "type": "float"
        },
        {
         "name": "ppID",
         "rawType": "int64",
         "type": "integer"
        },
        {
         "name": "v_mean_m_per_s",
         "rawType": "float64",
         "type": "float"
        },
        {
         "name": "p_from_bar",
         "rawType": "float64",
         "type": "float"
        },
        {
         "name": "p_to_bar",
         "rawType": "float64",
         "type": "float"
        },
        {
         "name": "t_from_k",
         "rawType": "float64",
         "type": "float"
        },
        {
         "name": "t_to_k",
         "rawType": "float64",
         "type": "float"
        },
        {
         "name": "t_outlet_k",
         "rawType": "float64",
         "type": "float"
        },
        {
         "name": "mdot_from_kg_per_s",
         "rawType": "float64",
         "type": "float"
        },
        {
         "name": "mdot_to_kg_per_s",
         "rawType": "float64",
         "type": "float"
        },
        {
         "name": "vdot_m3_per_s",
         "rawType": "float64",
         "type": "float"
        },
        {
         "name": "reynolds",
         "rawType": "float64",
         "type": "float"
        },
        {
         "name": "lambda",
         "rawType": "float64",
         "type": "float"
        },
        {
         "name": "t_from_C",
         "rawType": "float64",
         "type": "float"
        },
        {
         "name": "t_to_C",
         "rawType": "float64",
         "type": "float"
        }
       ],
       "conversionMethod": "pd.DataFrame",
       "ref": "59c650ac-589f-4955-a272-c0798ef19204",
       "rows": [
        [
         "0",
         "5436899515124385631",
         "4982567935033599504",
         "5436899515124385631",
         "5436899515124385631",
         "5545156887373324999",
         "4658286599152640406",
         "5456839515335324031",
         "5515842498618683031",
         "-1",
         "1000.0",
         null,
         "0.25",
         "1.0",
         "0.02500000037252903",
         null,
         null,
         null,
         "1000.0",
         null,
         null,
         null,
         "5060822126933396627",
         "-1",
         "Template Element for single Pipe Creation",
         null,
         null,
         null,
         "3S5201225267441779810",
         null,
         "1.0",
         null,
         "4741144811589278980",
         "4804028781596645401",
         "5436899515124385631",
         null,
         null,
         null,
         null,
         null,
         null,
         null,
         null,
         null,
         null,
         "b'\\x01\\x02\\x00\\x00\\x00\\x02\\x00\\x00\\x00\\x00\\x00\\x80\\xa8\\xff\\xffx@\\x00\\x00\\x80v\\xff\\x1f|@\\x00\\x00\\xc0]\\x00\\x00\\x89@\\x00\\x00\\x80\\xa8\\xff\\x1f|@'",
         "b'\\x00\\x00\\x80?\\x00\\x00\\x00\\x00\\x01\\x00\\x00\\x00\\xfc\\xa9\\xf1\\xd2MbP?\\x04\\x00\\x00\\x00\\x00\\x00\\x00\\x00\\x00\\x00\\x00\\x00\\x00\\x00\\x00\\x00\\x00\\x00\\x00\\x00\\x00\\x00\\x00\\x00\\x00\\x00\\x00\\x00'",
         "M-1-0-1",
         "",
         "B1",
         "V0",
         "BZ1",
         "2025-05-09 13:17:45",
         "2025-04-08 11:45:59",
         "5703508123076770847",
         "4982567935033599504",
         "5151772185690695097",
         "4804028781596645401",
         "1",
         "1",
         "5060822126933396627",
         "4982567935033599504",
         "5060822126933396627",
         "5060822126933396627",
         "1001.0",
         "M-1-0-1",
         "1001.0",
         "5060822126933396627",
         null,
         null,
         null,
         "b'\\x00\\x00\\x80?\\x01\\x00\\x00\\x00\\x01\\x00\\x00\\x00\\x00\\x00\\x00\\x00\\x00\\x00I@\\x00\\x00\\x00\\x00\\x00\\x00I@\\x01\\x00\\x00\\x00\\x00\\x00\\x00\\x00\\x00\\x00\\x00\\x00\\x00\\x00\\x00\\x00\\x00\\x00\\x00\\x00\\x00\\x00\\x00\\x00\\x00\\x88\\x93@\\x00\\x00\\x00\\x00\\x00 \\x8c@\\x00\\x00\\x00\\x00\\x00\\x88\\xb3@\\x00\\x00\\x00\\x00\\x00\\x00\\x00\\x00\\x00\\x00\\x00\\x00\\x00\\x00\\x00\\x00\\x00\\x00\\x00\\x00\\x00\\x88\\x93@\\x00\\x00\\x00\\x00\\x00 \\x8c@\\x00\\x00\\x00\\x00\\x00\\x88\\x93@\\x00\\x00\\x00\\x00\\x00 \\x8c@\\x00\\x00\\x00\\x00\\x00\\x00\\x00\\x00\\x00\\x00\\x00\\x00\\x00\\x00\\x00\\x00\\x00\\x00\\x00\\x00\\x00\\x00\\xf0?\\xfc\\xa9\\xf1\\xd2MbP?\\x00\\x00\\x00\\x00\\x00\\x00\\xf0?'",
         "0.0",
         "0.0",
         null,
         "STDROHR",
         "xxx",
         "200.0",
         "0.0",
         "0.0",
         "0.49399998784065247",
         "0.0",
         "0.031415926535897934",
         "31.415926535897935",
         "STDROHR",
         null,
         "5545156887373324999",
         "j1",
         "4658286599152640406",
         "j2",
         "11",
         "100.0",
         "0",
         "0.0",
         "0.308800607919693",
         "39.43655014038086",
         "39.43655014038086",
         "0.0",
         "0.0",
         "0.41404131054878235",
         "0.021201375871896744",
         "27.77777862548828",
         "0.6966740489006042",
         "0.41404131054878235",
         "10.5785551071167",
         "100.0",
         "0.8995376825332642",
         "-3.333333443937845e+32",
         "0.0",
         "0.0",
         "0.0",
         "10.0",
         "10.0",
         "90.0",
         "965.2000122070312",
         "9.5785551071167",
         "9.5785551071167",
         "89.66213989257812",
         "965.5716552734375",
         "100.0",
         "0.8995376825332642",
         "0.41404131054878235",
         "0.41404131054878235",
         "27.77777862548828",
         "0.021201375871896744",
         "0",
         "0.915958977071813",
         "10.0",
         "9.570899681838608",
         "363.15",
         "362.8121398925781",
         "362.8121398925781",
         "27.77777862548828",
         "-27.77777862548828",
         "0.028775699933584295",
         "561271.6869933389",
         "0.021193133051841215",
         "90.0",
         "89.66213989257812"
        ]
       ],
       "shape": {
        "columns": 138,
        "rows": 1
       }
      },
      "text/html": [
       "<div>\n",
       "<style scoped>\n",
       "    .dataframe tbody tr th:only-of-type {\n",
       "        vertical-align: middle;\n",
       "    }\n",
       "\n",
       "    .dataframe tbody tr th {\n",
       "        vertical-align: top;\n",
       "    }\n",
       "\n",
       "    .dataframe thead th {\n",
       "        text-align: right;\n",
       "    }\n",
       "</style>\n",
       "<table border=\"1\" class=\"dataframe\">\n",
       "  <thead>\n",
       "    <tr style=\"text-align: right;\">\n",
       "      <th></th>\n",
       "      <th>pk</th>\n",
       "      <th>fkDE</th>\n",
       "      <th>rk</th>\n",
       "      <th>tk</th>\n",
       "      <th>fkKI</th>\n",
       "      <th>fkKK</th>\n",
       "      <th>fkDTRO_ROWD</th>\n",
       "      <th>fkLTGR</th>\n",
       "      <th>fkSTRASSE</th>\n",
       "      <th>L</th>\n",
       "      <th>LZU</th>\n",
       "      <th>RAU</th>\n",
       "      <th>JLAMBS</th>\n",
       "      <th>LAMBDA0</th>\n",
       "      <th>ZEIN</th>\n",
       "      <th>ZAUS</th>\n",
       "      <th>ZUML</th>\n",
       "      <th>ASOLL</th>\n",
       "      <th>INDSCHALL</th>\n",
       "      <th>BAUJAHR</th>\n",
       "      <th>HAL</th>\n",
       "      <th>fkCONT</th>\n",
       "      <th>fk2LROHR</th>\n",
       "      <th>BESCHREIBUNG</th>\n",
       "      <th>GEOMWKB</th>\n",
       "      <th>DELETED</th>\n",
       "      <th>SELECT1</th>\n",
       "      <th>IDREFERENZ</th>\n",
       "      <th>KENNUNG</th>\n",
       "      <th>IPLANUNG</th>\n",
       "      <th>KVR</th>\n",
       "      <th>pk_BZ</th>\n",
       "      <th>fkDE_BZ</th>\n",
       "      <th>fk</th>\n",
       "      <th>QSVB</th>\n",
       "      <th>IRTRENN</th>\n",
       "      <th>LECKSTATUS</th>\n",
       "      <th>LECKSTART</th>\n",
       "      <th>LECKEND</th>\n",
       "      <th>LECKORT</th>\n",
       "      <th>LECKMENGE</th>\n",
       "      <th>IMPTNZ</th>\n",
       "      <th>ZVLIMPTNZ</th>\n",
       "      <th>KANTENZV</th>\n",
       "      <th>GEOM</th>\n",
       "      <th>GRAF</th>\n",
       "      <th>MId</th>\n",
       "      <th>MText</th>\n",
       "      <th>Basis</th>\n",
       "      <th>Variante</th>\n",
       "      <th>BZ</th>\n",
       "      <th>Geaendert</th>\n",
       "      <th>Erstellt</th>\n",
       "      <th>pk_VMBZ</th>\n",
       "      <th>fkBASIS</th>\n",
       "      <th>fkVARIANTE</th>\n",
       "      <th>fkBZ</th>\n",
       "      <th>MZ</th>\n",
       "      <th>MT</th>\n",
       "      <th>pk_CONT</th>\n",
       "      <th>fkDE_CONT</th>\n",
       "      <th>rk_CONT</th>\n",
       "      <th>tk_CONT</th>\n",
       "      <th>ID_CONT</th>\n",
       "      <th>NAME_CONT</th>\n",
       "      <th>IDPARENT_CONT</th>\n",
       "      <th>rkPARENT_CONT</th>\n",
       "      <th>LFDNR_CONT</th>\n",
       "      <th>GRAF_CONT</th>\n",
       "      <th>FONT_CONT</th>\n",
       "      <th>GEOM_CONT</th>\n",
       "      <th>DELETED_CONT</th>\n",
       "      <th>SELECT1_CONT</th>\n",
       "      <th>IDREFERENZ_CONT</th>\n",
       "      <th>NAME_DTRO</th>\n",
       "      <th>DN</th>\n",
       "      <th>DI</th>\n",
       "      <th>DA</th>\n",
       "      <th>S</th>\n",
       "      <th>KT</th>\n",
       "      <th>PN</th>\n",
       "      <th>Am2</th>\n",
       "      <th>Vm3</th>\n",
       "      <th>NAME_LTGR</th>\n",
       "      <th>NAME_STRASSE</th>\n",
       "      <th>tk_i</th>\n",
       "      <th>NAME_i</th>\n",
       "      <th>tk_k</th>\n",
       "      <th>NAME_k</th>\n",
       "      <th>mx2NofPts</th>\n",
       "      <th>dL</th>\n",
       "      <th>mx2Idx</th>\n",
       "      <th>(STAT, ROHR~*~*~*~A, 2025-04-08 09:45:59, 2025-04-08 09:45:59)</th>\n",
       "      <th>(STAT, ROHR~*~*~*~DTTR, 2025-04-08 09:45:59, 2025-04-08 09:45:59)</th>\n",
       "      <th>(STAT, ROHR~*~*~*~DWVERL, 2025-04-08 09:45:59, 2025-04-08 09:45:59)</th>\n",
       "      <th>(STAT, ROHR~*~*~*~DWVERLABS, 2025-04-08 09:45:59, 2025-04-08 09:45:59)</th>\n",
       "      <th>(STAT, ROHR~*~*~*~IAKTIV, 2025-04-08 09:45:59, 2025-04-08 09:45:59)</th>\n",
       "      <th>(STAT, ROHR~*~*~*~IRTRENN, 2025-04-08 09:45:59, 2025-04-08 09:45:59)</th>\n",
       "      <th>(STAT, ROHR~*~*~*~JV, 2025-04-08 09:45:59, 2025-04-08 09:45:59)</th>\n",
       "      <th>(STAT, ROHR~*~*~*~LAMBDA, 2025-04-08 09:45:59, 2025-04-08 09:45:59)</th>\n",
       "      <th>(STAT, ROHR~*~*~*~MAV, 2025-04-08 09:45:59, 2025-04-08 09:45:59)</th>\n",
       "      <th>(STAT, ROHR~*~*~*~PDAMPF, 2025-04-08 09:45:59, 2025-04-08 09:45:59)</th>\n",
       "      <th>(STAT, ROHR~*~*~*~PHR, 2025-04-08 09:45:59, 2025-04-08 09:45:59)</th>\n",
       "      <th>(STAT, ROHR~*~*~*~PMIN, 2025-04-08 09:45:59, 2025-04-08 09:45:59)</th>\n",
       "      <th>(STAT, ROHR~*~*~*~QMAV, 2025-04-08 09:45:59, 2025-04-08 09:45:59)</th>\n",
       "      <th>(STAT, ROHR~*~*~*~VAV, 2025-04-08 09:45:59, 2025-04-08 09:45:59)</th>\n",
       "      <th>(STAT, ROHR~*~*~*~VOLDA, 2025-04-08 09:45:59, 2025-04-08 09:45:59)</th>\n",
       "      <th>(STAT, ROHR~*~*~*~WVL, 2025-04-08 09:45:59, 2025-04-08 09:45:59)</th>\n",
       "      <th>(STAT, ROHR~*~*~*~ZAUS, 2025-04-08 09:45:59, 2025-04-08 09:45:59)</th>\n",
       "      <th>(STAT, ROHR~*~*~*~ZEIN, 2025-04-08 09:45:59, 2025-04-08 09:45:59)</th>\n",
       "      <th>('STAT', 'KNOT~*~*~*~PH', Timestamp('2025-04-08 09:45:59'), Timestamp('2025-04-08 09:45:59'))_i</th>\n",
       "      <th>('STAT', 'KNOT~*~*~*~H', Timestamp('2025-04-08 09:45:59'), Timestamp('2025-04-08 09:45:59'))_i</th>\n",
       "      <th>('STAT', 'KNOT~*~*~*~T', Timestamp('2025-04-08 09:45:59'), Timestamp('2025-04-08 09:45:59'))_i</th>\n",
       "      <th>('STAT', 'KNOT~*~*~*~RHO', Timestamp('2025-04-08 09:45:59'), Timestamp('2025-04-08 09:45:59'))_i</th>\n",
       "      <th>('STAT', 'KNOT~*~*~*~PH', Timestamp('2025-04-08 09:45:59'), Timestamp('2025-04-08 09:45:59'))_k</th>\n",
       "      <th>('STAT', 'KNOT~*~*~*~H', Timestamp('2025-04-08 09:45:59'), Timestamp('2025-04-08 09:45:59'))_k</th>\n",
       "      <th>('STAT', 'KNOT~*~*~*~T', Timestamp('2025-04-08 09:45:59'), Timestamp('2025-04-08 09:45:59'))_k</th>\n",
       "      <th>('STAT', 'KNOT~*~*~*~RHO', Timestamp('2025-04-08 09:45:59'), Timestamp('2025-04-08 09:45:59'))_k</th>\n",
       "      <th>QMAVAbs</th>\n",
       "      <th>VAVAbs</th>\n",
       "      <th>PHRAbs</th>\n",
       "      <th>JVAbs</th>\n",
       "      <th>MAV</th>\n",
       "      <th>LAMBDA</th>\n",
       "      <th>ppID</th>\n",
       "      <th>v_mean_m_per_s</th>\n",
       "      <th>p_from_bar</th>\n",
       "      <th>p_to_bar</th>\n",
       "      <th>t_from_k</th>\n",
       "      <th>t_to_k</th>\n",
       "      <th>t_outlet_k</th>\n",
       "      <th>mdot_from_kg_per_s</th>\n",
       "      <th>mdot_to_kg_per_s</th>\n",
       "      <th>vdot_m3_per_s</th>\n",
       "      <th>reynolds</th>\n",
       "      <th>lambda</th>\n",
       "      <th>t_from_C</th>\n",
       "      <th>t_to_C</th>\n",
       "    </tr>\n",
       "  </thead>\n",
       "  <tbody>\n",
       "    <tr>\n",
       "      <th>0</th>\n",
       "      <td>5436899515124385631</td>\n",
       "      <td>4982567935033599504</td>\n",
       "      <td>5436899515124385631</td>\n",
       "      <td>5436899515124385631</td>\n",
       "      <td>5545156887373324999</td>\n",
       "      <td>4658286599152640406</td>\n",
       "      <td>5456839515335324031</td>\n",
       "      <td>5515842498618683031</td>\n",
       "      <td>-1</td>\n",
       "      <td>1000.0</td>\n",
       "      <td>None</td>\n",
       "      <td>0.25</td>\n",
       "      <td>1.0</td>\n",
       "      <td>0.025</td>\n",
       "      <td>None</td>\n",
       "      <td>None</td>\n",
       "      <td>None</td>\n",
       "      <td>1000.0</td>\n",
       "      <td>None</td>\n",
       "      <td>None</td>\n",
       "      <td>None</td>\n",
       "      <td>5060822126933396627</td>\n",
       "      <td>-1</td>\n",
       "      <td>Template Element for single Pipe Creation</td>\n",
       "      <td>None</td>\n",
       "      <td>None</td>\n",
       "      <td>None</td>\n",
       "      <td>3S5201225267441779810</td>\n",
       "      <td>NaN</td>\n",
       "      <td>1.0</td>\n",
       "      <td>NaN</td>\n",
       "      <td>4741144811589278980</td>\n",
       "      <td>4804028781596645401</td>\n",
       "      <td>5436899515124385631</td>\n",
       "      <td>None</td>\n",
       "      <td>None</td>\n",
       "      <td>None</td>\n",
       "      <td>None</td>\n",
       "      <td>None</td>\n",
       "      <td>None</td>\n",
       "      <td>None</td>\n",
       "      <td>None</td>\n",
       "      <td>None</td>\n",
       "      <td>None</td>\n",
       "      <td>b'\\x01\\x02\\x00\\x00\\x00\\x02\\x00\\x00\\x00\\x00\\x00...</td>\n",
       "      <td>b'\\x00\\x00\\x80?\\x00\\x00\\x00\\x00\\x01\\x00\\x00\\x0...</td>\n",
       "      <td>M-1-0-1</td>\n",
       "      <td></td>\n",
       "      <td>B1</td>\n",
       "      <td>V0</td>\n",
       "      <td>BZ1</td>\n",
       "      <td>2025-05-09 13:17:45</td>\n",
       "      <td>2025-04-08 11:45:59</td>\n",
       "      <td>5703508123076770847</td>\n",
       "      <td>4982567935033599504</td>\n",
       "      <td>5151772185690695097</td>\n",
       "      <td>4804028781596645401</td>\n",
       "      <td>1</td>\n",
       "      <td>1</td>\n",
       "      <td>5060822126933396627</td>\n",
       "      <td>4982567935033599504</td>\n",
       "      <td>5060822126933396627</td>\n",
       "      <td>5060822126933396627</td>\n",
       "      <td>1001.0</td>\n",
       "      <td>M-1-0-1</td>\n",
       "      <td>1001.0</td>\n",
       "      <td>5060822126933396627</td>\n",
       "      <td>None</td>\n",
       "      <td>None</td>\n",
       "      <td>None</td>\n",
       "      <td>b'\\x00\\x00\\x80?\\x01\\x00\\x00\\x00\\x01\\x00\\x00\\x0...</td>\n",
       "      <td>0.0</td>\n",
       "      <td>0.0</td>\n",
       "      <td>None</td>\n",
       "      <td>STDROHR</td>\n",
       "      <td>xxx</td>\n",
       "      <td>200.0</td>\n",
       "      <td>0.0</td>\n",
       "      <td>0.0</td>\n",
       "      <td>0.494</td>\n",
       "      <td>0.0</td>\n",
       "      <td>0.031416</td>\n",
       "      <td>31.415927</td>\n",
       "      <td>STDROHR</td>\n",
       "      <td>None</td>\n",
       "      <td>5545156887373324999</td>\n",
       "      <td>j1</td>\n",
       "      <td>4658286599152640406</td>\n",
       "      <td>j2</td>\n",
       "      <td>11</td>\n",
       "      <td>100.0</td>\n",
       "      <td>0</td>\n",
       "      <td>0.0</td>\n",
       "      <td>0.308801</td>\n",
       "      <td>39.43655</td>\n",
       "      <td>39.43655</td>\n",
       "      <td>0.0</td>\n",
       "      <td>0.0</td>\n",
       "      <td>0.414041</td>\n",
       "      <td>0.021201</td>\n",
       "      <td>27.777779</td>\n",
       "      <td>0.696674</td>\n",
       "      <td>0.414041</td>\n",
       "      <td>10.578555</td>\n",
       "      <td>100.0</td>\n",
       "      <td>0.899538</td>\n",
       "      <td>-3.333333e+32</td>\n",
       "      <td>0.0</td>\n",
       "      <td>0.0</td>\n",
       "      <td>0.0</td>\n",
       "      <td>10.0</td>\n",
       "      <td>10.0</td>\n",
       "      <td>90.0</td>\n",
       "      <td>965.200012</td>\n",
       "      <td>9.578555</td>\n",
       "      <td>9.578555</td>\n",
       "      <td>89.66214</td>\n",
       "      <td>965.571655</td>\n",
       "      <td>100.0</td>\n",
       "      <td>0.899538</td>\n",
       "      <td>0.414041</td>\n",
       "      <td>0.414041</td>\n",
       "      <td>27.777779</td>\n",
       "      <td>0.021201</td>\n",
       "      <td>0</td>\n",
       "      <td>0.915959</td>\n",
       "      <td>10.0</td>\n",
       "      <td>9.5709</td>\n",
       "      <td>363.15</td>\n",
       "      <td>362.81214</td>\n",
       "      <td>362.81214</td>\n",
       "      <td>27.777779</td>\n",
       "      <td>-27.777779</td>\n",
       "      <td>0.028776</td>\n",
       "      <td>561271.686993</td>\n",
       "      <td>0.021193</td>\n",
       "      <td>90.0</td>\n",
       "      <td>89.66214</td>\n",
       "    </tr>\n",
       "  </tbody>\n",
       "</table>\n",
       "</div>"
      ],
      "text/plain": [
       "                    pk                 fkDE                   rk  \\\n",
       "0  5436899515124385631  4982567935033599504  5436899515124385631   \n",
       "\n",
       "                    tk                 fkKI                 fkKK  \\\n",
       "0  5436899515124385631  5545156887373324999  4658286599152640406   \n",
       "\n",
       "           fkDTRO_ROWD               fkLTGR fkSTRASSE       L   LZU   RAU  \\\n",
       "0  5456839515335324031  5515842498618683031        -1  1000.0  None  0.25   \n",
       "\n",
       "   JLAMBS  LAMBDA0  ZEIN  ZAUS  ZUML   ASOLL INDSCHALL BAUJAHR   HAL  \\\n",
       "0     1.0    0.025  None  None  None  1000.0      None    None  None   \n",
       "\n",
       "                fkCONT fk2LROHR                               BESCHREIBUNG  \\\n",
       "0  5060822126933396627       -1  Template Element for single Pipe Creation   \n",
       "\n",
       "  GEOMWKB DELETED SELECT1             IDREFERENZ  KENNUNG  IPLANUNG  KVR  \\\n",
       "0    None    None    None  3S5201225267441779810      NaN       1.0  NaN   \n",
       "\n",
       "                 pk_BZ              fkDE_BZ                   fk  QSVB  \\\n",
       "0  4741144811589278980  4804028781596645401  5436899515124385631  None   \n",
       "\n",
       "  IRTRENN LECKSTATUS LECKSTART LECKEND LECKORT LECKMENGE IMPTNZ ZVLIMPTNZ  \\\n",
       "0    None       None      None    None    None      None   None      None   \n",
       "\n",
       "  KANTENZV                                               GEOM  \\\n",
       "0     None  b'\\x01\\x02\\x00\\x00\\x00\\x02\\x00\\x00\\x00\\x00\\x00...   \n",
       "\n",
       "                                                GRAF      MId MText Basis  \\\n",
       "0  b'\\x00\\x00\\x80?\\x00\\x00\\x00\\x00\\x01\\x00\\x00\\x0...  M-1-0-1          B1   \n",
       "\n",
       "  Variante   BZ            Geaendert             Erstellt  \\\n",
       "0       V0  BZ1  2025-05-09 13:17:45  2025-04-08 11:45:59   \n",
       "\n",
       "               pk_VMBZ              fkBASIS           fkVARIANTE  \\\n",
       "0  5703508123076770847  4982567935033599504  5151772185690695097   \n",
       "\n",
       "                  fkBZ  MZ  MT              pk_CONT            fkDE_CONT  \\\n",
       "0  4804028781596645401   1   1  5060822126933396627  4982567935033599504   \n",
       "\n",
       "               rk_CONT              tk_CONT  ID_CONT NAME_CONT  IDPARENT_CONT  \\\n",
       "0  5060822126933396627  5060822126933396627   1001.0   M-1-0-1         1001.0   \n",
       "\n",
       "         rkPARENT_CONT LFDNR_CONT GRAF_CONT FONT_CONT  \\\n",
       "0  5060822126933396627       None      None      None   \n",
       "\n",
       "                                           GEOM_CONT  DELETED_CONT  \\\n",
       "0  b'\\x00\\x00\\x80?\\x01\\x00\\x00\\x00\\x01\\x00\\x00\\x0...           0.0   \n",
       "\n",
       "   SELECT1_CONT IDREFERENZ_CONT NAME_DTRO   DN     DI   DA    S     KT   PN  \\\n",
       "0           0.0            None   STDROHR  xxx  200.0  0.0  0.0  0.494  0.0   \n",
       "\n",
       "        Am2        Vm3 NAME_LTGR NAME_STRASSE                 tk_i NAME_i  \\\n",
       "0  0.031416  31.415927   STDROHR         None  5545156887373324999     j1   \n",
       "\n",
       "                  tk_k NAME_k  mx2NofPts     dL  mx2Idx  \\\n",
       "0  4658286599152640406     j2         11  100.0       0   \n",
       "\n",
       "   (STAT, ROHR~*~*~*~A, 2025-04-08 09:45:59, 2025-04-08 09:45:59)  \\\n",
       "0                                                0.0                \n",
       "\n",
       "   (STAT, ROHR~*~*~*~DTTR, 2025-04-08 09:45:59, 2025-04-08 09:45:59)  \\\n",
       "0                                           0.308801                   \n",
       "\n",
       "   (STAT, ROHR~*~*~*~DWVERL, 2025-04-08 09:45:59, 2025-04-08 09:45:59)  \\\n",
       "0                                           39.43655                     \n",
       "\n",
       "   (STAT, ROHR~*~*~*~DWVERLABS, 2025-04-08 09:45:59, 2025-04-08 09:45:59)  \\\n",
       "0                                           39.43655                        \n",
       "\n",
       "   (STAT, ROHR~*~*~*~IAKTIV, 2025-04-08 09:45:59, 2025-04-08 09:45:59)  \\\n",
       "0                                                0.0                     \n",
       "\n",
       "   (STAT, ROHR~*~*~*~IRTRENN, 2025-04-08 09:45:59, 2025-04-08 09:45:59)  \\\n",
       "0                                                0.0                      \n",
       "\n",
       "   (STAT, ROHR~*~*~*~JV, 2025-04-08 09:45:59, 2025-04-08 09:45:59)  \\\n",
       "0                                           0.414041                 \n",
       "\n",
       "   (STAT, ROHR~*~*~*~LAMBDA, 2025-04-08 09:45:59, 2025-04-08 09:45:59)  \\\n",
       "0                                           0.021201                     \n",
       "\n",
       "   (STAT, ROHR~*~*~*~MAV, 2025-04-08 09:45:59, 2025-04-08 09:45:59)  \\\n",
       "0                                          27.777779                  \n",
       "\n",
       "   (STAT, ROHR~*~*~*~PDAMPF, 2025-04-08 09:45:59, 2025-04-08 09:45:59)  \\\n",
       "0                                           0.696674                     \n",
       "\n",
       "   (STAT, ROHR~*~*~*~PHR, 2025-04-08 09:45:59, 2025-04-08 09:45:59)  \\\n",
       "0                                           0.414041                  \n",
       "\n",
       "   (STAT, ROHR~*~*~*~PMIN, 2025-04-08 09:45:59, 2025-04-08 09:45:59)  \\\n",
       "0                                          10.578555                   \n",
       "\n",
       "   (STAT, ROHR~*~*~*~QMAV, 2025-04-08 09:45:59, 2025-04-08 09:45:59)  \\\n",
       "0                                              100.0                   \n",
       "\n",
       "   (STAT, ROHR~*~*~*~VAV, 2025-04-08 09:45:59, 2025-04-08 09:45:59)  \\\n",
       "0                                           0.899538                  \n",
       "\n",
       "   (STAT, ROHR~*~*~*~VOLDA, 2025-04-08 09:45:59, 2025-04-08 09:45:59)  \\\n",
       "0                                      -3.333333e+32                    \n",
       "\n",
       "   (STAT, ROHR~*~*~*~WVL, 2025-04-08 09:45:59, 2025-04-08 09:45:59)  \\\n",
       "0                                                0.0                  \n",
       "\n",
       "   (STAT, ROHR~*~*~*~ZAUS, 2025-04-08 09:45:59, 2025-04-08 09:45:59)  \\\n",
       "0                                                0.0                   \n",
       "\n",
       "   (STAT, ROHR~*~*~*~ZEIN, 2025-04-08 09:45:59, 2025-04-08 09:45:59)  \\\n",
       "0                                                0.0                   \n",
       "\n",
       "   ('STAT', 'KNOT~*~*~*~PH', Timestamp('2025-04-08 09:45:59'), Timestamp('2025-04-08 09:45:59'))_i  \\\n",
       "0                                               10.0                                                 \n",
       "\n",
       "   ('STAT', 'KNOT~*~*~*~H', Timestamp('2025-04-08 09:45:59'), Timestamp('2025-04-08 09:45:59'))_i  \\\n",
       "0                                               10.0                                                \n",
       "\n",
       "   ('STAT', 'KNOT~*~*~*~T', Timestamp('2025-04-08 09:45:59'), Timestamp('2025-04-08 09:45:59'))_i  \\\n",
       "0                                               90.0                                                \n",
       "\n",
       "   ('STAT', 'KNOT~*~*~*~RHO', Timestamp('2025-04-08 09:45:59'), Timestamp('2025-04-08 09:45:59'))_i  \\\n",
       "0                                         965.200012                                                  \n",
       "\n",
       "   ('STAT', 'KNOT~*~*~*~PH', Timestamp('2025-04-08 09:45:59'), Timestamp('2025-04-08 09:45:59'))_k  \\\n",
       "0                                           9.578555                                                 \n",
       "\n",
       "   ('STAT', 'KNOT~*~*~*~H', Timestamp('2025-04-08 09:45:59'), Timestamp('2025-04-08 09:45:59'))_k  \\\n",
       "0                                           9.578555                                                \n",
       "\n",
       "   ('STAT', 'KNOT~*~*~*~T', Timestamp('2025-04-08 09:45:59'), Timestamp('2025-04-08 09:45:59'))_k  \\\n",
       "0                                           89.66214                                                \n",
       "\n",
       "   ('STAT', 'KNOT~*~*~*~RHO', Timestamp('2025-04-08 09:45:59'), Timestamp('2025-04-08 09:45:59'))_k  \\\n",
       "0                                         965.571655                                                  \n",
       "\n",
       "   QMAVAbs    VAVAbs    PHRAbs     JVAbs        MAV    LAMBDA  ppID  \\\n",
       "0    100.0  0.899538  0.414041  0.414041  27.777779  0.021201     0   \n",
       "\n",
       "   v_mean_m_per_s  p_from_bar  p_to_bar  t_from_k     t_to_k  t_outlet_k  \\\n",
       "0        0.915959        10.0    9.5709    363.15  362.81214   362.81214   \n",
       "\n",
       "   mdot_from_kg_per_s  mdot_to_kg_per_s  vdot_m3_per_s       reynolds  \\\n",
       "0           27.777779        -27.777779       0.028776  561271.686993   \n",
       "\n",
       "     lambda  t_from_C    t_to_C  \n",
       "0  0.021193      90.0  89.66214  "
      ]
     },
     "execution_count": 25,
     "metadata": {},
     "output_type": "execute_result"
    }
   ],
   "source": [
    "dfCmpPipes"
   ]
  },
  {
   "cell_type": "code",
   "execution_count": 26,
   "metadata": {},
   "outputs": [],
   "source": [
    "import math\n",
    "\n",
    "def fCmp2(row\n",
    "         ,col1\n",
    "         ,col2 \n",
    "         ,col2Offset=0.\n",
    "         ,dAbsMax=0.01 # max. tol. Abw. \n",
    "         ,dProzMax=0.1 # max. tol. Abw. in %\n",
    "    ):\n",
    "    \n",
    "    #print(row)\n",
    "    #print(dAbsMax)\n",
    "    d=row[col1]-(row[col2]+col2Offset)\n",
    "    dAbs=math.fabs(d)\n",
    "    \n",
    "\n",
    "    dProz=dAbs/row[col1]*100\n",
    "    \n",
    "    \n",
    "    l = ['color: red' if dProz > dProzMax or dAbs > dAbsMax else 'color: green' for _ in row]    \n",
    "    return ['',l[1]]\n",
    "\n",
    "def stylerJunctions(styler):\n",
    "    styler.set_caption(\"SIR 3S vs. pp: Junctions\")\n",
    "    styler.format(\n",
    "    {\n",
    "        'PH': '{:,.3f}',\n",
    "        'p_bar': '{:,.3f}',\n",
    "        'T': '{:,.2f}',\n",
    "        't_k': '{:,.2f}',     \n",
    "        't_C': '{:,.2f}',         \n",
    "    },\n",
    "    na_rep='-',\n",
    "    precision=0\n",
    "    )\n",
    "\n",
    "    \n",
    "    styler.apply(fCmp2,axis=1,subset=['PH','p_bar'],col1='PH',col2='p_bar',dAbsMax=0.01)\n",
    "\n",
    "    styler.apply(fCmp2,axis=1,subset=['T','t_k'],col1='T',col2='t_k',dAbsMax=0.01,col2Offset=-273.15)\n",
    "\n",
    "    return styler"
   ]
  },
  {
   "cell_type": "code",
   "execution_count": 27,
   "metadata": {},
   "outputs": [
    {
     "data": {
      "text/html": [
       "<style type=\"text/css\">\n",
       "#T_bb994_row0_col2, #T_bb994_row0_col4, #T_bb994_row1_col2, #T_bb994_row1_col4 {\n",
       "  color: green;\n",
       "}\n",
       "</style>\n",
       "<table id=\"T_bb994\">\n",
       "  <caption>SIR 3S vs. pp: Junctions</caption>\n",
       "  <thead>\n",
       "    <tr>\n",
       "      <th class=\"blank level0\" >&nbsp;</th>\n",
       "      <th id=\"T_bb994_level0_col0\" class=\"col_heading level0 col0\" >NAME</th>\n",
       "      <th id=\"T_bb994_level0_col1\" class=\"col_heading level0 col1\" >PH</th>\n",
       "      <th id=\"T_bb994_level0_col2\" class=\"col_heading level0 col2\" >p_bar</th>\n",
       "      <th id=\"T_bb994_level0_col3\" class=\"col_heading level0 col3\" >T</th>\n",
       "      <th id=\"T_bb994_level0_col4\" class=\"col_heading level0 col4\" >t_k</th>\n",
       "      <th id=\"T_bb994_level0_col5\" class=\"col_heading level0 col5\" >t_C</th>\n",
       "    </tr>\n",
       "  </thead>\n",
       "  <tbody>\n",
       "    <tr>\n",
       "      <th id=\"T_bb994_level0_row0\" class=\"row_heading level0 row0\" >3</th>\n",
       "      <td id=\"T_bb994_row0_col0\" class=\"data row0 col0\" >j1</td>\n",
       "      <td id=\"T_bb994_row0_col1\" class=\"data row0 col1\" >10.000</td>\n",
       "      <td id=\"T_bb994_row0_col2\" class=\"data row0 col2\" >10.000</td>\n",
       "      <td id=\"T_bb994_row0_col3\" class=\"data row0 col3\" >90.00</td>\n",
       "      <td id=\"T_bb994_row0_col4\" class=\"data row0 col4\" >363.15</td>\n",
       "      <td id=\"T_bb994_row0_col5\" class=\"data row0 col5\" >90.00</td>\n",
       "    </tr>\n",
       "    <tr>\n",
       "      <th id=\"T_bb994_level0_row1\" class=\"row_heading level0 row1\" >4</th>\n",
       "      <td id=\"T_bb994_row1_col0\" class=\"data row1 col0\" >j2</td>\n",
       "      <td id=\"T_bb994_row1_col1\" class=\"data row1 col1\" >9.579</td>\n",
       "      <td id=\"T_bb994_row1_col2\" class=\"data row1 col2\" >9.571</td>\n",
       "      <td id=\"T_bb994_row1_col3\" class=\"data row1 col3\" >89.66</td>\n",
       "      <td id=\"T_bb994_row1_col4\" class=\"data row1 col4\" >362.81</td>\n",
       "      <td id=\"T_bb994_row1_col5\" class=\"data row1 col5\" >89.66</td>\n",
       "    </tr>\n",
       "  </tbody>\n",
       "</table>\n"
      ],
      "text/plain": [
       "<pandas.io.formats.style.Styler at 0x24f3a335c90>"
      ]
     },
     "execution_count": 27,
     "metadata": {},
     "output_type": "execute_result"
    }
   ],
   "source": [
    "dfCmpJunctions[['NAME','PH','p_bar','T','t_k','t_C']].style.pipe(stylerJunctions)"
   ]
  },
  {
   "cell_type": "code",
   "execution_count": 28,
   "metadata": {},
   "outputs": [],
   "source": [
    "\n",
    "def stylerPipes(styler):\n",
    "    styler.set_caption(\"SIR 3S vs. pp: Pipes\")\n",
    "    styler.format(\n",
    "    {\n",
    "        'QMAVAbs': '{:,.2f}',\n",
    "        'mdot_from_kg_per_s': '{:,.2f}',\n",
    "        'MAV': '{:,.2f}',        \n",
    "        'LAMBDA': '{:,.5f}',\n",
    "        'lambda': '{:,.5f}',\n",
    "      \n",
    "    },\n",
    "    na_rep='-',\n",
    "    precision=0\n",
    "    )\n",
    "\n",
    "    \n",
    "    styler.apply(fCmp2,axis=1,subset=['LAMBDA','lambda'],col1='LAMBDA',col2='lambda',dAbsMax=0.00001)\n",
    "\n",
    "    styler.apply(fCmp2,axis=1,subset=['MAV','mdot_from_kg_per_s'],col1='MAV',col2='mdot_from_kg_per_s',dAbsMax=0.01)\n",
    "\n",
    "\n",
    "\n",
    "    \n",
    "\n",
    "    return styler"
   ]
  },
  {
   "cell_type": "code",
   "execution_count": 29,
   "metadata": {},
   "outputs": [
    {
     "data": {
      "text/html": [
       "<style type=\"text/css\">\n",
       "#T_25bc2_row0_col4, #T_25bc2_row0_col6 {\n",
       "  color: green;\n",
       "}\n",
       "</style>\n",
       "<table id=\"T_25bc2\">\n",
       "  <caption>SIR 3S vs. pp: Pipes</caption>\n",
       "  <thead>\n",
       "    <tr>\n",
       "      <th class=\"blank level0\" >&nbsp;</th>\n",
       "      <th id=\"T_25bc2_level0_col0\" class=\"col_heading level0 col0\" >NAME_i</th>\n",
       "      <th id=\"T_25bc2_level0_col1\" class=\"col_heading level0 col1\" >NAME_k</th>\n",
       "      <th id=\"T_25bc2_level0_col2\" class=\"col_heading level0 col2\" >QMAVAbs</th>\n",
       "      <th id=\"T_25bc2_level0_col3\" class=\"col_heading level0 col3\" >MAV</th>\n",
       "      <th id=\"T_25bc2_level0_col4\" class=\"col_heading level0 col4\" >mdot_from_kg_per_s</th>\n",
       "      <th id=\"T_25bc2_level0_col5\" class=\"col_heading level0 col5\" >LAMBDA</th>\n",
       "      <th id=\"T_25bc2_level0_col6\" class=\"col_heading level0 col6\" >lambda</th>\n",
       "      <th id=\"T_25bc2_level0_col7\" class=\"col_heading level0 col7\" >reynolds</th>\n",
       "    </tr>\n",
       "  </thead>\n",
       "  <tbody>\n",
       "    <tr>\n",
       "      <th id=\"T_25bc2_level0_row0\" class=\"row_heading level0 row0\" >0</th>\n",
       "      <td id=\"T_25bc2_row0_col0\" class=\"data row0 col0\" >j1</td>\n",
       "      <td id=\"T_25bc2_row0_col1\" class=\"data row0 col1\" >j2</td>\n",
       "      <td id=\"T_25bc2_row0_col2\" class=\"data row0 col2\" >100.00</td>\n",
       "      <td id=\"T_25bc2_row0_col3\" class=\"data row0 col3\" >27.78</td>\n",
       "      <td id=\"T_25bc2_row0_col4\" class=\"data row0 col4\" >27.78</td>\n",
       "      <td id=\"T_25bc2_row0_col5\" class=\"data row0 col5\" >0.02120</td>\n",
       "      <td id=\"T_25bc2_row0_col6\" class=\"data row0 col6\" >0.02119</td>\n",
       "      <td id=\"T_25bc2_row0_col7\" class=\"data row0 col7\" >561272</td>\n",
       "    </tr>\n",
       "  </tbody>\n",
       "</table>\n"
      ],
      "text/plain": [
       "<pandas.io.formats.style.Styler at 0x24f3a640490>"
      ]
     },
     "execution_count": 29,
     "metadata": {},
     "output_type": "execute_result"
    }
   ],
   "source": [
    "dfCmpPipes[['NAME_i','NAME_k','QMAVAbs','MAV', 'mdot_from_kg_per_s','LAMBDA','lambda','reynolds']].style.pipe(stylerPipes)"
   ]
  },
  {
   "cell_type": "markdown",
   "metadata": {},
   "source": [
    "# example for determining roughness"
   ]
  },
  {
   "cell_type": "code",
   "execution_count": 30,
   "metadata": {},
   "outputs": [],
   "source": [
    "def fDetRau(net=net, pSoll=9.4, dk=1):\n",
    "\n",
    "    pIst=net.res_junction.loc[1,'p_bar']\n",
    "    dp=pSoll-pIst\n",
    "\n",
    "    if math.fabs(dp) <= 0.001:\n",
    "        print(f\"pIst={pIst:.3f} dp={dp:.3f} k={net.pipe.loc[0,'k_mm']:.4f} (dk={dk:.4f})\")\n",
    "        return(pIst,net.pipe.loc[0,'k_mm'])\n",
    "\n",
    "    dpVStart=math.copysign(1,dp)\n",
    "    dpV=dpVStart\n",
    "\n",
    "    while dpV == dpVStart:\n",
    "\n",
    "        # Rauheit veraendern\n",
    "        if dp > 0:\n",
    "            dkAdd=-dk\n",
    "        else:\n",
    "            dkAdd=dk\n",
    "\n",
    "        net.pipe.loc[0,'k_mm']=net.pipe.loc[0,'k_mm']+dkAdd\n",
    "\n",
    "        # rechnen\n",
    "        pandapipes.pipeflow(net\n",
    "                ,friction_model='colebrook'        \n",
    "                #,mode='sequential'\n",
    "                )\n",
    "        \n",
    "        pIst=net.res_junction.loc[1,'p_bar']\n",
    "        dp=pSoll-pIst\n",
    "\n",
    "        dpV=math.copysign(1,dp)\n",
    "    \n",
    "    fDetRau(net=net, pSoll=9.4, dk=dk/2)\n"
   ]
  },
  {
   "cell_type": "code",
   "execution_count": 31,
   "metadata": {},
   "outputs": [
    {
     "name": "stdout",
     "output_type": "stream",
     "text": [
      "pIst=9.400 dp=0.000 k=0.9062 (dk=0.0078)\n"
     ]
    }
   ],
   "source": [
    "fDetRau()"
   ]
  },
  {
   "cell_type": "markdown",
   "metadata": {},
   "source": [
    "# Example using pnh"
   ]
  },
  {
   "cell_type": "markdown",
   "metadata": {},
   "source": [
    "## installation"
   ]
  },
  {
   "cell_type": "code",
   "execution_count": 32,
   "metadata": {},
   "outputs": [
    {
     "name": "stdout",
     "output_type": "stream",
     "text": [
      "Requirement already satisfied: pnh in c:\\users\\wolters\\appdata\\local\\anaconda3\\lib\\site-packages (0.0.8)\n"
     ]
    }
   ],
   "source": [
    "!pip install -U pnh"
   ]
  },
  {
   "cell_type": "code",
   "execution_count": 33,
   "metadata": {},
   "outputs": [],
   "source": [
    "try:\n",
    "    from pnh.utils.gen_model_from_nx import pp    \n",
    "except Exception as e:                 \n",
    "    from utils.gen_model_from_nx import pp"
   ]
  },
  {
   "cell_type": "code",
   "execution_count": 34,
   "metadata": {},
   "outputs": [],
   "source": [
    "try:\n",
    "    import pnh.utils.gen_model_from_nx as gen_model_from_nx    \n",
    "except Exception as e:                 \n",
    "    import utils.gen_model_from_nx as gen_model_from_nx"
   ]
  },
  {
   "cell_type": "code",
   "execution_count": 35,
   "metadata": {},
   "outputs": [],
   "source": [
    "import importlib"
   ]
  },
  {
   "cell_type": "code",
   "execution_count": 36,
   "metadata": {},
   "outputs": [],
   "source": [
    "#importlib.reload(gen_model_from_nx)\n",
    "# should be \\\\AppData\\\\Local\\\\anaconda3\\\\Lib\\\\site-packages..."
   ]
  },
  {
   "cell_type": "code",
   "execution_count": 37,
   "metadata": {},
   "outputs": [
    {
     "data": {
      "text/plain": [
       "<networkx.classes.graph.Graph at 0x24f2f9fb0d0>"
      ]
     },
     "execution_count": 37,
     "metadata": {},
     "output_type": "execute_result"
    }
   ],
   "source": [
    "m.G"
   ]
  },
  {
   "cell_type": "markdown",
   "metadata": {},
   "source": [
    "## generating pp model"
   ]
  },
  {
   "cell_type": "code",
   "execution_count": 38,
   "metadata": {},
   "outputs": [],
   "source": [
    "m.G.nodes['j1'].update({'extPressure':m.G.nodes['j1']['PH']})"
   ]
  },
  {
   "cell_type": "code",
   "execution_count": 39,
   "metadata": {},
   "outputs": [],
   "source": [
    "m.G.nodes['j2'].update({'extFlow':m.G.nodes['j2']['M']})"
   ]
  },
  {
   "cell_type": "code",
   "execution_count": 40,
   "metadata": {},
   "outputs": [],
   "source": [
    "ppn=pp(m.G\n",
    "       ,fluid='water' \n",
    "       ,TNet=273.15+m.G.nodes['j1']['T']\n",
    "       ,pNet=m.G.nodes['j1']['PH']      \n",
    "       ,z='ZKOR'\n",
    "       ,diameter='DI'\n",
    "       ,k='RAU'\n",
    ")"
   ]
  },
  {
   "cell_type": "code",
   "execution_count": 41,
   "metadata": {},
   "outputs": [],
   "source": [
    "pandapipes.pipeflow(ppn,friction_model='colebrook')"
   ]
  },
  {
   "cell_type": "markdown",
   "metadata": {},
   "source": [
    "## generation pp model with heat transfer"
   ]
  },
  {
   "cell_type": "code",
   "execution_count": 42,
   "metadata": {},
   "outputs": [],
   "source": [
    "m.G['j1']['j2'].update({'alpha':0.494,'Ta':273.15+10.})"
   ]
  },
  {
   "cell_type": "code",
   "execution_count": 43,
   "metadata": {},
   "outputs": [],
   "source": [
    "m.G.nodes['j1'].update({'inletTemperature':273.15+90.})"
   ]
  },
  {
   "cell_type": "code",
   "execution_count": 44,
   "metadata": {},
   "outputs": [],
   "source": [
    "ppn=pp(m.G\n",
    "       ,fluid='water' \n",
    "       ,TNet=273.15+m.G.nodes['j1']['T']\n",
    "       ,pNet=m.G.nodes['j1']['PH']            \n",
    "       ,z='ZKOR'\n",
    "       ,diameter='DI'\n",
    "       ,k='RAU'\n",
    ")"
   ]
  },
  {
   "cell_type": "code",
   "execution_count": 45,
   "metadata": {},
   "outputs": [],
   "source": [
    "pandapipes.pipeflow(ppn,friction_model='colebrook',mode='bidirectional'\n",
    "                    ,tol_p=1.e-5,tol_res=1.e-4\n",
    ")"
   ]
  },
  {
   "cell_type": "markdown",
   "metadata": {},
   "source": [
    "### compare results"
   ]
  },
  {
   "cell_type": "code",
   "execution_count": 46,
   "metadata": {},
   "outputs": [],
   "source": [
    "#                                                                    from gen_model_from_nx.pp\n",
    "m.V3_KNOT['ppID']=m.V3_KNOT.apply(lambda row: m.G.nodes[row['NAME']]['ID'],axis=1)\n",
    "#                                                                                    from gen_model_from_nx.pp\n",
    "m.V3_ROHR['ppID']=m.V3_ROHR.apply(lambda row: m.G.edges[row['NAME_i'],row['NAME_k']]['ID'],axis=1)"
   ]
  },
  {
   "cell_type": "code",
   "execution_count": 47,
   "metadata": {},
   "outputs": [],
   "source": [
    "dfCmpJunctions=pd.merge(m.V3_KNOT,ppn.res_junction,left_on='ppID',right_index=True)\n",
    "dfCmpPipes=pd.merge(m.V3_ROHR,ppn.res_pipe,left_on='ppID',right_index=True)\n",
    "\n",
    "dfCmpJunctions['t_C']=dfCmpJunctions['t_k']-273.15\n",
    "dfCmpPipes['t_from_C']=dfCmpPipes['t_from_k']-273.15\n",
    "dfCmpPipes['t_to_C']=dfCmpPipes['t_to_k']-273.15"
   ]
  },
  {
   "cell_type": "code",
   "execution_count": 48,
   "metadata": {},
   "outputs": [
    {
     "data": {
      "text/html": [
       "<style type=\"text/css\">\n",
       "#T_568a4_row0_col2, #T_568a4_row0_col4, #T_568a4_row1_col2, #T_568a4_row1_col4 {\n",
       "  color: green;\n",
       "}\n",
       "</style>\n",
       "<table id=\"T_568a4\">\n",
       "  <caption>SIR 3S vs. pp: Junctions</caption>\n",
       "  <thead>\n",
       "    <tr>\n",
       "      <th class=\"blank level0\" >&nbsp;</th>\n",
       "      <th id=\"T_568a4_level0_col0\" class=\"col_heading level0 col0\" >NAME</th>\n",
       "      <th id=\"T_568a4_level0_col1\" class=\"col_heading level0 col1\" >PH</th>\n",
       "      <th id=\"T_568a4_level0_col2\" class=\"col_heading level0 col2\" >p_bar</th>\n",
       "      <th id=\"T_568a4_level0_col3\" class=\"col_heading level0 col3\" >T</th>\n",
       "      <th id=\"T_568a4_level0_col4\" class=\"col_heading level0 col4\" >t_k</th>\n",
       "      <th id=\"T_568a4_level0_col5\" class=\"col_heading level0 col5\" >t_C</th>\n",
       "    </tr>\n",
       "  </thead>\n",
       "  <tbody>\n",
       "    <tr>\n",
       "      <th id=\"T_568a4_level0_row0\" class=\"row_heading level0 row0\" >3</th>\n",
       "      <td id=\"T_568a4_row0_col0\" class=\"data row0 col0\" >j1</td>\n",
       "      <td id=\"T_568a4_row0_col1\" class=\"data row0 col1\" >10.000</td>\n",
       "      <td id=\"T_568a4_row0_col2\" class=\"data row0 col2\" >10.000</td>\n",
       "      <td id=\"T_568a4_row0_col3\" class=\"data row0 col3\" >90.00</td>\n",
       "      <td id=\"T_568a4_row0_col4\" class=\"data row0 col4\" >363.15</td>\n",
       "      <td id=\"T_568a4_row0_col5\" class=\"data row0 col5\" >90.00</td>\n",
       "    </tr>\n",
       "    <tr>\n",
       "      <th id=\"T_568a4_level0_row1\" class=\"row_heading level0 row1\" >4</th>\n",
       "      <td id=\"T_568a4_row1_col0\" class=\"data row1 col0\" >j2</td>\n",
       "      <td id=\"T_568a4_row1_col1\" class=\"data row1 col1\" >9.579</td>\n",
       "      <td id=\"T_568a4_row1_col2\" class=\"data row1 col2\" >9.571</td>\n",
       "      <td id=\"T_568a4_row1_col3\" class=\"data row1 col3\" >89.66</td>\n",
       "      <td id=\"T_568a4_row1_col4\" class=\"data row1 col4\" >362.81</td>\n",
       "      <td id=\"T_568a4_row1_col5\" class=\"data row1 col5\" >89.66</td>\n",
       "    </tr>\n",
       "  </tbody>\n",
       "</table>\n"
      ],
      "text/plain": [
       "<pandas.io.formats.style.Styler at 0x24f3a233c10>"
      ]
     },
     "execution_count": 48,
     "metadata": {},
     "output_type": "execute_result"
    }
   ],
   "source": [
    "dfCmpJunctions[['NAME','PH','p_bar','T','t_k','t_C']].style.pipe(stylerJunctions)"
   ]
  },
  {
   "cell_type": "code",
   "execution_count": 49,
   "metadata": {},
   "outputs": [
    {
     "data": {
      "text/html": [
       "<style type=\"text/css\">\n",
       "#T_f6641_row0_col4, #T_f6641_row0_col6 {\n",
       "  color: green;\n",
       "}\n",
       "</style>\n",
       "<table id=\"T_f6641\">\n",
       "  <caption>SIR 3S vs. pp: Pipes</caption>\n",
       "  <thead>\n",
       "    <tr>\n",
       "      <th class=\"blank level0\" >&nbsp;</th>\n",
       "      <th id=\"T_f6641_level0_col0\" class=\"col_heading level0 col0\" >NAME_i</th>\n",
       "      <th id=\"T_f6641_level0_col1\" class=\"col_heading level0 col1\" >NAME_k</th>\n",
       "      <th id=\"T_f6641_level0_col2\" class=\"col_heading level0 col2\" >QMAVAbs</th>\n",
       "      <th id=\"T_f6641_level0_col3\" class=\"col_heading level0 col3\" >MAV</th>\n",
       "      <th id=\"T_f6641_level0_col4\" class=\"col_heading level0 col4\" >mdot_from_kg_per_s</th>\n",
       "      <th id=\"T_f6641_level0_col5\" class=\"col_heading level0 col5\" >LAMBDA</th>\n",
       "      <th id=\"T_f6641_level0_col6\" class=\"col_heading level0 col6\" >lambda</th>\n",
       "      <th id=\"T_f6641_level0_col7\" class=\"col_heading level0 col7\" >reynolds</th>\n",
       "    </tr>\n",
       "  </thead>\n",
       "  <tbody>\n",
       "    <tr>\n",
       "      <th id=\"T_f6641_level0_row0\" class=\"row_heading level0 row0\" >0</th>\n",
       "      <td id=\"T_f6641_row0_col0\" class=\"data row0 col0\" >j1</td>\n",
       "      <td id=\"T_f6641_row0_col1\" class=\"data row0 col1\" >j2</td>\n",
       "      <td id=\"T_f6641_row0_col2\" class=\"data row0 col2\" >100.00</td>\n",
       "      <td id=\"T_f6641_row0_col3\" class=\"data row0 col3\" >27.78</td>\n",
       "      <td id=\"T_f6641_row0_col4\" class=\"data row0 col4\" >27.78</td>\n",
       "      <td id=\"T_f6641_row0_col5\" class=\"data row0 col5\" >0.02120</td>\n",
       "      <td id=\"T_f6641_row0_col6\" class=\"data row0 col6\" >0.02119</td>\n",
       "      <td id=\"T_f6641_row0_col7\" class=\"data row0 col7\" >561273</td>\n",
       "    </tr>\n",
       "  </tbody>\n",
       "</table>\n"
      ],
      "text/plain": [
       "<pandas.io.formats.style.Styler at 0x24f3a008490>"
      ]
     },
     "execution_count": 49,
     "metadata": {},
     "output_type": "execute_result"
    }
   ],
   "source": [
    "dfCmpPipes[['NAME_i','NAME_k','QMAVAbs','MAV', 'mdot_from_kg_per_s','LAMBDA','lambda','reynolds']].style.pipe(stylerPipes)"
   ]
  },
  {
   "cell_type": "markdown",
   "metadata": {},
   "source": [
    "### experiment: set D to SIR 3S' VAV "
   ]
  },
  {
   "cell_type": "markdown",
   "metadata": {},
   "source": [
    "$$\n",
    "\\overline{D} = \\sqrt{\\frac{4}{\\pi} \\, \\frac{m}{\\rho} \\, \\frac{1}{\\overline{v}}}\n",
    "$$"
   ]
  },
  {
   "cell_type": "code",
   "execution_count": 50,
   "metadata": {},
   "outputs": [],
   "source": [
    "v_=m.V3_ROHR['VAVAbs'].iloc[0]"
   ]
  },
  {
   "cell_type": "code",
   "execution_count": 51,
   "metadata": {},
   "outputs": [
    {
     "data": {
      "text/plain": [
       "0.8995376825332642"
      ]
     },
     "execution_count": 51,
     "metadata": {},
     "output_type": "execute_result"
    }
   ],
   "source": [
    "v_"
   ]
  },
  {
   "cell_type": "code",
   "execution_count": 52,
   "metadata": {},
   "outputs": [],
   "source": [
    "D_=math.sqrt(4/math.pi*1/v_*math.fabs(m.G.nodes['j2']['M'])/(m.G.edges['j1','j2']['RHO_i']))*1000"
   ]
  },
  {
   "cell_type": "code",
   "execution_count": 53,
   "metadata": {},
   "outputs": [
    {
     "data": {
      "text/plain": [
       "201.82988634654708"
      ]
     },
     "execution_count": 53,
     "metadata": {},
     "output_type": "execute_result"
    }
   ],
   "source": [
    "D_"
   ]
  },
  {
   "cell_type": "code",
   "execution_count": 54,
   "metadata": {},
   "outputs": [],
   "source": [
    "m.G.edges['j1','j2']['D_']=D_"
   ]
  },
  {
   "cell_type": "code",
   "execution_count": 55,
   "metadata": {},
   "outputs": [],
   "source": [
    "ppn=pp(m.G\n",
    "       ,fluid='water' \n",
    "       ,TNet=273.15+m.G.nodes['j1']['T']\n",
    "       ,pNet=m.G.nodes['j1']['PH']            \n",
    "       ,z='ZKOR'\n",
    "       ,diameter='D_'\n",
    "       ,k='RAU'\n",
    ")"
   ]
  },
  {
   "cell_type": "code",
   "execution_count": 56,
   "metadata": {},
   "outputs": [],
   "source": [
    "pandapipes.pipeflow(ppn,friction_model='colebrook',mode='bidirectional')"
   ]
  },
  {
   "cell_type": "code",
   "execution_count": 57,
   "metadata": {},
   "outputs": [],
   "source": [
    "dfCmpJunctions=pd.merge(m.V3_KNOT,ppn.res_junction,left_on='ppID',right_index=True)\n",
    "dfCmpPipes=pd.merge(m.V3_ROHR,ppn.res_pipe,left_on='ppID',right_index=True)\n",
    "\n",
    "dfCmpJunctions['t_C']=dfCmpJunctions['t_k']-273.15\n",
    "dfCmpPipes['t_from_C']=dfCmpPipes['t_from_k']-273.15\n",
    "dfCmpPipes['t_to_C']=dfCmpPipes['t_to_k']-273.15"
   ]
  },
  {
   "cell_type": "code",
   "execution_count": 58,
   "metadata": {},
   "outputs": [
    {
     "data": {
      "text/html": [
       "<style type=\"text/css\">\n",
       "#T_41e98_row0_col2, #T_41e98_row0_col4, #T_41e98_row1_col4 {\n",
       "  color: green;\n",
       "}\n",
       "#T_41e98_row1_col2 {\n",
       "  color: red;\n",
       "}\n",
       "</style>\n",
       "<table id=\"T_41e98\">\n",
       "  <caption>SIR 3S vs. pp: Junctions</caption>\n",
       "  <thead>\n",
       "    <tr>\n",
       "      <th class=\"blank level0\" >&nbsp;</th>\n",
       "      <th id=\"T_41e98_level0_col0\" class=\"col_heading level0 col0\" >NAME</th>\n",
       "      <th id=\"T_41e98_level0_col1\" class=\"col_heading level0 col1\" >PH</th>\n",
       "      <th id=\"T_41e98_level0_col2\" class=\"col_heading level0 col2\" >p_bar</th>\n",
       "      <th id=\"T_41e98_level0_col3\" class=\"col_heading level0 col3\" >T</th>\n",
       "      <th id=\"T_41e98_level0_col4\" class=\"col_heading level0 col4\" >t_k</th>\n",
       "      <th id=\"T_41e98_level0_col5\" class=\"col_heading level0 col5\" >t_C</th>\n",
       "    </tr>\n",
       "  </thead>\n",
       "  <tbody>\n",
       "    <tr>\n",
       "      <th id=\"T_41e98_level0_row0\" class=\"row_heading level0 row0\" >3</th>\n",
       "      <td id=\"T_41e98_row0_col0\" class=\"data row0 col0\" >j1</td>\n",
       "      <td id=\"T_41e98_row0_col1\" class=\"data row0 col1\" >10.000</td>\n",
       "      <td id=\"T_41e98_row0_col2\" class=\"data row0 col2\" >10.000</td>\n",
       "      <td id=\"T_41e98_row0_col3\" class=\"data row0 col3\" >90.00</td>\n",
       "      <td id=\"T_41e98_row0_col4\" class=\"data row0 col4\" >363.15</td>\n",
       "      <td id=\"T_41e98_row0_col5\" class=\"data row0 col5\" >90.00</td>\n",
       "    </tr>\n",
       "    <tr>\n",
       "      <th id=\"T_41e98_level0_row1\" class=\"row_heading level0 row1\" >4</th>\n",
       "      <td id=\"T_41e98_row1_col0\" class=\"data row1 col0\" >j2</td>\n",
       "      <td id=\"T_41e98_row1_col1\" class=\"data row1 col1\" >9.579</td>\n",
       "      <td id=\"T_41e98_row1_col2\" class=\"data row1 col2\" >9.591</td>\n",
       "      <td id=\"T_41e98_row1_col3\" class=\"data row1 col3\" >89.66</td>\n",
       "      <td id=\"T_41e98_row1_col4\" class=\"data row1 col4\" >362.81</td>\n",
       "      <td id=\"T_41e98_row1_col5\" class=\"data row1 col5\" >89.66</td>\n",
       "    </tr>\n",
       "  </tbody>\n",
       "</table>\n"
      ],
      "text/plain": [
       "<pandas.io.formats.style.Styler at 0x24f3a34b410>"
      ]
     },
     "execution_count": 58,
     "metadata": {},
     "output_type": "execute_result"
    }
   ],
   "source": [
    "dfCmpJunctions[['NAME','PH','p_bar','T','t_k','t_C']].style.pipe(stylerJunctions)"
   ]
  },
  {
   "cell_type": "code",
   "execution_count": 59,
   "metadata": {},
   "outputs": [
    {
     "data": {
      "text/html": [
       "<style type=\"text/css\">\n",
       "#T_f53b5_row0_col4 {\n",
       "  color: green;\n",
       "}\n",
       "#T_f53b5_row0_col6 {\n",
       "  color: red;\n",
       "}\n",
       "</style>\n",
       "<table id=\"T_f53b5\">\n",
       "  <caption>SIR 3S vs. pp: Pipes</caption>\n",
       "  <thead>\n",
       "    <tr>\n",
       "      <th class=\"blank level0\" >&nbsp;</th>\n",
       "      <th id=\"T_f53b5_level0_col0\" class=\"col_heading level0 col0\" >NAME_i</th>\n",
       "      <th id=\"T_f53b5_level0_col1\" class=\"col_heading level0 col1\" >NAME_k</th>\n",
       "      <th id=\"T_f53b5_level0_col2\" class=\"col_heading level0 col2\" >QMAVAbs</th>\n",
       "      <th id=\"T_f53b5_level0_col3\" class=\"col_heading level0 col3\" >MAV</th>\n",
       "      <th id=\"T_f53b5_level0_col4\" class=\"col_heading level0 col4\" >mdot_from_kg_per_s</th>\n",
       "      <th id=\"T_f53b5_level0_col5\" class=\"col_heading level0 col5\" >LAMBDA</th>\n",
       "      <th id=\"T_f53b5_level0_col6\" class=\"col_heading level0 col6\" >lambda</th>\n",
       "      <th id=\"T_f53b5_level0_col7\" class=\"col_heading level0 col7\" >reynolds</th>\n",
       "    </tr>\n",
       "  </thead>\n",
       "  <tbody>\n",
       "    <tr>\n",
       "      <th id=\"T_f53b5_level0_row0\" class=\"row_heading level0 row0\" >0</th>\n",
       "      <td id=\"T_f53b5_row0_col0\" class=\"data row0 col0\" >j1</td>\n",
       "      <td id=\"T_f53b5_row0_col1\" class=\"data row0 col1\" >j2</td>\n",
       "      <td id=\"T_f53b5_row0_col2\" class=\"data row0 col2\" >100.00</td>\n",
       "      <td id=\"T_f53b5_row0_col3\" class=\"data row0 col3\" >27.78</td>\n",
       "      <td id=\"T_f53b5_row0_col4\" class=\"data row0 col4\" >27.78</td>\n",
       "      <td id=\"T_f53b5_row0_col5\" class=\"data row0 col5\" >0.02120</td>\n",
       "      <td id=\"T_f53b5_row0_col6\" class=\"data row0 col6\" >0.02115</td>\n",
       "      <td id=\"T_f53b5_row0_col7\" class=\"data row0 col7\" >556184</td>\n",
       "    </tr>\n",
       "  </tbody>\n",
       "</table>\n"
      ],
      "text/plain": [
       "<pandas.io.formats.style.Styler at 0x24f3a5842d0>"
      ]
     },
     "execution_count": 59,
     "metadata": {},
     "output_type": "execute_result"
    }
   ],
   "source": [
    "dfCmpPipes[['NAME_i','NAME_k','QMAVAbs','MAV', 'mdot_from_kg_per_s','LAMBDA','lambda','reynolds']].style.pipe(stylerPipes)"
   ]
  },
  {
   "cell_type": "markdown",
   "metadata": {},
   "source": [
    "## determining roughness due to required friction pressure loss"
   ]
  },
  {
   "cell_type": "code",
   "execution_count": 60,
   "metadata": {},
   "outputs": [],
   "source": [
    "try:\n",
    "    from pnh.utils.calc_k_from_dp import pp as ppk    \n",
    "except Exception as e:                 \n",
    "    from utils.calc_k_from_dp import pp as ppk"
   ]
  },
  {
   "cell_type": "markdown",
   "metadata": {},
   "source": [
    "### 1-pipe, 2-nodes network"
   ]
  },
  {
   "cell_type": "code",
   "execution_count": 61,
   "metadata": {},
   "outputs": [],
   "source": [
    "ppn=pp(m.G\n",
    "       ,fluid='water' \n",
    "       ,TNet=273.15+m.G.nodes['j1']['T']\n",
    "       ,pNet=m.G.nodes['j1']['PH']            \n",
    "       ,z='ZKOR'\n",
    "       ,diameter='DI'\n",
    "       ,k='RAU'\n",
    ")"
   ]
  },
  {
   "cell_type": "markdown",
   "metadata": {},
   "source": [
    "### calculate with pp"
   ]
  },
  {
   "cell_type": "code",
   "execution_count": 62,
   "metadata": {},
   "outputs": [],
   "source": [
    "pandapipes.pipeflow(ppn,friction_model='colebrook',mode='bidirectional')"
   ]
  },
  {
   "cell_type": "code",
   "execution_count": 63,
   "metadata": {},
   "outputs": [],
   "source": [
    "dfCmpJunctions=pd.merge(m.V3_KNOT,ppn.res_junction,left_on='ppID',right_index=True)\n",
    "dfCmpPipes=pd.merge(m.V3_ROHR,ppn.res_pipe,left_on='ppID',right_index=True)\n",
    "\n",
    "dfCmpJunctions['t_C']=dfCmpJunctions['t_k']-273.15\n",
    "dfCmpPipes['t_from_C']=dfCmpPipes['t_from_k']-273.15\n",
    "dfCmpPipes['t_to_C']=dfCmpPipes['t_to_k']-273.15"
   ]
  },
  {
   "cell_type": "code",
   "execution_count": 64,
   "metadata": {},
   "outputs": [
    {
     "data": {
      "text/html": [
       "<style type=\"text/css\">\n",
       "#T_100e1_row0_col2, #T_100e1_row0_col4, #T_100e1_row1_col2, #T_100e1_row1_col4 {\n",
       "  color: green;\n",
       "}\n",
       "</style>\n",
       "<table id=\"T_100e1\">\n",
       "  <caption>SIR 3S vs. pp: Junctions</caption>\n",
       "  <thead>\n",
       "    <tr>\n",
       "      <th class=\"blank level0\" >&nbsp;</th>\n",
       "      <th id=\"T_100e1_level0_col0\" class=\"col_heading level0 col0\" >NAME</th>\n",
       "      <th id=\"T_100e1_level0_col1\" class=\"col_heading level0 col1\" >PH</th>\n",
       "      <th id=\"T_100e1_level0_col2\" class=\"col_heading level0 col2\" >p_bar</th>\n",
       "      <th id=\"T_100e1_level0_col3\" class=\"col_heading level0 col3\" >T</th>\n",
       "      <th id=\"T_100e1_level0_col4\" class=\"col_heading level0 col4\" >t_k</th>\n",
       "      <th id=\"T_100e1_level0_col5\" class=\"col_heading level0 col5\" >t_C</th>\n",
       "    </tr>\n",
       "  </thead>\n",
       "  <tbody>\n",
       "    <tr>\n",
       "      <th id=\"T_100e1_level0_row0\" class=\"row_heading level0 row0\" >3</th>\n",
       "      <td id=\"T_100e1_row0_col0\" class=\"data row0 col0\" >j1</td>\n",
       "      <td id=\"T_100e1_row0_col1\" class=\"data row0 col1\" >10.000</td>\n",
       "      <td id=\"T_100e1_row0_col2\" class=\"data row0 col2\" >10.000</td>\n",
       "      <td id=\"T_100e1_row0_col3\" class=\"data row0 col3\" >90.00</td>\n",
       "      <td id=\"T_100e1_row0_col4\" class=\"data row0 col4\" >363.15</td>\n",
       "      <td id=\"T_100e1_row0_col5\" class=\"data row0 col5\" >90.00</td>\n",
       "    </tr>\n",
       "    <tr>\n",
       "      <th id=\"T_100e1_level0_row1\" class=\"row_heading level0 row1\" >4</th>\n",
       "      <td id=\"T_100e1_row1_col0\" class=\"data row1 col0\" >j2</td>\n",
       "      <td id=\"T_100e1_row1_col1\" class=\"data row1 col1\" >9.579</td>\n",
       "      <td id=\"T_100e1_row1_col2\" class=\"data row1 col2\" >9.571</td>\n",
       "      <td id=\"T_100e1_row1_col3\" class=\"data row1 col3\" >89.66</td>\n",
       "      <td id=\"T_100e1_row1_col4\" class=\"data row1 col4\" >362.81</td>\n",
       "      <td id=\"T_100e1_row1_col5\" class=\"data row1 col5\" >89.66</td>\n",
       "    </tr>\n",
       "  </tbody>\n",
       "</table>\n"
      ],
      "text/plain": [
       "<pandas.io.formats.style.Styler at 0x24f39fd1ad0>"
      ]
     },
     "execution_count": 64,
     "metadata": {},
     "output_type": "execute_result"
    }
   ],
   "source": [
    "dfCmpJunctions[['NAME','PH','p_bar','T','t_k','t_C']].style.pipe(stylerJunctions)"
   ]
  },
  {
   "cell_type": "code",
   "execution_count": 65,
   "metadata": {},
   "outputs": [
    {
     "data": {
      "text/html": [
       "<style type=\"text/css\">\n",
       "#T_567c0_row0_col4, #T_567c0_row0_col6 {\n",
       "  color: green;\n",
       "}\n",
       "</style>\n",
       "<table id=\"T_567c0\">\n",
       "  <caption>SIR 3S vs. pp: Pipes</caption>\n",
       "  <thead>\n",
       "    <tr>\n",
       "      <th class=\"blank level0\" >&nbsp;</th>\n",
       "      <th id=\"T_567c0_level0_col0\" class=\"col_heading level0 col0\" >NAME_i</th>\n",
       "      <th id=\"T_567c0_level0_col1\" class=\"col_heading level0 col1\" >NAME_k</th>\n",
       "      <th id=\"T_567c0_level0_col2\" class=\"col_heading level0 col2\" >QMAVAbs</th>\n",
       "      <th id=\"T_567c0_level0_col3\" class=\"col_heading level0 col3\" >MAV</th>\n",
       "      <th id=\"T_567c0_level0_col4\" class=\"col_heading level0 col4\" >mdot_from_kg_per_s</th>\n",
       "      <th id=\"T_567c0_level0_col5\" class=\"col_heading level0 col5\" >LAMBDA</th>\n",
       "      <th id=\"T_567c0_level0_col6\" class=\"col_heading level0 col6\" >lambda</th>\n",
       "      <th id=\"T_567c0_level0_col7\" class=\"col_heading level0 col7\" >reynolds</th>\n",
       "    </tr>\n",
       "  </thead>\n",
       "  <tbody>\n",
       "    <tr>\n",
       "      <th id=\"T_567c0_level0_row0\" class=\"row_heading level0 row0\" >0</th>\n",
       "      <td id=\"T_567c0_row0_col0\" class=\"data row0 col0\" >j1</td>\n",
       "      <td id=\"T_567c0_row0_col1\" class=\"data row0 col1\" >j2</td>\n",
       "      <td id=\"T_567c0_row0_col2\" class=\"data row0 col2\" >100.00</td>\n",
       "      <td id=\"T_567c0_row0_col3\" class=\"data row0 col3\" >27.78</td>\n",
       "      <td id=\"T_567c0_row0_col4\" class=\"data row0 col4\" >27.78</td>\n",
       "      <td id=\"T_567c0_row0_col5\" class=\"data row0 col5\" >0.02120</td>\n",
       "      <td id=\"T_567c0_row0_col6\" class=\"data row0 col6\" >0.02119</td>\n",
       "      <td id=\"T_567c0_row0_col7\" class=\"data row0 col7\" >561273</td>\n",
       "    </tr>\n",
       "  </tbody>\n",
       "</table>\n"
      ],
      "text/plain": [
       "<pandas.io.formats.style.Styler at 0x24f39de42d0>"
      ]
     },
     "execution_count": 65,
     "metadata": {},
     "output_type": "execute_result"
    }
   ],
   "source": [
    "dfCmpPipes[['NAME_i','NAME_k','QMAVAbs','MAV', 'mdot_from_kg_per_s','LAMBDA','lambda','reynolds']].style.pipe(stylerPipes)"
   ]
  },
  {
   "cell_type": "markdown",
   "metadata": {},
   "source": [
    "### required friction loss"
   ]
  },
  {
   "cell_type": "code",
   "execution_count": 66,
   "metadata": {},
   "outputs": [],
   "source": [
    "m.G.edges['j1','j2'].update({'dpFL_SP':0.7})"
   ]
  },
  {
   "cell_type": "markdown",
   "metadata": {},
   "source": [
    "### calculate roughness"
   ]
  },
  {
   "cell_type": "code",
   "execution_count": 67,
   "metadata": {},
   "outputs": [
    {
     "data": {
      "text/plain": [
       "1.5"
      ]
     },
     "execution_count": 67,
     "metadata": {},
     "output_type": "execute_result"
    }
   ],
   "source": [
    "ppk(m.G,ppn)\n",
    "m.G.edges['j1','j2']['k_MV']\n"
   ]
  },
  {
   "cell_type": "markdown",
   "metadata": {},
   "source": [
    "### control: set roughness to calculated roughness"
   ]
  },
  {
   "cell_type": "code",
   "execution_count": 68,
   "metadata": {},
   "outputs": [],
   "source": [
    "m.G.edges['j1','j2'].update({'RAU_':m.G.edges['j1','j2']['k_MV']})"
   ]
  },
  {
   "cell_type": "code",
   "execution_count": 69,
   "metadata": {},
   "outputs": [],
   "source": [
    "ppn=pp(m.G\n",
    "       ,fluid='water' \n",
    "       ,TNet=273.15+m.G.nodes['j1']['T']\n",
    "       ,pNet=m.G.nodes['j1']['PH']            \n",
    "       ,z='ZKOR'\n",
    "       ,diameter='DI'\n",
    "       ,k='RAU_'\n",
    ")"
   ]
  },
  {
   "cell_type": "code",
   "execution_count": 70,
   "metadata": {},
   "outputs": [],
   "source": [
    "pandapipes.pipeflow(ppn,friction_model='colebrook',mode='bidirectional')"
   ]
  },
  {
   "cell_type": "code",
   "execution_count": 71,
   "metadata": {},
   "outputs": [
    {
     "data": {
      "application/vnd.microsoft.datawrangler.viewer.v0+json": {
       "columns": [
        {
         "name": "index",
         "rawType": "int64",
         "type": "integer"
        },
        {
         "name": "p_bar",
         "rawType": "float64",
         "type": "float"
        },
        {
         "name": "t_k",
         "rawType": "float64",
         "type": "float"
        }
       ],
       "conversionMethod": "pd.DataFrame",
       "ref": "a254bdc5-d48a-410a-be36-5924ef6b8ac8",
       "rows": [
        [
         "0",
         "10.0",
         "363.15"
        ],
        [
         "1",
         "9.30005285136362",
         "362.81239666142903"
        ]
       ],
       "shape": {
        "columns": 2,
        "rows": 2
       }
      },
      "text/html": [
       "<div>\n",
       "<style scoped>\n",
       "    .dataframe tbody tr th:only-of-type {\n",
       "        vertical-align: middle;\n",
       "    }\n",
       "\n",
       "    .dataframe tbody tr th {\n",
       "        vertical-align: top;\n",
       "    }\n",
       "\n",
       "    .dataframe thead th {\n",
       "        text-align: right;\n",
       "    }\n",
       "</style>\n",
       "<table border=\"1\" class=\"dataframe\">\n",
       "  <thead>\n",
       "    <tr style=\"text-align: right;\">\n",
       "      <th></th>\n",
       "      <th>p_bar</th>\n",
       "      <th>t_k</th>\n",
       "    </tr>\n",
       "  </thead>\n",
       "  <tbody>\n",
       "    <tr>\n",
       "      <th>0</th>\n",
       "      <td>10.000000</td>\n",
       "      <td>363.150000</td>\n",
       "    </tr>\n",
       "    <tr>\n",
       "      <th>1</th>\n",
       "      <td>9.300053</td>\n",
       "      <td>362.812397</td>\n",
       "    </tr>\n",
       "  </tbody>\n",
       "</table>\n",
       "</div>"
      ],
      "text/plain": [
       "       p_bar         t_k\n",
       "0  10.000000  363.150000\n",
       "1   9.300053  362.812397"
      ]
     },
     "execution_count": 71,
     "metadata": {},
     "output_type": "execute_result"
    }
   ],
   "source": [
    "ppn.res_junction"
   ]
  },
  {
   "cell_type": "markdown",
   "metadata": {},
   "source": [
    "### required friction loss lower"
   ]
  },
  {
   "cell_type": "code",
   "execution_count": 72,
   "metadata": {},
   "outputs": [
    {
     "data": {
      "text/plain": [
       "0.4688125000000001"
      ]
     },
     "execution_count": 72,
     "metadata": {},
     "output_type": "execute_result"
    }
   ],
   "source": [
    "m.G.edges['j1','j2'].update({'dpFL_SP':0.5})\n",
    "ppk(m.G,ppn)\n",
    "m.G.edges['j1','j2']['k_MV']"
   ]
  },
  {
   "cell_type": "code",
   "execution_count": 73,
   "metadata": {},
   "outputs": [
    {
     "data": {
      "text/plain": [
       "0.001"
      ]
     },
     "execution_count": 73,
     "metadata": {},
     "output_type": "execute_result"
    }
   ],
   "source": [
    "m.G.edges['j1','j2'].update({'dpFL_SP':0.1})\n",
    "ppk(m.G,ppn)\n",
    "m.G.edges['j1','j2']['k_MV']"
   ]
  },
  {
   "cell_type": "code",
   "execution_count": 74,
   "metadata": {},
   "outputs": [
    {
     "data": {
      "text/plain": [
       "0.002"
      ]
     },
     "execution_count": 74,
     "metadata": {},
     "output_type": "execute_result"
    }
   ],
   "source": [
    "ppk(m.G,ppn,k_min=0.002)\n",
    "m.G.edges['j1','j2']['k_MV']"
   ]
  },
  {
   "cell_type": "code",
   "execution_count": 75,
   "metadata": {},
   "outputs": [],
   "source": [
    "m.G.edges['j1','j2'].update({'RAU_':m.G.edges['j1','j2']['k_MV']})"
   ]
  },
  {
   "cell_type": "code",
   "execution_count": 76,
   "metadata": {},
   "outputs": [],
   "source": [
    "ppn=pp(m.G\n",
    "       ,fluid='water' \n",
    "       ,TNet=273.15+m.G.nodes['j1']['T']\n",
    "       ,pNet=m.G.nodes['j1']['PH']            \n",
    "       ,z='ZKOR'\n",
    "       ,diameter='DI'\n",
    "       ,k='RAU_'\n",
    ")"
   ]
  },
  {
   "cell_type": "code",
   "execution_count": 77,
   "metadata": {},
   "outputs": [],
   "source": [
    "pandapipes.pipeflow(ppn,friction_model='colebrook',mode='bidirectional')"
   ]
  },
  {
   "cell_type": "code",
   "execution_count": 78,
   "metadata": {},
   "outputs": [
    {
     "data": {
      "application/vnd.microsoft.datawrangler.viewer.v0+json": {
       "columns": [
        {
         "name": "index",
         "rawType": "int64",
         "type": "integer"
        },
        {
         "name": "p_bar",
         "rawType": "float64",
         "type": "float"
        },
        {
         "name": "t_k",
         "rawType": "float64",
         "type": "float"
        }
       ],
       "conversionMethod": "pd.DataFrame",
       "ref": "2dc1cb25-17dd-4df3-81e8-dc6d68e9be58",
       "rows": [
        [
         "0",
         "10.0",
         "363.15"
        ],
        [
         "1",
         "9.735941081342325",
         "362.81239666142903"
        ]
       ],
       "shape": {
        "columns": 2,
        "rows": 2
       }
      },
      "text/html": [
       "<div>\n",
       "<style scoped>\n",
       "    .dataframe tbody tr th:only-of-type {\n",
       "        vertical-align: middle;\n",
       "    }\n",
       "\n",
       "    .dataframe tbody tr th {\n",
       "        vertical-align: top;\n",
       "    }\n",
       "\n",
       "    .dataframe thead th {\n",
       "        text-align: right;\n",
       "    }\n",
       "</style>\n",
       "<table border=\"1\" class=\"dataframe\">\n",
       "  <thead>\n",
       "    <tr style=\"text-align: right;\">\n",
       "      <th></th>\n",
       "      <th>p_bar</th>\n",
       "      <th>t_k</th>\n",
       "    </tr>\n",
       "  </thead>\n",
       "  <tbody>\n",
       "    <tr>\n",
       "      <th>0</th>\n",
       "      <td>10.000000</td>\n",
       "      <td>363.150000</td>\n",
       "    </tr>\n",
       "    <tr>\n",
       "      <th>1</th>\n",
       "      <td>9.735941</td>\n",
       "      <td>362.812397</td>\n",
       "    </tr>\n",
       "  </tbody>\n",
       "</table>\n",
       "</div>"
      ],
      "text/plain": [
       "       p_bar         t_k\n",
       "0  10.000000  363.150000\n",
       "1   9.735941  362.812397"
      ]
     },
     "execution_count": 78,
     "metadata": {},
     "output_type": "execute_result"
    }
   ],
   "source": [
    "ppn.res_junction"
   ]
  },
  {
   "cell_type": "code",
   "execution_count": null,
   "metadata": {},
   "outputs": [],
   "source": []
  },
  {
   "cell_type": "markdown",
   "metadata": {},
   "source": [
    "# determining SIR 3S's roughness due to required friction pressure loss"
   ]
  },
  {
   "cell_type": "code",
   "execution_count": 79,
   "metadata": {},
   "outputs": [],
   "source": [
    "import shutil\n",
    "import xml.etree.ElementTree as ET\n",
    "import subprocess\n",
    "import re\n",
    "import sys\n",
    "import networkx\n",
    "\n",
    "logging.getLogger('PT3S').setLevel(logging.ERROR)\n",
    "\n",
    "try:\n",
    "    from PT3S import Mx\n",
    "except:\n",
    "    import Mx\n",
    "\n",
    "def sir3sk(\n",
    "    # 2-node, 1-pipe SIR 3S Model\n",
    "    dbFile=dbFile\n",
    "    # pipe-length in m\n",
    "   ,L=1000.\n",
    "    # DN in mm\n",
    "   ,DI=200.\n",
    "   ,DA=None \n",
    "   ,KT=None  # W/(mK)\n",
    "   # geodetic heights\n",
    "   ,zi=None ,zk=None\n",
    "   # inlet pressure in bar (== model unit); node i: PKON expected\n",
    "   ,pi=None \n",
    "\n",
    "   # inlet temperature in °C\n",
    "   ,Ti=90. \n",
    "   # outer temperature in °C\n",
    "   ,Ta=10. # not set in SIR 3S Model; should be SIR 3S Model outer temperature\n",
    "\n",
    "   # flow in model unit; node k: QKON expected\n",
    "   ,mk=None\n",
    "   # dp due to friction loss in bar \n",
    "   ,dp_SP=.5\n",
    "   ,dp_ER=0.001\n",
    "   ,dkSir3sStart=.01 # dk start iteration step for k calculation in SIR 3S in mm\n",
    "   ,k_min=0.001 # min. allowed k in mm\n",
    "):\n",
    "    \"\"\"\n",
    "    Calculates k to achieve dp_SP\n",
    "\n",
    "    Returns: k in mm\n",
    "    \"\"\"\n",
    "\n",
    "    logStr=f\"{sys._getframe().f_code.co_name}:\"\n",
    "\n",
    "    # read the model\n",
    "    m=dxAndMxHelperFcts.readDxAndMx(dbFile=dbFile\n",
    "    ,maxRecords=-1 \n",
    "    ,forceSir3sRead=True\n",
    "    )\n",
    "\n",
    "    SirCalcExe=r\"C:\\3S\\Sir3s\\SirCalc-90-14-02-12_Potsdam.fix1_x64\\SirCalc.exe\"\n",
    "    pOpenAr=[SirCalcExe \n",
    "       ,'/rstnSpezial'\n",
    "       ,'/InteraktRgMax1000'\n",
    "       ,'/InteraktThMax1000'\n",
    "       ,m.SirCalcXmlFile]\n",
    "\n",
    "    # read the model's Xml\n",
    "    tree = ET.parse(m.SirCalcXmlFile) # ElementTree                 \n",
    "    root = tree.getroot()  # Element\n",
    "    \n",
    "    # set parameter #######################################\n",
    "\n",
    "    pathStr = f\"./ROHR[@fkKI!='-1']\"\n",
    "    pipeEl=root.findall(pathStr)[0]\n",
    "\n",
    "    pathStr = f\"./DTRO_ROWD[@pk='{pipeEl.get('fkDTRO_ROWD')}']\"\n",
    "    DNEl=root.findall(pathStr)[0]\n",
    "\n",
    "    pathStr = f\"./KNOT[@pk='{pipeEl.get('fkKI')}']\"\n",
    "    nodeKiEl=root.findall(pathStr)[0]    \n",
    "    pathStr = f\"./KNOT_BZ[@fk='{nodeKiEl.get('pk')}']\"\n",
    "    nodeKiBzEl=root.findall(pathStr)[0]    \n",
    "\n",
    "    pathStr = f\"./KNOT[@pk='{pipeEl.get('fkKK')}']\"\n",
    "    nodeKkEl=root.findall(pathStr)[0]      \n",
    "    pathStr = f\"./KNOT_BZ[@fk='{nodeKkEl.get('pk')}']\"\n",
    "    nodeKkBzEl=root.findall(pathStr)[0]   \n",
    "\n",
    "    # pipe    \n",
    "    if L!=None:\n",
    "        logger.debug(f\"set L to {L}\")\n",
    "        pipeEl.set('L',str(L))\n",
    "    if DI!=None:\n",
    "        logger.debug(f\"set DI to {DI}\")\n",
    "        DNEl.set('DI',str(DI))        \n",
    "    if DA!=None:\n",
    "        logger.debug(f\"set DA to {DA}\")\n",
    "        DNEl.set('DA',str(DA))           \n",
    "    if KT!=None:\n",
    "        logger.debug(f\"set KT to {KT}\")\n",
    "        DNEl.set('KT',str(KT))            \n",
    "\n",
    "    # nodes z\n",
    "    if zi != None:\n",
    "        logger.debug(f\"set zi to {zi}\")\n",
    "        nodeKiEl.set('ZKOR',str(zi))    \n",
    "    if zk != None:\n",
    "        logger.debug(f\"set zk to {zk}\")\n",
    "        nodeKkEl.set('ZKOR',str(zk))           \n",
    "\n",
    "    # nodes BC\n",
    "    if pi != None:\n",
    "        logger.debug(f\"set pi to {pi}\")\n",
    "        nodeKiBzEl.set('PH_EIN',str(pi))    \n",
    "    if Ti != None:\n",
    "        logger.debug(f\"set TE to {Ti}\")\n",
    "        nodeKiBzEl.set('TE',str(Ti))            \n",
    "    if mk != None:\n",
    "        logger.debug(f\"set mk to {mk}\")\n",
    "        nodeKkBzEl.set('QM_EIN',str(mk)) \n",
    "        nodeKkEl.set('QM_EIN',str(mk)) #!\n",
    "\n",
    "    dz=float(nodeKiEl.get('ZKOR'))-float(nodeKkEl.get('ZKOR'))\n",
    "\n",
    "    # write\n",
    "    tree.write(m.SirCalcXmlFile)\n",
    "\n",
    "    # calculate\n",
    "    with subprocess.Popen(pOpenAr) as process:\n",
    "        process.wait()\n",
    "        logger.debug(f'Command {process.args} exited with {process.returncode}.')   \n",
    "\n",
    "    # read result\n",
    "    mx=Mx.Mx(m.mx.mx1File)\n",
    "    mx.df.rename(columns={col:col.replace(Mx.reSir3sIDSep+mo.group('OBJTYPE_PK'),'') for col,mo in [(col,re.search(Mx.reSir3sIDcompiled,col)) for col in mx.df.columns.to_list() if re.search(Mx.reSir3sIDcompiled,col) != None]},inplace=True)\n",
    "\n",
    "    # result-Channels\n",
    "    piCh=f\"KNOT~{nodeKiEl.get('NAME')}~~PH\"    \n",
    "    pkCh=f\"KNOT~{nodeKkEl.get('NAME')}~~PH\"    \n",
    "    dpCh=f\"ROHR~{nodeKiEl.get('NAME')}~{nodeKkEl.get('NAME')}~PHR\"  \n",
    "    rhoiCh=f\"ROHR~{nodeKiEl.get('NAME')}~{nodeKkEl.get('NAME')}~RHOI\"  \n",
    "    rhokCh=f\"ROHR~{nodeKiEl.get('NAME')}~{nodeKkEl.get('NAME')}~RHOK\"  \n",
    "    mkCh=f\"KNOT~{nodeKkEl.get('NAME')}~~QM\" \n",
    "    mkrawCh=f\"KNOT~{nodeKkEl.get('NAME')}~~M\" \n",
    "\n",
    "    # determine start-k with pp\n",
    "    # create network\n",
    "    nxg=networkx.Graph()\n",
    "    nxg.add_nodes_from([(1,{'extPressure':mx.df[piCh].iloc[0]}),(2,{'extFlow':mx.df[mkrawCh].iloc[0]})])\n",
    "    nxg.add_edges_from([(1, 2,{'L':L,'D':DI,'k':float(pipeEl.get('RAU'))})])\n",
    "    \n",
    "    if KT!=None:\n",
    "        logger.debug(f\"set alpha to KT:{KT}\")        \n",
    "        nxg.edges[1,2].update({'alpha':KT})\n",
    "    else:\n",
    "        logger.debug(f\"set alpha to:{float(DNEl.get('KT'))}\")        \n",
    "        nxg.edges[1,2].update({'alpha':float(DNEl.get('KT'))})    \n",
    "        \n",
    "    if Ta!=None:\n",
    "        logger.debug(f\"set Ta to {Ta}\")        \n",
    "        nxg.edges[1,2].update({'Ta':Ta+273.15})        \n",
    "\n",
    "    nxg.nodes[1].update({'inletTemperature':Ti+273.15})\n",
    "\n",
    "    ppn=pp(nxg)\n",
    "    # calc network\n",
    "    pandapipes.pipeflow(ppn,friction_model='colebrook',mode='bidirectional')\n",
    "    # friction loss setpoint\n",
    "    nxg.edges[1,2].update({'dpFL_SP':dp_SP}) \n",
    "    # calc k\n",
    "    ppk(nxg,ppn)\n",
    "\n",
    "    logger.debug(f\"{logStr} k_pp: {nxg.edges[1,2]['k_MV']}\") \n",
    "\n",
    "    # set k\n",
    "    pipeEl.set('RAU',str(nxg.edges[1,2]['k_MV']))\n",
    "    # write again\n",
    "    tree.write(m.SirCalcXmlFile)\n",
    "    # calculate again\n",
    "    with subprocess.Popen(pOpenAr) as process:\n",
    "        process.wait()\n",
    "        logger.debug(f'Command {process.args} exited with {process.returncode}.')   \n",
    "\n",
    "    def sir3s_calc_roughness(             \n",
    "            dk=dkSir3sStart\n",
    "           ,depth=0          \n",
    "    ):\n",
    "\n",
    "        logStr=f\"{sys._getframe().f_code.co_name}:\"\n",
    "\n",
    "        logger.debug(f\"{logStr} Start. depth: {depth}\") \n",
    "        \n",
    "        # read result\n",
    "        mx=Mx.Mx(m.mx.mx1File)\n",
    "        mx.df.rename(columns={col:col.replace(Mx.reSir3sIDSep+mo.group('OBJTYPE_PK'),'') for col,mo in [(col,re.search(Mx.reSir3sIDcompiled,col)) for col in mx.df.columns.to_list() if re.search(Mx.reSir3sIDcompiled,col) != None]},inplace=True)\n",
    "        \n",
    "        # result-Channels\n",
    "        pathStr = f\"./ROHR[@fkKI!='-1']\"\n",
    "        pipeEl=root.findall(pathStr)[0]\n",
    "\n",
    "        pathStr = f\"./KNOT[@pk='{pipeEl.get('fkKI')}']\"\n",
    "        nodeKiEl=root.findall(pathStr)[0]    \n",
    "\n",
    "        pathStr = f\"./KNOT[@pk='{pipeEl.get('fkKK')}']\"\n",
    "        nodeKkEl=root.findall(pathStr)[0]      \n",
    "\n",
    "        # result-Channels\n",
    "        piCh=f\"KNOT~{nodeKiEl.get('NAME')}~~PH\"    \n",
    "        pkCh=f\"KNOT~{nodeKkEl.get('NAME')}~~PH\"    \n",
    "        dpCh=f\"ROHR~{nodeKiEl.get('NAME')}~{nodeKkEl.get('NAME')}~PHR\"  \n",
    "        rhoiCh=f\"ROHR~{nodeKiEl.get('NAME')}~{nodeKkEl.get('NAME')}~RHOI\"  \n",
    "        rhokCh=f\"ROHR~{nodeKiEl.get('NAME')}~{nodeKkEl.get('NAME')}~RHOK\"  \n",
    "        mkCh=f\"KNOT~{nodeKkEl.get('NAME')}~~QM\"   \n",
    "\n",
    "        # calculate deviation\n",
    "        dp=mx.df[piCh].iloc[0]-mx.df[pkCh].iloc[0]#mx.df[dpCh].iloc[0]\n",
    "        \n",
    "        rho=.5*(mx.df[rhoiCh].iloc[0]+mx.df[rhokCh].iloc[0])\n",
    "        dp_DZ=dz*rho*9.81*1.e-5\n",
    "        dp_PV=dp+dp_DZ\n",
    "\n",
    "        dp_DV=dp_SP-dp_PV\n",
    "\n",
    "        if math.fabs(dp_DV) <= dp_ER:\n",
    "        \n",
    "                logger.debug(f\"{logStr} Convergence: dpFL_DV: {dp_DV:+.4f} dp_ER: {dp_ER:+.4f} k: {float(pipeEl.get('RAU')):.4f} (dk={dk:.4f})\") \n",
    "                logger.debug(f\"{logStr}                dp_SP: {dp_SP:+.4f} dp_PV: {dp_PV:+.4f}\") \n",
    "                logger.debug(f\"{logStr}                pFrom: {mx.df[piCh].iloc[0]:7.4f}     pTo: {mx.df[pkCh].iloc[0]:7.4f}\")      \n",
    "                logger.debug(f\"{logStr}                 flow: {mx.df[mkCh].iloc[0]:7.4f}\")      \n",
    "                logger.debug(f\"{logStr} Done.\") \n",
    "                return float(pipeEl.get('RAU'))\n",
    "        \n",
    "        elif depth==0:\n",
    "\n",
    "                logger.debug(f\"{logStr} Start:       dpFL_DV: {dp_DV:+.4f} dp_ER: {dp_ER:+.4f} k: {float(pipeEl.get('RAU')):.4f} (dk={dk:.4f})\") \n",
    "                logger.debug(f\"{logStr}                dp_SP: {dp_SP:+.4f} dp_PV: {dp_PV:+.4f}\") \n",
    "                logger.debug(f\"{logStr}                pFrom: {mx.df[piCh].iloc[0]:7.4f}     pTo: {mx.df[pkCh].iloc[0]:7.4f}\")      \n",
    "                logger.debug(f\"{logStr}                 flow: {mx.df[mkCh].iloc[0]:7.4f}\")      \n",
    "\n",
    "        dp_DVVStart=math.copysign(1,dp_DV)\n",
    "        dp_DVV=dp_DVVStart\n",
    "\n",
    "        # with the same k-value change dk until the sign of the deviation changes \n",
    "        while dp_DVV==dp_DVVStart and float(pipeEl.get('RAU'))>k_min:\n",
    "\n",
    "            # adjust roughness in the right direction\n",
    "            if dp_DVV > 0:\n",
    "                # increase roughness\n",
    "                dkAdd=dk\n",
    "            else:\n",
    "                # reduce roughness\n",
    "                dkAdd=-dk\n",
    "            k_new=float(pipeEl.get('RAU'))+dkAdd\n",
    "            if k_new < k_min:\n",
    "                logger.debug(f\"{logStr} k_new: {k_new} < k_min: {k_min}: k_new==k_min ...\")  \n",
    "                # k + dk = k_min\n",
    "                dk = math.fabs(k_min - float(pipeEl.get('RAU')))\n",
    "                dkAdd=-dk\n",
    "                k_new=float(pipeEl.get('RAU'))+dkAdd\n",
    "\n",
    "            pipeEl.set('RAU',str(k_new))\n",
    "\n",
    "            # write\n",
    "            tree.write(m.SirCalcXmlFile)\n",
    "            # calculate\n",
    "            with subprocess.Popen(pOpenAr) as process:\n",
    "                process.wait()\n",
    "                logger.debug(f'Command {process.args} exited with {process.returncode}.')    \n",
    "            # read\n",
    "            mx=Mx.Mx(m.mx.mx1File)\n",
    "            mx.df.rename(columns={col:col.replace(Mx.reSir3sIDSep+mo.group('OBJTYPE_PK'),'') for col,mo in [(col,re.search(Mx.reSir3sIDcompiled,col)) for col in mx.df.columns.to_list() if re.search(Mx.reSir3sIDcompiled,col) != None]},inplace=True)\n",
    "\n",
    "            # calculate deviation\n",
    "            dp=mx.df[piCh].iloc[0]-mx.df[pkCh].iloc[0]#mx.df[dpCh].iloc[0]\n",
    "            \n",
    "            rho=.5*(mx.df[rhoiCh].iloc[0]+mx.df[rhokCh].iloc[0])\n",
    "            dp_DZ=dz*rho*9.81*1.e-5\n",
    "            dp_PV=dp+dp_DZ\n",
    "\n",
    "            dp_DV=dp_SP-dp_PV\n",
    "\n",
    "            logger.debug(f\"{logStr} Iteration:   dp_DV: {dp_DV:+.4f} dp_ER: {dp_ER:+.4f} k: {float(pipeEl.get('RAU')):.4f} (dkAdd={dkAdd:+.4f})\")       \n",
    "            dp_DVV=math.copysign(1,dp_DV)       \n",
    "\n",
    "        if dp_DVV!=dp_DVVStart and float(pipeEl.get('RAU'))>k_min:\n",
    "            # the sign of the deviation changed above k _min; continue with k-value change dk/2 ...\n",
    "            k=sir3s_calc_roughness(                \n",
    "                dk=dk/2\n",
    "               ,depth=depth+1\n",
    "            )\n",
    "        elif dp_DVV!=dp_DVVStart and float(pipeEl.get('RAU'))<=k_min:\n",
    "            logger.debug(f\"{logStr} the sign of the deviation changed @k_min; continue with k-value change dk/2 ...\")       \n",
    "            k=sir3s_calc_roughness(                \n",
    "                dk=dk/2\n",
    "               ,depth=depth+1\n",
    "            )\n",
    "        else:\n",
    "            logger.debug(f\"{logStr} the sign of the deviation changed not; k<=k_min; stay with k_min ...\")  \n",
    "            k=float(pipeEl.get('RAU'))\n",
    "            \n",
    "        return k \n",
    "    \n",
    "    return sir3s_calc_roughness(dk=dkSir3sStart)\n",
    "\n",
    "\n"
   ]
  },
  {
   "cell_type": "code",
   "execution_count": 80,
   "metadata": {},
   "outputs": [
    {
     "data": {
      "text/plain": [
       "0.49875"
      ]
     },
     "execution_count": 80,
     "metadata": {},
     "output_type": "execute_result"
    }
   ],
   "source": [
    "sir3sk()"
   ]
  },
  {
   "cell_type": "code",
   "execution_count": 81,
   "metadata": {},
   "outputs": [],
   "source": [
    "def f():\n",
    "    \"\"\"\n",
    "    >>> k=sir3sk(dbFile=os.path.join(os.path.dirname(os.path.abspath(dxAndMxHelperFcts.__file__)),'Examples\\\\Example8.db3'))\n",
    "    >>> round(k,1)\n",
    "    0.5\n",
    "    >>> k=sir3sk(dbFile=os.path.join(os.path.dirname(os.path.abspath(dxAndMxHelperFcts.__file__)),'Examples\\\\Example8.db3'),L=1100,pi=11,mk=-110,dp_SP=.6,DI=185,Ti=91)\n",
    "    >>> round(k,2)\n",
    "    0.04\n",
    "    \"\"\"\n",
    "    pass"
   ]
  },
  {
   "cell_type": "code",
   "execution_count": 82,
   "metadata": {},
   "outputs": [
    {
     "data": {
      "text/plain": [
       "TestResults(failed=0, attempted=4)"
      ]
     },
     "execution_count": 82,
     "metadata": {},
     "output_type": "execute_result"
    }
   ],
   "source": [
    "import doctest\n",
    "doctest.testmod()"
   ]
  }
 ],
 "metadata": {
  "kernelspec": {
   "display_name": "Python 3",
   "language": "python",
   "name": "python3"
  },
  "language_info": {
   "codemirror_mode": {
    "name": "ipython",
    "version": 3
   },
   "file_extension": ".py",
   "mimetype": "text/x-python",
   "name": "python",
   "nbconvert_exporter": "python",
   "pygments_lexer": "ipython3",
   "version": "3.11.5"
  }
 },
 "nbformat": 4,
 "nbformat_minor": 4
}
