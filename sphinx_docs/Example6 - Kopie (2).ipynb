{
 "cells": [
  {
   "cell_type": "markdown",
   "id": "f233bd54-261e-497a-9c91-f1b7a8031a70",
   "metadata": {},
   "source": [
    "# yFiles"
   ]
  },
  {
   "cell_type": "markdown",
   "id": "be3ffea4-9cf2-4950-8f5a-b77c4d9d1210",
   "metadata": {},
   "source": [
    "This example demonstrates how the NetworkX-Graph created by PT3S can be used with yFiles."
   ]
  },
  {
   "cell_type": "markdown",
   "id": "f0e59897-8e57-4f82-857b-a8698a5748c4",
   "metadata": {},
   "source": [
    "# PT3S Release"
   ]
  },
  {
   "cell_type": "code",
   "execution_count": 1,
   "id": "931e173f-f062-4a80-a56f-0d96d5c27092",
   "metadata": {
    "tags": []
   },
   "outputs": [],
   "source": [
    "#pip install PT3S -U --no-deps"
   ]
  },
  {
   "cell_type": "markdown",
   "id": "a2e6fbdc-5dd6-482b-a353-2b6f10e07aab",
   "metadata": {},
   "source": [
    "# Imports"
   ]
  },
  {
   "cell_type": "code",
   "execution_count": 2,
   "id": "87b7db9e-ba57-4acc-b006-99dfcd48d2ad",
   "metadata": {
    "tags": []
   },
   "outputs": [],
   "source": [
    "import os\n",
    "import geopandas\n",
    "from geopandas import GeoSeries\n",
    "import logging\n",
    "import pandas as pd\n",
    "import io\n",
    "\n",
    "import subprocess\n",
    "\n",
    "import matplotlib.pyplot as plt\n",
    "\n",
    "import matplotlib\n",
    "import matplotlib.colors as mcolors\n",
    "\n",
    "import folium\n",
    "from folium.plugins import HeatMap\n",
    "\n",
    "import networkx as nx\n",
    "\n",
    "import typing\n",
    "from yfiles_jupyter_graphs import GraphWidget\n",
    "\n",
    "try:\n",
    "    from PT3S import dxAndMxHelperFcts\n",
    "except:\n",
    "    import dxAndMxHelperFcts\n",
    "    \n",
    "try:\n",
    "    from PT3S import Mx\n",
    "except:\n",
    "    import Mx\n",
    "\n",
    "try:\n",
    "    from PT3S import Rm\n",
    "except:\n",
    "    import Rm"
   ]
  },
  {
   "cell_type": "code",
   "execution_count": 3,
   "id": "0e412b0f-15a9-4d1b-9841-34a10e25b0b3",
   "metadata": {
    "tags": []
   },
   "outputs": [],
   "source": [
    "import importlib"
   ]
  },
  {
   "cell_type": "code",
   "execution_count": 4,
   "id": "8ead8811-6d1d-4376-88ba-8ac748284e77",
   "metadata": {
    "tags": []
   },
   "outputs": [],
   "source": [
    "#importlib.reload(dxAndMxHelperFcts)"
   ]
  },
  {
   "cell_type": "markdown",
   "id": "bd5882d4-eab8-4da6-8bbe-6776d4195dd2",
   "metadata": {},
   "source": [
    "# Logging"
   ]
  },
  {
   "cell_type": "code",
   "execution_count": 5,
   "id": "852d5593-37d0-4ccb-be1f-29154bdc142f",
   "metadata": {},
   "outputs": [],
   "source": [
    "logger = logging.getLogger()  \n",
    "\n",
    "logFileName= r\"Example6.log\" \n",
    "\n",
    "loglevel = logging.DEBUG\n",
    "logging.basicConfig(filename=logFileName\n",
    "                        ,filemode='w'\n",
    "                        ,level=loglevel\n",
    "                        ,format=\"%(asctime)s ; %(name)-60s ; %(levelname)-7s ; %(message)s\")    \n",
    "\n",
    "fileHandler = logging.FileHandler(logFileName)     \n",
    "\n",
    "logger.addHandler(fileHandler)\n",
    "\n",
    "consoleHandler = logging.StreamHandler()\n",
    "consoleHandler.setFormatter(logging.Formatter(\"%(levelname)-7s ; %(message)s\"))\n",
    "consoleHandler.setLevel(logging.INFO)\n",
    "logger.addHandler(consoleHandler)"
   ]
  },
  {
   "cell_type": "markdown",
   "id": "1b34591a-c2d1-486b-b853-ed38cd5c8323",
   "metadata": {},
   "source": [
    "# Read Model and Results"
   ]
  },
  {
   "cell_type": "code",
   "execution_count": 6,
   "id": "29b18b2c-f2df-4b27-a96c-0e03af6f16b0",
   "metadata": {},
   "outputs": [],
   "source": [
    "dbFilename=\"Example6\"\n",
    "dbFile=os.path.join(os.path.dirname(os.path.abspath(dxAndMxHelperFcts.__file__))\n",
    "                    +'/Examples/'\n",
    "                    +dbFilename\n",
    "                    +'.db3'\n",
    ")"
   ]
  },
  {
   "cell_type": "code",
   "execution_count": 7,
   "id": "f8b5221c-0fd1-4fbc-abaf-81325ad2629d",
   "metadata": {},
   "outputs": [
    {
     "name": "stderr",
     "output_type": "stream",
     "text": [
      "INFO    ; Dx.__init__: dbFile (abspath): c:\\users\\aUserName\\3s\\pt3s\\Examples\\Example6.db3 exists readable ...\n"
     ]
    }
   ],
   "source": [
    "m=dxAndMxHelperFcts.readDxAndMx(dbFile=dbFile,preventPklDump=True,maxRecords=0)\n",
    "#NBVAL_IGNORE_OUTPUT"
   ]
  },
  {
   "cell_type": "markdown",
   "id": "866acb7e-ecca-445f-bfdd-712c0305faed",
   "metadata": {},
   "source": [
    "# Network Graph m.G"
   ]
  },
  {
   "cell_type": "markdown",
   "id": "646eb158-7219-40b6-90c2-f14e5d1e5ef4",
   "metadata": {},
   "source": [
    "## Subgraph (only the Net)"
   ]
  },
  {
   "cell_type": "code",
   "execution_count": 8,
   "id": "43caff7f-9a3d-4b55-a058-3246b9bd93b1",
   "metadata": {
    "tags": []
   },
   "outputs": [],
   "source": [
    "netNodes=[n for (n,data) in m.G.nodes(data=True) if \n",
    "    data['KVR'] in [1,'1'] # nur der VL\n",
    "and data['ID_CONT']==data['IDPARENT_CONT'] # nur das Netz\n",
    "]"
   ]
  },
  {
   "cell_type": "code",
   "execution_count": 9,
   "id": "df85128e-1c77-4271-bd53-53d56088aed5",
   "metadata": {
    "tags": []
   },
   "outputs": [],
   "source": [
    "GNet=m.G.subgraph(netNodes)"
   ]
  },
  {
   "cell_type": "markdown",
   "id": "be4cdc9d-f841-488c-a11c-52f37fc2fb29",
   "metadata": {},
   "source": [
    "## examine Subgraph with nx"
   ]
  },
  {
   "cell_type": "code",
   "execution_count": 10,
   "id": "da06793b-01b4-4e74-8e55-b355bbfd130e",
   "metadata": {
    "tags": []
   },
   "outputs": [
    {
     "data": {
      "text/plain": [
       "1"
      ]
     },
     "execution_count": 10,
     "metadata": {},
     "output_type": "execute_result"
    }
   ],
   "source": [
    "nx.number_connected_components(GNet)"
   ]
  },
  {
   "cell_type": "code",
   "execution_count": 11,
   "id": "286144cd-31e5-48d2-9d92-4c01d5d26192",
   "metadata": {
    "tags": []
   },
   "outputs": [
    {
     "data": {
      "image/png": "[encoded data removed]",
      "text/plain": [
       "<Figure size 640x480 with 1 Axes>"
      ]
     },
     "metadata": {},
     "output_type": "display_data"
    }
   ],
   "source": [
    "nx.draw_networkx(GNet,with_labels = False,node_size=3,pos=m.nodeposDctNx)"
   ]
  },
  {
   "cell_type": "markdown",
   "id": "9b968327-c9f6-471f-aa93-2fae08dd131c",
   "metadata": {},
   "source": [
    "## examine Subgraph in terms of raw data"
   ]
  },
  {
   "cell_type": "code",
   "execution_count": 12,
   "id": "6e59e055-1254-4a33-8da8-89765ec2e852",
   "metadata": {
    "tags": []
   },
   "outputs": [],
   "source": [
    "dfEdges=m.V3_VBEL.reset_index()\n",
    "dfEdges=dfEdges[(dfEdges['KVR'].isin([1,'1']))             &\n",
    "             (dfEdges['ID_CONT']==dfEdges['IDPARENT_CONT'])\n",
    "]"
   ]
  },
  {
   "cell_type": "code",
   "execution_count": 13,
   "id": "c8655d87-3392-4dd7-9a93-d24079885472",
   "metadata": {
    "tags": []
   },
   "outputs": [],
   "source": [
    "dfNodes=m.V3_KNOT\n",
    "dfNodes=dfNodes[(dfNodes['tk'].isin(dfEdges['fkKI'])) |\n",
    "        (dfNodes['tk'].isin(dfEdges['fkKK']))\n",
    "]"
   ]
  },
  {
   "cell_type": "code",
   "execution_count": 14,
   "id": "76253052-6423-4e51-826b-09c3a370b16c",
   "metadata": {
    "tags": []
   },
   "outputs": [],
   "source": [
    "#sorted(dfNodes['NAME_PZON'].unique())"
   ]
  },
  {
   "cell_type": "markdown",
   "id": "3d5a273d-fd66-40f7-91a7-2ad8456b4456",
   "metadata": {},
   "source": [
    "# Subgraph as yFiles"
   ]
  },
  {
   "cell_type": "code",
   "execution_count": 15,
   "id": "9b6eac05-066c-4dea-856f-4eae9b52fc8d",
   "metadata": {},
   "outputs": [],
   "source": [
    "w=GraphWidget(graph=GNet)"
   ]
  },
  {
   "cell_type": "markdown",
   "id": "52df2cbf-aef2-4e78-8bab-fb168dd6313d",
   "metadata": {},
   "source": [
    "## set node grouping"
   ]
  },
  {
   "cell_type": "markdown",
   "id": "005c1d20-2b9b-4c5e-a6ff-316b09c2f923",
   "metadata": {},
   "source": [
    "### construct group nodes (not used)"
   ]
  },
  {
   "cell_type": "code",
   "execution_count": 16,
   "id": "58aea779-c004-424d-914b-f7f4dc654b0d",
   "metadata": {
    "tags": []
   },
   "outputs": [],
   "source": [
    "pzon_nodes = [\n",
    "    {\"id\": int(pzon)\n",
    "    , \"properties\": {\"label\": pzon\n",
    "    , 'NAME_PZON': pzon\n",
    "    ,'NAME_CONT_VKNO': None\n",
    "    ,'NAME': pzon\n",
    "    }\n",
    "    , \"coordinates\": [m.gdf_KNOT[m.gdf_KNOT['NAME_PZON']==pzon].to_crs('EPSG:4326').dissolve().centroid.geometry.iloc[0].centroid.y\n",
    "                     ,m.gdf_KNOT[m.gdf_KNOT['NAME_PZON']==pzon].to_crs('EPSG:4326').dissolve().centroid.geometry.iloc[0].centroid.x]\n",
    "    }\n",
    "    for pzon in sorted(dfNodes['NAME_PZON'].unique())\n",
    "]"
   ]
  },
  {
   "cell_type": "markdown",
   "id": "17e4bb46-a4d5-4230-9f03-d6cc4d9cc616",
   "metadata": {},
   "source": [
    "### let yFiles contruct the group nodes"
   ]
  },
  {
   "cell_type": "markdown",
   "id": "4aa7c921-dc46-4622-8848-1fa06bb296b6",
   "metadata": {},
   "source": [
    "yFiles requests for grouping so called group nodes; if w.node_parent_group_mapping is used instead of w.node_parent_mapping yFiles constructs group nodes implicitely"
   ]
  },
  {
   "cell_type": "code",
   "execution_count": 18,
   "id": "15d5ef24-f1d3-4d36-88d6-f2bbb55c197a",
   "metadata": {
    "tags": []
   },
   "outputs": [
    {
     "data": {
      "text/plain": [
       "<function yfiles_jupyter_graphs.widget.GraphWidget.default_node_parent_group_mapping(index: int, node: Dict)>"
      ]
     },
     "execution_count": 18,
     "metadata": {},
     "output_type": "execute_result"
    }
   ],
   "source": [
    "w.get_node_parent_group_mapping() "
   ]
  },
  {
   "cell_type": "code",
   "execution_count": 19,
   "id": "32fc2c62-2ebe-4089-a1e6-80aceebce124",
   "metadata": {
    "tags": []
   },
   "outputs": [],
   "source": [
    "def my_node_parent_group_mapping(node: typing.Dict):\n",
    "    \n",
    "    return {'label':node['properties']['NAME_PZON']}\n",
    "   "
   ]
  },
  {
   "cell_type": "code",
   "execution_count": 20,
   "id": "19e3034d-b8a3-44df-9a98-a2f7ff9cb963",
   "metadata": {},
   "outputs": [],
   "source": [
    "w.set_node_parent_group_mapping(my_node_parent_group_mapping) "
   ]
  },
  {
   "cell_type": "code",
   "execution_count": 21,
   "id": "f29955b2-e2b5-494c-9f86-9d700373a312",
   "metadata": {},
   "outputs": [],
   "source": [
    "#w.node_parent_group_mapping = \"NAME_PZON\""
   ]
  },
  {
   "cell_type": "markdown",
   "id": "d3007cb6-acfd-41c0-9788-5a0c60511ad1",
   "metadata": {},
   "source": [
    "## set node coordinate mapping"
   ]
  },
  {
   "cell_type": "code",
   "execution_count": 22,
   "id": "e8067a39-b8c6-4bb8-9c2d-d9a412670449",
   "metadata": {
    "tags": []
   },
   "outputs": [
    {
     "data": {
      "text/plain": [
       "<function yfiles_jupyter_graphs.widget.GraphWidget.default_node_coordinate_mapping(index: int, node: Dict)>"
      ]
     },
     "execution_count": 22,
     "metadata": {},
     "output_type": "execute_result"
    }
   ],
   "source": [
    "w.get_node_coordinate_mapping()"
   ]
  },
  {
   "cell_type": "code",
   "execution_count": 23,
   "id": "c266b4a5-edb0-4bf0-973e-3ec46cc5c330",
   "metadata": {
    "tags": []
   },
   "outputs": [],
   "source": [
    "def my_node_coordinate_mapping(node: typing.Dict):\n",
    "\n",
    "    if 'GEOMWKB' in node['properties'].keys():\n",
    "        geom=GeoSeries.from_wkb([node['properties']['GEOMWKB']],crs='EPSG:25832').to_crs('EPSG:4326').geometry.iloc[0]\n",
    "        lon=geom.centroid.x \n",
    "        lat=geom.centroid.y   \n",
    "        return(lat,lon)\n",
    "    elif \"coordinates\" in node.keys():\n",
    "        return(node['coordinates'])\n",
    "    else:\n",
    "        print('ERROR in my_node_coordinate_mapping.')\n",
    "        return(0,0)\n",
    "        \n",
    "        "
   ]
  },
  {
   "cell_type": "code",
   "execution_count": 24,
   "id": "dd578113-cfe6-4efe-8b52-59db9afa98b4",
   "metadata": {},
   "outputs": [],
   "source": [
    "node=w.nodes[0]\n",
    "#sorted(node['properties'])#['GEOMWKB']"
   ]
  },
  {
   "cell_type": "code",
   "execution_count": 25,
   "id": "ac475ad1-039e-4093-82b1-931822fc65cb",
   "metadata": {},
   "outputs": [
    {
     "data": {
      "text/plain": [
       "(0.8811229290535756, 5.005830936912691)"
      ]
     },
     "execution_count": 25,
     "metadata": {},
     "output_type": "execute_result"
    }
   ],
   "source": [
    "my_node_coordinate_mapping(node)"
   ]
  },
  {
   "cell_type": "code",
   "execution_count": 26,
   "id": "55be08a3-98c6-4be7-9dd3-6b9e867afefd",
   "metadata": {
    "tags": []
   },
   "outputs": [],
   "source": [
    "w.set_node_coordinate_mapping(my_node_coordinate_mapping)"
   ]
  },
  {
   "cell_type": "markdown",
   "id": "cdb5710b-0763-421d-99fd-fd6f9441c2fb",
   "metadata": {},
   "source": [
    "## set edge thickness mapping"
   ]
  },
  {
   "cell_type": "code",
   "execution_count": 27,
   "id": "bd4e97d9-b536-4290-a3ed-f35a218850f5",
   "metadata": {
    "tags": []
   },
   "outputs": [
    {
     "data": {
      "text/plain": [
       "<function yfiles_jupyter_graphs.widget.GraphWidget.default_edge_thickness_factor_mapping(index: int, edge: Dict)>"
      ]
     },
     "execution_count": 27,
     "metadata": {},
     "output_type": "execute_result"
    }
   ],
   "source": [
    "w.get_edge_thickness_factor_mapping()"
   ]
  },
  {
   "cell_type": "code",
   "execution_count": 28,
   "id": "15a7e27e-f1ab-4a91-be8a-9c5b4ddad21b",
   "metadata": {
    "tags": []
   },
   "outputs": [],
   "source": [
    "\n",
    "DImin=dfEdges['DI'].min()\n",
    "DImax=dfEdges['DI'].max()\n",
    "norm = plt.Normalize(vmin=DImin, vmax=DImax)\n",
    "\n",
    "line_width_factor=10\n",
    "line_width_min=1\n",
    "\n",
    "def my_edge_thickness_factor_mapping(edge: typing.Dict):\n",
    "    \"\"\"DI as thickness\"\"\"\n",
    "    if edge['properties']['OBJTYPE']=='VENT':\n",
    "        return max(line_width_min,norm(DImax)*line_width_factor) # VENTs (Valves) with max. ROHR-(Pipe-)Thickness\n",
    "    else:        \n",
    "        if 'DI' in edge['properties'].keys():\n",
    "            if isinstance(edge['properties']['DI'],float):\n",
    "                return max(line_width_min,norm(edge['properties']['DI'])*line_width_factor)\n",
    "        else:\n",
    "            return line_width_min"
   ]
  },
  {
   "cell_type": "code",
   "execution_count": 29,
   "id": "4f2d6026-f60f-4fa6-a805-97c4dba26bf2",
   "metadata": {
    "tags": []
   },
   "outputs": [],
   "source": [
    "edge=w.edges[0]\n",
    "#sorted(edge['properties'])"
   ]
  },
  {
   "cell_type": "code",
   "execution_count": 30,
   "id": "66dec08e-bd29-4e74-b0a2-6c82497203c5",
   "metadata": {
    "tags": []
   },
   "outputs": [
    {
     "data": {
      "text/plain": [
       "1"
      ]
     },
     "execution_count": 30,
     "metadata": {},
     "output_type": "execute_result"
    }
   ],
   "source": [
    "my_edge_thickness_factor_mapping(edge)"
   ]
  },
  {
   "cell_type": "code",
   "execution_count": 31,
   "id": "b4f1e55a-cf72-4c23-9ad5-e985d98cbd12",
   "metadata": {
    "tags": []
   },
   "outputs": [],
   "source": [
    "w.set_edge_thickness_factor_mapping(my_edge_thickness_factor_mapping)"
   ]
  },
  {
   "cell_type": "markdown",
   "id": "30fd7e7e-11be-4b69-bd9e-cb6794365027",
   "metadata": {},
   "source": [
    "## set edge color mapping"
   ]
  },
  {
   "cell_type": "code",
   "execution_count": 32,
   "id": "34404af1-f09b-464d-af2a-54af197b1dd7",
   "metadata": {
    "tags": []
   },
   "outputs": [
    {
     "data": {
      "text/plain": [
       "<bound method GraphWidget.default_edge_color_mapping of GraphWidget(layout=Layout(height='500px', width='100%'))>"
      ]
     },
     "execution_count": 32,
     "metadata": {},
     "output_type": "execute_result"
    }
   ],
   "source": [
    "w.get_edge_color_mapping()"
   ]
  },
  {
   "cell_type": "code",
   "execution_count": 33,
   "id": "bf65c8c7-6f30-4eaf-9155-df3fc2a29614",
   "metadata": {
    "tags": []
   },
   "outputs": [],
   "source": [
    "colors=['lightgrey', 'dimgrey']\n",
    "cmap = mcolors.LinearSegmentedColormap.from_list('cmap', colors, N=256)\n",
    "\n",
    "cMin=matplotlib.colors.to_rgb(cmap(norm(DImin)))\n",
    "\n",
    "def my_edge_color_mapping(edge: typing.Dict):\n",
    "    \"\"\"DI as color\"\"\"\n",
    "    if edge['properties']['OBJTYPE']=='VENT':\n",
    "        return matplotlib.colors.to_rgb('red')\n",
    "    else:\n",
    "        if 'DI' in edge['properties'].keys():\n",
    "            if isinstance(edge['properties']['DI'],float):\n",
    "                return matplotlib.colors.to_rgb(cmap(norm(edge['properties']['DI'])))\n",
    "        else:            \n",
    "            return cMin"
   ]
  },
  {
   "cell_type": "code",
   "execution_count": 34,
   "id": "1a3f5127-d390-4ae8-9309-f6db1bb90a14",
   "metadata": {},
   "outputs": [
    {
     "data": {
      "text/plain": [
       "(0.8274509803921568, 0.8274509803921568, 0.8274509803921568)"
      ]
     },
     "execution_count": 34,
     "metadata": {},
     "output_type": "execute_result"
    }
   ],
   "source": [
    "my_edge_color_mapping(edge)"
   ]
  },
  {
   "cell_type": "code",
   "execution_count": 35,
   "id": "c672763a-1139-4588-b4ef-a20c7d65c5b6",
   "metadata": {
    "tags": []
   },
   "outputs": [],
   "source": [
    "w.set_edge_color_mapping(my_edge_color_mapping)"
   ]
  },
  {
   "cell_type": "markdown",
   "id": "f03ba176-4feb-4b93-801b-6aabc49c6f45",
   "metadata": {},
   "source": [
    "## set node size mapping"
   ]
  },
  {
   "cell_type": "code",
   "execution_count": 36,
   "id": "999e1463-8c06-48ac-9a9d-168ca1841c6d",
   "metadata": {
    "tags": []
   },
   "outputs": [
    {
     "data": {
      "text/plain": [
       "<function yfiles_jupyter_graphs.widget.GraphWidget.default_node_size_mapping(index: int, node: Dict)>"
      ]
     },
     "execution_count": 36,
     "metadata": {},
     "output_type": "execute_result"
    }
   ],
   "source": [
    "w.get_node_size_mapping()"
   ]
  },
  {
   "cell_type": "code",
   "execution_count": 37,
   "id": "f6f10a76-60b3-4747-9c57-de0dc1a2ac33",
   "metadata": {
    "tags": []
   },
   "outputs": [],
   "source": [
    "def my_node_size_mapping(node: typing.Dict):\n",
    "    \"\"\"Select a width and height for the node\"\"\"\n",
    "    pass\n",
    "    width_default=55\n",
    "    height_default=55\n",
    "    \n",
    "    if 'NAME_CONT_VKNO' not in node['properties'].keys(): # yFiles' implicit created nodes ...\n",
    "        return width_default/10.,height_default/10.\n",
    "    \n",
    "    if not pd.isnull(node['properties']['NAME_CONT_VKNO']):\n",
    "        return  width_default,height_default\n",
    "    else:\n",
    "    \n",
    "    \n",
    "        return width_default/10.,height_default/10.\n",
    "    #return 55 + 10 * (index % 5), 55 - 10 * (index % 5)"
   ]
  },
  {
   "cell_type": "code",
   "execution_count": 38,
   "id": "a3a9cd78-da1b-4e53-ad0c-49b1b5fde8a2",
   "metadata": {
    "tags": []
   },
   "outputs": [],
   "source": [
    "#sorted(node['properties'])"
   ]
  },
  {
   "cell_type": "code",
   "execution_count": 39,
   "id": "969edd1c-85ce-41c0-a678-1466cdf0297c",
   "metadata": {
    "tags": []
   },
   "outputs": [],
   "source": [
    "w.set_node_size_mapping(my_node_size_mapping)"
   ]
  },
  {
   "cell_type": "markdown",
   "id": "b6d2bba7-ceb5-4a6f-8fa5-63c325fbfa09",
   "metadata": {},
   "source": [
    "## set node label mapping"
   ]
  },
  {
   "cell_type": "code",
   "execution_count": 40,
   "id": "49e34e7a-2b13-4f90-8b92-5f53c44e16c4",
   "metadata": {
    "tags": []
   },
   "outputs": [
    {
     "data": {
      "text/plain": [
       "<bound method GraphWidget.default_node_label_mapping of GraphWidget(layout=Layout(height='500px', width='100%'))>"
      ]
     },
     "execution_count": 40,
     "metadata": {},
     "output_type": "execute_result"
    }
   ],
   "source": [
    "w.get_node_label_mapping()"
   ]
  },
  {
   "cell_type": "code",
   "execution_count": 41,
   "id": "8d6ac98d-cb2e-40eb-bc58-e422b765948c",
   "metadata": {
    "tags": []
   },
   "outputs": [],
   "source": [
    "def my_node_label_mapping(node: typing.Dict):\n",
    "    \"\"\"\"\"\"\n",
    "    if 'NAME' in node['properties'].keys(): # yFiles' implicit created nodes ...\n",
    "        return {'text':node['properties']['NAME']}\n",
    "    elif 'label' in node['properties'].keys():\n",
    "        return {'text':node['properties']['label']}"
   ]
  },
  {
   "cell_type": "code",
   "execution_count": 42,
   "id": "fdb2b9d8-6e65-4b87-88f5-eb55f0fbbed2",
   "metadata": {
    "tags": []
   },
   "outputs": [],
   "source": [
    "w.set_node_label_mapping(my_node_label_mapping)"
   ]
  },
  {
   "cell_type": "code",
   "execution_count": 43,
   "id": "591ed7f3-df96-497f-a86c-abf346f63703",
   "metadata": {
    "tags": []
   },
   "outputs": [],
   "source": [
    "#dir(node)"
   ]
  },
  {
   "cell_type": "markdown",
   "id": "247c1f76-4a8c-4e13-8e89-1087732ff62f",
   "metadata": {},
   "source": [
    "## show graph"
   ]
  },
  {
   "cell_type": "code",
   "execution_count": 44,
   "id": "ae65fb66-5761-457f-87ea-b945e202abbf",
   "metadata": {
    "tags": []
   },
   "outputs": [
    {
     "name": "stdout",
     "output_type": "stream",
     "text": [
      "ERROR in my_node_coordinate_mapping.\n",
      "ERROR in my_node_coordinate_mapping.\n",
      "ERROR in my_node_coordinate_mapping.\n",
      "ERROR in my_node_coordinate_mapping.\n",
      "ERROR in my_node_coordinate_mapping.\n",
      "ERROR in my_node_coordinate_mapping.\n",
      "ERROR in my_node_coordinate_mapping.\n",
      "ERROR in my_node_coordinate_mapping.\n",
      "ERROR in my_node_coordinate_mapping.\n",
      "ERROR in my_node_coordinate_mapping.\n",
      "ERROR in my_node_coordinate_mapping.\n",
      "ERROR in my_node_coordinate_mapping.\n",
      "ERROR in my_node_coordinate_mapping.\n",
      "ERROR in my_node_coordinate_mapping.\n",
      "ERROR in my_node_coordinate_mapping.\n",
      "ERROR in my_node_coordinate_mapping.\n",
      "ERROR in my_node_coordinate_mapping.\n",
      "ERROR in my_node_coordinate_mapping.\n",
      "ERROR in my_node_coordinate_mapping.\n",
      "ERROR in my_node_coordinate_mapping.\n",
      "ERROR in my_node_coordinate_mapping.\n",
      "ERROR in my_node_coordinate_mapping.\n",
      "ERROR in my_node_coordinate_mapping.\n",
      "ERROR in my_node_coordinate_mapping.\n",
      "ERROR in my_node_coordinate_mapping.\n",
      "ERROR in my_node_coordinate_mapping.\n",
      "ERROR in my_node_coordinate_mapping.\n",
      "ERROR in my_node_coordinate_mapping.\n",
      "ERROR in my_node_coordinate_mapping.\n",
      "ERROR in my_node_coordinate_mapping.\n",
      "ERROR in my_node_coordinate_mapping.\n",
      "ERROR in my_node_coordinate_mapping.\n",
      "ERROR in my_node_coordinate_mapping.\n",
      "ERROR in my_node_coordinate_mapping.\n",
      "ERROR in my_node_coordinate_mapping.\n",
      "ERROR in my_node_coordinate_mapping.\n",
      "ERROR in my_node_coordinate_mapping.\n",
      "ERROR in my_node_coordinate_mapping.\n",
      "ERROR in my_node_coordinate_mapping.\n",
      "ERROR in my_node_coordinate_mapping.\n",
      "ERROR in my_node_coordinate_mapping.\n",
      "ERROR in my_node_coordinate_mapping.\n",
      "ERROR in my_node_coordinate_mapping.\n",
      "ERROR in my_node_coordinate_mapping.\n",
      "ERROR in my_node_coordinate_mapping.\n",
      "ERROR in my_node_coordinate_mapping.\n",
      "ERROR in my_node_coordinate_mapping.\n",
      "ERROR in my_node_coordinate_mapping.\n",
      "ERROR in my_node_coordinate_mapping.\n",
      "ERROR in my_node_coordinate_mapping.\n",
      "ERROR in my_node_coordinate_mapping.\n",
      "ERROR in my_node_coordinate_mapping.\n",
      "ERROR in my_node_coordinate_mapping.\n",
      "ERROR in my_node_coordinate_mapping.\n",
      "ERROR in my_node_coordinate_mapping.\n",
      "ERROR in my_node_coordinate_mapping.\n",
      "ERROR in my_node_coordinate_mapping.\n",
      "ERROR in my_node_coordinate_mapping.\n",
      "ERROR in my_node_coordinate_mapping.\n",
      "ERROR in my_node_coordinate_mapping.\n",
      "ERROR in my_node_coordinate_mapping.\n",
      "ERROR in my_node_coordinate_mapping.\n",
      "ERROR in my_node_coordinate_mapping.\n",
      "ERROR in my_node_coordinate_mapping.\n",
      "ERROR in my_node_coordinate_mapping.\n",
      "ERROR in my_node_coordinate_mapping.\n",
      "ERROR in my_node_coordinate_mapping.\n",
      "ERROR in my_node_coordinate_mapping.\n",
      "ERROR in my_node_coordinate_mapping.\n",
      "ERROR in my_node_coordinate_mapping.\n",
      "ERROR in my_node_coordinate_mapping.\n",
      "ERROR in my_node_coordinate_mapping.\n",
      "ERROR in my_node_coordinate_mapping.\n",
      "ERROR in my_node_coordinate_mapping.\n",
      "ERROR in my_node_coordinate_mapping.\n",
      "ERROR in my_node_coordinate_mapping.\n",
      "ERROR in my_node_coordinate_mapping.\n",
      "ERROR in my_node_coordinate_mapping.\n",
      "ERROR in my_node_coordinate_mapping.\n",
      "ERROR in my_node_coordinate_mapping.\n",
      "ERROR in my_node_coordinate_mapping.\n",
      "ERROR in my_node_coordinate_mapping.\n",
      "ERROR in my_node_coordinate_mapping.\n",
      "ERROR in my_node_coordinate_mapping.\n",
      "ERROR in my_node_coordinate_mapping.\n",
      "ERROR in my_node_coordinate_mapping.\n",
      "ERROR in my_node_coordinate_mapping.\n",
      "ERROR in my_node_coordinate_mapping.\n",
      "ERROR in my_node_coordinate_mapping.\n",
      "ERROR in my_node_coordinate_mapping.\n",
      "ERROR in my_node_coordinate_mapping.\n",
      "ERROR in my_node_coordinate_mapping.\n",
      "ERROR in my_node_coordinate_mapping.\n",
      "ERROR in my_node_coordinate_mapping.\n",
      "ERROR in my_node_coordinate_mapping.\n",
      "ERROR in my_node_coordinate_mapping.\n",
      "ERROR in my_node_coordinate_mapping.\n",
      "ERROR in my_node_coordinate_mapping.\n",
      "ERROR in my_node_coordinate_mapping.\n",
      "ERROR in my_node_coordinate_mapping.\n",
      "ERROR in my_node_coordinate_mapping.\n",
      "ERROR in my_node_coordinate_mapping.\n",
      "ERROR in my_node_coordinate_mapping.\n",
      "ERROR in my_node_coordinate_mapping.\n",
      "ERROR in my_node_coordinate_mapping.\n",
      "ERROR in my_node_coordinate_mapping.\n",
      "ERROR in my_node_coordinate_mapping.\n",
      "ERROR in my_node_coordinate_mapping.\n",
      "ERROR in my_node_coordinate_mapping.\n",
      "ERROR in my_node_coordinate_mapping.\n",
      "ERROR in my_node_coordinate_mapping.\n",
      "ERROR in my_node_coordinate_mapping.\n",
      "ERROR in my_node_coordinate_mapping.\n",
      "ERROR in my_node_coordinate_mapping.\n",
      "ERROR in my_node_coordinate_mapping.\n",
      "ERROR in my_node_coordinate_mapping.\n",
      "ERROR in my_node_coordinate_mapping.\n",
      "ERROR in my_node_coordinate_mapping.\n",
      "ERROR in my_node_coordinate_mapping.\n",
      "ERROR in my_node_coordinate_mapping.\n",
      "ERROR in my_node_coordinate_mapping.\n",
      "ERROR in my_node_coordinate_mapping.\n",
      "ERROR in my_node_coordinate_mapping.\n",
      "ERROR in my_node_coordinate_mapping.\n",
      "ERROR in my_node_coordinate_mapping.\n",
      "ERROR in my_node_coordinate_mapping.\n",
      "ERROR in my_node_coordinate_mapping.\n",
      "ERROR in my_node_coordinate_mapping.\n",
      "ERROR in my_node_coordinate_mapping.\n",
      "ERROR in my_node_coordinate_mapping.\n",
      "ERROR in my_node_coordinate_mapping.\n",
      "ERROR in my_node_coordinate_mapping.\n",
      "ERROR in my_node_coordinate_mapping.\n",
      "ERROR in my_node_coordinate_mapping.\n",
      "ERROR in my_node_coordinate_mapping.\n",
      "ERROR in my_node_coordinate_mapping.\n",
      "ERROR in my_node_coordinate_mapping.\n",
      "ERROR in my_node_coordinate_mapping.\n",
      "ERROR in my_node_coordinate_mapping.\n",
      "ERROR in my_node_coordinate_mapping.\n",
      "ERROR in my_node_coordinate_mapping.\n",
      "ERROR in my_node_coordinate_mapping.\n",
      "ERROR in my_node_coordinate_mapping.\n",
      "ERROR in my_node_coordinate_mapping.\n",
      "ERROR in my_node_coordinate_mapping.\n",
      "ERROR in my_node_coordinate_mapping.\n",
      "ERROR in my_node_coordinate_mapping.\n",
      "ERROR in my_node_coordinate_mapping.\n",
      "ERROR in my_node_coordinate_mapping.\n",
      "ERROR in my_node_coordinate_mapping.\n",
      "ERROR in my_node_coordinate_mapping.\n",
      "ERROR in my_node_coordinate_mapping.\n",
      "ERROR in my_node_coordinate_mapping.\n",
      "ERROR in my_node_coordinate_mapping.\n",
      "ERROR in my_node_coordinate_mapping.\n",
      "ERROR in my_node_coordinate_mapping.\n",
      "ERROR in my_node_coordinate_mapping.\n",
      "ERROR in my_node_coordinate_mapping.\n",
      "ERROR in my_node_coordinate_mapping.\n",
      "ERROR in my_node_coordinate_mapping.\n",
      "ERROR in my_node_coordinate_mapping.\n",
      "ERROR in my_node_coordinate_mapping.\n",
      "ERROR in my_node_coordinate_mapping.\n",
      "ERROR in my_node_coordinate_mapping.\n",
      "ERROR in my_node_coordinate_mapping.\n",
      "ERROR in my_node_coordinate_mapping.\n",
      "ERROR in my_node_coordinate_mapping.\n",
      "ERROR in my_node_coordinate_mapping.\n",
      "ERROR in my_node_coordinate_mapping.\n",
      "ERROR in my_node_coordinate_mapping.\n",
      "ERROR in my_node_coordinate_mapping.\n",
      "ERROR in my_node_coordinate_mapping.\n",
      "ERROR in my_node_coordinate_mapping.\n",
      "ERROR in my_node_coordinate_mapping.\n",
      "ERROR in my_node_coordinate_mapping.\n",
      "ERROR in my_node_coordinate_mapping.\n",
      "ERROR in my_node_coordinate_mapping.\n",
      "ERROR in my_node_coordinate_mapping.\n",
      "ERROR in my_node_coordinate_mapping.\n",
      "ERROR in my_node_coordinate_mapping.\n",
      "ERROR in my_node_coordinate_mapping.\n",
      "ERROR in my_node_coordinate_mapping.\n",
      "ERROR in my_node_coordinate_mapping.\n",
      "ERROR in my_node_coordinate_mapping.\n",
      "ERROR in my_node_coordinate_mapping.\n",
      "ERROR in my_node_coordinate_mapping.\n",
      "ERROR in my_node_coordinate_mapping.\n",
      "ERROR in my_node_coordinate_mapping.\n",
      "ERROR in my_node_coordinate_mapping.\n",
      "ERROR in my_node_coordinate_mapping.\n",
      "ERROR in my_node_coordinate_mapping.\n",
      "ERROR in my_node_coordinate_mapping.\n",
      "ERROR in my_node_coordinate_mapping.\n",
      "ERROR in my_node_coordinate_mapping.\n",
      "ERROR in my_node_coordinate_mapping.\n",
      "ERROR in my_node_coordinate_mapping.\n",
      "ERROR in my_node_coordinate_mapping.\n",
      "ERROR in my_node_coordinate_mapping.\n",
      "ERROR in my_node_coordinate_mapping.\n",
      "ERROR in my_node_coordinate_mapping.\n",
      "ERROR in my_node_coordinate_mapping.\n",
      "ERROR in my_node_coordinate_mapping.\n",
      "ERROR in my_node_coordinate_mapping.\n",
      "ERROR in my_node_coordinate_mapping.\n",
      "ERROR in my_node_coordinate_mapping.\n",
      "ERROR in my_node_coordinate_mapping.\n",
      "ERROR in my_node_coordinate_mapping.\n",
      "ERROR in my_node_coordinate_mapping.\n",
      "ERROR in my_node_coordinate_mapping.\n",
      "ERROR in my_node_coordinate_mapping.\n",
      "ERROR in my_node_coordinate_mapping.\n",
      "ERROR in my_node_coordinate_mapping.\n",
      "ERROR in my_node_coordinate_mapping.\n",
      "ERROR in my_node_coordinate_mapping.\n",
      "ERROR in my_node_coordinate_mapping.\n",
      "ERROR in my_node_coordinate_mapping.\n",
      "ERROR in my_node_coordinate_mapping.\n",
      "ERROR in my_node_coordinate_mapping.\n",
      "ERROR in my_node_coordinate_mapping.\n",
      "ERROR in my_node_coordinate_mapping.\n",
      "ERROR in my_node_coordinate_mapping.\n",
      "ERROR in my_node_coordinate_mapping.\n",
      "ERROR in my_node_coordinate_mapping.\n",
      "ERROR in my_node_coordinate_mapping.\n",
      "ERROR in my_node_coordinate_mapping.\n",
      "ERROR in my_node_coordinate_mapping.\n",
      "ERROR in my_node_coordinate_mapping.\n",
      "ERROR in my_node_coordinate_mapping.\n",
      "ERROR in my_node_coordinate_mapping.\n",
      "ERROR in my_node_coordinate_mapping.\n",
      "ERROR in my_node_coordinate_mapping.\n",
      "ERROR in my_node_coordinate_mapping.\n",
      "ERROR in my_node_coordinate_mapping.\n",
      "ERROR in my_node_coordinate_mapping.\n",
      "ERROR in my_node_coordinate_mapping.\n",
      "ERROR in my_node_coordinate_mapping.\n",
      "ERROR in my_node_coordinate_mapping.\n",
      "ERROR in my_node_coordinate_mapping.\n",
      "ERROR in my_node_coordinate_mapping.\n",
      "ERROR in my_node_coordinate_mapping.\n",
      "ERROR in my_node_coordinate_mapping.\n",
      "ERROR in my_node_coordinate_mapping.\n",
      "ERROR in my_node_coordinate_mapping.\n",
      "ERROR in my_node_coordinate_mapping.\n",
      "ERROR in my_node_coordinate_mapping.\n",
      "ERROR in my_node_coordinate_mapping.\n",
      "ERROR in my_node_coordinate_mapping.\n",
      "ERROR in my_node_coordinate_mapping.\n",
      "ERROR in my_node_coordinate_mapping.\n",
      "ERROR in my_node_coordinate_mapping.\n",
      "ERROR in my_node_coordinate_mapping.\n",
      "ERROR in my_node_coordinate_mapping.\n",
      "ERROR in my_node_coordinate_mapping.\n",
      "ERROR in my_node_coordinate_mapping.\n",
      "ERROR in my_node_coordinate_mapping.\n",
      "ERROR in my_node_coordinate_mapping.\n",
      "ERROR in my_node_coordinate_mapping.\n",
      "ERROR in my_node_coordinate_mapping.\n",
      "ERROR in my_node_coordinate_mapping.\n",
      "ERROR in my_node_coordinate_mapping.\n",
      "ERROR in my_node_coordinate_mapping.\n",
      "ERROR in my_node_coordinate_mapping.\n",
      "ERROR in my_node_coordinate_mapping.\n",
      "ERROR in my_node_coordinate_mapping.\n",
      "ERROR in my_node_coordinate_mapping.\n",
      "ERROR in my_node_coordinate_mapping.\n",
      "ERROR in my_node_coordinate_mapping.\n",
      "ERROR in my_node_coordinate_mapping.\n",
      "ERROR in my_node_coordinate_mapping.\n",
      "ERROR in my_node_coordinate_mapping.\n",
      "ERROR in my_node_coordinate_mapping.\n",
      "ERROR in my_node_coordinate_mapping.\n",
      "ERROR in my_node_coordinate_mapping.\n",
      "ERROR in my_node_coordinate_mapping.\n",
      "ERROR in my_node_coordinate_mapping.\n",
      "ERROR in my_node_coordinate_mapping.\n",
      "ERROR in my_node_coordinate_mapping.\n",
      "ERROR in my_node_coordinate_mapping.\n",
      "ERROR in my_node_coordinate_mapping.\n",
      "ERROR in my_node_coordinate_mapping.\n",
      "ERROR in my_node_coordinate_mapping.\n",
      "ERROR in my_node_coordinate_mapping.\n",
      "ERROR in my_node_coordinate_mapping.\n",
      "ERROR in my_node_coordinate_mapping.\n",
      "ERROR in my_node_coordinate_mapping.\n",
      "ERROR in my_node_coordinate_mapping.\n",
      "ERROR in my_node_coordinate_mapping.\n",
      "ERROR in my_node_coordinate_mapping.\n",
      "ERROR in my_node_coordinate_mapping.\n",
      "ERROR in my_node_coordinate_mapping.\n",
      "ERROR in my_node_coordinate_mapping.\n",
      "ERROR in my_node_coordinate_mapping.\n",
      "ERROR in my_node_coordinate_mapping.\n",
      "ERROR in my_node_coordinate_mapping.\n",
      "ERROR in my_node_coordinate_mapping.\n",
      "ERROR in my_node_coordinate_mapping.\n",
      "ERROR in my_node_coordinate_mapping.\n",
      "ERROR in my_node_coordinate_mapping.\n",
      "ERROR in my_node_coordinate_mapping.\n",
      "ERROR in my_node_coordinate_mapping.\n",
      "ERROR in my_node_coordinate_mapping.\n",
      "ERROR in my_node_coordinate_mapping.\n",
      "ERROR in my_node_coordinate_mapping.\n",
      "ERROR in my_node_coordinate_mapping.\n",
      "ERROR in my_node_coordinate_mapping.\n",
      "ERROR in my_node_coordinate_mapping.\n",
      "ERROR in my_node_coordinate_mapping.\n",
      "ERROR in my_node_coordinate_mapping.\n",
      "ERROR in my_node_coordinate_mapping.\n",
      "ERROR in my_node_coordinate_mapping.\n",
      "ERROR in my_node_coordinate_mapping.\n",
      "ERROR in my_node_coordinate_mapping.\n",
      "ERROR in my_node_coordinate_mapping.\n",
      "ERROR in my_node_coordinate_mapping.\n",
      "ERROR in my_node_coordinate_mapping.\n",
      "ERROR in my_node_coordinate_mapping.\n",
      "ERROR in my_node_coordinate_mapping.\n",
      "ERROR in my_node_coordinate_mapping.\n",
      "ERROR in my_node_coordinate_mapping.\n",
      "ERROR in my_node_coordinate_mapping.\n",
      "ERROR in my_node_coordinate_mapping.\n",
      "ERROR in my_node_coordinate_mapping.\n",
      "ERROR in my_node_coordinate_mapping.\n",
      "ERROR in my_node_coordinate_mapping.\n",
      "ERROR in my_node_coordinate_mapping.\n",
      "ERROR in my_node_coordinate_mapping.\n",
      "ERROR in my_node_coordinate_mapping.\n",
      "ERROR in my_node_coordinate_mapping.\n",
      "ERROR in my_node_coordinate_mapping.\n",
      "ERROR in my_node_coordinate_mapping.\n",
      "ERROR in my_node_coordinate_mapping.\n",
      "ERROR in my_node_coordinate_mapping.\n",
      "ERROR in my_node_coordinate_mapping.\n",
      "ERROR in my_node_coordinate_mapping.\n",
      "ERROR in my_node_coordinate_mapping.\n",
      "ERROR in my_node_coordinate_mapping.\n",
      "ERROR in my_node_coordinate_mapping.\n",
      "ERROR in my_node_coordinate_mapping.\n",
      "ERROR in my_node_coordinate_mapping.\n",
      "ERROR in my_node_coordinate_mapping.\n",
      "ERROR in my_node_coordinate_mapping.\n",
      "ERROR in my_node_coordinate_mapping.\n",
      "ERROR in my_node_coordinate_mapping.\n",
      "ERROR in my_node_coordinate_mapping.\n",
      "ERROR in my_node_coordinate_mapping.\n",
      "ERROR in my_node_coordinate_mapping.\n",
      "ERROR in my_node_coordinate_mapping.\n",
      "ERROR in my_node_coordinate_mapping.\n",
      "ERROR in my_node_coordinate_mapping.\n",
      "ERROR in my_node_coordinate_mapping.\n",
      "ERROR in my_node_coordinate_mapping.\n",
      "ERROR in my_node_coordinate_mapping.\n",
      "ERROR in my_node_coordinate_mapping.\n",
      "ERROR in my_node_coordinate_mapping.\n",
      "ERROR in my_node_coordinate_mapping.\n",
      "ERROR in my_node_coordinate_mapping.\n",
      "ERROR in my_node_coordinate_mapping.\n",
      "ERROR in my_node_coordinate_mapping.\n",
      "ERROR in my_node_coordinate_mapping.\n",
      "ERROR in my_node_coordinate_mapping.\n",
      "ERROR in my_node_coordinate_mapping.\n",
      "ERROR in my_node_coordinate_mapping.\n",
      "ERROR in my_node_coordinate_mapping.\n",
      "ERROR in my_node_coordinate_mapping.\n",
      "ERROR in my_node_coordinate_mapping.\n",
      "ERROR in my_node_coordinate_mapping.\n",
      "ERROR in my_node_coordinate_mapping.\n",
      "ERROR in my_node_coordinate_mapping.\n",
      "ERROR in my_node_coordinate_mapping.\n",
      "ERROR in my_node_coordinate_mapping.\n",
      "ERROR in my_node_coordinate_mapping.\n",
      "ERROR in my_node_coordinate_mapping.\n",
      "ERROR in my_node_coordinate_mapping.\n",
      "ERROR in my_node_coordinate_mapping.\n",
      "ERROR in my_node_coordinate_mapping.\n",
      "ERROR in my_node_coordinate_mapping.\n",
      "ERROR in my_node_coordinate_mapping.\n",
      "ERROR in my_node_coordinate_mapping.\n",
      "ERROR in my_node_coordinate_mapping.\n",
      "ERROR in my_node_coordinate_mapping.\n",
      "ERROR in my_node_coordinate_mapping.\n",
      "ERROR in my_node_coordinate_mapping.\n",
      "ERROR in my_node_coordinate_mapping.\n",
      "ERROR in my_node_coordinate_mapping.\n",
      "ERROR in my_node_coordinate_mapping.\n",
      "ERROR in my_node_coordinate_mapping.\n",
      "ERROR in my_node_coordinate_mapping.\n",
      "ERROR in my_node_coordinate_mapping.\n",
      "ERROR in my_node_coordinate_mapping.\n",
      "ERROR in my_node_coordinate_mapping.\n",
      "ERROR in my_node_coordinate_mapping.\n",
      "ERROR in my_node_coordinate_mapping.\n",
      "ERROR in my_node_coordinate_mapping.\n",
      "ERROR in my_node_coordinate_mapping.\n",
      "ERROR in my_node_coordinate_mapping.\n",
      "ERROR in my_node_coordinate_mapping.\n",
      "ERROR in my_node_coordinate_mapping.\n",
      "ERROR in my_node_coordinate_mapping.\n",
      "ERROR in my_node_coordinate_mapping.\n",
      "ERROR in my_node_coordinate_mapping.\n",
      "ERROR in my_node_coordinate_mapping.\n",
      "ERROR in my_node_coordinate_mapping.\n",
      "ERROR in my_node_coordinate_mapping.\n",
      "ERROR in my_node_coordinate_mapping.\n",
      "ERROR in my_node_coordinate_mapping.\n",
      "ERROR in my_node_coordinate_mapping.\n",
      "ERROR in my_node_coordinate_mapping.\n",
      "ERROR in my_node_coordinate_mapping.\n",
      "ERROR in my_node_coordinate_mapping.\n",
      "ERROR in my_node_coordinate_mapping.\n",
      "ERROR in my_node_coordinate_mapping.\n",
      "ERROR in my_node_coordinate_mapping.\n",
      "ERROR in my_node_coordinate_mapping.\n",
      "ERROR in my_node_coordinate_mapping.\n",
      "ERROR in my_node_coordinate_mapping.\n",
      "ERROR in my_node_coordinate_mapping.\n",
      "ERROR in my_node_coordinate_mapping.\n",
      "ERROR in my_node_coordinate_mapping.\n",
      "ERROR in my_node_coordinate_mapping.\n",
      "ERROR in my_node_coordinate_mapping.\n",
      "ERROR in my_node_coordinate_mapping.\n",
      "ERROR in my_node_coordinate_mapping.\n",
      "ERROR in my_node_coordinate_mapping.\n",
      "ERROR in my_node_coordinate_mapping.\n",
      "ERROR in my_node_coordinate_mapping.\n",
      "ERROR in my_node_coordinate_mapping.\n",
      "ERROR in my_node_coordinate_mapping.\n",
      "ERROR in my_node_coordinate_mapping.\n",
      "ERROR in my_node_coordinate_mapping.\n",
      "ERROR in my_node_coordinate_mapping.\n",
      "ERROR in my_node_coordinate_mapping.\n",
      "ERROR in my_node_coordinate_mapping.\n",
      "ERROR in my_node_coordinate_mapping.\n",
      "ERROR in my_node_coordinate_mapping.\n",
      "ERROR in my_node_coordinate_mapping.\n",
      "ERROR in my_node_coordinate_mapping.\n",
      "ERROR in my_node_coordinate_mapping.\n",
      "ERROR in my_node_coordinate_mapping.\n",
      "ERROR in my_node_coordinate_mapping.\n",
      "ERROR in my_node_coordinate_mapping.\n",
      "ERROR in my_node_coordinate_mapping.\n",
      "ERROR in my_node_coordinate_mapping.\n",
      "ERROR in my_node_coordinate_mapping.\n",
      "ERROR in my_node_coordinate_mapping.\n",
      "ERROR in my_node_coordinate_mapping.\n",
      "ERROR in my_node_coordinate_mapping.\n",
      "ERROR in my_node_coordinate_mapping.\n",
      "ERROR in my_node_coordinate_mapping.\n",
      "ERROR in my_node_coordinate_mapping.\n",
      "ERROR in my_node_coordinate_mapping.\n",
      "ERROR in my_node_coordinate_mapping.\n",
      "ERROR in my_node_coordinate_mapping.\n",
      "ERROR in my_node_coordinate_mapping.\n",
      "ERROR in my_node_coordinate_mapping.\n",
      "ERROR in my_node_coordinate_mapping.\n",
      "ERROR in my_node_coordinate_mapping.\n",
      "ERROR in my_node_coordinate_mapping.\n",
      "ERROR in my_node_coordinate_mapping.\n",
      "ERROR in my_node_coordinate_mapping.\n",
      "ERROR in my_node_coordinate_mapping.\n",
      "ERROR in my_node_coordinate_mapping.\n",
      "ERROR in my_node_coordinate_mapping.\n",
      "ERROR in my_node_coordinate_mapping.\n",
      "ERROR in my_node_coordinate_mapping.\n",
      "ERROR in my_node_coordinate_mapping.\n",
      "ERROR in my_node_coordinate_mapping.\n",
      "ERROR in my_node_coordinate_mapping.\n",
      "ERROR in my_node_coordinate_mapping.\n",
      "ERROR in my_node_coordinate_mapping.\n",
      "ERROR in my_node_coordinate_mapping.\n",
      "ERROR in my_node_coordinate_mapping.\n",
      "ERROR in my_node_coordinate_mapping.\n",
      "ERROR in my_node_coordinate_mapping.\n",
      "ERROR in my_node_coordinate_mapping.\n",
      "ERROR in my_node_coordinate_mapping.\n",
      "ERROR in my_node_coordinate_mapping.\n",
      "ERROR in my_node_coordinate_mapping.\n",
      "ERROR in my_node_coordinate_mapping.\n",
      "ERROR in my_node_coordinate_mapping.\n",
      "ERROR in my_node_coordinate_mapping.\n",
      "ERROR in my_node_coordinate_mapping.\n",
      "ERROR in my_node_coordinate_mapping.\n",
      "ERROR in my_node_coordinate_mapping.\n",
      "ERROR in my_node_coordinate_mapping.\n",
      "ERROR in my_node_coordinate_mapping.\n",
      "ERROR in my_node_coordinate_mapping.\n",
      "ERROR in my_node_coordinate_mapping.\n",
      "ERROR in my_node_coordinate_mapping.\n",
      "ERROR in my_node_coordinate_mapping.\n",
      "ERROR in my_node_coordinate_mapping.\n",
      "ERROR in my_node_coordinate_mapping.\n",
      "ERROR in my_node_coordinate_mapping.\n",
      "ERROR in my_node_coordinate_mapping.\n",
      "ERROR in my_node_coordinate_mapping.\n",
      "ERROR in my_node_coordinate_mapping.\n",
      "ERROR in my_node_coordinate_mapping.\n",
      "ERROR in my_node_coordinate_mapping.\n",
      "ERROR in my_node_coordinate_mapping.\n",
      "ERROR in my_node_coordinate_mapping.\n",
      "ERROR in my_node_coordinate_mapping.\n",
      "ERROR in my_node_coordinate_mapping.\n",
      "ERROR in my_node_coordinate_mapping.\n",
      "ERROR in my_node_coordinate_mapping.\n",
      "ERROR in my_node_coordinate_mapping.\n",
      "ERROR in my_node_coordinate_mapping.\n",
      "ERROR in my_node_coordinate_mapping.\n",
      "ERROR in my_node_coordinate_mapping.\n",
      "ERROR in my_node_coordinate_mapping.\n",
      "ERROR in my_node_coordinate_mapping.\n",
      "ERROR in my_node_coordinate_mapping.\n",
      "ERROR in my_node_coordinate_mapping.\n",
      "ERROR in my_node_coordinate_mapping.\n",
      "ERROR in my_node_coordinate_mapping.\n",
      "ERROR in my_node_coordinate_mapping.\n",
      "ERROR in my_node_coordinate_mapping.\n",
      "ERROR in my_node_coordinate_mapping.\n",
      "ERROR in my_node_coordinate_mapping.\n",
      "ERROR in my_node_coordinate_mapping.\n",
      "ERROR in my_node_coordinate_mapping.\n",
      "ERROR in my_node_coordinate_mapping.\n",
      "ERROR in my_node_coordinate_mapping.\n",
      "ERROR in my_node_coordinate_mapping.\n",
      "ERROR in my_node_coordinate_mapping.\n",
      "ERROR in my_node_coordinate_mapping.\n",
      "ERROR in my_node_coordinate_mapping.\n",
      "ERROR in my_node_coordinate_mapping.\n",
      "ERROR in my_node_coordinate_mapping.\n",
      "ERROR in my_node_coordinate_mapping.\n",
      "ERROR in my_node_coordinate_mapping.\n",
      "ERROR in my_node_coordinate_mapping.\n",
      "ERROR in my_node_coordinate_mapping.\n",
      "ERROR in my_node_coordinate_mapping.\n",
      "ERROR in my_node_coordinate_mapping.\n",
      "ERROR in my_node_coordinate_mapping.\n",
      "ERROR in my_node_coordinate_mapping.\n",
      "ERROR in my_node_coordinate_mapping.\n",
      "ERROR in my_node_coordinate_mapping.\n",
      "ERROR in my_node_coordinate_mapping.\n",
      "ERROR in my_node_coordinate_mapping.\n",
      "ERROR in my_node_coordinate_mapping.\n",
      "ERROR in my_node_coordinate_mapping.\n",
      "ERROR in my_node_coordinate_mapping.\n",
      "ERROR in my_node_coordinate_mapping.\n",
      "ERROR in my_node_coordinate_mapping.\n",
      "ERROR in my_node_coordinate_mapping.\n",
      "ERROR in my_node_coordinate_mapping.\n",
      "ERROR in my_node_coordinate_mapping.\n",
      "ERROR in my_node_coordinate_mapping.\n",
      "ERROR in my_node_coordinate_mapping.\n",
      "ERROR in my_node_coordinate_mapping.\n",
      "ERROR in my_node_coordinate_mapping.\n",
      "ERROR in my_node_coordinate_mapping.\n",
      "ERROR in my_node_coordinate_mapping.\n",
      "ERROR in my_node_coordinate_mapping.\n",
      "ERROR in my_node_coordinate_mapping.\n",
      "ERROR in my_node_coordinate_mapping.\n",
      "ERROR in my_node_coordinate_mapping.\n",
      "ERROR in my_node_coordinate_mapping.\n",
      "ERROR in my_node_coordinate_mapping.\n",
      "ERROR in my_node_coordinate_mapping.\n",
      "ERROR in my_node_coordinate_mapping.\n",
      "ERROR in my_node_coordinate_mapping.\n",
      "ERROR in my_node_coordinate_mapping.\n",
      "ERROR in my_node_coordinate_mapping.\n",
      "ERROR in my_node_coordinate_mapping.\n",
      "ERROR in my_node_coordinate_mapping.\n",
      "ERROR in my_node_coordinate_mapping.\n",
      "ERROR in my_node_coordinate_mapping.\n",
      "ERROR in my_node_coordinate_mapping.\n",
      "ERROR in my_node_coordinate_mapping.\n",
      "ERROR in my_node_coordinate_mapping.\n",
      "ERROR in my_node_coordinate_mapping.\n",
      "ERROR in my_node_coordinate_mapping.\n",
      "ERROR in my_node_coordinate_mapping.\n",
      "ERROR in my_node_coordinate_mapping.\n",
      "ERROR in my_node_coordinate_mapping.\n",
      "ERROR in my_node_coordinate_mapping.\n",
      "ERROR in my_node_coordinate_mapping.\n",
      "ERROR in my_node_coordinate_mapping.\n",
      "ERROR in my_node_coordinate_mapping.\n",
      "ERROR in my_node_coordinate_mapping.\n",
      "ERROR in my_node_coordinate_mapping.\n",
      "ERROR in my_node_coordinate_mapping.\n",
      "ERROR in my_node_coordinate_mapping.\n",
      "ERROR in my_node_coordinate_mapping.\n",
      "ERROR in my_node_coordinate_mapping.\n",
      "ERROR in my_node_coordinate_mapping.\n",
      "ERROR in my_node_coordinate_mapping.\n",
      "ERROR in my_node_coordinate_mapping.\n",
      "ERROR in my_node_coordinate_mapping.\n",
      "ERROR in my_node_coordinate_mapping.\n",
      "ERROR in my_node_coordinate_mapping.\n",
      "ERROR in my_node_coordinate_mapping.\n",
      "ERROR in my_node_coordinate_mapping.\n",
      "ERROR in my_node_coordinate_mapping.\n",
      "ERROR in my_node_coordinate_mapping.\n",
      "ERROR in my_node_coordinate_mapping.\n",
      "ERROR in my_node_coordinate_mapping.\n",
      "ERROR in my_node_coordinate_mapping.\n",
      "ERROR in my_node_coordinate_mapping.\n",
      "ERROR in my_node_coordinate_mapping.\n",
      "ERROR in my_node_coordinate_mapping.\n",
      "ERROR in my_node_coordinate_mapping.\n",
      "ERROR in my_node_coordinate_mapping.\n",
      "ERROR in my_node_coordinate_mapping.\n",
      "ERROR in my_node_coordinate_mapping.\n",
      "ERROR in my_node_coordinate_mapping.\n",
      "ERROR in my_node_coordinate_mapping.\n",
      "ERROR in my_node_coordinate_mapping.\n",
      "ERROR in my_node_coordinate_mapping.\n",
      "ERROR in my_node_coordinate_mapping.\n",
      "ERROR in my_node_coordinate_mapping.\n",
      "ERROR in my_node_coordinate_mapping.\n",
      "ERROR in my_node_coordinate_mapping.\n",
      "ERROR in my_node_coordinate_mapping.\n",
      "ERROR in my_node_coordinate_mapping.\n",
      "ERROR in my_node_coordinate_mapping.\n",
      "ERROR in my_node_coordinate_mapping.\n",
      "ERROR in my_node_coordinate_mapping.\n",
      "ERROR in my_node_coordinate_mapping.\n",
      "ERROR in my_node_coordinate_mapping.\n",
      "ERROR in my_node_coordinate_mapping.\n",
      "ERROR in my_node_coordinate_mapping.\n",
      "ERROR in my_node_coordinate_mapping.\n",
      "ERROR in my_node_coordinate_mapping.\n",
      "ERROR in my_node_coordinate_mapping.\n",
      "ERROR in my_node_coordinate_mapping.\n",
      "ERROR in my_node_coordinate_mapping.\n",
      "ERROR in my_node_coordinate_mapping.\n",
      "ERROR in my_node_coordinate_mapping.\n",
      "ERROR in my_node_coordinate_mapping.\n",
      "ERROR in my_node_coordinate_mapping.\n",
      "ERROR in my_node_coordinate_mapping.\n",
      "ERROR in my_node_coordinate_mapping.\n",
      "ERROR in my_node_coordinate_mapping.\n",
      "ERROR in my_node_coordinate_mapping.\n",
      "ERROR in my_node_coordinate_mapping.\n",
      "ERROR in my_node_coordinate_mapping.\n",
      "ERROR in my_node_coordinate_mapping.\n",
      "ERROR in my_node_coordinate_mapping.\n",
      "ERROR in my_node_coordinate_mapping.\n",
      "ERROR in my_node_coordinate_mapping.\n",
      "ERROR in my_node_coordinate_mapping.\n",
      "ERROR in my_node_coordinate_mapping.\n",
      "ERROR in my_node_coordinate_mapping.\n",
      "ERROR in my_node_coordinate_mapping.\n",
      "ERROR in my_node_coordinate_mapping.\n",
      "ERROR in my_node_coordinate_mapping.\n",
      "ERROR in my_node_coordinate_mapping.\n",
      "ERROR in my_node_coordinate_mapping.\n",
      "ERROR in my_node_coordinate_mapping.\n",
      "ERROR in my_node_coordinate_mapping.\n",
      "ERROR in my_node_coordinate_mapping.\n",
      "ERROR in my_node_coordinate_mapping.\n",
      "ERROR in my_node_coordinate_mapping.\n",
      "ERROR in my_node_coordinate_mapping.\n",
      "ERROR in my_node_coordinate_mapping.\n",
      "ERROR in my_node_coordinate_mapping.\n",
      "ERROR in my_node_coordinate_mapping.\n",
      "ERROR in my_node_coordinate_mapping.\n",
      "ERROR in my_node_coordinate_mapping.\n",
      "ERROR in my_node_coordinate_mapping.\n",
      "ERROR in my_node_coordinate_mapping.\n",
      "ERROR in my_node_coordinate_mapping.\n",
      "ERROR in my_node_coordinate_mapping.\n",
      "ERROR in my_node_coordinate_mapping.\n",
      "ERROR in my_node_coordinate_mapping.\n",
      "ERROR in my_node_coordinate_mapping.\n",
      "ERROR in my_node_coordinate_mapping.\n",
      "ERROR in my_node_coordinate_mapping.\n",
      "ERROR in my_node_coordinate_mapping.\n",
      "ERROR in my_node_coordinate_mapping.\n",
      "ERROR in my_node_coordinate_mapping.\n",
      "ERROR in my_node_coordinate_mapping.\n",
      "ERROR in my_node_coordinate_mapping.\n",
      "ERROR in my_node_coordinate_mapping.\n",
      "ERROR in my_node_coordinate_mapping.\n",
      "ERROR in my_node_coordinate_mapping.\n",
      "ERROR in my_node_coordinate_mapping.\n",
      "ERROR in my_node_coordinate_mapping.\n",
      "ERROR in my_node_coordinate_mapping.\n",
      "ERROR in my_node_coordinate_mapping.\n",
      "ERROR in my_node_coordinate_mapping.\n",
      "ERROR in my_node_coordinate_mapping.\n",
      "ERROR in my_node_coordinate_mapping.\n",
      "ERROR in my_node_coordinate_mapping.\n",
      "ERROR in my_node_coordinate_mapping.\n",
      "ERROR in my_node_coordinate_mapping.\n",
      "ERROR in my_node_coordinate_mapping.\n",
      "ERROR in my_node_coordinate_mapping.\n",
      "ERROR in my_node_coordinate_mapping.\n",
      "ERROR in my_node_coordinate_mapping.\n",
      "ERROR in my_node_coordinate_mapping.\n",
      "ERROR in my_node_coordinate_mapping.\n",
      "ERROR in my_node_coordinate_mapping.\n",
      "ERROR in my_node_coordinate_mapping.\n",
      "ERROR in my_node_coordinate_mapping.\n",
      "ERROR in my_node_coordinate_mapping.\n",
      "ERROR in my_node_coordinate_mapping.\n",
      "ERROR in my_node_coordinate_mapping.\n",
      "ERROR in my_node_coordinate_mapping.\n",
      "ERROR in my_node_coordinate_mapping.\n",
      "ERROR in my_node_coordinate_mapping.\n",
      "ERROR in my_node_coordinate_mapping.\n",
      "ERROR in my_node_coordinate_mapping.\n",
      "ERROR in my_node_coordinate_mapping.\n",
      "ERROR in my_node_coordinate_mapping.\n",
      "ERROR in my_node_coordinate_mapping.\n",
      "ERROR in my_node_coordinate_mapping.\n",
      "ERROR in my_node_coordinate_mapping.\n",
      "ERROR in my_node_coordinate_mapping.\n",
      "ERROR in my_node_coordinate_mapping.\n",
      "ERROR in my_node_coordinate_mapping.\n",
      "ERROR in my_node_coordinate_mapping.\n",
      "ERROR in my_node_coordinate_mapping.\n",
      "ERROR in my_node_coordinate_mapping.\n",
      "ERROR in my_node_coordinate_mapping.\n",
      "ERROR in my_node_coordinate_mapping.\n",
      "ERROR in my_node_coordinate_mapping.\n",
      "ERROR in my_node_coordinate_mapping.\n",
      "ERROR in my_node_coordinate_mapping.\n",
      "ERROR in my_node_coordinate_mapping.\n",
      "ERROR in my_node_coordinate_mapping.\n",
      "ERROR in my_node_coordinate_mapping.\n",
      "ERROR in my_node_coordinate_mapping.\n",
      "ERROR in my_node_coordinate_mapping.\n",
      "ERROR in my_node_coordinate_mapping.\n",
      "ERROR in my_node_coordinate_mapping.\n",
      "ERROR in my_node_coordinate_mapping.\n",
      "ERROR in my_node_coordinate_mapping.\n",
      "ERROR in my_node_coordinate_mapping.\n",
      "ERROR in my_node_coordinate_mapping.\n",
      "ERROR in my_node_coordinate_mapping.\n",
      "ERROR in my_node_coordinate_mapping.\n",
      "ERROR in my_node_coordinate_mapping.\n",
      "ERROR in my_node_coordinate_mapping.\n",
      "ERROR in my_node_coordinate_mapping.\n",
      "ERROR in my_node_coordinate_mapping.\n",
      "ERROR in my_node_coordinate_mapping.\n",
      "ERROR in my_node_coordinate_mapping.\n",
      "ERROR in my_node_coordinate_mapping.\n",
      "ERROR in my_node_coordinate_mapping.\n",
      "ERROR in my_node_coordinate_mapping.\n",
      "ERROR in my_node_coordinate_mapping.\n",
      "ERROR in my_node_coordinate_mapping.\n",
      "ERROR in my_node_coordinate_mapping.\n",
      "ERROR in my_node_coordinate_mapping.\n",
      "ERROR in my_node_coordinate_mapping.\n",
      "ERROR in my_node_coordinate_mapping.\n",
      "ERROR in my_node_coordinate_mapping.\n",
      "ERROR in my_node_coordinate_mapping.\n",
      "ERROR in my_node_coordinate_mapping.\n",
      "ERROR in my_node_coordinate_mapping.\n",
      "ERROR in my_node_coordinate_mapping.\n",
      "ERROR in my_node_coordinate_mapping.\n",
      "ERROR in my_node_coordinate_mapping.\n",
      "ERROR in my_node_coordinate_mapping.\n",
      "ERROR in my_node_coordinate_mapping.\n",
      "ERROR in my_node_coordinate_mapping.\n",
      "ERROR in my_node_coordinate_mapping.\n",
      "ERROR in my_node_coordinate_mapping.\n",
      "ERROR in my_node_coordinate_mapping.\n",
      "ERROR in my_node_coordinate_mapping.\n",
      "ERROR in my_node_coordinate_mapping.\n",
      "ERROR in my_node_coordinate_mapping.\n",
      "ERROR in my_node_coordinate_mapping.\n",
      "ERROR in my_node_coordinate_mapping.\n",
      "ERROR in my_node_coordinate_mapping.\n",
      "ERROR in my_node_coordinate_mapping.\n",
      "ERROR in my_node_coordinate_mapping.\n",
      "ERROR in my_node_coordinate_mapping.\n",
      "ERROR in my_node_coordinate_mapping.\n",
      "ERROR in my_node_coordinate_mapping.\n"
     ]
    },
    {
     "data": {
      "application/vnd.jupyter.widget-view+json": {
       "model_id": "9257d0980697462c8b01c3a12f57023b",
       "version_major": 2,
       "version_minor": 0
      },
      "text/plain": [
       "GraphWidget(layout=Layout(height='800px', width='100%'))"
      ]
     },
     "metadata": {},
     "output_type": "display_data"
    }
   ],
   "source": [
    "display(w)"
   ]
  },
  {
   "cell_type": "code",
   "execution_count": null,
   "id": "26e74204-a68c-4838-a4a5-fd8eb88791c2",
   "metadata": {},
   "outputs": [],
   "source": []
  },
  {
   "cell_type": "code",
   "execution_count": null,
   "id": "3c76d8ce-bffe-41a8-8365-6934a2ee848b",
   "metadata": {},
   "outputs": [],
   "source": []
  }
 ],
 "metadata": {
  "kernelspec": {
   "display_name": "Python 3 (ipykernel)",
   "language": "python",
   "name": "python3"
  },
  "language_info": {
   "codemirror_mode": {
    "name": "ipython",
    "version": 3
   },
   "file_extension": ".py",
   "mimetype": "text/x-python",
   "name": "python",
   "nbconvert_exporter": "python",
   "pygments_lexer": "ipython3",
   "version": "3.11.5"
  }
 },
 "nbformat": 4,
 "nbformat_minor": 5
}
