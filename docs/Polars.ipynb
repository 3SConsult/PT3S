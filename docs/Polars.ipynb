{
 "cells": [
  {
   "cell_type": "markdown",
   "id": "83b41c1a-7c11-4f58-8ec8-aaab92db3ae9",
   "metadata": {},
   "source": [
    "# Interactive Map and Network Color Diagram"
   ]
  },
  {
   "cell_type": "raw",
   "id": "f3bdd09f-085e-46b4-966b-5f631c7d1e5b",
   "metadata": {},
   "source": [
    "This example demonstrates how GeoDataFrames (gdfs) created by PT3S can be used with geopandas' explore for interactive maps with folium/leaflet.js and with geopandas' plot with matplotlib."
   ]
  },
  {
   "cell_type": "markdown",
   "id": "ce26c003-1f2e-429e-918f-0565755a86c3",
   "metadata": {},
   "source": [
    "# PT3S Release"
   ]
  },
  {
   "cell_type": "code",
   "execution_count": 1,
   "id": "931e173f-f062-4a80-a56f-0d96d5c27092",
   "metadata": {
    "tags": []
   },
   "outputs": [],
   "source": [
    "#pip install PT3S -U --no-deps"
   ]
  },
  {
   "cell_type": "markdown",
   "id": "c981baa1-4927-45e7-87d3-c4db80bdbf55",
   "metadata": {},
   "source": [
    "# Necessary packages for this Example"
   ]
  },
  {
   "cell_type": "raw",
   "id": "9c3320a8-76c3-41cf-9216-2f9cdf06488b",
   "metadata": {},
   "source": [
    "When running this example for the first time on your machine, please execute the cell below. Afterward, you may need to restart the kernel (using the ‘fast-forward’ button)."
   ]
  },
  {
   "cell_type": "code",
   "execution_count": 2,
   "id": "26ea701e-ddaa-4ee8-b865-c40f194a5afb",
   "metadata": {},
   "outputs": [
    {
     "name": "stdout",
     "output_type": "stream",
     "text": [
      "Note: you may need to restart the kernel to use updated packages.\n"
     ]
    }
   ],
   "source": [
    "pip -q install Pillow selenium"
   ]
  },
  {
   "cell_type": "markdown",
   "id": "624d59c8-34e6-4949-bfa5-125c9b964242",
   "metadata": {},
   "source": [
    "# Imports"
   ]
  },
  {
   "cell_type": "code",
   "execution_count": null,
   "id": "87b7db9e-ba57-4acc-b006-99dfcd48d2ad",
   "metadata": {
    "tags": []
   },
   "outputs": [
    {
     "ename": "ImportError",
     "evalue": "DLL load failed while importing _multiarray_umath: Das angegebene Modul wurde nicht gefunden.",
     "output_type": "error",
     "traceback": [
      "\u001b[1;31m---------------------------------------------------------------------------\u001b[0m",
      "\u001b[1;31mImportError\u001b[0m                               Traceback (most recent call last)",
      "\u001b[1;31mImportError\u001b[0m: DLL load failed while importing _multiarray_umath: Das angegebene Modul wurde nicht gefunden."
     ]
    },
    {
     "ename": "ImportError",
     "evalue": "DLL load failed while importing _multiarray_umath: Das angegebene Modul wurde nicht gefunden.",
     "output_type": "error",
     "traceback": [
      "\u001b[1;31m---------------------------------------------------------------------------\u001b[0m",
      "\u001b[1;31mImportError\u001b[0m                               Traceback (most recent call last)",
      "\u001b[1;31mImportError\u001b[0m: DLL load failed while importing _multiarray_umath: Das angegebene Modul wurde nicht gefunden."
     ]
    }
   ],
   "source": [
    "import os\n",
    "import geopandas\n",
    "import logging\n",
    "import pandas as pd\n",
    "import io\n",
    "import subprocess\n",
    "import matplotlib.pyplot as plt\n",
    "import contextily as cx\n",
    "import polars as pl\n",
    "\n",
    "from PIL import Image\n",
    "\n",
    "import folium\n",
    "from folium.plugins import HeatMap\n",
    "\n",
    "try:\n",
    "    from PT3S import dxAndMxHelperFcts\n",
    "except:\n",
    "    import dxAndMxHelperFcts\n",
    "\n",
    "try:\n",
    "    from PT3S import ncd\n",
    "except:\n",
    "    import ncd\n",
    "\n",
    "try:\n",
    "    from PT3S import Rm\n",
    "except:\n",
    "    import Rm"
   ]
  },
  {
   "cell_type": "code",
   "execution_count": null,
   "id": "0e412b0f-15a9-4d1b-9841-34a10e25b0b3",
   "metadata": {
    "tags": []
   },
   "outputs": [],
   "source": [
    "import importlib"
   ]
  },
  {
   "cell_type": "code",
   "execution_count": null,
   "id": "8ead8811-6d1d-4376-88ba-8ac748284e77",
   "metadata": {
    "tags": []
   },
   "outputs": [],
   "source": [
    "importlib.reload(dxAndMxHelperFcts)"
   ]
  },
  {
   "cell_type": "markdown",
   "id": "a0eaca09-f75e-4c9e-912a-ef48b45f8af1",
   "metadata": {},
   "source": [
    "# Logging"
   ]
  },
  {
   "cell_type": "code",
   "execution_count": null,
   "id": "852d5593-37d0-4ccb-be1f-29154bdc142f",
   "metadata": {},
   "outputs": [],
   "source": [
    "logger = logging.getLogger()  \n",
    "\n",
    "logFileName= r\"Example1.log\" \n",
    "\n",
    "loglevel = logging.DEBUG\n",
    "logging.basicConfig(filename=logFileName\n",
    "                        ,filemode='w'\n",
    "                        ,level=loglevel\n",
    "                        ,format=\"%(asctime)s ; %(name)-60s ; %(levelname)-7s ; %(message)s\")    \n",
    "\n",
    "fileHandler = logging.FileHandler(logFileName)     \n",
    "\n",
    "logger.addHandler(fileHandler)\n",
    "\n",
    "consoleHandler = logging.StreamHandler()\n",
    "consoleHandler.setFormatter(logging.Formatter(\"%(levelname)-7s ; %(message)s\"))\n",
    "consoleHandler.setLevel(logging.INFO)\n",
    "logger.addHandler(consoleHandler)"
   ]
  },
  {
   "cell_type": "markdown",
   "id": "3a6bd6b9-42a6-432c-bad2-fc05b35b13a4",
   "metadata": {},
   "source": [
    "# Read Model and Results"
   ]
  },
  {
   "cell_type": "code",
   "execution_count": null,
   "id": "29b18b2c-f2df-4b27-a96c-0e03af6f16b0",
   "metadata": {},
   "outputs": [],
   "source": [
    "dbFilename=\"Example1\"\n",
    "dbFile=os.path.join(os.path.dirname(os.path.abspath(dxAndMxHelperFcts.__file__))\n",
    "                    +'/Examples/'\n",
    "                    +dbFilename\n",
    "                    +'.db3'\n",
    ")"
   ]
  },
  {
   "cell_type": "code",
   "execution_count": null,
   "id": "f8b5221c-0fd1-4fbc-abaf-81325ad2629d",
   "metadata": {},
   "outputs": [],
   "source": [
    "m=dxAndMxHelperFcts.readDxAndMx(dbFile=dbFile                                 \n",
    "                                ,preventPklDump=True\n",
    "                                ,maxRecords=-1\n",
    ")"
   ]
  },
  {
   "cell_type": "code",
   "execution_count": null,
   "id": "1a697749-2c7c-4836-b447-42f29c02cf3d",
   "metadata": {},
   "outputs": [],
   "source": [
    "pandas_df=m.gdf_ROHR"
   ]
  },
  {
   "cell_type": "code",
   "execution_count": null,
   "id": "4bd8e49d-6a88-434b-9087-6a084c96b78e",
   "metadata": {},
   "outputs": [],
   "source": [
    "polars_df = pl.from_pandas(pandas_df)"
   ]
  },
  {
   "cell_type": "code",
   "execution_count": null,
   "id": "5d0d34b1-f561-4f81-9f9e-095b10d4327c",
   "metadata": {},
   "outputs": [],
   "source": []
  }
 ],
 "metadata": {
  "kernelspec": {
   "display_name": "Python 3 (ipykernel)",
   "language": "python",
   "name": "python3"
  },
  "language_info": {
   "codemirror_mode": {
    "name": "ipython",
    "version": 3
   },
   "file_extension": ".py",
   "mimetype": "text/x-python",
   "name": "python",
   "nbconvert_exporter": "python",
   "pygments_lexer": "ipython3",
   "version": "3.11.8"
  }
 },
 "nbformat": 4,
 "nbformat_minor": 5
}
