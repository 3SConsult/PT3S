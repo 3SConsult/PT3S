





import os
import geopandas
import logging

try:
    from PT3S import dxAndMxHelperFcts
except:
    import dxAndMxHelperFcts


pt3s_path = os.path.dirname(os.path.abspath(dxAndMxHelperFcts.__file__))
print(pt3s_path)





logger = logging.getLogger()  

logFileName= r"Example2.log" 

loglevel = logging.DEBUG
logging.basicConfig(filename=logFileName
                        ,filemode='w'
                        ,level=loglevel
                        ,format="%(asctime)s ; %(name)-60s ; %(levelname)-7s ; %(message)s")    

fileHandler = logging.FileHandler(logFileName)     

logger.addHandler(fileHandler)

consoleHandler = logging.StreamHandler()
consoleHandler.setFormatter(logging.Formatter("%(levelname)-7s ; %(message)s"))
consoleHandler.setLevel(logging.INFO)
logger.addHandler(consoleHandler)





dbFilename="Wärmenetz-Planungsbeispiel"





m=dxAndMxHelperFcts.readDxAndMx(dbFile=os.path.join(pt3s_path+'/Examples/'+dbFilename+'.db3')
                                ,preventPklDump=True
                               )





gdf_ROHR=m.gdf_ROHR
gdf_FWVB=m.gdf_FWVB


gdf_ROHR = gdf_ROHR.dropna(subset=['geometry', 'QMAVAbs', 'KVR'])
gdf_FWVB = gdf_FWVB.dropna(subset=['geometry', 'W'])


ma=gdf_ROHR[gdf_ROHR['KVR'].isin([1.,None])].loc[:,['geometry', 'QMAVAbs']].explore(color = 'grey')
gdf_FWVB.loc[:,['geometry','W']].explore(color='red',m=ma)
