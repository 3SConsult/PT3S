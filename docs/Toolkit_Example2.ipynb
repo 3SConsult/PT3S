{
 "cells": [
  {
   "cell_type": "markdown",
   "id": "3255a10d-c878-414b-adf8-3a0783370118",
   "metadata": {},
   "source": [
    "# Toolkit Example 2: Create new SIR 3S model"
   ]
  },
  {
   "cell_type": "raw",
   "id": "f6c53a45-cc22-45fe-a057-ccccf1b875d9",
   "metadata": {
    "vscode": {
     "languageId": "raw"
    }
   },
   "source": [
    "This example demonstrates how to set up a new SIR 3S model. Nodes and pipes are inserted and the model is calculated."
   ]
  },
  {
   "cell_type": "markdown",
   "id": "b8f35041-1c2c-4afb-841d-e0b3db4b2064",
   "metadata": {},
   "source": [
    "# Imports"
   ]
  },
  {
   "cell_type": "code",
   "execution_count": 1,
   "id": "a4e9f0d7-97b1-4baf-86c0-b65bb866c707",
   "metadata": {},
   "outputs": [],
   "source": [
    "import os\n",
    "import re\n",
    "import xml.etree.ElementTree as ET\n",
    "import pandas as pd\n",
    "import matplotlib.pyplot as plt\n",
    "import random\n",
    "import math\n",
    "import sqlite3"
   ]
  },
  {
   "cell_type": "code",
   "execution_count": 2,
   "id": "234d394f-6a9a-4b2d-9cec-77b210c61d2e",
   "metadata": {},
   "outputs": [],
   "source": [
    "import clr as net"
   ]
  },
  {
   "cell_type": "code",
   "execution_count": 3,
   "id": "519ab605-78c2-48fc-994b-ab91c4f127da",
   "metadata": {},
   "outputs": [
    {
     "data": {
      "text/plain": [
       "<System.Reflection.RuntimeAssembly object at 0x0000016DE2F6D440>"
      ]
     },
     "execution_count": 3,
     "metadata": {},
     "output_type": "execute_result"
    }
   ],
   "source": [
    "net.AddReference(r\"C:\\3S\\SIR 3S Entwicklung\\SirGraf-90-15-00-04x64\\Sir3S_Repository.Interfaces.dll\")"
   ]
  },
  {
   "cell_type": "code",
   "execution_count": 4,
   "id": "a99bd291-8235-46ce-9ae5-83e712dd247b",
   "metadata": {},
   "outputs": [],
   "source": [
    "import PythonWrapperToolkit"
   ]
  },
  {
   "cell_type": "code",
   "execution_count": 5,
   "id": "670648cf-ef51-4ff2-8e37-9733b981e6f0",
   "metadata": {},
   "outputs": [],
   "source": [
    "from PythonWrapperToolkit import SIR3S_Model, SIR3S_View"
   ]
  },
  {
   "cell_type": "code",
   "execution_count": 6,
   "id": "a07a1683-d504-438b-98e3-4d4c9a890d79",
   "metadata": {},
   "outputs": [
    {
     "name": "stdout",
     "output_type": "stream",
     "text": [
      "Initialization complete\n"
     ]
    }
   ],
   "source": [
    "s3s = PythonWrapperToolkit.SIR3S_Model()"
   ]
  },
  {
   "cell_type": "code",
   "execution_count": 7,
   "id": "17412053-1fe2-4b20-a4f1-6adf4c1cdf9a",
   "metadata": {},
   "outputs": [],
   "source": [
    "import Sir3S_Repository.Interfaces as Interfaces"
   ]
  },
  {
   "cell_type": "markdown",
   "id": "2fbdef1c-62b9-4ba1-93ee-345d52120021",
   "metadata": {},
   "source": [
    "# Create new model file"
   ]
  },
  {
   "cell_type": "code",
   "execution_count": 8,
   "id": "d3e49ef8-ab66-4702-bf86-f58d2ac192ed",
   "metadata": {},
   "outputs": [],
   "source": [
    "try:\n",
    "    from PT3S import dxAndMxHelperFcts\n",
    "except:\n",
    "    import dxAndMxHelperFcts\n",
    "dbFilename=\"Toolkit_Example2\"\n",
    "dbFile=os.path.join(os.path.dirname(os.path.abspath(dxAndMxHelperFcts.__file__))\n",
    "                    +'/Examples'\n",
    "                    +'/Toolkit_Examples/'\n",
    "                    +dbFilename\n",
    "                    +'.db3'\n",
    ")"
   ]
  },
  {
   "cell_type": "code",
   "execution_count": 9,
   "id": "9f7dab19-3f3c-49b1-9d66-f2b0b59a3ba4",
   "metadata": {},
   "outputs": [],
   "source": [
    "%%capture captured_output\n",
    "s3s.NewModel(dbName=dbFile, \n",
    "                           providerType=Interfaces.SirDBProviderType.SQLite, \n",
    "                           namedInstance=\"\", \n",
    "                           netType=Interfaces.NetworkType.DistrictHeating,\n",
    "                           modelDescription=\"Toolkit_Example2\",\n",
    "                           userID=\"\", \n",
    "                           password=\"\")"
   ]
  },
  {
   "cell_type": "code",
   "execution_count": 10,
   "id": "dc90440f-82f0-48aa-b51f-a82ed4d6484d",
   "metadata": {},
   "outputs": [],
   "source": [
    "output_str = captured_output.stdout"
   ]
  },
  {
   "cell_type": "code",
   "execution_count": 11,
   "id": "d5602727-6cbd-486d-a8a7-9a7985549b20",
   "metadata": {},
   "outputs": [],
   "source": [
    "# Extract the first number between two hyphens from the output\n",
    "match = re.search(r\"New model is created with the model identifier: M-(\\d+)-\\d+-\\d+\", output_str)\n",
    "if match:\n",
    "    identifier_number = match.group(1)"
   ]
  },
  {
   "cell_type": "code",
   "execution_count": 12,
   "id": "212fb56e-8a8e-4e95-b0d4-2cc489770204",
   "metadata": {},
   "outputs": [],
   "source": [
    "m=1 #scaling factor for network"
   ]
  },
  {
   "cell_type": "markdown",
   "id": "116a0b87-10aa-4fa7-a61e-ccf87ad0258c",
   "metadata": {},
   "source": [
    "# Nodes"
   ]
  },
  {
   "cell_type": "markdown",
   "id": "42d781c0-0951-450c-9158-53d289760a30",
   "metadata": {},
   "source": [
    "## Insert Nodes"
   ]
  },
  {
   "cell_type": "code",
   "execution_count": 13,
   "id": "22899981-9f92-41b2-a8b9-d39e697cff9b",
   "metadata": {},
   "outputs": [
    {
     "name": "stdout",
     "output_type": "stream",
     "text": [
      "Now you can make changes to the model\n",
      "Element inserted successfully into the model with Tk: 5154500391023841962\n",
      "Element inserted successfully into the model with Tk: 5260563732980413801\n",
      "Element inserted successfully into the model with Tk: 5560708786139026579\n",
      "Element inserted successfully into the model with Tk: 5369474337961706963\n",
      "Element inserted successfully into the model with Tk: 5287731019872477731\n",
      "Element inserted successfully into the model with Tk: 5530694472180387074\n",
      "Edit Session has ended. Please open up a new session if you want to make further changes\n",
      "Changes saved successfully\n"
     ]
    }
   ],
   "source": [
    "s3s.StartEditSession(SessionName=\"Insert nodes\")\n",
    "\n",
    "node0 = s3s.InsertElement(ElementType=Interfaces.Sir3SObjectTypes.Node)\n",
    "\n",
    "node1 = s3s.InsertElement(ElementType=Interfaces.Sir3SObjectTypes.Node)\n",
    "\n",
    "node2 = s3s.InsertElement(ElementType=Interfaces.Sir3SObjectTypes.Node)\n",
    "\n",
    "node3 = s3s.InsertElement(ElementType=Interfaces.Sir3SObjectTypes.Node)\n",
    "\n",
    "node4 = s3s.InsertElement(ElementType=Interfaces.Sir3SObjectTypes.Node)\n",
    "\n",
    "node5 = s3s.InsertElement(ElementType=Interfaces.Sir3SObjectTypes.Node)\n",
    "\n",
    "s3s.EndEditSession()\n",
    "s3s.SaveChanges()"
   ]
  },
  {
   "cell_type": "code",
   "execution_count": 14,
   "id": "1e5fb502-4d6f-4ea3-9fa8-84dc1a3b7f7c",
   "metadata": {},
   "outputs": [],
   "source": [
    "node_tks=s3s.GetTksofElementType(Interfaces.Sir3SObjectTypes.Node)"
   ]
  },
  {
   "cell_type": "markdown",
   "id": "dae86111-1594-4ac5-b6a1-c02c261c759f",
   "metadata": {},
   "source": [
    "## Set Coordinates"
   ]
  },
  {
   "cell_type": "code",
   "execution_count": 15,
   "id": "f8b2455b-5afc-4eb8-ac9f-e50249f6a868",
   "metadata": {},
   "outputs": [
    {
     "name": "stdout",
     "output_type": "stream",
     "text": [
      "Now you can make changes to the model\n",
      "Value is set\n",
      "Value is set\n",
      "Value is set\n",
      "Value is set\n",
      "Value is set\n",
      "Value is set\n",
      "Value is set\n",
      "Value is set\n",
      "Value is set\n",
      "Value is set\n",
      "Value is set\n",
      "Value is set\n",
      "Nothing done, because no Transaction is being in Use\n",
      "Changes saved successfully\n"
     ]
    }
   ],
   "source": [
    "s3s.StartEditSession(SessionName=\"Set coords (x,y)\")\n",
    "\n",
    "s3s.SetValue(node0, 'Xkor', '0')\n",
    "s3s.SetValue(node0, 'Ykor', str(m*25))\n",
    "\n",
    "s3s.SetValue(node1, 'Xkor', str(m*100))\n",
    "s3s.SetValue(node1, 'Ykor', str(m*25))\n",
    "\n",
    "s3s.SetValue(node2, 'Xkor', str(m*125))\n",
    "s3s.SetValue(node2, 'Ykor', str(m*50))\n",
    "\n",
    "s3s.SetValue(node3, 'Xkor', str(m*125))\n",
    "s3s.SetValue(node3, 'Ykor', '0')\n",
    "\n",
    "s3s.SetValue(node4, 'Xkor', str(m*150))\n",
    "s3s.SetValue(node4, 'Ykor', str(m*25))\n",
    "\n",
    "s3s.SetValue(node5, 'Xkor', str(m*250))\n",
    "s3s.SetValue(node5, 'Ykor', str(m*25))\n",
    "\n",
    "s3s.EndEditSession()\n",
    "s3s.SaveChanges()"
   ]
  },
  {
   "cell_type": "code",
   "execution_count": 16,
   "id": "52ee1549-e29a-4b25-8ed8-0b5ea4912950",
   "metadata": {},
   "outputs": [
    {
     "name": "stdout",
     "output_type": "stream",
     "text": [
      "Now you can make changes to the model\n",
      "Value is set\n",
      "Value is set\n",
      "Value is set\n",
      "Value is set\n",
      "Value is set\n",
      "Value is set\n",
      "Edit Session has ended. Please open up a new session if you want to make further changes\n",
      "Changes saved successfully\n"
     ]
    }
   ],
   "source": [
    "s3s.StartEditSession(SessionName=\"Set coords (z)\")\n",
    "\n",
    "for node_tk in node_tks:\n",
    "    s3s.SetValue(node_tk, \"Zkor\", \"0\")\n",
    "\n",
    "s3s.EndEditSession()\n",
    "s3s.SaveChanges()"
   ]
  },
  {
   "cell_type": "markdown",
   "id": "246322bf-6751-4231-b419-2f414597abed",
   "metadata": {},
   "source": [
    "# Pipes"
   ]
  },
  {
   "cell_type": "markdown",
   "id": "2390276a-7be4-4e86-88a0-8bb98c1f19b9",
   "metadata": {},
   "source": [
    "## Insert Pipes"
   ]
  },
  {
   "cell_type": "code",
   "execution_count": 17,
   "id": "1a814c7a-b4de-4990-a0a2-e58cf9588958",
   "metadata": {},
   "outputs": [
    {
     "name": "stdout",
     "output_type": "stream",
     "text": [
      "Now you can make changes to the model\n",
      "Element inserted successfully into the model with Tk: 4972020791500716541\n",
      "Objects connected successfully\n",
      "Element inserted successfully into the model with Tk: 4744214353409382000\n",
      "Objects connected successfully\n",
      "Element inserted successfully into the model with Tk: 5381195858144975728\n",
      "Objects connected successfully\n",
      "Element inserted successfully into the model with Tk: 5114906798965622189\n",
      "Objects connected successfully\n",
      "Element inserted successfully into the model with Tk: 4831505367606118792\n",
      "Objects connected successfully\n",
      "Element inserted successfully into the model with Tk: 5663842976700048508\n",
      "Objects connected successfully\n",
      "Element inserted successfully into the model with Tk: 5095416253732069762\n",
      "Objects connected successfully\n",
      "Edit Session has ended. Please open up a new session if you want to make further changes\n",
      "Changes saved successfully\n"
     ]
    }
   ],
   "source": [
    "s3s.StartEditSession(SessionName=\"Insert Pipes\")\n",
    "\n",
    "pipe01 = s3s.InsertElement(ElementType=Interfaces.Sir3SObjectTypes.Pipe)\n",
    "s3s.ConnectConnectingElementWithNodes(pipe01, node0, node1)\n",
    "\n",
    "pipe12 = s3s.InsertElement(ElementType=Interfaces.Sir3SObjectTypes.Pipe)\n",
    "s3s.ConnectConnectingElementWithNodes(pipe12, node1, node2)\n",
    "\n",
    "pipe13 = s3s.InsertElement(ElementType=Interfaces.Sir3SObjectTypes.Pipe)\n",
    "s3s.ConnectConnectingElementWithNodes(pipe13, node1, node3)\n",
    "\n",
    "pipe23 = s3s.InsertElement(ElementType=Interfaces.Sir3SObjectTypes.Pipe)\n",
    "s3s.ConnectConnectingElementWithNodes(pipe23, node2, node3)\n",
    "\n",
    "pipe24 = s3s.InsertElement(ElementType=Interfaces.Sir3SObjectTypes.Pipe)\n",
    "s3s.ConnectConnectingElementWithNodes(pipe24, node2, node4)\n",
    "\n",
    "pipe34 = s3s.InsertElement(ElementType=Interfaces.Sir3SObjectTypes.Pipe)\n",
    "s3s.ConnectConnectingElementWithNodes(pipe34, node3, node4)\n",
    "\n",
    "pipe45 = s3s.InsertElement(ElementType=Interfaces.Sir3SObjectTypes.Pipe)\n",
    "s3s.ConnectConnectingElementWithNodes(pipe45, node4, node5)\n",
    "\n",
    "s3s.EndEditSession()\n",
    "s3s.SaveChanges()"
   ]
  },
  {
   "cell_type": "markdown",
   "id": "08719125-35a4-45fd-84b5-26abd3365d8d",
   "metadata": {},
   "source": [
    "## Set Length"
   ]
  },
  {
   "cell_type": "code",
   "execution_count": 18,
   "id": "a33bce20-1540-44ca-a7ba-909dc36efb53",
   "metadata": {},
   "outputs": [
    {
     "name": "stdout",
     "output_type": "stream",
     "text": [
      "Now you can make changes to the model\n",
      "Value is set\n",
      "Value is set\n",
      "Value is set\n",
      "Value is set\n",
      "Value is set\n",
      "Value is set\n",
      "Value is set\n",
      "Edit Session has ended. Please open up a new session if you want to make further changes\n",
      "Changes saved successfully\n"
     ]
    }
   ],
   "source": [
    "s3s.StartEditSession(SessionName=\"Set pipe lengths\")\n",
    "\n",
    "s3s.SetValue(pipe01, 'L', str(m*100))\n",
    "\n",
    "s3s.SetValue(pipe12, 'L', str(m*math.sqrt(2*math.pow(250,2))))\n",
    "\n",
    "s3s.SetValue(pipe13, 'L', str(m*math.sqrt(2*math.pow(250,2))))\n",
    "\n",
    "s3s.SetValue(pipe23, 'L', str(m*500))\n",
    "\n",
    "s3s.SetValue(pipe24, 'L', str(m*math.sqrt(2*math.pow(250,2))))\n",
    "\n",
    "s3s.SetValue(pipe34, 'L', str(m*math.sqrt(2*math.pow(250,2))))\n",
    "\n",
    "s3s.SetValue(pipe45, 'L', str(m*100))\n",
    "\n",
    "s3s.EndEditSession()\n",
    "s3s.SaveChanges()"
   ]
  },
  {
   "cell_type": "code",
   "execution_count": 19,
   "id": "32b0ff1e-99a0-4e70-9c84-769e7502dd71",
   "metadata": {},
   "outputs": [],
   "source": [
    "pipe_tks=s3s.GetTksofElementType(Interfaces.Sir3SObjectTypes.Pipe)"
   ]
  },
  {
   "cell_type": "markdown",
   "id": "c1b271a1-976e-4908-8dbd-dbf3c3a2813a",
   "metadata": {},
   "source": [
    "## Set DN (Workaround)"
   ]
  },
  {
   "cell_type": "markdown",
   "id": "a667570b",
   "metadata": {},
   "source": [
    "The following way of setting the reference to DN values is only a workaround. Hopefully a better way using the Toolkit can be applied in the future."
   ]
  },
  {
   "cell_type": "markdown",
   "id": "00d7dd30-e981-4fb0-8b65-4d4b054069d5",
   "metadata": {},
   "source": [
    "### Trigger First Calculation "
   ]
  },
  {
   "cell_type": "code",
   "execution_count": 20,
   "id": "ed5ddfc7-4718-482e-b8ba-43e5dd76ec77",
   "metadata": {},
   "outputs": [
    {
     "name": "stdout",
     "output_type": "stream",
     "text": [
      "Model Calculation is complete\n"
     ]
    }
   ],
   "source": [
    "s3s.ExecCalculation(waitForSirCalcToExit=True) # this calculation will not be properly executed it serves to ensure a xml calculation file exists"
   ]
  },
  {
   "cell_type": "markdown",
   "id": "c2c6b376-bbf7-43cc-85b3-ce81a436f43e",
   "metadata": {},
   "source": [
    "### Read Calculation XML file"
   ]
  },
  {
   "cell_type": "code",
   "execution_count": 21,
   "id": "58aee5bf-4756-4b00-b082-f8ba4c69b422",
   "metadata": {},
   "outputs": [],
   "source": [
    "xml_file_path=os.path.join(os.path.dirname(os.path.abspath(dxAndMxHelperFcts.__file__))\n",
    "                    +'/Examples'\n",
    "                    +'/Toolkit_Examples/WD'\n",
    "                    +dbFilename\n",
    "                    +'/B'\n",
    "                    +identifier_number\n",
    "                    +'\\V0\\BZ1\\M-'\n",
    "                    +identifier_number\n",
    "                    +'-0-1.XML'\n",
    ")"
   ]
  },
  {
   "cell_type": "code",
   "execution_count": 22,
   "id": "b765e368-6229-4b42-bbc5-f30a09a573a2",
   "metadata": {},
   "outputs": [
    {
     "data": {
      "text/plain": [
       "'c:\\\\users\\\\jablonski\\\\3s\\\\pt3s/Examples/Toolkit_Examples/WDToolkit_Example2/B1\\\\V0\\\\BZ1\\\\M-1-0-1.XML'"
      ]
     },
     "execution_count": 22,
     "metadata": {},
     "output_type": "execute_result"
    }
   ],
   "source": [
    "xml_file_path"
   ]
  },
  {
   "cell_type": "code",
   "execution_count": 23,
   "id": "11d09b5d-cdb9-4da3-81c5-3cd1fbb8ff83",
   "metadata": {},
   "outputs": [],
   "source": [
    "try:\n",
    "    tree = ET.parse(xml_file_path)\n",
    "    root = tree.getroot()\n",
    "\n",
    "    # Function to find and extract all DTRO_ROWD elements\n",
    "    def extract_table_elements(element, table_name):\n",
    "        return [child for child in element if child.tag == table_name]\n",
    "\n",
    "    # Extract all DTRO_ROWD elements\n",
    "    dtro_rowd_elements = extract_table_elements(root, \"DTRO_ROWD\")\n",
    "\n",
    "    # Convert the DTRO_ROWD elements to a pandas DataFrame\n",
    "    def elements_to_dataframe(elements):\n",
    "        if not elements:\n",
    "            print(\"The table is empty or not found.\")\n",
    "            return pd.DataFrame()\n",
    "        \n",
    "        rows = []\n",
    "        columns = list(elements[0].attrib.keys())\n",
    "        \n",
    "        for elem in elements:\n",
    "            row_data = list(elem.attrib.values())\n",
    "            rows.append(row_data)\n",
    "        \n",
    "        df = pd.DataFrame(rows, columns=columns)\n",
    "        return df\n",
    "\n",
    "    # Convert the extracted elements to a DataFrame\n",
    "    dtro_rowd_df = elements_to_dataframe(dtro_rowd_elements)\n",
    "    \n",
    "except FileNotFoundError:\n",
    "    print(\"The specified file was not found.\")\n",
    "except ET.ParseError:\n",
    "    print(\"Error parsing the XML file.\")"
   ]
  },
  {
   "cell_type": "code",
   "execution_count": 24,
   "id": "7333b775-1b35-4441-8582-e57d15da613e",
   "metadata": {},
   "outputs": [
    {
     "name": "stdout",
     "output_type": "stream",
     "text": [
      "Value is set\n",
      "('5214933862510275097', 'string')\n",
      "Value is set\n",
      "('5214933862510275097', 'string')\n",
      "Value is set\n",
      "('5214933862510275097', 'string')\n",
      "Value is set\n",
      "('5214933862510275097', 'string')\n",
      "Value is set\n",
      "('5214933862510275097', 'string')\n",
      "Value is set\n",
      "('5214933862510275097', 'string')\n",
      "Value is set\n",
      "('5214933862510275097', 'string')\n"
     ]
    }
   ],
   "source": [
    "for pipe_tk in pipe_tks:\n",
    "    s3s.SetValue(pipe_tk, \"FkdtroRowd\", str(dtro_rowd_df.iloc[15]['pk'])) #DN 150\n",
    "    print(s3s.GetValue(pipe_tk, \"FkdtroRowd\"))"
   ]
  },
  {
   "cell_type": "markdown",
   "id": "958f8f1e-d6ba-4a4c-a57d-abd0e074684d",
   "metadata": {},
   "source": [
    "# Boundary Conditions"
   ]
  },
  {
   "cell_type": "code",
   "execution_count": 25,
   "id": "a12f9115-48ba-4908-bf1e-97efb8718ee5",
   "metadata": {},
   "outputs": [
    {
     "name": "stdout",
     "output_type": "stream",
     "text": [
      "Now you can make changes to the model\n",
      "Value is set\n",
      "Value is set\n",
      "Value is set\n",
      "Value is set\n",
      "Value is set\n",
      "Value is set\n",
      "Value is set\n",
      "Value is set\n",
      "Value is set\n",
      "Value is set\n",
      "Value is set\n",
      "Value is set\n",
      "Edit Session has ended. Please open up a new session if you want to make further changes\n",
      "Changes saved successfully\n"
     ]
    }
   ],
   "source": [
    "s3s.StartEditSession(SessionName=\"Set Boundary Conditions\")\n",
    "\n",
    "s3s.SetValue(node0, \"Ktyp\", \"PKON\")\n",
    "s3s.SetValue(node0, \"bz.PhEin\", \"4\")\n",
    "\n",
    "s3s.SetValue(node1, \"Ktyp\", \"QKON\")\n",
    "s3s.SetValue(node1, \"QmEin\", \"0\")\n",
    "\n",
    "s3s.SetValue(node2, \"Ktyp\", \"QKON\")\n",
    "s3s.SetValue(node2, \"QmEin\", \"0\")\n",
    "\n",
    "s3s.SetValue(node3, \"Ktyp\", \"QKON\")\n",
    "s3s.SetValue(node3, \"QmEin\", \"0\")\n",
    "\n",
    "s3s.SetValue(node4, \"Ktyp\", \"QKON\")\n",
    "s3s.SetValue(node4, \"QmEin\", \"0\")\n",
    "\n",
    "s3s.SetValue(node5, \"Ktyp\", \"PKON\")\n",
    "s3s.SetValue(node5, \"bz.PhEin\", \"3\")\n",
    "\n",
    "s3s.EndEditSession()\n",
    "s3s.SaveChanges()"
   ]
  },
  {
   "cell_type": "markdown",
   "id": "c8cf115a-9c3d-4338-8998-9f721f3bb71f",
   "metadata": {},
   "source": [
    "# Calculation"
   ]
  },
  {
   "cell_type": "code",
   "execution_count": 26,
   "id": "44c90c18-0a95-4a9b-b819-13537ba02a33",
   "metadata": {},
   "outputs": [
    {
     "name": "stdout",
     "output_type": "stream",
     "text": [
      "Model Calculation is complete\n"
     ]
    }
   ],
   "source": [
    "s3s.ExecCalculation(waitForSirCalcToExit=True)"
   ]
  },
  {
   "cell_type": "code",
   "execution_count": 27,
   "id": "165b4aed-dd15-499a-a0f6-68d9eca408e1",
   "metadata": {},
   "outputs": [
    {
     "name": "stdout",
     "output_type": "stream",
     "text": [
      "Node 5154500391023841962: x: 0, y: 25, PH: 4, QM: 115.7509\n",
      "Node 5260563732980413801: x: 100, y: 25, PH: 3.74013, QM: 0\n",
      "Node 5560708786139026579: x: 125, y: 50, PH: 3.5, QM: 0\n",
      "Node 5369474337961706963: x: 125, y: 0, PH: 3.5, QM: 0\n",
      "Node 5287731019872477731: x: 150, y: 25, PH: 3.25987, QM: 0\n",
      "Node 5530694472180387074: x: 250, y: 25, PH: 3, QM: -115.7509\n"
     ]
    }
   ],
   "source": [
    "for node_tk in node_tks:\n",
    "    print(f\"Node {node_tk}: x: {s3s.GetValue(node_tk, 'Xkor')[0]}, y: {s3s.GetValue(node_tk, 'Ykor')[0]}, PH: {s3s.GetValue(node_tk, 'Result.PH.Value')[0]}, QM: {s3s.GetValue(node_tk, 'Result.QM.Value')[0]}\")"
   ]
  },
  {
   "cell_type": "markdown",
   "id": "4d391b89-4aa2-464b-b62d-5366db4526bf",
   "metadata": {},
   "source": [
    "# Reset"
   ]
  },
  {
   "cell_type": "code",
   "execution_count": 28,
   "id": "f3e65cb9-5286-405b-8b98-08eab9b8c5c2",
   "metadata": {},
   "outputs": [
    {
     "name": "stdout",
     "output_type": "stream",
     "text": [
      "Element deleted successfully\n",
      "Element deleted successfully\n",
      "Element deleted successfully\n",
      "Element deleted successfully\n",
      "Element deleted successfully\n",
      "Element deleted successfully\n",
      "Element deleted successfully\n",
      "Element deleted successfully\n",
      "Element deleted successfully\n",
      "Element deleted successfully\n",
      "Element deleted successfully\n",
      "Element deleted successfully\n",
      "Element deleted successfully\n"
     ]
    }
   ],
   "source": [
    "def wipe_elements(instance):\n",
    "    # Get lists of node and pipe IDs\n",
    "    node_tks = instance.GetTksofElementType(ElementType=Interfaces.Sir3SObjectTypes.Node)\n",
    "    pipe_tks = instance.GetTksofElementType(ElementType=Interfaces.Sir3SObjectTypes.Pipe)\n",
    "    \n",
    "    # Delete all nodes\n",
    "    for node_tk in node_tks:\n",
    "        instance.DeleteElement(node_tk)\n",
    "    \n",
    "    # Delete all pipes\n",
    "    for pipe_tk in pipe_tks:\n",
    "        instance.DeleteElement(pipe_tk)\n",
    "\n",
    "wipe_elements(s3s)"
   ]
  },
  {
   "cell_type": "code",
   "execution_count": 29,
   "id": "b2c94579-572a-46e3-908e-471016236f37",
   "metadata": {},
   "outputs": [
    {
     "name": "stdout",
     "output_type": "stream",
     "text": [
      "Changes saved successfully\n"
     ]
    }
   ],
   "source": [
    "s3s.SaveChanges()"
   ]
  },
  {
   "cell_type": "markdown",
   "id": "c331155e-a637-4fdb-a723-65b5823ca212",
   "metadata": {},
   "source": [
    "# Collection of often needed Toolkit commands"
   ]
  },
  {
   "cell_type": "code",
   "execution_count": 30,
   "id": "38d98d7e-aa44-4b0f-ac34-edaf37e8be82",
   "metadata": {},
   "outputs": [
    {
     "data": {
      "text/plain": [
       "['Name',\n",
       " 'FkdtroRowd',\n",
       " 'Fkltgr',\n",
       " 'Fkstrasse',\n",
       " 'L',\n",
       " 'Lzu',\n",
       " 'Rau',\n",
       " 'Jlambs',\n",
       " 'Lambda0',\n",
       " 'Zein',\n",
       " 'Zaus',\n",
       " 'Zuml',\n",
       " 'Asoll',\n",
       " 'Indschall',\n",
       " 'Baujahr',\n",
       " 'Hal',\n",
       " 'Fkcont',\n",
       " 'Fk2lrohr',\n",
       " 'Beschreibung',\n",
       " 'Geomfix',\n",
       " 'Idreferenz',\n",
       " 'Iplanung',\n",
       " 'Kvr',\n",
       " 'LineWidthMM',\n",
       " 'DottedLine',\n",
       " 'DN',\n",
       " 'Di',\n",
       " 'KvrKlartext',\n",
       " 'Tk',\n",
       " 'Pk',\n",
       " 'IsMarked',\n",
       " 'InVariant',\n",
       " 'Xkor',\n",
       " 'Ykor',\n",
       " 'Dtrorowd.Name',\n",
       " 'Ltgr.Name',\n",
       " 'Strasse.Name',\n",
       " 'Cont.Name',\n",
       " 'Srat.Name',\n",
       " 'L2Rohr.Name',\n",
       " 'bz.Fk',\n",
       " 'bz.Qsvb',\n",
       " 'bz.Irtrenn',\n",
       " 'bz.Leckstatus',\n",
       " 'bz.Leckstart',\n",
       " 'bz.Leckend',\n",
       " 'bz.Leckort',\n",
       " 'bz.Leckmenge',\n",
       " 'bz.Imptnz',\n",
       " 'bz.Zvlimptnz',\n",
       " 'bz.Kantenzv',\n",
       " 'FromNode.Name',\n",
       " 'ToNode.Name',\n",
       " 'Result.A.Value',\n",
       " 'Result.ACALC.Value',\n",
       " 'Result.CPI.Value',\n",
       " 'Result.CPK.Value',\n",
       " 'Result.DH.Value',\n",
       " 'Result.DP.Value',\n",
       " 'Result.DSI.Value',\n",
       " 'Result.DSK.Value',\n",
       " 'Result.DWVERL.Value',\n",
       " 'Result.IAKTIV.Value',\n",
       " 'Result.IRTRENN.Value',\n",
       " 'Result.LAMBDA.Value',\n",
       " 'Result.MI.Value',\n",
       " 'Result.MK.Value',\n",
       " 'Result.MKOND.Value',\n",
       " 'Result.MMAX_INST.Value',\n",
       " 'Result.MMIN_INST.Value',\n",
       " 'Result.PHR.Value',\n",
       " 'Result.PR.Value',\n",
       " 'Result.QI2.Value',\n",
       " 'Result.QK2.Value',\n",
       " 'Result.QMI.Value',\n",
       " 'Result.QMK.Value',\n",
       " 'Result.QMMAX_INST.Value',\n",
       " 'Result.QMMIN_INST.Value',\n",
       " 'Result.QSVB.Value',\n",
       " 'Result.RHOI.Value',\n",
       " 'Result.RHOK.Value',\n",
       " 'Result.TI.Value',\n",
       " 'Result.TK.Value',\n",
       " 'Result.VI.Value',\n",
       " 'Result.VK.Value',\n",
       " 'Result.VMAX_INST.Value',\n",
       " 'Result.VMIN_INST.Value',\n",
       " 'Result.VOLDA.Value',\n",
       " 'Result.WALTERI.Value',\n",
       " 'Result.WALTERK.Value',\n",
       " 'Result.ZHKNR.Value',\n",
       " 'Result.LINEPACKRATE.Value',\n",
       " 'Result.LINEPACK.Value',\n",
       " 'Result.LECKEINAUS.Value',\n",
       " 'Result.LECKORT.Value',\n",
       " 'Result.LECKMENGE.Value',\n",
       " 'Result.LINEPACKGEOM.Value',\n",
       " 'Result.RHOAV.Value',\n",
       " 'Result.TAV.Value',\n",
       " 'Result.PAV.Value',\n",
       " 'Result.VAV.Value',\n",
       " 'Result.ETAAV.Value',\n",
       " 'Result.DRAKONZ.Value',\n",
       " 'Result.DRAGRED.Value',\n",
       " 'Result.MAV.Value',\n",
       " 'Result.QMAV.Value',\n",
       " 'Result.JV.Value',\n",
       " 'Result.DWVERLABS.Value',\n",
       " 'Result.HR.Value',\n",
       " 'Result.PMIN.Value',\n",
       " 'Result.PMAX.Value',\n",
       " 'Result.PDAMPF.Value',\n",
       " 'Result.DTTR.Value',\n",
       " 'Result.WVL.Value',\n",
       " 'Result.ZEIN.Value',\n",
       " 'Result.ZAUS.Value',\n",
       " 'Result.FS.Value',\n",
       " 'Result.JV2.Value']"
      ]
     },
     "execution_count": 30,
     "metadata": {},
     "output_type": "execute_result"
    }
   ],
   "source": [
    "s3s.GetPropertiesofElementType(Interfaces.Sir3SObjectTypes.Pipe)"
   ]
  },
  {
   "cell_type": "code",
   "execution_count": 31,
   "id": "0203792a-57f1-4e1d-984a-40ae29b4af87",
   "metadata": {},
   "outputs": [
    {
     "data": {
      "text/plain": [
       "['Name',\n",
       " 'Ktyp',\n",
       " 'Zkor',\n",
       " 'QmEin',\n",
       " 'Lfakt',\n",
       " 'Fkpzon',\n",
       " 'Fkfstf',\n",
       " 'Fkutmp',\n",
       " 'Fkfqps',\n",
       " 'Fkcont',\n",
       " 'Fk2lknot',\n",
       " 'Beschreibung',\n",
       " 'Geomfix',\n",
       " 'Idreferenz',\n",
       " 'Iplanung',\n",
       " 'Kvr',\n",
       " 'Qakt',\n",
       " 'Xkor',\n",
       " 'Ykor',\n",
       " 'NodeNamePosition',\n",
       " 'KvrKlartext',\n",
       " 'NumberOfVERB',\n",
       " 'HasBlockConnection',\n",
       " 'Tk',\n",
       " 'Pk',\n",
       " 'IsMarked',\n",
       " 'InVariant',\n",
       " 'SymbolFactor',\n",
       " 'Pzon.Name',\n",
       " 'Fstf.Name',\n",
       " 'Utmp.Name',\n",
       " 'Fqps.Name',\n",
       " 'Cont.Name',\n",
       " 'L2Knot.Name',\n",
       " 'bz.Drakonz',\n",
       " 'bz.Fk',\n",
       " 'bz.Pvar.Name',\n",
       " 'bz.Fkpvar',\n",
       " 'bz.Qvar.Name',\n",
       " 'bz.Fkqvar',\n",
       " 'bz.Lfkt.Name',\n",
       " 'bz.Fklfkt',\n",
       " 'bz.PhEin',\n",
       " 'bz.Tm',\n",
       " 'bz.Te',\n",
       " 'bz.PhMin',\n",
       " 'Result.CHLORID.Value',\n",
       " 'Result.CP.Value',\n",
       " 'Result.DP.Value',\n",
       " 'Result.DPH.Value',\n",
       " 'Result.DYNVISKO.Value',\n",
       " 'Result.EISENFILT.Value',\n",
       " 'Result.EISENGES.Value',\n",
       " 'Result.ESQUELLSP.Value',\n",
       " 'Result.H.Value',\n",
       " 'Result.HI.Value',\n",
       " 'Result.HMAX_INST.Value',\n",
       " 'Result.HMIN_INST.Value',\n",
       " 'Result.HS.Value',\n",
       " 'Result.IAKTIV.Value',\n",
       " 'Result.INDUV.Value',\n",
       " 'Result.LEITFAEH.Value',\n",
       " 'Result.LFAKTAKT.Value',\n",
       " 'Result.LFKT.Value',\n",
       " 'Result.M.Value',\n",
       " 'Result.MN.Value',\n",
       " 'Result.P.Value',\n",
       " 'Result.PDAMPF.Value',\n",
       " 'Result.PH.Value',\n",
       " 'Result.PH_EIN.Value',\n",
       " 'Result.PH_MIN.Value',\n",
       " 'Result.PHWERT.Value',\n",
       " 'Result.PMAX_INST.Value',\n",
       " 'Result.PMIN_INST.Value',\n",
       " 'Result.PVAR.Value',\n",
       " 'Result.Q2.Value',\n",
       " 'Result.QM.Value',\n",
       " 'Result.QVAR.Value',\n",
       " 'Result.RHO.Value',\n",
       " 'Result.RHON.Value',\n",
       " 'Result.SULFAT.Value',\n",
       " 'Result.T.Value',\n",
       " 'Result.TMAX_INST.Value',\n",
       " 'Result.TMIN_INST.Value',\n",
       " 'Result.TE.Value',\n",
       " 'Result.TEMP.Value',\n",
       " 'Result.VOLD.Value',\n",
       " 'Result.WALTER.Value',\n",
       " 'Result.K.Value',\n",
       " 'Result.KP.Value',\n",
       " 'Result.KT.Value',\n",
       " 'Result.GMIX_NAME.Value',\n",
       " 'Result.FSTF_NAME.Value',\n",
       " 'Result.QMABS.Value',\n",
       " 'Result.BCIND.Value',\n",
       " 'Result.BCIND_TYPE.Value',\n",
       " 'Result.BCIND_FLOW.Value',\n",
       " 'Result.BCIND_MODEL.Value',\n",
       " 'Result.BCIND_CALC.Value',\n",
       " 'Result.BCIND_SOURCE.Value',\n",
       " 'Result.ZHKNR.Value',\n",
       " 'Result.EH.Value',\n",
       " 'Result.PHMINMAXDIF.Value',\n",
       " 'Result.TTR.Value',\n",
       " 'Result.FITT_BASTYPE.Value',\n",
       " 'Result.FITT_SUBTYPE.Value',\n",
       " 'Result.FITT_ANGLE.Value',\n",
       " 'Result.FITT_VBTYPE1.Value',\n",
       " 'Result.FITT_VBTYPE2.Value',\n",
       " 'Result.FITT_VBTYPE3.Value',\n",
       " 'Result.FITT_STATE.Value',\n",
       " 'Result.FITT_ZETA1.Value',\n",
       " 'Result.FITT_ZETA2.Value',\n",
       " 'Result.FITT_ZETA3.Value',\n",
       " 'Result.FITT_DP1.Value',\n",
       " 'Result.FITT_DP2.Value',\n",
       " 'Result.FITT_DP3.Value',\n",
       " 'Result.RHONQUAL.Value']"
      ]
     },
     "execution_count": 31,
     "metadata": {},
     "output_type": "execute_result"
    }
   ],
   "source": [
    "s3s.GetPropertiesofElementType(Interfaces.Sir3SObjectTypes.Node)"
   ]
  },
  {
   "cell_type": "code",
   "execution_count": 32,
   "id": "2ee68e17-970e-4398-8c0e-b0606b20f06b",
   "metadata": {},
   "outputs": [],
   "source": [
    "pipe_tks=s3s.GetTksofElementType(Interfaces.Sir3SObjectTypes.Pipe)"
   ]
  },
  {
   "cell_type": "code",
   "execution_count": 33,
   "id": "bb967765-514b-410e-a06d-d61fdb3df778",
   "metadata": {},
   "outputs": [],
   "source": [
    "node_tks=s3s.GetTksofElementType(Interfaces.Sir3SObjectTypes.Node)"
   ]
  },
  {
   "cell_type": "code",
   "execution_count": 34,
   "id": "e5250184-a786-4114-afcb-079a08e68824",
   "metadata": {},
   "outputs": [
    {
     "data": {
      "text/plain": [
       "['AirVessel',\n",
       " 'Arrow',\n",
       " 'Atmosphere',\n",
       " 'BlockConnectionNode',\n",
       " 'CalcPari',\n",
       " 'CharacteristicLossTable',\n",
       " 'CharacteristicLossTable_Row',\n",
       " 'Circle',\n",
       " 'CompareTo',\n",
       " 'Compressor',\n",
       " 'CompressorTable',\n",
       " 'CompressorTable_Row',\n",
       " 'ControlEngineeringNexus',\n",
       " 'ControlMode',\n",
       " 'ControlPointTable',\n",
       " 'ControlPointTable_Row',\n",
       " 'ControlValve',\n",
       " 'ControlVariableConverter',\n",
       " 'ControlVariableConverterRSTE',\n",
       " 'CrossSectionTable',\n",
       " 'CrossSectionTable_Row',\n",
       " 'DamageRatesTable',\n",
       " 'DamageRatesTable_Row',\n",
       " 'DeadTimeElement',\n",
       " 'Demand',\n",
       " 'DifferentialRegulator',\n",
       " 'DirectionalArrow',\n",
       " 'DisrictHeatingConsumer',\n",
       " 'DisrictHeatingFeeder',\n",
       " 'Divider',\n",
       " 'DriveEfficiencyTable',\n",
       " 'DriveEfficiencyTable_Row',\n",
       " 'DrivePowerTable',\n",
       " 'DrivePowerTable_Row',\n",
       " 'EfficiencyConverterTable',\n",
       " 'EfficiencyConverterTable_Row',\n",
       " 'EnergyRecoveryTable',\n",
       " 'EnergyRecoveryTable_Row',\n",
       " 'EnvironmentTemp',\n",
       " 'Equals',\n",
       " 'Finalize',\n",
       " 'FlapValve',\n",
       " 'FlowControlUnit',\n",
       " 'FluidQualityParamSet',\n",
       " 'FluidQualityParamSet_OS',\n",
       " 'FluidThermalPropertyGroup',\n",
       " 'Format',\n",
       " 'FreeDuct',\n",
       " 'FunctionGenerator',\n",
       " 'FunctionTable',\n",
       " 'FunctionTable_Row',\n",
       " 'GasComponent',\n",
       " 'GasMixture',\n",
       " 'GeneralSection',\n",
       " 'GetHashCode',\n",
       " 'GetName',\n",
       " 'GetNames',\n",
       " 'GetType',\n",
       " 'GetTypeCode',\n",
       " 'GetUnderlyingType',\n",
       " 'GetValues',\n",
       " 'HasFlag',\n",
       " 'HeatExchanger',\n",
       " 'HeatFeederConsumerStation',\n",
       " 'HeaterCooler',\n",
       " 'Histeresis',\n",
       " 'House',\n",
       " 'Hydrant',\n",
       " 'Integrator',\n",
       " 'IsDefined',\n",
       " 'LoadFactorTable',\n",
       " 'LoadFactorTable_Row',\n",
       " 'LogicalComparison',\n",
       " 'LogicalStorage',\n",
       " 'MeasuredVariableTable',\n",
       " 'MeasuredVariableTable_Row',\n",
       " 'MemberwiseClone',\n",
       " 'MinMaxSelection',\n",
       " 'Multiplier',\n",
       " 'NetValve',\n",
       " 'Node',\n",
       " 'NonReturnValvesTable',\n",
       " 'NonReturnValvesTable_Row',\n",
       " 'NumericalDisplay',\n",
       " 'ObjectContainerSymbol',\n",
       " 'OpenContainer',\n",
       " 'Oval',\n",
       " 'Overloads',\n",
       " 'Parse',\n",
       " 'PhaseSeparation',\n",
       " 'PidController',\n",
       " 'Pipe',\n",
       " 'PipeGroup',\n",
       " 'PipeTable',\n",
       " 'PipeTable_Row',\n",
       " 'PipeVertex',\n",
       " 'Polygon',\n",
       " 'Polyline',\n",
       " 'PressureRegulator',\n",
       " 'PressureZone',\n",
       " 'Pt1Controller',\n",
       " 'Pump',\n",
       " 'PumpCharTable',\n",
       " 'PumpCharTable_Row',\n",
       " 'PumpGroup',\n",
       " 'PumpSpeedTable',\n",
       " 'PumpSpeedTable_Row',\n",
       " 'Rectangle',\n",
       " 'ReferenceEquals',\n",
       " 'RegulatorsTable',\n",
       " 'RegulatorsTable_Row',\n",
       " 'ReturnTemperaturTable',\n",
       " 'ReturnTemperaturTable_Row',\n",
       " 'RoundRectangle',\n",
       " 'SafetyValve',\n",
       " 'SetpointDevice',\n",
       " 'SolarCollector',\n",
       " 'StandPipe',\n",
       " 'Street',\n",
       " 'SummingPoint',\n",
       " 'SwitchInBlock',\n",
       " 'TemperatureTable',\n",
       " 'TemperatureTable_Row',\n",
       " 'Text',\n",
       " 'ThermalOutputTable',\n",
       " 'ThermalOutputTable_Row',\n",
       " 'ThermophysPropTable',\n",
       " 'ThermophysPropTable_Row',\n",
       " 'ToObject',\n",
       " 'ToString',\n",
       " 'TransitionSymbol',\n",
       " 'Transmitter',\n",
       " 'TransportVariable',\n",
       " 'TryParse',\n",
       " 'Unknown',\n",
       " 'Valve',\n",
       " 'ValveLiftTable',\n",
       " 'ValveLiftTable_Row',\n",
       " 'VarFlowTable',\n",
       " 'VarFlowTable_Row',\n",
       " 'VarPressureTable',\n",
       " 'VarPressureTable_Row',\n",
       " 'VentOpenCloseTable',\n",
       " 'VentOpenCloseTable_Row',\n",
       " 'VentValve',\n",
       " 'VentilatedPressureAirVessel',\n",
       " 'WeatherDataTable',\n",
       " 'WeatherDataTable_Row',\n",
       " '__and__',\n",
       " '__class__',\n",
       " '__delattr__',\n",
       " '__dir__',\n",
       " '__doc__',\n",
       " '__eq__',\n",
       " '__float__',\n",
       " '__format__',\n",
       " '__ge__',\n",
       " '__getattribute__',\n",
       " '__getstate__',\n",
       " '__gt__',\n",
       " '__hash__',\n",
       " '__index__',\n",
       " '__init__',\n",
       " '__init_subclass__',\n",
       " '__int__',\n",
       " '__invert__',\n",
       " '__le__',\n",
       " '__lt__',\n",
       " '__module__',\n",
       " '__ne__',\n",
       " '__new__',\n",
       " '__or__',\n",
       " '__overloads__',\n",
       " '__rand__',\n",
       " '__reduce__',\n",
       " '__reduce_ex__',\n",
       " '__repr__',\n",
       " '__ror__',\n",
       " '__rxor__',\n",
       " '__setattr__',\n",
       " '__sizeof__',\n",
       " '__str__',\n",
       " '__subclasshook__',\n",
       " '__xor__',\n",
       " 'value__']"
      ]
     },
     "execution_count": 34,
     "metadata": {},
     "output_type": "execute_result"
    }
   ],
   "source": [
    "dir(Interfaces.Sir3SObjectTypes)"
   ]
  },
  {
   "cell_type": "code",
   "execution_count": null,
   "id": "4ca92b6d-3b78-4649-921d-38a63016e7a0",
   "metadata": {},
   "outputs": [],
   "source": []
  }
 ],
 "metadata": {
  "kernelspec": {
   "display_name": "Python 3 (ipykernel)",
   "language": "python",
   "name": "python3"
  },
  "language_info": {
   "codemirror_mode": {
    "name": "ipython",
    "version": 3
   },
   "file_extension": ".py",
   "mimetype": "text/x-python",
   "name": "python",
   "nbconvert_exporter": "python",
   "pygments_lexer": "ipython3",
   "version": "3.11.8"
  }
 },
 "nbformat": 4,
 "nbformat_minor": 5
}
