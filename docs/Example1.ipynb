{
 "cells": [
  {
   "cell_type": "markdown",
   "id": "8dacf070-4052-4abf-b34c-c52dd7101b91",
   "metadata": {},
   "source": [
    "# Imports and Logging"
   ]
  },
  {
   "cell_type": "markdown",
   "id": "48214599-fe9c-4671-bb81-4a782ed816b4",
   "metadata": {},
   "source": [
    "## Imports"
   ]
  },
  {
   "cell_type": "code",
   "execution_count": 1,
   "id": "87b7db9e-ba57-4acc-b006-99dfcd48d2ad",
   "metadata": {},
   "outputs": [
    {
     "ename": "PermissionError",
     "evalue": "[Errno 13] Permission denied: 'C:\\\\Users\\\\jablonski\\\\AppData\\\\Local\\\\Packages\\\\PythonSoftwareFoundation.Python.3.11_qbz5n2kfra8p0\\\\LocalCache\\\\local-packages\\\\Python311\\\\site-packages'",
     "output_type": "error",
     "traceback": [
      "\u001b[1;31m---------------------------------------------------------------------------\u001b[0m",
      "\u001b[1;31mPermissionError\u001b[0m                           Traceback (most recent call last)",
      "Cell \u001b[1;32mIn[1], line 6\u001b[0m\n\u001b[0;32m      3\u001b[0m \u001b[38;5;28;01mimport\u001b[39;00m \u001b[38;5;21;01mlogging\u001b[39;00m\n\u001b[0;32m      4\u001b[0m \u001b[38;5;28;01mfrom\u001b[39;00m \u001b[38;5;21;01mimportlib\u001b[39;00m\u001b[38;5;21;01m.\u001b[39;00m\u001b[38;5;21;01mmachinery\u001b[39;00m \u001b[38;5;28;01mimport\u001b[39;00m SourceFileLoader\n\u001b[1;32m----> 6\u001b[0m foo \u001b[38;5;241m=\u001b[39m SourceFileLoader(\u001b[38;5;124mr\u001b[39m\u001b[38;5;124m'\u001b[39m\u001b[38;5;124mdxAndMxHelperFcts\u001b[39m\u001b[38;5;124m'\u001b[39m, \u001b[38;5;124mr\u001b[39m\u001b[38;5;124m'\u001b[39m\u001b[38;5;124mC:\u001b[39m\u001b[38;5;124m\\\u001b[39m\u001b[38;5;124mUsers\u001b[39m\u001b[38;5;124m\\\u001b[39m\u001b[38;5;124mjablonski\u001b[39m\u001b[38;5;124m\\\u001b[39m\u001b[38;5;124mAppData\u001b[39m\u001b[38;5;124m\\\u001b[39m\u001b[38;5;124mLocal\u001b[39m\u001b[38;5;124m\\\u001b[39m\u001b[38;5;124mPackages\u001b[39m\u001b[38;5;124m\\\u001b[39m\u001b[38;5;124mPythonSoftwareFoundation.Python.3.11_qbz5n2kfra8p0\u001b[39m\u001b[38;5;124m\\\u001b[39m\u001b[38;5;124mLocalCache\u001b[39m\u001b[38;5;124m\\\u001b[39m\u001b[38;5;124mlocal-packages\u001b[39m\u001b[38;5;124m\\\u001b[39m\u001b[38;5;124mPython311\u001b[39m\u001b[38;5;124m\\\u001b[39m\u001b[38;5;124msite-packages\u001b[39m\u001b[38;5;124m'\u001b[39m)\u001b[38;5;241m.\u001b[39mload_module()\n\u001b[0;32m      7\u001b[0m foo\u001b[38;5;241m.\u001b[39mMyClass()\n",
      "File \u001b[1;32m<frozen importlib._bootstrap_external>:605\u001b[0m, in \u001b[0;36m_check_name_wrapper\u001b[1;34m(self, name, *args, **kwargs)\u001b[0m\n",
      "File \u001b[1;32m<frozen importlib._bootstrap_external>:1120\u001b[0m, in \u001b[0;36mload_module\u001b[1;34m(self, fullname)\u001b[0m\n",
      "File \u001b[1;32m<frozen importlib._bootstrap_external>:945\u001b[0m, in \u001b[0;36mload_module\u001b[1;34m(self, fullname)\u001b[0m\n",
      "File \u001b[1;32m<frozen importlib._bootstrap>:290\u001b[0m, in \u001b[0;36m_load_module_shim\u001b[1;34m(self, fullname)\u001b[0m\n",
      "File \u001b[1;32m<frozen importlib._bootstrap>:721\u001b[0m, in \u001b[0;36m_load\u001b[1;34m(spec)\u001b[0m\n",
      "File \u001b[1;32m<frozen importlib._bootstrap>:690\u001b[0m, in \u001b[0;36m_load_unlocked\u001b[1;34m(spec)\u001b[0m\n",
      "File \u001b[1;32m<frozen importlib._bootstrap_external>:936\u001b[0m, in \u001b[0;36mexec_module\u001b[1;34m(self, module)\u001b[0m\n",
      "File \u001b[1;32m<frozen importlib._bootstrap_external>:1073\u001b[0m, in \u001b[0;36mget_code\u001b[1;34m(self, fullname)\u001b[0m\n",
      "File \u001b[1;32m<frozen importlib._bootstrap_external>:1130\u001b[0m, in \u001b[0;36mget_data\u001b[1;34m(self, path)\u001b[0m\n",
      "\u001b[1;31mPermissionError\u001b[0m: [Errno 13] Permission denied: 'C:\\\\Users\\\\jablonski\\\\AppData\\\\Local\\\\Packages\\\\PythonSoftwareFoundation.Python.3.11_qbz5n2kfra8p0\\\\LocalCache\\\\local-packages\\\\Python311\\\\site-packages'"
     ]
    }
   ],
   "source": [
    "import os\n",
    "import geopandas\n",
    "import logging\n",
    "\n",
    "try:\n",
    "#    from PT3S import dxAndMxHelperFcts\n",
    "#except:\n",
    "#    import dxAndMxHelperFcts"
   ]
  },
  {
   "cell_type": "code",
   "execution_count": null,
   "id": "a2153c01-ff57-405f-a884-b52e517c6209",
   "metadata": {},
   "outputs": [],
   "source": [
    "pt3s_path = os.path.dirname(os.path.abspath(dxAndMxHelperFcts.__file__))\n",
    "print(pt3s_path)"
   ]
  },
  {
   "cell_type": "markdown",
   "id": "bd5882d4-eab8-4da6-8bbe-6776d4195dd2",
   "metadata": {},
   "source": [
    "## Logging"
   ]
  },
  {
   "cell_type": "code",
   "execution_count": null,
   "id": "852d5593-37d0-4ccb-be1f-29154bdc142f",
   "metadata": {},
   "outputs": [],
   "source": [
    "logger = logging.getLogger()  \n",
    "\n",
    "logFileName= r\"Example2.log\" \n",
    "\n",
    "loglevel = logging.DEBUG\n",
    "logging.basicConfig(filename=logFileName\n",
    "                        ,filemode='w'\n",
    "                        ,level=loglevel\n",
    "                        ,format=\"%(asctime)s ; %(name)-60s ; %(levelname)-7s ; %(message)s\")    \n",
    "\n",
    "fileHandler = logging.FileHandler(logFileName)     \n",
    "\n",
    "logger.addHandler(fileHandler)\n",
    "\n",
    "consoleHandler = logging.StreamHandler()\n",
    "consoleHandler.setFormatter(logging.Formatter(\"%(levelname)-7s ; %(message)s\"))\n",
    "consoleHandler.setLevel(logging.INFO)\n",
    "logger.addHandler(consoleHandler)"
   ]
  },
  {
   "cell_type": "markdown",
   "id": "988add98-bded-40f3-beac-bf682fcd74bd",
   "metadata": {},
   "source": [
    "# IN"
   ]
  },
  {
   "cell_type": "code",
   "execution_count": null,
   "id": "b116c32f-df99-45a0-b977-f28609d37f9e",
   "metadata": {},
   "outputs": [],
   "source": [
    "dbFilename=\"Wärmenetz-Planungsbeispiel\""
   ]
  },
  {
   "cell_type": "markdown",
   "id": "1b34591a-c2d1-486b-b853-ed38cd5c8323",
   "metadata": {},
   "source": [
    "# Read Model and Results"
   ]
  },
  {
   "cell_type": "code",
   "execution_count": null,
   "id": "f8b5221c-0fd1-4fbc-abaf-81325ad2629d",
   "metadata": {},
   "outputs": [],
   "source": [
    "m=dxAndMxHelperFcts.readDxAndMx(dbFile=os.path.join(pt3s_path+'/Examples/'+dbFilename+'.db3')\n",
    "                                ,preventPklDump=True\n",
    "                               )"
   ]
  },
  {
   "cell_type": "markdown",
   "id": "3e7519ec-78a0-4fa2-bba1-c9d567039e83",
   "metadata": {},
   "source": [
    "# Interactive Map"
   ]
  },
  {
   "cell_type": "code",
   "execution_count": null,
   "id": "8339ee65-ee7b-4995-9a34-8f3fe8ddf7d4",
   "metadata": {},
   "outputs": [],
   "source": [
    "gdf_ROHR=m.gdf_ROHR\n",
    "gdf_FWVB=m.gdf_FWVB"
   ]
  },
  {
   "cell_type": "code",
   "execution_count": null,
   "id": "1d400188-f735-44e1-8850-915d29da9cb5",
   "metadata": {},
   "outputs": [],
   "source": [
    "gdf_ROHR = gdf_ROHR.dropna(subset=['geometry', 'QMAVAbs', 'KVR'])\n",
    "gdf_FWVB = gdf_FWVB.dropna(subset=['geometry', 'W'])"
   ]
  },
  {
   "cell_type": "code",
   "execution_count": null,
   "id": "06e63043-77b8-4512-9a7b-6a35c8ca936b",
   "metadata": {
    "scrolled": true
   },
   "outputs": [],
   "source": [
    "ma=gdf_ROHR[gdf_ROHR['KVR'].isin([1.,None])].loc[:,['geometry', 'QMAVAbs']].explore(color = 'grey')\n",
    "gdf_FWVB.loc[:,['geometry','W']].explore(color='red',m=ma)"
   ]
  }
 ],
 "metadata": {
  "kernelspec": {
   "display_name": "Python 3 (ipykernel)",
   "language": "python",
   "name": "python3"
  },
  "language_info": {
   "codemirror_mode": {
    "name": "ipython",
    "version": 3
   },
   "file_extension": ".py",
   "mimetype": "text/x-python",
   "name": "python",
   "nbconvert_exporter": "python",
   "pygments_lexer": "ipython3",
   "version": "3.11.8"
  }
 },
 "nbformat": 4,
 "nbformat_minor": 5
}
