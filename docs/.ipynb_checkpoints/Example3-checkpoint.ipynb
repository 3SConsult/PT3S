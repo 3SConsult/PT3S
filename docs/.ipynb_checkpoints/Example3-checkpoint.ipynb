{
 "cells": [
  {
   "cell_type": "markdown",
   "id": "7a1fb7aa-5d42-4813-8cfc-138d37e190b7",
   "metadata": {},
   "source": [
    "# Imports"
   ]
  },
  {
   "cell_type": "code",
   "execution_count": 1,
   "id": "0226b804-5149-4dc7-9188-8aad75db325d",
   "metadata": {},
   "outputs": [],
   "source": [
    "import os\n",
    "import logging\n",
    "import pandas as pd\n",
    "import datetime\n",
    "import numpy as np\n",
    "import subprocess\n",
    "\n",
    "import matplotlib\n",
    "import matplotlib.pyplot as plt\n",
    "import matplotlib.dates as mdates\n",
    "import matplotlib.gridspec as gridspec\n",
    "import matplotlib.ticker as ticker\n",
    "import matplotlib.colors as mcolors\n",
    "from matplotlib.pyplot import Polygon\n",
    "from matplotlib.ticker import FuncFormatter\n",
    "from matplotlib.dates import DateFormatter, MinuteLocator\n",
    "import matplotlib.ticker as ticker\n",
    "\n",
    "import ipywidgets as widgets\n",
    "from ipywidgets import interact\n",
    "\n",
    "from bokeh.plotting import figure, show, output_file\n",
    "from bokeh.models import ColumnDataSource, LinearAxis, Range1d\n",
    "from bokeh.palettes import Spectral10\n",
    "\n",
    "from IPython.display import Image\n",
    "\n",
    "try:\n",
    "    from PT3S import dxAndMxHelperFcts\n",
    "except:\n",
    "    import dxAndMxHelperFcts\n",
    "\n",
    "try:\n",
    "    from PT3S import Rm\n",
    "except:\n",
    "    import Rm"
   ]
  },
  {
   "cell_type": "code",
   "execution_count": 2,
   "id": "c4f5edb0-53a1-4cde-a4c0-77ffbd2c805c",
   "metadata": {
    "tags": []
   },
   "outputs": [],
   "source": [
    "import importlib"
   ]
  },
  {
   "cell_type": "code",
   "execution_count": 3,
   "id": "4d173d17-ba35-41b0-b9b1-5e617e84e10e",
   "metadata": {
    "tags": []
   },
   "outputs": [
    {
     "data": {
      "text/plain": [
       "<module 'dxAndMxHelperFcts' from 'c:\\\\users\\\\wolters\\\\3s\\\\pt3s\\\\dxAndMxHelperFcts.py'>"
      ]
     },
     "execution_count": 3,
     "metadata": {},
     "output_type": "execute_result"
    }
   ],
   "source": [
    "importlib.reload(dxAndMxHelperFcts)"
   ]
  },
  {
   "cell_type": "code",
   "execution_count": 4,
   "id": "436ab766-53d1-48d8-8cee-23afdaa087f6",
   "metadata": {},
   "outputs": [],
   "source": [
    "pt3s_path = os.path.dirname(os.path.abspath(dxAndMxHelperFcts.__file__))"
   ]
  },
  {
   "cell_type": "markdown",
   "id": "6ea9586f-0ea5-4b25-8ec9-0d350fa77c24",
   "metadata": {},
   "source": [
    "# Logging"
   ]
  },
  {
   "cell_type": "code",
   "execution_count": 5,
   "id": "7c93b42e-919d-4edf-a342-253e67b02132",
   "metadata": {},
   "outputs": [],
   "source": [
    "logger = logging.getLogger()  \n",
    "\n",
    "logFileName= r\"Example3.log\" \n",
    "\n",
    "loglevel = logging.DEBUG\n",
    "logging.basicConfig(filename=logFileName\n",
    "                        ,filemode='w'\n",
    "                        ,level=loglevel\n",
    "                        ,format=\"%(asctime)s ; %(name)-60s ; %(levelname)-7s ; %(message)s\")    \n",
    "\n",
    "fileHandler = logging.FileHandler(logFileName)     \n",
    "\n",
    "logger.addHandler(fileHandler)\n",
    "\n",
    "consoleHandler = logging.StreamHandler()\n",
    "consoleHandler.setFormatter(logging.Formatter(\"%(levelname)-7s ; %(message)s\"))\n",
    "consoleHandler.setLevel(logging.INFO)\n",
    "logger.addHandler(consoleHandler)"
   ]
  },
  {
   "cell_type": "code",
   "execution_count": 6,
   "id": "9fe57857-e0db-4a73-bccf-cd9bb705a1a2",
   "metadata": {
    "tags": []
   },
   "outputs": [],
   "source": [
    "#import re"
   ]
  },
  {
   "cell_type": "code",
   "execution_count": 7,
   "id": "44c0947b-3660-480f-a202-cb71c23d11ad",
   "metadata": {
    "tags": []
   },
   "outputs": [],
   "source": [
    "#pairType='_BZ'\n",
    "#[(re.search('(?P<BV>[A-Z,1,2,_]+)('+pairType+')$', table_name).group('BV'), table_name)\n",
    "#                                  for table_name in ['RMES_DPTS_BZ'] if re.search('(?P<BV>[A-Z,1,2]+)('+pairType+')$', table_name) != None]"
   ]
  },
  {
   "cell_type": "code",
   "execution_count": null,
   "id": "772fc439-7e89-41f9-9610-32a3da979f86",
   "metadata": {},
   "outputs": [],
   "source": []
  },
  {
   "cell_type": "code",
   "execution_count": null,
   "id": "f8a891ae-e972-400f-9af3-a0001549d633",
   "metadata": {},
   "outputs": [],
   "source": []
  },
  {
   "cell_type": "markdown",
   "id": "ad32f218-42fd-439e-8ce3-3d135cdbe414",
   "metadata": {},
   "source": [
    "# Model and SirCalc"
   ]
  },
  {
   "cell_type": "code",
   "execution_count": 8,
   "id": "26f78703-9a0c-4a1a-af2a-d5b6a05b2ca0",
   "metadata": {},
   "outputs": [],
   "source": [
    "dbFilename=\"DistrictHeating\""
   ]
  },
  {
   "cell_type": "code",
   "execution_count": 9,
   "id": "16f62619-a3dc-4e40-9655-4643865ffba6",
   "metadata": {},
   "outputs": [],
   "source": [
    "rootdir=\"WDDistrictHeating\""
   ]
  },
  {
   "cell_type": "raw",
   "id": "9039f8e7-e17b-4e80-b749-a06e6c03c5de",
   "metadata": {},
   "source": [
    "You need to enter the specific path  to SirCalc on your system."
   ]
  },
  {
   "cell_type": "code",
   "execution_count": 10,
   "id": "5984d0b5-0380-4519-a054-c1f9c4109804",
   "metadata": {},
   "outputs": [],
   "source": [
    "SirCalc = r\"C:\\3S\\SIR 3S\\SirCalc-90-14-02-10_Potsdam\\SirCalc.exe\""
   ]
  },
  {
   "cell_type": "markdown",
   "id": "7a70fc57-b745-4c96-957f-c22211cbf931",
   "metadata": {},
   "source": [
    "# Calculation of Results"
   ]
  },
  {
   "cell_type": "raw",
   "id": "732d608c-1182-4a91-8217-ee3f3fb923d6",
   "metadata": {},
   "source": [
    "The calculations take some time. If you have calculated the results once and want to rerun the script, set this to False."
   ]
  },
  {
   "cell_type": "code",
   "execution_count": 11,
   "id": "69678818-dfb5-4a0b-97d5-1a5d20b18581",
   "metadata": {},
   "outputs": [],
   "source": [
    "calculate=False"
   ]
  },
  {
   "cell_type": "code",
   "execution_count": 12,
   "id": "c745814f-a308-483f-96bb-f8ca60972767",
   "metadata": {},
   "outputs": [],
   "source": [
    "SirCalcXml = os.path.join(pt3s_path, \"Examples\", \"WDDistrictHeating\", \"B1\", \"V0\", \"BZ1\", \"M-1-0-1.XML\")"
   ]
  },
  {
   "cell_type": "code",
   "execution_count": 13,
   "id": "2dc7243e-298a-4486-a5e7-544bae23333c",
   "metadata": {},
   "outputs": [],
   "source": [
    "if calculate:\n",
    "    with subprocess.Popen([SirCalc, SirCalcXml]) as process:\n",
    "        process.wait()"
   ]
  },
  {
   "cell_type": "markdown",
   "id": "df38a119-bf7c-47ea-a309-f06dfd9c4e28",
   "metadata": {},
   "source": [
    "# Read Model and Results"
   ]
  },
  {
   "cell_type": "code",
   "execution_count": 14,
   "id": "f8b5221c-0fd1-4fbc-abaf-81325ad2629d",
   "metadata": {},
   "outputs": [
    {
     "name": "stderr",
     "output_type": "stream",
     "text": [
      "INFO    ; Dx.__init__: dbFile (abspath): c:\\users\\wolters\\3s\\pt3s\\Examples\\DistrictHeating.db3 exists readable ...\n",
      "INFO    ; dxAndMxHelperFcts.readDxAndMx: \n",
      "+..\\Examples\\DistrictHeating.db3 is newer than\n",
      "+..\\Examples\\WDDistrictHeating\\B1\\V0\\BZ1\\M-1-0-1.1.MX1:\n",
      "+SIR 3S' dbFile is newer than SIR 3S' mx1File\n",
      "+in this case the results are maybe dated or (worse) incompatible to the model\n",
      "INFO    ; dxAndMxHelperFcts.readDxAndMx: \n",
      "+..\\Examples\\WDDistrictHeating\\B1\\V0\\BZ1\\M-1-0-1.XML is newer than\n",
      "+..\\Examples\\WDDistrictHeating\\B1\\V0\\BZ1\\M-1-0-1.1.MX1:\n",
      "+SirCalc's xmlFile is newer than SIR 3S' mx1File\n",
      "+in this case the results are maybe dated or (worse) incompatible to the model\n",
      "ERROR   ; Mx.__init__: mxsFile c:\\users\\wolters\\3s\\pt3s\\Examples\\WDDistrictHeating\\B1\\V0\\BZ1\\M-1-0-1.1.MXS not existing.\n",
      "INFO    ; dxAndMxHelperFcts.readDxAndMx: MX read failed. Continue without MX ...\n"
     ]
    }
   ],
   "source": [
    "m=dxAndMxHelperFcts.readDxAndMx(dbFile=os.path.join(pt3s_path+'/Examples/'+dbFilename+'.db3')\n",
    "                                ,preventPklDump=True\n",
    "                              #  ,maxRecords=0\n",
    "                               )"
   ]
  },
  {
   "cell_type": "code",
   "execution_count": 15,
   "id": "b773ea2a-090f-481a-b7e8-83d6ce967c0c",
   "metadata": {
    "tags": []
   },
   "outputs": [
    {
     "data": {
      "text/html": [
       "<div>\n",
       "<style scoped>\n",
       "    .dataframe tbody tr th:only-of-type {\n",
       "        vertical-align: middle;\n",
       "    }\n",
       "\n",
       "    .dataframe tbody tr th {\n",
       "        vertical-align: top;\n",
       "    }\n",
       "\n",
       "    .dataframe thead th {\n",
       "        text-align: right;\n",
       "    }\n",
       "</style>\n",
       "<table border=\"1\" class=\"dataframe\">\n",
       "  <thead>\n",
       "    <tr style=\"text-align: right;\">\n",
       "      <th></th>\n",
       "      <th>pk</th>\n",
       "      <th>fkDE</th>\n",
       "      <th>rk</th>\n",
       "      <th>tk</th>\n",
       "      <th>fkKI</th>\n",
       "      <th>fkKK</th>\n",
       "      <th>BESCHREIBUNG</th>\n",
       "      <th>W0</th>\n",
       "      <th>TVL0</th>\n",
       "      <th>TRS0</th>\n",
       "      <th>...</th>\n",
       "      <th>IDREFERENZ_CONT</th>\n",
       "      <th>NAME_LFKT</th>\n",
       "      <th>NAME_ZEP1VL</th>\n",
       "      <th>NAME_ZEP1RL</th>\n",
       "      <th>NAME_TEVT</th>\n",
       "      <th>NAME_TRFT</th>\n",
       "      <th>tk_i</th>\n",
       "      <th>NAME_i</th>\n",
       "      <th>tk_k</th>\n",
       "      <th>NAME_k</th>\n",
       "    </tr>\n",
       "  </thead>\n",
       "  <tbody>\n",
       "    <tr>\n",
       "      <th>0</th>\n",
       "      <td>4743997951091160959</td>\n",
       "      <td>5306805303452857793</td>\n",
       "      <td>4743997951091160959</td>\n",
       "      <td>4743997951091160959</td>\n",
       "      <td>4679560319206791571</td>\n",
       "      <td>5555145290408623045</td>\n",
       "      <td>Gattendorf;95185;Am Gewerbegebiet;1;None;indus...</td>\n",
       "      <td>2520.612061</td>\n",
       "      <td>90.0</td>\n",
       "      <td>60.0</td>\n",
       "      <td>...</td>\n",
       "      <td>None</td>\n",
       "      <td>Geb UntenLi</td>\n",
       "      <td>None</td>\n",
       "      <td>None</td>\n",
       "      <td>TRSPVT</td>\n",
       "      <td>None</td>\n",
       "      <td>4679560319206791571</td>\n",
       "      <td>V-K513S</td>\n",
       "      <td>5555145290408623045</td>\n",
       "      <td>R-K2993S</td>\n",
       "    </tr>\n",
       "    <tr>\n",
       "      <th>1</th>\n",
       "      <td>5014209100699808035</td>\n",
       "      <td>5306805303452857793</td>\n",
       "      <td>5014209100699808035</td>\n",
       "      <td>5014209100699808035</td>\n",
       "      <td>4953676020649811716</td>\n",
       "      <td>5242043803699326835</td>\n",
       "      <td>Gattendorf;95185;Am Gewerbegebiet;5;Max Pharma...</td>\n",
       "      <td>2247.438232</td>\n",
       "      <td>90.0</td>\n",
       "      <td>60.0</td>\n",
       "      <td>...</td>\n",
       "      <td>None</td>\n",
       "      <td>Geb UntenLi</td>\n",
       "      <td>None</td>\n",
       "      <td>None</td>\n",
       "      <td>TRSPVT</td>\n",
       "      <td>None</td>\n",
       "      <td>4953676020649811716</td>\n",
       "      <td>V-K1973S</td>\n",
       "      <td>5242043803699326835</td>\n",
       "      <td>R-K4453S</td>\n",
       "    </tr>\n",
       "    <tr>\n",
       "      <th>2</th>\n",
       "      <td>5422367620743392587</td>\n",
       "      <td>5306805303452857793</td>\n",
       "      <td>5422367620743392587</td>\n",
       "      <td>5422367620743392587</td>\n",
       "      <td>4953676020649811716</td>\n",
       "      <td>5242043803699326835</td>\n",
       "      <td>Gattendorf;95185;Am Gewerbegebiet;8;None;yes</td>\n",
       "      <td>444.825409</td>\n",
       "      <td>90.0</td>\n",
       "      <td>60.0</td>\n",
       "      <td>...</td>\n",
       "      <td>None</td>\n",
       "      <td>Geb UntenLi</td>\n",
       "      <td>None</td>\n",
       "      <td>None</td>\n",
       "      <td>TRSPVT</td>\n",
       "      <td>None</td>\n",
       "      <td>4953676020649811716</td>\n",
       "      <td>V-K1973S</td>\n",
       "      <td>5242043803699326835</td>\n",
       "      <td>R-K4453S</td>\n",
       "    </tr>\n",
       "    <tr>\n",
       "      <th>3</th>\n",
       "      <td>4627580049017248376</td>\n",
       "      <td>5306805303452857793</td>\n",
       "      <td>4627580049017248376</td>\n",
       "      <td>4627580049017248376</td>\n",
       "      <td>5435146706112069164</td>\n",
       "      <td>4832493725368326102</td>\n",
       "      <td>Gattendorf;95185;Am Gewerbegebiet;3;Arndt Fens...</td>\n",
       "      <td>6038.783691</td>\n",
       "      <td>90.0</td>\n",
       "      <td>60.0</td>\n",
       "      <td>...</td>\n",
       "      <td>None</td>\n",
       "      <td>Geb UntenLi</td>\n",
       "      <td>None</td>\n",
       "      <td>None</td>\n",
       "      <td>TRSPVT</td>\n",
       "      <td>None</td>\n",
       "      <td>5435146706112069164</td>\n",
       "      <td>V-K1953S</td>\n",
       "      <td>4832493725368326102</td>\n",
       "      <td>R-K4433S</td>\n",
       "    </tr>\n",
       "    <tr>\n",
       "      <th>4</th>\n",
       "      <td>5018070164989726059</td>\n",
       "      <td>5306805303452857793</td>\n",
       "      <td>5018070164989726059</td>\n",
       "      <td>5018070164989726059</td>\n",
       "      <td>5214452879555859312</td>\n",
       "      <td>5053437289803395432</td>\n",
       "      <td>None;None;None;None;None;industrial</td>\n",
       "      <td>207.550522</td>\n",
       "      <td>90.0</td>\n",
       "      <td>60.0</td>\n",
       "      <td>...</td>\n",
       "      <td>None</td>\n",
       "      <td>Geb UntenLi</td>\n",
       "      <td>None</td>\n",
       "      <td>None</td>\n",
       "      <td>TRSPVT</td>\n",
       "      <td>None</td>\n",
       "      <td>5214452879555859312</td>\n",
       "      <td>V-K563S</td>\n",
       "      <td>5053437289803395432</td>\n",
       "      <td>R-K3043S</td>\n",
       "    </tr>\n",
       "    <tr>\n",
       "      <th>...</th>\n",
       "      <td>...</td>\n",
       "      <td>...</td>\n",
       "      <td>...</td>\n",
       "      <td>...</td>\n",
       "      <td>...</td>\n",
       "      <td>...</td>\n",
       "      <td>...</td>\n",
       "      <td>...</td>\n",
       "      <td>...</td>\n",
       "      <td>...</td>\n",
       "      <td>...</td>\n",
       "      <td>...</td>\n",
       "      <td>...</td>\n",
       "      <td>...</td>\n",
       "      <td>...</td>\n",
       "      <td>...</td>\n",
       "      <td>...</td>\n",
       "      <td>...</td>\n",
       "      <td>...</td>\n",
       "      <td>...</td>\n",
       "      <td>...</td>\n",
       "    </tr>\n",
       "    <tr>\n",
       "      <th>333</th>\n",
       "      <td>5111577951994515523</td>\n",
       "      <td>5306805303452857793</td>\n",
       "      <td>5111577951994515523</td>\n",
       "      <td>5111577951994515523</td>\n",
       "      <td>5297934122548622420</td>\n",
       "      <td>5694280425405758766</td>\n",
       "      <td>None;None;None;None;None;yes</td>\n",
       "      <td>118.425217</td>\n",
       "      <td>90.0</td>\n",
       "      <td>60.0</td>\n",
       "      <td>...</td>\n",
       "      <td>None</td>\n",
       "      <td>Geb Mitte</td>\n",
       "      <td>None</td>\n",
       "      <td>None</td>\n",
       "      <td>TRSPVT</td>\n",
       "      <td>None</td>\n",
       "      <td>5297934122548622420</td>\n",
       "      <td>V-K1523S</td>\n",
       "      <td>5694280425405758766</td>\n",
       "      <td>R-K4003S</td>\n",
       "    </tr>\n",
       "    <tr>\n",
       "      <th>334</th>\n",
       "      <td>5604960832731508460</td>\n",
       "      <td>5306805303452857793</td>\n",
       "      <td>5604960832731508460</td>\n",
       "      <td>5604960832731508460</td>\n",
       "      <td>5470702624424213187</td>\n",
       "      <td>5138259542701384037</td>\n",
       "      <td>None;None;None;None;None;yes</td>\n",
       "      <td>416.302246</td>\n",
       "      <td>90.0</td>\n",
       "      <td>60.0</td>\n",
       "      <td>...</td>\n",
       "      <td>None</td>\n",
       "      <td>Geb UntenLi</td>\n",
       "      <td>None</td>\n",
       "      <td>None</td>\n",
       "      <td>TRSPVT</td>\n",
       "      <td>None</td>\n",
       "      <td>5470702624424213187</td>\n",
       "      <td>V-K2313S</td>\n",
       "      <td>5138259542701384037</td>\n",
       "      <td>R-K4793S</td>\n",
       "    </tr>\n",
       "    <tr>\n",
       "      <th>335</th>\n",
       "      <td>5365421822901958434</td>\n",
       "      <td>5306805303452857793</td>\n",
       "      <td>5365421822901958434</td>\n",
       "      <td>5365421822901958434</td>\n",
       "      <td>5379629098809333808</td>\n",
       "      <td>5713141944622207943</td>\n",
       "      <td>None;None;None;None;None;yes</td>\n",
       "      <td>485.559479</td>\n",
       "      <td>90.0</td>\n",
       "      <td>60.0</td>\n",
       "      <td>...</td>\n",
       "      <td>None</td>\n",
       "      <td>Geb UntenLi</td>\n",
       "      <td>None</td>\n",
       "      <td>None</td>\n",
       "      <td>TRSPVT</td>\n",
       "      <td>None</td>\n",
       "      <td>5379629098809333808</td>\n",
       "      <td>V-K2373S</td>\n",
       "      <td>5713141944622207943</td>\n",
       "      <td>R-K4853S</td>\n",
       "    </tr>\n",
       "    <tr>\n",
       "      <th>336</th>\n",
       "      <td>5430995747331401210</td>\n",
       "      <td>5306805303452857793</td>\n",
       "      <td>5430995747331401210</td>\n",
       "      <td>5430995747331401210</td>\n",
       "      <td>5682077941199528270</td>\n",
       "      <td>5277983260959730610</td>\n",
       "      <td>None;None;None;None;None;yes</td>\n",
       "      <td>478.202728</td>\n",
       "      <td>90.0</td>\n",
       "      <td>60.0</td>\n",
       "      <td>...</td>\n",
       "      <td>None</td>\n",
       "      <td>Geb UntenLi</td>\n",
       "      <td>None</td>\n",
       "      <td>None</td>\n",
       "      <td>TRSPVT</td>\n",
       "      <td>None</td>\n",
       "      <td>5682077941199528270</td>\n",
       "      <td>V-K543S</td>\n",
       "      <td>5277983260959730610</td>\n",
       "      <td>R-K3023S</td>\n",
       "    </tr>\n",
       "    <tr>\n",
       "      <th>337</th>\n",
       "      <td>5540117011473392085</td>\n",
       "      <td>5306805303452857793</td>\n",
       "      <td>5540117011473392085</td>\n",
       "      <td>5540117011473392085</td>\n",
       "      <td>5308246089404146500</td>\n",
       "      <td>5644897609127411800</td>\n",
       "      <td>None</td>\n",
       "      <td>100.000000</td>\n",
       "      <td>90.0</td>\n",
       "      <td>60.0</td>\n",
       "      <td>...</td>\n",
       "      <td>-1</td>\n",
       "      <td>None</td>\n",
       "      <td>None</td>\n",
       "      <td>None</td>\n",
       "      <td>None</td>\n",
       "      <td>None</td>\n",
       "      <td>5308246089404146500</td>\n",
       "      <td>V-TS-P-WU</td>\n",
       "      <td>5644897609127411800</td>\n",
       "      <td>R-TS-P-WU</td>\n",
       "    </tr>\n",
       "  </tbody>\n",
       "</table>\n",
       "<p>338 rows × 92 columns</p>\n",
       "</div>"
      ],
      "text/plain": [
       "                      pk                 fkDE                   rk  \\\n",
       "0    4743997951091160959  5306805303452857793  4743997951091160959   \n",
       "1    5014209100699808035  5306805303452857793  5014209100699808035   \n",
       "2    5422367620743392587  5306805303452857793  5422367620743392587   \n",
       "3    4627580049017248376  5306805303452857793  4627580049017248376   \n",
       "4    5018070164989726059  5306805303452857793  5018070164989726059   \n",
       "..                   ...                  ...                  ...   \n",
       "333  5111577951994515523  5306805303452857793  5111577951994515523   \n",
       "334  5604960832731508460  5306805303452857793  5604960832731508460   \n",
       "335  5365421822901958434  5306805303452857793  5365421822901958434   \n",
       "336  5430995747331401210  5306805303452857793  5430995747331401210   \n",
       "337  5540117011473392085  5306805303452857793  5540117011473392085   \n",
       "\n",
       "                      tk                 fkKI                 fkKK  \\\n",
       "0    4743997951091160959  4679560319206791571  5555145290408623045   \n",
       "1    5014209100699808035  4953676020649811716  5242043803699326835   \n",
       "2    5422367620743392587  4953676020649811716  5242043803699326835   \n",
       "3    4627580049017248376  5435146706112069164  4832493725368326102   \n",
       "4    5018070164989726059  5214452879555859312  5053437289803395432   \n",
       "..                   ...                  ...                  ...   \n",
       "333  5111577951994515523  5297934122548622420  5694280425405758766   \n",
       "334  5604960832731508460  5470702624424213187  5138259542701384037   \n",
       "335  5365421822901958434  5379629098809333808  5713141944622207943   \n",
       "336  5430995747331401210  5682077941199528270  5277983260959730610   \n",
       "337  5540117011473392085  5308246089404146500  5644897609127411800   \n",
       "\n",
       "                                          BESCHREIBUNG           W0  TVL0  \\\n",
       "0    Gattendorf;95185;Am Gewerbegebiet;1;None;indus...  2520.612061  90.0   \n",
       "1    Gattendorf;95185;Am Gewerbegebiet;5;Max Pharma...  2247.438232  90.0   \n",
       "2         Gattendorf;95185;Am Gewerbegebiet;8;None;yes   444.825409  90.0   \n",
       "3    Gattendorf;95185;Am Gewerbegebiet;3;Arndt Fens...  6038.783691  90.0   \n",
       "4                  None;None;None;None;None;industrial   207.550522  90.0   \n",
       "..                                                 ...          ...   ...   \n",
       "333                       None;None;None;None;None;yes   118.425217  90.0   \n",
       "334                       None;None;None;None;None;yes   416.302246  90.0   \n",
       "335                       None;None;None;None;None;yes   485.559479  90.0   \n",
       "336                       None;None;None;None;None;yes   478.202728  90.0   \n",
       "337                                               None   100.000000  90.0   \n",
       "\n",
       "     TRS0  ...  IDREFERENZ_CONT    NAME_LFKT  NAME_ZEP1VL  NAME_ZEP1RL  \\\n",
       "0    60.0  ...             None  Geb UntenLi         None         None   \n",
       "1    60.0  ...             None  Geb UntenLi         None         None   \n",
       "2    60.0  ...             None  Geb UntenLi         None         None   \n",
       "3    60.0  ...             None  Geb UntenLi         None         None   \n",
       "4    60.0  ...             None  Geb UntenLi         None         None   \n",
       "..    ...  ...              ...          ...          ...          ...   \n",
       "333  60.0  ...             None    Geb Mitte         None         None   \n",
       "334  60.0  ...             None  Geb UntenLi         None         None   \n",
       "335  60.0  ...             None  Geb UntenLi         None         None   \n",
       "336  60.0  ...             None  Geb UntenLi         None         None   \n",
       "337  60.0  ...               -1         None         None         None   \n",
       "\n",
       "     NAME_TEVT NAME_TRFT                 tk_i     NAME_i                 tk_k  \\\n",
       "0       TRSPVT      None  4679560319206791571    V-K513S  5555145290408623045   \n",
       "1       TRSPVT      None  4953676020649811716   V-K1973S  5242043803699326835   \n",
       "2       TRSPVT      None  4953676020649811716   V-K1973S  5242043803699326835   \n",
       "3       TRSPVT      None  5435146706112069164   V-K1953S  4832493725368326102   \n",
       "4       TRSPVT      None  5214452879555859312    V-K563S  5053437289803395432   \n",
       "..         ...       ...                  ...        ...                  ...   \n",
       "333     TRSPVT      None  5297934122548622420   V-K1523S  5694280425405758766   \n",
       "334     TRSPVT      None  5470702624424213187   V-K2313S  5138259542701384037   \n",
       "335     TRSPVT      None  5379629098809333808   V-K2373S  5713141944622207943   \n",
       "336     TRSPVT      None  5682077941199528270    V-K543S  5277983260959730610   \n",
       "337       None      None  5308246089404146500  V-TS-P-WU  5644897609127411800   \n",
       "\n",
       "        NAME_k  \n",
       "0     R-K2993S  \n",
       "1     R-K4453S  \n",
       "2     R-K4453S  \n",
       "3     R-K4433S  \n",
       "4     R-K3043S  \n",
       "..         ...  \n",
       "333   R-K4003S  \n",
       "334   R-K4793S  \n",
       "335   R-K4853S  \n",
       "336   R-K3023S  \n",
       "337  R-TS-P-WU  \n",
       "\n",
       "[338 rows x 92 columns]"
      ]
     },
     "execution_count": 15,
     "metadata": {},
     "output_type": "execute_result"
    }
   ],
   "source": [
    "m.dx.dataFrames['V3_FWVB']"
   ]
  },
  {
   "cell_type": "code",
   "execution_count": null,
   "id": "65a291e7-289a-41c4-8b80-c8f86d434275",
   "metadata": {},
   "outputs": [],
   "source": []
  },
  {
   "cell_type": "markdown",
   "id": "8311b30d-90d7-4dac-918e-9ab104b44769",
   "metadata": {},
   "source": [
    "# Editing"
   ]
  },
  {
   "cell_type": "markdown",
   "id": "bb4391ff-574b-48cd-9c7c-b432b482db51",
   "metadata": {},
   "source": [
    "## Get Nodes"
   ]
  },
  {
   "cell_type": "code",
   "execution_count": 16,
   "id": "c5469140-07d9-484a-b50d-53e0ece8fa21",
   "metadata": {},
   "outputs": [],
   "source": [
    "dfAGSN=m.dfAGSN"
   ]
  },
  {
   "cell_type": "code",
   "execution_count": 17,
   "id": "8bf5c3b4-6e0b-4b34-84b4-78fd32040187",
   "metadata": {},
   "outputs": [],
   "source": [
    "dfAGSN=dfAGSN[['ID','Pos', 'LFDNR']]"
   ]
  },
  {
   "cell_type": "code",
   "execution_count": 18,
   "id": "57767ba0-662c-4826-bd94-9b270fed178b",
   "metadata": {},
   "outputs": [],
   "source": [
    "dfVBEL=m.V3_VBEL.reset_index()"
   ]
  },
  {
   "cell_type": "code",
   "execution_count": 19,
   "id": "534360aa-1bad-4f40-8a71-1c6d51a257ad",
   "metadata": {},
   "outputs": [],
   "source": [
    "dfVBEL=dfVBEL[['OBJID','pk_i', 'pk_k']]"
   ]
  },
  {
   "cell_type": "code",
   "execution_count": 20,
   "id": "bcdbbc70-2141-4b9e-9346-390884ff8dde",
   "metadata": {},
   "outputs": [],
   "source": [
    "df=pd.merge(dfAGSN, dfVBEL, left_on='ID', right_on='OBJID', how='inner')"
   ]
  },
  {
   "cell_type": "code",
   "execution_count": 21,
   "id": "f6a5e501-4994-493d-a8c5-d4a9a046ffce",
   "metadata": {},
   "outputs": [],
   "source": [
    "df=df.drop_duplicates()"
   ]
  },
  {
   "cell_type": "code",
   "execution_count": 22,
   "id": "2a015c9b-0aee-41df-87b3-1b2abb907656",
   "metadata": {},
   "outputs": [],
   "source": [
    "df_i=df[df['pk_i'].notna()]\n",
    "df_k=df[df['pk_k'].notna()]\n",
    "df_i=df_i.rename(columns={'pk_i': 'pk'})\n",
    "df_k=df_k.rename(columns={'pk_k': 'pk'})\n",
    "df=pd.concat([df_i, df_k])"
   ]
  },
  {
   "cell_type": "code",
   "execution_count": 23,
   "id": "00bfdd10-f3e6-44ed-9848-d2937e9c24e9",
   "metadata": {},
   "outputs": [],
   "source": [
    "df=df.drop(columns=['pk_i', 'pk_k', 'OBJID'])"
   ]
  },
  {
   "cell_type": "code",
   "execution_count": 24,
   "id": "c491f8d9-895b-4014-a5c1-08ca8faae65f",
   "metadata": {},
   "outputs": [],
   "source": [
    "df=df.sort_values('ID')\n",
    "df=df.drop_duplicates(subset=['Pos', 'LFDNR', 'pk'], keep='first')"
   ]
  },
  {
   "cell_type": "code",
   "execution_count": 25,
   "id": "7a33e148-575f-45bd-8c0b-65a638ee9ffa",
   "metadata": {},
   "outputs": [],
   "source": [
    "df=df.sort_values(['Pos', 'LFDNR'])"
   ]
  },
  {
   "cell_type": "markdown",
   "id": "d47b1bba-d8d6-4384-9f31-4df6b62e7086",
   "metadata": {},
   "source": [
    "## Get Node Results"
   ]
  },
  {
   "cell_type": "code",
   "execution_count": 26,
   "id": "d53da7a9-ff11-42b1-9934-98e0bb65c36a",
   "metadata": {},
   "outputs": [],
   "source": [
    "dfKNOT=m.V3_KNOT"
   ]
  },
  {
   "cell_type": "code",
   "execution_count": 27,
   "id": "54f9fc1e-1ba4-44ac-bc8e-f9691c0c6cc1",
   "metadata": {},
   "outputs": [],
   "source": [
    "df=pd.merge(df, dfKNOT, on='pk', how='left')"
   ]
  },
  {
   "cell_type": "code",
   "execution_count": 28,
   "id": "396e6603-aa4a-4651-88bb-b4b32fe08718",
   "metadata": {},
   "outputs": [],
   "source": [
    "df=df[~df['NAME'].str.startswith('R')]"
   ]
  },
  {
   "cell_type": "code",
   "execution_count": 29,
   "id": "50ab700a-a275-4547-acdd-694238d8c3a2",
   "metadata": {},
   "outputs": [
    {
     "ename": "IndexError",
     "evalue": "index 162 is out of bounds for axis 0 with size 129",
     "output_type": "error",
     "traceback": [
      "\u001b[1;31m---------------------------------------------------------------------------\u001b[0m",
      "\u001b[1;31mIndexError\u001b[0m                                Traceback (most recent call last)",
      "Cell \u001b[1;32mIn[29], line 1\u001b[0m\n\u001b[1;32m----> 1\u001b[0m new_names \u001b[38;5;241m=\u001b[39m {df\u001b[38;5;241m.\u001b[39mcolumns[\u001b[38;5;241m162\u001b[39m]: \u001b[38;5;124m'\u001b[39m\u001b[38;5;124mP\u001b[39m\u001b[38;5;124m'\u001b[39m, df\u001b[38;5;241m.\u001b[39mcolumns[\u001b[38;5;241m194\u001b[39m]: \u001b[38;5;124m'\u001b[39m\u001b[38;5;124mQM\u001b[39m\u001b[38;5;124m'\u001b[39m, df\u001b[38;5;241m.\u001b[39mcolumns[\u001b[38;5;241m202\u001b[39m]: \u001b[38;5;124m'\u001b[39m\u001b[38;5;124mT\u001b[39m\u001b[38;5;124m'\u001b[39m}\u001b[38;5;66;03m#!!!!!!!Massenstrom nicht Volumenstrom\u001b[39;00m\n\u001b[0;32m      2\u001b[0m df\u001b[38;5;241m.\u001b[39mrename(columns\u001b[38;5;241m=\u001b[39mnew_names, inplace\u001b[38;5;241m=\u001b[39m\u001b[38;5;28;01mTrue\u001b[39;00m)\n",
      "File \u001b[1;32m~\\AppData\\Local\\anaconda3\\Lib\\site-packages\\pandas\\core\\indexes\\base.py:5175\u001b[0m, in \u001b[0;36mIndex.__getitem__\u001b[1;34m(self, key)\u001b[0m\n\u001b[0;32m   5172\u001b[0m \u001b[38;5;28;01mif\u001b[39;00m is_integer(key) \u001b[38;5;129;01mor\u001b[39;00m is_float(key):\n\u001b[0;32m   5173\u001b[0m     \u001b[38;5;66;03m# GH#44051 exclude bool, which would return a 2d ndarray\u001b[39;00m\n\u001b[0;32m   5174\u001b[0m     key \u001b[38;5;241m=\u001b[39m com\u001b[38;5;241m.\u001b[39mcast_scalar_indexer(key)\n\u001b[1;32m-> 5175\u001b[0m     \u001b[38;5;28;01mreturn\u001b[39;00m getitem(key)\n\u001b[0;32m   5177\u001b[0m \u001b[38;5;28;01mif\u001b[39;00m \u001b[38;5;28misinstance\u001b[39m(key, \u001b[38;5;28mslice\u001b[39m):\n\u001b[0;32m   5178\u001b[0m     \u001b[38;5;66;03m# This case is separated from the conditional above to avoid\u001b[39;00m\n\u001b[0;32m   5179\u001b[0m     \u001b[38;5;66;03m# pessimization com.is_bool_indexer and ndim checks.\u001b[39;00m\n\u001b[0;32m   5180\u001b[0m     result \u001b[38;5;241m=\u001b[39m getitem(key)\n",
      "\u001b[1;31mIndexError\u001b[0m: index 162 is out of bounds for axis 0 with size 129"
     ]
    }
   ],
   "source": [
    "new_names = {df.columns[162]: 'P', df.columns[194]: 'QM', df.columns[202]: 'T'}#!!!!!!!Massenstrom nicht Volumenstrom\n",
    "df.rename(columns=new_names, inplace=True)"
   ]
  },
  {
   "cell_type": "code",
   "execution_count": null,
   "id": "20a48df9-8663-4e0a-a863-5357fbbcc01a",
   "metadata": {},
   "outputs": [],
   "source": [
    "cols_to_keep=['ID', 'Pos', 'LFDNR', 'pk', 'NAME','P','QM','T']"
   ]
  },
  {
   "cell_type": "code",
   "execution_count": null,
   "id": "f821f598-f9e5-4989-968c-9df12fb0a61f",
   "metadata": {},
   "outputs": [],
   "source": [
    "df=df[cols_to_keep]"
   ]
  },
  {
   "cell_type": "code",
   "execution_count": null,
   "id": "6f9b34f5-e04d-45ec-82d7-bf9b34050c88",
   "metadata": {},
   "outputs": [],
   "source": [
    "dfs = [df[df['LFDNR'] == i] for i in [1.0, 2.0, 3.0]]"
   ]
  },
  {
   "cell_type": "code",
   "execution_count": null,
   "id": "41191460-e0be-4385-a21c-d2452634a204",
   "metadata": {},
   "outputs": [],
   "source": [
    "for df in dfs:\n",
    "    df.reset_index(inplace=True, drop=True)"
   ]
  },
  {
   "cell_type": "code",
   "execution_count": null,
   "id": "3bcd4ffd-2de6-47df-92ec-d013a39ad9cf",
   "metadata": {},
   "outputs": [],
   "source": [
    "dfs[0].head()"
   ]
  },
  {
   "cell_type": "markdown",
   "id": "46adca17-6445-4f78-be83-a5199a0d5f45",
   "metadata": {},
   "source": [
    "# Plot"
   ]
  },
  {
   "cell_type": "markdown",
   "id": "53d0c871-89c2-43b7-a559-a3be1f9c77a3",
   "metadata": {},
   "source": [
    "## Define Axes"
   ]
  },
  {
   "cell_type": "code",
   "execution_count": null,
   "id": "19a5f012-011c-4c70-bc59-a2911bcd3187",
   "metadata": {},
   "outputs": [],
   "source": [
    "def fyP(ax,offset=0):\n",
    "    ax.spines[\"left\"].set_position((\"outward\", offset))\n",
    "    ax.set_ylabel('Druck in bar')\n",
    "    ax.set_ylim(1,6)\n",
    "    ax.set_yticks(sorted(np.append(np.linspace(1,6,11),[])))\n",
    "    ax.yaxis.set_ticks_position('left')\n",
    "    ax.yaxis.set_label_position('left')\n",
    "\n",
    "def fyM(ax,offset=60):\n",
    "    Rm.pltLDSHelperY(ax)\n",
    "    ax.spines[\"left\"].set_position((\"outward\",offset))\n",
    "    ax.set_ylabel('Massenstrom in t/h')\n",
    "    ax.set_ylim(500,550)\n",
    "    ax.set_yticks(sorted(np.append(np.linspace(500,550,11),[])))\n",
    "    ax.yaxis.set_ticks_position('left')\n",
    "    ax.yaxis.set_label_position('left')\n",
    "    \n",
    "def fyT(ax,offset=120):\n",
    "    Rm.pltLDSHelperY(ax)\n",
    "    ax.spines[\"left\"].set_position((\"outward\",offset))\n",
    "    ax.set_ylabel('Tempertatur in °C')\n",
    "    ax.set_ylim(85,95)\n",
    "    ax.set_yticks(sorted(np.append(np.linspace(0,95,11),[])))\n",
    "    ax.yaxis.set_ticks_position('left')\n",
    "    ax.yaxis.set_label_position('left')"
   ]
  },
  {
   "cell_type": "markdown",
   "id": "1923a441-1bdb-4673-837c-832b08dd6b1d",
   "metadata": {},
   "source": [
    "## Non-interactive Plot"
   ]
  },
  {
   "cell_type": "code",
   "execution_count": null,
   "id": "8af80a44-9bdc-44e9-84b7-d2b44ce22d0f",
   "metadata": {},
   "outputs": [],
   "source": [
    "def plot():\n",
    "                       \n",
    "    fig, ax0 = plt.subplots(figsize=Rm.DINA3q)\n",
    "    \n",
    "    ax0.set_yticks(np.linspace(0, 10, 21))\n",
    "    ax0.yaxis.set_ticklabels([])\n",
    "    ax0.grid()\n",
    "\n",
    "    #P\n",
    "    ax1 = ax0.twinx()     \n",
    "    fyP(ax1) \n",
    "    ax1.plot(df.index, df['P'], color='red', label='P')\n",
    "    \n",
    "    #M\n",
    "    ax2 = ax0.twinx()     \n",
    "    fyM(ax2)\n",
    "    ax2.plot(df.index, df['QM'], color='orange', label='T')\n",
    "    \n",
    "    #T\n",
    "    ax3 = ax0.twinx() \n",
    "    fyT(ax3)\n",
    "    ax3.plot(df.index, df['T'], color='pink', label='M')\n",
    "     \n",
    "    # Set the x-axis limits\n",
    "    ax0.set_xlim(0, 87)\n",
    "\n",
    "    #Rm.pltHelperX(ax0, dateFormat='%Hh:%Mm:%Ss', bysecond=list(range(0, 61, 2)), yPos=0)\n",
    "    \n",
    "    ax0.set_title('Longitudinal Section for '+dbFilename)\n",
    "\n",
    "    #Create printable Output\n",
    "    plt.savefig('Example3_Output.pdf', format='pdf', dpi=300)\n",
    "    plt.savefig('Example2_Output.png', format='png', dpi=300)\n",
    "    \n",
    "    plt.show()"
   ]
  },
  {
   "cell_type": "code",
   "execution_count": null,
   "id": "5b7bdfac-6a8e-4edd-88da-843b68084a67",
   "metadata": {
    "tags": []
   },
   "outputs": [],
   "source": [
    "plot()"
   ]
  },
  {
   "cell_type": "code",
   "execution_count": null,
   "id": "7a340023-62dc-42a3-9a6b-86944c40a4b0",
   "metadata": {},
   "outputs": [],
   "source": [
    "def f():\n",
    "    try:\n",
    "        pass\n",
    "        1/0\n",
    "    except Exception as e:\n",
    "        print(\"caught!\")\n",
    "        raise"
   ]
  },
  {
   "cell_type": "code",
   "execution_count": null,
   "id": "107681a2-e2ef-4472-a7af-300190306ee5",
   "metadata": {
    "tags": []
   },
   "outputs": [],
   "source": [
    "f()"
   ]
  },
  {
   "cell_type": "code",
   "execution_count": null,
   "id": "00ab6159-c7e3-4377-93ca-10f52e6ad944",
   "metadata": {
    "tags": []
   },
   "outputs": [],
   "source": [
    "try:\n",
    "    f()\n",
    "except Exception as e:\n",
    "    print(\"caught II!\")\n",
    "    raise"
   ]
  },
  {
   "cell_type": "code",
   "execution_count": null,
   "id": "50d20c09-97d9-4b78-af38-1131ac8df432",
   "metadata": {},
   "outputs": [],
   "source": []
  }
 ],
 "metadata": {
  "kernelspec": {
   "display_name": "Python 3 (ipykernel)",
   "language": "python",
   "name": "python3"
  },
  "language_info": {
   "codemirror_mode": {
    "name": "ipython",
    "version": 3
   },
   "file_extension": ".py",
   "mimetype": "text/x-python",
   "name": "python",
   "nbconvert_exporter": "python",
   "pygments_lexer": "ipython3",
   "version": "3.11.5"
  }
 },
 "nbformat": 4,
 "nbformat_minor": 5
}
