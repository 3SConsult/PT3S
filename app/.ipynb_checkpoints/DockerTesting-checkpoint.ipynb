{
 "cells": [
  {
   "cell_type": "code",
   "execution_count": 1,
   "id": "06d306ef-bfff-4610-951a-6ec63d881500",
   "metadata": {},
   "outputs": [],
   "source": [
    "try:\n",
    "    from PT3S import dxAndMxHelperFcts\n",
    "except:\n",
    "    import dxAndMxHelperFcts"
   ]
  },
  {
   "cell_type": "code",
   "execution_count": 2,
   "id": "7756b4ed-f4b4-4d47-8096-f7845b82c108",
   "metadata": {},
   "outputs": [],
   "source": [
    "import os"
   ]
  },
  {
   "cell_type": "code",
   "execution_count": 3,
   "id": "eb2948df-d89b-432d-ac31-479a23e196b8",
   "metadata": {},
   "outputs": [],
   "source": [
    "pt3s_path = os.path.dirname(os.path.abspath(dxAndMxHelperFcts.__file__))"
   ]
  }
 ],
 "metadata": {
  "kernelspec": {
   "display_name": "Python 3 (ipykernel)",
   "language": "python",
   "name": "python3"
  },
  "language_info": {
   "codemirror_mode": {
    "name": "ipython",
    "version": 3
   },
   "file_extension": ".py",
   "mimetype": "text/x-python",
   "name": "python",
   "nbconvert_exporter": "python",
   "pygments_lexer": "ipython3",
   "version": "3.11.8"
  }
 },
 "nbformat": 4,
 "nbformat_minor": 5
}
