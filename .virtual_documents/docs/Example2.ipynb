





import logging
import os
import sys

import pandas as pd
import sqlite3


import geopandas
import numpy as np
import math
import importlib
import re

import doctest

import matplotlib.pyplot as plt
#import matplotlib.dates as mdates

import matplotlib

import matplotlib.patches as mpatches

#import matplotlib.gridspec as gridspec

#from matplotlib import cm
#from matplotlib.colors import ListedColormap
#import matplotlib.font_manager as font_manager
#import matplotlib.patheffects as path_effects

#import contextily as cx

import pickle

import xml.etree.ElementTree as ET

try:
    from PT3S import dxAndMxHelperFcts
except:
    import dxAndMxHelperFcts

logger = logging.getLogger()  

logFileName= r"Example2.log" 

loglevel = logging.DEBUG
logging.basicConfig(filename=logFileName
                        ,filemode='w'
                        ,level=loglevel
                        ,format="%(asctime)s ; %(name)-60s ; %(levelname)-7s ; %(message)s")    

fileHandler = logging.FileHandler(logFileName)     

logger.addHandler(fileHandler)

consoleHandler = logging.StreamHandler()
consoleHandler.setFormatter(logging.Formatter("%(levelname)-7s ; %(message)s"))
consoleHandler.setLevel(logging.INFO)
logger.addHandler(consoleHandler)





dbFilename="Wärmenetz-Planungsbeispiel"





m=dxAndMxHelperFcts.readDxAndMx(dbFile=os.path.join('../Examples/'+dbFilename+'.db3')
                                ,preventPklDump=True
                               )





dx=m.dx


mx=m.mx








V3_FWVB=m.V3_FWVB





# dito:
V3_ROHR=m.V3_ROHR
V3_KNOT=m.V3_KNOT





V3_VBEL=m.dx.dataFrames['V3_VBEL']





df_FWVB=V3_VBEL.loc[('FWVB',slice(None)),:].reset_index()[['OBJID','NAME_i','NAME_k','fkKI','fkKK','W0','fkLFKT']]


df_FWVB.head()


dfx=pd.merge(df_FWVB,dx.dataFrames['V_BVZ_LFKT'],left_on='fkLFKT', right_on='pk',suffixes=('','_LFKT')).filter(items=df_FWVB.columns.to_list()+['NAME']).rename(columns={'NAME':'LFKT_NAME'})


df_FWVB.shape,dfx.shape


df_FWVB=dfx





df_ROHR=V3_VBEL.loc[('ROHR',slice(None)),:].reset_index()[['OBJID','NAME_i','NAME_k','fkKI','fkKK','BESCHREIBUNG']]





# QMAVAbs: Rohrdurchfluss absolut stationär
# dW: Sollleistung-Istleistung stationär 


t0=pd.Timestamp(mx.df.index[0].strftime('%Y-%m-%d %X.%f'))





QMAV=('STAT'
            ,'ROHR~*~*~*~QMAV'
            ,t0
            ,t0
            )
QMAV


V3_ROHR['QMAVAbs']=V3_ROHR.apply(lambda row: math.fabs(row[QMAV]) ,axis=1)





WSOLL=('STAT'
            ,'FWVB~*~*~*~WSOLL'
            ,t0
            ,t0
            )
WSOLL


W=('STAT'
            ,'FWVB~*~*~*~W'
            ,t0
            ,t0
            )
W


V3_FWVB['dW']=V3_FWVB.apply(lambda row: row[WSOLL]-row[W] ,axis=1)


V3_FWVB.groupby(by='NAME_LFKT').sum()['dW'].filter(regex='^PrN')


V3_FWVB['W']=V3_FWVB[W] # geopandas mag keine nicht flachen Spaltennamen ...


V3_FWVB['dummy']=1





# vorher "QGIS Export" in SIR 3S
# in Oldenburg muss die aufkommende Frage mit Nein beantwortet werden


V3_FWVB = V3_FWVB.dropna(subset=['GEOMWKB'])
V3_ROHR = V3_ROHR.dropna(subset=['GEOMWKB'])


crs='EPSG:25832' 

gs=geopandas.GeoSeries.from_wkb(V3_FWVB['GEOMWKB'],crs=crs)
gdf_FWVB=geopandas.GeoDataFrame(V3_FWVB,geometry=gs,crs=crs)

gs=geopandas.GeoSeries.from_wkb(V3_ROHR['GEOMWKB'],crs=crs)
gdf_ROHR=geopandas.GeoDataFrame(V3_ROHR,geometry=gs,crs=crs)


ma=gdf_ROHR[gdf_ROHR['KVR'].isin([1.,None])].loc[:,['geometry', 'QMAVAbs']].explore(color = 'grey')
gdf_FWVB.loc[:,['geometry','W']].explore(color='red',m=ma)


# 03.04



