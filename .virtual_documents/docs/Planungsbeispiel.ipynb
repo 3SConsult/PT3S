





# KOS auf welches bei der Verarbeitung transformiert wird
crs="EPSG:25832"


# Verschiebung RL
xoff=2.
yoff=0.
zoff=0.


try:
    import Rm
except:
    from PT3S import Rm


# Daten zur Hintergrundkarte
hKartenFormat=Rm.DINA4q # Grundformat
# Image entspricht dann in x dem vorgegebenen Grundformat
# das Image wird in y so angepasst, dass es in x/y dem Kartenausschnitt entspricht; andernfalls haette das Image weiße Ränder
hKartenAufloesung=2*Rm.dpiSize


import logging
import sys
import re
import os
import importlib
import warnings
import math

import pandas as pd
import geopandas
import folium

import pyrosm
from pyrosm.data import sources

from shapely import geometry, ops

import matplotlib
import matplotlib.pyplot as plt
from matplotlib import cm
from matplotlib.colors import ListedColormap
import matplotlib.font_manager as font_manager

import contextily as cx

import numpy as np
import shapely
import osmnx as ox

import sys
import os
import glob
import re

from xml.etree.ElementTree import ElementTree
from xml.etree.ElementTree import Element
from xml.etree.ElementTree import SubElement
import xml.etree.ElementTree as ET

from PIL import Image

logFile='Planungsbeispiel.log' 

logging.basicConfig(filename=logFile
                   ,filemode='w'                 
                   ,level=logging.DEBUG
                   ,format="%(asctime)s ; %(name)-60s ; %(levelname)-7s ; %(message)s"                 
                   )    

logger = logging.getLogger()  

consoleHandler = logging.StreamHandler(sys.stdout)
consoleHandler.setFormatter(logging.Formatter("%(levelname)-7s ; %(message)s"))
consoleHandler.setLevel(logging.INFO)

logger.addHandler(consoleHandler)





pbfDateien=glob.glob('*.PBF')
pbfDateien


if len(pbfDateien) == 0:
    logger.error('keine PBF-Datei im Verzeichnis')
    sys.exit(0)
else:
    pbfDatei=sorted(pbfDateien)[0]
    logger.info('PBF-Datei: {:s}'.format(pbfDatei))


pbfDateiHead,ext=os.path.splitext(pbfDatei)
pbfDateiHead,ext





osm = pyrosm.OSM(pbfDatei)


buildings = osm.get_buildings()


buildings.plot()


buildings.head()


drive_net = osm.get_network(network_type="driving")
drive_net.plot()


drive_net.head(2)


drive_net.columns


drive_net['id'].unique()


landuse = osm.get_landuse()
landuse.plot(column='landuse', legend=True) 





nodes, edges = osm.get_network(nodes=True, network_type="driving")


ax = edges.plot(figsize=(6,6), color="gray")
ax = nodes.plot(ax=ax, color="red", markersize=2.5)


nodes


type(nodes)


edges.columns


#edges['width'].unique()


type(edges)


#[id for id in edges['id'] if id not in drive_net['id']]


G = osm.to_graph(nodes, edges, graph_type="networkx")


ox.plot_graph(G)


ox.folium.plot_graph_folium(G)


type(G)











nodes = nodes.to_crs(crs)
edges = edges.to_crs(crs)
buildings = buildings.to_crs(crs)





nodes.columns


edges.columns


buildings.columns


buildings.head()





nodes['NAME']=nodes['id'].astype('string')
nodes['X']=nodes.centroid.x # Excel-Import
nodes['Y']=nodes.centroid.y # Excel-Import
nodes['XKOR']=nodes['X']
nodes['YKOR']=nodes['Y']
nodes['ZKOR']=0.
nodes['BESCHREIBU']=''
nodes['IDREFERENZ']=nodes['id']


if not nodes[nodes.NAME.duplicated()].empty:
    logger.error('mehrfache Knotennamen!')


if max(nodes.NAME.str.len()) > 10:
    logger.error('Laenge von Roh-Knotennamen >10!')


edges['ID']=edges['id'] # Excel-Import
edges['BESCHREIBU']=edges.apply(lambda row: "OSM: Knoten {!s:s} -> Knoten {!s:s}; Länge: {:10.2f}".format(row['u'],row['v'],row['length']),axis=1)
edges['STRASSE']=edges.apply(lambda row: "{!s:s}".format(row['name']),axis=1)
edges['IDREFERENZ']=edges['id']
edges['SDO-Geometry']=edges.geometry # Excel-Import


#edges


buildings['IDREFERENZ']=buildings['id']
buildings['BESCHREIBU']=buildings.apply(lambda row: "{!s:s};{!s:s};{!s:s};{!s:s};{!s:s};{!s:s}".format( row['addr:city']
                                                                                                       ,row['addr:postcode']
                                                                                                       ,row['addr:street']
                                                                                                       ,row['addr:housenumber']
                                                                                                       ,row['name']
                                                                                                       ,row['building']),axis=1)


fwvb=buildings.copy(deep=True)


fwvb['W0']=fwvb.area


fwvb.set_geometry(fwvb.centroid,inplace=True)























nodeColsShape=['NAME','IDREFERENZ','geometry']
#nodes['NAME']=nodes['NAME'].apply(lambda x: 'V-'+x)
nodes[nodeColsShape].to_file("{:s}Knoten.shp".format(pbfDateiHead))

edgeColsShape=['BESCHREIBU','IDREFERENZ','STRASSE','geometry']
edges[edgeColsShape].to_file("{:s}Kanten.shp".format(pbfDateiHead))

buildingsColsShape=['BESCHREIBU','IDREFERENZ','geometry']
buildings[buildingsColsShape].to_file("{:s}Gebaeude.shp".format(pbfDateiHead))

fwvbColsShape=['BESCHREIBU','IDREFERENZ','W0','geometry']
fwvb[fwvbColsShape].to_file("{:s}FWVB.shp".format(pbfDateiHead))

#nodes['NAME']=nodes['NAME'].apply(lambda x: 'R-'+x[2:])
nodes.set_geometry(nodes.geometry.translate(xoff=xoff,yoff=yoff,zoff=zoff))[nodeColsShape].to_file("{:s}KnotenRL.shp".format(pbfDateiHead))
edges.set_geometry(edges.geometry.translate(xoff=xoff,yoff=yoff,zoff=zoff))[edgeColsShape].to_file("{:s}KantenRL.shp".format(pbfDateiHead))   

#nodes['NAME']=nodes['NAME'].apply(lambda x: x[2:])


edges








root = Element('NewDataSet')





mT=SubElement(root,'MasterTable')
    
c=SubElement(mT,'Enabled')
c.text='true'
        
c=SubElement(mT,'nEntities')
rs,cs=nodes.shape 
c.text="{:d}".format(rs)
    
c=SubElement(mT,'ShapeName')
shpName="{:s}Knoten".format(pbfDateiHead)
c.text=shpName
    
c=SubElement(mT,'GeometryType')
c.text='Point'       
    
c=SubElement(mT,'Sir3STable')
c.text='1'    
    
c=SubElement(mT,'Sir3STableName')
c.text='KNOT'        
    
c=SubElement(mT,'KVR')
c.text='1'    
    
c=SubElement(mT,'HAL')
c.text='false'      
    
c=SubElement(mT,'Import')
c.text='false'      
    
c=SubElement(mT,'Description')
c.text="generiert"
    


mT=SubElement(root,'MasterTable')
    
c=SubElement(mT,'Enabled')
c.text='true'
        
c=SubElement(mT,'nEntities')
rs,cs=nodes.shape 
c.text="{:d}".format(rs)
    
c=SubElement(mT,'ShapeName')
shpName="{:s}KnotenRL".format(pbfDateiHead)
c.text=shpName
    
c=SubElement(mT,'GeometryType')
c.text='Point'       
    
c=SubElement(mT,'Sir3STable')
c.text='1'    
    
c=SubElement(mT,'Sir3STableName')
c.text='KNOT'        
    
c=SubElement(mT,'KVR')
c.text='2'    
    
c=SubElement(mT,'HAL')
c.text='false'      
    
c=SubElement(mT,'Import')
c.text='false'      
    
c=SubElement(mT,'Description')
c.text="generiert"





mT=SubElement(root,'MasterTable')
    
c=SubElement(mT,'Enabled')
c.text='true'
        
c=SubElement(mT,'nEntities')
rs,cs=edges.shape 
c.text="{:d}".format(rs)
    
c=SubElement(mT,'ShapeName')
shpName="{:s}Kanten".format(pbfDateiHead)
c.text=shpName
    
c=SubElement(mT,'GeometryType')
c.text='PolyLine'       
    
c=SubElement(mT,'Sir3STable')
c.text='2'    
    
c=SubElement(mT,'Sir3STableName')
c.text='ROHR'        
    
c=SubElement(mT,'KVR')
c.text='1'    
    
c=SubElement(mT,'HAL')
c.text='false'      
    
c=SubElement(mT,'Import')
c.text='true'      
    
c=SubElement(mT,'Description')
c.text="generiert"


mT=SubElement(root,'MasterTable')
    
c=SubElement(mT,'Enabled')
c.text='true'
        
c=SubElement(mT,'nEntities')
rs,cs=edges.shape 
c.text="{:d}".format(rs)
    
c=SubElement(mT,'ShapeName')
shpName="{:s}KantenRL".format(pbfDateiHead)
c.text=shpName
    
c=SubElement(mT,'GeometryType')
c.text='PolyLine'       
    
c=SubElement(mT,'Sir3STable')
c.text='2'    
    
c=SubElement(mT,'Sir3STableName')
c.text='ROHR'        
    
c=SubElement(mT,'KVR')
c.text='2'    
    
c=SubElement(mT,'HAL')
c.text='false'      
    
c=SubElement(mT,'Import')
c.text='true'      
    
c=SubElement(mT,'Description')
c.text="generiert"





mT=SubElement(root,'MasterTable')
    
c=SubElement(mT,'Enabled')
c.text='true'
        
c=SubElement(mT,'nEntities')
rs,cs=buildings.shape 
c.text="{:d}".format(rs)
    
c=SubElement(mT,'ShapeName')
shpName="{:s}Gebaeude".format(pbfDateiHead)
c.text=shpName
    
c=SubElement(mT,'GeometryType')
c.text='Polygon'       
    
c=SubElement(mT,'Sir3STable')
c.text='7'    
    
c=SubElement(mT,'Sir3STableName')
c.text='PLYG'        
    
c=SubElement(mT,'KVR')
c.text='0'    
    
c=SubElement(mT,'HAL')
c.text='false'      
    
c=SubElement(mT,'Import')
c.text='true'      
    
c=SubElement(mT,'Description')
c.text="generiert"





mT=SubElement(root,'MasterTable')
    
c=SubElement(mT,'Enabled')
c.text='true'
        
c=SubElement(mT,'nEntities')
rs,cs=fwvb.shape 
c.text="{:d}".format(rs)
    
c=SubElement(mT,'ShapeName')
shpName="{:s}FWVB".format(pbfDateiHead)
c.text=shpName
    
c=SubElement(mT,'GeometryType')
c.text='Point'       
    
c=SubElement(mT,'Sir3STable')
c.text='5'    
    
c=SubElement(mT,'Sir3STableName')
c.text='FWVB'        
    
c=SubElement(mT,'KVR')
c.text='0'    
    
c=SubElement(mT,'HAL')
c.text='false'      
    
c=SubElement(mT,'Import')
c.text='true'      
    
c=SubElement(mT,'Description')
c.text="generiert"








tagName="{:s}Knoten".format(pbfDateiHead)

for col in nodeColsShape: 
    if col == 'geometry':
        continue
        
    cD=SubElement(root,tagName)
    
    c=SubElement(cD,'ShapeName')
    c.text=col
    
    c2=SubElement(cD,'Sir3SName')
    if c.text in ['NAME','IDREFERENZ']:
            c2.text=c.text
    else:
            c2.text='NOT_SET'      
        
    c2=SubElement(cD,'DataType')
    if c.text in ['NAME','IDREFERENZ']:
            c2.text='System.String'
    else:
            c2.text='System.Double'    
            
    c3=SubElement(cD,'Description')
    c3.text="generiert"


tagName="{:s}KnotenRL".format(pbfDateiHead)

for col in nodeColsShape: 
    if col == 'geometry':
        continue
        
    cD=SubElement(root,tagName)
    
    c=SubElement(cD,'ShapeName')
    c.text=col
    
    c2=SubElement(cD,'Sir3SName')
    if c.text in ['NAME','IDREFERENZ']:
            c2.text=c.text
    else:
            c2.text='NOT_SET'      
        
    c2=SubElement(cD,'DataType')
    if c.text in ['NAME','IDREFERENZ']:
            c2.text='System.String'
    else:
            c2.text='System.Double'   
            
    c3=SubElement(cD,'Description')
    c3.text="generiert"





tagName="{:s}Kanten".format(pbfDateiHead)

for col in edgeColsShape: 
    if col == 'geometry':
        continue
        
    cD=SubElement(root,tagName)
    
    c=SubElement(cD,'ShapeName')
    c.text=col
    
    c2=SubElement(cD,'Sir3SName')
    if c.text in ['IDREFERENZ','STRASSE']:
            c2.text=c.text
    elif c.text in ['BESCHREIBU']:
            c2.text='BESCHREIBUNG'    
    else:
            c2.text='NOT_SET'      
        
    c2=SubElement(cD,'DataType')
    if c.text in ['BESCHREIBU','IDREFERENZ','STRASSE']:
            c2.text='System.String'
    else:
            c2.text='System.Double'    
            
    c3=SubElement(cD,'Description')
    c3.text="generiert"


tagName="{:s}KantenRL".format(pbfDateiHead)

for col in edgeColsShape: 
    if col == 'geometry':
        continue
        
    cD=SubElement(root,tagName)
    
    c=SubElement(cD,'ShapeName')
    c.text=col
    
    c2=SubElement(cD,'Sir3SName')
    if c.text in ['IDREFERENZ','STRASSE']:
            c2.text=c.text
    elif c.text in ['BESCHREIBU']:
            c2.text='BESCHREIBUNG'    
    else:
            c2.text='NOT_SET'       
        
    c2=SubElement(cD,'DataType')
    if c.text in ['BESCHREIBU','IDREFERENZ','STRASSE']:
            c2.text='System.String'
    else:
            c2.text='System.Double'  
            
    c3=SubElement(cD,'Description')
    c3.text="generiert"





tagName="{:s}Gebaeude".format(pbfDateiHead)


for col in buildingsColsShape: 
    if col == 'geometry':
        continue
        
    cD=SubElement(root,tagName)
    
    c=SubElement(cD,'ShapeName')
    c.text=col
    
    c2=SubElement(cD,'Sir3SName')
    if c.text in ['IDREFERENZ']:
            c2.text=c.text
    elif c.text in ['BESCHREIBU']:
            c2.text='BESCHREIBUNG'            
    else:
            c2.text='NOT_SET'      
        
    c2=SubElement(cD,'DataType')
    if c.text in ['IDREFERENZ']:
            c2.text='System.String'
    elif c.text in ['BESCHREIBU']:
            c2.text='System.String'            
    else:
            c2.text='System.Double'  
            
    c3=SubElement(cD,'Description')
    c3.text="generiert"







tagName="{:s}FWVB".format(pbfDateiHead)

for col in fwvbColsShape: 
    if col == 'geometry':
        continue
        
    cD=SubElement(root,tagName)
    
    c=SubElement(cD,'ShapeName')
    c.text=col
    
    c2=SubElement(cD,'Sir3SName')
    if c.text in ['IDREFERENZ']:
            c2.text=c.text
    elif c.text in ['BESCHREIBU']:
            c2.text='BESCHREIBUNG'        
    elif c.text in ['W0']:
            c2.text='POWER'                
    else:
            c2.text='NOT_SET'      
        
    c2=SubElement(cD,'DataType')
    if c.text in ['IDREFERENZ']:
            c2.text='System.String'
    elif c.text in ['BESCHREIBU']:
            c2.text='System.String'   
    elif c.text in ['W0']:
            c2.text='System.Double'                        
    else:
            c2.text='System.Double'  
            
    c3=SubElement(cD,'Description')
    c3.text="generiert"





tree = ElementTree(root)

ET.indent(tree,' ')

with open("{:s}ShpImpDef.xml".format(pbfDateiHead),'wb') as f:
    tree.write(f, encoding='utf-8', xml_declaration=True)









edges['DI']=100.


fwvb['GebauedeArt']=buildings['building']


fwvb['GebauedeArt']=fwvb['GebauedeArt'].apply(lambda x: 'residential 2nd' if x in ['residential'] else x)
fwvb['GebauedeArt']=fwvb['GebauedeArt'].apply(lambda x: 'residential' if x in ['yes'] else x)





ROHR_linewidth_fac =  0.0125


def plotNFD(     gdf_FWVB        
                ,gdf_ROHR
                ,gdf_Grid=geopandas.GeoDataFrame()

                ,FWVB_markerscaling_col = 'W0'
                ,Pot_W0 = None
                ,FWVB_markerscaling_fac = 0.5

                ,FWVB_edgecolor = 'White'

                # Layout ROHR

                ,colors_ROHR = ['lightgray', 'dimgray']

                ,cmap_color_ROHR = 'DI'
                ,norm_min_ROHR = None 
                ,norm_max_ROHR = None

                ,ROHR_linewidth_col = 'DI'                
                ,ROHR_linewidth_fac = ROHR_linewidth_fac #  0.005

                # Legend FWVB

                ,legend_FWVB_label = None 
                ,legend_FWVB_label_shrink = 1.

                ,yTicks = None
                ,yTickLabels = None

                # Karte
                ,LabelsOnTop = False                               
                ,Map_resolution = 15

                ):


        fig = plt.gcf()
        ax = plt.gca()
        
   
        
        tmp_ges =gdf_FWVB[[FWVB_markerscaling_col,'GebauedeArt',  'geometry']]
    
        # fuer u.a. Linienstaerke des Markers
        norm_FWVB_size = plt.Normalize(vmin = tmp_ges[FWVB_markerscaling_col].min(), vmax = tmp_ges[FWVB_markerscaling_col].max()) #Festlegen wie diese Spalte normiert werden soll
        
        #Erstellen der Colormap fuer die Rohre
        if norm_min_ROHR == None:            
            norm_min_ROHR=gdf_ROHR[cmap_color_ROHR].min()
        if norm_max_ROHR == None:
            norm_max_ROHR=gdf_ROHR[cmap_color_ROHR].max()
        norm_ROHR_color = plt.Normalize(vmin=norm_min_ROHR, vmax=norm_max_ROHR)
        cmap_ROHR = matplotlib.colors.LinearSegmentedColormap.from_list('ROHR', colors_ROHR, N = 256)
        
        # Farben
        #cmap = ListedColormap([color_Bestand, color_Pot_adr, color_Pot_str])
        
        # Plotten
        tmp_ges.plot(ax = ax
                    ,marker = '.'
                    ,markersize = tmp_ges[FWVB_markerscaling_col] * FWVB_markerscaling_fac #Markersize ist abhaengig von der zum Markerscaling ausgewaehlten Spalte und einem Faktor
                    ,linewidth = norm_FWVB_size(tmp_ges[FWVB_markerscaling_col]) / 2 #FWVB Randdicke, abhaengig von der zum Markerscaling ausgewaehlten Spalte. Die Randdicke wird im Anschluss nochmal durch 2 geteilt.
                    #,alpha =  0.9 - (norm_FWVB_size(tmp_ges[FWVB_markerscaling_col]) / 2) #FWVB Durchsichtigkeit, abhaengig von der zum Markerscaling ausgewaehlten Spalte. Mit dem Teilen durch 2 ist die maximale Durchsichtigkeit bei 0.5 (0 bei Kleinen-0.5 bei Grossen). Um dies umzudrehen zieht man von 1 ab. Hier wird von 0.9 abgezogen. Damit sind kleinsten FWVB immer noch leicht durchsichtig und die Groessten trotzdem noch erkennbar (0.9 bei Kleinen - 0.4 bei Grossen) 
                    ,zorder = 2 #Reihenfolge zu den anderen geploteten Objekten (je hoeher die Zahl, desto hoeher die geplottete Ebene; Hoehe im Sinne von Vorder- und Hintergrund)
                    ,legend = True
                    ,categorical = True
                   ,column = 'GebauedeArt' #'FUNKTION'
                #    ,cmap = cmap
                    )


        gdf_ROHR.plot(ax = ax
                                ,zorder = 1
                                ,linewidth = gdf_ROHR[ROHR_linewidth_col] * ROHR_linewidth_fac
                                ,color = cmap_ROHR(norm_ROHR_color(gdf_ROHR[cmap_color_ROHR])))

        if not gdf_Grid.empty:
            gdf_Grid.plot(ax = ax,edgecolor='black',alpha=1,facecolor='none')
            
            for index,row in gdf_Grid.iterrows():
                pass
                ax.text(row['minx'],row['maxy'],str(index+1),fontsize='x-large',ha='right')
        
        
        if LabelsOnTop:
            cx.add_basemap(ax, crs=gdf_FWVB.crs.to_string(), source = cx.providers.CartoDB.PositronNoLabels, zoom = Map_resolution)
            cx.add_basemap(ax, crs=gdf_FWVB.crs.to_string(), source = cx.providers.CartoDB.PositronOnlyLabels, zoom = Map_resolution)
        else:
            cx.add_basemap(ax, crs=gdf_FWVB.crs.to_string(), source = cx.providers.CartoDB.Positron, zoom = Map_resolution)

        if legend_FWVB_label == None:
            legend_FWVB_label='Test'

        plt.axis('off')





# Plotten
fig=plt.figure(figsize=hKartenFormat,dpi=Rm.dpiSize)

plotNFD(gdf_FWVB = fwvb.sort_values(by = 'W0', ascending = False)
       
       ,gdf_ROHR =edges
     #  ,Map_resolution = 15 # 18
      # ,LabelsOnTop = True
     
          
       )
plt.tight_layout(pad=0.)

ax=plt.gca()

plt.savefig("{:s}A.jpg".format(pbfDateiHead),dpi=2*Rm.dpiSize)





(xWorldMin,xWorldMax)=ax.get_xlim()
(yWorldMin,yWorldMax)=ax.get_ylim()
dxWorld=xWorldMax-xWorldMin
dyWorld=yWorldMax-yWorldMin
xWorldMin,xWorldMax,dxWorld,yWorldMin,yWorldMax,dyWorld,dxWorld/dyWorld
# (1646.1983657019446, 1209.3259177068248, 1.3612528612828672)


#Image.MAX_IMAGE_PIXELS=None 
#img = Image.open("{:s}A.jpg".format(pbfDateiHead))
#img.width,img.height,img.width/img.height
##(26933, 19054, 1.4135089744935447)
os.remove("{:s}A.jpg".format(pbfDateiHead))


(xBlatt,yBlatt)=hKartenFormat
xBlatt,yBlatt


xPlot=xBlatt
yPlot=xBlatt*dyWorld/dxWorld
(xPlot,yPlot,xPlot/yPlot)





# Plotten
fig=plt.figure(figsize=(xPlot,yPlot),
               dpi=hKartenAufloesung)

plotNFD(gdf_FWVB = fwvb.sort_values(by = 'W0', ascending = False)
       
       ,gdf_ROHR =edges
       ,Map_resolution = 18
       ,LabelsOnTop = True
     
          
       )
plt.tight_layout(pad=0.)

ax=plt.gca()

plt.savefig("{:s}.jpg".format(pbfDateiHead),dpi=16*hKartenAufloesung)


(xWorldMin,xWorldMax)=ax.get_xlim()
(yWorldMin,yWorldMax)=ax.get_ylim()
Image.MAX_IMAGE_PIXELS=None 
img = Image.open("{:s}.jpg".format(pbfDateiHead))

#1
#2     3

with open("{:s}.jpgw".format(pbfDateiHead),'w') as f:
    
    f.write("{:16.10f}\n".format(0.001))
    f.write("{:16.10f}\n".format(0.001))
    f.write("{:16.10f}\n".format(0.001))
    f.write("{:16.10f}\n".format(0.001))
    # Ankerpunkt: 1 (Ursprung KOS Image)
    f.write("{:16.2f}\n".format(xWorldMin))
    f.write("{:16.2f}\n".format(yWorldMax))
    # 1
    f.write("[Pic(x,y)  Ground(X,Y)]\t{:17.2f}\t{:17.2f}\t{:17.2f}\t{:17.2f}\n".format(0.,0.,xWorldMin,yWorldMax))
    # 2
    f.write("[Pic(x,y)  Ground(X,Y)]\t{:17.2f}\t{:17.2f}\t{:17.2f}\t{:17.2f}\n".format(0.,img.height-1,xWorldMin,yWorldMin))
    # 3
    f.write("[Pic(x,y)  Ground(X,Y)]\t{:17.2f}\t{:17.2f}\t{:17.2f}\t{:17.2f}\n".format(img.width-1,img.height-1,xWorldMax,yWorldMin))



