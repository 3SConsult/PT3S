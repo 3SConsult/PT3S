


try:
    from PT3S import dxAndMxHelperFcts
except:
    import dxAndMxHelperFcts


m=dxAndMxHelperFcts.readDxAndMx('../Examples/Wärmenetz-Planungsbeispiel.db3')


dfROHR=m.V3_ROHR


dfROHR.head()
