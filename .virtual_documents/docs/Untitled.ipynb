


import os
import logging

logger = logging.getLogger()  

logFileName= r"BWV.log" 

loglevel = logging.DEBUG
logging.basicConfig(filename=logFileName
                        ,filemode='w'
                        ,level=loglevel
                        ,format="%(asctime)s ; %(name)-60s ; %(levelname)-7s ; %(message)s")    

fileHandler = logging.FileHandler(logFileName)     

logger.addHandler(fileHandler)

consoleHandler = logging.StreamHandler()
consoleHandler.setFormatter(logging.Formatter("%(levelname)-7s ; %(message)s"))

consoleHandler.setLevel(logging.INFO) # ggf. DEBUG/WARNING/ERROR
logger.addHandler(consoleHandler)

import pandas as pd
import geopandas as gpd
import networkx as nx
import glob
import re
import numpy as np
import folium
from folium.plugins import HeatMap
import doctest





dbFilename="Wärmenetz-Planungsbeispiel"#'../Examples/Wärmenetz-Planungsbeispiel.db3'





try:
    from PT3S import dxAndMxHelperFcts
except:
    import dxAndMxHelperFcts


importlib.reload(dxAndMxHelperFcts)   


m=dxAndMxHelperFcts.readDxAndMx(dbFile=os.path.join('../Examples/'+dbFilename+'.db3'))





dfLAYR=m.dfLAYR


dfLAYR.head()


dfUpd=dfLAYR[dfLAYR['TYPE'].isin(['KNOT'])].head()[['TYPE','ID']]
dfUpd


xk=dfLAYR[dfLAYR['NAME'].isin(['Test'])]['tk'].iloc[0]


#sorted(dfLAYR['NAME'].unique())


dfUpd['table']='LAYR'


dfUpd['attrib']='OBJS'


dfUpd['xk']='tk'


dfUpd['xkValue']=xk


dfUpd['attribValue']=dfUpd.apply(lambda row: "{:s}~{:s}\t".format(row['TYPE'],row['ID']).encode('utf-8'),axis=1)


dfUpd


dfUpd.dtypes


dfUpd2=dfUpd.groupby(by=['xkValue']).agg({'xkValue': 'first'
                                   ,'table': 'first'
                                   ,'attrib': 'first'
                                   ,'xk': 'first'
                                   , 'attribValue': 'sum'}).reset_index(drop=True)
dfUpd2['attribValue']=dfUpd2['attribValue'].apply(lambda x: x.rstrip())
dfUpd2


#m.dx.update(dfUpd2)








dfWBLZ=m.dfWBLZ


dfWBLZ.head()


m.V3_WBLZ





dx=m.dx


mx=m.mx





V3_FWVB=dx.dataFrames['FWVB']
# kann zu diesem "Skriptzeitpunkt" nur Sachdaten enthalten da SIR 3S ja in der Modell-DB keine Ergebnisse mehr abspeichert


sorted(V3_FWVB.columns.to_list())


V3_FWVB.describe()


V3_FWVB.head(10)





V3_FWVB.head(2)








mx.df.columns
#mx.df enthält aus Lesezeit- und auch Arbeitsspeichergründen keine "Vektorergebnisse"  





# enthält "Vektorergebnisse" für STAT, TMIN, TNAX:
mx.dfVecAggs.index


mx.dfVecAggs.index








V3_FWVB=m.V3_FWVB





# dito:
V3_ROHR=m.V3_ROHR
V3_KNOT=m.V3_KNOT





V3_VBEL=m.dx.dataFrames['V3_VBEL']


V3_VBEL.head()


#V3_VBEL.columns.to_list()





#V3_VBEL.loc[('FWVB',slice(None)),:].reset_index().head().columns.to_list()


df_FWVB=V3_VBEL.loc[('FWVB',slice(None)),:].reset_index()[['OBJID','NAME_i','NAME_k','fkKI','fkKK','W0','fkLFKT']]


df_FWVB.head()


dfx=pd.merge(df_FWVB,dx.dataFrames['V_BVZ_LFKT'],left_on='fkLFKT', right_on='pk',suffixes=('','_LFKT')).filter(items=df_FWVB.columns.to_list()+['NAME']).rename(columns={'NAME':'LFKT_NAME'})


df_FWVB.shape,dfx.shape


df_FWVB=dfx





df_ROHR=V3_VBEL.loc[('ROHR',slice(None)),:].reset_index()[['OBJID','NAME_i','NAME_k','fkKI','fkKK','BESCHREIBUNG']]


df_ROHR.head()





# QMAVAbs: Rohrdurchfluss absolut stationär
# dW: Sollleistung-Istleistung stationär 


t0=pd.Timestamp(mx.df.index[0].strftime('%Y-%m-%d %X.%f'))





QMAV=('STAT'
            ,'ROHR~*~*~*~QMAV'
            ,t0
            ,t0
            )
QMAV


V3_ROHR['QMAVAbs']=V3_ROHR.apply(lambda row: math.fabs(row[QMAV]) ,axis=1)





WSOLL=('STAT'
            ,'FWVB~*~*~*~WSOLL'
            ,t0
            ,t0
            )
WSOLL


W=('STAT'
            ,'FWVB~*~*~*~W'
            ,t0
            ,t0
            )
W


V3_FWVB['dW']=V3_FWVB.apply(lambda row: row[WSOLL]-row[W] ,axis=1)


V3_FWVB.groupby(by='NAME_LFKT').sum()['dW'].filter(regex='^PrN')


V3_FWVB['W']=V3_FWVB[W] # geopandas mag keine nicht flachen Spaltennamen ...


V3_FWVB['dummy']=1





# vorher "QGIS Export" in SIR 3S
# in Oldenburg muss die aufkommende Frage mit Nein beantwortet werden


crs='EPSG:25832' 

gs=geopandas.GeoSeries.from_wkb(V3_FWVB['GEOMWKB'],crs=crs)
gdf_FWVB=geopandas.GeoDataFrame(V3_FWVB,geometry=gs,crs=crs)

gs=geopandas.GeoSeries.from_wkb(V3_ROHR['GEOMWKB'],crs=crs)
gdf_ROHR=geopandas.GeoDataFrame(V3_ROHR,geometry=gs,crs=crs)


ma=gdf_ROHR[gdf_ROHR['KVR'].isin([1.,None])].loc[:,['geometry', 'QMAVAbs']].explore(color = 'grey')
gdf_FWVB.loc[:,['geometry','W']].explore(color='red',m=ma)
